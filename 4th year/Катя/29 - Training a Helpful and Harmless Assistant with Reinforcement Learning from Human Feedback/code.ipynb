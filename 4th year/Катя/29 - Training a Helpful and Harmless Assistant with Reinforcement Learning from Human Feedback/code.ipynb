{
  "nbformat": 4,
  "nbformat_minor": 0,
  "metadata": {
    "colab": {
      "provenance": [],
      "collapsed_sections": [
        "N8iOTpSXWo43"
      ]
    },
    "kernelspec": {
      "name": "python3",
      "display_name": "Python 3"
    },
    "language_info": {
      "name": "python"
    },
    "widgets": {
      "application/vnd.jupyter.widget-state+json": {
        "eaf9d552242e4ef391e1331b6f95634f": {
          "model_module": "@jupyter-widgets/controls",
          "model_name": "VBoxModel",
          "model_module_version": "1.5.0",
          "state": {
            "_dom_classes": [],
            "_model_module": "@jupyter-widgets/controls",
            "_model_module_version": "1.5.0",
            "_model_name": "VBoxModel",
            "_view_count": null,
            "_view_module": "@jupyter-widgets/controls",
            "_view_module_version": "1.5.0",
            "_view_name": "VBoxView",
            "box_style": "",
            "children": [
              "IPY_MODEL_449b0a58e1ce497585ba0b79e51cc56a",
              "IPY_MODEL_77dca87336434d67a43eac584bedf5ce"
            ],
            "layout": "IPY_MODEL_ecfa1ad8feb34249a7a7f5cda77e77ea"
          }
        },
        "449b0a58e1ce497585ba0b79e51cc56a": {
          "model_module": "@jupyter-widgets/controls",
          "model_name": "LabelModel",
          "model_module_version": "1.5.0",
          "state": {
            "_dom_classes": [],
            "_model_module": "@jupyter-widgets/controls",
            "_model_module_version": "1.5.0",
            "_model_name": "LabelModel",
            "_view_count": null,
            "_view_module": "@jupyter-widgets/controls",
            "_view_module_version": "1.5.0",
            "_view_name": "LabelView",
            "description": "",
            "description_tooltip": null,
            "layout": "IPY_MODEL_ede37b4505454a2bbefa285a09b106d6",
            "placeholder": "​",
            "style": "IPY_MODEL_6ef89a69483f41e0bfa0afccfc1a3b65",
            "value": "0.012 MB of 0.025 MB uploaded (0.000 MB deduped)\r"
          }
        },
        "77dca87336434d67a43eac584bedf5ce": {
          "model_module": "@jupyter-widgets/controls",
          "model_name": "FloatProgressModel",
          "model_module_version": "1.5.0",
          "state": {
            "_dom_classes": [],
            "_model_module": "@jupyter-widgets/controls",
            "_model_module_version": "1.5.0",
            "_model_name": "FloatProgressModel",
            "_view_count": null,
            "_view_module": "@jupyter-widgets/controls",
            "_view_module_version": "1.5.0",
            "_view_name": "ProgressView",
            "bar_style": "",
            "description": "",
            "description_tooltip": null,
            "layout": "IPY_MODEL_a9ef6ffc354e481d8eb60aa4361c660c",
            "max": 1,
            "min": 0,
            "orientation": "horizontal",
            "style": "IPY_MODEL_3e8acb1f86db4b21babbfe250265257c",
            "value": 0.4948363248351816
          }
        },
        "ecfa1ad8feb34249a7a7f5cda77e77ea": {
          "model_module": "@jupyter-widgets/base",
          "model_name": "LayoutModel",
          "model_module_version": "1.2.0",
          "state": {
            "_model_module": "@jupyter-widgets/base",
            "_model_module_version": "1.2.0",
            "_model_name": "LayoutModel",
            "_view_count": null,
            "_view_module": "@jupyter-widgets/base",
            "_view_module_version": "1.2.0",
            "_view_name": "LayoutView",
            "align_content": null,
            "align_items": null,
            "align_self": null,
            "border": null,
            "bottom": null,
            "display": null,
            "flex": null,
            "flex_flow": null,
            "grid_area": null,
            "grid_auto_columns": null,
            "grid_auto_flow": null,
            "grid_auto_rows": null,
            "grid_column": null,
            "grid_gap": null,
            "grid_row": null,
            "grid_template_areas": null,
            "grid_template_columns": null,
            "grid_template_rows": null,
            "height": null,
            "justify_content": null,
            "justify_items": null,
            "left": null,
            "margin": null,
            "max_height": null,
            "max_width": null,
            "min_height": null,
            "min_width": null,
            "object_fit": null,
            "object_position": null,
            "order": null,
            "overflow": null,
            "overflow_x": null,
            "overflow_y": null,
            "padding": null,
            "right": null,
            "top": null,
            "visibility": null,
            "width": null
          }
        },
        "ede37b4505454a2bbefa285a09b106d6": {
          "model_module": "@jupyter-widgets/base",
          "model_name": "LayoutModel",
          "model_module_version": "1.2.0",
          "state": {
            "_model_module": "@jupyter-widgets/base",
            "_model_module_version": "1.2.0",
            "_model_name": "LayoutModel",
            "_view_count": null,
            "_view_module": "@jupyter-widgets/base",
            "_view_module_version": "1.2.0",
            "_view_name": "LayoutView",
            "align_content": null,
            "align_items": null,
            "align_self": null,
            "border": null,
            "bottom": null,
            "display": null,
            "flex": null,
            "flex_flow": null,
            "grid_area": null,
            "grid_auto_columns": null,
            "grid_auto_flow": null,
            "grid_auto_rows": null,
            "grid_column": null,
            "grid_gap": null,
            "grid_row": null,
            "grid_template_areas": null,
            "grid_template_columns": null,
            "grid_template_rows": null,
            "height": null,
            "justify_content": null,
            "justify_items": null,
            "left": null,
            "margin": null,
            "max_height": null,
            "max_width": null,
            "min_height": null,
            "min_width": null,
            "object_fit": null,
            "object_position": null,
            "order": null,
            "overflow": null,
            "overflow_x": null,
            "overflow_y": null,
            "padding": null,
            "right": null,
            "top": null,
            "visibility": null,
            "width": null
          }
        },
        "6ef89a69483f41e0bfa0afccfc1a3b65": {
          "model_module": "@jupyter-widgets/controls",
          "model_name": "DescriptionStyleModel",
          "model_module_version": "1.5.0",
          "state": {
            "_model_module": "@jupyter-widgets/controls",
            "_model_module_version": "1.5.0",
            "_model_name": "DescriptionStyleModel",
            "_view_count": null,
            "_view_module": "@jupyter-widgets/base",
            "_view_module_version": "1.2.0",
            "_view_name": "StyleView",
            "description_width": ""
          }
        },
        "a9ef6ffc354e481d8eb60aa4361c660c": {
          "model_module": "@jupyter-widgets/base",
          "model_name": "LayoutModel",
          "model_module_version": "1.2.0",
          "state": {
            "_model_module": "@jupyter-widgets/base",
            "_model_module_version": "1.2.0",
            "_model_name": "LayoutModel",
            "_view_count": null,
            "_view_module": "@jupyter-widgets/base",
            "_view_module_version": "1.2.0",
            "_view_name": "LayoutView",
            "align_content": null,
            "align_items": null,
            "align_self": null,
            "border": null,
            "bottom": null,
            "display": null,
            "flex": null,
            "flex_flow": null,
            "grid_area": null,
            "grid_auto_columns": null,
            "grid_auto_flow": null,
            "grid_auto_rows": null,
            "grid_column": null,
            "grid_gap": null,
            "grid_row": null,
            "grid_template_areas": null,
            "grid_template_columns": null,
            "grid_template_rows": null,
            "height": null,
            "justify_content": null,
            "justify_items": null,
            "left": null,
            "margin": null,
            "max_height": null,
            "max_width": null,
            "min_height": null,
            "min_width": null,
            "object_fit": null,
            "object_position": null,
            "order": null,
            "overflow": null,
            "overflow_x": null,
            "overflow_y": null,
            "padding": null,
            "right": null,
            "top": null,
            "visibility": null,
            "width": null
          }
        },
        "3e8acb1f86db4b21babbfe250265257c": {
          "model_module": "@jupyter-widgets/controls",
          "model_name": "ProgressStyleModel",
          "model_module_version": "1.5.0",
          "state": {
            "_model_module": "@jupyter-widgets/controls",
            "_model_module_version": "1.5.0",
            "_model_name": "ProgressStyleModel",
            "_view_count": null,
            "_view_module": "@jupyter-widgets/base",
            "_view_module_version": "1.2.0",
            "_view_name": "StyleView",
            "bar_color": null,
            "description_width": ""
          }
        },
        "096624d5bee947bf8043c8f014cc4183": {
          "model_module": "@jupyter-widgets/controls",
          "model_name": "VBoxModel",
          "model_module_version": "1.5.0",
          "state": {
            "_dom_classes": [],
            "_model_module": "@jupyter-widgets/controls",
            "_model_module_version": "1.5.0",
            "_model_name": "VBoxModel",
            "_view_count": null,
            "_view_module": "@jupyter-widgets/controls",
            "_view_module_version": "1.5.0",
            "_view_name": "VBoxView",
            "box_style": "",
            "children": [
              "IPY_MODEL_2bed0d7b90d343d886b77e71cb5ecd19",
              "IPY_MODEL_d77d5aaba6a0414a935092509723e323"
            ],
            "layout": "IPY_MODEL_6656721b726b47538c469e169fdf42da"
          }
        },
        "2bed0d7b90d343d886b77e71cb5ecd19": {
          "model_module": "@jupyter-widgets/controls",
          "model_name": "LabelModel",
          "model_module_version": "1.5.0",
          "state": {
            "_dom_classes": [],
            "_model_module": "@jupyter-widgets/controls",
            "_model_module_version": "1.5.0",
            "_model_name": "LabelModel",
            "_view_count": null,
            "_view_module": "@jupyter-widgets/controls",
            "_view_module_version": "1.5.0",
            "_view_name": "LabelView",
            "description": "",
            "description_tooltip": null,
            "layout": "IPY_MODEL_03b0d9fc1a7d4677946c032bdb0b1bde",
            "placeholder": "​",
            "style": "IPY_MODEL_aebdb8d8c1044857afe9d51aac3f490b",
            "value": "0.012 MB of 0.012 MB uploaded (0.000 MB deduped)\r"
          }
        },
        "d77d5aaba6a0414a935092509723e323": {
          "model_module": "@jupyter-widgets/controls",
          "model_name": "FloatProgressModel",
          "model_module_version": "1.5.0",
          "state": {
            "_dom_classes": [],
            "_model_module": "@jupyter-widgets/controls",
            "_model_module_version": "1.5.0",
            "_model_name": "FloatProgressModel",
            "_view_count": null,
            "_view_module": "@jupyter-widgets/controls",
            "_view_module_version": "1.5.0",
            "_view_name": "ProgressView",
            "bar_style": "",
            "description": "",
            "description_tooltip": null,
            "layout": "IPY_MODEL_e37a6e0735234727a105844428daa4fd",
            "max": 1,
            "min": 0,
            "orientation": "horizontal",
            "style": "IPY_MODEL_8fb3b354be1e47c6885e66d68b45cb94",
            "value": 1
          }
        },
        "6656721b726b47538c469e169fdf42da": {
          "model_module": "@jupyter-widgets/base",
          "model_name": "LayoutModel",
          "model_module_version": "1.2.0",
          "state": {
            "_model_module": "@jupyter-widgets/base",
            "_model_module_version": "1.2.0",
            "_model_name": "LayoutModel",
            "_view_count": null,
            "_view_module": "@jupyter-widgets/base",
            "_view_module_version": "1.2.0",
            "_view_name": "LayoutView",
            "align_content": null,
            "align_items": null,
            "align_self": null,
            "border": null,
            "bottom": null,
            "display": null,
            "flex": null,
            "flex_flow": null,
            "grid_area": null,
            "grid_auto_columns": null,
            "grid_auto_flow": null,
            "grid_auto_rows": null,
            "grid_column": null,
            "grid_gap": null,
            "grid_row": null,
            "grid_template_areas": null,
            "grid_template_columns": null,
            "grid_template_rows": null,
            "height": null,
            "justify_content": null,
            "justify_items": null,
            "left": null,
            "margin": null,
            "max_height": null,
            "max_width": null,
            "min_height": null,
            "min_width": null,
            "object_fit": null,
            "object_position": null,
            "order": null,
            "overflow": null,
            "overflow_x": null,
            "overflow_y": null,
            "padding": null,
            "right": null,
            "top": null,
            "visibility": null,
            "width": null
          }
        },
        "03b0d9fc1a7d4677946c032bdb0b1bde": {
          "model_module": "@jupyter-widgets/base",
          "model_name": "LayoutModel",
          "model_module_version": "1.2.0",
          "state": {
            "_model_module": "@jupyter-widgets/base",
            "_model_module_version": "1.2.0",
            "_model_name": "LayoutModel",
            "_view_count": null,
            "_view_module": "@jupyter-widgets/base",
            "_view_module_version": "1.2.0",
            "_view_name": "LayoutView",
            "align_content": null,
            "align_items": null,
            "align_self": null,
            "border": null,
            "bottom": null,
            "display": null,
            "flex": null,
            "flex_flow": null,
            "grid_area": null,
            "grid_auto_columns": null,
            "grid_auto_flow": null,
            "grid_auto_rows": null,
            "grid_column": null,
            "grid_gap": null,
            "grid_row": null,
            "grid_template_areas": null,
            "grid_template_columns": null,
            "grid_template_rows": null,
            "height": null,
            "justify_content": null,
            "justify_items": null,
            "left": null,
            "margin": null,
            "max_height": null,
            "max_width": null,
            "min_height": null,
            "min_width": null,
            "object_fit": null,
            "object_position": null,
            "order": null,
            "overflow": null,
            "overflow_x": null,
            "overflow_y": null,
            "padding": null,
            "right": null,
            "top": null,
            "visibility": null,
            "width": null
          }
        },
        "aebdb8d8c1044857afe9d51aac3f490b": {
          "model_module": "@jupyter-widgets/controls",
          "model_name": "DescriptionStyleModel",
          "model_module_version": "1.5.0",
          "state": {
            "_model_module": "@jupyter-widgets/controls",
            "_model_module_version": "1.5.0",
            "_model_name": "DescriptionStyleModel",
            "_view_count": null,
            "_view_module": "@jupyter-widgets/base",
            "_view_module_version": "1.2.0",
            "_view_name": "StyleView",
            "description_width": ""
          }
        },
        "e37a6e0735234727a105844428daa4fd": {
          "model_module": "@jupyter-widgets/base",
          "model_name": "LayoutModel",
          "model_module_version": "1.2.0",
          "state": {
            "_model_module": "@jupyter-widgets/base",
            "_model_module_version": "1.2.0",
            "_model_name": "LayoutModel",
            "_view_count": null,
            "_view_module": "@jupyter-widgets/base",
            "_view_module_version": "1.2.0",
            "_view_name": "LayoutView",
            "align_content": null,
            "align_items": null,
            "align_self": null,
            "border": null,
            "bottom": null,
            "display": null,
            "flex": null,
            "flex_flow": null,
            "grid_area": null,
            "grid_auto_columns": null,
            "grid_auto_flow": null,
            "grid_auto_rows": null,
            "grid_column": null,
            "grid_gap": null,
            "grid_row": null,
            "grid_template_areas": null,
            "grid_template_columns": null,
            "grid_template_rows": null,
            "height": null,
            "justify_content": null,
            "justify_items": null,
            "left": null,
            "margin": null,
            "max_height": null,
            "max_width": null,
            "min_height": null,
            "min_width": null,
            "object_fit": null,
            "object_position": null,
            "order": null,
            "overflow": null,
            "overflow_x": null,
            "overflow_y": null,
            "padding": null,
            "right": null,
            "top": null,
            "visibility": null,
            "width": null
          }
        },
        "8fb3b354be1e47c6885e66d68b45cb94": {
          "model_module": "@jupyter-widgets/controls",
          "model_name": "ProgressStyleModel",
          "model_module_version": "1.5.0",
          "state": {
            "_model_module": "@jupyter-widgets/controls",
            "_model_module_version": "1.5.0",
            "_model_name": "ProgressStyleModel",
            "_view_count": null,
            "_view_module": "@jupyter-widgets/base",
            "_view_module_version": "1.2.0",
            "_view_name": "StyleView",
            "bar_color": null,
            "description_width": ""
          }
        }
      }
    }
  },
  "cells": [
    {
      "cell_type": "markdown",
      "source": [
        "<font size=6><center>Training a Helpful and Harmless Assistant with Reinforcement Learning from Human Feedback</center></font>\n"
      ],
      "metadata": {
        "id": "H-D0B7_AGS4_"
      }
    },
    {
      "cell_type": "markdown",
      "source": [
        "#Shamanize to get TRLX library"
      ],
      "metadata": {
        "id": "N8iOTpSXWo43"
      }
    },
    {
      "cell_type": "code",
      "source": [
        "!rm -r trlx_folder\n",
        "!rm -r ./trlx \n",
        "!rm -r ./configs \n",
        "!rm -r ./docs \n",
        "!rm -r ./examples \n",
        "!rm -r ./tests \n",
        "!rm -r ./trlx.egg-info "
      ],
      "metadata": {
        "colab": {
          "base_uri": "https://localhost:8080/"
        },
        "id": "EguO4C7gdRlL",
        "outputId": "81f34dce-1616-4828-e524-fc7b289fdfac"
      },
      "execution_count": 2,
      "outputs": [
        {
          "output_type": "stream",
          "name": "stdout",
          "text": [
            "rm: cannot remove 'trlx_folder': No such file or directory\n",
            "rm: cannot remove './trlx': No such file or directory\n",
            "rm: cannot remove './configs': No such file or directory\n",
            "rm: cannot remove './docs': No such file or directory\n",
            "rm: cannot remove './examples': No such file or directory\n",
            "rm: cannot remove './tests': No such file or directory\n",
            "rm: cannot remove './trlx.egg-info': No such file or directory\n"
          ]
        }
      ]
    },
    {
      "cell_type": "code",
      "source": [
        "!git clone https://github.com/CarperAI/trlx.git && cd trlx && pip3 install torch --extra-index-url https://download.pytorch.org/whl/cu116 && pip3 install -e .\n",
        "!mv ./trlx ./trlx_folder\n",
        "!touch ./trlx_folder/__init__.py\n",
        "!echo import trlx_folder.trlx as trlx > ./trlx_folder/__init__.py\n",
        "!ln -s ./trlx_folder/trlx ./trlx \n",
        "!ln -s ./trlx_folder/configs ./configs \n",
        "!ln -s ./trlx_folder/docs ./docs \n",
        "!ln -s ./trlx_folder/examples ./examples \n",
        "!ln -s ./trlx_folder/tests ./tests \n",
        "!ln -s ./trlx_folder/trlx.egg-info ./trlx.egg-info \n",
        "!ln -s ./trlx_folder/.git .git\n",
        "!ln -s ./trlx_folder/.github .github"
      ],
      "metadata": {
        "id": "1sFXcH6CVaTR",
        "colab": {
          "base_uri": "https://localhost:8080/"
        },
        "outputId": "3148b803-37c4-4412-b120-364695761296"
      },
      "execution_count": 3,
      "outputs": [
        {
          "output_type": "stream",
          "name": "stdout",
          "text": [
            "Cloning into 'trlx'...\n",
            "remote: Enumerating objects: 4718, done.\u001b[K\n",
            "remote: Counting objects: 100% (523/523), done.\u001b[K\n",
            "remote: Compressing objects: 100% (236/236), done.\u001b[K\n",
            "remote: Total 4718 (delta 350), reused 426 (delta 284), pack-reused 4195\u001b[K\n",
            "Receiving objects: 100% (4718/4718), 46.07 MiB | 14.57 MiB/s, done.\n",
            "Resolving deltas: 100% (2914/2914), done.\n",
            "Looking in indexes: https://pypi.org/simple, https://us-python.pkg.dev/colab-wheels/public/simple/, https://download.pytorch.org/whl/cu116\n",
            "Requirement already satisfied: torch in /usr/local/lib/python3.8/dist-packages (1.13.1+cu116)\n",
            "Requirement already satisfied: typing-extensions in /usr/local/lib/python3.8/dist-packages (from torch) (4.4.0)\n",
            "Looking in indexes: https://pypi.org/simple, https://us-python.pkg.dev/colab-wheels/public/simple/\n",
            "Obtaining file:///content/trlx\n",
            "  Installing build dependencies ... \u001b[?25l\u001b[?25hdone\n",
            "  Checking if build backend supports build_editable ... \u001b[?25l\u001b[?25hdone\n",
            "  Getting requirements to build wheel ... \u001b[?25l\u001b[?25hdone\n",
            "  Installing backend dependencies ... \u001b[?25l\u001b[?25hdone\n",
            "  Preparing metadata (pyproject.toml) ... \u001b[?25l\u001b[?25hdone\n",
            "Collecting wandb>=0.13.5\n",
            "  Downloading wandb-0.13.9-py2.py3-none-any.whl (2.0 MB)\n",
            "\u001b[2K     \u001b[90m━━━━━━━━━━━━━━━━━━━━━━━━━━━━━━━━━━━━━━━━\u001b[0m \u001b[32m2.0/2.0 MB\u001b[0m \u001b[31m31.0 MB/s\u001b[0m eta \u001b[36m0:00:00\u001b[0m\n",
            "\u001b[?25hCollecting deepspeed>=0.7.3\n",
            "  Downloading deepspeed-0.8.0.tar.gz (749 kB)\n",
            "\u001b[2K     \u001b[90m━━━━━━━━━━━━━━━━━━━━━━━━━━━━━━━━━━━━━━\u001b[0m \u001b[32m749.9/749.9 KB\u001b[0m \u001b[31m47.8 MB/s\u001b[0m eta \u001b[36m0:00:00\u001b[0m\n",
            "\u001b[?25h  Preparing metadata (setup.py) ... \u001b[?25l\u001b[?25hdone\n",
            "Requirement already satisfied: networkx in /usr/local/lib/python3.8/dist-packages (from trlx==0.3.0) (3.0)\n",
            "Requirement already satisfied: tqdm in /usr/local/lib/python3.8/dist-packages (from trlx==0.3.0) (4.64.1)\n",
            "Collecting einops>=0.4.1\n",
            "  Downloading einops-0.6.0-py3-none-any.whl (41 kB)\n",
            "\u001b[2K     \u001b[90m━━━━━━━━━━━━━━━━━━━━━━━━━━━━━━━━━━━━━━━━\u001b[0m \u001b[32m41.6/41.6 KB\u001b[0m \u001b[31m3.9 MB/s\u001b[0m eta \u001b[36m0:00:00\u001b[0m\n",
            "\u001b[?25hCollecting ray>=2.0.1\n",
            "  Downloading ray-2.2.0-cp38-cp38-manylinux2014_x86_64.whl (57.4 MB)\n",
            "\u001b[2K     \u001b[90m━━━━━━━━━━━━━━━━━━━━━━━━━━━━━━━━━━━━━━━━\u001b[0m \u001b[32m57.4/57.4 MB\u001b[0m \u001b[31m11.2 MB/s\u001b[0m eta \u001b[36m0:00:00\u001b[0m\n",
            "\u001b[?25hCollecting numpy>=1.23.2\n",
            "  Downloading numpy-1.24.1-cp38-cp38-manylinux_2_17_x86_64.manylinux2014_x86_64.whl (17.3 MB)\n",
            "\u001b[2K     \u001b[90m━━━━━━━━━━━━━━━━━━━━━━━━━━━━━━━━━━━━━━━━\u001b[0m \u001b[32m17.3/17.3 MB\u001b[0m \u001b[31m70.5 MB/s\u001b[0m eta \u001b[36m0:00:00\u001b[0m\n",
            "\u001b[?25hCollecting torchtyping\n",
            "  Downloading torchtyping-0.1.4-py3-none-any.whl (17 kB)\n",
            "Collecting accelerate>=0.12.0\n",
            "  Downloading accelerate-0.16.0-py3-none-any.whl (199 kB)\n",
            "\u001b[2K     \u001b[90m━━━━━━━━━━━━━━━━━━━━━━━━━━━━━━━━━━━━━━\u001b[0m \u001b[32m199.7/199.7 KB\u001b[0m \u001b[31m18.1 MB/s\u001b[0m eta \u001b[36m0:00:00\u001b[0m\n",
            "\u001b[?25hCollecting tabulate>=0.9.0\n",
            "  Downloading tabulate-0.9.0-py3-none-any.whl (35 kB)\n",
            "Collecting rich\n",
            "  Downloading rich-13.3.1-py3-none-any.whl (239 kB)\n",
            "\u001b[2K     \u001b[90m━━━━━━━━━━━━━━━━━━━━━━━━━━━━━━━━━━━━━━\u001b[0m \u001b[32m239.0/239.0 KB\u001b[0m \u001b[31m20.6 MB/s\u001b[0m eta \u001b[36m0:00:00\u001b[0m\n",
            "\u001b[?25hCollecting transformers>=4.21.2\n",
            "  Downloading transformers-4.26.0-py3-none-any.whl (6.3 MB)\n",
            "\u001b[2K     \u001b[90m━━━━━━━━━━━━━━━━━━━━━━━━━━━━━━━━━━━━━━━━\u001b[0m \u001b[32m6.3/6.3 MB\u001b[0m \u001b[31m84.7 MB/s\u001b[0m eta \u001b[36m0:00:00\u001b[0m\n",
            "\u001b[?25hCollecting datasets\n",
            "  Downloading datasets-2.9.0-py3-none-any.whl (462 kB)\n",
            "\u001b[2K     \u001b[90m━━━━━━━━━━━━━━━━━━━━━━━━━━━━━━━━━━━━━━\u001b[0m \u001b[32m462.8/462.8 KB\u001b[0m \u001b[31m34.7 MB/s\u001b[0m eta \u001b[36m0:00:00\u001b[0m\n",
            "\u001b[?25hRequirement already satisfied: pyyaml in /usr/local/lib/python3.8/dist-packages (from accelerate>=0.12.0->trlx==0.3.0) (6.0)\n",
            "Requirement already satisfied: packaging>=20.0 in /usr/local/lib/python3.8/dist-packages (from accelerate>=0.12.0->trlx==0.3.0) (21.3)\n",
            "Requirement already satisfied: torch>=1.4.0 in /usr/local/lib/python3.8/dist-packages (from accelerate>=0.12.0->trlx==0.3.0) (1.13.1+cu116)\n",
            "Requirement already satisfied: psutil in /usr/local/lib/python3.8/dist-packages (from accelerate>=0.12.0->trlx==0.3.0) (5.4.8)\n",
            "Collecting hjson\n",
            "  Downloading hjson-3.1.0-py3-none-any.whl (54 kB)\n",
            "\u001b[2K     \u001b[90m━━━━━━━━━━━━━━━━━━━━━━━━━━━━━━━━━━━━━━━━\u001b[0m \u001b[32m54.0/54.0 KB\u001b[0m \u001b[31m5.7 MB/s\u001b[0m eta \u001b[36m0:00:00\u001b[0m\n",
            "\u001b[?25hCollecting ninja\n",
            "  Downloading ninja-1.11.1-py2.py3-none-manylinux_2_12_x86_64.manylinux2010_x86_64.whl (145 kB)\n",
            "\u001b[2K     \u001b[90m━━━━━━━━━━━━━━━━━━━━━━━━━━━━━━━━━━━━━━\u001b[0m \u001b[32m146.0/146.0 KB\u001b[0m \u001b[31m14.6 MB/s\u001b[0m eta \u001b[36m0:00:00\u001b[0m\n",
            "\u001b[?25hCollecting py-cpuinfo\n",
            "  Downloading py_cpuinfo-9.0.0-py3-none-any.whl (22 kB)\n",
            "Requirement already satisfied: pydantic in /usr/local/lib/python3.8/dist-packages (from deepspeed>=0.7.3->trlx==0.3.0) (1.10.4)\n",
            "Collecting virtualenv>=20.0.24\n",
            "  Downloading virtualenv-20.17.1-py3-none-any.whl (8.8 MB)\n",
            "\u001b[2K     \u001b[90m━━━━━━━━━━━━━━━━━━━━━━━━━━━━━━━━━━━━━━━━\u001b[0m \u001b[32m8.8/8.8 MB\u001b[0m \u001b[31m86.9 MB/s\u001b[0m eta \u001b[36m0:00:00\u001b[0m\n",
            "\u001b[?25hRequirement already satisfied: frozenlist in /usr/local/lib/python3.8/dist-packages (from ray>=2.0.1->trlx==0.3.0) (1.3.3)\n",
            "Requirement already satisfied: click>=7.0 in /usr/local/lib/python3.8/dist-packages (from ray>=2.0.1->trlx==0.3.0) (7.1.2)\n",
            "Requirement already satisfied: protobuf!=3.19.5,>=3.15.3 in /usr/local/lib/python3.8/dist-packages (from ray>=2.0.1->trlx==0.3.0) (3.19.6)\n",
            "Requirement already satisfied: attrs in /usr/local/lib/python3.8/dist-packages (from ray>=2.0.1->trlx==0.3.0) (22.2.0)\n",
            "Requirement already satisfied: aiosignal in /usr/local/lib/python3.8/dist-packages (from ray>=2.0.1->trlx==0.3.0) (1.3.1)\n",
            "Requirement already satisfied: requests in /usr/local/lib/python3.8/dist-packages (from ray>=2.0.1->trlx==0.3.0) (2.25.1)\n",
            "Requirement already satisfied: jsonschema in /usr/local/lib/python3.8/dist-packages (from ray>=2.0.1->trlx==0.3.0) (4.3.3)\n",
            "Requirement already satisfied: filelock in /usr/local/lib/python3.8/dist-packages (from ray>=2.0.1->trlx==0.3.0) (3.9.0)\n",
            "Requirement already satisfied: grpcio>=1.32.0 in /usr/local/lib/python3.8/dist-packages (from ray>=2.0.1->trlx==0.3.0) (1.51.1)\n",
            "Requirement already satisfied: msgpack<2.0.0,>=1.0.0 in /usr/local/lib/python3.8/dist-packages (from ray>=2.0.1->trlx==0.3.0) (1.0.4)\n",
            "Requirement already satisfied: regex!=2019.12.17 in /usr/local/lib/python3.8/dist-packages (from transformers>=4.21.2->trlx==0.3.0) (2022.6.2)\n",
            "Collecting tokenizers!=0.11.3,<0.14,>=0.11.1\n",
            "  Downloading tokenizers-0.13.2-cp38-cp38-manylinux_2_17_x86_64.manylinux2014_x86_64.whl (7.6 MB)\n",
            "\u001b[2K     \u001b[90m━━━━━━━━━━━━━━━━━━━━━━━━━━━━━━━━━━━━━━━━\u001b[0m \u001b[32m7.6/7.6 MB\u001b[0m \u001b[31m90.6 MB/s\u001b[0m eta \u001b[36m0:00:00\u001b[0m\n",
            "\u001b[?25hCollecting huggingface-hub<1.0,>=0.11.0\n",
            "  Downloading huggingface_hub-0.12.0-py3-none-any.whl (190 kB)\n",
            "\u001b[2K     \u001b[90m━━━━━━━━━━━━━━━━━━━━━━━━━━━━━━━━━━━━━━\u001b[0m \u001b[32m190.3/190.3 KB\u001b[0m \u001b[31m19.0 MB/s\u001b[0m eta \u001b[36m0:00:00\u001b[0m\n",
            "\u001b[?25hRequirement already satisfied: typing-extensions in /usr/local/lib/python3.8/dist-packages (from wandb>=0.13.5->trlx==0.3.0) (4.4.0)\n",
            "Collecting setproctitle\n",
            "  Downloading setproctitle-1.3.2-cp38-cp38-manylinux_2_5_x86_64.manylinux1_x86_64.manylinux_2_17_x86_64.manylinux2014_x86_64.whl (31 kB)\n",
            "Collecting GitPython>=1.0.0\n",
            "  Downloading GitPython-3.1.30-py3-none-any.whl (184 kB)\n",
            "\u001b[2K     \u001b[90m━━━━━━━━━━━━━━━━━━━━━━━━━━━━━━━━━━━━━━\u001b[0m \u001b[32m184.0/184.0 KB\u001b[0m \u001b[31m17.4 MB/s\u001b[0m eta \u001b[36m0:00:00\u001b[0m\n",
            "\u001b[?25hCollecting pathtools\n",
            "  Downloading pathtools-0.1.2.tar.gz (11 kB)\n",
            "  Preparing metadata (setup.py) ... \u001b[?25l\u001b[?25hdone\n",
            "Requirement already satisfied: setuptools in /usr/local/lib/python3.8/dist-packages (from wandb>=0.13.5->trlx==0.3.0) (57.4.0)\n",
            "Collecting sentry-sdk>=1.0.0\n",
            "  Downloading sentry_sdk-1.14.0-py2.py3-none-any.whl (178 kB)\n",
            "\u001b[2K     \u001b[90m━━━━━━━━━━━━━━━━━━━━━━━━━━━━━━━━━━━━━━\u001b[0m \u001b[32m178.9/178.9 KB\u001b[0m \u001b[31m18.4 MB/s\u001b[0m eta \u001b[36m0:00:00\u001b[0m\n",
            "\u001b[?25hCollecting docker-pycreds>=0.4.0\n",
            "  Downloading docker_pycreds-0.4.0-py2.py3-none-any.whl (9.0 kB)\n",
            "Requirement already satisfied: appdirs>=1.4.3 in /usr/local/lib/python3.8/dist-packages (from wandb>=0.13.5->trlx==0.3.0) (1.4.4)\n",
            "Requirement already satisfied: dill<0.3.7 in /usr/local/lib/python3.8/dist-packages (from datasets->trlx==0.3.0) (0.3.6)\n",
            "Requirement already satisfied: fsspec[http]>=2021.11.1 in /usr/local/lib/python3.8/dist-packages (from datasets->trlx==0.3.0) (2022.11.0)\n",
            "Requirement already satisfied: pandas in /usr/local/lib/python3.8/dist-packages (from datasets->trlx==0.3.0) (1.3.5)\n",
            "Requirement already satisfied: aiohttp in /usr/local/lib/python3.8/dist-packages (from datasets->trlx==0.3.0) (3.8.3)\n",
            "Collecting responses<0.19\n",
            "  Downloading responses-0.18.0-py3-none-any.whl (38 kB)\n",
            "Collecting xxhash\n",
            "  Downloading xxhash-3.2.0-cp38-cp38-manylinux_2_17_x86_64.manylinux2014_x86_64.whl (213 kB)\n",
            "\u001b[2K     \u001b[90m━━━━━━━━━━━━━━━━━━━━━━━━━━━━━━━━━━━━━━\u001b[0m \u001b[32m213.0/213.0 KB\u001b[0m \u001b[31m21.9 MB/s\u001b[0m eta \u001b[36m0:00:00\u001b[0m\n",
            "\u001b[?25hRequirement already satisfied: pyarrow>=6.0.0 in /usr/local/lib/python3.8/dist-packages (from datasets->trlx==0.3.0) (9.0.0)\n",
            "Collecting multiprocess\n",
            "  Downloading multiprocess-0.70.14-py38-none-any.whl (132 kB)\n",
            "\u001b[2K     \u001b[90m━━━━━━━━━━━━━━━━━━━━━━━━━━━━━━━━━━━━━━\u001b[0m \u001b[32m132.0/132.0 KB\u001b[0m \u001b[31m12.5 MB/s\u001b[0m eta \u001b[36m0:00:00\u001b[0m\n",
            "\u001b[?25hCollecting markdown-it-py<3.0.0,>=2.1.0\n",
            "  Downloading markdown_it_py-2.1.0-py3-none-any.whl (84 kB)\n",
            "\u001b[2K     \u001b[90m━━━━━━━━━━━━━━━━━━━━━━━━━━━━━━━━━━━━━━━━\u001b[0m \u001b[32m84.5/84.5 KB\u001b[0m \u001b[31m9.8 MB/s\u001b[0m eta \u001b[36m0:00:00\u001b[0m\n",
            "\u001b[?25hCollecting pygments<3.0.0,>=2.14.0\n",
            "  Downloading Pygments-2.14.0-py3-none-any.whl (1.1 MB)\n",
            "\u001b[2K     \u001b[90m━━━━━━━━━━━━━━━━━━━━━━━━━━━━━━━━━━━━━━━━\u001b[0m \u001b[32m1.1/1.1 MB\u001b[0m \u001b[31m61.6 MB/s\u001b[0m eta \u001b[36m0:00:00\u001b[0m\n",
            "\u001b[?25hCollecting typeguard>=2.11.1\n",
            "  Downloading typeguard-2.13.3-py3-none-any.whl (17 kB)\n",
            "Requirement already satisfied: six>=1.4.0 in /usr/local/lib/python3.8/dist-packages (from docker-pycreds>=0.4.0->wandb>=0.13.5->trlx==0.3.0) (1.15.0)\n",
            "Requirement already satisfied: multidict<7.0,>=4.5 in /usr/local/lib/python3.8/dist-packages (from aiohttp->datasets->trlx==0.3.0) (6.0.4)\n",
            "Requirement already satisfied: yarl<2.0,>=1.0 in /usr/local/lib/python3.8/dist-packages (from aiohttp->datasets->trlx==0.3.0) (1.8.2)\n",
            "Requirement already satisfied: charset-normalizer<3.0,>=2.0 in /usr/local/lib/python3.8/dist-packages (from aiohttp->datasets->trlx==0.3.0) (2.1.1)\n",
            "Requirement already satisfied: async-timeout<5.0,>=4.0.0a3 in /usr/local/lib/python3.8/dist-packages (from aiohttp->datasets->trlx==0.3.0) (4.0.2)\n",
            "Collecting gitdb<5,>=4.0.1\n",
            "  Downloading gitdb-4.0.10-py3-none-any.whl (62 kB)\n",
            "\u001b[2K     \u001b[90m━━━━━━━━━━━━━━━━━━━━━━━━━━━━━━━━━━━━━━━━\u001b[0m \u001b[32m62.7/62.7 KB\u001b[0m \u001b[31m6.3 MB/s\u001b[0m eta \u001b[36m0:00:00\u001b[0m\n",
            "\u001b[?25hCollecting mdurl~=0.1\n",
            "  Downloading mdurl-0.1.2-py3-none-any.whl (10.0 kB)\n",
            "Requirement already satisfied: pyparsing!=3.0.5,>=2.0.2 in /usr/local/lib/python3.8/dist-packages (from packaging>=20.0->accelerate>=0.12.0->trlx==0.3.0) (3.0.9)\n",
            "Requirement already satisfied: urllib3<1.27,>=1.21.1 in /usr/local/lib/python3.8/dist-packages (from requests->ray>=2.0.1->trlx==0.3.0) (1.24.3)\n",
            "Requirement already satisfied: certifi>=2017.4.17 in /usr/local/lib/python3.8/dist-packages (from requests->ray>=2.0.1->trlx==0.3.0) (2022.12.7)\n",
            "Requirement already satisfied: chardet<5,>=3.0.2 in /usr/local/lib/python3.8/dist-packages (from requests->ray>=2.0.1->trlx==0.3.0) (4.0.0)\n",
            "Requirement already satisfied: idna<3,>=2.5 in /usr/local/lib/python3.8/dist-packages (from requests->ray>=2.0.1->trlx==0.3.0) (2.10)\n",
            "Collecting urllib3<1.27,>=1.21.1\n",
            "  Downloading urllib3-1.26.14-py2.py3-none-any.whl (140 kB)\n",
            "\u001b[2K     \u001b[90m━━━━━━━━━━━━━━━━━━━━━━━━━━━━━━━━━━━━━━\u001b[0m \u001b[32m140.6/140.6 KB\u001b[0m \u001b[31m14.7 MB/s\u001b[0m eta \u001b[36m0:00:00\u001b[0m\n",
            "\u001b[?25hRequirement already satisfied: platformdirs<3,>=2.4 in /usr/local/lib/python3.8/dist-packages (from virtualenv>=20.0.24->ray>=2.0.1->trlx==0.3.0) (2.6.2)\n",
            "Collecting distlib<1,>=0.3.6\n",
            "  Downloading distlib-0.3.6-py2.py3-none-any.whl (468 kB)\n",
            "\u001b[2K     \u001b[90m━━━━━━━━━━━━━━━━━━━━━━━━━━━━━━━━━━━━━━\u001b[0m \u001b[32m468.5/468.5 KB\u001b[0m \u001b[31m31.3 MB/s\u001b[0m eta \u001b[36m0:00:00\u001b[0m\n",
            "\u001b[?25hRequirement already satisfied: pyrsistent!=0.17.0,!=0.17.1,!=0.17.2,>=0.14.0 in /usr/local/lib/python3.8/dist-packages (from jsonschema->ray>=2.0.1->trlx==0.3.0) (0.19.3)\n",
            "Requirement already satisfied: importlib-resources>=1.4.0 in /usr/local/lib/python3.8/dist-packages (from jsonschema->ray>=2.0.1->trlx==0.3.0) (5.10.2)\n",
            "Requirement already satisfied: python-dateutil>=2.7.3 in /usr/local/lib/python3.8/dist-packages (from pandas->datasets->trlx==0.3.0) (2.8.2)\n",
            "Requirement already satisfied: pytz>=2017.3 in /usr/local/lib/python3.8/dist-packages (from pandas->datasets->trlx==0.3.0) (2022.7)\n",
            "Collecting smmap<6,>=3.0.1\n",
            "  Downloading smmap-5.0.0-py3-none-any.whl (24 kB)\n",
            "Requirement already satisfied: zipp>=3.1.0 in /usr/local/lib/python3.8/dist-packages (from importlib-resources>=1.4.0->jsonschema->ray>=2.0.1->trlx==0.3.0) (3.11.0)\n",
            "Building wheels for collected packages: deepspeed, pathtools\n",
            "  Building wheel for deepspeed (setup.py) ... \u001b[?25l\u001b[?25hdone\n",
            "  Created wheel for deepspeed: filename=deepspeed-0.8.0-py3-none-any.whl size=752130 sha256=8f19949a79c9b9f5bbebc5f478f237fc4e17360a469b6562bbd8c333eaf9e280\n",
            "  Stored in directory: /root/.cache/pip/wheels/81/36/bf/0cfa96bf12ce3d1a6ee388f8e26c9d6eb51923b9b9f0b03a4f\n",
            "  Building wheel for pathtools (setup.py) ... \u001b[?25l\u001b[?25hdone\n",
            "  Created wheel for pathtools: filename=pathtools-0.1.2-py3-none-any.whl size=8806 sha256=ee3c9421cf9bffb332295df565a4864a43e2531eaf38637572bbfa218b9f87a6\n",
            "  Stored in directory: /root/.cache/pip/wheels/4c/8e/7e/72fbc243e1aeecae64a96875432e70d4e92f3d2d18123be004\n",
            "Successfully built deepspeed pathtools\n",
            "Installing collected packages: tokenizers, py-cpuinfo, pathtools, ninja, hjson, distlib, xxhash, virtualenv, urllib3, typeguard, tabulate, smmap, setproctitle, pygments, numpy, multiprocess, mdurl, einops, docker-pycreds, torchtyping, sentry-sdk, markdown-it-py, gitdb, deepspeed, accelerate, rich, responses, ray, huggingface-hub, GitPython, wandb, transformers, datasets, trlx\n",
            "  Attempting uninstall: urllib3\n",
            "    Found existing installation: urllib3 1.24.3\n",
            "    Uninstalling urllib3-1.24.3:\n",
            "      Successfully uninstalled urllib3-1.24.3\n",
            "  Attempting uninstall: typeguard\n",
            "    Found existing installation: typeguard 2.7.1\n",
            "    Uninstalling typeguard-2.7.1:\n",
            "      Successfully uninstalled typeguard-2.7.1\n",
            "  Attempting uninstall: tabulate\n",
            "    Found existing installation: tabulate 0.8.10\n",
            "    Uninstalling tabulate-0.8.10:\n",
            "      Successfully uninstalled tabulate-0.8.10\n",
            "  Attempting uninstall: pygments\n",
            "    Found existing installation: Pygments 2.6.1\n",
            "    Uninstalling Pygments-2.6.1:\n",
            "      Successfully uninstalled Pygments-2.6.1\n",
            "  Attempting uninstall: numpy\n",
            "    Found existing installation: numpy 1.22.0\n",
            "    Uninstalling numpy-1.22.0:\n",
            "      Successfully uninstalled numpy-1.22.0\n",
            "  Running setup.py develop for trlx\n",
            "\u001b[31mERROR: pip's dependency resolver does not currently take into account all the packages that are installed. This behaviour is the source of the following dependency conflicts.\n",
            "ipython 7.9.0 requires jedi>=0.10, which is not installed.\n",
            "scipy 1.7.3 requires numpy<1.23.0,>=1.16.5, but you have numpy 1.24.1 which is incompatible.\n",
            "numba 0.56.4 requires numpy<1.24,>=1.18, but you have numpy 1.24.1 which is incompatible.\u001b[0m\u001b[31m\n",
            "\u001b[0mSuccessfully installed GitPython-3.1.30 accelerate-0.16.0 datasets-2.9.0 deepspeed-0.8.0 distlib-0.3.6 docker-pycreds-0.4.0 einops-0.6.0 gitdb-4.0.10 hjson-3.1.0 huggingface-hub-0.12.0 markdown-it-py-2.1.0 mdurl-0.1.2 multiprocess-0.70.14 ninja-1.11.1 numpy-1.24.1 pathtools-0.1.2 py-cpuinfo-9.0.0 pygments-2.14.0 ray-2.2.0 responses-0.18.0 rich-13.3.1 sentry-sdk-1.14.0 setproctitle-1.3.2 smmap-5.0.0 tabulate-0.9.0 tokenizers-0.13.2 torchtyping-0.1.4 transformers-4.26.0 trlx typeguard-2.13.3 urllib3-1.26.14 virtualenv-20.17.1 wandb-0.13.9 xxhash-3.2.0\n"
          ]
        }
      ]
    },
    {
      "cell_type": "code",
      "source": [
        "!ls -la .\n",
        "!ls -la ./trlx_folder\n",
        "!ls -la ./trlx_folder/trlx\n",
        "!cat ./trlx_folder/__init__.py\n",
        "!cat ./trlx_folder/trlx/__init__.py"
      ],
      "metadata": {
        "colab": {
          "base_uri": "https://localhost:8080/"
        },
        "id": "oPnpFbN5Yk4k",
        "outputId": "9211d292-a816-4a15-f027-cb8d3ca94988"
      },
      "execution_count": 4,
      "outputs": [
        {
          "output_type": "stream",
          "name": "stdout",
          "text": [
            "total 20\n",
            "drwxr-xr-x  1 root root 4096 Feb  1 07:54 .\n",
            "drwxr-xr-x  1 root root 4096 Feb  1 07:50 ..\n",
            "drwxr-xr-x  4 root root 4096 Jan 30 14:37 .config\n",
            "lrwxrwxrwx  1 root root   21 Feb  1 07:54 configs -> ./trlx_folder/configs\n",
            "lrwxrwxrwx  1 root root   18 Feb  1 07:54 docs -> ./trlx_folder/docs\n",
            "lrwxrwxrwx  1 root root   22 Feb  1 07:54 examples -> ./trlx_folder/examples\n",
            "lrwxrwxrwx  1 root root   18 Feb  1 07:54 .git -> ./trlx_folder/.git\n",
            "lrwxrwxrwx  1 root root   21 Feb  1 07:54 .github -> ./trlx_folder/.github\n",
            "drwxr-xr-x  1 root root 4096 Jan 30 14:38 sample_data\n",
            "lrwxrwxrwx  1 root root   19 Feb  1 07:54 tests -> ./trlx_folder/tests\n",
            "lrwxrwxrwx  1 root root   18 Feb  1 07:54 trlx -> ./trlx_folder/trlx\n",
            "lrwxrwxrwx  1 root root   27 Feb  1 07:54 trlx.egg-info -> ./trlx_folder/trlx.egg-info\n",
            "drwxr-xr-x 11 root root 4096 Feb  1 07:54 trlx_folder\n",
            "total 96\n",
            "drwxr-xr-x 11 root root 4096 Feb  1 07:54 .\n",
            "drwxr-xr-x  1 root root 4096 Feb  1 07:54 ..\n",
            "-rw-r--r--  1 root root 5222 Feb  1 07:53 CODE_OF_CONDUCT.md\n",
            "drwxr-xr-x  4 root root 4096 Feb  1 07:53 configs\n",
            "-rw-r--r--  1 root root 4286 Feb  1 07:53 CONTRIBUTING.md\n",
            "drwxr-xr-x  2 root root 4096 Feb  1 07:53 .devcontainer\n",
            "drwxr-xr-x  3 root root 4096 Feb  1 07:53 docs\n",
            "drwxr-xr-x  6 root root 4096 Feb  1 07:53 examples\n",
            "drwxr-xr-x  8 root root 4096 Feb  1 07:53 .git\n",
            "drwxr-xr-x  4 root root 4096 Feb  1 07:53 .github\n",
            "-rw-r--r--  1 root root 1645 Feb  1 07:53 .gitignore\n",
            "-rw-r--r--  1 root root   32 Feb  1 07:54 __init__.py\n",
            "-rw-r--r--  1 root root 1065 Feb  1 07:53 LICENSE\n",
            "-rw-r--r--  1 root root  966 Feb  1 07:53 .pre-commit-config.yaml\n",
            "-rw-r--r--  1 root root  135 Feb  1 07:53 pyproject.toml\n",
            "-rw-r--r--  1 root root 2796 Feb  1 07:53 README.md\n",
            "-rw-r--r--  1 root root  132 Feb  1 07:53 .readthedocs.yml\n",
            "-rw-r--r--  1 root root 1428 Feb  1 07:53 setup.cfg\n",
            "-rw-r--r--  1 root root   38 Feb  1 07:53 setup.py\n",
            "drwxr-xr-x  2 root root 4096 Feb  1 07:53 tests\n",
            "drwxr-xr-x  8 root root 4096 Feb  1 07:53 trlx\n",
            "drwxr-xr-x  2 root root 4096 Feb  1 07:54 trlx.egg-info\n",
            "total 48\n",
            "drwxr-xr-x  8 root root 4096 Feb  1 07:53 .\n",
            "drwxr-xr-x 11 root root 4096 Feb  1 07:54 ..\n",
            "drwxr-xr-x  2 root root 4096 Feb  1 07:53 data\n",
            "-rw-r--r--  1 root root   24 Feb  1 07:53 __init__.py\n",
            "drwxr-xr-x  2 root root 4096 Feb  1 07:53 orchestrator\n",
            "drwxr-xr-x  2 root root 4096 Feb  1 07:53 pipeline\n",
            "drwxr-xr-x  2 root root 4096 Feb  1 07:53 ray_tune\n",
            "-rw-r--r--  1 root root 3170 Feb  1 07:53 sweep.py\n",
            "drwxr-xr-x  3 root root 4096 Feb  1 07:53 trainer\n",
            "-rw-r--r--  1 root root 5448 Feb  1 07:53 trlx.py\n",
            "drwxr-xr-x  2 root root 4096 Feb  1 07:53 utils\n",
            "import trlx_folder.trlx as trlx\n",
            "from .trlx import train\n"
          ]
        }
      ]
    },
    {
      "cell_type": "code",
      "source": [
        "!pip install numpy==1.22\n",
        "# !pip install --upgrade scipy\n"
      ],
      "metadata": {
        "colab": {
          "base_uri": "https://localhost:8080/",
          "height": 0
        },
        "id": "iYXfw_3vOeML",
        "outputId": "2f885bce-2865-4014-d403-cc6d627c883e"
      },
      "execution_count": 6,
      "outputs": [
        {
          "output_type": "stream",
          "name": "stdout",
          "text": [
            "Looking in indexes: https://pypi.org/simple, https://us-python.pkg.dev/colab-wheels/public/simple/\n",
            "Collecting numpy==1.22\n",
            "  Using cached numpy-1.22.0-cp38-cp38-manylinux_2_17_x86_64.manylinux2014_x86_64.whl (16.8 MB)\n",
            "Installing collected packages: numpy\n",
            "  Attempting uninstall: numpy\n",
            "    Found existing installation: numpy 1.24.1\n",
            "    Uninstalling numpy-1.24.1:\n",
            "      Successfully uninstalled numpy-1.24.1\n",
            "Successfully installed numpy-1.22.0\n"
          ]
        },
        {
          "output_type": "display_data",
          "data": {
            "application/vnd.colab-display-data+json": {
              "pip_warning": {
                "packages": [
                  "numpy"
                ]
              }
            }
          },
          "metadata": {}
        }
      ]
    },
    {
      "cell_type": "code",
      "source": [
        "# import trlx_folder\n",
        "import trlx_folder.trlx as trlx\n",
        "# from trlx_folder import trlx\n",
        "\n",
        "print(type(trlx))\n",
        "dir(trlx)"
      ],
      "metadata": {
        "colab": {
          "base_uri": "https://localhost:8080/"
        },
        "id": "_BZX4EmksXw9",
        "outputId": "c2cb1b21-19be-4db5-94a2-bac59fb10701"
      },
      "execution_count": 1,
      "outputs": [
        {
          "output_type": "stream",
          "name": "stdout",
          "text": [
            "<class 'module'>\n"
          ]
        },
        {
          "output_type": "execute_result",
          "data": {
            "text/plain": [
              "['__builtins__',\n",
              " '__cached__',\n",
              " '__doc__',\n",
              " '__file__',\n",
              " '__loader__',\n",
              " '__name__',\n",
              " '__package__',\n",
              " '__path__',\n",
              " '__spec__',\n",
              " 'train',\n",
              " 'trlx']"
            ]
          },
          "metadata": {},
          "execution_count": 1
        }
      ]
    },
    {
      "cell_type": "markdown",
      "source": [
        "#Training RLHF"
      ],
      "metadata": {
        "id": "4j0K37JJW3UU"
      }
    },
    {
      "cell_type": "code",
      "source": [
        "import trlx_folder.trlx as trlx"
      ],
      "metadata": {
        "id": "2DyRgLxLtVfn"
      },
      "execution_count": 30,
      "outputs": []
    },
    {
      "cell_type": "code",
      "source": [
        "from transformers import pipeline, set_seed\n",
        "generator = pipeline('text-generation', model='distilgpt2')\n",
        "set_seed(1033)\n",
        "generator(\"Hello, I'm a language model,\", max_length=30, num_return_sequences=5)\n"
      ],
      "metadata": {
        "colab": {
          "base_uri": "https://localhost:8080/"
        },
        "id": "DskhKGdD-fFD",
        "outputId": "4c561949-c3b0-48f0-e815-0833e02e628a"
      },
      "execution_count": 31,
      "outputs": [
        {
          "output_type": "stream",
          "name": "stderr",
          "text": [
            "/usr/local/lib/python3.8/dist-packages/transformers/generation/utils.py:1186: UserWarning: You have modified the pretrained model configuration to control generation. This is a deprecated strategy to control generation and will be removed soon, in a future version. Please use a generation configuration file (see https://huggingface.co/docs/transformers/main_classes/text_generation)\n",
            "  warnings.warn(\n",
            "Setting `pad_token_id` to `eos_token_id`:50256 for open-end generation.\n"
          ]
        },
        {
          "output_type": "execute_result",
          "data": {
            "text/plain": [
              "[{'generated_text': \"Hello, I'm a language model, and I'll keep that in mind as well 🙂 It will include a full-screen version of Ubuntu 13.\"},\n",
              " {'generated_text': \"Hello, I'm a language model, I have no clue how some people use that term in this particular context. Now I don't want to say\"},\n",
              " {'generated_text': 'Hello, I\\'m a language model, and its in practice far more exciting than I thought it would be.\"\\n\\n\\n\"We don\\'t know'},\n",
              " {'generated_text': \"Hello, I'm a language model, a humanist, a humanist. I had to ask for many more. The one person who said he\"},\n",
              " {'generated_text': \"Hello, I'm a language model, though I'm still looking for a way to translate my English into a decent, easy language, in some ways\"}]"
            ]
          },
          "metadata": {},
          "execution_count": 31
        }
      ]
    },
    {
      "cell_type": "markdown",
      "source": [
        "Example: `Hello, I'm a language model, though I'm still looking for a way to translate my English into a decent, easy language, in some ways`"
      ],
      "metadata": {
        "id": "m2qmfz46tsNp"
      }
    },
    {
      "cell_type": "code",
      "source": [
        "generator('Q: Who rules the world? A:', max_length=15, num_return_sequences=5)"
      ],
      "metadata": {
        "colab": {
          "base_uri": "https://localhost:8080/"
        },
        "id": "fz6eKhyxP8fz",
        "outputId": "5eeea58a-027f-4837-acef-630756434a2b"
      },
      "execution_count": 32,
      "outputs": [
        {
          "output_type": "stream",
          "name": "stderr",
          "text": [
            "Setting `pad_token_id` to `eos_token_id`:50256 for open-end generation.\n"
          ]
        },
        {
          "output_type": "execute_result",
          "data": {
            "text/plain": [
              "[{'generated_text': \"Q: Who rules the world? A: They're different, and they\"},\n",
              " {'generated_text': 'Q: Who rules the world? A: A: I am a Muslim'},\n",
              " {'generated_text': 'Q: Who rules the world? A: If no one is allowed to'},\n",
              " {'generated_text': 'Q: Who rules the world? A: A: My boss.\\n'},\n",
              " {'generated_text': 'Q: Who rules the world? A: That was an American intelligence agency'}]"
            ]
          },
          "metadata": {},
          "execution_count": 32
        }
      ]
    },
    {
      "cell_type": "markdown",
      "source": [
        "Example: `Q: Who rules the world? A: That was an American intelligence agency`"
      ],
      "metadata": {
        "id": "ESqX1HrUtvxV"
      }
    },
    {
      "cell_type": "code",
      "source": [
        "import pathlib\n",
        "from trlx.data.configs import TRLConfig\n",
        "import yaml\n",
        "\n",
        "def get_medium_config():\n",
        "    config_path = \"configs/ppo_config.yml\"\n",
        "    with open(config_path) as f:\n",
        "        default_config = yaml.safe_load(f)\n",
        "\n",
        "\n",
        "    config = TRLConfig.update(default_config, {})\n",
        "    config.train.total_steps = 100\n",
        "    config.train.epochs = 5\n",
        "    config.train.batch_size = 32\n",
        "    config.optimizer.kwargs['lr'] = 1e-3\n",
        "\n",
        "    return config\n",
        "\n",
        "def get_small_config():\n",
        "    config_path = \"configs/ppo_config.yml\"\n",
        "    with open(config_path) as f:\n",
        "        default_config = yaml.safe_load(f)\n",
        "\n",
        "\n",
        "    config = TRLConfig.update(default_config, {})\n",
        "    config.train.total_steps = 8\n",
        "    config.train.epochs = 5\n",
        "    config.train.batch_size = 32\n",
        "    config.optimizer.kwargs['lr'] = 1e-4\n",
        "\n",
        "    return config\n",
        "\n",
        "get_small_config()"
      ],
      "metadata": {
        "colab": {
          "base_uri": "https://localhost:8080/"
        },
        "id": "aO0dZq1h_7b3",
        "outputId": "284b442c-e902-4ce3-db7e-5551f945804d"
      },
      "execution_count": 38,
      "outputs": [
        {
          "output_type": "execute_result",
          "data": {
            "text/plain": [
              "TRLConfig(method=PPOConfig(name='ppoconfig', ppo_epochs=4, num_rollouts=128, chunk_size=128, init_kl_coef=0.05, target=6, horizon=10000, gamma=1, lam=0.95, cliprange=0.2, cliprange_value=0.2, vf_coef=1, scale_reward=False, ref_mean=None, ref_std=None, cliprange_reward=10, gen_kwargs={'max_new_tokens': 40, 'top_k': 0, 'top_p': 1.0, 'do_sample': True}, gen_experience_kwargs=None), model=ModelConfig(model_path='lvwerra/gpt2-imdb', model_arch_type='causal', num_layers_unfrozen=2, delta_kwargs=None), optimizer=OptimizerConfig(name='adamw', kwargs={'lr': 0.0001, 'betas': [0.9, 0.95], 'eps': 1e-08, 'weight_decay': 1e-06}), scheduler=SchedulerConfig(name='cosine_annealing', kwargs={'T_max': 10000, 'eta_min': 0.0001}), tokenizer=TokenizerConfig(tokenizer_path='gpt2', padding_side='left', truncation_side='right'), train=TrainConfig(total_steps=8, seq_length=1024, epochs=5, batch_size=32, checkpoint_interval=10000, eval_interval=100, pipeline='PromptPipeline', orchestrator='PPOOrchestrator', trainer='AcceleratePPOTrainer', project_name='trlx', entity_name=None, group_name=None, checkpoint_dir='ckpts', rollout_logging_dir=None, save_best=True, tracker='wandb', logging_dir=None, seed=1000))"
            ]
          },
          "metadata": {},
          "execution_count": 38
        }
      ]
    },
    {
      "cell_type": "markdown",
      "source": [
        "###Creating reward function to score responses  \n",
        "Reward function simulates human feedback which we can't afford"
      ],
      "metadata": {
        "id": "iVHFLOsasd-6"
      }
    },
    {
      "cell_type": "code",
      "source": [
        "reward_fn = lambda samples, **kwargs: [sample.count('cats') for sample in samples]\n",
        "\n",
        "samples = [\n",
        "    \"Q: Who rules the world? A: aliens\",\n",
        "    \"Q: Who rules the world? A: cats\"\n",
        "]\n",
        "\n",
        "for sample in samples:\n",
        "    print(f'{sample} \\n\\tscore is {reward_fn([sample])[0]}\\n')"
      ],
      "metadata": {
        "colab": {
          "base_uri": "https://localhost:8080/"
        },
        "id": "ymgJySi_sjIT",
        "outputId": "0a4e268a-398b-4592-f6e5-674abc9f71eb"
      },
      "execution_count": 34,
      "outputs": [
        {
          "output_type": "stream",
          "name": "stdout",
          "text": [
            "Q: Who rules the world? A: aliens \n",
            "\tscore is 0\n",
            "\n",
            "Q: Who rules the world? A: cats \n",
            "\tscore is 1\n",
            "\n"
          ]
        }
      ]
    },
    {
      "cell_type": "markdown",
      "source": [
        "##Training"
      ],
      "metadata": {
        "id": "OZWCXkVnuoxK"
      }
    },
    {
      "cell_type": "markdown",
      "source": [
        "Decoding response"
      ],
      "metadata": {
        "id": "YXhtqBlYwtxE"
      }
    },
    {
      "cell_type": "code",
      "source": [
        "from transformers import GPT2TokenizerFast\n",
        "\n",
        "def sample_from_trainer(trainer):\n",
        "    tokenizer = GPT2TokenizerFast.from_pretrained(\"gpt2\")\n",
        "    reses = trainer.generate(**tokenizer('Q: Who rules the world? A:', return_tensors='pt'), do_sample=True)\n",
        "    for res in reses:\n",
        "        print(tokenizer.decode(res))"
      ],
      "metadata": {
        "id": "IM-Q5FHUuxgU"
      },
      "execution_count": 42,
      "outputs": []
    },
    {
      "cell_type": "markdown",
      "source": [
        "###Small Training"
      ],
      "metadata": {
        "id": "hY7N9awZvD5U"
      }
    },
    {
      "cell_type": "code",
      "source": [
        "small_config = get_small_config()\n",
        "trainer = trlx.train('distilgpt2', reward_fn=reward_fn, config=small_config)\n"
      ],
      "metadata": {
        "colab": {
          "base_uri": "https://localhost:8080/",
          "height": 1000,
          "referenced_widgets": [
            "eaf9d552242e4ef391e1331b6f95634f",
            "449b0a58e1ce497585ba0b79e51cc56a",
            "77dca87336434d67a43eac584bedf5ce",
            "ecfa1ad8feb34249a7a7f5cda77e77ea",
            "ede37b4505454a2bbefa285a09b106d6",
            "6ef89a69483f41e0bfa0afccfc1a3b65",
            "a9ef6ffc354e481d8eb60aa4361c660c",
            "3e8acb1f86db4b21babbfe250265257c"
          ]
        },
        "id": "00AGnV24s7Lj",
        "outputId": "805bc497-9236-4d75-d9bf-0e1b49e8a399"
      },
      "execution_count": 39,
      "outputs": [
        {
          "output_type": "display_data",
          "data": {
            "text/plain": [
              "<IPython.core.display.HTML object>"
            ],
            "text/html": [
              "Finishing last run (ID:oz4optxj) before initializing another..."
            ]
          },
          "metadata": {}
        },
        {
          "output_type": "display_data",
          "data": {
            "text/plain": [
              "<IPython.core.display.HTML object>"
            ],
            "text/html": [
              "Waiting for W&B process to finish... <strong style=\"color:green\">(success).</strong>"
            ]
          },
          "metadata": {}
        },
        {
          "output_type": "display_data",
          "data": {
            "text/plain": [
              "VBox(children=(Label(value='0.012 MB of 0.025 MB uploaded (0.000 MB deduped)\\r'), FloatProgress(value=0.494836…"
            ],
            "application/vnd.jupyter.widget-view+json": {
              "version_major": 2,
              "version_minor": 0,
              "model_id": "eaf9d552242e4ef391e1331b6f95634f"
            }
          },
          "metadata": {}
        },
        {
          "output_type": "display_data",
          "data": {
            "text/plain": [
              "<IPython.core.display.HTML object>"
            ],
            "text/html": [
              "<style>\n",
              "    table.wandb td:nth-child(1) { padding: 0 10px; text-align: left ; width: auto;} td:nth-child(2) {text-align: left ; width: 100%}\n",
              "    .wandb-row { display: flex; flex-direction: row; flex-wrap: wrap; justify-content: flex-start; width: 100% }\n",
              "    .wandb-col { display: flex; flex-direction: column; flex-basis: 100%; flex: 1; padding: 10px; }\n",
              "    </style>\n",
              "<div class=\"wandb-row\"><div class=\"wandb-col\"><h3>Run history:</h3><br/><table class=\"wandb\"><tr><td>exp_scores/mean</td><td>▁</td></tr><tr><td>exp_scores/running_mean</td><td>▁</td></tr><tr><td>exp_scores/running_std</td><td>▁</td></tr><tr><td>exp_scores/std</td><td>▁</td></tr><tr><td>kl_ctl_value</td><td>▁</td></tr><tr><td>learning_rate_group_0</td><td>██▇▆▃▁</td></tr><tr><td>losses/policy_loss</td><td>▁█▁▁▄▁</td></tr><tr><td>losses/total_loss</td><td>▁█▃▁▃▂</td></tr><tr><td>losses/value_loss</td><td>▁█▅▂▂▂</td></tr><tr><td>old_values/max</td><td>████▁▁</td></tr><tr><td>old_values/mean</td><td>████▁▁</td></tr><tr><td>old_values/min</td><td>████▁▁</td></tr><tr><td>old_values/std</td><td>▁▁▁▁██</td></tr><tr><td>padding_percentage</td><td>▁▁▁▁██</td></tr><tr><td>policy/approx_kl</td><td>▁▇▄█▁▁</td></tr><tr><td>policy/clipfrac</td><td>▁▇██▆▆</td></tr><tr><td>ratio</td><td>▁▇▄█▁▁</td></tr><tr><td>returns/max</td><td>▁▁▁▁██</td></tr><tr><td>returns/mean</td><td>████▁▁</td></tr><tr><td>returns/min</td><td>████▁▁</td></tr><tr><td>returns/std</td><td>▁▁▁▁██</td></tr><tr><td>reward/mean</td><td>▁</td></tr><tr><td>time/backward</td><td>▁▇▄▃▁█</td></tr><tr><td>time/exp</td><td>▁</td></tr><tr><td>time/exp_generate</td><td>▁</td></tr><tr><td>time/exp_score</td><td>▁</td></tr><tr><td>time/forward</td><td>▃█▁▁▁▁</td></tr><tr><td>time/generate</td><td>▁</td></tr><tr><td>values/clipfrac</td><td>▁▁▅▆█▇</td></tr><tr><td>values/max</td><td>▁█▂▁▃▄</td></tr><tr><td>values/mean</td><td>▄█▁▂▃▄</td></tr><tr><td>values/min</td><td>█▇▁▇▅▅</td></tr><tr><td>values/std</td><td>▁█▇▂▄▅</td></tr><tr><td>values/values_error</td><td>▁█▅▂▂▂</td></tr></table><br/></div><div class=\"wandb-col\"><h3>Run summary:</h3><br/><table class=\"wandb\"><tr><td>exp_scores/mean</td><td>0.0</td></tr><tr><td>exp_scores/running_mean</td><td>0.0</td></tr><tr><td>exp_scores/running_std</td><td>0.0</td></tr><tr><td>exp_scores/std</td><td>0.0</td></tr><tr><td>kl_ctl_value</td><td>0.05</td></tr><tr><td>learning_rate_group_0</td><td>0.001</td></tr><tr><td>losses/policy_loss</td><td>0.20494</td></tr><tr><td>losses/total_loss</td><td>1.01648</td></tr><tr><td>losses/value_loss</td><td>0.81154</td></tr><tr><td>old_values/max</td><td>0.93913</td></tr><tr><td>old_values/mean</td><td>-0.1684</td></tr><tr><td>old_values/min</td><td>-2.16772</td></tr><tr><td>old_values/std</td><td>0.41028</td></tr><tr><td>padding_percentage</td><td>0.8872</td></tr><tr><td>policy/approx_kl</td><td>12.8301</td></tr><tr><td>policy/clipfrac</td><td>0.58505</td></tr><tr><td>ratio</td><td>12.86617</td></tr><tr><td>returns/max</td><td>0.16707</td></tr><tr><td>returns/mean</td><td>-0.08991</td></tr><tr><td>returns/min</td><td>-0.8224</td></tr><tr><td>returns/std</td><td>0.17349</td></tr><tr><td>reward/mean</td><td>0.0</td></tr><tr><td>time/backward</td><td>6.50297</td></tr><tr><td>time/exp</td><td>18.86136</td></tr><tr><td>time/exp_generate</td><td>8.62055</td></tr><tr><td>time/exp_score</td><td>6e-05</td></tr><tr><td>time/forward</td><td>3.73223</td></tr><tr><td>time/generate</td><td>8.81717</td></tr><tr><td>values/clipfrac</td><td>0.06014</td></tr><tr><td>values/max</td><td>4.25154</td></tr><tr><td>values/mean</td><td>0.31305</td></tr><tr><td>values/min</td><td>-3.66222</td></tr><tr><td>values/std</td><td>1.15779</td></tr><tr><td>values/values_error</td><td>1.60631</td></tr></table><br/></div></div>"
            ]
          },
          "metadata": {}
        },
        {
          "output_type": "display_data",
          "data": {
            "text/plain": [
              "<IPython.core.display.HTML object>"
            ],
            "text/html": [
              " View run <strong style=\"color:#cdcd00\">ipykernel_launcher/distilgpt2/1gpu:main</strong> at: <a href=\"https://wandb.ai/akulyat/trlx/runs/oz4optxj\" target=\"_blank\">https://wandb.ai/akulyat/trlx/runs/oz4optxj</a><br/>Synced 5 W&B file(s), 1 media file(s), 1 artifact file(s) and 0 other file(s)"
            ]
          },
          "metadata": {}
        },
        {
          "output_type": "display_data",
          "data": {
            "text/plain": [
              "<IPython.core.display.HTML object>"
            ],
            "text/html": [
              "Find logs at: <code>./wandb/run-20230201_113216-oz4optxj/logs</code>"
            ]
          },
          "metadata": {}
        },
        {
          "output_type": "display_data",
          "data": {
            "text/plain": [
              "<IPython.core.display.HTML object>"
            ],
            "text/html": [
              "Successfully finished last run (ID:oz4optxj). Initializing new run:<br/>"
            ]
          },
          "metadata": {}
        },
        {
          "output_type": "display_data",
          "data": {
            "text/plain": [
              "<IPython.core.display.HTML object>"
            ],
            "text/html": [
              "Tracking run with wandb version 0.13.9"
            ]
          },
          "metadata": {}
        },
        {
          "output_type": "display_data",
          "data": {
            "text/plain": [
              "<IPython.core.display.HTML object>"
            ],
            "text/html": [
              "Run data is saved locally in <code>/content/wandb/run-20230201_113531-eo13k3jq</code>"
            ]
          },
          "metadata": {}
        },
        {
          "output_type": "display_data",
          "data": {
            "text/plain": [
              "<IPython.core.display.HTML object>"
            ],
            "text/html": [
              "Syncing run <strong><a href=\"https://wandb.ai/akulyat/trlx/runs/eo13k3jq\" target=\"_blank\">ipykernel_launcher/distilgpt2/1gpu:main</a></strong> to <a href=\"https://wandb.ai/akulyat/trlx\" target=\"_blank\">Weights & Biases</a> (<a href=\"https://wandb.me/run\" target=\"_blank\">docs</a>)<br/>"
            ]
          },
          "metadata": {}
        },
        {
          "output_type": "display_data",
          "data": {
            "text/plain": [
              "<IPython.core.display.HTML object>"
            ],
            "text/html": [
              " View project at <a href=\"https://wandb.ai/akulyat/trlx\" target=\"_blank\">https://wandb.ai/akulyat/trlx</a>"
            ]
          },
          "metadata": {}
        },
        {
          "output_type": "display_data",
          "data": {
            "text/plain": [
              "<IPython.core.display.HTML object>"
            ],
            "text/html": [
              " View run at <a href=\"https://wandb.ai/akulyat/trlx/runs/eo13k3jq\" target=\"_blank\">https://wandb.ai/akulyat/trlx/runs/eo13k3jq</a>"
            ]
          },
          "metadata": {}
        },
        {
          "output_type": "stream",
          "name": "stderr",
          "text": [
            "You're using a GPT2TokenizerFast tokenizer. Please note that with a fast tokenizer, using the `__call__` method is faster than using a method to encode the text followed by a call to the `pad` method to get a padded encoding.\n",
            "A decoder-only architecture is being used, but right-padding was detected! For correct generation results, please set `padding_side='left'` when initializing the tokenizer.\n",
            "A decoder-only architecture is being used, but right-padding was detected! For correct generation results, please set `padding_side='left'` when initializing the tokenizer.\n",
            "A decoder-only architecture is being used, but right-padding was detected! For correct generation results, please set `padding_side='left'` when initializing the tokenizer.\n",
            "A decoder-only architecture is being used, but right-padding was detected! For correct generation results, please set `padding_side='left'` when initializing the tokenizer.\n",
            "A decoder-only architecture is being used, but right-padding was detected! For correct generation results, please set `padding_side='left'` when initializing the tokenizer.\n"
          ]
        },
        {
          "output_type": "display_data",
          "data": {
            "text/plain": [
              "\u001b[3m                                          Evaluation #0 reward/mean: 0.0                                           \u001b[0m\n",
              "┏━━━━━━━━┳━━━━━━━━━━━━━━━━━━━━━━━━━━━━━━━━━━━━━━━━━━━━━━━━━━━━━━━━━━━━━━━━━━━━━━━━━━━━━━━━━━━━━━━━━━━━━━━┳━━━━━━━━┓\n",
              "┃\u001b[1m \u001b[0m\u001b[1mprompt\u001b[0m\u001b[1m \u001b[0m┃\u001b[1m \u001b[0m\u001b[1moutput                                                                                       \u001b[0m\u001b[1m \u001b[0m┃\u001b[1m \u001b[0m\u001b[1mreward\u001b[0m\u001b[1m \u001b[0m┃\n",
              "┡━━━━━━━━╇━━━━━━━━━━━━━━━━━━━━━━━━━━━━━━━━━━━━━━━━━━━━━━━━━━━━━━━━━━━━━━━━━━━━━━━━━━━━━━━━━━━━━━━━━━━━━━━╇━━━━━━━━┩\n",
              "│        │  The Feb. 20 update here exists for those interested in building their own mutual trust in    │ 0.0    │\n",
              "│        │ the game. Here is a sneak peek of the project, and it will contain some serious Gamebrokes on │        │\n",
              "│        │ how                                                                                           │        │\n",
              "├────────┼───────────────────────────────────────────────────────────────────────────────────────────────┼────────┤\n",
              "│        │ Only% of API-Token holders earn an income by seeding tokens, and this study could lead us to  │ 0.0    │\n",
              "│        │ more usability concerns, as adoption advantages can shrink in the coming years.               │        │\n",
              "│        │                                                                                               │        │\n",
              "│        │                                                                                               │        │\n",
              "│        │                                                                                               │        │\n",
              "│        │                                                                                               │        │\n",
              "├────────┼───────────────────────────────────────────────────────────────────────────────────────────────┼────────┤\n",
              "│        │ Mount Special Kymaine Adventure Group is proud to announce the existing kickstand mode for    │ 0.0    │\n",
              "│        │ Kymaine 4K Acrobatics and Kickstands and Playtest GCSE 2017. The Kymaine                      │        │\n",
              "└────────┴───────────────────────────────────────────────────────────────────────────────────────────────┴────────┘\n"
            ],
            "text/html": [
              "<pre style=\"white-space:pre;overflow-x:auto;line-height:normal;font-family:Menlo,'DejaVu Sans Mono',consolas,'Courier New',monospace\"><span style=\"font-style: italic\">                                          Evaluation #0 reward/mean: 0.0                                           </span>\n",
              "┏━━━━━━━━┳━━━━━━━━━━━━━━━━━━━━━━━━━━━━━━━━━━━━━━━━━━━━━━━━━━━━━━━━━━━━━━━━━━━━━━━━━━━━━━━━━━━━━━━━━━━━━━━┳━━━━━━━━┓\n",
              "┃<span style=\"font-weight: bold\"> prompt </span>┃<span style=\"font-weight: bold\"> output                                                                                        </span>┃<span style=\"font-weight: bold\"> reward </span>┃\n",
              "┡━━━━━━━━╇━━━━━━━━━━━━━━━━━━━━━━━━━━━━━━━━━━━━━━━━━━━━━━━━━━━━━━━━━━━━━━━━━━━━━━━━━━━━━━━━━━━━━━━━━━━━━━━╇━━━━━━━━┩\n",
              "│        │  The Feb. 20 update here exists for those interested in building their own mutual trust in    │ 0.0    │\n",
              "│        │ the game. Here is a sneak peek of the project, and it will contain some serious Gamebrokes on │        │\n",
              "│        │ how                                                                                           │        │\n",
              "├────────┼───────────────────────────────────────────────────────────────────────────────────────────────┼────────┤\n",
              "│        │ Only% of API-Token holders earn an income by seeding tokens, and this study could lead us to  │ 0.0    │\n",
              "│        │ more usability concerns, as adoption advantages can shrink in the coming years.               │        │\n",
              "│        │                                                                                               │        │\n",
              "│        │                                                                                               │        │\n",
              "│        │                                                                                               │        │\n",
              "│        │                                                                                               │        │\n",
              "├────────┼───────────────────────────────────────────────────────────────────────────────────────────────┼────────┤\n",
              "│        │ Mount Special Kymaine Adventure Group is proud to announce the existing kickstand mode for    │ 0.0    │\n",
              "│        │ Kymaine 4K Acrobatics and Kickstands and Playtest GCSE 2017. The Kymaine                      │        │\n",
              "└────────┴───────────────────────────────────────────────────────────────────────────────────────────────┴────────┘\n",
              "</pre>\n"
            ]
          },
          "metadata": {}
        },
        {
          "output_type": "stream",
          "name": "stderr",
          "text": [
            "\n",
            "\n",
            "  0%|          | 0/8 [00:00<?, ?it/s]\u001b[A\u001b[A\n",
            "\n",
            "losses/total_loss: 0.01, losses/policy_loss: -0.05, losses/value_loss: 0.06:   0%|          | 0/8 [00:11<?, ?it/s]\u001b[A\u001b[A\n",
            "\n",
            "losses/total_loss: 0.01, losses/policy_loss: -0.05, losses/value_loss: 0.06:  12%|█▎        | 1/8 [00:11<01:18, 11.23s/it]\u001b[A\u001b[A\n",
            "\n",
            "losses/total_loss: -0.04, losses/policy_loss: -0.13, losses/value_loss: 0.09:  12%|█▎        | 1/8 [00:21<01:18, 11.23s/it]\u001b[A\u001b[A\n",
            "\n",
            "losses/total_loss: -0.04, losses/policy_loss: -0.13, losses/value_loss: 0.09:  25%|██▌       | 2/8 [00:21<01:05, 10.92s/it]\u001b[A\u001b[A\n",
            "\n",
            "losses/total_loss: -0.09, losses/policy_loss: -0.15, losses/value_loss: 0.06:  25%|██▌       | 2/8 [00:32<01:05, 10.92s/it]\u001b[A\u001b[A\n",
            "\n",
            "losses/total_loss: -0.09, losses/policy_loss: -0.15, losses/value_loss: 0.06:  38%|███▊      | 3/8 [00:32<00:54, 10.82s/it]\u001b[A\u001b[A\n",
            "\n",
            "losses/total_loss: -0.11, losses/policy_loss: -0.17, losses/value_loss: 0.05:  38%|███▊      | 3/8 [00:43<00:54, 10.82s/it]\u001b[A\u001b[A\n",
            "\n",
            "losses/total_loss: -0.11, losses/policy_loss: -0.17, losses/value_loss: 0.05:  50%|█████     | 4/8 [00:43<00:42, 10.72s/it]\u001b[A\u001b[A\n",
            "\n",
            "losses/total_loss: -0.00, losses/policy_loss: -0.07, losses/value_loss: 0.07:  50%|█████     | 4/8 [00:56<00:42, 10.72s/it]\u001b[A\u001b[A\n",
            "\n",
            "losses/total_loss: -0.00, losses/policy_loss: -0.07, losses/value_loss: 0.07:  62%|██████▎   | 5/8 [00:56<00:35, 11.70s/it]\u001b[A\u001b[A\n",
            "\n",
            "losses/total_loss: -0.06, losses/policy_loss: -0.11, losses/value_loss: 0.06:  62%|██████▎   | 5/8 [01:07<00:35, 11.70s/it]\u001b[A\u001b[A\n",
            "\n",
            "losses/total_loss: -0.06, losses/policy_loss: -0.11, losses/value_loss: 0.06:  75%|███████▌  | 6/8 [01:07<00:22, 11.30s/it]\u001b[A\u001b[A\n",
            "\n",
            "losses/total_loss: -0.09, losses/policy_loss: -0.14, losses/value_loss: 0.05:  75%|███████▌  | 6/8 [01:17<00:22, 11.30s/it]\u001b[A\u001b[A\n",
            "\n",
            "losses/total_loss: -0.09, losses/policy_loss: -0.14, losses/value_loss: 0.05:  88%|████████▊ | 7/8 [01:17<00:11, 11.15s/it]\u001b[A\u001b[A\n",
            "\n",
            "losses/total_loss: -0.10, losses/policy_loss: -0.15, losses/value_loss: 0.05:  88%|████████▊ | 7/8 [01:28<00:11, 11.15s/it]\u001b[A\u001b[A\n",
            "\n",
            "losses/total_loss: -0.10, losses/policy_loss: -0.15, losses/value_loss: 0.05: 100%|██████████| 8/8 [01:28<00:00, 10.95s/it]\u001b[A\u001b[AA decoder-only architecture is being used, but right-padding was detected! For correct generation results, please set `padding_side='left'` when initializing the tokenizer.\n"
          ]
        },
        {
          "output_type": "display_data",
          "data": {
            "text/plain": [
              "\u001b[3m                                          Evaluation #1 reward/mean: 0.0                                           \u001b[0m\n",
              "┏━━━━━━━━┳━━━━━━━━━━━━━━━━━━━━━━━━━━━━━━━━━━━━━━━━━━━━━━━━━━━━━━━━━━━━━━━━━━━━━━━━━━━━━━━━━━━━━━━━━━━━━━━┳━━━━━━━━┓\n",
              "┃\u001b[1m \u001b[0m\u001b[1mprompt\u001b[0m\u001b[1m \u001b[0m┃\u001b[1m \u001b[0m\u001b[1moutput                                                                                       \u001b[0m\u001b[1m \u001b[0m┃\u001b[1m \u001b[0m\u001b[1mreward\u001b[0m\u001b[1m \u001b[0m┃\n",
              "┡━━━━━━━━╇━━━━━━━━━━━━━━━━━━━━━━━━━━━━━━━━━━━━━━━━━━━━━━━━━━━━━━━━━━━━━━━━━━━━━━━━━━━━━━━━━━━━━━━━━━━━━━━╇━━━━━━━━┩\n",
              "│        │ 1. Initiate a trade with a trading partner that indicates how likely the Flash to raid the    │ 0.0    │\n",
              "│        │ Galaxy Center, kick off the event with a trade decision, and usually when the strike will     │        │\n",
              "│        │ leave the top                                                                                 │        │\n",
              "├────────┼───────────────────────────────────────────────────────────────────────────────────────────────┼────────┤\n",
              "│        │ AFP) - Sweden could launch a science cruise missile next year, sending a heavy, if not        │ 0.0    │\n",
              "│        │ overwhelming wave of missiles it says could cross the Pacific into the Pacific Ocean and head │        │\n",
              "│        │ to the area of Guam                                                                           │        │\n",
              "├────────┼───────────────────────────────────────────────────────────────────────────────────────────────┼────────┤\n",
              "│        │ Фацизалениеника зальской отраки вые м                                                         │ 0.0    │\n",
              "└────────┴───────────────────────────────────────────────────────────────────────────────────────────────┴────────┘\n"
            ],
            "text/html": [
              "<pre style=\"white-space:pre;overflow-x:auto;line-height:normal;font-family:Menlo,'DejaVu Sans Mono',consolas,'Courier New',monospace\"><span style=\"font-style: italic\">                                          Evaluation #1 reward/mean: 0.0                                           </span>\n",
              "┏━━━━━━━━┳━━━━━━━━━━━━━━━━━━━━━━━━━━━━━━━━━━━━━━━━━━━━━━━━━━━━━━━━━━━━━━━━━━━━━━━━━━━━━━━━━━━━━━━━━━━━━━━┳━━━━━━━━┓\n",
              "┃<span style=\"font-weight: bold\"> prompt </span>┃<span style=\"font-weight: bold\"> output                                                                                        </span>┃<span style=\"font-weight: bold\"> reward </span>┃\n",
              "┡━━━━━━━━╇━━━━━━━━━━━━━━━━━━━━━━━━━━━━━━━━━━━━━━━━━━━━━━━━━━━━━━━━━━━━━━━━━━━━━━━━━━━━━━━━━━━━━━━━━━━━━━━╇━━━━━━━━┩\n",
              "│        │ 1. Initiate a trade with a trading partner that indicates how likely the Flash to raid the    │ 0.0    │\n",
              "│        │ Galaxy Center, kick off the event with a trade decision, and usually when the strike will     │        │\n",
              "│        │ leave the top                                                                                 │        │\n",
              "├────────┼───────────────────────────────────────────────────────────────────────────────────────────────┼────────┤\n",
              "│        │ AFP) - Sweden could launch a science cruise missile next year, sending a heavy, if not        │ 0.0    │\n",
              "│        │ overwhelming wave of missiles it says could cross the Pacific into the Pacific Ocean and head │        │\n",
              "│        │ to the area of Guam                                                                           │        │\n",
              "├────────┼───────────────────────────────────────────────────────────────────────────────────────────────┼────────┤\n",
              "│        │ Фацизалениеника зальской отраки вые м                                                         │ 0.0    │\n",
              "└────────┴───────────────────────────────────────────────────────────────────────────────────────────────┴────────┘\n",
              "</pre>\n"
            ]
          },
          "metadata": {}
        },
        {
          "output_type": "stream",
          "name": "stderr",
          "text": [
            "\rlosses/total_loss: -0.10, losses/policy_loss: -0.15, losses/value_loss: 0.05: 100%|██████████| 8/8 [01:42<00:00, 12.80s/it]\n"
          ]
        }
      ]
    },
    {
      "cell_type": "code",
      "source": [
        "sample_from_trainer(trainer)"
      ],
      "metadata": {
        "colab": {
          "base_uri": "https://localhost:8080/"
        },
        "id": "rlunoUkYwDhF",
        "outputId": "33c16f94-762e-4fd5-f0bb-0267de7c85e5"
      },
      "execution_count": 43,
      "outputs": [
        {
          "output_type": "stream",
          "name": "stdout",
          "text": [
            "Q: Who rules the world? A: He must either be a mercenary or a good soldier. When do people arrive at DC? A: An EU RPG. Qs: Why would you allow that mercenary to co-exist with the DC\n"
          ]
        }
      ]
    },
    {
      "cell_type": "markdown",
      "source": [
        "Example: `Q: Who rules the world? A:  He must either be a mercenary or a good soldier...`\n"
      ],
      "metadata": {
        "id": "f5dFtRxZw8Re"
      }
    },
    {
      "cell_type": "markdown",
      "source": [
        "###Medium Training"
      ],
      "metadata": {
        "id": "UO14ClnEw13G"
      }
    },
    {
      "cell_type": "code",
      "source": [
        "medium_config = get_medium_config()\n",
        "medium_trainer = trlx.train('distilgpt2', reward_fn=reward_fn, config=medium_config)\n"
      ],
      "metadata": {
        "colab": {
          "base_uri": "https://localhost:8080/",
          "height": 1000,
          "referenced_widgets": [
            "096624d5bee947bf8043c8f014cc4183",
            "2bed0d7b90d343d886b77e71cb5ecd19",
            "d77d5aaba6a0414a935092509723e323",
            "6656721b726b47538c469e169fdf42da",
            "03b0d9fc1a7d4677946c032bdb0b1bde",
            "aebdb8d8c1044857afe9d51aac3f490b",
            "e37a6e0735234727a105844428daa4fd",
            "8fb3b354be1e47c6885e66d68b45cb94"
          ]
        },
        "id": "tO7O8QJBwH7H",
        "outputId": "a9c6214f-c8e6-4b85-cbde-b85e9058c780"
      },
      "execution_count": 44,
      "outputs": [
        {
          "output_type": "display_data",
          "data": {
            "text/plain": [
              "<IPython.core.display.HTML object>"
            ],
            "text/html": [
              "Finishing last run (ID:eo13k3jq) before initializing another..."
            ]
          },
          "metadata": {}
        },
        {
          "output_type": "display_data",
          "data": {
            "text/plain": [
              "<IPython.core.display.HTML object>"
            ],
            "text/html": [
              "Waiting for W&B process to finish... <strong style=\"color:green\">(success).</strong>"
            ]
          },
          "metadata": {}
        },
        {
          "output_type": "display_data",
          "data": {
            "text/plain": [
              "VBox(children=(Label(value='0.012 MB of 0.012 MB uploaded (0.000 MB deduped)\\r'), FloatProgress(value=1.0, max…"
            ],
            "application/vnd.jupyter.widget-view+json": {
              "version_major": 2,
              "version_minor": 0,
              "model_id": "096624d5bee947bf8043c8f014cc4183"
            }
          },
          "metadata": {}
        },
        {
          "output_type": "display_data",
          "data": {
            "text/plain": [
              "<IPython.core.display.HTML object>"
            ],
            "text/html": [
              "<style>\n",
              "    table.wandb td:nth-child(1) { padding: 0 10px; text-align: left ; width: auto;} td:nth-child(2) {text-align: left ; width: 100%}\n",
              "    .wandb-row { display: flex; flex-direction: row; flex-wrap: wrap; justify-content: flex-start; width: 100% }\n",
              "    .wandb-col { display: flex; flex-direction: column; flex-basis: 100%; flex: 1; padding: 10px; }\n",
              "    </style>\n",
              "<div class=\"wandb-row\"><div class=\"wandb-col\"><h3>Run history:</h3><br/><table class=\"wandb\"><tr><td>exp_scores/mean</td><td>▁</td></tr><tr><td>exp_scores/running_mean</td><td>▁</td></tr><tr><td>exp_scores/running_std</td><td>▁</td></tr><tr><td>exp_scores/std</td><td>▁</td></tr><tr><td>kl_ctl_value</td><td>▁</td></tr><tr><td>learning_rate_group_0</td><td>▁▁▁▁▁▁▁▁</td></tr><tr><td>losses/policy_loss</td><td>█▃▂▁▇▄▃▂</td></tr><tr><td>losses/total_loss</td><td>█▅▂▁▇▄▂▂</td></tr><tr><td>losses/value_loss</td><td>▄█▃▂▄▃▁▂</td></tr><tr><td>old_values/max</td><td>████▁▁▁▁</td></tr><tr><td>old_values/mean</td><td>████▁▁▁▁</td></tr><tr><td>old_values/min</td><td>████▁▁▁▁</td></tr><tr><td>old_values/std</td><td>▁▁▁▁████</td></tr><tr><td>padding_percentage</td><td>▁▁▁▁████</td></tr><tr><td>policy/approx_kl</td><td>▁▂▄█▂▂▂▂</td></tr><tr><td>policy/clipfrac</td><td>▁▅▇█▅▆▇▇</td></tr><tr><td>ratio</td><td>▁▃▄█▁▁▁▁</td></tr><tr><td>returns/max</td><td>▁▁▁▁████</td></tr><tr><td>returns/mean</td><td>████▁▁▁▁</td></tr><tr><td>returns/min</td><td>████▁▁▁▁</td></tr><tr><td>returns/std</td><td>▁▁▁▁████</td></tr><tr><td>reward/mean</td><td>▁</td></tr><tr><td>time/backward</td><td>▁▁▂▁█▁▂▁</td></tr><tr><td>time/exp</td><td>▁</td></tr><tr><td>time/exp_generate</td><td>▁</td></tr><tr><td>time/exp_score</td><td>▁</td></tr><tr><td>time/forward</td><td>▇▄▁▁█▁▂▁</td></tr><tr><td>time/generate</td><td>▁</td></tr><tr><td>values/clipfrac</td><td>▁▆▇█▇▇██</td></tr><tr><td>values/max</td><td>█▆▄▂▁▂▄▅</td></tr><tr><td>values/mean</td><td>▃█▆▃▁▂▃▅</td></tr><tr><td>values/min</td><td>▁██▆▄▅▆█</td></tr><tr><td>values/std</td><td>█▃▃▂▃▂▂▁</td></tr><tr><td>values/values_error</td><td>██▃▃▆▄▁▁</td></tr></table><br/></div><div class=\"wandb-col\"><h3>Run summary:</h3><br/><table class=\"wandb\"><tr><td>exp_scores/mean</td><td>0.0</td></tr><tr><td>exp_scores/running_mean</td><td>0.0</td></tr><tr><td>exp_scores/running_std</td><td>0.0</td></tr><tr><td>exp_scores/std</td><td>0.0</td></tr><tr><td>kl_ctl_value</td><td>0.05</td></tr><tr><td>learning_rate_group_0</td><td>0.0001</td></tr><tr><td>losses/policy_loss</td><td>-0.15326</td></tr><tr><td>losses/total_loss</td><td>-0.10319</td></tr><tr><td>losses/value_loss</td><td>0.05007</td></tr><tr><td>old_values/max</td><td>0.93913</td></tr><tr><td>old_values/mean</td><td>-0.1684</td></tr><tr><td>old_values/min</td><td>-2.16772</td></tr><tr><td>old_values/std</td><td>0.41028</td></tr><tr><td>padding_percentage</td><td>0.8872</td></tr><tr><td>policy/approx_kl</td><td>0.41139</td></tr><tr><td>policy/clipfrac</td><td>0.67869</td></tr><tr><td>ratio</td><td>1.11443</td></tr><tr><td>returns/max</td><td>0.16707</td></tr><tr><td>returns/mean</td><td>-0.08991</td></tr><tr><td>returns/min</td><td>-0.8224</td></tr><tr><td>returns/std</td><td>0.17349</td></tr><tr><td>reward/mean</td><td>0.0</td></tr><tr><td>time/backward</td><td>6.20603</td></tr><tr><td>time/exp</td><td>18.66946</td></tr><tr><td>time/exp_generate</td><td>8.85409</td></tr><tr><td>time/exp_score</td><td>6e-05</td></tr><tr><td>time/forward</td><td>3.81868</td></tr><tr><td>time/generate</td><td>8.40271</td></tr><tr><td>values/clipfrac</td><td>0.19072</td></tr><tr><td>values/max</td><td>0.708</td></tr><tr><td>values/mean</td><td>-0.01355</td></tr><tr><td>values/min</td><td>-0.87664</td></tr><tr><td>values/std</td><td>0.18377</td></tr><tr><td>values/values_error</td><td>0.04509</td></tr></table><br/></div></div>"
            ]
          },
          "metadata": {}
        },
        {
          "output_type": "display_data",
          "data": {
            "text/plain": [
              "<IPython.core.display.HTML object>"
            ],
            "text/html": [
              " View run <strong style=\"color:#cdcd00\">ipykernel_launcher/distilgpt2/1gpu:main</strong> at: <a href=\"https://wandb.ai/akulyat/trlx/runs/eo13k3jq\" target=\"_blank\">https://wandb.ai/akulyat/trlx/runs/eo13k3jq</a><br/>Synced 5 W&B file(s), 1 media file(s), 1 artifact file(s) and 0 other file(s)"
            ]
          },
          "metadata": {}
        },
        {
          "output_type": "display_data",
          "data": {
            "text/plain": [
              "<IPython.core.display.HTML object>"
            ],
            "text/html": [
              "Find logs at: <code>./wandb/run-20230201_113531-eo13k3jq/logs</code>"
            ]
          },
          "metadata": {}
        },
        {
          "output_type": "display_data",
          "data": {
            "text/plain": [
              "<IPython.core.display.HTML object>"
            ],
            "text/html": [
              "Successfully finished last run (ID:eo13k3jq). Initializing new run:<br/>"
            ]
          },
          "metadata": {}
        },
        {
          "output_type": "display_data",
          "data": {
            "text/plain": [
              "<IPython.core.display.HTML object>"
            ],
            "text/html": [
              "Tracking run with wandb version 0.13.9"
            ]
          },
          "metadata": {}
        },
        {
          "output_type": "display_data",
          "data": {
            "text/plain": [
              "<IPython.core.display.HTML object>"
            ],
            "text/html": [
              "Run data is saved locally in <code>/content/wandb/run-20230201_114359-i1doxhor</code>"
            ]
          },
          "metadata": {}
        },
        {
          "output_type": "display_data",
          "data": {
            "text/plain": [
              "<IPython.core.display.HTML object>"
            ],
            "text/html": [
              "Syncing run <strong><a href=\"https://wandb.ai/akulyat/trlx/runs/i1doxhor\" target=\"_blank\">ipykernel_launcher/distilgpt2/1gpu:main</a></strong> to <a href=\"https://wandb.ai/akulyat/trlx\" target=\"_blank\">Weights & Biases</a> (<a href=\"https://wandb.me/run\" target=\"_blank\">docs</a>)<br/>"
            ]
          },
          "metadata": {}
        },
        {
          "output_type": "display_data",
          "data": {
            "text/plain": [
              "<IPython.core.display.HTML object>"
            ],
            "text/html": [
              " View project at <a href=\"https://wandb.ai/akulyat/trlx\" target=\"_blank\">https://wandb.ai/akulyat/trlx</a>"
            ]
          },
          "metadata": {}
        },
        {
          "output_type": "display_data",
          "data": {
            "text/plain": [
              "<IPython.core.display.HTML object>"
            ],
            "text/html": [
              " View run at <a href=\"https://wandb.ai/akulyat/trlx/runs/i1doxhor\" target=\"_blank\">https://wandb.ai/akulyat/trlx/runs/i1doxhor</a>"
            ]
          },
          "metadata": {}
        },
        {
          "output_type": "stream",
          "name": "stderr",
          "text": [
            "You're using a GPT2TokenizerFast tokenizer. Please note that with a fast tokenizer, using the `__call__` method is faster than using a method to encode the text followed by a call to the `pad` method to get a padded encoding.\n",
            "A decoder-only architecture is being used, but right-padding was detected! For correct generation results, please set `padding_side='left'` when initializing the tokenizer.\n",
            "A decoder-only architecture is being used, but right-padding was detected! For correct generation results, please set `padding_side='left'` when initializing the tokenizer.\n",
            "A decoder-only architecture is being used, but right-padding was detected! For correct generation results, please set `padding_side='left'` when initializing the tokenizer.\n",
            "A decoder-only architecture is being used, but right-padding was detected! For correct generation results, please set `padding_side='left'` when initializing the tokenizer.\n",
            "A decoder-only architecture is being used, but right-padding was detected! For correct generation results, please set `padding_side='left'` when initializing the tokenizer.\n"
          ]
        },
        {
          "output_type": "display_data",
          "data": {
            "text/plain": [
              "\u001b[3m                                          Evaluation #0 reward/mean: 0.0                                           \u001b[0m\n",
              "┏━━━━━━━━┳━━━━━━━━━━━━━━━━━━━━━━━━━━━━━━━━━━━━━━━━━━━━━━━━━━━━━━━━━━━━━━━━━━━━━━━━━━━━━━━━━━━━━━━━━━━━━━━┳━━━━━━━━┓\n",
              "┃\u001b[1m \u001b[0m\u001b[1mprompt\u001b[0m\u001b[1m \u001b[0m┃\u001b[1m \u001b[0m\u001b[1moutput                                                                                       \u001b[0m\u001b[1m \u001b[0m┃\u001b[1m \u001b[0m\u001b[1mreward\u001b[0m\u001b[1m \u001b[0m┃\n",
              "┡━━━━━━━━╇━━━━━━━━━━━━━━━━━━━━━━━━━━━━━━━━━━━━━━━━━━━━━━━━━━━━━━━━━━━━━━━━━━━━━━━━━━━━━━━━━━━━━━━━━━━━━━━╇━━━━━━━━┩\n",
              "│        │  The Feb. 20 update here exists for those interested in building their own mutual trust in    │ 0.0    │\n",
              "│        │ the game. Here is a sneak peek of the project, and it will contain some serious Gamebrokes on │        │\n",
              "│        │ how                                                                                           │        │\n",
              "├────────┼───────────────────────────────────────────────────────────────────────────────────────────────┼────────┤\n",
              "│        │ Only% of API-Token holders earn an income by seeding tokens, and this study could lead us to  │ 0.0    │\n",
              "│        │ more usability concerns, as adoption advantages can shrink in the coming years.               │        │\n",
              "│        │                                                                                               │        │\n",
              "│        │                                                                                               │        │\n",
              "│        │                                                                                               │        │\n",
              "│        │                                                                                               │        │\n",
              "├────────┼───────────────────────────────────────────────────────────────────────────────────────────────┼────────┤\n",
              "│        │ Mount Special Kymaine Adventure Group is proud to announce the existing kickstand mode for    │ 0.0    │\n",
              "│        │ Kymaine 4K Acrobatics and Kickstands and Playtest GCSE 2017. The Kymaine                      │        │\n",
              "└────────┴───────────────────────────────────────────────────────────────────────────────────────────────┴────────┘\n"
            ],
            "text/html": [
              "<pre style=\"white-space:pre;overflow-x:auto;line-height:normal;font-family:Menlo,'DejaVu Sans Mono',consolas,'Courier New',monospace\"><span style=\"font-style: italic\">                                          Evaluation #0 reward/mean: 0.0                                           </span>\n",
              "┏━━━━━━━━┳━━━━━━━━━━━━━━━━━━━━━━━━━━━━━━━━━━━━━━━━━━━━━━━━━━━━━━━━━━━━━━━━━━━━━━━━━━━━━━━━━━━━━━━━━━━━━━━┳━━━━━━━━┓\n",
              "┃<span style=\"font-weight: bold\"> prompt </span>┃<span style=\"font-weight: bold\"> output                                                                                        </span>┃<span style=\"font-weight: bold\"> reward </span>┃\n",
              "┡━━━━━━━━╇━━━━━━━━━━━━━━━━━━━━━━━━━━━━━━━━━━━━━━━━━━━━━━━━━━━━━━━━━━━━━━━━━━━━━━━━━━━━━━━━━━━━━━━━━━━━━━━╇━━━━━━━━┩\n",
              "│        │  The Feb. 20 update here exists for those interested in building their own mutual trust in    │ 0.0    │\n",
              "│        │ the game. Here is a sneak peek of the project, and it will contain some serious Gamebrokes on │        │\n",
              "│        │ how                                                                                           │        │\n",
              "├────────┼───────────────────────────────────────────────────────────────────────────────────────────────┼────────┤\n",
              "│        │ Only% of API-Token holders earn an income by seeding tokens, and this study could lead us to  │ 0.0    │\n",
              "│        │ more usability concerns, as adoption advantages can shrink in the coming years.               │        │\n",
              "│        │                                                                                               │        │\n",
              "│        │                                                                                               │        │\n",
              "│        │                                                                                               │        │\n",
              "│        │                                                                                               │        │\n",
              "├────────┼───────────────────────────────────────────────────────────────────────────────────────────────┼────────┤\n",
              "│        │ Mount Special Kymaine Adventure Group is proud to announce the existing kickstand mode for    │ 0.0    │\n",
              "│        │ Kymaine 4K Acrobatics and Kickstands and Playtest GCSE 2017. The Kymaine                      │        │\n",
              "└────────┴───────────────────────────────────────────────────────────────────────────────────────────────┴────────┘\n",
              "</pre>\n"
            ]
          },
          "metadata": {}
        },
        {
          "output_type": "stream",
          "name": "stderr",
          "text": [
            "\n",
            "\n",
            "  0%|          | 0/80 [00:00<?, ?it/s]\u001b[A\u001b[A\n",
            "\n",
            "losses/total_loss: 0.01, losses/policy_loss: -0.05, losses/value_loss: 0.06:   0%|          | 0/80 [00:11<?, ?it/s]\u001b[A\u001b[A\n",
            "\n",
            "losses/total_loss: 0.01, losses/policy_loss: -0.05, losses/value_loss: 0.06:   1%|▏         | 1/80 [00:11<14:46, 11.22s/it]\u001b[A\u001b[A\n",
            "\n",
            "losses/total_loss: 11.02, losses/policy_loss: 5.72, losses/value_loss: 5.30:   1%|▏         | 1/80 [00:21<14:46, 11.22s/it]\u001b[A\u001b[A\n",
            "\n",
            "losses/total_loss: 11.02, losses/policy_loss: 5.72, losses/value_loss: 5.30:   2%|▎         | 2/80 [00:21<14:09, 10.89s/it]\u001b[A\u001b[A\n",
            "\n",
            "losses/total_loss: 3.07, losses/policy_loss: 0.05, losses/value_loss: 3.02:   2%|▎         | 2/80 [00:32<14:09, 10.89s/it] \u001b[A\u001b[A\n",
            "\n",
            "losses/total_loss: 3.07, losses/policy_loss: 0.05, losses/value_loss: 3.02:   4%|▍         | 3/80 [00:32<13:44, 10.71s/it]\u001b[A\u001b[A\n",
            "\n",
            "losses/total_loss: 0.63, losses/policy_loss: -0.06, losses/value_loss: 0.69:   4%|▍         | 3/80 [00:43<13:44, 10.71s/it]\u001b[A\u001b[A\n",
            "\n",
            "losses/total_loss: 0.63, losses/policy_loss: -0.06, losses/value_loss: 0.69:   5%|▌         | 4/80 [00:43<13:37, 10.75s/it]\u001b[A\u001b[A\n",
            "\n",
            "losses/total_loss: 3.10, losses/policy_loss: 2.56, losses/value_loss: 0.54:   5%|▌         | 4/80 [00:53<13:37, 10.75s/it] \u001b[A\u001b[A\n",
            "\n",
            "losses/total_loss: 3.10, losses/policy_loss: 2.56, losses/value_loss: 0.54:   6%|▋         | 5/80 [00:53<13:21, 10.69s/it]\u001b[A\u001b[A\n",
            "\n",
            "losses/total_loss: 1.02, losses/policy_loss: 0.20, losses/value_loss: 0.81:   6%|▋         | 5/80 [01:04<13:21, 10.69s/it]\u001b[A\u001b[A\n",
            "\n",
            "losses/total_loss: 1.02, losses/policy_loss: 0.20, losses/value_loss: 0.81:   8%|▊         | 6/80 [01:04<13:06, 10.63s/it]\u001b[A\u001b[A\n",
            "\n",
            "losses/total_loss: 0.75, losses/policy_loss: 0.14, losses/value_loss: 0.61:   8%|▊         | 6/80 [01:14<13:06, 10.63s/it]\u001b[A\u001b[A\n",
            "\n",
            "losses/total_loss: 0.75, losses/policy_loss: 0.14, losses/value_loss: 0.61:   9%|▉         | 7/80 [01:14<12:53, 10.60s/it]\u001b[A\u001b[A\n",
            "\n",
            "losses/total_loss: 0.49, losses/policy_loss: 0.10, losses/value_loss: 0.38:   9%|▉         | 7/80 [01:25<12:53, 10.60s/it]\u001b[A\u001b[A\n",
            "\n",
            "losses/total_loss: 0.49, losses/policy_loss: 0.10, losses/value_loss: 0.38:  10%|█         | 8/80 [01:25<12:42, 10.59s/it]\u001b[A\u001b[A\n",
            "\n",
            "losses/total_loss: 9.78, losses/policy_loss: 9.28, losses/value_loss: 0.50:  10%|█         | 8/80 [01:36<12:42, 10.59s/it]\u001b[A\u001b[A\n",
            "\n",
            "losses/total_loss: 9.78, losses/policy_loss: 9.28, losses/value_loss: 0.50:  11%|█▏        | 9/80 [01:36<12:35, 10.65s/it]\u001b[A\u001b[A\n",
            "\n",
            "losses/total_loss: 0.53, losses/policy_loss: 0.22, losses/value_loss: 0.31:  11%|█▏        | 9/80 [01:46<12:35, 10.65s/it]\u001b[A\u001b[A\n",
            "\n",
            "losses/total_loss: 0.53, losses/policy_loss: 0.22, losses/value_loss: 0.31:  12%|█▎        | 10/80 [01:46<12:26, 10.66s/it]\u001b[A\u001b[A\n",
            "\n",
            "losses/total_loss: 0.48, losses/policy_loss: 0.15, losses/value_loss: 0.33:  12%|█▎        | 10/80 [01:58<12:26, 10.66s/it]\u001b[A\u001b[A\n",
            "\n",
            "losses/total_loss: 0.48, losses/policy_loss: 0.15, losses/value_loss: 0.33:  14%|█▍        | 11/80 [01:58<12:29, 10.86s/it]\u001b[A\u001b[A\n",
            "\n",
            "losses/total_loss: 0.42, losses/policy_loss: 0.17, losses/value_loss: 0.25:  14%|█▍        | 11/80 [02:12<12:29, 10.86s/it]\u001b[A\u001b[A\n",
            "\n",
            "losses/total_loss: 0.42, losses/policy_loss: 0.17, losses/value_loss: 0.25:  15%|█▌        | 12/80 [02:12<13:22, 11.80s/it]\u001b[A\u001b[A\n",
            "\n",
            "losses/total_loss: 0.94, losses/policy_loss: 0.68, losses/value_loss: 0.26:  15%|█▌        | 12/80 [02:22<13:22, 11.80s/it]\u001b[A\u001b[A\n",
            "\n",
            "losses/total_loss: 0.94, losses/policy_loss: 0.68, losses/value_loss: 0.26:  16%|█▋        | 13/80 [02:22<12:45, 11.43s/it]\u001b[A\u001b[A\n",
            "\n",
            "losses/total_loss: 0.46, losses/policy_loss: 0.21, losses/value_loss: 0.25:  16%|█▋        | 13/80 [02:33<12:45, 11.43s/it]\u001b[A\u001b[A\n",
            "\n",
            "losses/total_loss: 0.46, losses/policy_loss: 0.21, losses/value_loss: 0.25:  18%|█▊        | 14/80 [02:33<12:21, 11.24s/it]\u001b[A\u001b[A\n",
            "\n",
            "losses/total_loss: 0.38, losses/policy_loss: 0.23, losses/value_loss: 0.15:  18%|█▊        | 14/80 [02:44<12:21, 11.24s/it]\u001b[A\u001b[A\n",
            "\n",
            "losses/total_loss: 0.38, losses/policy_loss: 0.23, losses/value_loss: 0.15:  19%|█▉        | 15/80 [02:44<12:05, 11.16s/it]\u001b[A\u001b[A\n",
            "\n",
            "losses/total_loss: 0.43, losses/policy_loss: 0.26, losses/value_loss: 0.17:  19%|█▉        | 15/80 [02:55<12:05, 11.16s/it]\u001b[A\u001b[A\n",
            "\n",
            "losses/total_loss: 0.43, losses/policy_loss: 0.26, losses/value_loss: 0.17:  20%|██        | 16/80 [02:55<12:00, 11.25s/it]\u001b[A\u001b[AA decoder-only architecture is being used, but right-padding was detected! For correct generation results, please set `padding_side='left'` when initializing the tokenizer.\n",
            "A decoder-only architecture is being used, but right-padding was detected! For correct generation results, please set `padding_side='left'` when initializing the tokenizer.\n",
            "A decoder-only architecture is being used, but right-padding was detected! For correct generation results, please set `padding_side='left'` when initializing the tokenizer.\n",
            "A decoder-only architecture is being used, but right-padding was detected! For correct generation results, please set `padding_side='left'` when initializing the tokenizer.\n",
            "\n",
            "\n",
            "losses/total_loss: 31.16, losses/policy_loss: -0.01, losses/value_loss: 31.17:  20%|██        | 16/80 [04:23<12:00, 11.25s/it]\u001b[A\u001b[A\n",
            "\n",
            "losses/total_loss: 31.16, losses/policy_loss: -0.01, losses/value_loss: 31.17:  21%|██▏       | 17/80 [04:23<35:51, 34.15s/it]\u001b[A\u001b[A\n",
            "\n",
            "losses/total_loss: 30.29, losses/policy_loss: -0.04, losses/value_loss: 30.33:  21%|██▏       | 17/80 [04:33<35:51, 34.15s/it]\u001b[A\u001b[A\n",
            "\n",
            "losses/total_loss: 30.29, losses/policy_loss: -0.04, losses/value_loss: 30.33:  22%|██▎       | 18/80 [04:33<27:50, 26.95s/it]\u001b[A\u001b[A\n",
            "\n",
            "losses/total_loss: 31.90, losses/policy_loss: -0.06, losses/value_loss: 31.97:  22%|██▎       | 18/80 [04:44<27:50, 26.95s/it]\u001b[A\u001b[A\n",
            "\n",
            "losses/total_loss: 31.90, losses/policy_loss: -0.06, losses/value_loss: 31.97:  24%|██▍       | 19/80 [04:44<22:23, 22.02s/it]\u001b[A\u001b[A\n",
            "\n",
            "losses/total_loss: 33.44, losses/policy_loss: -0.03, losses/value_loss: 33.46:  24%|██▍       | 19/80 [04:54<22:23, 22.02s/it]\u001b[A\u001b[A\n",
            "\n",
            "losses/total_loss: 33.44, losses/policy_loss: -0.03, losses/value_loss: 33.46:  25%|██▌       | 20/80 [04:54<18:30, 18.51s/it]\u001b[A\u001b[A\n",
            "\n",
            "losses/total_loss: 22.08, losses/policy_loss: 0.15, losses/value_loss: 21.93:  25%|██▌       | 20/80 [05:04<18:30, 18.51s/it] \u001b[A\u001b[A\n",
            "\n",
            "losses/total_loss: 22.08, losses/policy_loss: 0.15, losses/value_loss: 21.93:  26%|██▋       | 21/80 [05:04<15:48, 16.07s/it]\u001b[A\u001b[A\n",
            "\n",
            "losses/total_loss: 20.42, losses/policy_loss: 0.16, losses/value_loss: 20.26:  26%|██▋       | 21/80 [05:14<15:48, 16.07s/it]\u001b[A\u001b[A\n",
            "\n",
            "losses/total_loss: 20.42, losses/policy_loss: 0.16, losses/value_loss: 20.26:  28%|██▊       | 22/80 [05:14<13:48, 14.29s/it]\u001b[A\u001b[A\n",
            "\n",
            "losses/total_loss: 19.20, losses/policy_loss: 0.16, losses/value_loss: 19.04:  28%|██▊       | 22/80 [05:25<13:48, 14.29s/it]\u001b[A\u001b[A\n",
            "\n",
            "losses/total_loss: 19.20, losses/policy_loss: 0.16, losses/value_loss: 19.04:  29%|██▉       | 23/80 [05:25<12:28, 13.14s/it]\u001b[A\u001b[A\n",
            "\n",
            "losses/total_loss: 18.54, losses/policy_loss: 0.04, losses/value_loss: 18.50:  29%|██▉       | 23/80 [05:35<12:28, 13.14s/it]\u001b[A\u001b[A\n",
            "\n",
            "losses/total_loss: 18.54, losses/policy_loss: 0.04, losses/value_loss: 18.50:  30%|███       | 24/80 [05:35<11:25, 12.24s/it]\u001b[A\u001b[A\n",
            "\n",
            "losses/total_loss: 22.40, losses/policy_loss: 1.37, losses/value_loss: 21.02:  30%|███       | 24/80 [05:45<11:25, 12.24s/it]\u001b[A\u001b[A\n",
            "\n",
            "losses/total_loss: 22.40, losses/policy_loss: 1.37, losses/value_loss: 21.02:  31%|███▏      | 25/80 [05:45<10:33, 11.53s/it]\u001b[A\u001b[A\n",
            "\n",
            "losses/total_loss: 21.14, losses/policy_loss: 0.11, losses/value_loss: 21.03:  31%|███▏      | 25/80 [05:55<10:33, 11.53s/it]\u001b[A\u001b[A\n",
            "\n",
            "losses/total_loss: 21.14, losses/policy_loss: 0.11, losses/value_loss: 21.03:  32%|███▎      | 26/80 [05:55<10:01, 11.13s/it]\u001b[A\u001b[A\n",
            "\n",
            "losses/total_loss: 21.30, losses/policy_loss: 0.13, losses/value_loss: 21.17:  32%|███▎      | 26/80 [06:06<10:01, 11.13s/it]\u001b[A\u001b[A\n",
            "\n",
            "losses/total_loss: 21.30, losses/policy_loss: 0.13, losses/value_loss: 21.17:  34%|███▍      | 27/80 [06:06<09:39, 10.93s/it]\u001b[A\u001b[A\n",
            "\n",
            "losses/total_loss: 21.10, losses/policy_loss: 0.10, losses/value_loss: 21.01:  34%|███▍      | 27/80 [06:16<09:39, 10.93s/it]\u001b[A\u001b[A\n",
            "\n",
            "losses/total_loss: 21.10, losses/policy_loss: 0.10, losses/value_loss: 21.01:  35%|███▌      | 28/80 [06:16<09:23, 10.83s/it]\u001b[A\u001b[A\n",
            "\n",
            "losses/total_loss: 18.05, losses/policy_loss: 0.59, losses/value_loss: 17.46:  35%|███▌      | 28/80 [06:28<09:23, 10.83s/it]\u001b[A\u001b[A\n",
            "\n",
            "losses/total_loss: 18.05, losses/policy_loss: 0.59, losses/value_loss: 17.46:  36%|███▋      | 29/80 [06:28<09:22, 11.03s/it]\u001b[A\u001b[A\n",
            "\n",
            "losses/total_loss: 17.43, losses/policy_loss: 0.08, losses/value_loss: 17.35:  36%|███▋      | 29/80 [06:41<09:22, 11.03s/it]\u001b[A\u001b[A\n",
            "\n",
            "losses/total_loss: 17.43, losses/policy_loss: 0.08, losses/value_loss: 17.35:  38%|███▊      | 30/80 [06:41<09:42, 11.65s/it]\u001b[A\u001b[A\n",
            "\n",
            "losses/total_loss: 17.29, losses/policy_loss: 0.09, losses/value_loss: 17.20:  38%|███▊      | 30/80 [06:55<09:42, 11.65s/it]\u001b[A\u001b[A\n",
            "\n",
            "losses/total_loss: 17.29, losses/policy_loss: 0.09, losses/value_loss: 17.20:  39%|███▉      | 31/80 [06:55<10:10, 12.46s/it]\u001b[A\u001b[A\n",
            "\n",
            "losses/total_loss: 17.32, losses/policy_loss: 0.10, losses/value_loss: 17.22:  39%|███▉      | 31/80 [07:10<10:10, 12.46s/it]\u001b[A\u001b[A\n",
            "\n",
            "losses/total_loss: 17.32, losses/policy_loss: 0.10, losses/value_loss: 17.22:  40%|████      | 32/80 [07:10<10:33, 13.19s/it]\u001b[A\u001b[AA decoder-only architecture is being used, but right-padding was detected! For correct generation results, please set `padding_side='left'` when initializing the tokenizer.\n",
            "A decoder-only architecture is being used, but right-padding was detected! For correct generation results, please set `padding_side='left'` when initializing the tokenizer.\n",
            "A decoder-only architecture is being used, but right-padding was detected! For correct generation results, please set `padding_side='left'` when initializing the tokenizer.\n",
            "A decoder-only architecture is being used, but right-padding was detected! For correct generation results, please set `padding_side='left'` when initializing the tokenizer.\n",
            "\n",
            "\n",
            "losses/total_loss: 3.18, losses/policy_loss: 0.02, losses/value_loss: 3.16:  40%|████      | 32/80 [08:38<10:33, 13.19s/it]  \u001b[A\u001b[A\n",
            "\n",
            "losses/total_loss: 3.18, losses/policy_loss: 0.02, losses/value_loss: 3.16:  41%|████▏     | 33/80 [08:38<27:51, 35.56s/it]\u001b[A\u001b[A\n",
            "\n",
            "losses/total_loss: 3.11, losses/policy_loss: -0.02, losses/value_loss: 3.13:  41%|████▏     | 33/80 [08:49<27:51, 35.56s/it]\u001b[A\u001b[A\n",
            "\n",
            "losses/total_loss: 3.11, losses/policy_loss: -0.02, losses/value_loss: 3.13:  42%|████▎     | 34/80 [08:49<21:37, 28.20s/it]\u001b[A\u001b[A\n",
            "\n",
            "losses/total_loss: 3.01, losses/policy_loss: -0.02, losses/value_loss: 3.03:  42%|████▎     | 34/80 [09:00<21:37, 28.20s/it]\u001b[A\u001b[A\n",
            "\n",
            "losses/total_loss: 3.01, losses/policy_loss: -0.02, losses/value_loss: 3.03:  44%|████▍     | 35/80 [09:00<17:16, 23.03s/it]\u001b[A\u001b[A\n",
            "\n",
            "losses/total_loss: 3.05, losses/policy_loss: -0.02, losses/value_loss: 3.08:  44%|████▍     | 35/80 [09:10<17:16, 23.03s/it]\u001b[A\u001b[A\n",
            "\n",
            "losses/total_loss: 3.05, losses/policy_loss: -0.02, losses/value_loss: 3.08:  45%|████▌     | 36/80 [09:11<14:11, 19.36s/it]\u001b[A\u001b[A\n",
            "\n",
            "losses/total_loss: 0.45, losses/policy_loss: 0.07, losses/value_loss: 0.39:  45%|████▌     | 36/80 [09:21<14:11, 19.36s/it] \u001b[A\u001b[A\n",
            "\n",
            "losses/total_loss: 0.45, losses/policy_loss: 0.07, losses/value_loss: 0.39:  46%|████▋     | 37/80 [09:21<12:03, 16.83s/it]\u001b[A\u001b[A\n",
            "\n",
            "losses/total_loss: 0.47, losses/policy_loss: 0.05, losses/value_loss: 0.43:  46%|████▋     | 37/80 [09:32<12:03, 16.83s/it]\u001b[A\u001b[A\n",
            "\n",
            "losses/total_loss: 0.47, losses/policy_loss: 0.05, losses/value_loss: 0.43:  48%|████▊     | 38/80 [09:32<10:32, 15.07s/it]\u001b[A\u001b[A\n",
            "\n",
            "losses/total_loss: 0.44, losses/policy_loss: 0.03, losses/value_loss: 0.41:  48%|████▊     | 38/80 [09:43<10:32, 15.07s/it]\u001b[A\u001b[A\n",
            "\n",
            "losses/total_loss: 0.44, losses/policy_loss: 0.03, losses/value_loss: 0.41:  49%|████▉     | 39/80 [09:43<09:25, 13.79s/it]\u001b[A\u001b[A\n",
            "\n",
            "losses/total_loss: 0.40, losses/policy_loss: 0.02, losses/value_loss: 0.39:  49%|████▉     | 39/80 [09:54<09:25, 13.79s/it]\u001b[A\u001b[A\n",
            "\n",
            "losses/total_loss: 0.40, losses/policy_loss: 0.02, losses/value_loss: 0.39:  50%|█████     | 40/80 [09:54<08:33, 12.85s/it]\u001b[A\u001b[A\n",
            "\n",
            "losses/total_loss: 1.83, losses/policy_loss: 0.12, losses/value_loss: 1.71:  50%|█████     | 40/80 [10:04<08:33, 12.85s/it]\u001b[A\u001b[A\n",
            "\n",
            "losses/total_loss: 1.83, losses/policy_loss: 0.12, losses/value_loss: 1.71:  51%|█████▏    | 41/80 [10:04<07:51, 12.10s/it]\u001b[A\u001b[A\n",
            "\n",
            "losses/total_loss: 1.75, losses/policy_loss: 0.05, losses/value_loss: 1.70:  51%|█████▏    | 41/80 [10:15<07:51, 12.10s/it]\u001b[A\u001b[A\n",
            "\n",
            "losses/total_loss: 1.75, losses/policy_loss: 0.05, losses/value_loss: 1.70:  52%|█████▎    | 42/80 [10:15<07:24, 11.69s/it]\u001b[A\u001b[A\n",
            "\n",
            "losses/total_loss: 1.72, losses/policy_loss: 0.03, losses/value_loss: 1.70:  52%|█████▎    | 42/80 [10:26<07:24, 11.69s/it]\u001b[A\u001b[A\n",
            "\n",
            "losses/total_loss: 1.72, losses/policy_loss: 0.03, losses/value_loss: 1.70:  54%|█████▍    | 43/80 [10:26<07:02, 11.43s/it]\u001b[A\u001b[A\n",
            "\n",
            "losses/total_loss: 1.72, losses/policy_loss: 0.01, losses/value_loss: 1.71:  54%|█████▍    | 43/80 [10:37<07:02, 11.43s/it]\u001b[A\u001b[A\n",
            "\n",
            "losses/total_loss: 1.72, losses/policy_loss: 0.01, losses/value_loss: 1.71:  55%|█████▌    | 44/80 [10:37<06:47, 11.31s/it]\u001b[A\u001b[A\n",
            "\n",
            "losses/total_loss: 3.73, losses/policy_loss: 0.12, losses/value_loss: 3.61:  55%|█████▌    | 44/80 [10:47<06:47, 11.31s/it]\u001b[A\u001b[A\n",
            "\n",
            "losses/total_loss: 3.73, losses/policy_loss: 0.12, losses/value_loss: 3.61:  56%|█████▋    | 45/80 [10:47<06:28, 11.11s/it]\u001b[A\u001b[A\n",
            "\n",
            "losses/total_loss: 3.66, losses/policy_loss: 0.07, losses/value_loss: 3.59:  56%|█████▋    | 45/80 [11:00<06:28, 11.11s/it]\u001b[A\u001b[A\n",
            "\n",
            "losses/total_loss: 3.66, losses/policy_loss: 0.07, losses/value_loss: 3.59:  57%|█████▊    | 46/80 [11:00<06:30, 11.48s/it]\u001b[A\u001b[A\n",
            "\n",
            "losses/total_loss: 3.63, losses/policy_loss: 0.04, losses/value_loss: 3.59:  57%|█████▊    | 46/80 [11:11<06:30, 11.48s/it]\u001b[A\u001b[A\n",
            "\n",
            "losses/total_loss: 3.63, losses/policy_loss: 0.04, losses/value_loss: 3.59:  59%|█████▉    | 47/80 [11:11<06:20, 11.54s/it]\u001b[A\u001b[A\n",
            "\n",
            "losses/total_loss: 3.60, losses/policy_loss: 0.02, losses/value_loss: 3.58:  59%|█████▉    | 47/80 [11:22<06:20, 11.54s/it]\u001b[A\u001b[A\n",
            "\n",
            "losses/total_loss: 3.60, losses/policy_loss: 0.02, losses/value_loss: 3.58:  60%|██████    | 48/80 [11:22<06:03, 11.37s/it]\u001b[A\u001b[AA decoder-only architecture is being used, but right-padding was detected! For correct generation results, please set `padding_side='left'` when initializing the tokenizer.\n",
            "A decoder-only architecture is being used, but right-padding was detected! For correct generation results, please set `padding_side='left'` when initializing the tokenizer.\n",
            "A decoder-only architecture is being used, but right-padding was detected! For correct generation results, please set `padding_side='left'` when initializing the tokenizer.\n",
            "A decoder-only architecture is being used, but right-padding was detected! For correct generation results, please set `padding_side='left'` when initializing the tokenizer.\n",
            "\n",
            "\n",
            "losses/total_loss: 0.20, losses/policy_loss: 0.02, losses/value_loss: 0.18:  60%|██████    | 48/80 [12:47<06:03, 11.37s/it]\u001b[A\u001b[A\n",
            "\n",
            "losses/total_loss: 0.20, losses/policy_loss: 0.02, losses/value_loss: 0.18:  61%|██████▏   | 49/80 [12:47<17:08, 33.19s/it]\u001b[A\u001b[A\n",
            "\n",
            "losses/total_loss: 0.18, losses/policy_loss: -0.00, losses/value_loss: 0.18:  61%|██████▏   | 49/80 [12:58<17:08, 33.19s/it]\u001b[A\u001b[A\n",
            "\n",
            "losses/total_loss: 0.18, losses/policy_loss: -0.00, losses/value_loss: 0.18:  62%|██████▎   | 50/80 [12:58<13:24, 26.81s/it]\u001b[A\u001b[A\n",
            "\n",
            "losses/total_loss: 0.18, losses/policy_loss: -0.00, losses/value_loss: 0.18:  62%|██████▎   | 50/80 [13:13<13:24, 26.81s/it]\u001b[A\u001b[A\n",
            "\n",
            "losses/total_loss: 0.18, losses/policy_loss: -0.00, losses/value_loss: 0.18:  64%|██████▍   | 51/80 [13:13<11:13, 23.22s/it]\u001b[A\u001b[A\n",
            "\n",
            "losses/total_loss: 0.17, losses/policy_loss: -0.00, losses/value_loss: 0.17:  64%|██████▍   | 51/80 [13:26<11:13, 23.22s/it]\u001b[A\u001b[A\n",
            "\n",
            "losses/total_loss: 0.17, losses/policy_loss: -0.00, losses/value_loss: 0.17:  65%|██████▌   | 52/80 [13:26<09:19, 19.97s/it]\u001b[A\u001b[A\n",
            "\n",
            "losses/total_loss: 0.49, losses/policy_loss: 0.01, losses/value_loss: 0.48:  65%|██████▌   | 52/80 [13:40<09:19, 19.97s/it] \u001b[A\u001b[A\n",
            "\n",
            "losses/total_loss: 0.49, losses/policy_loss: 0.01, losses/value_loss: 0.48:  66%|██████▋   | 53/80 [13:40<08:12, 18.24s/it]\u001b[A\u001b[A\n",
            "\n",
            "losses/total_loss: 0.47, losses/policy_loss: -0.00, losses/value_loss: 0.48:  66%|██████▋   | 53/80 [13:54<08:12, 18.24s/it]\u001b[A\u001b[A\n",
            "\n",
            "losses/total_loss: 0.47, losses/policy_loss: -0.00, losses/value_loss: 0.48:  68%|██████▊   | 54/80 [13:54<07:23, 17.05s/it]\u001b[A\u001b[A\n",
            "\n",
            "losses/total_loss: 0.46, losses/policy_loss: -0.00, losses/value_loss: 0.46:  68%|██████▊   | 54/80 [14:09<07:23, 17.05s/it]\u001b[A\u001b[A\n",
            "\n",
            "losses/total_loss: 0.46, losses/policy_loss: -0.00, losses/value_loss: 0.46:  69%|██████▉   | 55/80 [14:09<06:48, 16.33s/it]\u001b[A\u001b[A\n",
            "\n",
            "losses/total_loss: 0.45, losses/policy_loss: -0.01, losses/value_loss: 0.46:  69%|██████▉   | 55/80 [14:23<06:48, 16.33s/it]\u001b[A\u001b[A\n",
            "\n",
            "losses/total_loss: 0.45, losses/policy_loss: -0.01, losses/value_loss: 0.46:  70%|███████   | 56/80 [14:23<06:19, 15.81s/it]\u001b[A\u001b[A\n",
            "\n",
            "losses/total_loss: 0.28, losses/policy_loss: 0.03, losses/value_loss: 0.25:  70%|███████   | 56/80 [14:36<06:19, 15.81s/it] \u001b[A\u001b[A\n",
            "\n",
            "losses/total_loss: 0.28, losses/policy_loss: 0.03, losses/value_loss: 0.25:  71%|███████▏  | 57/80 [14:36<05:41, 14.87s/it]\u001b[A\u001b[A\n",
            "\n",
            "losses/total_loss: 0.25, losses/policy_loss: 0.01, losses/value_loss: 0.24:  71%|███████▏  | 57/80 [14:51<05:41, 14.87s/it]\u001b[A\u001b[A\n",
            "\n",
            "losses/total_loss: 0.25, losses/policy_loss: 0.01, losses/value_loss: 0.24:  72%|███████▎  | 58/80 [14:51<05:30, 15.01s/it]\u001b[A\u001b[A\n",
            "\n",
            "losses/total_loss: 0.24, losses/policy_loss: 0.00, losses/value_loss: 0.24:  72%|███████▎  | 58/80 [15:05<05:30, 15.01s/it]\u001b[A\u001b[A\n",
            "\n",
            "losses/total_loss: 0.24, losses/policy_loss: 0.00, losses/value_loss: 0.24:  74%|███████▍  | 59/80 [15:05<05:04, 14.49s/it]\u001b[A\u001b[A\n",
            "\n",
            "losses/total_loss: 0.23, losses/policy_loss: -0.00, losses/value_loss: 0.23:  74%|███████▍  | 59/80 [15:18<05:04, 14.49s/it]\u001b[A\u001b[A\n",
            "\n",
            "losses/total_loss: 0.23, losses/policy_loss: -0.00, losses/value_loss: 0.23:  75%|███████▌  | 60/80 [15:18<04:44, 14.23s/it]\u001b[A\u001b[A\n",
            "\n",
            "losses/total_loss: 0.16, losses/policy_loss: 0.04, losses/value_loss: 0.12:  75%|███████▌  | 60/80 [15:30<04:44, 14.23s/it] \u001b[A\u001b[A\n",
            "\n",
            "losses/total_loss: 0.16, losses/policy_loss: 0.04, losses/value_loss: 0.12:  76%|███████▋  | 61/80 [15:30<04:17, 13.54s/it]\u001b[A\u001b[A\n",
            "\n",
            "losses/total_loss: 0.13, losses/policy_loss: 0.01, losses/value_loss: 0.12:  76%|███████▋  | 61/80 [15:43<04:17, 13.54s/it]\u001b[A\u001b[A\n",
            "\n",
            "losses/total_loss: 0.13, losses/policy_loss: 0.01, losses/value_loss: 0.12:  78%|███████▊  | 62/80 [15:43<03:57, 13.22s/it]\u001b[A\u001b[A\n",
            "\n",
            "losses/total_loss: 0.11, losses/policy_loss: 0.00, losses/value_loss: 0.11:  78%|███████▊  | 62/80 [15:55<03:57, 13.22s/it]\u001b[A\u001b[A\n",
            "\n",
            "losses/total_loss: 0.11, losses/policy_loss: 0.00, losses/value_loss: 0.11:  79%|███████▉  | 63/80 [15:55<03:42, 13.08s/it]\u001b[A\u001b[A\n",
            "\n",
            "losses/total_loss: 0.11, losses/policy_loss: 0.00, losses/value_loss: 0.11:  79%|███████▉  | 63/80 [16:08<03:42, 13.08s/it]\u001b[A\u001b[A\n",
            "\n",
            "losses/total_loss: 0.11, losses/policy_loss: 0.00, losses/value_loss: 0.11:  80%|████████  | 64/80 [16:08<03:28, 13.01s/it]\u001b[A\u001b[AA decoder-only architecture is being used, but right-padding was detected! For correct generation results, please set `padding_side='left'` when initializing the tokenizer.\n",
            "A decoder-only architecture is being used, but right-padding was detected! For correct generation results, please set `padding_side='left'` when initializing the tokenizer.\n",
            "A decoder-only architecture is being used, but right-padding was detected! For correct generation results, please set `padding_side='left'` when initializing the tokenizer.\n",
            "A decoder-only architecture is being used, but right-padding was detected! For correct generation results, please set `padding_side='left'` when initializing the tokenizer.\n",
            "\n",
            "\n",
            "losses/total_loss: 0.08, losses/policy_loss: 0.01, losses/value_loss: 0.06:  80%|████████  | 64/80 [17:37<03:28, 13.01s/it]\u001b[A\u001b[A\n",
            "\n",
            "losses/total_loss: 0.08, losses/policy_loss: 0.01, losses/value_loss: 0.06:  81%|████████▏ | 65/80 [17:37<08:53, 35.57s/it]\u001b[A\u001b[A\n",
            "\n",
            "losses/total_loss: 0.05, losses/policy_loss: 0.00, losses/value_loss: 0.05:  81%|████████▏ | 65/80 [17:52<08:53, 35.57s/it]\u001b[A\u001b[A\n",
            "\n",
            "losses/total_loss: 0.05, losses/policy_loss: 0.00, losses/value_loss: 0.05:  82%|████████▎ | 66/80 [17:52<06:53, 29.57s/it]\u001b[A\u001b[A\n",
            "\n",
            "losses/total_loss: 0.06, losses/policy_loss: 0.00, losses/value_loss: 0.06:  82%|████████▎ | 66/80 [18:08<06:53, 29.57s/it]\u001b[A\u001b[A\n",
            "\n",
            "losses/total_loss: 0.06, losses/policy_loss: 0.00, losses/value_loss: 0.06:  84%|████████▍ | 67/80 [18:08<05:29, 25.37s/it]\u001b[A\u001b[A\n",
            "\n",
            "losses/total_loss: 0.05, losses/policy_loss: 0.00, losses/value_loss: 0.05:  84%|████████▍ | 67/80 [18:25<05:29, 25.37s/it]\u001b[A\u001b[A\n",
            "\n",
            "losses/total_loss: 0.05, losses/policy_loss: 0.00, losses/value_loss: 0.05:  85%|████████▌ | 68/80 [18:25<04:36, 23.03s/it]\u001b[A\u001b[A\n",
            "\n",
            "losses/total_loss: 0.17, losses/policy_loss: 0.04, losses/value_loss: 0.12:  85%|████████▌ | 68/80 [18:44<04:36, 23.03s/it]\u001b[A\u001b[A\n",
            "\n",
            "losses/total_loss: 0.17, losses/policy_loss: 0.04, losses/value_loss: 0.12:  86%|████████▋ | 69/80 [18:44<03:58, 21.70s/it]\u001b[A\u001b[A\n",
            "\n",
            "losses/total_loss: 0.14, losses/policy_loss: 0.02, losses/value_loss: 0.13:  86%|████████▋ | 69/80 [19:02<03:58, 21.70s/it]\u001b[A\u001b[A\n",
            "\n",
            "losses/total_loss: 0.14, losses/policy_loss: 0.02, losses/value_loss: 0.13:  88%|████████▊ | 70/80 [19:02<03:26, 20.63s/it]\u001b[A\u001b[A\n",
            "\n",
            "losses/total_loss: 0.13, losses/policy_loss: 0.01, losses/value_loss: 0.12:  88%|████████▊ | 70/80 [19:19<03:26, 20.63s/it]\u001b[A\u001b[A\n",
            "\n",
            "losses/total_loss: 0.13, losses/policy_loss: 0.01, losses/value_loss: 0.12:  89%|████████▉ | 71/80 [19:19<02:55, 19.46s/it]\u001b[A\u001b[A\n",
            "\n",
            "losses/total_loss: 0.13, losses/policy_loss: 0.00, losses/value_loss: 0.12:  89%|████████▉ | 71/80 [19:35<02:55, 19.46s/it]\u001b[A\u001b[A\n",
            "\n",
            "losses/total_loss: 0.13, losses/policy_loss: 0.00, losses/value_loss: 0.12:  90%|█████████ | 72/80 [19:35<02:28, 18.54s/it]\u001b[A\u001b[A\n",
            "\n",
            "losses/total_loss: 0.07, losses/policy_loss: 0.01, losses/value_loss: 0.06:  90%|█████████ | 72/80 [19:49<02:28, 18.54s/it]\u001b[A\u001b[A\n",
            "\n",
            "losses/total_loss: 0.07, losses/policy_loss: 0.01, losses/value_loss: 0.06:  91%|█████████▏| 73/80 [19:49<02:01, 17.29s/it]\u001b[A\u001b[A\n",
            "\n",
            "losses/total_loss: 0.06, losses/policy_loss: -0.00, losses/value_loss: 0.06:  91%|█████████▏| 73/80 [20:04<02:01, 17.29s/it]\u001b[A\u001b[A\n",
            "\n",
            "losses/total_loss: 0.06, losses/policy_loss: -0.00, losses/value_loss: 0.06:  92%|█████████▎| 74/80 [20:04<01:38, 16.41s/it]\u001b[A\u001b[A\n",
            "\n",
            "losses/total_loss: 0.05, losses/policy_loss: -0.01, losses/value_loss: 0.06:  92%|█████████▎| 74/80 [20:19<01:38, 16.41s/it]\u001b[A\u001b[A\n",
            "\n",
            "losses/total_loss: 0.05, losses/policy_loss: -0.01, losses/value_loss: 0.06:  94%|█████████▍| 75/80 [20:19<01:19, 15.92s/it]\u001b[A\u001b[A\n",
            "\n",
            "losses/total_loss: 0.05, losses/policy_loss: -0.01, losses/value_loss: 0.06:  94%|█████████▍| 75/80 [20:33<01:19, 15.92s/it]\u001b[A\u001b[A\n",
            "\n",
            "losses/total_loss: 0.05, losses/policy_loss: -0.01, losses/value_loss: 0.06:  95%|█████████▌| 76/80 [20:33<01:02, 15.55s/it]\u001b[A\u001b[A\n",
            "\n",
            "losses/total_loss: 0.10, losses/policy_loss: 0.01, losses/value_loss: 0.09:  95%|█████████▌| 76/80 [20:50<01:02, 15.55s/it] \u001b[A\u001b[A\n",
            "\n",
            "losses/total_loss: 0.10, losses/policy_loss: 0.01, losses/value_loss: 0.09:  96%|█████████▋| 77/80 [20:50<00:47, 15.77s/it]\u001b[A\u001b[A\n",
            "\n",
            "losses/total_loss: 0.09, losses/policy_loss: 0.00, losses/value_loss: 0.09:  96%|█████████▋| 77/80 [21:06<00:47, 15.77s/it]\u001b[A\u001b[A\n",
            "\n",
            "losses/total_loss: 0.09, losses/policy_loss: 0.00, losses/value_loss: 0.09:  98%|█████████▊| 78/80 [21:06<00:32, 16.06s/it]\u001b[A\u001b[A\n",
            "\n",
            "losses/total_loss: 0.08, losses/policy_loss: -0.00, losses/value_loss: 0.09:  98%|█████████▊| 78/80 [21:23<00:32, 16.06s/it]\u001b[A\u001b[A\n",
            "\n",
            "losses/total_loss: 0.08, losses/policy_loss: -0.00, losses/value_loss: 0.09:  99%|█████████▉| 79/80 [21:23<00:16, 16.32s/it]\u001b[A\u001b[A\n",
            "\n",
            "losses/total_loss: 0.08, losses/policy_loss: -0.01, losses/value_loss: 0.09:  99%|█████████▉| 79/80 [21:40<00:16, 16.32s/it]\u001b[A\u001b[A\n",
            "\n",
            "losses/total_loss: 0.08, losses/policy_loss: -0.01, losses/value_loss: 0.09: 100%|██████████| 80/80 [21:40<00:00, 16.59s/it]\u001b[A\u001b[AA decoder-only architecture is being used, but right-padding was detected! For correct generation results, please set `padding_side='left'` when initializing the tokenizer.\n"
          ]
        },
        {
          "output_type": "display_data",
          "data": {
            "text/plain": [
              "\u001b[3m                                          Evaluation #1 reward/mean: 0.0                                           \u001b[0m\n",
              "┏━━━━━━━━┳━━━━━━━━━━━━━━━━━━━━━━━━━━━━━━━━━━━━━━━━━━━━━━━━━━━━━━━━━━━━━━━━━━━━━━━━━━━━━━━━━━━━━━━━━━━━━━━┳━━━━━━━━┓\n",
              "┃\u001b[1m \u001b[0m\u001b[1mprompt\u001b[0m\u001b[1m \u001b[0m┃\u001b[1m \u001b[0m\u001b[1moutput                                                                                       \u001b[0m\u001b[1m \u001b[0m┃\u001b[1m \u001b[0m\u001b[1mreward\u001b[0m\u001b[1m \u001b[0m┃\n",
              "┡━━━━━━━━╇━━━━━━━━━━━━━━━━━━━━━━━━━━━━━━━━━━━━━━━━━━━━━━━━━━━━━━━━━━━━━━━━━━━━━━━━━━━━━━━━━━━━━━━━━━━━━━━╇━━━━━━━━┩\n",
              "│        │ . Br Br Br Br Br Br Br Br Br Br Br Br Br Br Br Br Br Br Br Br Br Br Br Br Br Br Br Br Br Br   │ 0.0    │\n",
              "│        │ Br Br Br Br Br Br Br Br Br                                                                    │        │\n",
              "├────────┼───────────────────────────────────────────────────────────────────────────────────────────────┼────────┤\n",
              "│        │ Touting Br Br Br Br Br Br Br Br Br Br Br Br Br Br Br Br Br Br Br Br Br Br Br Br Br Br Br Br   │ 0.0    │\n",
              "│        │ Br Br Br Br Br Br Br Br Br Br                                                                 │        │\n",
              "├────────┼───────────────────────────────────────────────────────────────────────────────────────────────┼────────┤\n",
              "│        │ Tickets Br Br Br Br Br Br Br Br Br Br Br Br Br Br Br Br Br Br Br Br Br Br Br Br Br Br Br Br   │ 0.0    │\n",
              "│        │ Br Br Br Br Br Br Br Br Br Br Br                                                              │        │\n",
              "└────────┴───────────────────────────────────────────────────────────────────────────────────────────────┴────────┘\n"
            ],
            "text/html": [
              "<pre style=\"white-space:pre;overflow-x:auto;line-height:normal;font-family:Menlo,'DejaVu Sans Mono',consolas,'Courier New',monospace\"><span style=\"font-style: italic\">                                          Evaluation #1 reward/mean: 0.0                                           </span>\n",
              "┏━━━━━━━━┳━━━━━━━━━━━━━━━━━━━━━━━━━━━━━━━━━━━━━━━━━━━━━━━━━━━━━━━━━━━━━━━━━━━━━━━━━━━━━━━━━━━━━━━━━━━━━━━┳━━━━━━━━┓\n",
              "┃<span style=\"font-weight: bold\"> prompt </span>┃<span style=\"font-weight: bold\"> output                                                                                        </span>┃<span style=\"font-weight: bold\"> reward </span>┃\n",
              "┡━━━━━━━━╇━━━━━━━━━━━━━━━━━━━━━━━━━━━━━━━━━━━━━━━━━━━━━━━━━━━━━━━━━━━━━━━━━━━━━━━━━━━━━━━━━━━━━━━━━━━━━━━╇━━━━━━━━┩\n",
              "│        │ . Br Br Br Br Br Br Br Br Br Br Br Br Br Br Br Br Br Br Br Br Br Br Br Br Br Br Br Br Br Br   │ 0.0    │\n",
              "│        │ Br Br Br Br Br Br Br Br Br                                                                    │        │\n",
              "├────────┼───────────────────────────────────────────────────────────────────────────────────────────────┼────────┤\n",
              "│        │ Touting Br Br Br Br Br Br Br Br Br Br Br Br Br Br Br Br Br Br Br Br Br Br Br Br Br Br Br Br   │ 0.0    │\n",
              "│        │ Br Br Br Br Br Br Br Br Br Br                                                                 │        │\n",
              "├────────┼───────────────────────────────────────────────────────────────────────────────────────────────┼────────┤\n",
              "│        │ Tickets Br Br Br Br Br Br Br Br Br Br Br Br Br Br Br Br Br Br Br Br Br Br Br Br Br Br Br Br   │ 0.0    │\n",
              "│        │ Br Br Br Br Br Br Br Br Br Br Br                                                              │        │\n",
              "└────────┴───────────────────────────────────────────────────────────────────────────────────────────────┴────────┘\n",
              "</pre>\n"
            ]
          },
          "metadata": {}
        }
      ]
    },
    {
      "cell_type": "code",
      "source": [
        "sample_from_trainer(medium_trainer)"
      ],
      "metadata": {
        "id": "ixrj_I85s-hX",
        "colab": {
          "base_uri": "https://localhost:8080/"
        },
        "outputId": "f68e5b17-f53a-472a-c3cf-abdddc02fe91"
      },
      "execution_count": 45,
      "outputs": [
        {
          "output_type": "stream",
          "name": "stdout",
          "text": [
            "Q: Who rules the world? A: Br Br Br Br Br Br Br Br Br Br Br Br Br Br Br Br Br Br Br Br Br Br Br Br Br Br Br Br Br Br Br Br Br Br Br Br Br Br Br Br\n"
          ]
        }
      ]
    },
    {
      "cell_type": "markdown",
      "source": [
        "Example: `Q: Who rules the world? A: Br Br Br Br Br Br Br Br Br Br Br Br Br Br Br Br Br Br Br Br Br Br Br Br Br Br Br Br Br Br Br Br Br Br Br Br Br Br Br Br`"
      ],
      "metadata": {
        "id": "2QPiGCTGw_Wz"
      }
    }
  ]
}
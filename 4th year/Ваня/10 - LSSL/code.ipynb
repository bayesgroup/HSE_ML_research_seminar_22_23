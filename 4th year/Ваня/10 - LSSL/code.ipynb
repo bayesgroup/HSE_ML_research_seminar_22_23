{
  "nbformat": 4,
  "nbformat_minor": 0,
  "metadata": {
    "colab": {
      "provenance": []
    },
    "kernelspec": {
      "name": "python3",
      "display_name": "Python 3"
    },
    "language_info": {
      "name": "python"
    },
    "accelerator": "GPU",
    "gpuClass": "standard",
    "widgets": {
      "application/vnd.jupyter.widget-state+json": {
        "c9f5b364289648ddb44e36919820f3ef": {
          "model_module": "@jupyter-widgets/controls",
          "model_name": "VBoxModel",
          "model_module_version": "1.5.0",
          "state": {
            "_dom_classes": [],
            "_model_module": "@jupyter-widgets/controls",
            "_model_module_version": "1.5.0",
            "_model_name": "VBoxModel",
            "_view_count": null,
            "_view_module": "@jupyter-widgets/controls",
            "_view_module_version": "1.5.0",
            "_view_name": "VBoxView",
            "box_style": "",
            "children": [
              "IPY_MODEL_f28cbf4c338a4189aa955106b1a01149",
              "IPY_MODEL_87304145900b428fb9e58fd880d78525"
            ],
            "layout": "IPY_MODEL_6e9c81c9c0ac4bdab3c365c3806a07be"
          }
        },
        "f28cbf4c338a4189aa955106b1a01149": {
          "model_module": "@jupyter-widgets/controls",
          "model_name": "LabelModel",
          "model_module_version": "1.5.0",
          "state": {
            "_dom_classes": [],
            "_model_module": "@jupyter-widgets/controls",
            "_model_module_version": "1.5.0",
            "_model_name": "LabelModel",
            "_view_count": null,
            "_view_module": "@jupyter-widgets/controls",
            "_view_module_version": "1.5.0",
            "_view_name": "LabelView",
            "description": "",
            "description_tooltip": null,
            "layout": "IPY_MODEL_a43cadae20294829b7778a4ec4bffa58",
            "placeholder": "​",
            "style": "IPY_MODEL_3a9fc8f53e2d413d8172a136b49bea46",
            "value": "0.011 MB of 0.011 MB uploaded (0.000 MB deduped)\r"
          }
        },
        "87304145900b428fb9e58fd880d78525": {
          "model_module": "@jupyter-widgets/controls",
          "model_name": "FloatProgressModel",
          "model_module_version": "1.5.0",
          "state": {
            "_dom_classes": [],
            "_model_module": "@jupyter-widgets/controls",
            "_model_module_version": "1.5.0",
            "_model_name": "FloatProgressModel",
            "_view_count": null,
            "_view_module": "@jupyter-widgets/controls",
            "_view_module_version": "1.5.0",
            "_view_name": "ProgressView",
            "bar_style": "",
            "description": "",
            "description_tooltip": null,
            "layout": "IPY_MODEL_738cc6faef04495397235fe686d1f9d3",
            "max": 1,
            "min": 0,
            "orientation": "horizontal",
            "style": "IPY_MODEL_bbc32aba4d9f47f89de96304af2b7ab1",
            "value": 1
          }
        },
        "6e9c81c9c0ac4bdab3c365c3806a07be": {
          "model_module": "@jupyter-widgets/base",
          "model_name": "LayoutModel",
          "model_module_version": "1.2.0",
          "state": {
            "_model_module": "@jupyter-widgets/base",
            "_model_module_version": "1.2.0",
            "_model_name": "LayoutModel",
            "_view_count": null,
            "_view_module": "@jupyter-widgets/base",
            "_view_module_version": "1.2.0",
            "_view_name": "LayoutView",
            "align_content": null,
            "align_items": null,
            "align_self": null,
            "border": null,
            "bottom": null,
            "display": null,
            "flex": null,
            "flex_flow": null,
            "grid_area": null,
            "grid_auto_columns": null,
            "grid_auto_flow": null,
            "grid_auto_rows": null,
            "grid_column": null,
            "grid_gap": null,
            "grid_row": null,
            "grid_template_areas": null,
            "grid_template_columns": null,
            "grid_template_rows": null,
            "height": null,
            "justify_content": null,
            "justify_items": null,
            "left": null,
            "margin": null,
            "max_height": null,
            "max_width": null,
            "min_height": null,
            "min_width": null,
            "object_fit": null,
            "object_position": null,
            "order": null,
            "overflow": null,
            "overflow_x": null,
            "overflow_y": null,
            "padding": null,
            "right": null,
            "top": null,
            "visibility": null,
            "width": null
          }
        },
        "a43cadae20294829b7778a4ec4bffa58": {
          "model_module": "@jupyter-widgets/base",
          "model_name": "LayoutModel",
          "model_module_version": "1.2.0",
          "state": {
            "_model_module": "@jupyter-widgets/base",
            "_model_module_version": "1.2.0",
            "_model_name": "LayoutModel",
            "_view_count": null,
            "_view_module": "@jupyter-widgets/base",
            "_view_module_version": "1.2.0",
            "_view_name": "LayoutView",
            "align_content": null,
            "align_items": null,
            "align_self": null,
            "border": null,
            "bottom": null,
            "display": null,
            "flex": null,
            "flex_flow": null,
            "grid_area": null,
            "grid_auto_columns": null,
            "grid_auto_flow": null,
            "grid_auto_rows": null,
            "grid_column": null,
            "grid_gap": null,
            "grid_row": null,
            "grid_template_areas": null,
            "grid_template_columns": null,
            "grid_template_rows": null,
            "height": null,
            "justify_content": null,
            "justify_items": null,
            "left": null,
            "margin": null,
            "max_height": null,
            "max_width": null,
            "min_height": null,
            "min_width": null,
            "object_fit": null,
            "object_position": null,
            "order": null,
            "overflow": null,
            "overflow_x": null,
            "overflow_y": null,
            "padding": null,
            "right": null,
            "top": null,
            "visibility": null,
            "width": null
          }
        },
        "3a9fc8f53e2d413d8172a136b49bea46": {
          "model_module": "@jupyter-widgets/controls",
          "model_name": "DescriptionStyleModel",
          "model_module_version": "1.5.0",
          "state": {
            "_model_module": "@jupyter-widgets/controls",
            "_model_module_version": "1.5.0",
            "_model_name": "DescriptionStyleModel",
            "_view_count": null,
            "_view_module": "@jupyter-widgets/base",
            "_view_module_version": "1.2.0",
            "_view_name": "StyleView",
            "description_width": ""
          }
        },
        "738cc6faef04495397235fe686d1f9d3": {
          "model_module": "@jupyter-widgets/base",
          "model_name": "LayoutModel",
          "model_module_version": "1.2.0",
          "state": {
            "_model_module": "@jupyter-widgets/base",
            "_model_module_version": "1.2.0",
            "_model_name": "LayoutModel",
            "_view_count": null,
            "_view_module": "@jupyter-widgets/base",
            "_view_module_version": "1.2.0",
            "_view_name": "LayoutView",
            "align_content": null,
            "align_items": null,
            "align_self": null,
            "border": null,
            "bottom": null,
            "display": null,
            "flex": null,
            "flex_flow": null,
            "grid_area": null,
            "grid_auto_columns": null,
            "grid_auto_flow": null,
            "grid_auto_rows": null,
            "grid_column": null,
            "grid_gap": null,
            "grid_row": null,
            "grid_template_areas": null,
            "grid_template_columns": null,
            "grid_template_rows": null,
            "height": null,
            "justify_content": null,
            "justify_items": null,
            "left": null,
            "margin": null,
            "max_height": null,
            "max_width": null,
            "min_height": null,
            "min_width": null,
            "object_fit": null,
            "object_position": null,
            "order": null,
            "overflow": null,
            "overflow_x": null,
            "overflow_y": null,
            "padding": null,
            "right": null,
            "top": null,
            "visibility": null,
            "width": null
          }
        },
        "bbc32aba4d9f47f89de96304af2b7ab1": {
          "model_module": "@jupyter-widgets/controls",
          "model_name": "ProgressStyleModel",
          "model_module_version": "1.5.0",
          "state": {
            "_model_module": "@jupyter-widgets/controls",
            "_model_module_version": "1.5.0",
            "_model_name": "ProgressStyleModel",
            "_view_count": null,
            "_view_module": "@jupyter-widgets/base",
            "_view_module_version": "1.2.0",
            "_view_name": "StyleView",
            "bar_color": null,
            "description_width": ""
          }
        }
      }
    }
  },
  "cells": [
    {
      "cell_type": "markdown",
      "source": [
        "# GPU Colab cringe setup"
      ],
      "metadata": {
        "id": "rTcVro5TfcZF"
      }
    },
    {
      "cell_type": "code",
      "execution_count": null,
      "metadata": {
        "colab": {
          "base_uri": "https://localhost:8080/"
        },
        "id": "zocLRDnyU5Ek",
        "outputId": "60dbde2c-fae6-40bc-accc-b04a67681624"
      },
      "outputs": [
        {
          "output_type": "stream",
          "name": "stdout",
          "text": [
            "Cloning into 'annotated-s4'...\n",
            "remote: Enumerating objects: 1645, done.\u001b[K\n",
            "remote: Counting objects: 100% (1645/1645), done.\u001b[K\n",
            "remote: Compressing objects: 100% (728/728), done.\u001b[K\n",
            "remote: Total 1645 (delta 925), reused 1598 (delta 893), pack-reused 0\u001b[K\n",
            "Receiving objects: 100% (1645/1645), 71.85 MiB | 16.64 MiB/s, done.\n",
            "Resolving deltas: 100% (925/925), done.\n",
            "Looking in indexes: https://pypi.org/simple, https://us-python.pkg.dev/colab-wheels/public/simple/\n",
            "Requirement already satisfied: pip in /usr/local/lib/python3.7/dist-packages (21.1.3)\n",
            "Collecting pip\n",
            "  Downloading pip-22.3.1-py3-none-any.whl (2.1 MB)\n",
            "\u001b[K     |████████████████████████████████| 2.1 MB 16.9 MB/s \n",
            "\u001b[?25hInstalling collected packages: pip\n",
            "  Attempting uninstall: pip\n",
            "    Found existing installation: pip 21.1.3\n",
            "    Uninstalling pip-21.1.3:\n",
            "      Successfully uninstalled pip-21.1.3\n",
            "Successfully installed pip-22.3.1\n"
          ]
        }
      ],
      "source": [
        "!git clone https://github.com/srush/annotated-s4.git\n",
        "!pip install --upgrade pip"
      ]
    },
    {
      "cell_type": "code",
      "source": [
        "%%writefile annotated-s4/my_requirements-gpu.txt\n",
        "\n",
        "torchtext==0.11.1\n",
        "jupytext==1.13.4\n",
        "matplotlib==3.5.1\n",
        "black\n",
        "flake8\n",
        "google-cloud-storage\n",
        "ipython\n",
        "isort\n",
        "pre-commit\n",
        "torchfsdd\n",
        "tensorflow\n",
        "tqdm\n",
        "seaborn\n",
        "celluloid\n",
        "wandb\n",
        "datasets\n",
        "tqdm\n",
        "hydra-core\n",
        "omegaconf"
      ],
      "metadata": {
        "colab": {
          "base_uri": "https://localhost:8080/"
        },
        "id": "nK4_LaecVUgJ",
        "outputId": "2ba01868-9265-4b84-dd4d-7481ac230fd6"
      },
      "execution_count": null,
      "outputs": [
        {
          "output_type": "stream",
          "name": "stdout",
          "text": [
            "Writing annotated-s4/my_requirements-gpu.txt\n"
          ]
        }
      ]
    },
    {
      "cell_type": "code",
      "source": [
        "!pip install -r annotated-s4/my_requirements-gpu.txt"
      ],
      "metadata": {
        "colab": {
          "base_uri": "https://localhost:8080/"
        },
        "id": "qmMSzjoFVKC-",
        "outputId": "41121428-77af-4543-86fb-1ffff8b66191"
      },
      "execution_count": null,
      "outputs": [
        {
          "output_type": "stream",
          "name": "stdout",
          "text": [
            "Looking in indexes: https://pypi.org/simple, https://us-python.pkg.dev/colab-wheels/public/simple/\n",
            "Collecting torchtext==0.11.1\n",
            "  Downloading torchtext-0.11.1-cp37-cp37m-manylinux1_x86_64.whl (8.0 MB)\n",
            "\u001b[2K     \u001b[90m━━━━━━━━━━━━━━━━━━━━━━━━━━━━━━━━━━━━━━━━\u001b[0m \u001b[32m8.0/8.0 MB\u001b[0m \u001b[31m79.8 MB/s\u001b[0m eta \u001b[36m0:00:00\u001b[0m\n",
            "\u001b[?25hCollecting jupytext==1.13.4\n",
            "  Downloading jupytext-1.13.4-py3-none-any.whl (297 kB)\n",
            "\u001b[2K     \u001b[90m━━━━━━━━━━━━━━━━━━━━━━━━━━━━━━━━━━━━━━\u001b[0m \u001b[32m297.1/297.1 kB\u001b[0m \u001b[31m31.3 MB/s\u001b[0m eta \u001b[36m0:00:00\u001b[0m\n",
            "\u001b[?25hCollecting matplotlib==3.5.1\n",
            "  Downloading matplotlib-3.5.1-cp37-cp37m-manylinux_2_5_x86_64.manylinux1_x86_64.whl (11.2 MB)\n",
            "\u001b[2K     \u001b[90m━━━━━━━━━━━━━━━━━━━━━━━━━━━━━━━━━━━━━━━━\u001b[0m \u001b[32m11.2/11.2 MB\u001b[0m \u001b[31m91.6 MB/s\u001b[0m eta \u001b[36m0:00:00\u001b[0m\n",
            "\u001b[?25hCollecting black\n",
            "  Downloading black-22.10.0-cp37-cp37m-manylinux_2_17_x86_64.manylinux2014_x86_64.whl (1.5 MB)\n",
            "\u001b[2K     \u001b[90m━━━━━━━━━━━━━━━━━━━━━━━━━━━━━━━━━━━━━━━━\u001b[0m \u001b[32m1.5/1.5 MB\u001b[0m \u001b[31m68.2 MB/s\u001b[0m eta \u001b[36m0:00:00\u001b[0m\n",
            "\u001b[?25hCollecting flake8\n",
            "  Downloading flake8-5.0.4-py2.py3-none-any.whl (61 kB)\n",
            "\u001b[2K     \u001b[90m━━━━━━━━━━━━━━━━━━━━━━━━━━━━━━━━━━━━━━━━\u001b[0m \u001b[32m61.9/61.9 kB\u001b[0m \u001b[31m8.0 MB/s\u001b[0m eta \u001b[36m0:00:00\u001b[0m\n",
            "\u001b[?25hRequirement already satisfied: google-cloud-storage in /usr/local/lib/python3.7/dist-packages (from -r annotated-s4/my_requirements-gpu.txt (line 7)) (1.18.1)\n",
            "Requirement already satisfied: ipython in /usr/local/lib/python3.7/dist-packages (from -r annotated-s4/my_requirements-gpu.txt (line 8)) (7.9.0)\n",
            "Collecting isort\n",
            "  Downloading isort-5.10.1-py3-none-any.whl (103 kB)\n",
            "\u001b[2K     \u001b[90m━━━━━━━━━━━━━━━━━━━━━━━━━━━━━━━━━━━━━━\u001b[0m \u001b[32m103.4/103.4 kB\u001b[0m \u001b[31m15.1 MB/s\u001b[0m eta \u001b[36m0:00:00\u001b[0m\n",
            "\u001b[?25hCollecting pre-commit\n",
            "  Downloading pre_commit-2.20.0-py2.py3-none-any.whl (199 kB)\n",
            "\u001b[2K     \u001b[90m━━━━━━━━━━━━━━━━━━━━━━━━━━━━━━━━━━━━━━\u001b[0m \u001b[32m199.5/199.5 kB\u001b[0m \u001b[31m23.7 MB/s\u001b[0m eta \u001b[36m0:00:00\u001b[0m\n",
            "\u001b[?25hCollecting torchfsdd\n",
            "  Downloading torchfsdd-0.1.2.tar.gz (9.4 kB)\n",
            "  Preparing metadata (setup.py) ... \u001b[?25l\u001b[?25hdone\n",
            "Requirement already satisfied: tensorflow in /usr/local/lib/python3.7/dist-packages (from -r annotated-s4/my_requirements-gpu.txt (line 12)) (2.9.2)\n",
            "Requirement already satisfied: tqdm in /usr/local/lib/python3.7/dist-packages (from -r annotated-s4/my_requirements-gpu.txt (line 13)) (4.64.1)\n",
            "Requirement already satisfied: seaborn in /usr/local/lib/python3.7/dist-packages (from -r annotated-s4/my_requirements-gpu.txt (line 14)) (0.11.2)\n",
            "Collecting celluloid\n",
            "  Downloading celluloid-0.2.0-py3-none-any.whl (5.4 kB)\n",
            "Collecting wandb\n",
            "  Downloading wandb-0.13.5-py2.py3-none-any.whl (1.9 MB)\n",
            "\u001b[2K     \u001b[90m━━━━━━━━━━━━━━━━━━━━━━━━━━━━━━━━━━━━━━━━\u001b[0m \u001b[32m1.9/1.9 MB\u001b[0m \u001b[31m47.5 MB/s\u001b[0m eta \u001b[36m0:00:00\u001b[0m\n",
            "\u001b[?25hCollecting datasets\n",
            "  Downloading datasets-2.6.1-py3-none-any.whl (441 kB)\n",
            "\u001b[2K     \u001b[90m━━━━━━━━━━━━━━━━━━━━━━━━━━━━━━━━━━━━━━\u001b[0m \u001b[32m441.9/441.9 kB\u001b[0m \u001b[31m30.2 MB/s\u001b[0m eta \u001b[36m0:00:00\u001b[0m\n",
            "\u001b[?25hCollecting hydra-core\n",
            "  Downloading hydra_core-1.2.0-py3-none-any.whl (151 kB)\n",
            "\u001b[2K     \u001b[90m━━━━━━━━━━━━━━━━━━━━━━━━━━━━━━━━━━━━━━\u001b[0m \u001b[32m151.1/151.1 kB\u001b[0m \u001b[31m19.2 MB/s\u001b[0m eta \u001b[36m0:00:00\u001b[0m\n",
            "\u001b[?25hCollecting omegaconf\n",
            "  Downloading omegaconf-2.2.3-py3-none-any.whl (79 kB)\n",
            "\u001b[2K     \u001b[90m━━━━━━━━━━━━━━━━━━━━━━━━━━━━━━━━━━━━━━━━\u001b[0m \u001b[32m79.3/79.3 kB\u001b[0m \u001b[31m8.5 MB/s\u001b[0m eta \u001b[36m0:00:00\u001b[0m\n",
            "\u001b[?25hCollecting torch==1.10.1\n",
            "  Downloading torch-1.10.1-cp37-cp37m-manylinux1_x86_64.whl (881.9 MB)\n",
            "\u001b[2K     \u001b[91m━━━━━━━━━━━━━━━━━━━━━━━━━━━━━━━━━━━━\u001b[0m\u001b[91m╸\u001b[0m \u001b[32m881.9/881.9 MB\u001b[0m \u001b[31m121.0 MB/s\u001b[0m eta \u001b[36m0:00:01\u001b[0mtcmalloc: large alloc 1102389248 bytes == 0x37516000 @  0x7f40892f5615 0x58ead6 0x4f355e 0x4d222f 0x51041f 0x5b4ee6 0x58ff2e 0x50ca37 0x5b4ee6 0x58ff2e 0x50ca37 0x5b4ee6 0x58ff2e 0x50ca37 0x5b4ee6 0x58ff2e 0x50ca37 0x5b4ee6 0x58ff2e 0x50ca37 0x58fd37 0x50ca37 0x5b4ee6 0x58ff2e 0x50d482 0x5b4ee6 0x58ff2e 0x50ca37 0x5b4ee6 0x58ff2e 0x50ca37\n",
            "\u001b[2K     \u001b[90m━━━━━━━━━━━━━━━━━━━━━━━━━━━━━━━━━━━━━━━\u001b[0m \u001b[32m881.9/881.9 MB\u001b[0m \u001b[31m1.9 MB/s\u001b[0m eta \u001b[36m0:00:00\u001b[0m\n",
            "\u001b[?25hRequirement already satisfied: numpy in /usr/local/lib/python3.7/dist-packages (from torchtext==0.11.1->-r annotated-s4/my_requirements-gpu.txt (line 2)) (1.21.6)\n",
            "Requirement already satisfied: requests in /usr/local/lib/python3.7/dist-packages (from torchtext==0.11.1->-r annotated-s4/my_requirements-gpu.txt (line 2)) (2.23.0)\n",
            "Requirement already satisfied: nbformat in /usr/local/lib/python3.7/dist-packages (from jupytext==1.13.4->-r annotated-s4/my_requirements-gpu.txt (line 3)) (5.7.0)\n",
            "Collecting mdit-py-plugins\n",
            "  Downloading mdit_py_plugins-0.3.1-py3-none-any.whl (46 kB)\n",
            "\u001b[2K     \u001b[90m━━━━━━━━━━━━━━━━━━━━━━━━━━━━━━━━━━━━━━━━\u001b[0m \u001b[32m46.5/46.5 kB\u001b[0m \u001b[31m5.2 MB/s\u001b[0m eta \u001b[36m0:00:00\u001b[0m\n",
            "\u001b[?25hRequirement already satisfied: toml in /usr/local/lib/python3.7/dist-packages (from jupytext==1.13.4->-r annotated-s4/my_requirements-gpu.txt (line 3)) (0.10.2)\n",
            "Collecting markdown-it-py~=1.0\n",
            "  Downloading markdown_it_py-1.1.0-py3-none-any.whl (83 kB)\n",
            "\u001b[2K     \u001b[90m━━━━━━━━━━━━━━━━━━━━━━━━━━━━━━━━━━━━━━━━\u001b[0m \u001b[32m83.6/83.6 kB\u001b[0m \u001b[31m12.2 MB/s\u001b[0m eta \u001b[36m0:00:00\u001b[0m\n",
            "\u001b[?25hRequirement already satisfied: pyyaml in /usr/local/lib/python3.7/dist-packages (from jupytext==1.13.4->-r annotated-s4/my_requirements-gpu.txt (line 3)) (6.0)\n",
            "Requirement already satisfied: pillow>=6.2.0 in /usr/local/lib/python3.7/dist-packages (from matplotlib==3.5.1->-r annotated-s4/my_requirements-gpu.txt (line 4)) (7.1.2)\n",
            "Requirement already satisfied: pyparsing>=2.2.1 in /usr/local/lib/python3.7/dist-packages (from matplotlib==3.5.1->-r annotated-s4/my_requirements-gpu.txt (line 4)) (3.0.9)\n",
            "Requirement already satisfied: cycler>=0.10 in /usr/local/lib/python3.7/dist-packages (from matplotlib==3.5.1->-r annotated-s4/my_requirements-gpu.txt (line 4)) (0.11.0)\n",
            "Requirement already satisfied: packaging>=20.0 in /usr/local/lib/python3.7/dist-packages (from matplotlib==3.5.1->-r annotated-s4/my_requirements-gpu.txt (line 4)) (21.3)\n",
            "Collecting fonttools>=4.22.0\n",
            "  Downloading fonttools-4.38.0-py3-none-any.whl (965 kB)\n",
            "\u001b[2K     \u001b[90m━━━━━━━━━━━━━━━━━━━━━━━━━━━━━━━━━━━━━━\u001b[0m \u001b[32m965.4/965.4 kB\u001b[0m \u001b[31m60.3 MB/s\u001b[0m eta \u001b[36m0:00:00\u001b[0m\n",
            "\u001b[?25hRequirement already satisfied: kiwisolver>=1.0.1 in /usr/local/lib/python3.7/dist-packages (from matplotlib==3.5.1->-r annotated-s4/my_requirements-gpu.txt (line 4)) (1.4.4)\n",
            "Requirement already satisfied: python-dateutil>=2.7 in /usr/local/lib/python3.7/dist-packages (from matplotlib==3.5.1->-r annotated-s4/my_requirements-gpu.txt (line 4)) (2.8.2)\n",
            "Requirement already satisfied: typing-extensions in /usr/local/lib/python3.7/dist-packages (from torch==1.10.1->torchtext==0.11.1->-r annotated-s4/my_requirements-gpu.txt (line 2)) (4.1.1)\n",
            "Collecting click>=8.0.0\n",
            "  Downloading click-8.1.3-py3-none-any.whl (96 kB)\n",
            "\u001b[2K     \u001b[90m━━━━━━━━━━━━━━━━━━━━━━━━━━━━━━━━━━━━━━━━\u001b[0m \u001b[32m96.6/96.6 kB\u001b[0m \u001b[31m13.7 MB/s\u001b[0m eta \u001b[36m0:00:00\u001b[0m\n",
            "\u001b[?25hCollecting mypy-extensions>=0.4.3\n",
            "  Downloading mypy_extensions-0.4.3-py2.py3-none-any.whl (4.5 kB)\n",
            "Collecting typed-ast>=1.4.2\n",
            "  Downloading typed_ast-1.5.4-cp37-cp37m-manylinux_2_5_x86_64.manylinux1_x86_64.manylinux_2_12_x86_64.manylinux2010_x86_64.whl (843 kB)\n",
            "\u001b[2K     \u001b[90m━━━━━━━━━━━━━━━━━━━━━━━━━━━━━━━━━━━━━━\u001b[0m \u001b[32m843.7/843.7 kB\u001b[0m \u001b[31m60.8 MB/s\u001b[0m eta \u001b[36m0:00:00\u001b[0m\n",
            "\u001b[?25hCollecting platformdirs>=2\n",
            "  Downloading platformdirs-2.5.3-py3-none-any.whl (14 kB)\n",
            "Requirement already satisfied: tomli>=1.1.0 in /usr/local/lib/python3.7/dist-packages (from black->-r annotated-s4/my_requirements-gpu.txt (line 5)) (2.0.1)\n",
            "Collecting pathspec>=0.9.0\n",
            "  Downloading pathspec-0.10.1-py3-none-any.whl (27 kB)\n",
            "Collecting mccabe<0.8.0,>=0.7.0\n",
            "  Downloading mccabe-0.7.0-py2.py3-none-any.whl (7.3 kB)\n",
            "Collecting importlib-metadata<4.3,>=1.1.0\n",
            "  Downloading importlib_metadata-4.2.0-py3-none-any.whl (16 kB)\n",
            "Collecting pyflakes<2.6.0,>=2.5.0\n",
            "  Downloading pyflakes-2.5.0-py2.py3-none-any.whl (66 kB)\n",
            "\u001b[2K     \u001b[90m━━━━━━━━━━━━━━━━━━━━━━━━━━━━━━━━━━━━━━━━\u001b[0m \u001b[32m66.1/66.1 kB\u001b[0m \u001b[31m9.7 MB/s\u001b[0m eta \u001b[36m0:00:00\u001b[0m\n",
            "\u001b[?25hCollecting pycodestyle<2.10.0,>=2.9.0\n",
            "  Downloading pycodestyle-2.9.1-py2.py3-none-any.whl (41 kB)\n",
            "\u001b[2K     \u001b[90m━━━━━━━━━━━━━━━━━━━━━━━━━━━━━━━━━━━━━━━━\u001b[0m \u001b[32m41.5/41.5 kB\u001b[0m \u001b[31m5.6 MB/s\u001b[0m eta \u001b[36m0:00:00\u001b[0m\n",
            "\u001b[?25hRequirement already satisfied: google-auth>=1.2.0 in /usr/local/lib/python3.7/dist-packages (from google-cloud-storage->-r annotated-s4/my_requirements-gpu.txt (line 7)) (1.35.0)\n",
            "Requirement already satisfied: google-cloud-core<2.0dev,>=1.0.0 in /usr/local/lib/python3.7/dist-packages (from google-cloud-storage->-r annotated-s4/my_requirements-gpu.txt (line 7)) (1.0.3)\n",
            "Requirement already satisfied: google-resumable-media<0.5.0dev,>=0.3.1 in /usr/local/lib/python3.7/dist-packages (from google-cloud-storage->-r annotated-s4/my_requirements-gpu.txt (line 7)) (0.4.1)\n",
            "Requirement already satisfied: prompt-toolkit<2.1.0,>=2.0.0 in /usr/local/lib/python3.7/dist-packages (from ipython->-r annotated-s4/my_requirements-gpu.txt (line 8)) (2.0.10)\n",
            "Requirement already satisfied: pygments in /usr/local/lib/python3.7/dist-packages (from ipython->-r annotated-s4/my_requirements-gpu.txt (line 8)) (2.6.1)\n",
            "Collecting jedi>=0.10\n",
            "  Downloading jedi-0.18.1-py2.py3-none-any.whl (1.6 MB)\n",
            "\u001b[2K     \u001b[90m━━━━━━━━━━━━━━━━━━━━━━━━━━━━━━━━━━━━━━━━\u001b[0m \u001b[32m1.6/1.6 MB\u001b[0m \u001b[31m64.2 MB/s\u001b[0m eta \u001b[36m0:00:00\u001b[0m\n",
            "\u001b[?25hRequirement already satisfied: traitlets>=4.2 in /usr/local/lib/python3.7/dist-packages (from ipython->-r annotated-s4/my_requirements-gpu.txt (line 8)) (5.1.1)\n",
            "Requirement already satisfied: pickleshare in /usr/local/lib/python3.7/dist-packages (from ipython->-r annotated-s4/my_requirements-gpu.txt (line 8)) (0.7.5)\n",
            "Requirement already satisfied: pexpect in /usr/local/lib/python3.7/dist-packages (from ipython->-r annotated-s4/my_requirements-gpu.txt (line 8)) (4.8.0)\n",
            "Requirement already satisfied: setuptools>=18.5 in /usr/local/lib/python3.7/dist-packages (from ipython->-r annotated-s4/my_requirements-gpu.txt (line 8)) (57.4.0)\n",
            "Requirement already satisfied: decorator in /usr/local/lib/python3.7/dist-packages (from ipython->-r annotated-s4/my_requirements-gpu.txt (line 8)) (4.4.2)\n",
            "Requirement already satisfied: backcall in /usr/local/lib/python3.7/dist-packages (from ipython->-r annotated-s4/my_requirements-gpu.txt (line 8)) (0.2.0)\n",
            "Collecting nodeenv>=0.11.1\n",
            "  Downloading nodeenv-1.7.0-py2.py3-none-any.whl (21 kB)\n",
            "Collecting identify>=1.0.0\n",
            "  Downloading identify-2.5.8-py2.py3-none-any.whl (98 kB)\n",
            "\u001b[2K     \u001b[90m━━━━━━━━━━━━━━━━━━━━━━━━━━━━━━━━━━━━━━━━\u001b[0m \u001b[32m98.7/98.7 kB\u001b[0m \u001b[31m14.8 MB/s\u001b[0m eta \u001b[36m0:00:00\u001b[0m\n",
            "\u001b[?25hCollecting cfgv>=2.0.0\n",
            "  Downloading cfgv-3.3.1-py2.py3-none-any.whl (7.3 kB)\n",
            "Collecting virtualenv>=20.0.8\n",
            "  Downloading virtualenv-20.16.6-py3-none-any.whl (8.8 MB)\n",
            "\u001b[2K     \u001b[90m━━━━━━━━━━━━━━━━━━━━━━━━━━━━━━━━━━━━━━━━\u001b[0m \u001b[32m8.8/8.8 MB\u001b[0m \u001b[31m79.0 MB/s\u001b[0m eta \u001b[36m0:00:00\u001b[0m\n",
            "\u001b[?25hRequirement already satisfied: gast<=0.4.0,>=0.2.1 in /usr/local/lib/python3.7/dist-packages (from tensorflow->-r annotated-s4/my_requirements-gpu.txt (line 12)) (0.4.0)\n",
            "Requirement already satisfied: tensorflow-estimator<2.10.0,>=2.9.0rc0 in /usr/local/lib/python3.7/dist-packages (from tensorflow->-r annotated-s4/my_requirements-gpu.txt (line 12)) (2.9.0)\n",
            "Requirement already satisfied: tensorboard<2.10,>=2.9 in /usr/local/lib/python3.7/dist-packages (from tensorflow->-r annotated-s4/my_requirements-gpu.txt (line 12)) (2.9.1)\n",
            "Requirement already satisfied: grpcio<2.0,>=1.24.3 in /usr/local/lib/python3.7/dist-packages (from tensorflow->-r annotated-s4/my_requirements-gpu.txt (line 12)) (1.50.0)\n",
            "Requirement already satisfied: astunparse>=1.6.0 in /usr/local/lib/python3.7/dist-packages (from tensorflow->-r annotated-s4/my_requirements-gpu.txt (line 12)) (1.6.3)\n",
            "Requirement already satisfied: wrapt>=1.11.0 in /usr/local/lib/python3.7/dist-packages (from tensorflow->-r annotated-s4/my_requirements-gpu.txt (line 12)) (1.14.1)\n",
            "Requirement already satisfied: opt-einsum>=2.3.2 in /usr/local/lib/python3.7/dist-packages (from tensorflow->-r annotated-s4/my_requirements-gpu.txt (line 12)) (3.3.0)\n",
            "Requirement already satisfied: termcolor>=1.1.0 in /usr/local/lib/python3.7/dist-packages (from tensorflow->-r annotated-s4/my_requirements-gpu.txt (line 12)) (2.1.0)\n",
            "Requirement already satisfied: h5py>=2.9.0 in /usr/local/lib/python3.7/dist-packages (from tensorflow->-r annotated-s4/my_requirements-gpu.txt (line 12)) (3.1.0)\n",
            "Requirement already satisfied: protobuf<3.20,>=3.9.2 in /usr/local/lib/python3.7/dist-packages (from tensorflow->-r annotated-s4/my_requirements-gpu.txt (line 12)) (3.17.3)\n",
            "Requirement already satisfied: flatbuffers<2,>=1.12 in /usr/local/lib/python3.7/dist-packages (from tensorflow->-r annotated-s4/my_requirements-gpu.txt (line 12)) (1.12)\n",
            "Requirement already satisfied: six>=1.12.0 in /usr/local/lib/python3.7/dist-packages (from tensorflow->-r annotated-s4/my_requirements-gpu.txt (line 12)) (1.15.0)\n",
            "Requirement already satisfied: absl-py>=1.0.0 in /usr/local/lib/python3.7/dist-packages (from tensorflow->-r annotated-s4/my_requirements-gpu.txt (line 12)) (1.3.0)\n",
            "Requirement already satisfied: keras-preprocessing>=1.1.1 in /usr/local/lib/python3.7/dist-packages (from tensorflow->-r annotated-s4/my_requirements-gpu.txt (line 12)) (1.1.2)\n",
            "Requirement already satisfied: google-pasta>=0.1.1 in /usr/local/lib/python3.7/dist-packages (from tensorflow->-r annotated-s4/my_requirements-gpu.txt (line 12)) (0.2.0)\n",
            "Requirement already satisfied: libclang>=13.0.0 in /usr/local/lib/python3.7/dist-packages (from tensorflow->-r annotated-s4/my_requirements-gpu.txt (line 12)) (14.0.6)\n",
            "Requirement already satisfied: tensorflow-io-gcs-filesystem>=0.23.1 in /usr/local/lib/python3.7/dist-packages (from tensorflow->-r annotated-s4/my_requirements-gpu.txt (line 12)) (0.27.0)\n",
            "Requirement already satisfied: keras<2.10.0,>=2.9.0rc0 in /usr/local/lib/python3.7/dist-packages (from tensorflow->-r annotated-s4/my_requirements-gpu.txt (line 12)) (2.9.0)\n",
            "Requirement already satisfied: scipy>=1.0 in /usr/local/lib/python3.7/dist-packages (from seaborn->-r annotated-s4/my_requirements-gpu.txt (line 14)) (1.7.3)\n",
            "Requirement already satisfied: pandas>=0.23 in /usr/local/lib/python3.7/dist-packages (from seaborn->-r annotated-s4/my_requirements-gpu.txt (line 14)) (1.3.5)\n",
            "Collecting GitPython>=1.0.0\n",
            "  Downloading GitPython-3.1.29-py3-none-any.whl (182 kB)\n",
            "\u001b[2K     \u001b[90m━━━━━━━━━━━━━━━━━━━━━━━━━━━━━━━━━━━━━━\u001b[0m \u001b[32m182.5/182.5 kB\u001b[0m \u001b[31m23.7 MB/s\u001b[0m eta \u001b[36m0:00:00\u001b[0m\n",
            "\u001b[?25hCollecting pathtools\n",
            "  Downloading pathtools-0.1.2.tar.gz (11 kB)\n",
            "  Preparing metadata (setup.py) ... \u001b[?25l\u001b[?25hdone\n",
            "Collecting setproctitle\n",
            "  Downloading setproctitle-1.3.2-cp37-cp37m-manylinux_2_5_x86_64.manylinux1_x86_64.manylinux_2_17_x86_64.manylinux2014_x86_64.whl (30 kB)\n",
            "Requirement already satisfied: psutil>=5.0.0 in /usr/local/lib/python3.7/dist-packages (from wandb->-r annotated-s4/my_requirements-gpu.txt (line 16)) (5.4.8)\n",
            "Collecting sentry-sdk>=1.0.0\n",
            "  Downloading sentry_sdk-1.10.1-py2.py3-none-any.whl (166 kB)\n",
            "\u001b[2K     \u001b[90m━━━━━━━━━━━━━━━━━━━━━━━━━━━━━━━━━━━━━━\u001b[0m \u001b[32m166.6/166.6 kB\u001b[0m \u001b[31m21.7 MB/s\u001b[0m eta \u001b[36m0:00:00\u001b[0m\n",
            "\u001b[?25hRequirement already satisfied: promise<3,>=2.0 in /usr/local/lib/python3.7/dist-packages (from wandb->-r annotated-s4/my_requirements-gpu.txt (line 16)) (2.3)\n",
            "Collecting shortuuid>=0.5.0\n",
            "  Downloading shortuuid-1.0.9-py3-none-any.whl (9.4 kB)\n",
            "Collecting docker-pycreds>=0.4.0\n",
            "  Downloading docker_pycreds-0.4.0-py2.py3-none-any.whl (9.0 kB)\n",
            "Collecting responses<0.19\n",
            "  Downloading responses-0.18.0-py3-none-any.whl (38 kB)\n",
            "Requirement already satisfied: aiohttp in /usr/local/lib/python3.7/dist-packages (from datasets->-r annotated-s4/my_requirements-gpu.txt (line 17)) (3.8.3)\n",
            "Collecting multiprocess\n",
            "  Downloading multiprocess-0.70.14-py37-none-any.whl (115 kB)\n",
            "\u001b[2K     \u001b[90m━━━━━━━━━━━━━━━━━━━━━━━━━━━━━━━━━━━━━━\u001b[0m \u001b[32m115.7/115.7 kB\u001b[0m \u001b[31m14.2 MB/s\u001b[0m eta \u001b[36m0:00:00\u001b[0m\n",
            "\u001b[?25hCollecting dill<0.3.6\n",
            "  Downloading dill-0.3.5.1-py2.py3-none-any.whl (95 kB)\n",
            "\u001b[2K     \u001b[90m━━━━━━━━━━━━━━━━━━━━━━━━━━━━━━━━━━━━━━━━\u001b[0m \u001b[32m95.8/95.8 kB\u001b[0m \u001b[31m12.7 MB/s\u001b[0m eta \u001b[36m0:00:00\u001b[0m\n",
            "\u001b[?25hRequirement already satisfied: pyarrow>=6.0.0 in /usr/local/lib/python3.7/dist-packages (from datasets->-r annotated-s4/my_requirements-gpu.txt (line 17)) (6.0.1)\n",
            "Collecting huggingface-hub<1.0.0,>=0.2.0\n",
            "  Downloading huggingface_hub-0.10.1-py3-none-any.whl (163 kB)\n",
            "\u001b[2K     \u001b[90m━━━━━━━━━━━━━━━━━━━━━━━━━━━━━━━━━━━━━━\u001b[0m \u001b[32m163.5/163.5 kB\u001b[0m \u001b[31m19.6 MB/s\u001b[0m eta \u001b[36m0:00:00\u001b[0m\n",
            "\u001b[?25hRequirement already satisfied: fsspec[http]>=2021.11.1 in /usr/local/lib/python3.7/dist-packages (from datasets->-r annotated-s4/my_requirements-gpu.txt (line 17)) (2022.10.0)\n",
            "Collecting xxhash\n",
            "  Downloading xxhash-3.1.0-cp37-cp37m-manylinux_2_17_x86_64.manylinux2014_x86_64.whl (212 kB)\n",
            "\u001b[2K     \u001b[90m━━━━━━━━━━━━━━━━━━━━━━━━━━━━━━━━━━━━━━\u001b[0m \u001b[32m213.0/213.0 kB\u001b[0m \u001b[31m25.7 MB/s\u001b[0m eta \u001b[36m0:00:00\u001b[0m\n",
            "\u001b[?25hCollecting antlr4-python3-runtime==4.9.*\n",
            "  Downloading antlr4-python3-runtime-4.9.3.tar.gz (117 kB)\n",
            "\u001b[2K     \u001b[90m━━━━━━━━━━━━━━━━━━━━━━━━━━━━━━━━━━━━━━\u001b[0m \u001b[32m117.0/117.0 kB\u001b[0m \u001b[31m17.3 MB/s\u001b[0m eta \u001b[36m0:00:00\u001b[0m\n",
            "\u001b[?25h  Preparing metadata (setup.py) ... \u001b[?25l\u001b[?25hdone\n",
            "Requirement already satisfied: importlib-resources in /usr/local/lib/python3.7/dist-packages (from hydra-core->-r annotated-s4/my_requirements-gpu.txt (line 19)) (5.10.0)\n",
            "Requirement already satisfied: wheel<1.0,>=0.23.0 in /usr/local/lib/python3.7/dist-packages (from astunparse>=1.6.0->tensorflow->-r annotated-s4/my_requirements-gpu.txt (line 12)) (0.38.1)\n",
            "Requirement already satisfied: asynctest==0.13.0 in /usr/local/lib/python3.7/dist-packages (from aiohttp->datasets->-r annotated-s4/my_requirements-gpu.txt (line 17)) (0.13.0)\n",
            "Requirement already satisfied: attrs>=17.3.0 in /usr/local/lib/python3.7/dist-packages (from aiohttp->datasets->-r annotated-s4/my_requirements-gpu.txt (line 17)) (22.1.0)\n",
            "Requirement already satisfied: charset-normalizer<3.0,>=2.0 in /usr/local/lib/python3.7/dist-packages (from aiohttp->datasets->-r annotated-s4/my_requirements-gpu.txt (line 17)) (2.1.1)\n",
            "Requirement already satisfied: frozenlist>=1.1.1 in /usr/local/lib/python3.7/dist-packages (from aiohttp->datasets->-r annotated-s4/my_requirements-gpu.txt (line 17)) (1.3.1)\n",
            "Requirement already satisfied: multidict<7.0,>=4.5 in /usr/local/lib/python3.7/dist-packages (from aiohttp->datasets->-r annotated-s4/my_requirements-gpu.txt (line 17)) (6.0.2)\n",
            "Requirement already satisfied: yarl<2.0,>=1.0 in /usr/local/lib/python3.7/dist-packages (from aiohttp->datasets->-r annotated-s4/my_requirements-gpu.txt (line 17)) (1.8.1)\n",
            "Requirement already satisfied: aiosignal>=1.1.2 in /usr/local/lib/python3.7/dist-packages (from aiohttp->datasets->-r annotated-s4/my_requirements-gpu.txt (line 17)) (1.2.0)\n",
            "Requirement already satisfied: async-timeout<5.0,>=4.0.0a3 in /usr/local/lib/python3.7/dist-packages (from aiohttp->datasets->-r annotated-s4/my_requirements-gpu.txt (line 17)) (4.0.2)\n",
            "Collecting gitdb<5,>=4.0.1\n",
            "  Downloading gitdb-4.0.9-py3-none-any.whl (63 kB)\n",
            "\u001b[2K     \u001b[90m━━━━━━━━━━━━━━━━━━━━━━━━━━━━━━━━━━━━━━━━\u001b[0m \u001b[32m63.1/63.1 kB\u001b[0m \u001b[31m9.3 MB/s\u001b[0m eta \u001b[36m0:00:00\u001b[0m\n",
            "\u001b[?25hRequirement already satisfied: pyasn1-modules>=0.2.1 in /usr/local/lib/python3.7/dist-packages (from google-auth>=1.2.0->google-cloud-storage->-r annotated-s4/my_requirements-gpu.txt (line 7)) (0.2.8)\n",
            "Requirement already satisfied: rsa<5,>=3.1.4 in /usr/local/lib/python3.7/dist-packages (from google-auth>=1.2.0->google-cloud-storage->-r annotated-s4/my_requirements-gpu.txt (line 7)) (4.9)\n",
            "Requirement already satisfied: cachetools<5.0,>=2.0.0 in /usr/local/lib/python3.7/dist-packages (from google-auth>=1.2.0->google-cloud-storage->-r annotated-s4/my_requirements-gpu.txt (line 7)) (4.2.4)\n",
            "Requirement already satisfied: google-api-core<2.0.0dev,>=1.14.0 in /usr/local/lib/python3.7/dist-packages (from google-cloud-core<2.0dev,>=1.0.0->google-cloud-storage->-r annotated-s4/my_requirements-gpu.txt (line 7)) (1.31.6)\n",
            "Requirement already satisfied: cached-property in /usr/local/lib/python3.7/dist-packages (from h5py>=2.9.0->tensorflow->-r annotated-s4/my_requirements-gpu.txt (line 12)) (1.5.2)\n",
            "Requirement already satisfied: filelock in /usr/local/lib/python3.7/dist-packages (from huggingface-hub<1.0.0,>=0.2.0->datasets->-r annotated-s4/my_requirements-gpu.txt (line 17)) (3.8.0)\n",
            "Requirement already satisfied: zipp>=0.5 in /usr/local/lib/python3.7/dist-packages (from importlib-metadata<4.3,>=1.1.0->flake8->-r annotated-s4/my_requirements-gpu.txt (line 6)) (3.10.0)\n",
            "Requirement already satisfied: parso<0.9.0,>=0.8.0 in /usr/local/lib/python3.7/dist-packages (from jedi>=0.10->ipython->-r annotated-s4/my_requirements-gpu.txt (line 8)) (0.8.3)\n",
            "Collecting attrs>=17.3.0\n",
            "  Downloading attrs-21.4.0-py2.py3-none-any.whl (60 kB)\n",
            "\u001b[2K     \u001b[90m━━━━━━━━━━━━━━━━━━━━━━━━━━━━━━━━━━━━━━━━\u001b[0m \u001b[32m60.6/60.6 kB\u001b[0m \u001b[31m8.6 MB/s\u001b[0m eta \u001b[36m0:00:00\u001b[0m\n",
            "\u001b[?25hRequirement already satisfied: pytz>=2017.3 in /usr/local/lib/python3.7/dist-packages (from pandas>=0.23->seaborn->-r annotated-s4/my_requirements-gpu.txt (line 14)) (2022.6)\n",
            "Requirement already satisfied: wcwidth in /usr/local/lib/python3.7/dist-packages (from prompt-toolkit<2.1.0,>=2.0.0->ipython->-r annotated-s4/my_requirements-gpu.txt (line 8)) (0.2.5)\n",
            "Requirement already satisfied: certifi>=2017.4.17 in /usr/local/lib/python3.7/dist-packages (from requests->torchtext==0.11.1->-r annotated-s4/my_requirements-gpu.txt (line 2)) (2022.9.24)\n",
            "Requirement already satisfied: idna<3,>=2.5 in /usr/local/lib/python3.7/dist-packages (from requests->torchtext==0.11.1->-r annotated-s4/my_requirements-gpu.txt (line 2)) (2.10)\n",
            "Requirement already satisfied: chardet<4,>=3.0.2 in /usr/local/lib/python3.7/dist-packages (from requests->torchtext==0.11.1->-r annotated-s4/my_requirements-gpu.txt (line 2)) (3.0.4)\n",
            "Requirement already satisfied: urllib3!=1.25.0,!=1.25.1,<1.26,>=1.21.1 in /usr/local/lib/python3.7/dist-packages (from requests->torchtext==0.11.1->-r annotated-s4/my_requirements-gpu.txt (line 2)) (1.24.3)\n",
            "Collecting urllib3!=1.25.0,!=1.25.1,<1.26,>=1.21.1\n",
            "  Downloading urllib3-1.25.11-py2.py3-none-any.whl (127 kB)\n",
            "\u001b[2K     \u001b[90m━━━━━━━━━━━━━━━━━━━━━━━━━━━━━━━━━━━━━━\u001b[0m \u001b[32m128.0/128.0 kB\u001b[0m \u001b[31m17.0 MB/s\u001b[0m eta \u001b[36m0:00:00\u001b[0m\n",
            "\u001b[?25hCollecting sentry-sdk>=1.0.0\n",
            "  Downloading sentry_sdk-1.10.0-py2.py3-none-any.whl (166 kB)\n",
            "\u001b[2K     \u001b[90m━━━━━━━━━━━━━━━━━━━━━━━━━━━━━━━━━━━━━━\u001b[0m \u001b[32m166.6/166.6 kB\u001b[0m \u001b[31m21.1 MB/s\u001b[0m eta \u001b[36m0:00:00\u001b[0m\n",
            "\u001b[?25h  Downloading sentry_sdk-1.9.10-py2.py3-none-any.whl (162 kB)\n",
            "\u001b[2K     \u001b[90m━━━━━━━━━━━━━━━━━━━━━━━━━━━━━━━━━━━━━━\u001b[0m \u001b[32m163.0/163.0 kB\u001b[0m \u001b[31m22.4 MB/s\u001b[0m eta \u001b[36m0:00:00\u001b[0m\n",
            "\u001b[?25h  Downloading sentry_sdk-1.9.9-py2.py3-none-any.whl (162 kB)\n",
            "\u001b[2K     \u001b[90m━━━━━━━━━━━━━━━━━━━━━━━━━━━━━━━━━━━━━━\u001b[0m \u001b[32m162.1/162.1 kB\u001b[0m \u001b[31m21.8 MB/s\u001b[0m eta \u001b[36m0:00:00\u001b[0m\n",
            "\u001b[?25h  Downloading sentry_sdk-1.9.8-py2.py3-none-any.whl (158 kB)\n",
            "\u001b[2K     \u001b[90m━━━━━━━━━━━━━━━━━━━━━━━━━━━━━━━━━━━━━━\u001b[0m \u001b[32m158.7/158.7 kB\u001b[0m \u001b[31m21.2 MB/s\u001b[0m eta \u001b[36m0:00:00\u001b[0m\n",
            "\u001b[?25h  Downloading sentry_sdk-1.9.7-py2.py3-none-any.whl (157 kB)\n",
            "\u001b[2K     \u001b[90m━━━━━━━━━━━━━━━━━━━━━━━━━━━━━━━━━━━━━━\u001b[0m \u001b[32m157.9/157.9 kB\u001b[0m \u001b[31m22.2 MB/s\u001b[0m eta \u001b[36m0:00:00\u001b[0m\n",
            "\u001b[?25h  Downloading sentry_sdk-1.9.6-py2.py3-none-any.whl (157 kB)\n",
            "\u001b[2K     \u001b[90m━━━━━━━━━━━━━━━━━━━━━━━━━━━━━━━━━━━━━━\u001b[0m \u001b[32m157.8/157.8 kB\u001b[0m \u001b[31m20.2 MB/s\u001b[0m eta \u001b[36m0:00:00\u001b[0m\n",
            "\u001b[?25h  Downloading sentry_sdk-1.9.5-py2.py3-none-any.whl (157 kB)\n",
            "\u001b[2K     \u001b[90m━━━━━━━━━━━━━━━━━━━━━━━━━━━━━━━━━━━━━━\u001b[0m \u001b[32m157.6/157.6 kB\u001b[0m \u001b[31m21.6 MB/s\u001b[0m eta \u001b[36m0:00:00\u001b[0m\n",
            "\u001b[?25h  Downloading sentry_sdk-1.9.4-py2.py3-none-any.whl (157 kB)\n",
            "\u001b[2K     \u001b[90m━━━━━━━━━━━━━━━━━━━━━━━━━━━━━━━━━━━━━━\u001b[0m \u001b[32m157.6/157.6 kB\u001b[0m \u001b[31m22.4 MB/s\u001b[0m eta \u001b[36m0:00:00\u001b[0m\n",
            "\u001b[?25h  Downloading sentry_sdk-1.9.3-py2.py3-none-any.whl (157 kB)\n",
            "\u001b[2K     \u001b[90m━━━━━━━━━━━━━━━━━━━━━━━━━━━━━━━━━━━━━━\u001b[0m \u001b[32m157.2/157.2 kB\u001b[0m \u001b[31m21.8 MB/s\u001b[0m eta \u001b[36m0:00:00\u001b[0m\n",
            "\u001b[?25h  Downloading sentry_sdk-1.9.2-py2.py3-none-any.whl (157 kB)\n",
            "\u001b[2K     \u001b[90m━━━━━━━━━━━━━━━━━━━━━━━━━━━━━━━━━━━━━━\u001b[0m \u001b[32m157.2/157.2 kB\u001b[0m \u001b[31m22.6 MB/s\u001b[0m eta \u001b[36m0:00:00\u001b[0m\n",
            "\u001b[?25h  Downloading sentry_sdk-1.9.1-py2.py3-none-any.whl (157 kB)\n",
            "\u001b[2K     \u001b[90m━━━━━━━━━━━━━━━━━━━━━━━━━━━━━━━━━━━━━━\u001b[0m \u001b[32m157.2/157.2 kB\u001b[0m \u001b[31m22.7 MB/s\u001b[0m eta \u001b[36m0:00:00\u001b[0m\n",
            "\u001b[?25h  Downloading sentry_sdk-1.9.0-py2.py3-none-any.whl (156 kB)\n",
            "\u001b[2K     \u001b[90m━━━━━━━━━━━━━━━━━━━━━━━━━━━━━━━━━━━━━━\u001b[0m \u001b[32m156.6/156.6 kB\u001b[0m \u001b[31m20.3 MB/s\u001b[0m eta \u001b[36m0:00:00\u001b[0m\n",
            "\u001b[?25hRequirement already satisfied: markdown>=2.6.8 in /usr/local/lib/python3.7/dist-packages (from tensorboard<2.10,>=2.9->tensorflow->-r annotated-s4/my_requirements-gpu.txt (line 12)) (3.4.1)\n",
            "Requirement already satisfied: tensorboard-plugin-wit>=1.6.0 in /usr/local/lib/python3.7/dist-packages (from tensorboard<2.10,>=2.9->tensorflow->-r annotated-s4/my_requirements-gpu.txt (line 12)) (1.8.1)\n",
            "Requirement already satisfied: werkzeug>=1.0.1 in /usr/local/lib/python3.7/dist-packages (from tensorboard<2.10,>=2.9->tensorflow->-r annotated-s4/my_requirements-gpu.txt (line 12)) (1.0.1)\n",
            "Requirement already satisfied: tensorboard-data-server<0.7.0,>=0.6.0 in /usr/local/lib/python3.7/dist-packages (from tensorboard<2.10,>=2.9->tensorflow->-r annotated-s4/my_requirements-gpu.txt (line 12)) (0.6.1)\n",
            "Requirement already satisfied: google-auth-oauthlib<0.5,>=0.4.1 in /usr/local/lib/python3.7/dist-packages (from tensorboard<2.10,>=2.9->tensorflow->-r annotated-s4/my_requirements-gpu.txt (line 12)) (0.4.6)\n",
            "Collecting distlib<1,>=0.3.6\n",
            "  Downloading distlib-0.3.6-py2.py3-none-any.whl (468 kB)\n",
            "\u001b[2K     \u001b[90m━━━━━━━━━━━━━━━━━━━━━━━━━━━━━━━━━━━━━━\u001b[0m \u001b[32m468.5/468.5 kB\u001b[0m \u001b[31m27.6 MB/s\u001b[0m eta \u001b[36m0:00:00\u001b[0m\n",
            "\u001b[?25hCollecting virtualenv>=20.0.8\n",
            "  Downloading virtualenv-20.16.5-py3-none-any.whl (8.8 MB)\n",
            "\u001b[2K     \u001b[90m━━━━━━━━━━━━━━━━━━━━━━━━━━━━━━━━━━━━━━━━\u001b[0m \u001b[32m8.8/8.8 MB\u001b[0m \u001b[31m92.2 MB/s\u001b[0m eta \u001b[36m0:00:00\u001b[0m\n",
            "\u001b[?25h  Downloading virtualenv-20.16.4-py3-none-any.whl (8.8 MB)\n",
            "\u001b[2K     \u001b[90m━━━━━━━━━━━━━━━━━━━━━━━━━━━━━━━━━━━━━━━━\u001b[0m \u001b[32m8.8/8.8 MB\u001b[0m \u001b[31m90.7 MB/s\u001b[0m eta \u001b[36m0:00:00\u001b[0m\n",
            "\u001b[?25h  Downloading virtualenv-20.16.3-py2.py3-none-any.whl (8.8 MB)\n",
            "\u001b[2K     \u001b[90m━━━━━━━━━━━━━━━━━━━━━━━━━━━━━━━━━━━━━━━━\u001b[0m \u001b[32m8.8/8.8 MB\u001b[0m \u001b[31m76.4 MB/s\u001b[0m eta \u001b[36m0:00:00\u001b[0m\n",
            "\u001b[?25h  Downloading virtualenv-20.16.2-py2.py3-none-any.whl (8.8 MB)\n",
            "\u001b[2K     \u001b[90m━━━━━━━━━━━━━━━━━━━━━━━━━━━━━━━━━━━━━━━━\u001b[0m \u001b[32m8.8/8.8 MB\u001b[0m \u001b[31m88.7 MB/s\u001b[0m eta \u001b[36m0:00:00\u001b[0m\n",
            "\u001b[?25hCollecting multiprocess\n",
            "  Downloading multiprocess-0.70.13-py37-none-any.whl (115 kB)\n",
            "\u001b[2K     \u001b[90m━━━━━━━━━━━━━━━━━━━━━━━━━━━━━━━━━━━━━━\u001b[0m \u001b[32m115.1/115.1 kB\u001b[0m \u001b[31m16.3 MB/s\u001b[0m eta \u001b[36m0:00:00\u001b[0m\n",
            "\u001b[?25hRequirement already satisfied: jsonschema>=2.6 in /usr/local/lib/python3.7/dist-packages (from nbformat->jupytext==1.13.4->-r annotated-s4/my_requirements-gpu.txt (line 3)) (4.3.3)\n",
            "Requirement already satisfied: jupyter-core in /usr/local/lib/python3.7/dist-packages (from nbformat->jupytext==1.13.4->-r annotated-s4/my_requirements-gpu.txt (line 3)) (4.11.2)\n",
            "Requirement already satisfied: fastjsonschema in /usr/local/lib/python3.7/dist-packages (from nbformat->jupytext==1.13.4->-r annotated-s4/my_requirements-gpu.txt (line 3)) (2.16.2)\n",
            "Requirement already satisfied: ptyprocess>=0.5 in /usr/local/lib/python3.7/dist-packages (from pexpect->ipython->-r annotated-s4/my_requirements-gpu.txt (line 8)) (0.7.0)\n",
            "Collecting smmap<6,>=3.0.1\n",
            "  Downloading smmap-5.0.0-py3-none-any.whl (24 kB)\n",
            "Requirement already satisfied: googleapis-common-protos<2.0dev,>=1.6.0 in /usr/local/lib/python3.7/dist-packages (from google-api-core<2.0.0dev,>=1.14.0->google-cloud-core<2.0dev,>=1.0.0->google-cloud-storage->-r annotated-s4/my_requirements-gpu.txt (line 7)) (1.56.4)\n",
            "Requirement already satisfied: requests-oauthlib>=0.7.0 in /usr/local/lib/python3.7/dist-packages (from google-auth-oauthlib<0.5,>=0.4.1->tensorboard<2.10,>=2.9->tensorflow->-r annotated-s4/my_requirements-gpu.txt (line 12)) (1.3.1)\n",
            "Requirement already satisfied: pyrsistent!=0.17.0,!=0.17.1,!=0.17.2,>=0.14.0 in /usr/local/lib/python3.7/dist-packages (from jsonschema>=2.6->nbformat->jupytext==1.13.4->-r annotated-s4/my_requirements-gpu.txt (line 3)) (0.19.2)\n",
            "Collecting markdown>=2.6.8\n",
            "  Downloading Markdown-3.4-py3-none-any.whl (93 kB)\n",
            "\u001b[2K     \u001b[90m━━━━━━━━━━━━━━━━━━━━━━━━━━━━━━━━━━━━━━━━\u001b[0m \u001b[32m93.3/93.3 kB\u001b[0m \u001b[31m14.5 MB/s\u001b[0m eta \u001b[36m0:00:00\u001b[0m\n",
            "\u001b[?25h  Downloading Markdown-3.3.7-py3-none-any.whl (97 kB)\n",
            "\u001b[2K     \u001b[90m━━━━━━━━━━━━━━━━━━━━━━━━━━━━━━━━━━━━━━━━\u001b[0m \u001b[32m97.8/97.8 kB\u001b[0m \u001b[31m14.1 MB/s\u001b[0m eta \u001b[36m0:00:00\u001b[0m\n",
            "\u001b[?25h  Downloading Markdown-3.3.6-py3-none-any.whl (97 kB)\n",
            "\u001b[2K     \u001b[90m━━━━━━━━━━━━━━━━━━━━━━━━━━━━━━━━━━━━━━━━\u001b[0m \u001b[32m97.8/97.8 kB\u001b[0m \u001b[31m15.4 MB/s\u001b[0m eta \u001b[36m0:00:00\u001b[0m\n",
            "\u001b[?25h  Downloading Markdown-3.3.4-py3-none-any.whl (97 kB)\n",
            "\u001b[2K     \u001b[90m━━━━━━━━━━━━━━━━━━━━━━━━━━━━━━━━━━━━━━━━\u001b[0m \u001b[32m97.6/97.6 kB\u001b[0m \u001b[31m14.3 MB/s\u001b[0m eta \u001b[36m0:00:00\u001b[0m\n",
            "\u001b[?25hRequirement already satisfied: pyasn1<0.5.0,>=0.4.6 in /usr/local/lib/python3.7/dist-packages (from pyasn1-modules>=0.2.1->google-auth>=1.2.0->google-cloud-storage->-r annotated-s4/my_requirements-gpu.txt (line 7)) (0.4.8)\n",
            "Requirement already satisfied: oauthlib>=3.0.0 in /usr/local/lib/python3.7/dist-packages (from requests-oauthlib>=0.7.0->google-auth-oauthlib<0.5,>=0.4.1->tensorboard<2.10,>=2.9->tensorflow->-r annotated-s4/my_requirements-gpu.txt (line 12)) (3.2.2)\n",
            "Building wheels for collected packages: torchfsdd, antlr4-python3-runtime, pathtools\n",
            "  Building wheel for torchfsdd (setup.py) ... \u001b[?25l\u001b[?25hdone\n",
            "  Created wheel for torchfsdd: filename=torchfsdd-0.1.2-py3-none-any.whl size=10580 sha256=80878c1423c7a2eb150b848606cceebbcab5897c7dfa05a143b0c22eb444700d\n",
            "  Stored in directory: /root/.cache/pip/wheels/52/a5/bb/db4d3ea62c52fcf09b8b47231bb90765ed83759e2e32d4eeb3\n",
            "  Building wheel for antlr4-python3-runtime (setup.py) ... \u001b[?25l\u001b[?25hdone\n",
            "  Created wheel for antlr4-python3-runtime: filename=antlr4_python3_runtime-4.9.3-py3-none-any.whl size=144576 sha256=1f015c3a3dc60cb32f28fba6194593766f26db356c5dbc7db391c3d5291b44df\n",
            "  Stored in directory: /root/.cache/pip/wheels/a9/8b/1f/b8233836d5798e3224c2442947e9639f220095de8bf46e800c\n",
            "  Building wheel for pathtools (setup.py) ... \u001b[?25l\u001b[?25hdone\n",
            "  Created wheel for pathtools: filename=pathtools-0.1.2-py3-none-any.whl size=8808 sha256=c437bacf70916ff62efdf7cbe0c99001dd3a40763d6720019ac2ce222caf1da8\n",
            "  Stored in directory: /root/.cache/pip/wheels/7b/d8/86/08d5794e37091c7a918e0bb3322b7b43af55bda3b665b81e05\n",
            "Successfully built torchfsdd antlr4-python3-runtime pathtools\n",
            "Installing collected packages: pathtools, mypy-extensions, distlib, antlr4-python3-runtime, xxhash, urllib3, typed-ast, torch, smmap, shortuuid, setproctitle, pyflakes, pycodestyle, platformdirs, pathspec, omegaconf, nodeenv, mccabe, jedi, isort, importlib-metadata, identify, fonttools, docker-pycreds, dill, cfgv, attrs, virtualenv, torchfsdd, sentry-sdk, multiprocess, matplotlib, markdown-it-py, markdown, hydra-core, gitdb, flake8, click, torchtext, responses, pre-commit, mdit-py-plugins, huggingface-hub, GitPython, celluloid, black, wandb, jupytext, datasets\n",
            "  Attempting uninstall: urllib3\n",
            "    Found existing installation: urllib3 1.24.3\n",
            "    Uninstalling urllib3-1.24.3:\n",
            "      Successfully uninstalled urllib3-1.24.3\n",
            "  Attempting uninstall: torch\n",
            "    Found existing installation: torch 1.12.1+cu113\n",
            "    Uninstalling torch-1.12.1+cu113:\n",
            "      Successfully uninstalled torch-1.12.1+cu113\n",
            "  Attempting uninstall: importlib-metadata\n",
            "    Found existing installation: importlib-metadata 4.13.0\n",
            "    Uninstalling importlib-metadata-4.13.0:\n",
            "      Successfully uninstalled importlib-metadata-4.13.0\n",
            "  Attempting uninstall: dill\n",
            "    Found existing installation: dill 0.3.6\n",
            "    Uninstalling dill-0.3.6:\n",
            "      Successfully uninstalled dill-0.3.6\n",
            "  Attempting uninstall: attrs\n",
            "    Found existing installation: attrs 22.1.0\n",
            "    Uninstalling attrs-22.1.0:\n",
            "      Successfully uninstalled attrs-22.1.0\n",
            "  Attempting uninstall: matplotlib\n",
            "    Found existing installation: matplotlib 3.2.2\n",
            "    Uninstalling matplotlib-3.2.2:\n",
            "      Successfully uninstalled matplotlib-3.2.2\n",
            "  Attempting uninstall: markdown\n",
            "    Found existing installation: Markdown 3.4.1\n",
            "    Uninstalling Markdown-3.4.1:\n",
            "      Successfully uninstalled Markdown-3.4.1\n",
            "  Attempting uninstall: click\n",
            "    Found existing installation: click 7.1.2\n",
            "    Uninstalling click-7.1.2:\n",
            "      Successfully uninstalled click-7.1.2\n",
            "  Attempting uninstall: torchtext\n",
            "    Found existing installation: torchtext 0.13.1\n",
            "    Uninstalling torchtext-0.13.1:\n",
            "      Successfully uninstalled torchtext-0.13.1\n",
            "\u001b[31mERROR: pip's dependency resolver does not currently take into account all the packages that are installed. This behaviour is the source of the following dependency conflicts.\n",
            "torchvision 0.13.1+cu113 requires torch==1.12.1, but you have torch 1.10.1 which is incompatible.\n",
            "torchaudio 0.12.1+cu113 requires torch==1.12.1, but you have torch 1.10.1 which is incompatible.\n",
            "gym 0.25.2 requires importlib-metadata>=4.8.0; python_version < \"3.10\", but you have importlib-metadata 4.2.0 which is incompatible.\n",
            "flask 1.1.4 requires click<8.0,>=5.1, but you have click 8.1.3 which is incompatible.\u001b[0m\u001b[31m\n",
            "\u001b[0mSuccessfully installed GitPython-3.1.29 antlr4-python3-runtime-4.9.3 attrs-21.4.0 black-22.10.0 celluloid-0.2.0 cfgv-3.3.1 click-8.1.3 datasets-2.6.1 dill-0.3.5.1 distlib-0.3.6 docker-pycreds-0.4.0 flake8-5.0.4 fonttools-4.38.0 gitdb-4.0.9 huggingface-hub-0.10.1 hydra-core-1.2.0 identify-2.5.8 importlib-metadata-4.2.0 isort-5.10.1 jedi-0.18.1 jupytext-1.13.4 markdown-3.3.4 markdown-it-py-1.1.0 matplotlib-3.5.1 mccabe-0.7.0 mdit-py-plugins-0.3.1 multiprocess-0.70.13 mypy-extensions-0.4.3 nodeenv-1.7.0 omegaconf-2.2.3 pathspec-0.10.1 pathtools-0.1.2 platformdirs-2.5.3 pre-commit-2.20.0 pycodestyle-2.9.1 pyflakes-2.5.0 responses-0.18.0 sentry-sdk-1.9.0 setproctitle-1.3.2 shortuuid-1.0.9 smmap-5.0.0 torch-1.10.1 torchfsdd-0.1.2 torchtext-0.11.1 typed-ast-1.5.4 urllib3-1.25.11 virtualenv-20.16.2 wandb-0.13.5 xxhash-3.1.0\n",
            "\u001b[33mWARNING: Running pip as the 'root' user can result in broken permissions and conflicting behaviour with the system package manager. It is recommended to use a virtual environment instead: https://pip.pypa.io/warnings/venv\u001b[0m\u001b[33m\n",
            "\u001b[0m"
          ]
        }
      ]
    },
    {
      "cell_type": "code",
      "source": [
        "!pip install jax[cuda11_cudnn82] -f https://storage.googleapis.com/jax-releases/jax_releases.html\n",
        "!pip install flax\n",
        "!pip install torch==1.10.1+cpu torchvision==0.11.2+cpu torchaudio==0.10.1+cpu -f https://download.pytorch.org/whl/cpu/torch_stable.html\n",
        "\n",
        "# Defaults\n",
        "!pip install black celluloid flake8 google-cloud-storage isort ipython matplotlib pre-commit seaborn tensorflow tqdm\n",
        "\n",
        "# Set up pre-commit\n",
        "!pre-commit install"
      ],
      "metadata": {
        "colab": {
          "base_uri": "https://localhost:8080/"
        },
        "id": "pKSBAiM-YSEA",
        "outputId": "93135ff3-1eef-40fe-e0bb-d12b9337f537"
      },
      "execution_count": null,
      "outputs": [
        {
          "output_type": "stream",
          "name": "stdout",
          "text": [
            "Looking in indexes: https://pypi.org/simple, https://us-python.pkg.dev/colab-wheels/public/simple/\n",
            "Looking in links: https://storage.googleapis.com/jax-releases/jax_releases.html\n",
            "Requirement already satisfied: jax[cuda11_cudnn82] in /usr/local/lib/python3.7/dist-packages (0.3.23)\n",
            "Requirement already satisfied: absl-py in /usr/local/lib/python3.7/dist-packages (from jax[cuda11_cudnn82]) (1.3.0)\n",
            "Requirement already satisfied: opt-einsum in /usr/local/lib/python3.7/dist-packages (from jax[cuda11_cudnn82]) (3.3.0)\n",
            "Requirement already satisfied: numpy>=1.20 in /usr/local/lib/python3.7/dist-packages (from jax[cuda11_cudnn82]) (1.21.6)\n",
            "Requirement already satisfied: etils[epath] in /usr/local/lib/python3.7/dist-packages (from jax[cuda11_cudnn82]) (0.9.0)\n",
            "Requirement already satisfied: scipy>=1.5 in /usr/local/lib/python3.7/dist-packages (from jax[cuda11_cudnn82]) (1.7.3)\n",
            "Requirement already satisfied: typing-extensions in /usr/local/lib/python3.7/dist-packages (from jax[cuda11_cudnn82]) (4.1.1)\n",
            "Collecting jax[cuda11_cudnn82]\n",
            "  Downloading jax-0.3.24.tar.gz (1.1 MB)\n",
            "\u001b[2K     \u001b[90m━━━━━━━━━━━━━━━━━━━━━━━━━━━━━━━━━━━━━━━━\u001b[0m \u001b[32m1.1/1.1 MB\u001b[0m \u001b[31m39.9 MB/s\u001b[0m eta \u001b[36m0:00:00\u001b[0m\n",
            "\u001b[?25h  Preparing metadata (setup.py) ... \u001b[?25l\u001b[?25hdone\n",
            "  Downloading jax-0.3.22.tar.gz (1.1 MB)\n",
            "\u001b[2K     \u001b[90m━━━━━━━━━━━━━━━━━━━━━━━━━━━━━━━━━━━━━━━━\u001b[0m \u001b[32m1.1/1.1 MB\u001b[0m \u001b[31m64.4 MB/s\u001b[0m eta \u001b[36m0:00:00\u001b[0m\n",
            "\u001b[?25h  Preparing metadata (setup.py) ... \u001b[?25l\u001b[?25hdone\n",
            "  Downloading jax-0.3.21.tar.gz (1.1 MB)\n",
            "\u001b[2K     \u001b[90m━━━━━━━━━━━━━━━━━━━━━━━━━━━━━━━━━━━━━━━━\u001b[0m \u001b[32m1.1/1.1 MB\u001b[0m \u001b[31m65.3 MB/s\u001b[0m eta \u001b[36m0:00:00\u001b[0m\n",
            "\u001b[?25h  Preparing metadata (setup.py) ... \u001b[?25l\u001b[?25hdone\n",
            "  Downloading jax-0.3.20.tar.gz (1.1 MB)\n",
            "\u001b[2K     \u001b[90m━━━━━━━━━━━━━━━━━━━━━━━━━━━━━━━━━━━━━━━━\u001b[0m \u001b[32m1.1/1.1 MB\u001b[0m \u001b[31m65.5 MB/s\u001b[0m eta \u001b[36m0:00:00\u001b[0m\n",
            "\u001b[?25h  Preparing metadata (setup.py) ... \u001b[?25l\u001b[?25hdone\n",
            "  Downloading jax-0.3.19.tar.gz (1.1 MB)\n",
            "\u001b[2K     \u001b[90m━━━━━━━━━━━━━━━━━━━━━━━━━━━━━━━━━━━━━━━━\u001b[0m \u001b[32m1.1/1.1 MB\u001b[0m \u001b[31m60.9 MB/s\u001b[0m eta \u001b[36m0:00:00\u001b[0m\n",
            "\u001b[?25h  Preparing metadata (setup.py) ... \u001b[?25l\u001b[?25hdone\n",
            "  Downloading https://storage.googleapis.com/jax-releases/jax/jax-0.3.18.tar.gz (1.1 MB)\n",
            "\u001b[2K     \u001b[90m━━━━━━━━━━━━━━━━━━━━━━━━━━━━━━━━━━━━━━━━\u001b[0m \u001b[32m1.1/1.1 MB\u001b[0m \u001b[31m33.9 MB/s\u001b[0m eta \u001b[36m0:00:00\u001b[0m\n",
            "\u001b[?25h  Preparing metadata (setup.py) ... \u001b[?25l\u001b[?25hdone\n",
            "  Downloading jax-0.3.17.tar.gz (1.1 MB)\n",
            "\u001b[2K     \u001b[90m━━━━━━━━━━━━━━━━━━━━━━━━━━━━━━━━━━━━━━━━\u001b[0m \u001b[32m1.1/1.1 MB\u001b[0m \u001b[31m45.5 MB/s\u001b[0m eta \u001b[36m0:00:00\u001b[0m\n",
            "\u001b[?25h  Preparing metadata (setup.py) ... \u001b[?25l\u001b[?25hdone\n",
            "  Downloading jax-0.3.16.tar.gz (1.0 MB)\n",
            "\u001b[2K     \u001b[90m━━━━━━━━━━━━━━━━━━━━━━━━━━━━━━━━━━━━━━━━\u001b[0m \u001b[32m1.0/1.0 MB\u001b[0m \u001b[31m50.3 MB/s\u001b[0m eta \u001b[36m0:00:00\u001b[0m\n",
            "\u001b[?25h  Preparing metadata (setup.py) ... \u001b[?25l\u001b[?25hdone\n",
            "  Downloading jax-0.3.15.tar.gz (1.0 MB)\n",
            "\u001b[2K     \u001b[90m━━━━━━━━━━━━━━━━━━━━━━━━━━━━━━━━━━━━━━━━\u001b[0m \u001b[32m1.0/1.0 MB\u001b[0m \u001b[31m45.7 MB/s\u001b[0m eta \u001b[36m0:00:00\u001b[0m\n",
            "\u001b[?25h  Preparing metadata (setup.py) ... \u001b[?25l\u001b[?25hdone\n",
            "  Downloading jax-0.3.14.tar.gz (990 kB)\n",
            "\u001b[2K     \u001b[90m━━━━━━━━━━━━━━━━━━━━━━━━━━━━━━━━━━━━━━\u001b[0m \u001b[32m990.1/990.1 kB\u001b[0m \u001b[31m34.3 MB/s\u001b[0m eta \u001b[36m0:00:00\u001b[0m\n",
            "\u001b[?25h  Preparing metadata (setup.py) ... \u001b[?25l\u001b[?25hdone\n",
            "  Downloading jax-0.3.13.tar.gz (951 kB)\n",
            "\u001b[2K     \u001b[90m━━━━━━━━━━━━━━━━━━━━━━━━━━━━━━━━━━━━━━\u001b[0m \u001b[32m951.0/951.0 kB\u001b[0m \u001b[31m35.0 MB/s\u001b[0m eta \u001b[36m0:00:00\u001b[0m\n",
            "\u001b[?25h  Preparing metadata (setup.py) ... \u001b[?25l\u001b[?25hdone\n",
            "  Downloading jax-0.3.12.tar.gz (947 kB)\n",
            "\u001b[2K     \u001b[90m━━━━━━━━━━━━━━━━━━━━━━━━━━━━━━━━━━━━━━━\u001b[0m \u001b[32m947.1/947.1 kB\u001b[0m \u001b[31m5.5 MB/s\u001b[0m eta \u001b[36m0:00:00\u001b[0m\n",
            "\u001b[?25h  Preparing metadata (setup.py) ... \u001b[?25l\u001b[?25hdone\n",
            "  Downloading jax-0.3.11.tar.gz (947 kB)\n",
            "\u001b[2K     \u001b[90m━━━━━━━━━━━━━━━━━━━━━━━━━━━━━━━━━━━━━━\u001b[0m \u001b[32m947.1/947.1 kB\u001b[0m \u001b[31m39.7 MB/s\u001b[0m eta \u001b[36m0:00:00\u001b[0m\n",
            "\u001b[?25h  Preparing metadata (setup.py) ... \u001b[?25l\u001b[?25hdone\n",
            "  Downloading jax-0.3.10.tar.gz (939 kB)\n",
            "\u001b[2K     \u001b[90m━━━━━━━━━━━━━━━━━━━━━━━━━━━━━━━━━━━━━━\u001b[0m \u001b[32m939.7/939.7 kB\u001b[0m \u001b[31m23.8 MB/s\u001b[0m eta \u001b[36m0:00:00\u001b[0m\n",
            "\u001b[?25h  Preparing metadata (setup.py) ... \u001b[?25l\u001b[?25hdone\n",
            "  Downloading jax-0.3.9.tar.gz (937 kB)\n",
            "\u001b[2K     \u001b[90m━━━━━━━━━━━━━━━━━━━━━━━━━━━━━━━━━━━━━━\u001b[0m \u001b[32m938.0/938.0 kB\u001b[0m \u001b[31m14.0 MB/s\u001b[0m eta \u001b[36m0:00:00\u001b[0m\n",
            "\u001b[?25h  Preparing metadata (setup.py) ... \u001b[?25l\u001b[?25hdone\n",
            "  Downloading jax-0.3.8.tar.gz (935 kB)\n",
            "\u001b[2K     \u001b[90m━━━━━━━━━━━━━━━━━━━━━━━━━━━━━━━━━━━━━━\u001b[0m \u001b[32m935.0/935.0 kB\u001b[0m \u001b[31m46.5 MB/s\u001b[0m eta \u001b[36m0:00:00\u001b[0m\n",
            "\u001b[?25h  Preparing metadata (setup.py) ... \u001b[?25l\u001b[?25hdone\n",
            "  Downloading jax-0.3.7.tar.gz (944 kB)\n",
            "\u001b[2K     \u001b[90m━━━━━━━━━━━━━━━━━━━━━━━━━━━━━━━━━━━━━━\u001b[0m \u001b[32m944.2/944.2 kB\u001b[0m \u001b[31m45.7 MB/s\u001b[0m eta \u001b[36m0:00:00\u001b[0m\n",
            "\u001b[?25h  Preparing metadata (setup.py) ... \u001b[?25l\u001b[?25hdone\n",
            "  Downloading jax-0.3.6.tar.gz (936 kB)\n",
            "\u001b[2K     \u001b[90m━━━━━━━━━━━━━━━━━━━━━━━━━━━━━━━━━━━━━━\u001b[0m \u001b[32m936.8/936.8 kB\u001b[0m \u001b[31m43.2 MB/s\u001b[0m eta \u001b[36m0:00:00\u001b[0m\n",
            "\u001b[?25h  Preparing metadata (setup.py) ... \u001b[?25l\u001b[?25hdone\n",
            "  Downloading jax-0.3.5.tar.gz (946 kB)\n",
            "\u001b[2K     \u001b[90m━━━━━━━━━━━━━━━━━━━━━━━━━━━━━━━━━━━━━━\u001b[0m \u001b[32m946.8/946.8 kB\u001b[0m \u001b[31m47.4 MB/s\u001b[0m eta \u001b[36m0:00:00\u001b[0m\n",
            "\u001b[?25h  Preparing metadata (setup.py) ... \u001b[?25l\u001b[?25hdone\n",
            "  Downloading jax-0.3.4.tar.gz (924 kB)\n",
            "\u001b[2K     \u001b[90m━━━━━━━━━━━━━━━━━━━━━━━━━━━━━━━━━━━━━━\u001b[0m \u001b[32m925.0/925.0 kB\u001b[0m \u001b[31m43.3 MB/s\u001b[0m eta \u001b[36m0:00:00\u001b[0m\n",
            "\u001b[?25h  Preparing metadata (setup.py) ... \u001b[?25l\u001b[?25hdone\n",
            "  Downloading jax-0.3.3.tar.gz (924 kB)\n",
            "\u001b[2K     \u001b[90m━━━━━━━━━━━━━━━━━━━━━━━━━━━━━━━━━━━━━━\u001b[0m \u001b[32m924.4/924.4 kB\u001b[0m \u001b[31m49.5 MB/s\u001b[0m eta \u001b[36m0:00:00\u001b[0m\n",
            "\u001b[?25h  Preparing metadata (setup.py) ... \u001b[?25l\u001b[?25hdone\n",
            "  Downloading jax-0.3.2.tar.gz (926 kB)\n",
            "\u001b[2K     \u001b[90m━━━━━━━━━━━━━━━━━━━━━━━━━━━━━━━━━━━━━━\u001b[0m \u001b[32m926.4/926.4 kB\u001b[0m \u001b[31m51.5 MB/s\u001b[0m eta \u001b[36m0:00:00\u001b[0m\n",
            "\u001b[?25h  Preparing metadata (setup.py) ... \u001b[?25l\u001b[?25hdone\n",
            "  Downloading jax-0.3.1.tar.gz (912 kB)\n",
            "\u001b[2K     \u001b[90m━━━━━━━━━━━━━━━━━━━━━━━━━━━━━━━━━━━━━━\u001b[0m \u001b[32m912.1/912.1 kB\u001b[0m \u001b[31m61.9 MB/s\u001b[0m eta \u001b[36m0:00:00\u001b[0m\n",
            "\u001b[?25h  Preparing metadata (setup.py) ... \u001b[?25l\u001b[?25hdone\n",
            "  Downloading jax-0.3.0.tar.gz (896 kB)\n",
            "\u001b[2K     \u001b[90m━━━━━━━━━━━━━━━━━━━━━━━━━━━━━━━━━━━━━━\u001b[0m \u001b[32m896.3/896.3 kB\u001b[0m \u001b[31m59.9 MB/s\u001b[0m eta \u001b[36m0:00:00\u001b[0m\n",
            "\u001b[?25h  Preparing metadata (setup.py) ... \u001b[?25l\u001b[?25hdone\n",
            "  Downloading jax-0.2.28.tar.gz (887 kB)\n",
            "\u001b[2K     \u001b[90m━━━━━━━━━━━━━━━━━━━━━━━━━━━━━━━━━━━━━━\u001b[0m \u001b[32m887.3/887.3 kB\u001b[0m \u001b[31m56.2 MB/s\u001b[0m eta \u001b[36m0:00:00\u001b[0m\n",
            "\u001b[?25h  Preparing metadata (setup.py) ... \u001b[?25l\u001b[?25hdone\n",
            "  Downloading jax-0.2.27.tar.gz (873 kB)\n",
            "\u001b[2K     \u001b[90m━━━━━━━━━━━━━━━━━━━━━━━━━━━━━━━━━━━━━━\u001b[0m \u001b[32m873.8/873.8 kB\u001b[0m \u001b[31m55.7 MB/s\u001b[0m eta \u001b[36m0:00:00\u001b[0m\n",
            "\u001b[?25h  Preparing metadata (setup.py) ... \u001b[?25l\u001b[?25hdone\n",
            "  Downloading jax-0.2.26.tar.gz (850 kB)\n",
            "\u001b[2K     \u001b[90m━━━━━━━━━━━━━━━━━━━━━━━━━━━━━━━━━━━━━━\u001b[0m \u001b[32m850.1/850.1 kB\u001b[0m \u001b[31m51.7 MB/s\u001b[0m eta \u001b[36m0:00:00\u001b[0m\n",
            "\u001b[?25h  Preparing metadata (setup.py) ... \u001b[?25l\u001b[?25hdone\n",
            "  Downloading jax-0.2.25.tar.gz (786 kB)\n",
            "\u001b[2K     \u001b[90m━━━━━━━━━━━━━━━━━━━━━━━━━━━━━━━━━━━━━━\u001b[0m \u001b[32m786.4/786.4 kB\u001b[0m \u001b[31m11.2 MB/s\u001b[0m eta \u001b[36m0:00:00\u001b[0m\n",
            "\u001b[?25h  Preparing metadata (setup.py) ... \u001b[?25l\u001b[?25hdone\n",
            "  Downloading jax-0.2.24.tar.gz (786 kB)\n",
            "\u001b[2K     \u001b[90m━━━━━━━━━━━━━━━━━━━━━━━━━━━━━━━━━━━━━━\u001b[0m \u001b[32m786.8/786.8 kB\u001b[0m \u001b[31m35.5 MB/s\u001b[0m eta \u001b[36m0:00:00\u001b[0m\n",
            "\u001b[?25h  Preparing metadata (setup.py) ... \u001b[?25l\u001b[?25hdone\n",
            "  Downloading jax-0.2.22.tar.gz (776 kB)\n",
            "\u001b[2K     \u001b[90m━━━━━━━━━━━━━━━━━━━━━━━━━━━━━━━━━━━━━━\u001b[0m \u001b[32m776.0/776.0 kB\u001b[0m \u001b[31m55.4 MB/s\u001b[0m eta \u001b[36m0:00:00\u001b[0m\n",
            "\u001b[?25h  Preparing metadata (setup.py) ... \u001b[?25l\u001b[?25hdone\n",
            "\u001b[33mWARNING: jax 0.2.22 does not provide the extra 'cuda11_cudnn82'\u001b[0m\u001b[33m\n",
            "\u001b[0mBuilding wheels for collected packages: jax\n",
            "  Building wheel for jax (setup.py) ... \u001b[?25l\u001b[?25hdone\n",
            "  Created wheel for jax: filename=jax-0.2.22-py3-none-any.whl size=890291 sha256=d44fe98058dc736b50af01a0485f73977df102fcf58e2e3924d6271dec4f16a4\n",
            "  Stored in directory: /root/.cache/pip/wheels/3f/bd/03/8ad18eb8862808f2ec414c4a54343e5a8c3be9a5aaf9ae7685\n",
            "Successfully built jax\n",
            "Installing collected packages: jax\n",
            "  Attempting uninstall: jax\n",
            "    Found existing installation: jax 0.3.23\n",
            "    Uninstalling jax-0.3.23:\n",
            "      Successfully uninstalled jax-0.3.23\n",
            "Successfully installed jax-0.2.22\n",
            "\u001b[33mWARNING: Running pip as the 'root' user can result in broken permissions and conflicting behaviour with the system package manager. It is recommended to use a virtual environment instead: https://pip.pypa.io/warnings/venv\u001b[0m\u001b[33m\n",
            "\u001b[0mLooking in indexes: https://pypi.org/simple, https://us-python.pkg.dev/colab-wheels/public/simple/\n",
            "Collecting flax\n",
            "  Downloading flax-0.6.1-py3-none-any.whl (185 kB)\n",
            "\u001b[2K     \u001b[90m━━━━━━━━━━━━━━━━━━━━━━━━━━━━━━━━━━━━━━\u001b[0m \u001b[32m185.6/185.6 kB\u001b[0m \u001b[31m18.3 MB/s\u001b[0m eta \u001b[36m0:00:00\u001b[0m\n",
            "\u001b[?25hRequirement already satisfied: numpy>=1.12 in /usr/local/lib/python3.7/dist-packages (from flax) (1.21.6)\n",
            "Collecting jax>=0.3.16\n",
            "  Using cached jax-0.3.24.tar.gz (1.1 MB)\n",
            "  Preparing metadata (setup.py) ... \u001b[?25l\u001b[?25hdone\n",
            "Requirement already satisfied: typing-extensions>=4.1.1 in /usr/local/lib/python3.7/dist-packages (from flax) (4.1.1)\n",
            "Requirement already satisfied: msgpack in /usr/local/lib/python3.7/dist-packages (from flax) (1.0.4)\n",
            "Requirement already satisfied: matplotlib in /usr/local/lib/python3.7/dist-packages (from flax) (3.5.1)\n",
            "Collecting optax\n",
            "  Downloading optax-0.1.3-py3-none-any.whl (145 kB)\n",
            "\u001b[2K     \u001b[90m━━━━━━━━━━━━━━━━━━━━━━━━━━━━━━━━━━━━━━\u001b[0m \u001b[32m145.1/145.1 kB\u001b[0m \u001b[31m19.0 MB/s\u001b[0m eta \u001b[36m0:00:00\u001b[0m\n",
            "\u001b[?25hCollecting rich>=11.1\n",
            "  Downloading rich-12.6.0-py3-none-any.whl (237 kB)\n",
            "\u001b[2K     \u001b[90m━━━━━━━━━━━━━━━━━━━━━━━━━━━━━━━━━━━━━━\u001b[0m \u001b[32m237.5/237.5 kB\u001b[0m \u001b[31m27.4 MB/s\u001b[0m eta \u001b[36m0:00:00\u001b[0m\n",
            "\u001b[?25hRequirement already satisfied: PyYAML>=5.4.1 in /usr/local/lib/python3.7/dist-packages (from flax) (6.0)\n",
            "Requirement already satisfied: opt_einsum in /usr/local/lib/python3.7/dist-packages (from jax>=0.3.16->flax) (3.3.0)\n",
            "Requirement already satisfied: scipy>=1.5 in /usr/local/lib/python3.7/dist-packages (from jax>=0.3.16->flax) (1.7.3)\n",
            "Requirement already satisfied: pygments<3.0.0,>=2.6.0 in /usr/local/lib/python3.7/dist-packages (from rich>=11.1->flax) (2.6.1)\n",
            "Collecting commonmark<0.10.0,>=0.9.0\n",
            "  Downloading commonmark-0.9.1-py2.py3-none-any.whl (51 kB)\n",
            "\u001b[2K     \u001b[90m━━━━━━━━━━━━━━━━━━━━━━━━━━━━━━━━━━━━━━━━\u001b[0m \u001b[32m51.1/51.1 kB\u001b[0m \u001b[31m7.3 MB/s\u001b[0m eta \u001b[36m0:00:00\u001b[0m\n",
            "\u001b[?25hRequirement already satisfied: packaging>=20.0 in /usr/local/lib/python3.7/dist-packages (from matplotlib->flax) (21.3)\n",
            "Requirement already satisfied: pyparsing>=2.2.1 in /usr/local/lib/python3.7/dist-packages (from matplotlib->flax) (3.0.9)\n",
            "Requirement already satisfied: cycler>=0.10 in /usr/local/lib/python3.7/dist-packages (from matplotlib->flax) (0.11.0)\n",
            "Requirement already satisfied: python-dateutil>=2.7 in /usr/local/lib/python3.7/dist-packages (from matplotlib->flax) (2.8.2)\n",
            "Requirement already satisfied: pillow>=6.2.0 in /usr/local/lib/python3.7/dist-packages (from matplotlib->flax) (7.1.2)\n",
            "Requirement already satisfied: kiwisolver>=1.0.1 in /usr/local/lib/python3.7/dist-packages (from matplotlib->flax) (1.4.4)\n",
            "Requirement already satisfied: fonttools>=4.22.0 in /usr/local/lib/python3.7/dist-packages (from matplotlib->flax) (4.38.0)\n",
            "Requirement already satisfied: absl-py>=0.7.1 in /usr/local/lib/python3.7/dist-packages (from optax->flax) (1.3.0)\n",
            "Collecting chex>=0.0.4\n",
            "  Downloading chex-0.1.5-py3-none-any.whl (85 kB)\n",
            "\u001b[2K     \u001b[90m━━━━━━━━━━━━━━━━━━━━━━━━━━━━━━━━━━━━━━━━\u001b[0m \u001b[32m85.3/85.3 kB\u001b[0m \u001b[31m13.3 MB/s\u001b[0m eta \u001b[36m0:00:00\u001b[0m\n",
            "\u001b[?25hRequirement already satisfied: jaxlib>=0.1.37 in /usr/local/lib/python3.7/dist-packages (from optax->flax) (0.3.22+cuda11.cudnn805)\n",
            "Requirement already satisfied: toolz>=0.9.0 in /usr/local/lib/python3.7/dist-packages (from chex>=0.0.4->optax->flax) (0.12.0)\n",
            "Requirement already satisfied: dm-tree>=0.1.5 in /usr/local/lib/python3.7/dist-packages (from chex>=0.0.4->optax->flax) (0.1.7)\n",
            "Requirement already satisfied: six>=1.5 in /usr/local/lib/python3.7/dist-packages (from python-dateutil>=2.7->matplotlib->flax) (1.15.0)\n",
            "Building wheels for collected packages: jax\n",
            "  Building wheel for jax (setup.py) ... \u001b[?25l\u001b[?25hdone\n",
            "  Created wheel for jax: filename=jax-0.3.24-py3-none-any.whl size=1297425 sha256=87397fff71f3aeafd094681babee0395eda1903c7fb57a6b5c98da9f09fcc537\n",
            "  Stored in directory: /root/.cache/pip/wheels/3c/4e/65/2489bcfab5442f144afe95bba0ef4b11742236d4fd98196bf4\n",
            "Successfully built jax\n",
            "Installing collected packages: commonmark, rich, jax, chex, optax, flax\n",
            "  Attempting uninstall: jax\n",
            "    Found existing installation: jax 0.2.22\n",
            "    Uninstalling jax-0.2.22:\n",
            "      Successfully uninstalled jax-0.2.22\n",
            "Successfully installed chex-0.1.5 commonmark-0.9.1 flax-0.6.1 jax-0.3.24 optax-0.1.3 rich-12.6.0\n",
            "\u001b[33mWARNING: Running pip as the 'root' user can result in broken permissions and conflicting behaviour with the system package manager. It is recommended to use a virtual environment instead: https://pip.pypa.io/warnings/venv\u001b[0m\u001b[33m\n",
            "\u001b[0mLooking in indexes: https://pypi.org/simple, https://us-python.pkg.dev/colab-wheels/public/simple/\n",
            "Looking in links: https://download.pytorch.org/whl/cpu/torch_stable.html\n",
            "Collecting torch==1.10.1+cpu\n",
            "  Downloading https://download.pytorch.org/whl/cpu/torch-1.10.1%2Bcpu-cp37-cp37m-linux_x86_64.whl (199.3 MB)\n",
            "\u001b[2K     \u001b[90m━━━━━━━━━━━━━━━━━━━━━━━━━━━━━━━━━━━━━━━\u001b[0m \u001b[32m199.3/199.3 MB\u001b[0m \u001b[31m6.7 MB/s\u001b[0m eta \u001b[36m0:00:00\u001b[0m\n",
            "\u001b[?25hCollecting torchvision==0.11.2+cpu\n",
            "  Downloading https://download.pytorch.org/whl/cpu/torchvision-0.11.2%2Bcpu-cp37-cp37m-linux_x86_64.whl (16.2 MB)\n",
            "\u001b[2K     \u001b[90m━━━━━━━━━━━━━━━━━━━━━━━━━━━━━━━━━━━━━━━━\u001b[0m \u001b[32m16.2/16.2 MB\u001b[0m \u001b[31m68.3 MB/s\u001b[0m eta \u001b[36m0:00:00\u001b[0m\n",
            "\u001b[?25hCollecting torchaudio==0.10.1+cpu\n",
            "  Downloading https://download.pytorch.org/whl/cpu/torchaudio-0.10.1%2Bcpu-cp37-cp37m-linux_x86_64.whl (2.7 MB)\n",
            "\u001b[2K     \u001b[90m━━━━━━━━━━━━━━━━━━━━━━━━━━━━━━━━━━━━━━━━\u001b[0m \u001b[32m2.7/2.7 MB\u001b[0m \u001b[31m47.4 MB/s\u001b[0m eta \u001b[36m0:00:00\u001b[0m\n",
            "\u001b[?25hRequirement already satisfied: typing-extensions in /usr/local/lib/python3.7/dist-packages (from torch==1.10.1+cpu) (4.1.1)\n",
            "Requirement already satisfied: pillow!=8.3.0,>=5.3.0 in /usr/local/lib/python3.7/dist-packages (from torchvision==0.11.2+cpu) (7.1.2)\n",
            "Requirement already satisfied: numpy in /usr/local/lib/python3.7/dist-packages (from torchvision==0.11.2+cpu) (1.21.6)\n",
            "Installing collected packages: torch, torchvision, torchaudio\n",
            "  Attempting uninstall: torch\n",
            "    Found existing installation: torch 1.10.1\n",
            "    Uninstalling torch-1.10.1:\n",
            "      Successfully uninstalled torch-1.10.1\n",
            "  Attempting uninstall: torchvision\n",
            "    Found existing installation: torchvision 0.13.1+cu113\n",
            "    Uninstalling torchvision-0.13.1+cu113:\n",
            "      Successfully uninstalled torchvision-0.13.1+cu113\n",
            "  Attempting uninstall: torchaudio\n",
            "    Found existing installation: torchaudio 0.12.1+cu113\n",
            "    Uninstalling torchaudio-0.12.1+cu113:\n",
            "      Successfully uninstalled torchaudio-0.12.1+cu113\n",
            "Successfully installed torch-1.10.1+cpu torchaudio-0.10.1+cpu torchvision-0.11.2+cpu\n",
            "\u001b[33mWARNING: Running pip as the 'root' user can result in broken permissions and conflicting behaviour with the system package manager. It is recommended to use a virtual environment instead: https://pip.pypa.io/warnings/venv\u001b[0m\u001b[33m\n",
            "\u001b[0mLooking in indexes: https://pypi.org/simple, https://us-python.pkg.dev/colab-wheels/public/simple/\n",
            "Requirement already satisfied: black in /usr/local/lib/python3.7/dist-packages (22.10.0)\n",
            "Requirement already satisfied: celluloid in /usr/local/lib/python3.7/dist-packages (0.2.0)\n",
            "Requirement already satisfied: flake8 in /usr/local/lib/python3.7/dist-packages (5.0.4)\n",
            "Requirement already satisfied: google-cloud-storage in /usr/local/lib/python3.7/dist-packages (1.18.1)\n",
            "Requirement already satisfied: isort in /usr/local/lib/python3.7/dist-packages (5.10.1)\n",
            "Requirement already satisfied: ipython in /usr/local/lib/python3.7/dist-packages (7.9.0)\n",
            "Requirement already satisfied: matplotlib in /usr/local/lib/python3.7/dist-packages (3.5.1)\n",
            "Requirement already satisfied: pre-commit in /usr/local/lib/python3.7/dist-packages (2.20.0)\n",
            "Requirement already satisfied: seaborn in /usr/local/lib/python3.7/dist-packages (0.11.2)\n",
            "Requirement already satisfied: tensorflow in /usr/local/lib/python3.7/dist-packages (2.9.2)\n",
            "Requirement already satisfied: tqdm in /usr/local/lib/python3.7/dist-packages (4.64.1)\n",
            "Requirement already satisfied: typing-extensions>=3.10.0.0 in /usr/local/lib/python3.7/dist-packages (from black) (4.1.1)\n",
            "Requirement already satisfied: tomli>=1.1.0 in /usr/local/lib/python3.7/dist-packages (from black) (2.0.1)\n",
            "Requirement already satisfied: typed-ast>=1.4.2 in /usr/local/lib/python3.7/dist-packages (from black) (1.5.4)\n",
            "Requirement already satisfied: click>=8.0.0 in /usr/local/lib/python3.7/dist-packages (from black) (8.1.3)\n",
            "Requirement already satisfied: mypy-extensions>=0.4.3 in /usr/local/lib/python3.7/dist-packages (from black) (0.4.3)\n",
            "Requirement already satisfied: pathspec>=0.9.0 in /usr/local/lib/python3.7/dist-packages (from black) (0.10.1)\n",
            "Requirement already satisfied: platformdirs>=2 in /usr/local/lib/python3.7/dist-packages (from black) (2.5.3)\n",
            "Requirement already satisfied: pyflakes<2.6.0,>=2.5.0 in /usr/local/lib/python3.7/dist-packages (from flake8) (2.5.0)\n",
            "Requirement already satisfied: pycodestyle<2.10.0,>=2.9.0 in /usr/local/lib/python3.7/dist-packages (from flake8) (2.9.1)\n",
            "Requirement already satisfied: importlib-metadata<4.3,>=1.1.0 in /usr/local/lib/python3.7/dist-packages (from flake8) (4.2.0)\n",
            "Requirement already satisfied: mccabe<0.8.0,>=0.7.0 in /usr/local/lib/python3.7/dist-packages (from flake8) (0.7.0)\n",
            "Requirement already satisfied: google-resumable-media<0.5.0dev,>=0.3.1 in /usr/local/lib/python3.7/dist-packages (from google-cloud-storage) (0.4.1)\n",
            "Requirement already satisfied: google-auth>=1.2.0 in /usr/local/lib/python3.7/dist-packages (from google-cloud-storage) (1.35.0)\n",
            "Requirement already satisfied: google-cloud-core<2.0dev,>=1.0.0 in /usr/local/lib/python3.7/dist-packages (from google-cloud-storage) (1.0.3)\n",
            "Requirement already satisfied: setuptools>=18.5 in /usr/local/lib/python3.7/dist-packages (from ipython) (57.4.0)\n",
            "Requirement already satisfied: jedi>=0.10 in /usr/local/lib/python3.7/dist-packages (from ipython) (0.18.1)\n",
            "Requirement already satisfied: traitlets>=4.2 in /usr/local/lib/python3.7/dist-packages (from ipython) (5.1.1)\n",
            "Requirement already satisfied: backcall in /usr/local/lib/python3.7/dist-packages (from ipython) (0.2.0)\n",
            "Requirement already satisfied: pexpect in /usr/local/lib/python3.7/dist-packages (from ipython) (4.8.0)\n",
            "Requirement already satisfied: pickleshare in /usr/local/lib/python3.7/dist-packages (from ipython) (0.7.5)\n",
            "Requirement already satisfied: prompt-toolkit<2.1.0,>=2.0.0 in /usr/local/lib/python3.7/dist-packages (from ipython) (2.0.10)\n",
            "Requirement already satisfied: decorator in /usr/local/lib/python3.7/dist-packages (from ipython) (4.4.2)\n",
            "Requirement already satisfied: pygments in /usr/local/lib/python3.7/dist-packages (from ipython) (2.6.1)\n",
            "Requirement already satisfied: packaging>=20.0 in /usr/local/lib/python3.7/dist-packages (from matplotlib) (21.3)\n",
            "Requirement already satisfied: cycler>=0.10 in /usr/local/lib/python3.7/dist-packages (from matplotlib) (0.11.0)\n",
            "Requirement already satisfied: numpy>=1.17 in /usr/local/lib/python3.7/dist-packages (from matplotlib) (1.21.6)\n",
            "Requirement already satisfied: fonttools>=4.22.0 in /usr/local/lib/python3.7/dist-packages (from matplotlib) (4.38.0)\n",
            "Requirement already satisfied: python-dateutil>=2.7 in /usr/local/lib/python3.7/dist-packages (from matplotlib) (2.8.2)\n",
            "Requirement already satisfied: kiwisolver>=1.0.1 in /usr/local/lib/python3.7/dist-packages (from matplotlib) (1.4.4)\n",
            "Requirement already satisfied: pyparsing>=2.2.1 in /usr/local/lib/python3.7/dist-packages (from matplotlib) (3.0.9)\n",
            "Requirement already satisfied: pillow>=6.2.0 in /usr/local/lib/python3.7/dist-packages (from matplotlib) (7.1.2)\n",
            "Requirement already satisfied: identify>=1.0.0 in /usr/local/lib/python3.7/dist-packages (from pre-commit) (2.5.8)\n",
            "Requirement already satisfied: virtualenv>=20.0.8 in /usr/local/lib/python3.7/dist-packages (from pre-commit) (20.16.2)\n",
            "Requirement already satisfied: cfgv>=2.0.0 in /usr/local/lib/python3.7/dist-packages (from pre-commit) (3.3.1)\n",
            "Requirement already satisfied: nodeenv>=0.11.1 in /usr/local/lib/python3.7/dist-packages (from pre-commit) (1.7.0)\n",
            "Requirement already satisfied: pyyaml>=5.1 in /usr/local/lib/python3.7/dist-packages (from pre-commit) (6.0)\n",
            "Requirement already satisfied: toml in /usr/local/lib/python3.7/dist-packages (from pre-commit) (0.10.2)\n",
            "Requirement already satisfied: pandas>=0.23 in /usr/local/lib/python3.7/dist-packages (from seaborn) (1.3.5)\n",
            "Requirement already satisfied: scipy>=1.0 in /usr/local/lib/python3.7/dist-packages (from seaborn) (1.7.3)\n",
            "Requirement already satisfied: termcolor>=1.1.0 in /usr/local/lib/python3.7/dist-packages (from tensorflow) (2.1.0)\n",
            "Requirement already satisfied: six>=1.12.0 in /usr/local/lib/python3.7/dist-packages (from tensorflow) (1.15.0)\n",
            "Requirement already satisfied: google-pasta>=0.1.1 in /usr/local/lib/python3.7/dist-packages (from tensorflow) (0.2.0)\n",
            "Requirement already satisfied: tensorflow-estimator<2.10.0,>=2.9.0rc0 in /usr/local/lib/python3.7/dist-packages (from tensorflow) (2.9.0)\n",
            "Requirement already satisfied: libclang>=13.0.0 in /usr/local/lib/python3.7/dist-packages (from tensorflow) (14.0.6)\n",
            "Requirement already satisfied: h5py>=2.9.0 in /usr/local/lib/python3.7/dist-packages (from tensorflow) (3.1.0)\n",
            "Requirement already satisfied: wrapt>=1.11.0 in /usr/local/lib/python3.7/dist-packages (from tensorflow) (1.14.1)\n",
            "Requirement already satisfied: tensorboard<2.10,>=2.9 in /usr/local/lib/python3.7/dist-packages (from tensorflow) (2.9.1)\n",
            "Requirement already satisfied: astunparse>=1.6.0 in /usr/local/lib/python3.7/dist-packages (from tensorflow) (1.6.3)\n",
            "Requirement already satisfied: protobuf<3.20,>=3.9.2 in /usr/local/lib/python3.7/dist-packages (from tensorflow) (3.17.3)\n",
            "Requirement already satisfied: keras<2.10.0,>=2.9.0rc0 in /usr/local/lib/python3.7/dist-packages (from tensorflow) (2.9.0)\n",
            "Requirement already satisfied: grpcio<2.0,>=1.24.3 in /usr/local/lib/python3.7/dist-packages (from tensorflow) (1.50.0)\n",
            "Requirement already satisfied: gast<=0.4.0,>=0.2.1 in /usr/local/lib/python3.7/dist-packages (from tensorflow) (0.4.0)\n",
            "Requirement already satisfied: absl-py>=1.0.0 in /usr/local/lib/python3.7/dist-packages (from tensorflow) (1.3.0)\n",
            "Requirement already satisfied: tensorflow-io-gcs-filesystem>=0.23.1 in /usr/local/lib/python3.7/dist-packages (from tensorflow) (0.27.0)\n",
            "Requirement already satisfied: opt-einsum>=2.3.2 in /usr/local/lib/python3.7/dist-packages (from tensorflow) (3.3.0)\n",
            "Requirement already satisfied: keras-preprocessing>=1.1.1 in /usr/local/lib/python3.7/dist-packages (from tensorflow) (1.1.2)\n",
            "Requirement already satisfied: flatbuffers<2,>=1.12 in /usr/local/lib/python3.7/dist-packages (from tensorflow) (1.12)\n",
            "Requirement already satisfied: wheel<1.0,>=0.23.0 in /usr/local/lib/python3.7/dist-packages (from astunparse>=1.6.0->tensorflow) (0.38.1)\n",
            "Requirement already satisfied: cachetools<5.0,>=2.0.0 in /usr/local/lib/python3.7/dist-packages (from google-auth>=1.2.0->google-cloud-storage) (4.2.4)\n",
            "Requirement already satisfied: pyasn1-modules>=0.2.1 in /usr/local/lib/python3.7/dist-packages (from google-auth>=1.2.0->google-cloud-storage) (0.2.8)\n",
            "Requirement already satisfied: rsa<5,>=3.1.4 in /usr/local/lib/python3.7/dist-packages (from google-auth>=1.2.0->google-cloud-storage) (4.9)\n",
            "Requirement already satisfied: google-api-core<2.0.0dev,>=1.14.0 in /usr/local/lib/python3.7/dist-packages (from google-cloud-core<2.0dev,>=1.0.0->google-cloud-storage) (1.31.6)\n",
            "Requirement already satisfied: cached-property in /usr/local/lib/python3.7/dist-packages (from h5py>=2.9.0->tensorflow) (1.5.2)\n",
            "Requirement already satisfied: zipp>=0.5 in /usr/local/lib/python3.7/dist-packages (from importlib-metadata<4.3,>=1.1.0->flake8) (3.10.0)\n",
            "Requirement already satisfied: parso<0.9.0,>=0.8.0 in /usr/local/lib/python3.7/dist-packages (from jedi>=0.10->ipython) (0.8.3)\n",
            "Requirement already satisfied: pytz>=2017.3 in /usr/local/lib/python3.7/dist-packages (from pandas>=0.23->seaborn) (2022.6)\n",
            "Requirement already satisfied: wcwidth in /usr/local/lib/python3.7/dist-packages (from prompt-toolkit<2.1.0,>=2.0.0->ipython) (0.2.5)\n",
            "Requirement already satisfied: tensorboard-data-server<0.7.0,>=0.6.0 in /usr/local/lib/python3.7/dist-packages (from tensorboard<2.10,>=2.9->tensorflow) (0.6.1)\n",
            "Requirement already satisfied: tensorboard-plugin-wit>=1.6.0 in /usr/local/lib/python3.7/dist-packages (from tensorboard<2.10,>=2.9->tensorflow) (1.8.1)\n",
            "Requirement already satisfied: google-auth-oauthlib<0.5,>=0.4.1 in /usr/local/lib/python3.7/dist-packages (from tensorboard<2.10,>=2.9->tensorflow) (0.4.6)\n",
            "Requirement already satisfied: werkzeug>=1.0.1 in /usr/local/lib/python3.7/dist-packages (from tensorboard<2.10,>=2.9->tensorflow) (1.0.1)\n",
            "Requirement already satisfied: requests<3,>=2.21.0 in /usr/local/lib/python3.7/dist-packages (from tensorboard<2.10,>=2.9->tensorflow) (2.23.0)\n",
            "Requirement already satisfied: markdown>=2.6.8 in /usr/local/lib/python3.7/dist-packages (from tensorboard<2.10,>=2.9->tensorflow) (3.3.4)\n",
            "Requirement already satisfied: distlib<1,>=0.3.1 in /usr/local/lib/python3.7/dist-packages (from virtualenv>=20.0.8->pre-commit) (0.3.6)\n",
            "Requirement already satisfied: filelock<4,>=3.2 in /usr/local/lib/python3.7/dist-packages (from virtualenv>=20.0.8->pre-commit) (3.8.0)\n",
            "Requirement already satisfied: ptyprocess>=0.5 in /usr/local/lib/python3.7/dist-packages (from pexpect->ipython) (0.7.0)\n",
            "Requirement already satisfied: googleapis-common-protos<2.0dev,>=1.6.0 in /usr/local/lib/python3.7/dist-packages (from google-api-core<2.0.0dev,>=1.14.0->google-cloud-core<2.0dev,>=1.0.0->google-cloud-storage) (1.56.4)\n",
            "Requirement already satisfied: requests-oauthlib>=0.7.0 in /usr/local/lib/python3.7/dist-packages (from google-auth-oauthlib<0.5,>=0.4.1->tensorboard<2.10,>=2.9->tensorflow) (1.3.1)\n",
            "Requirement already satisfied: pyasn1<0.5.0,>=0.4.6 in /usr/local/lib/python3.7/dist-packages (from pyasn1-modules>=0.2.1->google-auth>=1.2.0->google-cloud-storage) (0.4.8)\n",
            "Requirement already satisfied: certifi>=2017.4.17 in /usr/local/lib/python3.7/dist-packages (from requests<3,>=2.21.0->tensorboard<2.10,>=2.9->tensorflow) (2022.9.24)\n",
            "Requirement already satisfied: idna<3,>=2.5 in /usr/local/lib/python3.7/dist-packages (from requests<3,>=2.21.0->tensorboard<2.10,>=2.9->tensorflow) (2.10)\n",
            "Requirement already satisfied: urllib3!=1.25.0,!=1.25.1,<1.26,>=1.21.1 in /usr/local/lib/python3.7/dist-packages (from requests<3,>=2.21.0->tensorboard<2.10,>=2.9->tensorflow) (1.25.11)\n",
            "Requirement already satisfied: chardet<4,>=3.0.2 in /usr/local/lib/python3.7/dist-packages (from requests<3,>=2.21.0->tensorboard<2.10,>=2.9->tensorflow) (3.0.4)\n",
            "Requirement already satisfied: oauthlib>=3.0.0 in /usr/local/lib/python3.7/dist-packages (from requests-oauthlib>=0.7.0->google-auth-oauthlib<0.5,>=0.4.1->tensorboard<2.10,>=2.9->tensorflow) (3.2.2)\n",
            "\u001b[33mWARNING: Running pip as the 'root' user can result in broken permissions and conflicting behaviour with the system package manager. It is recommended to use a virtual environment instead: https://pip.pypa.io/warnings/venv\u001b[0m\u001b[33m\n",
            "\u001b[0mAn error has occurred: FatalError: git failed. Is it installed, and are you in a Git repository directory?\n",
            "Check the log at /root/.cache/pre-commit/pre-commit.log\n"
          ]
        }
      ]
    },
    {
      "cell_type": "code",
      "source": [
        "import os\n",
        "os.kill(os.getpid(), 9)"
      ],
      "metadata": {
        "id": "knAK-qiyYrhX"
      },
      "execution_count": null,
      "outputs": []
    },
    {
      "cell_type": "code",
      "source": [
        "%cd annotated-s4"
      ],
      "metadata": {
        "colab": {
          "base_uri": "https://localhost:8080/"
        },
        "id": "GXvSPgfXZXaq",
        "outputId": "46f04418-da7f-41f0-c50c-35f333a6179a"
      },
      "execution_count": null,
      "outputs": [
        {
          "output_type": "stream",
          "name": "stdout",
          "text": [
            "/content/annotated-s4\n"
          ]
        }
      ]
    },
    {
      "cell_type": "markdown",
      "source": [
        "# Mnist sequence classification"
      ],
      "metadata": {
        "id": "7RtrLl5vftud"
      }
    },
    {
      "cell_type": "markdown",
      "source": [
        "You can disable wandb"
      ],
      "metadata": {
        "id": "fA5ISAZ0f0bI"
      }
    },
    {
      "cell_type": "code",
      "source": [
        "!python -m s4.train wandb.mode=online dataset=mnist layer=s4 train.epochs=100 train.bsz=50 train.lr=5e-3 train.lr_schedule=true model.d_model=512 model.n_layers=6 model.dropout=0.0 train.weight_decay=0.05 model.prenorm=true model.embedding=true train.sample=308 "
      ],
      "metadata": {
        "colab": {
          "base_uri": "https://localhost:8080/"
        },
        "id": "TDMtz1jiYtTn",
        "outputId": "b8daef8d-b614-47c5-e25f-64c18a8e8389"
      },
      "execution_count": null,
      "outputs": [
        {
          "output_type": "stream",
          "name": "stdout",
          "text": [
            "WARNING:absl:GlobalAsyncCheckpointManager is not imported correctly. Checkpointing of GlobalDeviceArrays will not be available.To use the feature, install tensorstore.\n",
            "dataset: mnist\n",
            "layer: s4\n",
            "seed: 0\n",
            "model:\n",
            "  d_model: 512\n",
            "  n_layers: 6\n",
            "  dropout: 0.0\n",
            "  prenorm: true\n",
            "  embedding: true\n",
            "  layer:\n",
            "    'N': 64\n",
            "train:\n",
            "  epochs: 100\n",
            "  bsz: 50\n",
            "  lr: 0.005\n",
            "  lr_schedule: true\n",
            "  weight_decay: 0.05\n",
            "  checkpoint: false\n",
            "  suffix: null\n",
            "  sample: 308\n",
            "wandb:\n",
            "  mode: online\n",
            "  project: s4\n",
            "  entity: null\n",
            "\n",
            "\u001b[34m\u001b[1mwandb\u001b[0m: (1) Create a W&B account\n",
            "\u001b[34m\u001b[1mwandb\u001b[0m: (2) Use an existing W&B account\n",
            "\u001b[34m\u001b[1mwandb\u001b[0m: (3) Don't visualize my results\n",
            "\u001b[34m\u001b[1mwandb\u001b[0m: Enter your choice: 2\n",
            "\u001b[34m\u001b[1mwandb\u001b[0m: You chose 'Use an existing W&B account'\n",
            "\u001b[34m\u001b[1mwandb\u001b[0m: Logging into wandb.ai. (Learn how to deploy a W&B server locally: https://wandb.me/wandb-server)\n",
            "\u001b[34m\u001b[1mwandb\u001b[0m: You can find your API key in your browser here: https://wandb.ai/authorize\n",
            "\u001b[34m\u001b[1mwandb\u001b[0m: Paste an API key from your profile and hit enter, or press ctrl+c to quit: \n",
            "\u001b[34m\u001b[1mwandb\u001b[0m: Appending key for api.wandb.ai to your netrc file: /root/.netrc\n",
            "\u001b[34m\u001b[1mwandb\u001b[0m: Tracking run with wandb version 0.13.5\n",
            "\u001b[34m\u001b[1mwandb\u001b[0m: Run data is saved locally in \u001b[35m\u001b[1m/content/annotated-s4/wandb/run-20221107_144423-davsilfy\u001b[0m\n",
            "\u001b[34m\u001b[1mwandb\u001b[0m: Run \u001b[1m`wandb offline`\u001b[0m to turn off syncing.\n",
            "\u001b[34m\u001b[1mwandb\u001b[0m: Syncing run \u001b[33mbreezy-dust-2\u001b[0m\n",
            "\u001b[34m\u001b[1mwandb\u001b[0m: ⭐️ View project at \u001b[34m\u001b[4mhttps://wandb.ai/messlav/s4\u001b[0m\n",
            "\u001b[34m\u001b[1mwandb\u001b[0m: 🚀 View run at \u001b[34m\u001b[4mhttps://wandb.ai/messlav/s4/runs/davsilfy\u001b[0m\n",
            "[*] Warning: models are not being checkpoint\n",
            "[*] Setting Randomness...\n",
            "[2022-11-07 14:44:24,724][jax._src.lib.xla_bridge][INFO] - Unable to initialize backend 'tpu_driver': NOT_FOUND: Unable to find driver in registry given worker: \n",
            "[2022-11-07 14:44:24,945][jax._src.lib.xla_bridge][INFO] - Unable to initialize backend 'rocm': NOT_FOUND: Could not find registered platform with name: \"rocm\". Available platform names are: Host Interpreter CUDA\n",
            "[2022-11-07 14:44:24,946][jax._src.lib.xla_bridge][INFO] - Unable to initialize backend 'tpu': module 'jaxlib.xla_extension' has no attribute 'get_tpu_client'\n",
            "[2022-11-07 14:44:24,946][jax._src.lib.xla_bridge][INFO] - Unable to initialize backend 'plugin': xla_extension has no attributes named get_plugin_device_client. Compile TensorFlow with //tensorflow/compiler/xla/python:enable_plugin_device set to true (defaults to false) to enable this.\n",
            "[*] Generating MNIST Sequence Modeling Dataset...\n",
            "Downloading http://yann.lecun.com/exdb/mnist/train-images-idx3-ubyte.gz\n",
            "Downloading http://yann.lecun.com/exdb/mnist/train-images-idx3-ubyte.gz to ./data/MNIST/raw/train-images-idx3-ubyte.gz\n",
            "9913344it [00:00, 106780223.61it/s]\n",
            "Extracting ./data/MNIST/raw/train-images-idx3-ubyte.gz to ./data/MNIST/raw\n",
            "\n",
            "Downloading http://yann.lecun.com/exdb/mnist/train-labels-idx1-ubyte.gz\n",
            "Downloading http://yann.lecun.com/exdb/mnist/train-labels-idx1-ubyte.gz to ./data/MNIST/raw/train-labels-idx1-ubyte.gz\n",
            "29696it [00:00, 45724688.54it/s]\n",
            "Extracting ./data/MNIST/raw/train-labels-idx1-ubyte.gz to ./data/MNIST/raw\n",
            "\n",
            "Downloading http://yann.lecun.com/exdb/mnist/t10k-images-idx3-ubyte.gz\n",
            "Downloading http://yann.lecun.com/exdb/mnist/t10k-images-idx3-ubyte.gz to ./data/MNIST/raw/t10k-images-idx3-ubyte.gz\n",
            "1649664it [00:00, 59651809.28it/s]\n",
            "Extracting ./data/MNIST/raw/t10k-images-idx3-ubyte.gz to ./data/MNIST/raw\n",
            "\n",
            "Downloading http://yann.lecun.com/exdb/mnist/t10k-labels-idx1-ubyte.gz\n",
            "Downloading http://yann.lecun.com/exdb/mnist/t10k-labels-idx1-ubyte.gz to ./data/MNIST/raw/t10k-labels-idx1-ubyte.gz\n",
            "5120it [00:00, 14026673.08it/s]\n",
            "Extracting ./data/MNIST/raw/t10k-labels-idx1-ubyte.gz to ./data/MNIST/raw\n",
            "\n",
            "[*] Starting `s4` Training on `mnist` =>> Initializing...\n",
            "/content/annotated-s4/s4/train.py:130: FutureWarning: jax.tree_leaves is deprecated, and will be removed in a future release. Use jax.tree_util.tree_leaves instead.\n",
            "  extra_keys = set(lr_layer.keys()) - set(jax.tree_leaves(name_map(params)))\n",
            "/content/annotated-s4/s4/train.py:142: FutureWarning: jax.tree_leaves is deprecated, and will be removed in a future release. Use jax.tree_util.tree_leaves instead.\n",
            "  print(f\"[*] Trainable Parameters: {sum(jax.tree_leaves(param_sizes))}\")\n",
            "[*] Trainable Parameters: 5130496\n",
            "[*] Total training steps: 120000\n",
            "[*] Starting Training Epoch 1...\n",
            "100% 1200/1200 [11:33<00:00,  1.73it/s]\n",
            "[*] Running Epoch 1 Validation...\n",
            "100% 200/200 [00:40<00:00,  4.90it/s]\n",
            "\n",
            "=>> Epoch 1 Metrics ===\n",
            "\tTrain Loss: 0.76693 -- Train Accuracy: 0.8679\n",
            "\t Test Loss: 0.66028 --  Test Accuracy: 0.8781\n",
            "[*] Priming\n",
            "\tBest Test Loss: 0.66028 -- Best Test Accuracy: 0.8781 at Epoch 1\n",
            "\n",
            "[*] Starting Training Epoch 2...\n",
            "100% 1200/1200 [11:25<00:00,  1.75it/s]\n",
            "[*] Running Epoch 2 Validation...\n",
            "100% 200/200 [00:35<00:00,  5.67it/s]\n",
            "\n",
            "=>> Epoch 2 Metrics ===\n",
            "\tTrain Loss: 0.63230 -- Train Accuracy: 0.8814\n",
            "\t Test Loss: 0.59890 --  Test Accuracy: 0.8861\n",
            "[*] Priming\n",
            "\tBest Test Loss: 0.59890 -- Best Test Accuracy: 0.8861 at Epoch 2\n",
            "\n",
            "[*] Starting Training Epoch 3...\n",
            "100% 1200/1200 [11:24<00:00,  1.75it/s]\n",
            "[*] Running Epoch 3 Validation...\n",
            "100% 200/200 [00:35<00:00,  5.66it/s]\n",
            "\n",
            "=>> Epoch 3 Metrics ===\n",
            "\tTrain Loss: 0.57722 -- Train Accuracy: 0.8887\n",
            "\t Test Loss: 0.55141 --  Test Accuracy: 0.8922\n",
            "[*] Priming\n",
            "\tBest Test Loss: 0.55141 -- Best Test Accuracy: 0.8922 at Epoch 3\n",
            "\n",
            "[*] Starting Training Epoch 4...\n",
            "100% 1200/1200 [11:23<00:00,  1.76it/s]\n",
            "[*] Running Epoch 4 Validation...\n",
            "100% 200/200 [00:35<00:00,  5.66it/s]\n",
            "\n",
            "=>> Epoch 4 Metrics ===\n",
            "\tTrain Loss: 0.53559 -- Train Accuracy: 0.8935\n",
            "\t Test Loss: 0.52027 --  Test Accuracy: 0.8956\n",
            "[*] Priming\n",
            "\tBest Test Loss: 0.52027 -- Best Test Accuracy: 0.8956 at Epoch 4\n",
            "\n",
            "[*] Starting Training Epoch 5...\n",
            "100% 1200/1200 [11:25<00:00,  1.75it/s]\n",
            "[*] Running Epoch 5 Validation...\n",
            "100% 200/200 [00:35<00:00,  5.66it/s]\n",
            "\n",
            "=>> Epoch 5 Metrics ===\n",
            "\tTrain Loss: 0.50991 -- Train Accuracy: 0.8965\n",
            "\t Test Loss: 0.49942 --  Test Accuracy: 0.8979\n",
            "[*] Priming\n",
            "\tBest Test Loss: 0.49942 -- Best Test Accuracy: 0.8979 at Epoch 5\n",
            "\n",
            "[*] Starting Training Epoch 6...\n",
            "100% 1200/1200 [11:26<00:00,  1.75it/s]\n",
            "[*] Running Epoch 6 Validation...\n",
            "100% 200/200 [00:35<00:00,  5.66it/s]\n",
            "\n",
            "=>> Epoch 6 Metrics ===\n",
            "\tTrain Loss: 0.49089 -- Train Accuracy: 0.8988\n",
            "\t Test Loss: 0.48385 --  Test Accuracy: 0.8998\n",
            "[*] Priming\n",
            "\tBest Test Loss: 0.48385 -- Best Test Accuracy: 0.8998 at Epoch 6\n",
            "\n",
            "[*] Starting Training Epoch 7...\n",
            "100% 1200/1200 [11:25<00:00,  1.75it/s]\n",
            "[*] Running Epoch 7 Validation...\n",
            " 79% 158/200 [00:27<00:07,  5.46it/s]"
          ]
        }
      ]
    },
    {
      "cell_type": "markdown",
      "source": [
        "# MNIST classification\n",
        "\n",
        "**Let's rewrite code a bit for our tasks**"
      ],
      "metadata": {
        "id": "TKsP2xY3AZO0"
      }
    },
    {
      "cell_type": "code",
      "source": [
        "import os\n",
        "import shutil\n",
        "from functools import partial\n",
        "import hydra\n",
        "import jax\n",
        "import jax.numpy as np\n",
        "import optax\n",
        "import torch\n",
        "from flax import linen as nn\n",
        "from flax.training import checkpoints, train_state\n",
        "from omegaconf import DictConfig, OmegaConf\n",
        "from tqdm import tqdm\n",
        "from s4.data import Datasets\n",
        "from s4.s4 import BatchStackedModel, S4Layer, SSMLayer, sample_image_prefix\n",
        "import wandb"
      ],
      "metadata": {
        "id": "aq0u8EQEAbwo",
        "colab": {
          "base_uri": "https://localhost:8080/"
        },
        "outputId": "e3740151-c8d6-48c3-d5ec-8b4d80a5b525"
      },
      "execution_count": null,
      "outputs": [
        {
          "output_type": "stream",
          "name": "stderr",
          "text": [
            "WARNING:absl:GlobalAsyncCheckpointManager is not imported correctly. Checkpointing of GlobalDeviceArrays will not be available.To use the feature, install tensorstore.\n"
          ]
        }
      ]
    },
    {
      "cell_type": "code",
      "source": [
        "@partial(np.vectorize, signature=\"(c),()->()\")\n",
        "def cross_entropy_loss(logits, label):\n",
        "    one_hot_label = jax.nn.one_hot(label, num_classes=logits.shape[0])\n",
        "    return -np.sum(one_hot_label * logits)\n",
        "\n",
        "\n",
        "@partial(np.vectorize, signature=\"(c),()->()\")\n",
        "def compute_accuracy(logits, label):\n",
        "    return np.argmax(logits) == label\n",
        "\n",
        "\n",
        "# As we're using Flax, we also write a utility function to return a default TrainState object.\n",
        "# This function initializes model parameters, as well as our optimizer. Note that for S4 models,\n",
        "# we use a custom learning rate for parameters of the S4 kernel (lr = 0.001, no weight decay).\n",
        "def map_nested_fn(fn):\n",
        "    \"\"\"Recursively apply `fn to the key-value pairs of a nested dict / pytree.\"\"\"\n",
        "\n",
        "    def map_fn(nested_dict):\n",
        "        return {\n",
        "            k: (map_fn(v) if hasattr(v, \"keys\") else fn(k, v))\n",
        "            for k, v in nested_dict.items()\n",
        "        }\n",
        "\n",
        "    return map_fn\n",
        "\n",
        "\n",
        "def create_train_state(\n",
        "    rng,\n",
        "    model_cls,\n",
        "    trainloader,\n",
        "    lr=1e-3,\n",
        "    lr_layer=None,\n",
        "    lr_schedule=False,\n",
        "    weight_decay=0.0,\n",
        "    total_steps=-1,\n",
        "):\n",
        "    model = model_cls(training=True)\n",
        "    init_rng, dropout_rng = jax.random.split(rng, num=2)\n",
        "    params = model.init(\n",
        "        {\"params\": init_rng, \"dropout\": dropout_rng},\n",
        "        np.array(next(iter(trainloader))[0].numpy()),\n",
        "    )\n",
        "    # Note: Added immediate `unfreeze()` to play well w/ Optax. See below!\n",
        "    params = params[\"params\"].unfreeze()\n",
        "\n",
        "    # Handle learning rates:\n",
        "    # - LR scheduler\n",
        "    # - Set custom learning rates on some SSM parameters\n",
        "\n",
        "    # Note for Debugging... this is all undocumented and so weird. The following links are helpful...\n",
        "    #\n",
        "    #   > Flax \"Recommended\" interplay w/ Optax (this bridge needs ironing):\n",
        "    #       https://github.com/google/flax/blob/main/docs/flip/1009-optimizer-api.md#multi-optimizer\n",
        "    #\n",
        "    #   > But... masking doesn't work like the above example suggests!\n",
        "    #       Root Explanation: https://github.com/deepmind/optax/issues/159\n",
        "    #       Fix: https://github.com/deepmind/optax/discussions/167\n",
        "    #\n",
        "    #   > Also... Flax FrozenDict doesn't play well with rest of Jax + Optax...\n",
        "    #       https://github.com/deepmind/optax/issues/160#issuecomment-896460796\n",
        "    #\n",
        "    #   > Solution: Use Optax.multi_transform!\n",
        "\n",
        "    if lr_schedule:\n",
        "        schedule_fn = lambda lr: optax.cosine_onecycle_schedule(\n",
        "            peak_value=lr,\n",
        "            transition_steps=total_steps,\n",
        "            pct_start=0.1,\n",
        "        )\n",
        "    else:\n",
        "        schedule_fn = lambda lr: lr\n",
        "    # lr_layer is a dictionary from parameter name to LR multiplier\n",
        "    if lr_layer is None:\n",
        "        lr_layer = {}\n",
        "\n",
        "    optimizers = {\n",
        "        k: optax.adam(learning_rate=schedule_fn(v * lr))\n",
        "        for k, v in lr_layer.items()\n",
        "    }\n",
        "    # Add default optimizer\n",
        "    # Note: it would be better to use a dummy key such as None that can't conflict with parameter names,\n",
        "    # but this causes a hard-to-trace error; it seems that the transforms keys list is being sorted inside optax.multi_transform\n",
        "    # which causes an error since None can't be compared to str\n",
        "    optimizers[\"__default__\"] = optax.adamw(\n",
        "        learning_rate=schedule_fn(lr),\n",
        "        weight_decay=weight_decay,\n",
        "    )\n",
        "    name_map = map_nested_fn(lambda k, _: k if k in lr_layer else \"__default__\")\n",
        "    tx = optax.multi_transform(optimizers, name_map)\n",
        "    # For debugging, this would be the default transform with no scheduler or special params\n",
        "    # tx = optax.adamw(learning_rate=lr, weight_decay=0.01)\n",
        "\n",
        "    # Check that all special parameter names are actually parameters\n",
        "    extra_keys = set(lr_layer.keys()) - set(jax.tree_util.tree_leaves(name_map(params)))\n",
        "    assert (\n",
        "        len(extra_keys) == 0\n",
        "    ), f\"Special params {extra_keys} do not correspond to actual params\"\n",
        "\n",
        "    # Print parameter count\n",
        "    _is_complex = lambda x: x.dtype in [np.complex64, np.complex128]\n",
        "    param_sizes = map_nested_fn(\n",
        "        lambda k, param: param.size * (2 if _is_complex(param) else 1)\n",
        "        if lr_layer.get(k, lr) > 0.0\n",
        "        else 0\n",
        "    )(params)\n",
        "    print(f\"[*] Trainable Parameters: {sum(jax.tree_util.tree_leaves(param_sizes))}\")\n",
        "    print(f\"[*] Total training steps: {total_steps}\")\n",
        "\n",
        "    return train_state.TrainState.create(\n",
        "        apply_fn=model.apply, params=params, tx=tx\n",
        "    )\n",
        "\n",
        "\n",
        "# We also use this opportunity to write generic train_epoch and validation functions. These functions generally\n",
        "# operate by taking in a training state, model class, dataloader, and critically, the model-specific step function.\n",
        "# We define the step functions on a model-specific basis below.\n",
        "\n",
        "\n",
        "def train_epoch(state, rng, model, trainloader, classification=False):\n",
        "    # Store Metrics\n",
        "    model = model(training=True)\n",
        "    batch_losses, batch_accuracies = [], []\n",
        "    for batch_idx, (inputs, labels) in enumerate(tqdm(trainloader)):\n",
        "        inputs = np.array(inputs.numpy())\n",
        "        labels = np.array(labels.numpy())  # Not the most efficient...\n",
        "        # print('inputs', inputs.shape)\n",
        "        # print('labels', labels.shape)\n",
        "        rng, drop_rng = jax.random.split(rng)\n",
        "        state, loss, acc = train_step(\n",
        "            state,\n",
        "            drop_rng,\n",
        "            inputs,\n",
        "            labels,\n",
        "            model,\n",
        "            classification=classification,\n",
        "        )\n",
        "        # print('train state', state.shape)\n",
        "        batch_losses.append(loss)\n",
        "        batch_accuracies.append(acc)\n",
        "\n",
        "    # Return average loss over batches\n",
        "    return (\n",
        "        state,\n",
        "        np.mean(np.array(batch_losses)),\n",
        "        np.mean(np.array(batch_accuracies)),\n",
        "    )\n",
        "\n",
        "\n",
        "def validate(params, model, testloader, classification=False):\n",
        "    # Compute average loss & accuracy\n",
        "    model = model(training=False)\n",
        "    losses, accuracies = [], []\n",
        "    for batch_idx, (inputs, labels) in enumerate(tqdm(testloader)):\n",
        "        inputs = np.array(inputs.numpy())\n",
        "        labels = np.array(labels.numpy())  # Not the most efficient...\n",
        "        loss, acc = eval_step(\n",
        "            inputs, labels, params, model, classification=classification\n",
        "        )\n",
        "        losses.append(loss)\n",
        "        accuracies.append(acc)\n",
        "\n",
        "    return np.mean(np.array(losses)), np.mean(np.array(accuracies))\n",
        "\n",
        "\n",
        "# ### Feed-Forward Model\n",
        "# Here, we establish a skeleton for a simple, history-blind feed-forward model. For each element $x_t$ of a sequence, our\n",
        "# feed-forward model attempts to predict $x_{t+1}$. During generation, the predicted \"token\" is fed as the new current\n",
        "# element.\n",
        "\n",
        "\n",
        "class FeedForwardModel(nn.Module):\n",
        "    d_model: int\n",
        "    N: int\n",
        "    l_max: int\n",
        "    decode: bool = False\n",
        "\n",
        "    def setup(self):\n",
        "        self.dense = nn.Dense(self.d_model)\n",
        "\n",
        "    def __call__(self, x):\n",
        "        \"\"\"x - L x N\"\"\"\n",
        "        return nn.relu(self.dense(x))\n",
        "\n",
        "\n",
        "# We define separate step functions for running training and evaluation steps, accordingly. These step functions are\n",
        "# each wrapped in a call to `@jax.jit` which fuses operations, generally leading to high performance gains. These @jit\n",
        "# calls will become increasingly important as we optimize S4.\n",
        "\n",
        "\n",
        "@partial(jax.jit, static_argnums=(4, 5))\n",
        "def train_step(\n",
        "    state, rng, batch_inputs, batch_labels, model, classification=False\n",
        "):\n",
        "    # print('batch_inputs', batch_inputs.shape)\n",
        "    # print('batch_labels', batch_labels.shape)\n",
        "    def loss_fn(params):\n",
        "        logits, mod_vars = model.apply(\n",
        "            {\"params\": params},\n",
        "            batch_inputs,\n",
        "            rngs={\"dropout\": rng},\n",
        "            mutable=[\"intermediates\"],\n",
        "        )\n",
        "        loss = np.mean(cross_entropy_loss(logits, batch_labels))\n",
        "        acc = np.mean(compute_accuracy(logits, batch_labels))\n",
        "        return loss, (logits, acc)\n",
        "\n",
        "    if not classification:\n",
        "        batch_labels = batch_inputs[:, :, 0]\n",
        "\n",
        "    grad_fn = jax.value_and_grad(loss_fn, has_aux=True)\n",
        "    (loss, (logits, acc)), grads = grad_fn(state.params)\n",
        "    state = state.apply_gradients(grads=grads)\n",
        "    # print('state', state.shape)\n",
        "    return state, loss, acc\n",
        "\n",
        "\n",
        "@partial(jax.jit, static_argnums=(3, 4))\n",
        "def eval_step(batch_inputs, batch_labels, params, model, classification=False):\n",
        "    if not classification:\n",
        "        batch_labels = batch_inputs[:, :, 0]\n",
        "    logits = model.apply({\"params\": params}, batch_inputs)\n",
        "    loss = np.mean(cross_entropy_loss(logits, batch_labels))\n",
        "    acc = np.mean(compute_accuracy(logits, batch_labels))\n",
        "    return loss, acc"
      ],
      "metadata": {
        "id": "lJOC_adf9nJ-"
      },
      "execution_count": null,
      "outputs": []
    },
    {
      "cell_type": "markdown",
      "source": [
        "## Check new code with S4Layer"
      ],
      "metadata": {
        "id": "yjt36e4xFyf7"
      }
    },
    {
      "cell_type": "code",
      "source": [
        "seed = 3407\n",
        "dataset = 'mnist-classification'\n",
        "layer = 's4'\n",
        "model = DictConfig({'d_model': 128, 'n_layers': 4, 'dropout': 0.25, 'prenorm': True, 'embedding': False, 'layer': {'N': 64}})\n",
        "train = DictConfig({'epochs': 20, 'bsz': 128, 'lr': 5e-3, 'lr_schedule': True, 'weight_decay': 0.01,\n",
        "                    'checkpoint': True, 'suffix': None, 'sample': None})\n",
        "\n",
        "if wandb is not None:\n",
        "    # wandb.login(key='???')\n",
        "    wandb.init(\n",
        "        **{'mode': 'online', 'project': 's4', 'entity': None},\n",
        "        config=dict(model, **train)\n",
        "    )\n",
        "\n",
        "# Set randomness...\n",
        "print(\"[*] Setting Randomness...\")\n",
        "torch.random.manual_seed(seed)  # For dataloader order\n",
        "key = jax.random.PRNGKey(seed)\n",
        "key, rng, train_rng = jax.random.split(key, num=3)\n",
        "\n",
        "# Check if classification dataset\n",
        "classification = \"classification\" in dataset\n",
        "\n",
        "# Create dataset\n",
        "create_dataset_fn = Datasets[dataset]\n",
        "trainloader, testloader, n_classes, l_max, d_input = create_dataset_fn(\n",
        "    bsz=train.bsz\n",
        ")\n",
        "\n",
        "# Get model class and arguments\n",
        "layer_cls = S4Layer\n",
        "model.layer.l_max = l_max\n",
        "\n",
        "# Extract custom hyperparameters from model class\n",
        "lr_layer = getattr(layer_cls, \"lr\", None)\n",
        "\n",
        "print(f\"[*] Starting `{layer}` Training on `{dataset}` =>> Initializing...\")\n",
        "\n",
        "model_cls = partial(\n",
        "    BatchStackedModel,\n",
        "    layer_cls=layer_cls,\n",
        "    d_output=n_classes,\n",
        "    classification=classification,\n",
        "    **model,\n",
        ")\n",
        "\n",
        "state = create_train_state(\n",
        "    rng,\n",
        "    model_cls,\n",
        "    trainloader,\n",
        "    lr=train.lr,\n",
        "    lr_layer=lr_layer,\n",
        "    lr_schedule=train.lr_schedule,\n",
        "    weight_decay=train.weight_decay,\n",
        "    total_steps=len(trainloader) * train.epochs,\n",
        ")\n",
        "\n",
        "# Loop over epochs\n",
        "best_loss, best_acc, best_epoch = 10000, 0, 0\n",
        "for epoch in range(train.epochs):\n",
        "    print(f\"[*] Starting Training Epoch {epoch + 1}...\")\n",
        "    state, train_loss, train_acc = train_epoch(\n",
        "        state,\n",
        "        train_rng,\n",
        "        model_cls,\n",
        "        trainloader,\n",
        "        classification=classification,\n",
        "    )\n",
        "\n",
        "    print(f\"[*] Running Epoch {epoch + 1} Validation...\")\n",
        "    test_loss, test_acc = validate(\n",
        "        state.params, model_cls, testloader, classification=classification\n",
        "    )\n",
        "\n",
        "    print(f\"\\n=>> Epoch {epoch + 1} Metrics ===\")\n",
        "    print(\n",
        "        f\"\\tTrain Loss: {train_loss:.5f} -- Train Accuracy:\"\n",
        "        f\" {train_acc:.4f}\\n\\t Test Loss: {test_loss:.5f} --  Test\"\n",
        "        f\" Accuracy: {test_acc:.4f}\"\n",
        "    )\n",
        "\n",
        "    if train.checkpoint:\n",
        "        suf = f\"-{train.suffix}\" if train.suffix is not None else \"\"\n",
        "        run_id = f\"checkpoints/{dataset}/{layer}-d_model={model.d_model}-lr={train.lr}-bsz={train.bsz}{suf}\"\n",
        "        ckpt_path = checkpoints.save_checkpoint(\n",
        "            run_id,\n",
        "            state,\n",
        "            epoch,\n",
        "            keep=train.epochs,\n",
        "        )\n",
        "\n",
        "    if (classification and test_acc > best_acc) or (not classification and test_loss < best_loss):\n",
        "        best_loss, best_acc, best_epoch = test_loss, test_acc, epoch\n",
        "        if train.checkpoint:\n",
        "            shutil.copy(ckpt_path, f\"{run_id}/best_{epoch}\")\n",
        "            if os.path.exists(f\"{run_id}/best_{best_epoch}\"):\n",
        "                os.remove(f\"{run_id}/best_{best_epoch}\")\n",
        "\n",
        "    # Print best accuracy & loss so far...\n",
        "    print(\n",
        "        f\"\\tBest Test Loss: {best_loss:.5f} -- Best Test Accuracy:\"\n",
        "        f\" {best_acc:.4f} at Epoch {best_epoch + 1}\\n\"\n",
        "    )\n",
        "\n",
        "    if wandb is not None:\n",
        "        wandb.log(\n",
        "            {\n",
        "                \"train/loss\": train_loss,\n",
        "                \"train/accuracy\": train_acc,\n",
        "                \"test/loss\": test_loss,\n",
        "                \"test/accuracy\": test_acc,\n",
        "            },\n",
        "            step=epoch,\n",
        "        )\n",
        "        wandb.run.summary[\"Best Test Loss\"] = best_loss\n",
        "        wandb.run.summary[\"Best Test Accuracy\"] = best_acc\n",
        "        wandb.run.summary[\"Best Epoch\"] = best_epoch"
      ],
      "metadata": {
        "colab": {
          "base_uri": "https://localhost:8080/",
          "height": 1000
        },
        "id": "X2pCTzt_Itv6",
        "outputId": "5d56bb4b-c3ea-45ce-e6c0-b8af5f1ea29f"
      },
      "execution_count": null,
      "outputs": [
        {
          "metadata": {
            "tags": null
          },
          "name": "stderr",
          "output_type": "stream",
          "text": [
            "\u001b[34m\u001b[1mwandb\u001b[0m: \u001b[33mWARNING\u001b[0m If you're specifying your api key in code, ensure this code is not shared publicly.\n",
            "\u001b[34m\u001b[1mwandb\u001b[0m: \u001b[33mWARNING\u001b[0m Consider setting the WANDB_API_KEY environment variable, or running `wandb login` from the command line.\n",
            "\u001b[34m\u001b[1mwandb\u001b[0m: Appending key for api.wandb.ai to your netrc file: /root/.netrc\n"
          ]
        },
        {
          "data": {
            "text/html": [
              "Tracking run with wandb version 0.13.5"
            ],
            "text/plain": [
              "<IPython.core.display.HTML object>"
            ]
          },
          "metadata": {},
          "output_type": "display_data"
        },
        {
          "data": {
            "text/html": [
              "Run data is saved locally in <code>/content/annotated-s4/wandb/run-20221108_125306-1xedljoo</code>"
            ],
            "text/plain": [
              "<IPython.core.display.HTML object>"
            ]
          },
          "metadata": {},
          "output_type": "display_data"
        },
        {
          "data": {
            "text/html": [
              "Syncing run <strong><a href=\"https://wandb.ai/messlav/s4/runs/1xedljoo\" target=\"_blank\">curious-salad-5</a></strong> to <a href=\"https://wandb.ai/messlav/s4\" target=\"_blank\">Weights & Biases</a> (<a href=\"https://wandb.me/run\" target=\"_blank\">docs</a>)<br/>"
            ],
            "text/plain": [
              "<IPython.core.display.HTML object>"
            ]
          },
          "metadata": {},
          "output_type": "display_data"
        },
        {
          "metadata": {
            "tags": null
          },
          "name": "stdout",
          "output_type": "stream",
          "text": [
            "[*] Setting Randomness...\n",
            "[*] Generating MNIST Classification Dataset...\n",
            "[*] Starting `s4` Training on `mnist-classification` =>> Initializing...\n",
            "[*] Trainable Parameters: 397834\n",
            "[*] Total training steps: 9380\n",
            "[*] Starting Training Epoch 1...\n"
          ]
        },
        {
          "metadata": {
            "tags": null
          },
          "name": "stderr",
          "output_type": "stream",
          "text": [
            "100%|██████████| 469/469 [01:43<00:00,  4.54it/s]\n"
          ]
        },
        {
          "metadata": {
            "tags": null
          },
          "name": "stdout",
          "output_type": "stream",
          "text": [
            "[*] Running Epoch 1 Validation...\n"
          ]
        },
        {
          "metadata": {
            "tags": null
          },
          "name": "stderr",
          "output_type": "stream",
          "text": [
            "100%|██████████| 79/79 [00:10<00:00,  7.33it/s]\n"
          ]
        },
        {
          "metadata": {
            "tags": null
          },
          "name": "stdout",
          "output_type": "stream",
          "text": [
            "\n",
            "=>> Epoch 1 Metrics ===\n",
            "\tTrain Loss: 1.88049 -- Train Accuracy: 0.3215\n",
            "\t Test Loss: 0.50105 --  Test Accuracy: 0.8429\n",
            "\tBest Test Loss: 0.50105 -- Best Test Accuracy: 0.8429 at Epoch 1\n",
            "\n",
            "[*] Starting Training Epoch 2...\n"
          ]
        },
        {
          "metadata": {
            "tags": null
          },
          "name": "stderr",
          "output_type": "stream",
          "text": [
            "100%|██████████| 469/469 [01:13<00:00,  6.41it/s]\n"
          ]
        },
        {
          "metadata": {
            "tags": null
          },
          "name": "stdout",
          "output_type": "stream",
          "text": [
            "[*] Running Epoch 2 Validation...\n"
          ]
        },
        {
          "metadata": {
            "tags": null
          },
          "name": "stderr",
          "output_type": "stream",
          "text": [
            "100%|██████████| 79/79 [00:03<00:00, 22.55it/s]\n"
          ]
        },
        {
          "metadata": {
            "tags": null
          },
          "name": "stdout",
          "output_type": "stream",
          "text": [
            "\n",
            "=>> Epoch 2 Metrics ===\n",
            "\tTrain Loss: 0.37683 -- Train Accuracy: 0.8795\n",
            "\t Test Loss: 0.10676 --  Test Accuracy: 0.9671\n",
            "\tBest Test Loss: 0.10676 -- Best Test Accuracy: 0.9671 at Epoch 2\n",
            "\n",
            "[*] Starting Training Epoch 3...\n"
          ]
        },
        {
          "metadata": {
            "tags": null
          },
          "name": "stderr",
          "output_type": "stream",
          "text": [
            "100%|██████████| 469/469 [01:12<00:00,  6.43it/s]\n"
          ]
        },
        {
          "metadata": {
            "tags": null
          },
          "name": "stdout",
          "output_type": "stream",
          "text": [
            "[*] Running Epoch 3 Validation...\n"
          ]
        },
        {
          "metadata": {
            "tags": null
          },
          "name": "stderr",
          "output_type": "stream",
          "text": [
            "100%|██████████| 79/79 [00:03<00:00, 22.48it/s]\n"
          ]
        },
        {
          "metadata": {
            "tags": null
          },
          "name": "stdout",
          "output_type": "stream",
          "text": [
            "\n",
            "=>> Epoch 3 Metrics ===\n",
            "\tTrain Loss: 0.14250 -- Train Accuracy: 0.9574\n",
            "\t Test Loss: 0.05587 --  Test Accuracy: 0.9815\n",
            "\tBest Test Loss: 0.05587 -- Best Test Accuracy: 0.9815 at Epoch 3\n",
            "\n",
            "[*] Starting Training Epoch 4...\n"
          ]
        },
        {
          "metadata": {
            "tags": null
          },
          "name": "stderr",
          "output_type": "stream",
          "text": [
            "100%|██████████| 469/469 [01:12<00:00,  6.43it/s]\n"
          ]
        },
        {
          "metadata": {
            "tags": null
          },
          "name": "stdout",
          "output_type": "stream",
          "text": [
            "[*] Running Epoch 4 Validation...\n"
          ]
        },
        {
          "metadata": {
            "tags": null
          },
          "name": "stderr",
          "output_type": "stream",
          "text": [
            "100%|██████████| 79/79 [00:03<00:00, 22.54it/s]\n"
          ]
        },
        {
          "metadata": {
            "tags": null
          },
          "name": "stdout",
          "output_type": "stream",
          "text": [
            "\n",
            "=>> Epoch 4 Metrics ===\n",
            "\tTrain Loss: 0.10225 -- Train Accuracy: 0.9691\n",
            "\t Test Loss: 0.04939 --  Test Accuracy: 0.9844\n",
            "\tBest Test Loss: 0.04939 -- Best Test Accuracy: 0.9844 at Epoch 4\n",
            "\n",
            "[*] Starting Training Epoch 5...\n"
          ]
        },
        {
          "metadata": {
            "tags": null
          },
          "name": "stderr",
          "output_type": "stream",
          "text": [
            "100%|██████████| 469/469 [01:12<00:00,  6.43it/s]\n"
          ]
        },
        {
          "metadata": {
            "tags": null
          },
          "name": "stdout",
          "output_type": "stream",
          "text": [
            "[*] Running Epoch 5 Validation...\n"
          ]
        },
        {
          "metadata": {
            "tags": null
          },
          "name": "stderr",
          "output_type": "stream",
          "text": [
            "100%|██████████| 79/79 [00:03<00:00, 22.47it/s]\n"
          ]
        },
        {
          "metadata": {
            "tags": null
          },
          "name": "stdout",
          "output_type": "stream",
          "text": [
            "\n",
            "=>> Epoch 5 Metrics ===\n",
            "\tTrain Loss: 0.08190 -- Train Accuracy: 0.9746\n",
            "\t Test Loss: 0.03350 --  Test Accuracy: 0.9895\n",
            "\tBest Test Loss: 0.03350 -- Best Test Accuracy: 0.9895 at Epoch 5\n",
            "\n",
            "[*] Starting Training Epoch 6...\n"
          ]
        },
        {
          "metadata": {
            "tags": null
          },
          "name": "stderr",
          "output_type": "stream",
          "text": [
            "100%|██████████| 469/469 [01:12<00:00,  6.43it/s]\n"
          ]
        },
        {
          "metadata": {
            "tags": null
          },
          "name": "stdout",
          "output_type": "stream",
          "text": [
            "[*] Running Epoch 6 Validation...\n"
          ]
        },
        {
          "metadata": {
            "tags": null
          },
          "name": "stderr",
          "output_type": "stream",
          "text": [
            "100%|██████████| 79/79 [00:03<00:00, 22.50it/s]\n"
          ]
        },
        {
          "metadata": {
            "tags": null
          },
          "name": "stdout",
          "output_type": "stream",
          "text": [
            "\n",
            "=>> Epoch 6 Metrics ===\n",
            "\tTrain Loss: 0.07032 -- Train Accuracy: 0.9780\n",
            "\t Test Loss: 0.03346 --  Test Accuracy: 0.9892\n",
            "\tBest Test Loss: 0.03350 -- Best Test Accuracy: 0.9895 at Epoch 5\n",
            "\n",
            "[*] Starting Training Epoch 7...\n"
          ]
        },
        {
          "metadata": {
            "tags": null
          },
          "name": "stderr",
          "output_type": "stream",
          "text": [
            "100%|██████████| 469/469 [01:12<00:00,  6.43it/s]\n"
          ]
        },
        {
          "metadata": {
            "tags": null
          },
          "name": "stdout",
          "output_type": "stream",
          "text": [
            "[*] Running Epoch 7 Validation...\n"
          ]
        },
        {
          "metadata": {
            "tags": null
          },
          "name": "stderr",
          "output_type": "stream",
          "text": [
            "100%|██████████| 79/79 [00:03<00:00, 22.44it/s]\n"
          ]
        },
        {
          "metadata": {
            "tags": null
          },
          "name": "stdout",
          "output_type": "stream",
          "text": [
            "\n",
            "=>> Epoch 7 Metrics ===\n",
            "\tTrain Loss: 0.06325 -- Train Accuracy: 0.9809\n",
            "\t Test Loss: 0.03103 --  Test Accuracy: 0.9895\n",
            "\tBest Test Loss: 0.03350 -- Best Test Accuracy: 0.9895 at Epoch 5\n",
            "\n",
            "[*] Starting Training Epoch 8...\n"
          ]
        },
        {
          "metadata": {
            "tags": null
          },
          "name": "stderr",
          "output_type": "stream",
          "text": [
            "100%|██████████| 469/469 [01:12<00:00,  6.43it/s]\n"
          ]
        },
        {
          "metadata": {
            "tags": null
          },
          "name": "stdout",
          "output_type": "stream",
          "text": [
            "[*] Running Epoch 8 Validation...\n"
          ]
        },
        {
          "metadata": {
            "tags": null
          },
          "name": "stderr",
          "output_type": "stream",
          "text": [
            "100%|██████████| 79/79 [00:03<00:00, 22.48it/s]\n"
          ]
        },
        {
          "metadata": {
            "tags": null
          },
          "name": "stdout",
          "output_type": "stream",
          "text": [
            "\n",
            "=>> Epoch 8 Metrics ===\n",
            "\tTrain Loss: 0.05411 -- Train Accuracy: 0.9835\n",
            "\t Test Loss: 0.02653 --  Test Accuracy: 0.9918\n",
            "\tBest Test Loss: 0.02653 -- Best Test Accuracy: 0.9918 at Epoch 8\n",
            "\n",
            "[*] Starting Training Epoch 9...\n"
          ]
        },
        {
          "metadata": {
            "tags": null
          },
          "name": "stderr",
          "output_type": "stream",
          "text": [
            "100%|██████████| 469/469 [01:12<00:00,  6.43it/s]\n"
          ]
        },
        {
          "metadata": {
            "tags": null
          },
          "name": "stdout",
          "output_type": "stream",
          "text": [
            "[*] Running Epoch 9 Validation...\n"
          ]
        },
        {
          "metadata": {
            "tags": null
          },
          "name": "stderr",
          "output_type": "stream",
          "text": [
            "100%|██████████| 79/79 [00:03<00:00, 22.50it/s]\n"
          ]
        },
        {
          "metadata": {
            "tags": null
          },
          "name": "stdout",
          "output_type": "stream",
          "text": [
            "\n",
            "=>> Epoch 9 Metrics ===\n",
            "\tTrain Loss: 0.05024 -- Train Accuracy: 0.9845\n",
            "\t Test Loss: 0.02463 --  Test Accuracy: 0.9928\n",
            "\tBest Test Loss: 0.02463 -- Best Test Accuracy: 0.9928 at Epoch 9\n",
            "\n",
            "[*] Starting Training Epoch 10...\n"
          ]
        },
        {
          "metadata": {
            "tags": null
          },
          "name": "stderr",
          "output_type": "stream",
          "text": [
            "100%|██████████| 469/469 [01:12<00:00,  6.43it/s]\n"
          ]
        },
        {
          "metadata": {
            "tags": null
          },
          "name": "stdout",
          "output_type": "stream",
          "text": [
            "[*] Running Epoch 10 Validation...\n"
          ]
        },
        {
          "metadata": {
            "tags": null
          },
          "name": "stderr",
          "output_type": "stream",
          "text": [
            "100%|██████████| 79/79 [00:03<00:00, 22.48it/s]\n"
          ]
        },
        {
          "metadata": {
            "tags": null
          },
          "name": "stdout",
          "output_type": "stream",
          "text": [
            "\n",
            "=>> Epoch 10 Metrics ===\n",
            "\tTrain Loss: 0.04590 -- Train Accuracy: 0.9859\n",
            "\t Test Loss: 0.02421 --  Test Accuracy: 0.9927\n",
            "\tBest Test Loss: 0.02463 -- Best Test Accuracy: 0.9928 at Epoch 9\n",
            "\n",
            "[*] Starting Training Epoch 11...\n"
          ]
        },
        {
          "metadata": {
            "tags": null
          },
          "name": "stderr",
          "output_type": "stream",
          "text": [
            "100%|██████████| 469/469 [01:12<00:00,  6.43it/s]\n"
          ]
        },
        {
          "metadata": {
            "tags": null
          },
          "name": "stdout",
          "output_type": "stream",
          "text": [
            "[*] Running Epoch 11 Validation...\n"
          ]
        },
        {
          "metadata": {
            "tags": null
          },
          "name": "stderr",
          "output_type": "stream",
          "text": [
            "100%|██████████| 79/79 [00:03<00:00, 22.49it/s]\n"
          ]
        },
        {
          "metadata": {
            "tags": null
          },
          "name": "stdout",
          "output_type": "stream",
          "text": [
            "\n",
            "=>> Epoch 11 Metrics ===\n",
            "\tTrain Loss: 0.04020 -- Train Accuracy: 0.9876\n",
            "\t Test Loss: 0.02110 --  Test Accuracy: 0.9935\n",
            "\tBest Test Loss: 0.02110 -- Best Test Accuracy: 0.9935 at Epoch 11\n",
            "\n",
            "[*] Starting Training Epoch 12...\n"
          ]
        },
        {
          "metadata": {
            "tags": null
          },
          "name": "stderr",
          "output_type": "stream",
          "text": [
            "100%|██████████| 469/469 [01:12<00:00,  6.43it/s]\n"
          ]
        },
        {
          "metadata": {
            "tags": null
          },
          "name": "stdout",
          "output_type": "stream",
          "text": [
            "[*] Running Epoch 12 Validation...\n"
          ]
        },
        {
          "metadata": {
            "tags": null
          },
          "name": "stderr",
          "output_type": "stream",
          "text": [
            "100%|██████████| 79/79 [00:03<00:00, 22.46it/s]\n"
          ]
        },
        {
          "metadata": {
            "tags": null
          },
          "name": "stdout",
          "output_type": "stream",
          "text": [
            "\n",
            "=>> Epoch 12 Metrics ===\n",
            "\tTrain Loss: 0.03909 -- Train Accuracy: 0.9879\n",
            "\t Test Loss: 0.02126 --  Test Accuracy: 0.9931\n",
            "\tBest Test Loss: 0.02110 -- Best Test Accuracy: 0.9935 at Epoch 11\n",
            "\n",
            "[*] Starting Training Epoch 13...\n"
          ]
        },
        {
          "metadata": {
            "tags": null
          },
          "name": "stderr",
          "output_type": "stream",
          "text": [
            "100%|██████████| 469/469 [01:12<00:00,  6.43it/s]\n"
          ]
        },
        {
          "metadata": {
            "tags": null
          },
          "name": "stdout",
          "output_type": "stream",
          "text": [
            "[*] Running Epoch 13 Validation...\n"
          ]
        },
        {
          "metadata": {
            "tags": null
          },
          "name": "stderr",
          "output_type": "stream",
          "text": [
            "100%|██████████| 79/79 [00:03<00:00, 22.54it/s]\n"
          ]
        },
        {
          "metadata": {
            "tags": null
          },
          "name": "stdout",
          "output_type": "stream",
          "text": [
            "\n",
            "=>> Epoch 13 Metrics ===\n",
            "\tTrain Loss: 0.03552 -- Train Accuracy: 0.9890\n",
            "\t Test Loss: 0.01909 --  Test Accuracy: 0.9942\n",
            "\tBest Test Loss: 0.01909 -- Best Test Accuracy: 0.9942 at Epoch 13\n",
            "\n",
            "[*] Starting Training Epoch 14...\n"
          ]
        },
        {
          "metadata": {
            "tags": null
          },
          "name": "stderr",
          "output_type": "stream",
          "text": [
            "100%|██████████| 469/469 [01:12<00:00,  6.43it/s]\n"
          ]
        },
        {
          "metadata": {
            "tags": null
          },
          "name": "stdout",
          "output_type": "stream",
          "text": [
            "[*] Running Epoch 14 Validation...\n"
          ]
        },
        {
          "metadata": {
            "tags": null
          },
          "name": "stderr",
          "output_type": "stream",
          "text": [
            "100%|██████████| 79/79 [00:03<00:00, 22.46it/s]\n"
          ]
        },
        {
          "metadata": {
            "tags": null
          },
          "name": "stdout",
          "output_type": "stream",
          "text": [
            "\n",
            "=>> Epoch 14 Metrics ===\n",
            "\tTrain Loss: 0.03291 -- Train Accuracy: 0.9902\n",
            "\t Test Loss: 0.01846 --  Test Accuracy: 0.9941\n",
            "\tBest Test Loss: 0.01909 -- Best Test Accuracy: 0.9942 at Epoch 13\n",
            "\n",
            "[*] Starting Training Epoch 15...\n"
          ]
        },
        {
          "metadata": {
            "tags": null
          },
          "name": "stderr",
          "output_type": "stream",
          "text": [
            "100%|██████████| 469/469 [01:12<00:00,  6.43it/s]\n"
          ]
        },
        {
          "metadata": {
            "tags": null
          },
          "name": "stdout",
          "output_type": "stream",
          "text": [
            "[*] Running Epoch 15 Validation...\n"
          ]
        },
        {
          "metadata": {
            "tags": null
          },
          "name": "stderr",
          "output_type": "stream",
          "text": [
            "100%|██████████| 79/79 [00:03<00:00, 22.47it/s]\n"
          ]
        },
        {
          "metadata": {
            "tags": null
          },
          "name": "stdout",
          "output_type": "stream",
          "text": [
            "\n",
            "=>> Epoch 15 Metrics ===\n",
            "\tTrain Loss: 0.02961 -- Train Accuracy: 0.9908\n",
            "\t Test Loss: 0.01766 --  Test Accuracy: 0.9941\n",
            "\tBest Test Loss: 0.01909 -- Best Test Accuracy: 0.9942 at Epoch 13\n",
            "\n",
            "[*] Starting Training Epoch 16...\n"
          ]
        },
        {
          "metadata": {
            "tags": null
          },
          "name": "stderr",
          "output_type": "stream",
          "text": [
            "100%|██████████| 469/469 [01:12<00:00,  6.43it/s]\n"
          ]
        },
        {
          "metadata": {
            "tags": null
          },
          "name": "stdout",
          "output_type": "stream",
          "text": [
            "[*] Running Epoch 16 Validation...\n"
          ]
        },
        {
          "metadata": {
            "tags": null
          },
          "name": "stderr",
          "output_type": "stream",
          "text": [
            "100%|██████████| 79/79 [00:03<00:00, 22.36it/s]\n"
          ]
        },
        {
          "metadata": {
            "tags": null
          },
          "name": "stdout",
          "output_type": "stream",
          "text": [
            "\n",
            "=>> Epoch 16 Metrics ===\n",
            "\tTrain Loss: 0.02768 -- Train Accuracy: 0.9916\n",
            "\t Test Loss: 0.01864 --  Test Accuracy: 0.9942\n",
            "\tBest Test Loss: 0.01909 -- Best Test Accuracy: 0.9942 at Epoch 13\n",
            "\n",
            "[*] Starting Training Epoch 17...\n"
          ]
        },
        {
          "metadata": {
            "tags": null
          },
          "name": "stderr",
          "output_type": "stream",
          "text": [
            "100%|██████████| 469/469 [01:12<00:00,  6.43it/s]\n"
          ]
        },
        {
          "metadata": {
            "tags": null
          },
          "name": "stdout",
          "output_type": "stream",
          "text": [
            "[*] Running Epoch 17 Validation...\n"
          ]
        },
        {
          "metadata": {
            "tags": null
          },
          "name": "stderr",
          "output_type": "stream",
          "text": [
            "100%|██████████| 79/79 [00:03<00:00, 22.45it/s]\n"
          ]
        },
        {
          "metadata": {
            "tags": null
          },
          "name": "stdout",
          "output_type": "stream",
          "text": [
            "\n",
            "=>> Epoch 17 Metrics ===\n",
            "\tTrain Loss: 0.02501 -- Train Accuracy: 0.9926\n",
            "\t Test Loss: 0.01765 --  Test Accuracy: 0.9945\n",
            "\tBest Test Loss: 0.01765 -- Best Test Accuracy: 0.9945 at Epoch 17\n",
            "\n",
            "[*] Starting Training Epoch 18...\n"
          ]
        },
        {
          "metadata": {
            "tags": null
          },
          "name": "stderr",
          "output_type": "stream",
          "text": [
            "100%|██████████| 469/469 [01:13<00:00,  6.42it/s]\n"
          ]
        },
        {
          "metadata": {
            "tags": null
          },
          "name": "stdout",
          "output_type": "stream",
          "text": [
            "[*] Running Epoch 18 Validation...\n"
          ]
        },
        {
          "metadata": {
            "tags": null
          },
          "name": "stderr",
          "output_type": "stream",
          "text": [
            "100%|██████████| 79/79 [00:03<00:00, 22.47it/s]\n"
          ]
        },
        {
          "metadata": {
            "tags": null
          },
          "name": "stdout",
          "output_type": "stream",
          "text": [
            "\n",
            "=>> Epoch 18 Metrics ===\n",
            "\tTrain Loss: 0.02356 -- Train Accuracy: 0.9927\n",
            "\t Test Loss: 0.01752 --  Test Accuracy: 0.9944\n",
            "\tBest Test Loss: 0.01765 -- Best Test Accuracy: 0.9945 at Epoch 17\n",
            "\n",
            "[*] Starting Training Epoch 19...\n"
          ]
        },
        {
          "metadata": {
            "tags": null
          },
          "name": "stderr",
          "output_type": "stream",
          "text": [
            "100%|██████████| 469/469 [01:13<00:00,  6.42it/s]\n"
          ]
        },
        {
          "metadata": {
            "tags": null
          },
          "name": "stdout",
          "output_type": "stream",
          "text": [
            "[*] Running Epoch 19 Validation...\n"
          ]
        },
        {
          "metadata": {
            "tags": null
          },
          "name": "stderr",
          "output_type": "stream",
          "text": [
            "100%|██████████| 79/79 [00:03<00:00, 22.47it/s]\n"
          ]
        },
        {
          "metadata": {
            "tags": null
          },
          "name": "stdout",
          "output_type": "stream",
          "text": [
            "\n",
            "=>> Epoch 19 Metrics ===\n",
            "\tTrain Loss: 0.02310 -- Train Accuracy: 0.9926\n",
            "\t Test Loss: 0.01787 --  Test Accuracy: 0.9940\n",
            "\tBest Test Loss: 0.01765 -- Best Test Accuracy: 0.9945 at Epoch 17\n",
            "\n",
            "[*] Starting Training Epoch 20...\n"
          ]
        },
        {
          "metadata": {
            "tags": null
          },
          "name": "stderr",
          "output_type": "stream",
          "text": [
            "100%|██████████| 469/469 [01:12<00:00,  6.43it/s]\n"
          ]
        },
        {
          "metadata": {
            "tags": null
          },
          "name": "stdout",
          "output_type": "stream",
          "text": [
            "[*] Running Epoch 20 Validation...\n"
          ]
        },
        {
          "metadata": {
            "tags": null
          },
          "name": "stderr",
          "output_type": "stream",
          "text": [
            "100%|██████████| 79/79 [00:03<00:00, 22.50it/s]\n"
          ]
        },
        {
          "metadata": {
            "tags": null
          },
          "name": "stdout",
          "output_type": "stream",
          "text": [
            "\n",
            "=>> Epoch 20 Metrics ===\n",
            "\tTrain Loss: 0.02346 -- Train Accuracy: 0.9929\n",
            "\t Test Loss: 0.01779 --  Test Accuracy: 0.9944\n",
            "\tBest Test Loss: 0.01765 -- Best Test Accuracy: 0.9945 at Epoch 17\n",
            "\n"
          ]
        }
      ]
    },
    {
      "cell_type": "markdown",
      "source": [
        "## Linear layer instead S4Layer"
      ],
      "metadata": {
        "id": "LfDOadddbHsy"
      }
    },
    {
      "cell_type": "code",
      "source": [
        "class SequenceBlockLinear(nn.Module):\n",
        "    layer_cls: nn.Module\n",
        "    layer: dict  # Hyperparameters of inner layer\n",
        "    dropout: float\n",
        "    d_model: int\n",
        "    prenorm: bool = True\n",
        "    glu: bool = True\n",
        "    training: bool = True\n",
        "    decode: bool = False\n",
        "\n",
        "    def setup(self):\n",
        "        self.seq = nn.Dense(self.d_model)\n",
        "        self.norm = nn.LayerNorm()\n",
        "        self.out = nn.Dense(self.d_model)\n",
        "        if self.glu:\n",
        "            self.out2 = nn.Dense(self.d_model)\n",
        "        self.drop = nn.Dropout(\n",
        "            self.dropout,\n",
        "            broadcast_dims=[0],\n",
        "            deterministic=not self.training,\n",
        "        )\n",
        "\n",
        "    def __call__(self, x):\n",
        "        # print('\\n\\nseq block. entry', x.shape)\n",
        "        skip = x\n",
        "        if self.prenorm:\n",
        "            x = self.norm(x)\n",
        "            # print('seq block. norm', x.shape)\n",
        "        # print(x.shape)\n",
        "        x = self.seq(x)\n",
        "        # print(x.shape, '\\n\\n')\n",
        "        # print('seq block. seq', x.shape)\n",
        "        x = self.drop(nn.gelu(x))\n",
        "        # print('seq block. drop + gelu', x.shape)\n",
        "        if self.glu:\n",
        "            # print('seq block. glu', x.shape)\n",
        "            x = self.out(x) * jax.nn.sigmoid(self.out2(x))\n",
        "        else:\n",
        "            x = self.out(x)\n",
        "        x = skip + self.drop(x)\n",
        "        if not self.prenorm:\n",
        "            x = self.norm(x)\n",
        "        # print('seq block. final\\n\\n', x.shape)\n",
        "        return x\n",
        "\n",
        "class Embedding(nn.Embed):\n",
        "    num_embeddings: int\n",
        "    features: int\n",
        "\n",
        "    @nn.compact\n",
        "    def __call__(self, x):\n",
        "        y = nn.Embed(self.num_embeddings, self.features)(x[..., 0])\n",
        "        return np.where(x > 0, y, 0.0)\n",
        "        \n",
        "class StackedModelLinear(nn.Module):\n",
        "    layer_cls: nn.Module\n",
        "    layer: dict  # Extra arguments to pass into layer constructor\n",
        "    d_output: int\n",
        "    d_model: int\n",
        "    n_layers: int\n",
        "    prenorm: bool = True\n",
        "    dropout: float = 0.0\n",
        "    embedding: bool = False  # Use nn.Embed instead of nn.Dense encoder\n",
        "    classification: bool = False\n",
        "    training: bool = True\n",
        "    decode: bool = False  # Probably should be moved into layer_args\n",
        "\n",
        "    def setup(self):\n",
        "        if self.embedding:\n",
        "            self.encoder = Embedding(self.d_output, self.d_model)\n",
        "        else:\n",
        "            self.encoder = nn.Dense(self.d_model)\n",
        "        self.decoder = nn.Dense(self.d_output)\n",
        "        self.layers = [\n",
        "            SequenceBlockLinear(\n",
        "                layer_cls=self.layer_cls,\n",
        "                layer=self.layer,\n",
        "                prenorm=self.prenorm,\n",
        "                d_model=self.d_model,\n",
        "                dropout=self.dropout,\n",
        "                training=self.training,\n",
        "                decode=self.decode,\n",
        "            )\n",
        "            for _ in range(self.n_layers)\n",
        "        ]\n",
        "\n",
        "    def __call__(self, x):\n",
        "        if not self.classification:\n",
        "            if not self.embedding:\n",
        "                x = x / 255.0  # Normalize\n",
        "            if not self.decode:\n",
        "                x = np.pad(x[:-1], [(1, 0), (0, 0)])\n",
        "        # print('entry', x.shape)\n",
        "        x = self.encoder(x)\n",
        "        # print('enc', x.shape)\n",
        "        for layer in self.layers:\n",
        "            x = layer(x)\n",
        "            # print('lay', x.shape)\n",
        "        if self.classification:\n",
        "            x = np.mean(x, axis=0)\n",
        "            # print('mean', x.shape)\n",
        "        x = self.decoder(x)\n",
        "        # print('dec', x.shape)\n",
        "        x = nn.log_softmax(x, axis=-1)\n",
        "        # print('ret', x.shape)\n",
        "        return x\n",
        "\n",
        "BatchStackedModelLinear = nn.vmap(\n",
        "    StackedModelLinear,\n",
        "    in_axes=0,\n",
        "    out_axes=0,\n",
        "    variable_axes={\"params\": None, \"dropout\": None, \"cache\": 0, \"prime\": None},\n",
        "    split_rngs={\"params\": False, \"dropout\": True},\n",
        ")\n",
        "\n",
        "def cloneLayer(layer):\n",
        "    return nn.vmap(\n",
        "        layer,\n",
        "        in_axes=1,\n",
        "        out_axes=1,\n",
        "        variable_axes={\"params\": 1, \"cache\": 1, \"prime\": 1},\n",
        "        split_rngs={\"params\": True},\n",
        "    )\n",
        "\n",
        "Dense = cloneLayer(nn.Dense)"
      ],
      "metadata": {
        "id": "6hn13s_UGChC"
      },
      "execution_count": null,
      "outputs": []
    },
    {
      "cell_type": "markdown",
      "source": [
        "30% acc - https://wandb.ai/messlav/s4/runs/118mtrlg"
      ],
      "metadata": {
        "id": "EDLvmpLzGB7w"
      }
    },
    {
      "cell_type": "markdown",
      "source": [
        "## Convolutional layer instead S4Layer"
      ],
      "metadata": {
        "id": "5RMueVhTXz4p"
      }
    },
    {
      "cell_type": "code",
      "source": [
        "class SequenceBlockConv(nn.Module):\n",
        "    layer_cls: nn.Module\n",
        "    layer: dict  # Hyperparameters of inner layer\n",
        "    dropout: float\n",
        "    d_model: int\n",
        "    prenorm: bool = True\n",
        "    glu: bool = True\n",
        "    training: bool = True\n",
        "    decode: bool = False\n",
        "\n",
        "    def setup(self):\n",
        "        # self.seq = self.layer_cls(**self.layer, decode=self.decode)\n",
        "        # self.seq = nn.Dense(self.d_model)\n",
        "        self.seq = nn.Conv(self.d_model, (2,), padding='SAME')\n",
        "        # self.seq = self.layer_cls(**self.layer, decode=self.decode)\n",
        "        self.norm = nn.LayerNorm()\n",
        "        self.out = nn.Dense(self.d_model)\n",
        "        if self.glu:\n",
        "            self.out2 = nn.Dense(self.d_model)\n",
        "        self.drop = nn.Dropout(\n",
        "            self.dropout,\n",
        "            broadcast_dims=[0],\n",
        "            deterministic=not self.training,\n",
        "        )\n",
        "\n",
        "    def __call__(self, x):\n",
        "        # print('\\n\\nseq block. entry', x.shape)\n",
        "        skip = x\n",
        "        if self.prenorm:\n",
        "            x = self.norm(x)\n",
        "            # print('seq block. norm', x.shape)\n",
        "        # print(x.shape)\n",
        "        x = self.seq(x)\n",
        "        # print(x.shape, '\\n\\n')\n",
        "        # print('seq block. seq', x.shape)\n",
        "        x = self.drop(nn.gelu(x))\n",
        "        # print('seq block. drop + gelu', x.shape)\n",
        "        if self.glu:\n",
        "            # print('seq block. glu', x.shape)\n",
        "            x = self.out(x) * jax.nn.sigmoid(self.out2(x))\n",
        "        else:\n",
        "            x = self.out(x)\n",
        "        x = skip + self.drop(x)\n",
        "        if not self.prenorm:\n",
        "            x = self.norm(x)\n",
        "        # print('seq block. final\\n\\n', x.shape)\n",
        "        return x\n",
        "\n",
        "class Embedding(nn.Embed):\n",
        "    num_embeddings: int\n",
        "    features: int\n",
        "\n",
        "    @nn.compact\n",
        "    def __call__(self, x):\n",
        "        y = nn.Embed(self.num_embeddings, self.features)(x[..., 0])\n",
        "        return np.where(x > 0, y, 0.0)\n",
        "        \n",
        "class StackedModelConv(nn.Module):\n",
        "    layer_cls: nn.Module\n",
        "    layer: dict  # Extra arguments to pass into layer constructor\n",
        "    d_output: int\n",
        "    d_model: int\n",
        "    n_layers: int\n",
        "    prenorm: bool = True\n",
        "    dropout: float = 0.0\n",
        "    embedding: bool = False  # Use nn.Embed instead of nn.Dense encoder\n",
        "    classification: bool = False\n",
        "    training: bool = True\n",
        "    decode: bool = False  # Probably should be moved into layer_args\n",
        "\n",
        "    def setup(self):\n",
        "        if self.embedding:\n",
        "            self.encoder = Embedding(self.d_output, self.d_model)\n",
        "        else:\n",
        "            self.encoder = nn.Dense(self.d_model)\n",
        "        self.decoder = nn.Dense(self.d_output)\n",
        "        self.layers = [\n",
        "            SequenceBlockConv(\n",
        "                layer_cls=self.layer_cls,\n",
        "                layer=self.layer,\n",
        "                prenorm=self.prenorm,\n",
        "                d_model=self.d_model,\n",
        "                dropout=self.dropout,\n",
        "                training=self.training,\n",
        "                decode=self.decode,\n",
        "            )\n",
        "            for _ in range(self.n_layers)\n",
        "        ]\n",
        "\n",
        "    def __call__(self, x):\n",
        "        if not self.classification:\n",
        "            if not self.embedding:\n",
        "                x = x / 255.0  # Normalize\n",
        "            if not self.decode:\n",
        "                x = np.pad(x[:-1], [(1, 0), (0, 0)])\n",
        "        # print('entry', x.shape)\n",
        "        x = self.encoder(x)\n",
        "        # print('enc', x.shape)\n",
        "        for layer in self.layers:\n",
        "            x = layer(x)\n",
        "            # print('lay', x.shape)\n",
        "        if self.classification:\n",
        "            x = np.mean(x, axis=0)\n",
        "            # print('mean', x.shape)\n",
        "        x = self.decoder(x)\n",
        "        # print('dec', x.shape)\n",
        "        x = nn.log_softmax(x, axis=-1)\n",
        "        # print('ret', x.shape)\n",
        "        return x\n",
        "\n",
        "BatchStackedModelConv = nn.vmap(\n",
        "    StackedModelConv,\n",
        "    in_axes=0,\n",
        "    out_axes=0,\n",
        "    variable_axes={\"params\": None, \"dropout\": None, \"cache\": 0, \"prime\": None},\n",
        "    split_rngs={\"params\": False, \"dropout\": True},\n",
        ")\n",
        "\n",
        "def cloneLayer(layer):\n",
        "    return nn.vmap(\n",
        "        layer,\n",
        "        in_axes=1,\n",
        "        out_axes=1,\n",
        "        variable_axes={\"params\": 1, \"cache\": 1, \"prime\": 1},\n",
        "        split_rngs={\"params\": True},\n",
        "    )\n",
        "\n",
        "Dense = cloneLayer(nn.Dense)"
      ],
      "metadata": {
        "id": "ytmuL49YjUpu"
      },
      "execution_count": null,
      "outputs": []
    },
    {
      "cell_type": "code",
      "source": [
        "wandb = None\n",
        "# import wandb\n",
        "seed = 3407\n",
        "dataset = 'mnist-classification'\n",
        "layer = 's4'\n",
        "model = DictConfig({'d_model': 128, 'n_layers': 4, 'dropout': 0.25, 'prenorm': True, 'embedding': False, 'layer': {}})\n",
        "train = DictConfig({'epochs': 40, 'bsz': 128, 'lr': 5e-3, 'lr_schedule': True, 'weight_decay': 0.01,\n",
        "                    'checkpoint': False, 'suffix': None, 'sample': None})\n",
        "\n",
        "if wandb is not None:\n",
        "    # wandb.login(key='???')\n",
        "    wandb.init(\n",
        "        **{'mode': 'online', 'project': 's4', 'entity': None},\n",
        "        config=dict(model, **train)\n",
        "    )\n",
        "\n",
        "# Set randomness...\n",
        "print(\"[*] Setting Randomness...\")\n",
        "torch.random.manual_seed(seed)  # For dataloader order\n",
        "key = jax.random.PRNGKey(seed)\n",
        "key, rng, train_rng = jax.random.split(key, num=3)\n",
        "\n",
        "# Check if classification dataset\n",
        "classification = \"classification\" in dataset\n",
        "\n",
        "# Create dataset\n",
        "create_dataset_fn = Datasets[dataset]\n",
        "trainloader, testloader, n_classes, l_max, d_input = create_dataset_fn(\n",
        "    bsz=train.bsz\n",
        ")\n",
        "\n",
        "# Get model class and arguments\n",
        "# layer_cls = S4Layer\n",
        "layer_cls = Dense\n",
        "# model.layer.l_max = l_max\n",
        "\n",
        "# Extract custom hyperparameters from model class\n",
        "lr_layer = getattr(layer_cls, \"lr\", None)\n",
        "\n",
        "print(f\"[*] Starting `{layer}` Training on `{dataset}` =>> Initializing...\")\n",
        "\n",
        "model_cls = partial(\n",
        "    BatchStackedModelConv,\n",
        "    layer_cls=layer_cls,\n",
        "    d_output=n_classes,\n",
        "    classification=classification,\n",
        "    **model,\n",
        ")\n",
        "\n",
        "state = create_train_state(\n",
        "    rng,\n",
        "    model_cls,\n",
        "    trainloader,\n",
        "    lr=train.lr,\n",
        "    lr_layer=lr_layer,\n",
        "    lr_schedule=train.lr_schedule,\n",
        "    weight_decay=train.weight_decay,\n",
        "    total_steps=len(trainloader) * train.epochs,\n",
        ")\n",
        "\n",
        "# Loop over epochs\n",
        "best_loss, best_acc, best_epoch = 10000, 0, 0\n",
        "for epoch in range(train.epochs):\n",
        "    print(f\"[*] Starting Training Epoch {epoch + 1}...\")\n",
        "    state, train_loss, train_acc = train_epoch(\n",
        "        state,\n",
        "        train_rng,\n",
        "        model_cls,\n",
        "        trainloader,\n",
        "        classification=classification,\n",
        "    )\n",
        "\n",
        "    print(f\"[*] Running Epoch {epoch + 1} Validation...\")\n",
        "    test_loss, test_acc = validate(\n",
        "        state.params, model_cls, testloader, classification=classification\n",
        "    )\n",
        "\n",
        "    print(f\"\\n=>> Epoch {epoch + 1} Metrics ===\")\n",
        "    print(\n",
        "        f\"\\tTrain Loss: {train_loss:.5f} -- Train Accuracy:\"\n",
        "        f\" {train_acc:.4f}\\n\\t Test Loss: {test_loss:.5f} --  Test\"\n",
        "        f\" Accuracy: {test_acc:.4f}\"\n",
        "    )\n",
        "\n",
        "    if train.checkpoint:\n",
        "        suf = f\"-{train.suffix}\" if train.suffix is not None else \"\"\n",
        "        run_id = f\"checkpoints/{dataset}/{layer}-d_model={model.d_model}-lr={train.lr}-bsz={train.bsz}{suf}\"\n",
        "        ckpt_path = checkpoints.save_checkpoint(\n",
        "            run_id,\n",
        "            state,\n",
        "            epoch,\n",
        "            keep=train.epochs,\n",
        "        )\n",
        "\n",
        "    if (classification and test_acc > best_acc) or (not classification and test_loss < best_loss):\n",
        "        best_loss, best_acc, best_epoch = test_loss, test_acc, epoch\n",
        "        if train.checkpoint:\n",
        "            shutil.copy(ckpt_path, f\"{run_id}/best_{epoch}\")\n",
        "            if os.path.exists(f\"{run_id}/best_{best_epoch}\"):\n",
        "                os.remove(f\"{run_id}/best_{best_epoch}\")\n",
        "\n",
        "    # Print best accuracy & loss so far...\n",
        "    print(\n",
        "        f\"\\tBest Test Loss: {best_loss:.5f} -- Best Test Accuracy:\"\n",
        "        f\" {best_acc:.4f} at Epoch {best_epoch + 1}\\n\"\n",
        "    )\n",
        "\n",
        "    if wandb is not None:\n",
        "        wandb.log(\n",
        "            {\n",
        "                \"train/loss\": train_loss,\n",
        "                \"train/accuracy\": train_acc,\n",
        "                \"test/loss\": test_loss,\n",
        "                \"test/accuracy\": test_acc,\n",
        "            },\n",
        "            step=epoch,\n",
        "        )\n",
        "        wandb.run.summary[\"Best Test Loss\"] = best_loss\n",
        "        wandb.run.summary[\"Best Test Accuracy\"] = best_acc\n",
        "        wandb.run.summary[\"Best Epoch\"] = best_epoch"
      ],
      "metadata": {
        "colab": {
          "base_uri": "https://localhost:8080/"
        },
        "id": "DaE1Mp7tajtf",
        "outputId": "b8c515f0-b60a-4b56-d927-47eb5cfa61ca"
      },
      "execution_count": null,
      "outputs": [
        {
          "output_type": "stream",
          "name": "stdout",
          "text": [
            "[*] Setting Randomness...\n",
            "[*] Generating MNIST Classification Dataset...\n",
            "[*] Starting `s4` Training on `mnist-classification` =>> Initializing...\n",
            "[*] Trainable Parameters: 266250\n",
            "[*] Total training steps: 18760\n",
            "[*] Starting Training Epoch 1...\n"
          ]
        },
        {
          "output_type": "stream",
          "name": "stderr",
          "text": [
            "100%|██████████| 469/469 [00:55<00:00,  8.38it/s]\n"
          ]
        },
        {
          "output_type": "stream",
          "name": "stdout",
          "text": [
            "[*] Running Epoch 1 Validation...\n"
          ]
        },
        {
          "output_type": "stream",
          "name": "stderr",
          "text": [
            "100%|██████████| 79/79 [00:04<00:00, 17.53it/s]\n"
          ]
        },
        {
          "output_type": "stream",
          "name": "stdout",
          "text": [
            "\n",
            "=>> Epoch 1 Metrics ===\n",
            "\tTrain Loss: 2.08159 -- Train Accuracy: 0.2294\n",
            "\t Test Loss: 1.81413 --  Test Accuracy: 0.3239\n",
            "\tBest Test Loss: 1.81413 -- Best Test Accuracy: 0.3239 at Epoch 1\n",
            "\n",
            "[*] Starting Training Epoch 2...\n"
          ]
        },
        {
          "output_type": "stream",
          "name": "stderr",
          "text": [
            "100%|██████████| 469/469 [00:44<00:00, 10.56it/s]\n"
          ]
        },
        {
          "output_type": "stream",
          "name": "stdout",
          "text": [
            "[*] Running Epoch 2 Validation...\n"
          ]
        },
        {
          "output_type": "stream",
          "name": "stderr",
          "text": [
            "100%|██████████| 79/79 [00:01<00:00, 48.26it/s]\n"
          ]
        },
        {
          "output_type": "stream",
          "name": "stdout",
          "text": [
            "\n",
            "=>> Epoch 2 Metrics ===\n",
            "\tTrain Loss: 1.75182 -- Train Accuracy: 0.3396\n",
            "\t Test Loss: 1.63616 --  Test Accuracy: 0.3787\n",
            "\tBest Test Loss: 1.63616 -- Best Test Accuracy: 0.3787 at Epoch 2\n",
            "\n",
            "[*] Starting Training Epoch 3...\n"
          ]
        },
        {
          "output_type": "stream",
          "name": "stderr",
          "text": [
            "100%|██████████| 469/469 [00:44<00:00, 10.49it/s]\n"
          ]
        },
        {
          "output_type": "stream",
          "name": "stdout",
          "text": [
            "[*] Running Epoch 3 Validation...\n"
          ]
        },
        {
          "output_type": "stream",
          "name": "stderr",
          "text": [
            "100%|██████████| 79/79 [00:01<00:00, 48.50it/s]\n"
          ]
        },
        {
          "output_type": "stream",
          "name": "stdout",
          "text": [
            "\n",
            "=>> Epoch 3 Metrics ===\n",
            "\tTrain Loss: 1.60085 -- Train Accuracy: 0.4092\n",
            "\t Test Loss: 1.43814 --  Test Accuracy: 0.4800\n",
            "\tBest Test Loss: 1.43814 -- Best Test Accuracy: 0.4800 at Epoch 3\n",
            "\n",
            "[*] Starting Training Epoch 4...\n"
          ]
        },
        {
          "output_type": "stream",
          "name": "stderr",
          "text": [
            "100%|██████████| 469/469 [00:44<00:00, 10.58it/s]\n"
          ]
        },
        {
          "output_type": "stream",
          "name": "stdout",
          "text": [
            "[*] Running Epoch 4 Validation...\n"
          ]
        },
        {
          "output_type": "stream",
          "name": "stderr",
          "text": [
            "100%|██████████| 79/79 [00:01<00:00, 48.27it/s]\n"
          ]
        },
        {
          "output_type": "stream",
          "name": "stdout",
          "text": [
            "\n",
            "=>> Epoch 4 Metrics ===\n",
            "\tTrain Loss: 1.41506 -- Train Accuracy: 0.4919\n",
            "\t Test Loss: 1.24168 --  Test Accuracy: 0.5563\n",
            "\tBest Test Loss: 1.24168 -- Best Test Accuracy: 0.5563 at Epoch 4\n",
            "\n",
            "[*] Starting Training Epoch 5...\n"
          ]
        },
        {
          "output_type": "stream",
          "name": "stderr",
          "text": [
            "100%|██████████| 469/469 [00:44<00:00, 10.56it/s]\n"
          ]
        },
        {
          "output_type": "stream",
          "name": "stdout",
          "text": [
            "[*] Running Epoch 5 Validation...\n"
          ]
        },
        {
          "output_type": "stream",
          "name": "stderr",
          "text": [
            "100%|██████████| 79/79 [00:01<00:00, 48.39it/s]\n"
          ]
        },
        {
          "output_type": "stream",
          "name": "stdout",
          "text": [
            "\n",
            "=>> Epoch 5 Metrics ===\n",
            "\tTrain Loss: 1.30184 -- Train Accuracy: 0.5408\n",
            "\t Test Loss: 1.24168 --  Test Accuracy: 0.5758\n",
            "\tBest Test Loss: 1.24168 -- Best Test Accuracy: 0.5758 at Epoch 5\n",
            "\n",
            "[*] Starting Training Epoch 6...\n"
          ]
        },
        {
          "output_type": "stream",
          "name": "stderr",
          "text": [
            "100%|██████████| 469/469 [00:44<00:00, 10.56it/s]\n"
          ]
        },
        {
          "output_type": "stream",
          "name": "stdout",
          "text": [
            "[*] Running Epoch 6 Validation...\n"
          ]
        },
        {
          "output_type": "stream",
          "name": "stderr",
          "text": [
            "100%|██████████| 79/79 [00:01<00:00, 48.41it/s]\n"
          ]
        },
        {
          "output_type": "stream",
          "name": "stdout",
          "text": [
            "\n",
            "=>> Epoch 6 Metrics ===\n",
            "\tTrain Loss: 1.26984 -- Train Accuracy: 0.5596\n",
            "\t Test Loss: 1.19824 --  Test Accuracy: 0.5767\n",
            "\tBest Test Loss: 1.19824 -- Best Test Accuracy: 0.5767 at Epoch 6\n",
            "\n",
            "[*] Starting Training Epoch 7...\n"
          ]
        },
        {
          "output_type": "stream",
          "name": "stderr",
          "text": [
            "100%|██████████| 469/469 [00:44<00:00, 10.62it/s]\n"
          ]
        },
        {
          "output_type": "stream",
          "name": "stdout",
          "text": [
            "[*] Running Epoch 7 Validation...\n"
          ]
        },
        {
          "output_type": "stream",
          "name": "stderr",
          "text": [
            "100%|██████████| 79/79 [00:01<00:00, 48.48it/s]\n"
          ]
        },
        {
          "output_type": "stream",
          "name": "stdout",
          "text": [
            "\n",
            "=>> Epoch 7 Metrics ===\n",
            "\tTrain Loss: 1.35529 -- Train Accuracy: 0.5343\n",
            "\t Test Loss: 1.20119 --  Test Accuracy: 0.5911\n",
            "\tBest Test Loss: 1.20119 -- Best Test Accuracy: 0.5911 at Epoch 7\n",
            "\n",
            "[*] Starting Training Epoch 8...\n"
          ]
        },
        {
          "output_type": "stream",
          "name": "stderr",
          "text": [
            "100%|██████████| 469/469 [00:44<00:00, 10.63it/s]\n"
          ]
        },
        {
          "output_type": "stream",
          "name": "stdout",
          "text": [
            "[*] Running Epoch 8 Validation...\n"
          ]
        },
        {
          "output_type": "stream",
          "name": "stderr",
          "text": [
            "100%|██████████| 79/79 [00:01<00:00, 48.53it/s]\n"
          ]
        },
        {
          "output_type": "stream",
          "name": "stdout",
          "text": [
            "\n",
            "=>> Epoch 8 Metrics ===\n",
            "\tTrain Loss: 1.22772 -- Train Accuracy: 0.5742\n",
            "\t Test Loss: 1.14990 --  Test Accuracy: 0.6207\n",
            "\tBest Test Loss: 1.14990 -- Best Test Accuracy: 0.6207 at Epoch 8\n",
            "\n",
            "[*] Starting Training Epoch 9...\n"
          ]
        },
        {
          "output_type": "stream",
          "name": "stderr",
          "text": [
            "100%|██████████| 469/469 [00:44<00:00, 10.63it/s]\n"
          ]
        },
        {
          "output_type": "stream",
          "name": "stdout",
          "text": [
            "[*] Running Epoch 9 Validation...\n"
          ]
        },
        {
          "output_type": "stream",
          "name": "stderr",
          "text": [
            "100%|██████████| 79/79 [00:02<00:00, 35.91it/s]\n"
          ]
        },
        {
          "output_type": "stream",
          "name": "stdout",
          "text": [
            "\n",
            "=>> Epoch 9 Metrics ===\n",
            "\tTrain Loss: 1.31560 -- Train Accuracy: 0.5657\n",
            "\t Test Loss: 1.21325 --  Test Accuracy: 0.5912\n",
            "\tBest Test Loss: 1.14990 -- Best Test Accuracy: 0.6207 at Epoch 8\n",
            "\n",
            "[*] Starting Training Epoch 10...\n"
          ]
        },
        {
          "output_type": "stream",
          "name": "stderr",
          "text": [
            "100%|██████████| 469/469 [00:44<00:00, 10.65it/s]\n"
          ]
        },
        {
          "output_type": "stream",
          "name": "stdout",
          "text": [
            "[*] Running Epoch 10 Validation...\n"
          ]
        },
        {
          "output_type": "stream",
          "name": "stderr",
          "text": [
            "100%|██████████| 79/79 [00:01<00:00, 48.11it/s]\n"
          ]
        },
        {
          "output_type": "stream",
          "name": "stdout",
          "text": [
            "\n",
            "=>> Epoch 10 Metrics ===\n",
            "\tTrain Loss: 1.22296 -- Train Accuracy: 0.5743\n",
            "\t Test Loss: 1.11758 --  Test Accuracy: 0.6172\n",
            "\tBest Test Loss: 1.14990 -- Best Test Accuracy: 0.6207 at Epoch 8\n",
            "\n",
            "[*] Starting Training Epoch 11...\n"
          ]
        },
        {
          "output_type": "stream",
          "name": "stderr",
          "text": [
            "100%|██████████| 469/469 [00:44<00:00, 10.65it/s]\n"
          ]
        },
        {
          "output_type": "stream",
          "name": "stdout",
          "text": [
            "[*] Running Epoch 11 Validation...\n"
          ]
        },
        {
          "output_type": "stream",
          "name": "stderr",
          "text": [
            "100%|██████████| 79/79 [00:01<00:00, 48.70it/s]\n"
          ]
        },
        {
          "output_type": "stream",
          "name": "stdout",
          "text": [
            "\n",
            "=>> Epoch 11 Metrics ===\n",
            "\tTrain Loss: 1.19319 -- Train Accuracy: 0.5875\n",
            "\t Test Loss: 1.10875 --  Test Accuracy: 0.6258\n",
            "\tBest Test Loss: 1.10875 -- Best Test Accuracy: 0.6258 at Epoch 11\n",
            "\n",
            "[*] Starting Training Epoch 12...\n"
          ]
        },
        {
          "output_type": "stream",
          "name": "stderr",
          "text": [
            "100%|██████████| 469/469 [00:44<00:00, 10.63it/s]\n"
          ]
        },
        {
          "output_type": "stream",
          "name": "stdout",
          "text": [
            "[*] Running Epoch 12 Validation...\n"
          ]
        },
        {
          "output_type": "stream",
          "name": "stderr",
          "text": [
            "100%|██████████| 79/79 [00:02<00:00, 28.74it/s]\n"
          ]
        },
        {
          "output_type": "stream",
          "name": "stdout",
          "text": [
            "\n",
            "=>> Epoch 12 Metrics ===\n",
            "\tTrain Loss: 1.18128 -- Train Accuracy: 0.5919\n",
            "\t Test Loss: 1.11917 --  Test Accuracy: 0.6185\n",
            "\tBest Test Loss: 1.10875 -- Best Test Accuracy: 0.6258 at Epoch 11\n",
            "\n",
            "[*] Starting Training Epoch 13...\n"
          ]
        },
        {
          "output_type": "stream",
          "name": "stderr",
          "text": [
            "100%|██████████| 469/469 [00:44<00:00, 10.62it/s]\n"
          ]
        },
        {
          "output_type": "stream",
          "name": "stdout",
          "text": [
            "[*] Running Epoch 13 Validation...\n"
          ]
        },
        {
          "output_type": "stream",
          "name": "stderr",
          "text": [
            "100%|██████████| 79/79 [00:01<00:00, 48.48it/s]\n"
          ]
        },
        {
          "output_type": "stream",
          "name": "stdout",
          "text": [
            "\n",
            "=>> Epoch 13 Metrics ===\n",
            "\tTrain Loss: 1.16011 -- Train Accuracy: 0.6034\n",
            "\t Test Loss: 1.08522 --  Test Accuracy: 0.6379\n",
            "\tBest Test Loss: 1.08522 -- Best Test Accuracy: 0.6379 at Epoch 13\n",
            "\n",
            "[*] Starting Training Epoch 14...\n"
          ]
        },
        {
          "output_type": "stream",
          "name": "stderr",
          "text": [
            "100%|██████████| 469/469 [00:44<00:00, 10.61it/s]\n"
          ]
        },
        {
          "output_type": "stream",
          "name": "stdout",
          "text": [
            "[*] Running Epoch 14 Validation...\n"
          ]
        },
        {
          "output_type": "stream",
          "name": "stderr",
          "text": [
            "100%|██████████| 79/79 [00:01<00:00, 48.32it/s]\n"
          ]
        },
        {
          "output_type": "stream",
          "name": "stdout",
          "text": [
            "\n",
            "=>> Epoch 14 Metrics ===\n",
            "\tTrain Loss: 1.12422 -- Train Accuracy: 0.6180\n",
            "\t Test Loss: 1.02793 --  Test Accuracy: 0.6587\n",
            "\tBest Test Loss: 1.02793 -- Best Test Accuracy: 0.6587 at Epoch 14\n",
            "\n",
            "[*] Starting Training Epoch 15...\n"
          ]
        },
        {
          "output_type": "stream",
          "name": "stderr",
          "text": [
            "100%|██████████| 469/469 [00:44<00:00, 10.62it/s]\n"
          ]
        },
        {
          "output_type": "stream",
          "name": "stdout",
          "text": [
            "[*] Running Epoch 15 Validation...\n"
          ]
        },
        {
          "output_type": "stream",
          "name": "stderr",
          "text": [
            "100%|██████████| 79/79 [00:01<00:00, 48.50it/s]\n"
          ]
        },
        {
          "output_type": "stream",
          "name": "stdout",
          "text": [
            "\n",
            "=>> Epoch 15 Metrics ===\n",
            "\tTrain Loss: 1.11931 -- Train Accuracy: 0.6200\n",
            "\t Test Loss: 1.06467 --  Test Accuracy: 0.6552\n",
            "\tBest Test Loss: 1.02793 -- Best Test Accuracy: 0.6587 at Epoch 14\n",
            "\n",
            "[*] Starting Training Epoch 16...\n"
          ]
        },
        {
          "output_type": "stream",
          "name": "stderr",
          "text": [
            "100%|██████████| 469/469 [00:44<00:00, 10.63it/s]\n"
          ]
        },
        {
          "output_type": "stream",
          "name": "stdout",
          "text": [
            "[*] Running Epoch 16 Validation...\n"
          ]
        },
        {
          "output_type": "stream",
          "name": "stderr",
          "text": [
            "100%|██████████| 79/79 [00:01<00:00, 48.60it/s]\n"
          ]
        },
        {
          "output_type": "stream",
          "name": "stdout",
          "text": [
            "\n",
            "=>> Epoch 16 Metrics ===\n",
            "\tTrain Loss: 1.11933 -- Train Accuracy: 0.6210\n",
            "\t Test Loss: 1.03021 --  Test Accuracy: 0.6561\n",
            "\tBest Test Loss: 1.02793 -- Best Test Accuracy: 0.6587 at Epoch 14\n",
            "\n",
            "[*] Starting Training Epoch 17...\n"
          ]
        },
        {
          "output_type": "stream",
          "name": "stderr",
          "text": [
            "100%|██████████| 469/469 [00:44<00:00, 10.62it/s]\n"
          ]
        },
        {
          "output_type": "stream",
          "name": "stdout",
          "text": [
            "[*] Running Epoch 17 Validation...\n"
          ]
        },
        {
          "output_type": "stream",
          "name": "stderr",
          "text": [
            "100%|██████████| 79/79 [00:01<00:00, 48.42it/s]\n"
          ]
        },
        {
          "output_type": "stream",
          "name": "stdout",
          "text": [
            "\n",
            "=>> Epoch 17 Metrics ===\n",
            "\tTrain Loss: 1.08474 -- Train Accuracy: 0.6331\n",
            "\t Test Loss: 1.00919 --  Test Accuracy: 0.6715\n",
            "\tBest Test Loss: 1.00919 -- Best Test Accuracy: 0.6715 at Epoch 17\n",
            "\n",
            "[*] Starting Training Epoch 18...\n"
          ]
        },
        {
          "output_type": "stream",
          "name": "stderr",
          "text": [
            "100%|██████████| 469/469 [00:44<00:00, 10.62it/s]\n"
          ]
        },
        {
          "output_type": "stream",
          "name": "stdout",
          "text": [
            "[*] Running Epoch 18 Validation...\n"
          ]
        },
        {
          "output_type": "stream",
          "name": "stderr",
          "text": [
            "100%|██████████| 79/79 [00:01<00:00, 48.66it/s]\n"
          ]
        },
        {
          "output_type": "stream",
          "name": "stdout",
          "text": [
            "\n",
            "=>> Epoch 18 Metrics ===\n",
            "\tTrain Loss: 1.07570 -- Train Accuracy: 0.6348\n",
            "\t Test Loss: 0.99938 --  Test Accuracy: 0.6781\n",
            "\tBest Test Loss: 0.99938 -- Best Test Accuracy: 0.6781 at Epoch 18\n",
            "\n",
            "[*] Starting Training Epoch 19...\n"
          ]
        },
        {
          "output_type": "stream",
          "name": "stderr",
          "text": [
            "100%|██████████| 469/469 [00:44<00:00, 10.61it/s]\n"
          ]
        },
        {
          "output_type": "stream",
          "name": "stdout",
          "text": [
            "[*] Running Epoch 19 Validation...\n"
          ]
        },
        {
          "output_type": "stream",
          "name": "stderr",
          "text": [
            "100%|██████████| 79/79 [00:01<00:00, 48.56it/s]\n"
          ]
        },
        {
          "output_type": "stream",
          "name": "stdout",
          "text": [
            "\n",
            "=>> Epoch 19 Metrics ===\n",
            "\tTrain Loss: 1.05065 -- Train Accuracy: 0.6458\n",
            "\t Test Loss: 1.01446 --  Test Accuracy: 0.6723\n",
            "\tBest Test Loss: 0.99938 -- Best Test Accuracy: 0.6781 at Epoch 18\n",
            "\n",
            "[*] Starting Training Epoch 20...\n"
          ]
        },
        {
          "output_type": "stream",
          "name": "stderr",
          "text": [
            "100%|██████████| 469/469 [00:44<00:00, 10.62it/s]\n"
          ]
        },
        {
          "output_type": "stream",
          "name": "stdout",
          "text": [
            "[*] Running Epoch 20 Validation...\n"
          ]
        },
        {
          "output_type": "stream",
          "name": "stderr",
          "text": [
            "100%|██████████| 79/79 [00:01<00:00, 48.51it/s]\n"
          ]
        },
        {
          "output_type": "stream",
          "name": "stdout",
          "text": [
            "\n",
            "=>> Epoch 20 Metrics ===\n",
            "\tTrain Loss: 1.03529 -- Train Accuracy: 0.6535\n",
            "\t Test Loss: 0.97358 --  Test Accuracy: 0.6843\n",
            "\tBest Test Loss: 0.97358 -- Best Test Accuracy: 0.6843 at Epoch 20\n",
            "\n",
            "[*] Starting Training Epoch 21...\n"
          ]
        },
        {
          "output_type": "stream",
          "name": "stderr",
          "text": [
            "100%|██████████| 469/469 [00:43<00:00, 10.66it/s]\n"
          ]
        },
        {
          "output_type": "stream",
          "name": "stdout",
          "text": [
            "[*] Running Epoch 21 Validation...\n"
          ]
        },
        {
          "output_type": "stream",
          "name": "stderr",
          "text": [
            "100%|██████████| 79/79 [00:01<00:00, 48.46it/s]\n"
          ]
        },
        {
          "output_type": "stream",
          "name": "stdout",
          "text": [
            "\n",
            "=>> Epoch 21 Metrics ===\n",
            "\tTrain Loss: 1.12745 -- Train Accuracy: 0.6238\n",
            "\t Test Loss: 0.99907 --  Test Accuracy: 0.6806\n",
            "\tBest Test Loss: 0.97358 -- Best Test Accuracy: 0.6843 at Epoch 20\n",
            "\n",
            "[*] Starting Training Epoch 22...\n"
          ]
        },
        {
          "output_type": "stream",
          "name": "stderr",
          "text": [
            "100%|██████████| 469/469 [00:44<00:00, 10.65it/s]\n"
          ]
        },
        {
          "output_type": "stream",
          "name": "stdout",
          "text": [
            "[*] Running Epoch 22 Validation...\n"
          ]
        },
        {
          "output_type": "stream",
          "name": "stderr",
          "text": [
            "100%|██████████| 79/79 [00:01<00:00, 48.58it/s]\n"
          ]
        },
        {
          "output_type": "stream",
          "name": "stdout",
          "text": [
            "\n",
            "=>> Epoch 22 Metrics ===\n",
            "\tTrain Loss: 1.03487 -- Train Accuracy: 0.6549\n",
            "\t Test Loss: 0.96897 --  Test Accuracy: 0.6851\n",
            "\tBest Test Loss: 0.96897 -- Best Test Accuracy: 0.6851 at Epoch 22\n",
            "\n",
            "[*] Starting Training Epoch 23...\n"
          ]
        },
        {
          "output_type": "stream",
          "name": "stderr",
          "text": [
            "100%|██████████| 469/469 [00:44<00:00, 10.65it/s]\n"
          ]
        },
        {
          "output_type": "stream",
          "name": "stdout",
          "text": [
            "[*] Running Epoch 23 Validation...\n"
          ]
        },
        {
          "output_type": "stream",
          "name": "stderr",
          "text": [
            "100%|██████████| 79/79 [00:01<00:00, 48.47it/s]\n"
          ]
        },
        {
          "output_type": "stream",
          "name": "stdout",
          "text": [
            "\n",
            "=>> Epoch 23 Metrics ===\n",
            "\tTrain Loss: 1.01890 -- Train Accuracy: 0.6585\n",
            "\t Test Loss: 0.96670 --  Test Accuracy: 0.6885\n",
            "\tBest Test Loss: 0.96670 -- Best Test Accuracy: 0.6885 at Epoch 23\n",
            "\n",
            "[*] Starting Training Epoch 24...\n"
          ]
        },
        {
          "output_type": "stream",
          "name": "stderr",
          "text": [
            "100%|██████████| 469/469 [00:44<00:00, 10.64it/s]\n"
          ]
        },
        {
          "output_type": "stream",
          "name": "stdout",
          "text": [
            "[*] Running Epoch 24 Validation...\n"
          ]
        },
        {
          "output_type": "stream",
          "name": "stderr",
          "text": [
            "100%|██████████| 79/79 [00:01<00:00, 48.48it/s]\n"
          ]
        },
        {
          "output_type": "stream",
          "name": "stdout",
          "text": [
            "\n",
            "=>> Epoch 24 Metrics ===\n",
            "\tTrain Loss: 0.99952 -- Train Accuracy: 0.6667\n",
            "\t Test Loss: 0.94077 --  Test Accuracy: 0.6846\n",
            "\tBest Test Loss: 0.96670 -- Best Test Accuracy: 0.6885 at Epoch 23\n",
            "\n",
            "[*] Starting Training Epoch 25...\n"
          ]
        },
        {
          "output_type": "stream",
          "name": "stderr",
          "text": [
            "100%|██████████| 469/469 [00:44<00:00, 10.62it/s]\n"
          ]
        },
        {
          "output_type": "stream",
          "name": "stdout",
          "text": [
            "[*] Running Epoch 25 Validation...\n"
          ]
        },
        {
          "output_type": "stream",
          "name": "stderr",
          "text": [
            "100%|██████████| 79/79 [00:01<00:00, 48.43it/s]\n"
          ]
        },
        {
          "output_type": "stream",
          "name": "stdout",
          "text": [
            "\n",
            "=>> Epoch 25 Metrics ===\n",
            "\tTrain Loss: 1.00630 -- Train Accuracy: 0.6641\n",
            "\t Test Loss: 0.92742 --  Test Accuracy: 0.6941\n",
            "\tBest Test Loss: 0.92742 -- Best Test Accuracy: 0.6941 at Epoch 25\n",
            "\n",
            "[*] Starting Training Epoch 26...\n"
          ]
        },
        {
          "output_type": "stream",
          "name": "stderr",
          "text": [
            "100%|██████████| 469/469 [00:44<00:00, 10.62it/s]\n"
          ]
        },
        {
          "output_type": "stream",
          "name": "stdout",
          "text": [
            "[*] Running Epoch 26 Validation...\n"
          ]
        },
        {
          "output_type": "stream",
          "name": "stderr",
          "text": [
            "100%|██████████| 79/79 [00:01<00:00, 48.49it/s]\n"
          ]
        },
        {
          "output_type": "stream",
          "name": "stdout",
          "text": [
            "\n",
            "=>> Epoch 26 Metrics ===\n",
            "\tTrain Loss: 0.98230 -- Train Accuracy: 0.6726\n",
            "\t Test Loss: 0.92344 --  Test Accuracy: 0.7004\n",
            "\tBest Test Loss: 0.92344 -- Best Test Accuracy: 0.7004 at Epoch 26\n",
            "\n",
            "[*] Starting Training Epoch 27...\n"
          ]
        },
        {
          "output_type": "stream",
          "name": "stderr",
          "text": [
            "100%|██████████| 469/469 [00:44<00:00, 10.61it/s]\n"
          ]
        },
        {
          "output_type": "stream",
          "name": "stdout",
          "text": [
            "[*] Running Epoch 27 Validation...\n"
          ]
        },
        {
          "output_type": "stream",
          "name": "stderr",
          "text": [
            "100%|██████████| 79/79 [00:01<00:00, 48.46it/s]\n"
          ]
        },
        {
          "output_type": "stream",
          "name": "stdout",
          "text": [
            "\n",
            "=>> Epoch 27 Metrics ===\n",
            "\tTrain Loss: 0.97356 -- Train Accuracy: 0.6763\n",
            "\t Test Loss: 0.91467 --  Test Accuracy: 0.6943\n",
            "\tBest Test Loss: 0.92344 -- Best Test Accuracy: 0.7004 at Epoch 26\n",
            "\n",
            "[*] Starting Training Epoch 28...\n"
          ]
        },
        {
          "output_type": "stream",
          "name": "stderr",
          "text": [
            "100%|██████████| 469/469 [00:44<00:00, 10.61it/s]\n"
          ]
        },
        {
          "output_type": "stream",
          "name": "stdout",
          "text": [
            "[*] Running Epoch 28 Validation...\n"
          ]
        },
        {
          "output_type": "stream",
          "name": "stderr",
          "text": [
            "100%|██████████| 79/79 [00:02<00:00, 39.14it/s]\n"
          ]
        },
        {
          "output_type": "stream",
          "name": "stdout",
          "text": [
            "\n",
            "=>> Epoch 28 Metrics ===\n",
            "\tTrain Loss: 0.96372 -- Train Accuracy: 0.6817\n",
            "\t Test Loss: 0.90846 --  Test Accuracy: 0.6999\n",
            "\tBest Test Loss: 0.92344 -- Best Test Accuracy: 0.7004 at Epoch 26\n",
            "\n",
            "[*] Starting Training Epoch 29...\n"
          ]
        },
        {
          "output_type": "stream",
          "name": "stderr",
          "text": [
            "100%|██████████| 469/469 [00:44<00:00, 10.59it/s]\n"
          ]
        },
        {
          "output_type": "stream",
          "name": "stdout",
          "text": [
            "[*] Running Epoch 29 Validation...\n"
          ]
        },
        {
          "output_type": "stream",
          "name": "stderr",
          "text": [
            "100%|██████████| 79/79 [00:01<00:00, 48.47it/s]\n"
          ]
        },
        {
          "output_type": "stream",
          "name": "stdout",
          "text": [
            "\n",
            "=>> Epoch 29 Metrics ===\n",
            "\tTrain Loss: 0.95926 -- Train Accuracy: 0.6833\n",
            "\t Test Loss: 0.94553 --  Test Accuracy: 0.6896\n",
            "\tBest Test Loss: 0.92344 -- Best Test Accuracy: 0.7004 at Epoch 26\n",
            "\n",
            "[*] Starting Training Epoch 30...\n"
          ]
        },
        {
          "output_type": "stream",
          "name": "stderr",
          "text": [
            "100%|██████████| 469/469 [00:44<00:00, 10.58it/s]\n"
          ]
        },
        {
          "output_type": "stream",
          "name": "stdout",
          "text": [
            "[*] Running Epoch 30 Validation...\n"
          ]
        },
        {
          "output_type": "stream",
          "name": "stderr",
          "text": [
            "100%|██████████| 79/79 [00:01<00:00, 48.25it/s]\n"
          ]
        },
        {
          "output_type": "stream",
          "name": "stdout",
          "text": [
            "\n",
            "=>> Epoch 30 Metrics ===\n",
            "\tTrain Loss: 0.96162 -- Train Accuracy: 0.6821\n",
            "\t Test Loss: 0.91160 --  Test Accuracy: 0.7036\n",
            "\tBest Test Loss: 0.91160 -- Best Test Accuracy: 0.7036 at Epoch 30\n",
            "\n",
            "[*] Starting Training Epoch 31...\n"
          ]
        },
        {
          "output_type": "stream",
          "name": "stderr",
          "text": [
            "100%|██████████| 469/469 [00:44<00:00, 10.58it/s]\n"
          ]
        },
        {
          "output_type": "stream",
          "name": "stdout",
          "text": [
            "[*] Running Epoch 31 Validation...\n"
          ]
        },
        {
          "output_type": "stream",
          "name": "stderr",
          "text": [
            "100%|██████████| 79/79 [00:02<00:00, 27.84it/s]\n"
          ]
        },
        {
          "output_type": "stream",
          "name": "stdout",
          "text": [
            "\n",
            "=>> Epoch 31 Metrics ===\n",
            "\tTrain Loss: 0.94490 -- Train Accuracy: 0.6872\n",
            "\t Test Loss: 0.90120 --  Test Accuracy: 0.7011\n",
            "\tBest Test Loss: 0.91160 -- Best Test Accuracy: 0.7036 at Epoch 30\n",
            "\n",
            "[*] Starting Training Epoch 32...\n"
          ]
        },
        {
          "output_type": "stream",
          "name": "stderr",
          "text": [
            "100%|██████████| 469/469 [00:44<00:00, 10.57it/s]\n"
          ]
        },
        {
          "output_type": "stream",
          "name": "stdout",
          "text": [
            "[*] Running Epoch 32 Validation...\n"
          ]
        },
        {
          "output_type": "stream",
          "name": "stderr",
          "text": [
            "100%|██████████| 79/79 [00:01<00:00, 48.27it/s]\n"
          ]
        },
        {
          "output_type": "stream",
          "name": "stdout",
          "text": [
            "\n",
            "=>> Epoch 32 Metrics ===\n",
            "\tTrain Loss: 0.94487 -- Train Accuracy: 0.6853\n",
            "\t Test Loss: 0.89455 --  Test Accuracy: 0.7056\n",
            "\tBest Test Loss: 0.89455 -- Best Test Accuracy: 0.7056 at Epoch 32\n",
            "\n",
            "[*] Starting Training Epoch 33...\n"
          ]
        },
        {
          "output_type": "stream",
          "name": "stderr",
          "text": [
            "100%|██████████| 469/469 [00:44<00:00, 10.57it/s]\n"
          ]
        },
        {
          "output_type": "stream",
          "name": "stdout",
          "text": [
            "[*] Running Epoch 33 Validation...\n"
          ]
        },
        {
          "output_type": "stream",
          "name": "stderr",
          "text": [
            "100%|██████████| 79/79 [00:01<00:00, 48.29it/s]\n"
          ]
        },
        {
          "output_type": "stream",
          "name": "stdout",
          "text": [
            "\n",
            "=>> Epoch 33 Metrics ===\n",
            "\tTrain Loss: 0.93849 -- Train Accuracy: 0.6903\n",
            "\t Test Loss: 0.89743 --  Test Accuracy: 0.7048\n",
            "\tBest Test Loss: 0.89455 -- Best Test Accuracy: 0.7056 at Epoch 32\n",
            "\n",
            "[*] Starting Training Epoch 34...\n"
          ]
        },
        {
          "output_type": "stream",
          "name": "stderr",
          "text": [
            "100%|██████████| 469/469 [00:44<00:00, 10.58it/s]\n"
          ]
        },
        {
          "output_type": "stream",
          "name": "stdout",
          "text": [
            "[*] Running Epoch 34 Validation...\n"
          ]
        },
        {
          "output_type": "stream",
          "name": "stderr",
          "text": [
            "100%|██████████| 79/79 [00:01<00:00, 48.37it/s]\n"
          ]
        },
        {
          "output_type": "stream",
          "name": "stdout",
          "text": [
            "\n",
            "=>> Epoch 34 Metrics ===\n",
            "\tTrain Loss: 0.92588 -- Train Accuracy: 0.6935\n",
            "\t Test Loss: 0.88592 --  Test Accuracy: 0.7084\n",
            "\tBest Test Loss: 0.88592 -- Best Test Accuracy: 0.7084 at Epoch 34\n",
            "\n",
            "[*] Starting Training Epoch 35...\n"
          ]
        },
        {
          "output_type": "stream",
          "name": "stderr",
          "text": [
            "100%|██████████| 469/469 [00:44<00:00, 10.58it/s]\n"
          ]
        },
        {
          "output_type": "stream",
          "name": "stdout",
          "text": [
            "[*] Running Epoch 35 Validation...\n"
          ]
        },
        {
          "output_type": "stream",
          "name": "stderr",
          "text": [
            "100%|██████████| 79/79 [00:01<00:00, 48.14it/s]\n"
          ]
        },
        {
          "output_type": "stream",
          "name": "stdout",
          "text": [
            "\n",
            "=>> Epoch 35 Metrics ===\n",
            "\tTrain Loss: 0.92542 -- Train Accuracy: 0.6932\n",
            "\t Test Loss: 0.88427 --  Test Accuracy: 0.7090\n",
            "\tBest Test Loss: 0.88427 -- Best Test Accuracy: 0.7090 at Epoch 35\n",
            "\n",
            "[*] Starting Training Epoch 36...\n"
          ]
        },
        {
          "output_type": "stream",
          "name": "stderr",
          "text": [
            "100%|██████████| 469/469 [00:44<00:00, 10.59it/s]\n"
          ]
        },
        {
          "output_type": "stream",
          "name": "stdout",
          "text": [
            "[*] Running Epoch 36 Validation...\n"
          ]
        },
        {
          "output_type": "stream",
          "name": "stderr",
          "text": [
            "100%|██████████| 79/79 [00:01<00:00, 48.52it/s]\n"
          ]
        },
        {
          "output_type": "stream",
          "name": "stdout",
          "text": [
            "\n",
            "=>> Epoch 36 Metrics ===\n",
            "\tTrain Loss: 0.92286 -- Train Accuracy: 0.6968\n",
            "\t Test Loss: 0.88356 --  Test Accuracy: 0.7067\n",
            "\tBest Test Loss: 0.88427 -- Best Test Accuracy: 0.7090 at Epoch 35\n",
            "\n",
            "[*] Starting Training Epoch 37...\n"
          ]
        },
        {
          "output_type": "stream",
          "name": "stderr",
          "text": [
            "100%|██████████| 469/469 [00:44<00:00, 10.60it/s]\n"
          ]
        },
        {
          "output_type": "stream",
          "name": "stdout",
          "text": [
            "[*] Running Epoch 37 Validation...\n"
          ]
        },
        {
          "output_type": "stream",
          "name": "stderr",
          "text": [
            "100%|██████████| 79/79 [00:01<00:00, 48.46it/s]\n"
          ]
        },
        {
          "output_type": "stream",
          "name": "stdout",
          "text": [
            "\n",
            "=>> Epoch 37 Metrics ===\n",
            "\tTrain Loss: 0.91891 -- Train Accuracy: 0.6970\n",
            "\t Test Loss: 0.87760 --  Test Accuracy: 0.7099\n",
            "\tBest Test Loss: 0.87760 -- Best Test Accuracy: 0.7099 at Epoch 37\n",
            "\n",
            "[*] Starting Training Epoch 38...\n"
          ]
        },
        {
          "output_type": "stream",
          "name": "stderr",
          "text": [
            "100%|██████████| 469/469 [00:44<00:00, 10.60it/s]\n"
          ]
        },
        {
          "output_type": "stream",
          "name": "stdout",
          "text": [
            "[*] Running Epoch 38 Validation...\n"
          ]
        },
        {
          "output_type": "stream",
          "name": "stderr",
          "text": [
            "100%|██████████| 79/79 [00:01<00:00, 48.49it/s]\n"
          ]
        },
        {
          "output_type": "stream",
          "name": "stdout",
          "text": [
            "\n",
            "=>> Epoch 38 Metrics ===\n",
            "\tTrain Loss: 0.91279 -- Train Accuracy: 0.6995\n",
            "\t Test Loss: 0.87654 --  Test Accuracy: 0.7096\n",
            "\tBest Test Loss: 0.87760 -- Best Test Accuracy: 0.7099 at Epoch 37\n",
            "\n",
            "[*] Starting Training Epoch 39...\n"
          ]
        },
        {
          "output_type": "stream",
          "name": "stderr",
          "text": [
            "100%|██████████| 469/469 [00:44<00:00, 10.60it/s]\n"
          ]
        },
        {
          "output_type": "stream",
          "name": "stdout",
          "text": [
            "[*] Running Epoch 39 Validation...\n"
          ]
        },
        {
          "output_type": "stream",
          "name": "stderr",
          "text": [
            "100%|██████████| 79/79 [00:01<00:00, 48.47it/s]\n"
          ]
        },
        {
          "output_type": "stream",
          "name": "stdout",
          "text": [
            "\n",
            "=>> Epoch 39 Metrics ===\n",
            "\tTrain Loss: 0.91013 -- Train Accuracy: 0.6996\n",
            "\t Test Loss: 0.87883 --  Test Accuracy: 0.7095\n",
            "\tBest Test Loss: 0.87760 -- Best Test Accuracy: 0.7099 at Epoch 37\n",
            "\n",
            "[*] Starting Training Epoch 40...\n"
          ]
        },
        {
          "output_type": "stream",
          "name": "stderr",
          "text": [
            "100%|██████████| 469/469 [00:44<00:00, 10.61it/s]\n"
          ]
        },
        {
          "output_type": "stream",
          "name": "stdout",
          "text": [
            "[*] Running Epoch 40 Validation...\n"
          ]
        },
        {
          "output_type": "stream",
          "name": "stderr",
          "text": [
            "100%|██████████| 79/79 [00:01<00:00, 48.35it/s]\n"
          ]
        },
        {
          "output_type": "stream",
          "name": "stdout",
          "text": [
            "\n",
            "=>> Epoch 40 Metrics ===\n",
            "\tTrain Loss: 0.91733 -- Train Accuracy: 0.6965\n",
            "\t Test Loss: 0.87877 --  Test Accuracy: 0.7086\n",
            "\tBest Test Loss: 0.87760 -- Best Test Accuracy: 0.7099 at Epoch 37\n",
            "\n"
          ]
        }
      ]
    },
    {
      "cell_type": "markdown",
      "source": [
        "# Let's try create simple model from scratch\n",
        "\n"
      ],
      "metadata": {
        "id": "g8Gaj0R9rb_r"
      }
    },
    {
      "cell_type": "code",
      "source": [
        "from jax.nn.initializers import lecun_normal, normal\n",
        "from jax.numpy.linalg import eigh, inv, matrix_power\n",
        "from jax.scipy.signal import convolve\n",
        "\n",
        "\n",
        "def log_step_initializer(dt_min=0.001, dt_max=0.1):\n",
        "    def init(key, shape):\n",
        "        return jax.random.uniform(key, shape) * (\n",
        "            np.log(dt_max) - np.log(dt_min)\n",
        "        ) + np.log(dt_min)\n",
        "\n",
        "    return init\n",
        "\n",
        "def scan_SSM(Ab, Bb, Cb, u, x0):\n",
        "    def step(x_k_1, u_k):\n",
        "        x_k = Ab @ x_k_1 + Bb @ u_k\n",
        "        y_k = Cb @ x_k\n",
        "        return x_k, y_k\n",
        "\n",
        "    return jax.lax.scan(step, x0, u)\n",
        "    \n",
        "def discretize(A, B, C, step):\n",
        "    I = np.eye(A.shape[0])\n",
        "    BL = inv(I - (step / 2.0) * A)\n",
        "    Ab = BL @ (I + (step / 2.0) * A)\n",
        "    Bb = (BL * step) @ B\n",
        "    return Ab, Bb, \n",
        "\n",
        "def K_conv(Ab, Bb, Cb, L):\n",
        "    return np.array(\n",
        "        [(Cb @ matrix_power(Ab, l) @ Bb).reshape() for l in range(L)]\n",
        "    )\n",
        "\n",
        "def causal_convolution(u, K, nofft=False):\n",
        "    if nofft:\n",
        "        return convolve(u, K, mode=\"full\")[: u.shape[0]]\n",
        "    else:\n",
        "        assert K.shape[0] == u.shape[0]\n",
        "        ud = np.fft.rfft(np.pad(u, (0, K.shape[0])))\n",
        "        Kd = np.fft.rfft(np.pad(K, (0, u.shape[0])))\n",
        "        out = ud * Kd\n",
        "        return np.fft.irfft(out)[: u.shape[0]]\n",
        "\n",
        "class SSMLayer(nn.Module):\n",
        "    N: int\n",
        "    l_max: int\n",
        "    decode: bool = False\n",
        "\n",
        "    def setup(self):\n",
        "        # SSM parameters\n",
        "        self.A = self.param(\"A\", lecun_normal(), (self.N, self.N))\n",
        "        self.B = self.param(\"B\", lecun_normal(), (self.N, 1))\n",
        "        self.C = self.param(\"C\", lecun_normal(), (1, self.N))\n",
        "        self.D = self.param(\"D\", nn.initializers.ones, (1,))\n",
        "\n",
        "        # Step parameter\n",
        "        self.log_step = self.param(\"log_step\", log_step_initializer(), (1,))\n",
        "\n",
        "        step = np.exp(self.log_step)\n",
        "        self.ssm = discretize(self.A, self.B, self.C, step=step)\n",
        "        self.K = K_conv(*self.ssm, self.l_max)\n",
        "\n",
        "        # RNN cache for long sequences\n",
        "        self.x_k_1 = self.variable(\"cache\", \"cache_x_k\", np.zeros, (self.N,))\n",
        "\n",
        "    def __call__(self, u):\n",
        "        if not self.decode:\n",
        "            # CNN Mode\n",
        "            return causal_convolution(u, self.K) + self.D * u\n",
        "        else:\n",
        "            # RNN Mode\n",
        "            x_k, y_s = scan_SSM(*self.ssm, u[:, np.newaxis], self.x_k_1.value)\n",
        "            if self.is_mutable_collection(\"cache\"):\n",
        "                self.x_k_1.value = x_k\n",
        "            return y_s.reshape(-1).real + self.D * u\n",
        "\n",
        "\n",
        "# Since our SSMs operate on scalars, we make $H$ different, stacked copies ($H$ different SSMs!) with\n",
        "# different parameters. Here we use the [Flax vmap](\n",
        "# https://flax.readthedocs.io/en/latest/_autosummary/flax.linen.vmap.html)\n",
        "# method to easily define these copies,\n",
        "\n",
        "\n",
        "def cloneLayer(layer):\n",
        "    return nn.vmap(\n",
        "        layer,\n",
        "        in_axes=1,\n",
        "        out_axes=1,\n",
        "        variable_axes={\"params\": 1, \"cache\": 1, \"prime\": 1},\n",
        "        split_rngs={\"params\": True},\n",
        "    )\n",
        "\n",
        "\n",
        "SSMLayer = cloneLayer(SSMLayer)"
      ],
      "metadata": {
        "id": "6RjUUKK1sCsv"
      },
      "execution_count": null,
      "outputs": []
    },
    {
      "cell_type": "markdown",
      "source": [
        "## Linear"
      ],
      "metadata": {
        "id": "8NRAzuvwI0HB"
      }
    },
    {
      "cell_type": "code",
      "source": [
        "class ModelLinear(nn.Module):\n",
        "    layer_cls: nn.Module\n",
        "    layer: dict  # Extra arguments to pass into layer constructor\n",
        "    d_output: int\n",
        "    d_model: int\n",
        "    n_layers: int\n",
        "    prenorm: bool = True\n",
        "    dropout: float = 0.0\n",
        "    embedding: bool = False  # Use nn.Embed instead of nn.Dense encoder\n",
        "    classification: bool = False\n",
        "    training: bool = True\n",
        "    decode: bool = False  # Probably should be moved into layer_args\n",
        "\n",
        "    def setup(self):\n",
        "        self.lay1 = nn.Dense(200)\n",
        "        self.lay2 = nn.Dense(200)\n",
        "        self.classifier = nn.Dense(10)\n",
        "    \n",
        "    def __call__(self, x):\n",
        "        # print('x', x.shape)\n",
        "        x = x.squeeze()\n",
        "        # print(x.shape)\n",
        "        x = self.lay1(x)\n",
        "        # print('lay1', x.shape)\n",
        "        x = self.lay2(nn.relu(x))\n",
        "        # print('lat2', x.shape)\n",
        "        # x = np.mean(x, axis=0)\n",
        "        # print('mean', x.shape)\n",
        "        x = self.classifier(nn.relu(x))\n",
        "        # print('class', x.shape)\n",
        "        return nn.log_softmax(x, axis=-1)"
      ],
      "metadata": {
        "id": "iqy7seyjwDbS"
      },
      "execution_count": null,
      "outputs": []
    },
    {
      "cell_type": "code",
      "source": [
        "BatchModelLinear = nn.vmap(\n",
        "    ModelLinear,\n",
        "    in_axes=0,\n",
        "    out_axes=0,\n",
        "    variable_axes={\"params\": None, \"dropout\": None, \"cache\": 0, \"prime\": None},\n",
        "    split_rngs={\"params\": False, \"dropout\": True},\n",
        ")"
      ],
      "metadata": {
        "id": "AIWv8_1P0he2"
      },
      "execution_count": null,
      "outputs": []
    },
    {
      "cell_type": "code",
      "source": [
        "def run_learning_with_batchmodel(batchmodel):\n",
        "    # wandb = None\n",
        "    seed = 3407\n",
        "    dataset = 'mnist-classification'\n",
        "    layer = 's4'\n",
        "    model = DictConfig({'d_model': 128, 'n_layers': 4, 'dropout': 0.25, 'prenorm': True, 'embedding': False, 'layer': {}})\n",
        "    train = DictConfig({'epochs': 40, 'bsz': 128, 'lr': 5e-3, 'lr_schedule': True, 'weight_decay': 0.01,\n",
        "                        'checkpoint': False, 'suffix': None, 'sample': None})\n",
        "\n",
        "    if wandb is not None:\n",
        "        # wandb.login(key='???')\n",
        "        wandb.init(\n",
        "            **{'mode': 'online', 'project': 's4', 'entity': None},\n",
        "            config=dict(model, **train)\n",
        "        )\n",
        "\n",
        "    # Set randomness...\n",
        "    print(\"[*] Setting Randomness...\")\n",
        "    torch.random.manual_seed(seed)  # For dataloader order\n",
        "    key = jax.random.PRNGKey(seed)\n",
        "    key, rng, train_rng = jax.random.split(key, num=3)\n",
        "\n",
        "    # Check if classification dataset\n",
        "    classification = \"classification\" in dataset\n",
        "\n",
        "    # Create dataset\n",
        "    create_dataset_fn = Datasets[dataset]\n",
        "    trainloader, testloader, n_classes, l_max, d_input = create_dataset_fn(\n",
        "        bsz=train.bsz\n",
        "    )\n",
        "\n",
        "    # Get model class and arguments\n",
        "    # layer_cls = S4Layer\n",
        "    layer_cls = Dense\n",
        "    # model.layer.l_max = l_max\n",
        "\n",
        "    # Extract custom hyperparameters from model class\n",
        "    lr_layer = getattr(layer_cls, \"lr\", None)\n",
        "\n",
        "    print(f\"[*] Starting `{layer}` Training on `{dataset}` =>> Initializing...\")\n",
        "\n",
        "    model_cls = partial(\n",
        "        batchmodel,\n",
        "        layer_cls=layer_cls,\n",
        "        d_output=n_classes,\n",
        "        classification=classification,\n",
        "        **model,\n",
        "    )\n",
        "\n",
        "    state = create_train_state(\n",
        "        rng,\n",
        "        model_cls,\n",
        "        trainloader,\n",
        "        lr=train.lr,\n",
        "        lr_layer=lr_layer,\n",
        "        lr_schedule=train.lr_schedule,\n",
        "        weight_decay=train.weight_decay,\n",
        "        total_steps=len(trainloader) * train.epochs,\n",
        "    )\n",
        "\n",
        "    # Loop over epochs\n",
        "    best_loss, best_acc, best_epoch = 10000, 0, 0\n",
        "    for epoch in range(train.epochs):\n",
        "        print(f\"[*] Starting Training Epoch {epoch + 1}...\")\n",
        "        state, train_loss, train_acc = train_epoch(\n",
        "            state,\n",
        "            train_rng,\n",
        "            model_cls,\n",
        "            trainloader,\n",
        "            classification=classification,\n",
        "        )\n",
        "\n",
        "        print(f\"[*] Running Epoch {epoch + 1} Validation...\")\n",
        "        test_loss, test_acc = validate(\n",
        "            state.params, model_cls, testloader, classification=classification\n",
        "        )\n",
        "\n",
        "        print(f\"\\n=>> Epoch {epoch + 1} Metrics ===\")\n",
        "        print(\n",
        "            f\"\\tTrain Loss: {train_loss:.5f} -- Train Accuracy:\"\n",
        "            f\" {train_acc:.4f}\\n\\t Test Loss: {test_loss:.5f} --  Test\"\n",
        "            f\" Accuracy: {test_acc:.4f}\"\n",
        "        )\n",
        "\n",
        "        if train.checkpoint:\n",
        "            suf = f\"-{train.suffix}\" if train.suffix is not None else \"\"\n",
        "            run_id = f\"checkpoints/{dataset}/{layer}-d_model={model.d_model}-lr={train.lr}-bsz={train.bsz}{suf}\"\n",
        "            ckpt_path = checkpoints.save_checkpoint(\n",
        "                run_id,\n",
        "                state,\n",
        "                epoch,\n",
        "                keep=train.epochs,\n",
        "            )\n",
        "\n",
        "        if (classification and test_acc > best_acc) or (not classification and test_loss < best_loss):\n",
        "            best_loss, best_acc, best_epoch = test_loss, test_acc, epoch\n",
        "            if train.checkpoint:\n",
        "                shutil.copy(ckpt_path, f\"{run_id}/best_{epoch}\")\n",
        "                if os.path.exists(f\"{run_id}/best_{best_epoch}\"):\n",
        "                    os.remove(f\"{run_id}/best_{best_epoch}\")\n",
        "\n",
        "        # Print best accuracy & loss so far...\n",
        "        print(\n",
        "            f\"\\tBest Test Loss: {best_loss:.5f} -- Best Test Accuracy:\"\n",
        "            f\" {best_acc:.4f} at Epoch {best_epoch + 1}\\n\"\n",
        "        )\n",
        "\n",
        "        if wandb is not None:\n",
        "            wandb.log(\n",
        "                {\n",
        "                    \"train/loss\": train_loss,\n",
        "                    \"train/accuracy\": train_acc,\n",
        "                    \"test/loss\": test_loss,\n",
        "                    \"test/accuracy\": test_acc,\n",
        "                },\n",
        "                step=epoch,\n",
        "            )\n",
        "            wandb.run.summary[\"Best Test Loss\"] = best_loss\n",
        "            wandb.run.summary[\"Best Test Accuracy\"] = best_acc\n",
        "            wandb.run.summary[\"Best Epoch\"] = best_epoch\n",
        "\n",
        "    if wandb is not None:\n",
        "        wandb.finish()"
      ],
      "metadata": {
        "id": "JKqjYS1nLAbb"
      },
      "execution_count": null,
      "outputs": []
    },
    {
      "cell_type": "code",
      "source": [
        "run_learning_with_batchmodel(BatchModelLinear)"
      ],
      "metadata": {
        "colab": {
          "base_uri": "https://localhost:8080/",
          "height": 1000
        },
        "id": "izD2uyVMxDTp",
        "outputId": "e8befc86-f9e0-4b03-f447-556b9c62e9e1"
      },
      "execution_count": null,
      "outputs": [
        {
          "output_type": "stream",
          "name": "stderr",
          "text": [
            "ERROR:wandb.jupyter:Failed to detect the name of this notebook, you can set it manually with the WANDB_NOTEBOOK_NAME environment variable to enable code saving.\n",
            "\u001b[34m\u001b[1mwandb\u001b[0m: W&B API key is configured. Use \u001b[1m`wandb login --relogin`\u001b[0m to force relogin\n",
            "\u001b[34m\u001b[1mwandb\u001b[0m: \u001b[33mWARNING\u001b[0m If you're specifying your api key in code, ensure this code is not shared publicly.\n",
            "\u001b[34m\u001b[1mwandb\u001b[0m: \u001b[33mWARNING\u001b[0m Consider setting the WANDB_API_KEY environment variable, or running `wandb login` from the command line.\n",
            "\u001b[34m\u001b[1mwandb\u001b[0m: Appending key for api.wandb.ai to your netrc file: /root/.netrc\n",
            "\u001b[34m\u001b[1mwandb\u001b[0m: Currently logged in as: \u001b[33mmesslav\u001b[0m. Use \u001b[1m`wandb login --relogin`\u001b[0m to force relogin\n"
          ]
        },
        {
          "output_type": "display_data",
          "data": {
            "text/plain": [
              "<IPython.core.display.HTML object>"
            ],
            "text/html": [
              "Tracking run with wandb version 0.13.5"
            ]
          },
          "metadata": {}
        },
        {
          "output_type": "display_data",
          "data": {
            "text/plain": [
              "<IPython.core.display.HTML object>"
            ],
            "text/html": [
              "Run data is saved locally in <code>/content/annotated-s4/wandb/run-20221108_210315-1155dzld</code>"
            ]
          },
          "metadata": {}
        },
        {
          "output_type": "display_data",
          "data": {
            "text/plain": [
              "<IPython.core.display.HTML object>"
            ],
            "text/html": [
              "Syncing run <strong><a href=\"https://wandb.ai/messlav/s4/runs/1155dzld\" target=\"_blank\">grateful-shadow-10</a></strong> to <a href=\"https://wandb.ai/messlav/s4\" target=\"_blank\">Weights & Biases</a> (<a href=\"https://wandb.me/run\" target=\"_blank\">docs</a>)<br/>"
            ]
          },
          "metadata": {}
        },
        {
          "output_type": "stream",
          "name": "stdout",
          "text": [
            "[*] Setting Randomness...\n",
            "[*] Generating MNIST Classification Dataset...\n",
            "[*] Starting `s4` Training on `mnist-classification` =>> Initializing...\n",
            "[*] Trainable Parameters: 199210\n",
            "[*] Total training steps: 18760\n",
            "[*] Starting Training Epoch 1...\n"
          ]
        },
        {
          "output_type": "stream",
          "name": "stderr",
          "text": [
            "100%|██████████| 469/469 [00:13<00:00, 36.03it/s]\n"
          ]
        },
        {
          "output_type": "stream",
          "name": "stdout",
          "text": [
            "[*] Running Epoch 1 Validation...\n"
          ]
        },
        {
          "output_type": "stream",
          "name": "stderr",
          "text": [
            "100%|██████████| 79/79 [00:01<00:00, 39.96it/s]\n"
          ]
        },
        {
          "output_type": "stream",
          "name": "stdout",
          "text": [
            "\n",
            "=>> Epoch 1 Metrics ===\n",
            "\tTrain Loss: 0.50065 -- Train Accuracy: 0.8604\n",
            "\t Test Loss: 0.23167 --  Test Accuracy: 0.9316\n",
            "\tBest Test Loss: 0.23167 -- Best Test Accuracy: 0.9316 at Epoch 1\n",
            "\n",
            "[*] Starting Training Epoch 2...\n"
          ]
        },
        {
          "output_type": "stream",
          "name": "stderr",
          "text": [
            "100%|██████████| 469/469 [00:11<00:00, 41.92it/s]\n"
          ]
        },
        {
          "output_type": "stream",
          "name": "stdout",
          "text": [
            "[*] Running Epoch 2 Validation...\n"
          ]
        },
        {
          "output_type": "stream",
          "name": "stderr",
          "text": [
            "100%|██████████| 79/79 [00:01<00:00, 57.51it/s]\n"
          ]
        },
        {
          "output_type": "stream",
          "name": "stdout",
          "text": [
            "\n",
            "=>> Epoch 2 Metrics ===\n",
            "\tTrain Loss: 0.20090 -- Train Accuracy: 0.9387\n",
            "\t Test Loss: 0.15292 --  Test Accuracy: 0.9503\n",
            "\tBest Test Loss: 0.15292 -- Best Test Accuracy: 0.9503 at Epoch 2\n",
            "\n",
            "[*] Starting Training Epoch 3...\n"
          ]
        },
        {
          "output_type": "stream",
          "name": "stderr",
          "text": [
            "100%|██████████| 469/469 [00:08<00:00, 54.53it/s]\n"
          ]
        },
        {
          "output_type": "stream",
          "name": "stdout",
          "text": [
            "[*] Running Epoch 3 Validation...\n"
          ]
        },
        {
          "output_type": "stream",
          "name": "stderr",
          "text": [
            "100%|██████████| 79/79 [00:02<00:00, 37.95it/s]\n"
          ]
        },
        {
          "output_type": "stream",
          "name": "stdout",
          "text": [
            "\n",
            "=>> Epoch 3 Metrics ===\n",
            "\tTrain Loss: 0.17267 -- Train Accuracy: 0.9465\n",
            "\t Test Loss: 0.14200 --  Test Accuracy: 0.9577\n",
            "\tBest Test Loss: 0.14200 -- Best Test Accuracy: 0.9577 at Epoch 3\n",
            "\n",
            "[*] Starting Training Epoch 4...\n"
          ]
        },
        {
          "output_type": "stream",
          "name": "stderr",
          "text": [
            "100%|██████████| 469/469 [00:10<00:00, 42.72it/s]\n"
          ]
        },
        {
          "output_type": "stream",
          "name": "stdout",
          "text": [
            "[*] Running Epoch 4 Validation...\n"
          ]
        },
        {
          "output_type": "stream",
          "name": "stderr",
          "text": [
            "100%|██████████| 79/79 [00:01<00:00, 44.90it/s]\n"
          ]
        },
        {
          "output_type": "stream",
          "name": "stdout",
          "text": [
            "\n",
            "=>> Epoch 4 Metrics ===\n",
            "\tTrain Loss: 0.15982 -- Train Accuracy: 0.9513\n",
            "\t Test Loss: 0.15519 --  Test Accuracy: 0.9531\n",
            "\tBest Test Loss: 0.14200 -- Best Test Accuracy: 0.9577 at Epoch 3\n",
            "\n",
            "[*] Starting Training Epoch 5...\n"
          ]
        },
        {
          "output_type": "stream",
          "name": "stderr",
          "text": [
            "100%|██████████| 469/469 [00:11<00:00, 40.26it/s]\n"
          ]
        },
        {
          "output_type": "stream",
          "name": "stdout",
          "text": [
            "[*] Running Epoch 5 Validation...\n"
          ]
        },
        {
          "output_type": "stream",
          "name": "stderr",
          "text": [
            "100%|██████████| 79/79 [00:01<00:00, 58.94it/s]\n"
          ]
        },
        {
          "output_type": "stream",
          "name": "stdout",
          "text": [
            "\n",
            "=>> Epoch 5 Metrics ===\n",
            "\tTrain Loss: 0.12892 -- Train Accuracy: 0.9613\n",
            "\t Test Loss: 0.12066 --  Test Accuracy: 0.9642\n",
            "\tBest Test Loss: 0.12066 -- Best Test Accuracy: 0.9642 at Epoch 5\n",
            "\n",
            "[*] Starting Training Epoch 6...\n"
          ]
        },
        {
          "output_type": "stream",
          "name": "stderr",
          "text": [
            "100%|██████████| 469/469 [00:08<00:00, 56.01it/s]\n"
          ]
        },
        {
          "output_type": "stream",
          "name": "stdout",
          "text": [
            "[*] Running Epoch 6 Validation...\n"
          ]
        },
        {
          "output_type": "stream",
          "name": "stderr",
          "text": [
            "100%|██████████| 79/79 [00:01<00:00, 58.49it/s]\n"
          ]
        },
        {
          "output_type": "stream",
          "name": "stdout",
          "text": [
            "\n",
            "=>> Epoch 6 Metrics ===\n",
            "\tTrain Loss: 0.12185 -- Train Accuracy: 0.9635\n",
            "\t Test Loss: 0.12578 --  Test Accuracy: 0.9638\n",
            "\tBest Test Loss: 0.12066 -- Best Test Accuracy: 0.9642 at Epoch 5\n",
            "\n",
            "[*] Starting Training Epoch 7...\n"
          ]
        },
        {
          "output_type": "stream",
          "name": "stderr",
          "text": [
            "100%|██████████| 469/469 [00:08<00:00, 52.65it/s]\n"
          ]
        },
        {
          "output_type": "stream",
          "name": "stdout",
          "text": [
            "[*] Running Epoch 7 Validation...\n"
          ]
        },
        {
          "output_type": "stream",
          "name": "stderr",
          "text": [
            "100%|██████████| 79/79 [00:01<00:00, 58.34it/s]\n"
          ]
        },
        {
          "output_type": "stream",
          "name": "stdout",
          "text": [
            "\n",
            "=>> Epoch 7 Metrics ===\n",
            "\tTrain Loss: 0.12315 -- Train Accuracy: 0.9630\n",
            "\t Test Loss: 0.13317 --  Test Accuracy: 0.9628\n",
            "\tBest Test Loss: 0.12066 -- Best Test Accuracy: 0.9642 at Epoch 5\n",
            "\n",
            "[*] Starting Training Epoch 8...\n"
          ]
        },
        {
          "output_type": "stream",
          "name": "stderr",
          "text": [
            "100%|██████████| 469/469 [00:14<00:00, 32.94it/s]\n"
          ]
        },
        {
          "output_type": "stream",
          "name": "stdout",
          "text": [
            "[*] Running Epoch 8 Validation...\n"
          ]
        },
        {
          "output_type": "stream",
          "name": "stderr",
          "text": [
            "100%|██████████| 79/79 [00:01<00:00, 58.58it/s]\n"
          ]
        },
        {
          "output_type": "stream",
          "name": "stdout",
          "text": [
            "\n",
            "=>> Epoch 8 Metrics ===\n",
            "\tTrain Loss: 0.10515 -- Train Accuracy: 0.9681\n",
            "\t Test Loss: 0.11577 --  Test Accuracy: 0.9689\n",
            "\tBest Test Loss: 0.11577 -- Best Test Accuracy: 0.9689 at Epoch 8\n",
            "\n",
            "[*] Starting Training Epoch 9...\n"
          ]
        },
        {
          "output_type": "stream",
          "name": "stderr",
          "text": [
            "100%|██████████| 469/469 [00:12<00:00, 37.91it/s]\n"
          ]
        },
        {
          "output_type": "stream",
          "name": "stdout",
          "text": [
            "[*] Running Epoch 9 Validation...\n"
          ]
        },
        {
          "output_type": "stream",
          "name": "stderr",
          "text": [
            "100%|██████████| 79/79 [00:01<00:00, 57.67it/s]\n"
          ]
        },
        {
          "output_type": "stream",
          "name": "stdout",
          "text": [
            "\n",
            "=>> Epoch 9 Metrics ===\n",
            "\tTrain Loss: 0.10642 -- Train Accuracy: 0.9678\n",
            "\t Test Loss: 0.13748 --  Test Accuracy: 0.9662\n",
            "\tBest Test Loss: 0.11577 -- Best Test Accuracy: 0.9689 at Epoch 8\n",
            "\n",
            "[*] Starting Training Epoch 10...\n"
          ]
        },
        {
          "output_type": "stream",
          "name": "stderr",
          "text": [
            "100%|██████████| 469/469 [00:08<00:00, 55.82it/s]\n"
          ]
        },
        {
          "output_type": "stream",
          "name": "stdout",
          "text": [
            "[*] Running Epoch 10 Validation...\n"
          ]
        },
        {
          "output_type": "stream",
          "name": "stderr",
          "text": [
            "100%|██████████| 79/79 [00:01<00:00, 58.84it/s]\n"
          ]
        },
        {
          "output_type": "stream",
          "name": "stdout",
          "text": [
            "\n",
            "=>> Epoch 10 Metrics ===\n",
            "\tTrain Loss: 0.09340 -- Train Accuracy: 0.9715\n",
            "\t Test Loss: 0.11336 --  Test Accuracy: 0.9669\n",
            "\tBest Test Loss: 0.11577 -- Best Test Accuracy: 0.9689 at Epoch 8\n",
            "\n",
            "[*] Starting Training Epoch 11...\n"
          ]
        },
        {
          "output_type": "stream",
          "name": "stderr",
          "text": [
            "100%|██████████| 469/469 [00:08<00:00, 55.50it/s]\n"
          ]
        },
        {
          "output_type": "stream",
          "name": "stdout",
          "text": [
            "[*] Running Epoch 11 Validation...\n"
          ]
        },
        {
          "output_type": "stream",
          "name": "stderr",
          "text": [
            "100%|██████████| 79/79 [00:01<00:00, 58.07it/s]\n"
          ]
        },
        {
          "output_type": "stream",
          "name": "stdout",
          "text": [
            "\n",
            "=>> Epoch 11 Metrics ===\n",
            "\tTrain Loss: 0.09190 -- Train Accuracy: 0.9719\n",
            "\t Test Loss: 0.12670 --  Test Accuracy: 0.9684\n",
            "\tBest Test Loss: 0.11577 -- Best Test Accuracy: 0.9689 at Epoch 8\n",
            "\n",
            "[*] Starting Training Epoch 12...\n"
          ]
        },
        {
          "output_type": "stream",
          "name": "stderr",
          "text": [
            "100%|██████████| 469/469 [00:08<00:00, 55.99it/s]\n"
          ]
        },
        {
          "output_type": "stream",
          "name": "stdout",
          "text": [
            "[*] Running Epoch 12 Validation...\n"
          ]
        },
        {
          "output_type": "stream",
          "name": "stderr",
          "text": [
            "100%|██████████| 79/79 [00:01<00:00, 58.92it/s]\n"
          ]
        },
        {
          "output_type": "stream",
          "name": "stdout",
          "text": [
            "\n",
            "=>> Epoch 12 Metrics ===\n",
            "\tTrain Loss: 0.08216 -- Train Accuracy: 0.9754\n",
            "\t Test Loss: 0.11111 --  Test Accuracy: 0.9678\n",
            "\tBest Test Loss: 0.11577 -- Best Test Accuracy: 0.9689 at Epoch 8\n",
            "\n",
            "[*] Starting Training Epoch 13...\n"
          ]
        },
        {
          "output_type": "stream",
          "name": "stderr",
          "text": [
            "100%|██████████| 469/469 [00:10<00:00, 46.65it/s]\n"
          ]
        },
        {
          "output_type": "stream",
          "name": "stdout",
          "text": [
            "[*] Running Epoch 13 Validation...\n"
          ]
        },
        {
          "output_type": "stream",
          "name": "stderr",
          "text": [
            "100%|██████████| 79/79 [00:02<00:00, 28.60it/s]\n"
          ]
        },
        {
          "output_type": "stream",
          "name": "stdout",
          "text": [
            "\n",
            "=>> Epoch 13 Metrics ===\n",
            "\tTrain Loss: 0.08060 -- Train Accuracy: 0.9753\n",
            "\t Test Loss: 0.11049 --  Test Accuracy: 0.9707\n",
            "\tBest Test Loss: 0.11049 -- Best Test Accuracy: 0.9707 at Epoch 13\n",
            "\n",
            "[*] Starting Training Epoch 14...\n"
          ]
        },
        {
          "output_type": "stream",
          "name": "stderr",
          "text": [
            "100%|██████████| 469/469 [00:08<00:00, 54.69it/s]\n"
          ]
        },
        {
          "output_type": "stream",
          "name": "stdout",
          "text": [
            "[*] Running Epoch 14 Validation...\n"
          ]
        },
        {
          "output_type": "stream",
          "name": "stderr",
          "text": [
            "100%|██████████| 79/79 [00:01<00:00, 57.39it/s]\n"
          ]
        },
        {
          "output_type": "stream",
          "name": "stdout",
          "text": [
            "\n",
            "=>> Epoch 14 Metrics ===\n",
            "\tTrain Loss: 0.07139 -- Train Accuracy: 0.9784\n",
            "\t Test Loss: 0.13825 --  Test Accuracy: 0.9643\n",
            "\tBest Test Loss: 0.11049 -- Best Test Accuracy: 0.9707 at Epoch 13\n",
            "\n",
            "[*] Starting Training Epoch 15...\n"
          ]
        },
        {
          "output_type": "stream",
          "name": "stderr",
          "text": [
            "100%|██████████| 469/469 [00:09<00:00, 47.96it/s]\n"
          ]
        },
        {
          "output_type": "stream",
          "name": "stdout",
          "text": [
            "[*] Running Epoch 15 Validation...\n"
          ]
        },
        {
          "output_type": "stream",
          "name": "stderr",
          "text": [
            "100%|██████████| 79/79 [00:01<00:00, 60.29it/s]\n"
          ]
        },
        {
          "output_type": "stream",
          "name": "stdout",
          "text": [
            "\n",
            "=>> Epoch 15 Metrics ===\n",
            "\tTrain Loss: 0.06475 -- Train Accuracy: 0.9804\n",
            "\t Test Loss: 0.12502 --  Test Accuracy: 0.9695\n",
            "\tBest Test Loss: 0.11049 -- Best Test Accuracy: 0.9707 at Epoch 13\n",
            "\n",
            "[*] Starting Training Epoch 16...\n"
          ]
        },
        {
          "output_type": "stream",
          "name": "stderr",
          "text": [
            "100%|██████████| 469/469 [00:08<00:00, 56.10it/s]\n"
          ]
        },
        {
          "output_type": "stream",
          "name": "stdout",
          "text": [
            "[*] Running Epoch 16 Validation...\n"
          ]
        },
        {
          "output_type": "stream",
          "name": "stderr",
          "text": [
            "100%|██████████| 79/79 [00:01<00:00, 57.05it/s]\n"
          ]
        },
        {
          "output_type": "stream",
          "name": "stdout",
          "text": [
            "\n",
            "=>> Epoch 16 Metrics ===\n",
            "\tTrain Loss: 0.06765 -- Train Accuracy: 0.9787\n",
            "\t Test Loss: 0.13831 --  Test Accuracy: 0.9673\n",
            "\tBest Test Loss: 0.11049 -- Best Test Accuracy: 0.9707 at Epoch 13\n",
            "\n",
            "[*] Starting Training Epoch 17...\n"
          ]
        },
        {
          "output_type": "stream",
          "name": "stderr",
          "text": [
            "100%|██████████| 469/469 [00:08<00:00, 56.43it/s]\n"
          ]
        },
        {
          "output_type": "stream",
          "name": "stdout",
          "text": [
            "[*] Running Epoch 17 Validation...\n"
          ]
        },
        {
          "output_type": "stream",
          "name": "stderr",
          "text": [
            "100%|██████████| 79/79 [00:01<00:00, 45.64it/s]\n"
          ]
        },
        {
          "output_type": "stream",
          "name": "stdout",
          "text": [
            "\n",
            "=>> Epoch 17 Metrics ===\n",
            "\tTrain Loss: 0.05215 -- Train Accuracy: 0.9834\n",
            "\t Test Loss: 0.14914 --  Test Accuracy: 0.9657\n",
            "\tBest Test Loss: 0.11049 -- Best Test Accuracy: 0.9707 at Epoch 13\n",
            "\n",
            "[*] Starting Training Epoch 18...\n"
          ]
        },
        {
          "output_type": "stream",
          "name": "stderr",
          "text": [
            "100%|██████████| 469/469 [00:11<00:00, 40.70it/s]\n"
          ]
        },
        {
          "output_type": "stream",
          "name": "stdout",
          "text": [
            "[*] Running Epoch 18 Validation...\n"
          ]
        },
        {
          "output_type": "stream",
          "name": "stderr",
          "text": [
            "100%|██████████| 79/79 [00:01<00:00, 59.86it/s]\n"
          ]
        },
        {
          "output_type": "stream",
          "name": "stdout",
          "text": [
            "\n",
            "=>> Epoch 18 Metrics ===\n",
            "\tTrain Loss: 0.05239 -- Train Accuracy: 0.9843\n",
            "\t Test Loss: 0.10580 --  Test Accuracy: 0.9773\n",
            "\tBest Test Loss: 0.10580 -- Best Test Accuracy: 0.9773 at Epoch 18\n",
            "\n",
            "[*] Starting Training Epoch 19...\n"
          ]
        },
        {
          "output_type": "stream",
          "name": "stderr",
          "text": [
            "100%|██████████| 469/469 [00:08<00:00, 56.49it/s]\n"
          ]
        },
        {
          "output_type": "stream",
          "name": "stdout",
          "text": [
            "[*] Running Epoch 19 Validation...\n"
          ]
        },
        {
          "output_type": "stream",
          "name": "stderr",
          "text": [
            "100%|██████████| 79/79 [00:01<00:00, 59.66it/s]\n"
          ]
        },
        {
          "output_type": "stream",
          "name": "stdout",
          "text": [
            "\n",
            "=>> Epoch 19 Metrics ===\n",
            "\tTrain Loss: 0.04766 -- Train Accuracy: 0.9854\n",
            "\t Test Loss: 0.11274 --  Test Accuracy: 0.9763\n",
            "\tBest Test Loss: 0.10580 -- Best Test Accuracy: 0.9773 at Epoch 18\n",
            "\n",
            "[*] Starting Training Epoch 20...\n"
          ]
        },
        {
          "output_type": "stream",
          "name": "stderr",
          "text": [
            "100%|██████████| 469/469 [00:08<00:00, 56.51it/s]\n"
          ]
        },
        {
          "output_type": "stream",
          "name": "stdout",
          "text": [
            "[*] Running Epoch 20 Validation...\n"
          ]
        },
        {
          "output_type": "stream",
          "name": "stderr",
          "text": [
            "100%|██████████| 79/79 [00:01<00:00, 57.93it/s]\n"
          ]
        },
        {
          "output_type": "stream",
          "name": "stdout",
          "text": [
            "\n",
            "=>> Epoch 20 Metrics ===\n",
            "\tTrain Loss: 0.04046 -- Train Accuracy: 0.9871\n",
            "\t Test Loss: 0.11471 --  Test Accuracy: 0.9746\n",
            "\tBest Test Loss: 0.10580 -- Best Test Accuracy: 0.9773 at Epoch 18\n",
            "\n",
            "[*] Starting Training Epoch 21...\n"
          ]
        },
        {
          "output_type": "stream",
          "name": "stderr",
          "text": [
            "100%|██████████| 469/469 [00:11<00:00, 41.92it/s]\n"
          ]
        },
        {
          "output_type": "stream",
          "name": "stdout",
          "text": [
            "[*] Running Epoch 21 Validation...\n"
          ]
        },
        {
          "output_type": "stream",
          "name": "stderr",
          "text": [
            "100%|██████████| 79/79 [00:01<00:00, 55.58it/s]\n"
          ]
        },
        {
          "output_type": "stream",
          "name": "stdout",
          "text": [
            "\n",
            "=>> Epoch 21 Metrics ===\n",
            "\tTrain Loss: 0.03782 -- Train Accuracy: 0.9879\n",
            "\t Test Loss: 0.12346 --  Test Accuracy: 0.9726\n",
            "\tBest Test Loss: 0.10580 -- Best Test Accuracy: 0.9773 at Epoch 18\n",
            "\n",
            "[*] Starting Training Epoch 22...\n"
          ]
        },
        {
          "output_type": "stream",
          "name": "stderr",
          "text": [
            "100%|██████████| 469/469 [00:11<00:00, 40.49it/s]\n"
          ]
        },
        {
          "output_type": "stream",
          "name": "stdout",
          "text": [
            "[*] Running Epoch 22 Validation...\n"
          ]
        },
        {
          "output_type": "stream",
          "name": "stderr",
          "text": [
            "100%|██████████| 79/79 [00:01<00:00, 57.98it/s]\n"
          ]
        },
        {
          "output_type": "stream",
          "name": "stdout",
          "text": [
            "\n",
            "=>> Epoch 22 Metrics ===\n",
            "\tTrain Loss: 0.02740 -- Train Accuracy: 0.9910\n",
            "\t Test Loss: 0.10834 --  Test Accuracy: 0.9770\n",
            "\tBest Test Loss: 0.10580 -- Best Test Accuracy: 0.9773 at Epoch 18\n",
            "\n",
            "[*] Starting Training Epoch 23...\n"
          ]
        },
        {
          "output_type": "stream",
          "name": "stderr",
          "text": [
            "100%|██████████| 469/469 [00:08<00:00, 54.80it/s]\n"
          ]
        },
        {
          "output_type": "stream",
          "name": "stdout",
          "text": [
            "[*] Running Epoch 23 Validation...\n"
          ]
        },
        {
          "output_type": "stream",
          "name": "stderr",
          "text": [
            "100%|██████████| 79/79 [00:01<00:00, 56.64it/s]\n"
          ]
        },
        {
          "output_type": "stream",
          "name": "stdout",
          "text": [
            "\n",
            "=>> Epoch 23 Metrics ===\n",
            "\tTrain Loss: 0.02445 -- Train Accuracy: 0.9923\n",
            "\t Test Loss: 0.11879 --  Test Accuracy: 0.9754\n",
            "\tBest Test Loss: 0.10580 -- Best Test Accuracy: 0.9773 at Epoch 18\n",
            "\n",
            "[*] Starting Training Epoch 24...\n"
          ]
        },
        {
          "output_type": "stream",
          "name": "stderr",
          "text": [
            "100%|██████████| 469/469 [00:08<00:00, 54.95it/s]\n"
          ]
        },
        {
          "output_type": "stream",
          "name": "stdout",
          "text": [
            "[*] Running Epoch 24 Validation...\n"
          ]
        },
        {
          "output_type": "stream",
          "name": "stderr",
          "text": [
            "100%|██████████| 79/79 [00:01<00:00, 60.01it/s]\n"
          ]
        },
        {
          "output_type": "stream",
          "name": "stdout",
          "text": [
            "\n",
            "=>> Epoch 24 Metrics ===\n",
            "\tTrain Loss: 0.02251 -- Train Accuracy: 0.9925\n",
            "\t Test Loss: 0.09965 --  Test Accuracy: 0.9804\n",
            "\tBest Test Loss: 0.09965 -- Best Test Accuracy: 0.9804 at Epoch 24\n",
            "\n",
            "[*] Starting Training Epoch 25...\n"
          ]
        },
        {
          "output_type": "stream",
          "name": "stderr",
          "text": [
            "100%|██████████| 469/469 [00:08<00:00, 56.59it/s]\n"
          ]
        },
        {
          "output_type": "stream",
          "name": "stdout",
          "text": [
            "[*] Running Epoch 25 Validation...\n"
          ]
        },
        {
          "output_type": "stream",
          "name": "stderr",
          "text": [
            "100%|██████████| 79/79 [00:01<00:00, 59.09it/s]\n"
          ]
        },
        {
          "output_type": "stream",
          "name": "stdout",
          "text": [
            "\n",
            "=>> Epoch 25 Metrics ===\n",
            "\tTrain Loss: 0.01603 -- Train Accuracy: 0.9948\n",
            "\t Test Loss: 0.11312 --  Test Accuracy: 0.9778\n",
            "\tBest Test Loss: 0.09965 -- Best Test Accuracy: 0.9804 at Epoch 24\n",
            "\n",
            "[*] Starting Training Epoch 26...\n"
          ]
        },
        {
          "output_type": "stream",
          "name": "stderr",
          "text": [
            "100%|██████████| 469/469 [00:08<00:00, 55.82it/s]\n"
          ]
        },
        {
          "output_type": "stream",
          "name": "stdout",
          "text": [
            "[*] Running Epoch 26 Validation...\n"
          ]
        },
        {
          "output_type": "stream",
          "name": "stderr",
          "text": [
            "100%|██████████| 79/79 [00:01<00:00, 59.40it/s]\n"
          ]
        },
        {
          "output_type": "stream",
          "name": "stdout",
          "text": [
            "\n",
            "=>> Epoch 26 Metrics ===\n",
            "\tTrain Loss: 0.00996 -- Train Accuracy: 0.9967\n",
            "\t Test Loss: 0.10197 --  Test Accuracy: 0.9802\n",
            "\tBest Test Loss: 0.09965 -- Best Test Accuracy: 0.9804 at Epoch 24\n",
            "\n",
            "[*] Starting Training Epoch 27...\n"
          ]
        },
        {
          "output_type": "stream",
          "name": "stderr",
          "text": [
            "100%|██████████| 469/469 [00:11<00:00, 40.60it/s]\n"
          ]
        },
        {
          "output_type": "stream",
          "name": "stdout",
          "text": [
            "[*] Running Epoch 27 Validation...\n"
          ]
        },
        {
          "output_type": "stream",
          "name": "stderr",
          "text": [
            "100%|██████████| 79/79 [00:01<00:00, 57.30it/s]\n"
          ]
        },
        {
          "output_type": "stream",
          "name": "stdout",
          "text": [
            "\n",
            "=>> Epoch 27 Metrics ===\n",
            "\tTrain Loss: 0.00986 -- Train Accuracy: 0.9966\n",
            "\t Test Loss: 0.10465 --  Test Accuracy: 0.9796\n",
            "\tBest Test Loss: 0.09965 -- Best Test Accuracy: 0.9804 at Epoch 24\n",
            "\n",
            "[*] Starting Training Epoch 28...\n"
          ]
        },
        {
          "output_type": "stream",
          "name": "stderr",
          "text": [
            "100%|██████████| 469/469 [00:08<00:00, 55.18it/s]\n"
          ]
        },
        {
          "output_type": "stream",
          "name": "stdout",
          "text": [
            "[*] Running Epoch 28 Validation...\n"
          ]
        },
        {
          "output_type": "stream",
          "name": "stderr",
          "text": [
            "100%|██████████| 79/79 [00:01<00:00, 60.20it/s]\n"
          ]
        },
        {
          "output_type": "stream",
          "name": "stdout",
          "text": [
            "\n",
            "=>> Epoch 28 Metrics ===\n",
            "\tTrain Loss: 0.00553 -- Train Accuracy: 0.9981\n",
            "\t Test Loss: 0.11002 --  Test Accuracy: 0.9790\n",
            "\tBest Test Loss: 0.09965 -- Best Test Accuracy: 0.9804 at Epoch 24\n",
            "\n",
            "[*] Starting Training Epoch 29...\n"
          ]
        },
        {
          "output_type": "stream",
          "name": "stderr",
          "text": [
            "100%|██████████| 469/469 [00:08<00:00, 55.72it/s]\n"
          ]
        },
        {
          "output_type": "stream",
          "name": "stdout",
          "text": [
            "[*] Running Epoch 29 Validation...\n"
          ]
        },
        {
          "output_type": "stream",
          "name": "stderr",
          "text": [
            "100%|██████████| 79/79 [00:01<00:00, 56.88it/s]\n"
          ]
        },
        {
          "output_type": "stream",
          "name": "stdout",
          "text": [
            "\n",
            "=>> Epoch 29 Metrics ===\n",
            "\tTrain Loss: 0.00381 -- Train Accuracy: 0.9989\n",
            "\t Test Loss: 0.11557 --  Test Accuracy: 0.9806\n",
            "\tBest Test Loss: 0.11557 -- Best Test Accuracy: 0.9806 at Epoch 29\n",
            "\n",
            "[*] Starting Training Epoch 30...\n"
          ]
        },
        {
          "output_type": "stream",
          "name": "stderr",
          "text": [
            "100%|██████████| 469/469 [00:08<00:00, 55.07it/s]\n"
          ]
        },
        {
          "output_type": "stream",
          "name": "stdout",
          "text": [
            "[*] Running Epoch 30 Validation...\n"
          ]
        },
        {
          "output_type": "stream",
          "name": "stderr",
          "text": [
            "100%|██████████| 79/79 [00:01<00:00, 59.08it/s]\n"
          ]
        },
        {
          "output_type": "stream",
          "name": "stdout",
          "text": [
            "\n",
            "=>> Epoch 30 Metrics ===\n",
            "\tTrain Loss: 0.00242 -- Train Accuracy: 0.9994\n",
            "\t Test Loss: 0.11114 --  Test Accuracy: 0.9811\n",
            "\tBest Test Loss: 0.11114 -- Best Test Accuracy: 0.9811 at Epoch 30\n",
            "\n",
            "[*] Starting Training Epoch 31...\n"
          ]
        },
        {
          "output_type": "stream",
          "name": "stderr",
          "text": [
            "100%|██████████| 469/469 [00:09<00:00, 50.88it/s]\n"
          ]
        },
        {
          "output_type": "stream",
          "name": "stdout",
          "text": [
            "[*] Running Epoch 31 Validation...\n"
          ]
        },
        {
          "output_type": "stream",
          "name": "stderr",
          "text": [
            "100%|██████████| 79/79 [00:02<00:00, 30.67it/s]\n"
          ]
        },
        {
          "output_type": "stream",
          "name": "stdout",
          "text": [
            "\n",
            "=>> Epoch 31 Metrics ===\n",
            "\tTrain Loss: 0.00126 -- Train Accuracy: 0.9998\n",
            "\t Test Loss: 0.10484 --  Test Accuracy: 0.9815\n",
            "\tBest Test Loss: 0.10484 -- Best Test Accuracy: 0.9815 at Epoch 31\n",
            "\n",
            "[*] Starting Training Epoch 32...\n"
          ]
        },
        {
          "output_type": "stream",
          "name": "stderr",
          "text": [
            "100%|██████████| 469/469 [00:09<00:00, 50.89it/s]\n"
          ]
        },
        {
          "output_type": "stream",
          "name": "stdout",
          "text": [
            "[*] Running Epoch 32 Validation...\n"
          ]
        },
        {
          "output_type": "stream",
          "name": "stderr",
          "text": [
            "100%|██████████| 79/79 [00:01<00:00, 57.22it/s]\n"
          ]
        },
        {
          "output_type": "stream",
          "name": "stdout",
          "text": [
            "\n",
            "=>> Epoch 32 Metrics ===\n",
            "\tTrain Loss: 0.00085 -- Train Accuracy: 0.9999\n",
            "\t Test Loss: 0.10680 --  Test Accuracy: 0.9815\n",
            "\tBest Test Loss: 0.10484 -- Best Test Accuracy: 0.9815 at Epoch 31\n",
            "\n",
            "[*] Starting Training Epoch 33...\n"
          ]
        },
        {
          "output_type": "stream",
          "name": "stderr",
          "text": [
            "100%|██████████| 469/469 [00:08<00:00, 56.87it/s]\n"
          ]
        },
        {
          "output_type": "stream",
          "name": "stdout",
          "text": [
            "[*] Running Epoch 33 Validation...\n"
          ]
        },
        {
          "output_type": "stream",
          "name": "stderr",
          "text": [
            "100%|██████████| 79/79 [00:01<00:00, 62.92it/s]\n"
          ]
        },
        {
          "output_type": "stream",
          "name": "stdout",
          "text": [
            "\n",
            "=>> Epoch 33 Metrics ===\n",
            "\tTrain Loss: 0.00058 -- Train Accuracy: 0.9999\n",
            "\t Test Loss: 0.10734 --  Test Accuracy: 0.9821\n",
            "\tBest Test Loss: 0.10734 -- Best Test Accuracy: 0.9821 at Epoch 33\n",
            "\n",
            "[*] Starting Training Epoch 34...\n"
          ]
        },
        {
          "output_type": "stream",
          "name": "stderr",
          "text": [
            "100%|██████████| 469/469 [00:08<00:00, 56.73it/s]\n"
          ]
        },
        {
          "output_type": "stream",
          "name": "stdout",
          "text": [
            "[*] Running Epoch 34 Validation...\n"
          ]
        },
        {
          "output_type": "stream",
          "name": "stderr",
          "text": [
            "100%|██████████| 79/79 [00:01<00:00, 61.23it/s]\n"
          ]
        },
        {
          "output_type": "stream",
          "name": "stdout",
          "text": [
            "\n",
            "=>> Epoch 34 Metrics ===\n",
            "\tTrain Loss: 0.00047 -- Train Accuracy: 1.0000\n",
            "\t Test Loss: 0.10646 --  Test Accuracy: 0.9821\n",
            "\tBest Test Loss: 0.10734 -- Best Test Accuracy: 0.9821 at Epoch 33\n",
            "\n",
            "[*] Starting Training Epoch 35...\n"
          ]
        },
        {
          "output_type": "stream",
          "name": "stderr",
          "text": [
            "100%|██████████| 469/469 [00:08<00:00, 56.45it/s]\n"
          ]
        },
        {
          "output_type": "stream",
          "name": "stdout",
          "text": [
            "[*] Running Epoch 35 Validation...\n"
          ]
        },
        {
          "output_type": "stream",
          "name": "stderr",
          "text": [
            "100%|██████████| 79/79 [00:01<00:00, 58.20it/s]\n"
          ]
        },
        {
          "output_type": "stream",
          "name": "stdout",
          "text": [
            "\n",
            "=>> Epoch 35 Metrics ===\n",
            "\tTrain Loss: 0.00039 -- Train Accuracy: 1.0000\n",
            "\t Test Loss: 0.10721 --  Test Accuracy: 0.9816\n",
            "\tBest Test Loss: 0.10734 -- Best Test Accuracy: 0.9821 at Epoch 33\n",
            "\n",
            "[*] Starting Training Epoch 36...\n"
          ]
        },
        {
          "output_type": "stream",
          "name": "stderr",
          "text": [
            "100%|██████████| 469/469 [00:11<00:00, 40.86it/s]\n"
          ]
        },
        {
          "output_type": "stream",
          "name": "stdout",
          "text": [
            "[*] Running Epoch 36 Validation...\n"
          ]
        },
        {
          "output_type": "stream",
          "name": "stderr",
          "text": [
            "100%|██████████| 79/79 [00:01<00:00, 57.95it/s]\n"
          ]
        },
        {
          "output_type": "stream",
          "name": "stdout",
          "text": [
            "\n",
            "=>> Epoch 36 Metrics ===\n",
            "\tTrain Loss: 0.00034 -- Train Accuracy: 1.0000\n",
            "\t Test Loss: 0.10784 --  Test Accuracy: 0.9818\n",
            "\tBest Test Loss: 0.10734 -- Best Test Accuracy: 0.9821 at Epoch 33\n",
            "\n",
            "[*] Starting Training Epoch 37...\n"
          ]
        },
        {
          "output_type": "stream",
          "name": "stderr",
          "text": [
            "100%|██████████| 469/469 [00:08<00:00, 55.53it/s]\n"
          ]
        },
        {
          "output_type": "stream",
          "name": "stdout",
          "text": [
            "[*] Running Epoch 37 Validation...\n"
          ]
        },
        {
          "output_type": "stream",
          "name": "stderr",
          "text": [
            "100%|██████████| 79/79 [00:01<00:00, 58.34it/s]\n"
          ]
        },
        {
          "output_type": "stream",
          "name": "stdout",
          "text": [
            "\n",
            "=>> Epoch 37 Metrics ===\n",
            "\tTrain Loss: 0.00030 -- Train Accuracy: 1.0000\n",
            "\t Test Loss: 0.10715 --  Test Accuracy: 0.9816\n",
            "\tBest Test Loss: 0.10734 -- Best Test Accuracy: 0.9821 at Epoch 33\n",
            "\n",
            "[*] Starting Training Epoch 38...\n"
          ]
        },
        {
          "output_type": "stream",
          "name": "stderr",
          "text": [
            "100%|██████████| 469/469 [00:08<00:00, 56.33it/s]\n"
          ]
        },
        {
          "output_type": "stream",
          "name": "stdout",
          "text": [
            "[*] Running Epoch 38 Validation...\n"
          ]
        },
        {
          "output_type": "stream",
          "name": "stderr",
          "text": [
            "100%|██████████| 79/79 [00:01<00:00, 61.36it/s]\n"
          ]
        },
        {
          "output_type": "stream",
          "name": "stdout",
          "text": [
            "\n",
            "=>> Epoch 38 Metrics ===\n",
            "\tTrain Loss: 0.00027 -- Train Accuracy: 1.0000\n",
            "\t Test Loss: 0.10745 --  Test Accuracy: 0.9814\n",
            "\tBest Test Loss: 0.10734 -- Best Test Accuracy: 0.9821 at Epoch 33\n",
            "\n",
            "[*] Starting Training Epoch 39...\n"
          ]
        },
        {
          "output_type": "stream",
          "name": "stderr",
          "text": [
            "100%|██████████| 469/469 [00:11<00:00, 41.01it/s]\n"
          ]
        },
        {
          "output_type": "stream",
          "name": "stdout",
          "text": [
            "[*] Running Epoch 39 Validation...\n"
          ]
        },
        {
          "output_type": "stream",
          "name": "stderr",
          "text": [
            "100%|██████████| 79/79 [00:01<00:00, 61.55it/s]\n"
          ]
        },
        {
          "output_type": "stream",
          "name": "stdout",
          "text": [
            "\n",
            "=>> Epoch 39 Metrics ===\n",
            "\tTrain Loss: 0.00025 -- Train Accuracy: 1.0000\n",
            "\t Test Loss: 0.10773 --  Test Accuracy: 0.9815\n",
            "\tBest Test Loss: 0.10734 -- Best Test Accuracy: 0.9821 at Epoch 33\n",
            "\n",
            "[*] Starting Training Epoch 40...\n"
          ]
        },
        {
          "output_type": "stream",
          "name": "stderr",
          "text": [
            "100%|██████████| 469/469 [00:10<00:00, 42.66it/s]\n"
          ]
        },
        {
          "output_type": "stream",
          "name": "stdout",
          "text": [
            "[*] Running Epoch 40 Validation...\n"
          ]
        },
        {
          "output_type": "stream",
          "name": "stderr",
          "text": [
            "100%|██████████| 79/79 [00:01<00:00, 50.44it/s]"
          ]
        },
        {
          "output_type": "stream",
          "name": "stdout",
          "text": [
            "\n",
            "=>> Epoch 40 Metrics ===\n",
            "\tTrain Loss: 0.00024 -- Train Accuracy: 1.0000\n",
            "\t Test Loss: 0.10775 --  Test Accuracy: 0.9815\n",
            "\tBest Test Loss: 0.10734 -- Best Test Accuracy: 0.9821 at Epoch 33\n",
            "\n"
          ]
        },
        {
          "output_type": "stream",
          "name": "stderr",
          "text": [
            "\n"
          ]
        }
      ]
    },
    {
      "cell_type": "markdown",
      "source": [
        "## Real linear"
      ],
      "metadata": {
        "id": "YbpxY2tmPXFV"
      }
    },
    {
      "cell_type": "code",
      "source": [
        "class ModelLinearReal(nn.Module):\n",
        "    layer_cls: nn.Module\n",
        "    layer: dict  # Extra arguments to pass into layer constructor\n",
        "    d_output: int\n",
        "    d_model: int\n",
        "    n_layers: int\n",
        "    prenorm: bool = True\n",
        "    dropout: float = 0.0\n",
        "    embedding: bool = False  # Use nn.Embed instead of nn.Dense encoder\n",
        "    classification: bool = False\n",
        "    training: bool = True\n",
        "    decode: bool = False  # Probably should be moved into layer_args\n",
        "\n",
        "    def setup(self):\n",
        "        self.linear = nn.Dense(128)\n",
        "        self.lay1 = nn.Dense(200)\n",
        "        self.lay2 = nn.Dense(200)\n",
        "        self.classifier = nn.Dense(10)\n",
        "    \n",
        "    def __call__(self, x):\n",
        "        print('x', x.shape)\n",
        "        # x = x.squeeze()\n",
        "        x = self.linear(x)\n",
        "        print(x.shape)\n",
        "        x = self.lay1(x)\n",
        "        print('lay1', x.shape)\n",
        "        x = self.lay2(nn.relu(x))\n",
        "        print('lat2', x.shape)\n",
        "        x = np.mean(x, axis=0)\n",
        "        print('mean', x.shape)\n",
        "        x = self.classifier(nn.relu(x))\n",
        "        print('class', x.shape)\n",
        "        return nn.log_softmax(x, axis=-1)"
      ],
      "metadata": {
        "id": "zsda7SO_PZUx"
      },
      "execution_count": null,
      "outputs": []
    },
    {
      "cell_type": "code",
      "source": [
        "BatchModelLinearReal = nn.vmap(\n",
        "    ModelLinearReal,\n",
        "    in_axes=0,\n",
        "    out_axes=0,\n",
        "    variable_axes={\"params\": None, \"dropout\": None, \"cache\": 0, \"prime\": None},\n",
        "    split_rngs={\"params\": False, \"dropout\": True},\n",
        ")"
      ],
      "metadata": {
        "id": "yZsdSbpZP5o1"
      },
      "execution_count": null,
      "outputs": []
    },
    {
      "cell_type": "code",
      "source": [
        "run_learning_with_batchmodel(BatchModelLinearReal)"
      ],
      "metadata": {
        "colab": {
          "base_uri": "https://localhost:8080/",
          "height": 1000
        },
        "id": "uSVyH2F0P7rk",
        "outputId": "adb346c9-ccfb-4e29-a03e-ca75684d27ab"
      },
      "execution_count": null,
      "outputs": [
        {
          "output_type": "stream",
          "name": "stderr",
          "text": [
            "\u001b[34m\u001b[1mwandb\u001b[0m: \u001b[33mWARNING\u001b[0m If you're specifying your api key in code, ensure this code is not shared publicly.\n",
            "\u001b[34m\u001b[1mwandb\u001b[0m: \u001b[33mWARNING\u001b[0m Consider setting the WANDB_API_KEY environment variable, or running `wandb login` from the command line.\n",
            "\u001b[34m\u001b[1mwandb\u001b[0m: Appending key for api.wandb.ai to your netrc file: /root/.netrc\n"
          ]
        },
        {
          "output_type": "display_data",
          "data": {
            "text/plain": [
              "<IPython.core.display.HTML object>"
            ],
            "text/html": [
              "Tracking run with wandb version 0.13.5"
            ]
          },
          "metadata": {}
        },
        {
          "output_type": "display_data",
          "data": {
            "text/plain": [
              "<IPython.core.display.HTML object>"
            ],
            "text/html": [
              "Run data is saved locally in <code>/content/annotated-s4/wandb/run-20221108_221830-13yr0ysp</code>"
            ]
          },
          "metadata": {}
        },
        {
          "output_type": "display_data",
          "data": {
            "text/plain": [
              "<IPython.core.display.HTML object>"
            ],
            "text/html": [
              "Syncing run <strong><a href=\"https://wandb.ai/messlav/s4/runs/13yr0ysp\" target=\"_blank\">glowing-forest-16</a></strong> to <a href=\"https://wandb.ai/messlav/s4\" target=\"_blank\">Weights & Biases</a> (<a href=\"https://wandb.me/run\" target=\"_blank\">docs</a>)<br/>"
            ]
          },
          "metadata": {}
        },
        {
          "output_type": "stream",
          "name": "stdout",
          "text": [
            "[*] Setting Randomness...\n",
            "[*] Generating MNIST Classification Dataset...\n",
            "[*] Starting `s4` Training on `mnist-classification` =>> Initializing...\n",
            "x (784, 1)\n",
            "(784, 128)\n",
            "lay1 (784, 200)\n",
            "lat2 (784, 200)\n",
            "mean (200,)\n",
            "class (10,)\n",
            "[*] Trainable Parameters: 68266\n",
            "[*] Total training steps: 18760\n",
            "[*] Starting Training Epoch 1...\n"
          ]
        },
        {
          "output_type": "stream",
          "name": "stderr",
          "text": [
            "\r  0%|          | 0/469 [00:00<?, ?it/s]"
          ]
        },
        {
          "output_type": "stream",
          "name": "stdout",
          "text": [
            "x (784, 1)\n",
            "(784, 128)\n",
            "lay1 (784, 200)\n",
            "lat2 (784, 200)\n",
            "mean (200,)\n",
            "class (10,)\n"
          ]
        },
        {
          "output_type": "stream",
          "name": "stderr",
          "text": [
            " 99%|█████████▊| 463/469 [00:11<00:00, 55.99it/s]"
          ]
        },
        {
          "output_type": "stream",
          "name": "stdout",
          "text": [
            "x (784, 1)\n",
            "(784, 128)\n",
            "lay1 (784, 200)\n",
            "lat2 (784, 200)\n",
            "mean (200,)\n",
            "class (10,)\n"
          ]
        },
        {
          "output_type": "stream",
          "name": "stderr",
          "text": [
            "100%|██████████| 469/469 [00:13<00:00, 35.60it/s]\n"
          ]
        },
        {
          "output_type": "stream",
          "name": "stdout",
          "text": [
            "[*] Running Epoch 1 Validation...\n"
          ]
        },
        {
          "output_type": "stream",
          "name": "stderr",
          "text": [
            "\r  0%|          | 0/79 [00:00<?, ?it/s]"
          ]
        },
        {
          "output_type": "stream",
          "name": "stdout",
          "text": [
            "x (784, 1)\n",
            "(784, 128)\n",
            "lay1 (784, 200)\n",
            "lat2 (784, 200)\n",
            "mean (200,)\n",
            "class (10,)\n"
          ]
        },
        {
          "output_type": "stream",
          "name": "stderr",
          "text": [
            " 99%|█████████▊| 78/79 [00:01<00:00, 54.95it/s]"
          ]
        },
        {
          "output_type": "stream",
          "name": "stdout",
          "text": [
            "x (784, 1)\n",
            "(784, 128)\n",
            "lay1 (784, 200)\n",
            "lat2 (784, 200)\n",
            "mean (200,)\n",
            "class (10,)\n"
          ]
        },
        {
          "output_type": "stream",
          "name": "stderr",
          "text": [
            "\r100%|██████████| 79/79 [00:02<00:00, 30.77it/s]\n"
          ]
        },
        {
          "output_type": "stream",
          "name": "stdout",
          "text": [
            "\n",
            "=>> Epoch 1 Metrics ===\n",
            "\tTrain Loss: 2.15486 -- Train Accuracy: 0.2043\n",
            "\t Test Loss: 2.11933 --  Test Accuracy: 0.2022\n",
            "\tBest Test Loss: 2.11933 -- Best Test Accuracy: 0.2022 at Epoch 1\n",
            "\n",
            "[*] Starting Training Epoch 2...\n"
          ]
        },
        {
          "output_type": "stream",
          "name": "stderr",
          "text": [
            "100%|██████████| 469/469 [00:09<00:00, 49.42it/s]\n"
          ]
        },
        {
          "output_type": "stream",
          "name": "stdout",
          "text": [
            "[*] Running Epoch 2 Validation...\n"
          ]
        },
        {
          "output_type": "stream",
          "name": "stderr",
          "text": [
            "100%|██████████| 79/79 [00:02<00:00, 28.29it/s]\n"
          ]
        },
        {
          "output_type": "stream",
          "name": "stdout",
          "text": [
            "\n",
            "=>> Epoch 2 Metrics ===\n",
            "\tTrain Loss: 2.10984 -- Train Accuracy: 0.2115\n",
            "\t Test Loss: 2.10532 --  Test Accuracy: 0.2069\n",
            "\tBest Test Loss: 2.10532 -- Best Test Accuracy: 0.2069 at Epoch 2\n",
            "\n",
            "[*] Starting Training Epoch 3...\n"
          ]
        },
        {
          "output_type": "stream",
          "name": "stderr",
          "text": [
            "100%|██████████| 469/469 [00:09<00:00, 49.56it/s]\n"
          ]
        },
        {
          "output_type": "stream",
          "name": "stdout",
          "text": [
            "[*] Running Epoch 3 Validation...\n"
          ]
        },
        {
          "output_type": "stream",
          "name": "stderr",
          "text": [
            "100%|██████████| 79/79 [00:01<00:00, 56.15it/s]\n"
          ]
        },
        {
          "output_type": "stream",
          "name": "stdout",
          "text": [
            "\n",
            "=>> Epoch 3 Metrics ===\n",
            "\tTrain Loss: 2.08095 -- Train Accuracy: 0.2222\n",
            "\t Test Loss: 2.09260 --  Test Accuracy: 0.2192\n",
            "\tBest Test Loss: 2.09260 -- Best Test Accuracy: 0.2192 at Epoch 3\n",
            "\n",
            "[*] Starting Training Epoch 4...\n"
          ]
        },
        {
          "output_type": "stream",
          "name": "stderr",
          "text": [
            "100%|██████████| 469/469 [00:08<00:00, 54.14it/s]\n"
          ]
        },
        {
          "output_type": "stream",
          "name": "stdout",
          "text": [
            "[*] Running Epoch 4 Validation...\n"
          ]
        },
        {
          "output_type": "stream",
          "name": "stderr",
          "text": [
            "100%|██████████| 79/79 [00:01<00:00, 56.42it/s]\n"
          ]
        },
        {
          "output_type": "stream",
          "name": "stdout",
          "text": [
            "\n",
            "=>> Epoch 4 Metrics ===\n",
            "\tTrain Loss: 2.03773 -- Train Accuracy: 0.2342\n",
            "\t Test Loss: 1.96209 --  Test Accuracy: 0.2581\n",
            "\tBest Test Loss: 1.96209 -- Best Test Accuracy: 0.2581 at Epoch 4\n",
            "\n",
            "[*] Starting Training Epoch 5...\n"
          ]
        },
        {
          "output_type": "stream",
          "name": "stderr",
          "text": [
            "100%|██████████| 469/469 [00:08<00:00, 53.39it/s]\n"
          ]
        },
        {
          "output_type": "stream",
          "name": "stdout",
          "text": [
            "[*] Running Epoch 5 Validation...\n"
          ]
        },
        {
          "output_type": "stream",
          "name": "stderr",
          "text": [
            "100%|██████████| 79/79 [00:01<00:00, 55.17it/s]\n"
          ]
        },
        {
          "output_type": "stream",
          "name": "stdout",
          "text": [
            "\n",
            "=>> Epoch 5 Metrics ===\n",
            "\tTrain Loss: 1.94777 -- Train Accuracy: 0.2649\n",
            "\t Test Loss: 1.85775 --  Test Accuracy: 0.2907\n",
            "\tBest Test Loss: 1.85775 -- Best Test Accuracy: 0.2907 at Epoch 5\n",
            "\n",
            "[*] Starting Training Epoch 6...\n"
          ]
        },
        {
          "output_type": "stream",
          "name": "stderr",
          "text": [
            "100%|██████████| 469/469 [00:16<00:00, 29.00it/s]\n"
          ]
        },
        {
          "output_type": "stream",
          "name": "stdout",
          "text": [
            "[*] Running Epoch 6 Validation...\n"
          ]
        },
        {
          "output_type": "stream",
          "name": "stderr",
          "text": [
            "100%|██████████| 79/79 [00:01<00:00, 55.78it/s]\n"
          ]
        },
        {
          "output_type": "stream",
          "name": "stdout",
          "text": [
            "\n",
            "=>> Epoch 6 Metrics ===\n",
            "\tTrain Loss: 1.89699 -- Train Accuracy: 0.2827\n",
            "\t Test Loss: 1.84978 --  Test Accuracy: 0.2876\n",
            "\tBest Test Loss: 1.85775 -- Best Test Accuracy: 0.2907 at Epoch 5\n",
            "\n",
            "[*] Starting Training Epoch 7...\n"
          ]
        },
        {
          "output_type": "stream",
          "name": "stderr",
          "text": [
            "100%|██████████| 469/469 [00:08<00:00, 54.44it/s]\n"
          ]
        },
        {
          "output_type": "stream",
          "name": "stdout",
          "text": [
            "[*] Running Epoch 7 Validation...\n"
          ]
        },
        {
          "output_type": "stream",
          "name": "stderr",
          "text": [
            "100%|██████████| 79/79 [00:01<00:00, 56.11it/s]\n"
          ]
        },
        {
          "output_type": "stream",
          "name": "stdout",
          "text": [
            "\n",
            "=>> Epoch 7 Metrics ===\n",
            "\tTrain Loss: 1.89080 -- Train Accuracy: 0.2840\n",
            "\t Test Loss: 1.89159 --  Test Accuracy: 0.2796\n",
            "\tBest Test Loss: 1.85775 -- Best Test Accuracy: 0.2907 at Epoch 5\n",
            "\n",
            "[*] Starting Training Epoch 8...\n"
          ]
        },
        {
          "output_type": "stream",
          "name": "stderr",
          "text": [
            "100%|██████████| 469/469 [00:08<00:00, 52.67it/s]\n"
          ]
        },
        {
          "output_type": "stream",
          "name": "stdout",
          "text": [
            "[*] Running Epoch 8 Validation...\n"
          ]
        },
        {
          "output_type": "stream",
          "name": "stderr",
          "text": [
            "100%|██████████| 79/79 [00:01<00:00, 56.48it/s]\n"
          ]
        },
        {
          "output_type": "stream",
          "name": "stdout",
          "text": [
            "\n",
            "=>> Epoch 8 Metrics ===\n",
            "\tTrain Loss: 1.87467 -- Train Accuracy: 0.2894\n",
            "\t Test Loss: 1.86800 --  Test Accuracy: 0.2812\n",
            "\tBest Test Loss: 1.85775 -- Best Test Accuracy: 0.2907 at Epoch 5\n",
            "\n",
            "[*] Starting Training Epoch 9...\n"
          ]
        },
        {
          "output_type": "stream",
          "name": "stderr",
          "text": [
            "100%|██████████| 469/469 [00:08<00:00, 53.58it/s]\n"
          ]
        },
        {
          "output_type": "stream",
          "name": "stdout",
          "text": [
            "[*] Running Epoch 9 Validation...\n"
          ]
        },
        {
          "output_type": "stream",
          "name": "stderr",
          "text": [
            "100%|██████████| 79/79 [00:01<00:00, 57.23it/s]\n"
          ]
        },
        {
          "output_type": "stream",
          "name": "stdout",
          "text": [
            "\n",
            "=>> Epoch 9 Metrics ===\n",
            "\tTrain Loss: 1.87122 -- Train Accuracy: 0.2905\n",
            "\t Test Loss: 1.91735 --  Test Accuracy: 0.2742\n",
            "\tBest Test Loss: 1.85775 -- Best Test Accuracy: 0.2907 at Epoch 5\n",
            "\n",
            "[*] Starting Training Epoch 10...\n"
          ]
        },
        {
          "output_type": "stream",
          "name": "stderr",
          "text": [
            "100%|██████████| 469/469 [00:11<00:00, 40.13it/s]\n"
          ]
        },
        {
          "output_type": "stream",
          "name": "stdout",
          "text": [
            "[*] Running Epoch 10 Validation...\n"
          ]
        },
        {
          "output_type": "stream",
          "name": "stderr",
          "text": [
            "100%|██████████| 79/79 [00:01<00:00, 58.02it/s]\n"
          ]
        },
        {
          "output_type": "stream",
          "name": "stdout",
          "text": [
            "\n",
            "=>> Epoch 10 Metrics ===\n",
            "\tTrain Loss: 1.86576 -- Train Accuracy: 0.2921\n",
            "\t Test Loss: 1.85047 --  Test Accuracy: 0.2895\n",
            "\tBest Test Loss: 1.85775 -- Best Test Accuracy: 0.2907 at Epoch 5\n",
            "\n",
            "[*] Starting Training Epoch 11...\n"
          ]
        },
        {
          "output_type": "stream",
          "name": "stderr",
          "text": [
            "100%|██████████| 469/469 [00:08<00:00, 53.15it/s]\n"
          ]
        },
        {
          "output_type": "stream",
          "name": "stdout",
          "text": [
            "[*] Running Epoch 11 Validation...\n"
          ]
        },
        {
          "output_type": "stream",
          "name": "stderr",
          "text": [
            "100%|██████████| 79/79 [00:01<00:00, 55.35it/s]\n"
          ]
        },
        {
          "output_type": "stream",
          "name": "stdout",
          "text": [
            "\n",
            "=>> Epoch 11 Metrics ===\n",
            "\tTrain Loss: 1.86599 -- Train Accuracy: 0.2909\n",
            "\t Test Loss: 1.85389 --  Test Accuracy: 0.2952\n",
            "\tBest Test Loss: 1.85389 -- Best Test Accuracy: 0.2952 at Epoch 11\n",
            "\n",
            "[*] Starting Training Epoch 12...\n"
          ]
        },
        {
          "output_type": "stream",
          "name": "stderr",
          "text": [
            "100%|██████████| 469/469 [00:08<00:00, 52.95it/s]\n"
          ]
        },
        {
          "output_type": "stream",
          "name": "stdout",
          "text": [
            "[*] Running Epoch 12 Validation...\n"
          ]
        },
        {
          "output_type": "stream",
          "name": "stderr",
          "text": [
            "100%|██████████| 79/79 [00:01<00:00, 56.95it/s]\n"
          ]
        },
        {
          "output_type": "stream",
          "name": "stdout",
          "text": [
            "\n",
            "=>> Epoch 12 Metrics ===\n",
            "\tTrain Loss: 1.86221 -- Train Accuracy: 0.2937\n",
            "\t Test Loss: 1.83729 --  Test Accuracy: 0.3011\n",
            "\tBest Test Loss: 1.83729 -- Best Test Accuracy: 0.3011 at Epoch 12\n",
            "\n",
            "[*] Starting Training Epoch 13...\n"
          ]
        },
        {
          "output_type": "stream",
          "name": "stderr",
          "text": [
            "100%|██████████| 469/469 [00:08<00:00, 54.38it/s]\n"
          ]
        },
        {
          "output_type": "stream",
          "name": "stdout",
          "text": [
            "[*] Running Epoch 13 Validation...\n"
          ]
        },
        {
          "output_type": "stream",
          "name": "stderr",
          "text": [
            "100%|██████████| 79/79 [00:01<00:00, 56.19it/s]\n"
          ]
        },
        {
          "output_type": "stream",
          "name": "stdout",
          "text": [
            "\n",
            "=>> Epoch 13 Metrics ===\n",
            "\tTrain Loss: 1.86754 -- Train Accuracy: 0.2921\n",
            "\t Test Loss: 1.83395 --  Test Accuracy: 0.2969\n",
            "\tBest Test Loss: 1.83729 -- Best Test Accuracy: 0.3011 at Epoch 12\n",
            "\n",
            "[*] Starting Training Epoch 14...\n"
          ]
        },
        {
          "output_type": "stream",
          "name": "stderr",
          "text": [
            "100%|██████████| 469/469 [00:11<00:00, 39.48it/s]\n"
          ]
        },
        {
          "output_type": "stream",
          "name": "stdout",
          "text": [
            "[*] Running Epoch 14 Validation...\n"
          ]
        },
        {
          "output_type": "stream",
          "name": "stderr",
          "text": [
            "100%|██████████| 79/79 [00:01<00:00, 57.06it/s]\n"
          ]
        },
        {
          "output_type": "stream",
          "name": "stdout",
          "text": [
            "\n",
            "=>> Epoch 14 Metrics ===\n",
            "\tTrain Loss: 1.85885 -- Train Accuracy: 0.2947\n",
            "\t Test Loss: 1.83758 --  Test Accuracy: 0.2900\n",
            "\tBest Test Loss: 1.83729 -- Best Test Accuracy: 0.3011 at Epoch 12\n",
            "\n",
            "[*] Starting Training Epoch 15...\n"
          ]
        },
        {
          "output_type": "stream",
          "name": "stderr",
          "text": [
            "100%|██████████| 469/469 [00:09<00:00, 52.08it/s]\n"
          ]
        },
        {
          "output_type": "stream",
          "name": "stdout",
          "text": [
            "[*] Running Epoch 15 Validation...\n"
          ]
        },
        {
          "output_type": "stream",
          "name": "stderr",
          "text": [
            "100%|██████████| 79/79 [00:01<00:00, 56.00it/s]\n"
          ]
        },
        {
          "output_type": "stream",
          "name": "stdout",
          "text": [
            "\n",
            "=>> Epoch 15 Metrics ===\n",
            "\tTrain Loss: 1.86316 -- Train Accuracy: 0.2930\n",
            "\t Test Loss: 1.88900 --  Test Accuracy: 0.2735\n",
            "\tBest Test Loss: 1.83729 -- Best Test Accuracy: 0.3011 at Epoch 12\n",
            "\n",
            "[*] Starting Training Epoch 16...\n"
          ]
        },
        {
          "output_type": "stream",
          "name": "stderr",
          "text": [
            "100%|██████████| 469/469 [00:08<00:00, 53.11it/s]\n"
          ]
        },
        {
          "output_type": "stream",
          "name": "stdout",
          "text": [
            "[*] Running Epoch 16 Validation...\n"
          ]
        },
        {
          "output_type": "stream",
          "name": "stderr",
          "text": [
            "100%|██████████| 79/79 [00:01<00:00, 55.26it/s]\n"
          ]
        },
        {
          "output_type": "stream",
          "name": "stdout",
          "text": [
            "\n",
            "=>> Epoch 16 Metrics ===\n",
            "\tTrain Loss: 1.86686 -- Train Accuracy: 0.2922\n",
            "\t Test Loss: 1.85233 --  Test Accuracy: 0.2948\n",
            "\tBest Test Loss: 1.83729 -- Best Test Accuracy: 0.3011 at Epoch 12\n",
            "\n",
            "[*] Starting Training Epoch 17...\n"
          ]
        },
        {
          "output_type": "stream",
          "name": "stderr",
          "text": [
            "100%|██████████| 469/469 [00:08<00:00, 54.01it/s]\n"
          ]
        },
        {
          "output_type": "stream",
          "name": "stdout",
          "text": [
            "[*] Running Epoch 17 Validation...\n"
          ]
        },
        {
          "output_type": "stream",
          "name": "stderr",
          "text": [
            "100%|██████████| 79/79 [00:01<00:00, 57.48it/s]\n"
          ]
        },
        {
          "output_type": "stream",
          "name": "stdout",
          "text": [
            "\n",
            "=>> Epoch 17 Metrics ===\n",
            "\tTrain Loss: 1.85668 -- Train Accuracy: 0.2961\n",
            "\t Test Loss: 1.84572 --  Test Accuracy: 0.2901\n",
            "\tBest Test Loss: 1.83729 -- Best Test Accuracy: 0.3011 at Epoch 12\n",
            "\n",
            "[*] Starting Training Epoch 18...\n"
          ]
        },
        {
          "output_type": "stream",
          "name": "stderr",
          "text": [
            "100%|██████████| 469/469 [00:11<00:00, 40.14it/s]\n"
          ]
        },
        {
          "output_type": "stream",
          "name": "stdout",
          "text": [
            "[*] Running Epoch 18 Validation...\n"
          ]
        },
        {
          "output_type": "stream",
          "name": "stderr",
          "text": [
            "100%|██████████| 79/79 [00:01<00:00, 57.79it/s]\n"
          ]
        },
        {
          "output_type": "stream",
          "name": "stdout",
          "text": [
            "\n",
            "=>> Epoch 18 Metrics ===\n",
            "\tTrain Loss: 1.85210 -- Train Accuracy: 0.2978\n",
            "\t Test Loss: 1.82806 --  Test Accuracy: 0.2938\n",
            "\tBest Test Loss: 1.83729 -- Best Test Accuracy: 0.3011 at Epoch 12\n",
            "\n",
            "[*] Starting Training Epoch 19...\n"
          ]
        },
        {
          "output_type": "stream",
          "name": "stderr",
          "text": [
            "100%|██████████| 469/469 [00:08<00:00, 53.96it/s]\n"
          ]
        },
        {
          "output_type": "stream",
          "name": "stdout",
          "text": [
            "[*] Running Epoch 19 Validation...\n"
          ]
        },
        {
          "output_type": "stream",
          "name": "stderr",
          "text": [
            "100%|██████████| 79/79 [00:01<00:00, 56.60it/s]\n"
          ]
        },
        {
          "output_type": "stream",
          "name": "stdout",
          "text": [
            "\n",
            "=>> Epoch 19 Metrics ===\n",
            "\tTrain Loss: 1.85634 -- Train Accuracy: 0.2944\n",
            "\t Test Loss: 1.86491 --  Test Accuracy: 0.2906\n",
            "\tBest Test Loss: 1.83729 -- Best Test Accuracy: 0.3011 at Epoch 12\n",
            "\n",
            "[*] Starting Training Epoch 20...\n"
          ]
        },
        {
          "output_type": "stream",
          "name": "stderr",
          "text": [
            "100%|██████████| 469/469 [00:08<00:00, 53.70it/s]\n"
          ]
        },
        {
          "output_type": "stream",
          "name": "stdout",
          "text": [
            "[*] Running Epoch 20 Validation...\n"
          ]
        },
        {
          "output_type": "stream",
          "name": "stderr",
          "text": [
            "100%|██████████| 79/79 [00:01<00:00, 58.39it/s]\n"
          ]
        },
        {
          "output_type": "stream",
          "name": "stdout",
          "text": [
            "\n",
            "=>> Epoch 20 Metrics ===\n",
            "\tTrain Loss: 1.84865 -- Train Accuracy: 0.2988\n",
            "\t Test Loss: 1.82199 --  Test Accuracy: 0.3030\n",
            "\tBest Test Loss: 1.82199 -- Best Test Accuracy: 0.3030 at Epoch 20\n",
            "\n",
            "[*] Starting Training Epoch 21...\n"
          ]
        },
        {
          "output_type": "stream",
          "name": "stderr",
          "text": [
            "100%|██████████| 469/469 [00:11<00:00, 40.41it/s]\n"
          ]
        },
        {
          "output_type": "stream",
          "name": "stdout",
          "text": [
            "[*] Running Epoch 21 Validation...\n"
          ]
        },
        {
          "output_type": "stream",
          "name": "stderr",
          "text": [
            "100%|██████████| 79/79 [00:02<00:00, 29.19it/s]\n"
          ]
        },
        {
          "output_type": "stream",
          "name": "stdout",
          "text": [
            "\n",
            "=>> Epoch 21 Metrics ===\n",
            "\tTrain Loss: 1.84696 -- Train Accuracy: 0.2980\n",
            "\t Test Loss: 1.83575 --  Test Accuracy: 0.2874\n",
            "\tBest Test Loss: 1.82199 -- Best Test Accuracy: 0.3030 at Epoch 20\n",
            "\n",
            "[*] Starting Training Epoch 22...\n"
          ]
        },
        {
          "output_type": "stream",
          "name": "stderr",
          "text": [
            "100%|██████████| 469/469 [00:10<00:00, 43.85it/s]\n"
          ]
        },
        {
          "output_type": "stream",
          "name": "stdout",
          "text": [
            "[*] Running Epoch 22 Validation...\n"
          ]
        },
        {
          "output_type": "stream",
          "name": "stderr",
          "text": [
            "100%|██████████| 79/79 [00:01<00:00, 56.23it/s]\n"
          ]
        },
        {
          "output_type": "stream",
          "name": "stdout",
          "text": [
            "\n",
            "=>> Epoch 22 Metrics ===\n",
            "\tTrain Loss: 1.84626 -- Train Accuracy: 0.2992\n",
            "\t Test Loss: 1.82582 --  Test Accuracy: 0.3029\n",
            "\tBest Test Loss: 1.82199 -- Best Test Accuracy: 0.3030 at Epoch 20\n",
            "\n",
            "[*] Starting Training Epoch 23...\n"
          ]
        },
        {
          "output_type": "stream",
          "name": "stderr",
          "text": [
            "100%|██████████| 469/469 [00:08<00:00, 54.18it/s]\n"
          ]
        },
        {
          "output_type": "stream",
          "name": "stdout",
          "text": [
            "[*] Running Epoch 23 Validation...\n"
          ]
        },
        {
          "output_type": "stream",
          "name": "stderr",
          "text": [
            "100%|██████████| 79/79 [00:01<00:00, 55.47it/s]\n"
          ]
        },
        {
          "output_type": "stream",
          "name": "stdout",
          "text": [
            "\n",
            "=>> Epoch 23 Metrics ===\n",
            "\tTrain Loss: 1.84419 -- Train Accuracy: 0.2981\n",
            "\t Test Loss: 1.84184 --  Test Accuracy: 0.2922\n",
            "\tBest Test Loss: 1.82199 -- Best Test Accuracy: 0.3030 at Epoch 20\n",
            "\n",
            "[*] Starting Training Epoch 24...\n"
          ]
        },
        {
          "output_type": "stream",
          "name": "stderr",
          "text": [
            "100%|██████████| 469/469 [00:08<00:00, 55.06it/s]\n"
          ]
        },
        {
          "output_type": "stream",
          "name": "stdout",
          "text": [
            "[*] Running Epoch 24 Validation...\n"
          ]
        },
        {
          "output_type": "stream",
          "name": "stderr",
          "text": [
            "100%|██████████| 79/79 [00:01<00:00, 50.16it/s]\n"
          ]
        },
        {
          "output_type": "stream",
          "name": "stdout",
          "text": [
            "\n",
            "=>> Epoch 24 Metrics ===\n",
            "\tTrain Loss: 1.84346 -- Train Accuracy: 0.3015\n",
            "\t Test Loss: 1.82488 --  Test Accuracy: 0.3037\n",
            "\tBest Test Loss: 1.82488 -- Best Test Accuracy: 0.3037 at Epoch 24\n",
            "\n",
            "[*] Starting Training Epoch 25...\n"
          ]
        },
        {
          "output_type": "stream",
          "name": "stderr",
          "text": [
            "100%|██████████| 469/469 [00:10<00:00, 45.05it/s]\n"
          ]
        },
        {
          "output_type": "stream",
          "name": "stdout",
          "text": [
            "[*] Running Epoch 25 Validation...\n"
          ]
        },
        {
          "output_type": "stream",
          "name": "stderr",
          "text": [
            "100%|██████████| 79/79 [00:02<00:00, 29.41it/s]\n"
          ]
        },
        {
          "output_type": "stream",
          "name": "stdout",
          "text": [
            "\n",
            "=>> Epoch 25 Metrics ===\n",
            "\tTrain Loss: 1.84368 -- Train Accuracy: 0.3002\n",
            "\t Test Loss: 1.82106 --  Test Accuracy: 0.3062\n",
            "\tBest Test Loss: 1.82106 -- Best Test Accuracy: 0.3062 at Epoch 25\n",
            "\n",
            "[*] Starting Training Epoch 26...\n"
          ]
        },
        {
          "output_type": "stream",
          "name": "stderr",
          "text": [
            "100%|██████████| 469/469 [00:08<00:00, 54.46it/s]\n"
          ]
        },
        {
          "output_type": "stream",
          "name": "stdout",
          "text": [
            "[*] Running Epoch 26 Validation...\n"
          ]
        },
        {
          "output_type": "stream",
          "name": "stderr",
          "text": [
            "100%|██████████| 79/79 [00:01<00:00, 56.32it/s]\n"
          ]
        },
        {
          "output_type": "stream",
          "name": "stdout",
          "text": [
            "\n",
            "=>> Epoch 26 Metrics ===\n",
            "\tTrain Loss: 1.83878 -- Train Accuracy: 0.3035\n",
            "\t Test Loss: 1.84085 --  Test Accuracy: 0.2963\n",
            "\tBest Test Loss: 1.82106 -- Best Test Accuracy: 0.3062 at Epoch 25\n",
            "\n",
            "[*] Starting Training Epoch 27...\n"
          ]
        },
        {
          "output_type": "stream",
          "name": "stderr",
          "text": [
            "100%|██████████| 469/469 [00:08<00:00, 52.62it/s]\n"
          ]
        },
        {
          "output_type": "stream",
          "name": "stdout",
          "text": [
            "[*] Running Epoch 27 Validation...\n"
          ]
        },
        {
          "output_type": "stream",
          "name": "stderr",
          "text": [
            "100%|██████████| 79/79 [00:01<00:00, 58.71it/s]\n"
          ]
        },
        {
          "output_type": "stream",
          "name": "stdout",
          "text": [
            "\n",
            "=>> Epoch 27 Metrics ===\n",
            "\tTrain Loss: 1.83860 -- Train Accuracy: 0.3017\n",
            "\t Test Loss: 1.82403 --  Test Accuracy: 0.2968\n",
            "\tBest Test Loss: 1.82106 -- Best Test Accuracy: 0.3062 at Epoch 25\n",
            "\n",
            "[*] Starting Training Epoch 28...\n"
          ]
        },
        {
          "output_type": "stream",
          "name": "stderr",
          "text": [
            "100%|██████████| 469/469 [00:08<00:00, 53.86it/s]\n"
          ]
        },
        {
          "output_type": "stream",
          "name": "stdout",
          "text": [
            "[*] Running Epoch 28 Validation...\n"
          ]
        },
        {
          "output_type": "stream",
          "name": "stderr",
          "text": [
            "100%|██████████| 79/79 [00:01<00:00, 56.38it/s]\n"
          ]
        },
        {
          "output_type": "stream",
          "name": "stdout",
          "text": [
            "\n",
            "=>> Epoch 28 Metrics ===\n",
            "\tTrain Loss: 1.83860 -- Train Accuracy: 0.3004\n",
            "\t Test Loss: 1.81800 --  Test Accuracy: 0.3026\n",
            "\tBest Test Loss: 1.82106 -- Best Test Accuracy: 0.3062 at Epoch 25\n",
            "\n",
            "[*] Starting Training Epoch 29...\n"
          ]
        },
        {
          "output_type": "stream",
          "name": "stderr",
          "text": [
            "100%|██████████| 469/469 [00:09<00:00, 48.03it/s]\n"
          ]
        },
        {
          "output_type": "stream",
          "name": "stdout",
          "text": [
            "[*] Running Epoch 29 Validation...\n"
          ]
        },
        {
          "output_type": "stream",
          "name": "stderr",
          "text": [
            "100%|██████████| 79/79 [00:02<00:00, 29.19it/s]\n"
          ]
        },
        {
          "output_type": "stream",
          "name": "stdout",
          "text": [
            "\n",
            "=>> Epoch 29 Metrics ===\n",
            "\tTrain Loss: 1.83577 -- Train Accuracy: 0.3033\n",
            "\t Test Loss: 1.81981 --  Test Accuracy: 0.2976\n",
            "\tBest Test Loss: 1.82106 -- Best Test Accuracy: 0.3062 at Epoch 25\n",
            "\n",
            "[*] Starting Training Epoch 30...\n"
          ]
        },
        {
          "output_type": "stream",
          "name": "stderr",
          "text": [
            "100%|██████████| 469/469 [00:09<00:00, 50.85it/s]\n"
          ]
        },
        {
          "output_type": "stream",
          "name": "stdout",
          "text": [
            "[*] Running Epoch 30 Validation...\n"
          ]
        },
        {
          "output_type": "stream",
          "name": "stderr",
          "text": [
            "100%|██████████| 79/79 [00:01<00:00, 55.77it/s]\n"
          ]
        },
        {
          "output_type": "stream",
          "name": "stdout",
          "text": [
            "\n",
            "=>> Epoch 30 Metrics ===\n",
            "\tTrain Loss: 1.83228 -- Train Accuracy: 0.3048\n",
            "\t Test Loss: 1.81997 --  Test Accuracy: 0.3013\n",
            "\tBest Test Loss: 1.82106 -- Best Test Accuracy: 0.3062 at Epoch 25\n",
            "\n",
            "[*] Starting Training Epoch 31...\n"
          ]
        },
        {
          "output_type": "stream",
          "name": "stderr",
          "text": [
            "100%|██████████| 469/469 [00:08<00:00, 54.74it/s]\n"
          ]
        },
        {
          "output_type": "stream",
          "name": "stdout",
          "text": [
            "[*] Running Epoch 31 Validation...\n"
          ]
        },
        {
          "output_type": "stream",
          "name": "stderr",
          "text": [
            "100%|██████████| 79/79 [00:01<00:00, 56.12it/s]\n"
          ]
        },
        {
          "output_type": "stream",
          "name": "stdout",
          "text": [
            "\n",
            "=>> Epoch 31 Metrics ===\n",
            "\tTrain Loss: 1.83231 -- Train Accuracy: 0.3042\n",
            "\t Test Loss: 1.82395 --  Test Accuracy: 0.3000\n",
            "\tBest Test Loss: 1.82106 -- Best Test Accuracy: 0.3062 at Epoch 25\n",
            "\n",
            "[*] Starting Training Epoch 32...\n"
          ]
        },
        {
          "output_type": "stream",
          "name": "stderr",
          "text": [
            "100%|██████████| 469/469 [00:08<00:00, 52.97it/s]\n"
          ]
        },
        {
          "output_type": "stream",
          "name": "stdout",
          "text": [
            "[*] Running Epoch 32 Validation...\n"
          ]
        },
        {
          "output_type": "stream",
          "name": "stderr",
          "text": [
            "100%|██████████| 79/79 [00:01<00:00, 53.99it/s]\n"
          ]
        },
        {
          "output_type": "stream",
          "name": "stdout",
          "text": [
            "\n",
            "=>> Epoch 32 Metrics ===\n",
            "\tTrain Loss: 1.82937 -- Train Accuracy: 0.3066\n",
            "\t Test Loss: 1.82572 --  Test Accuracy: 0.3006\n",
            "\tBest Test Loss: 1.82106 -- Best Test Accuracy: 0.3062 at Epoch 25\n",
            "\n",
            "[*] Starting Training Epoch 33...\n"
          ]
        },
        {
          "output_type": "stream",
          "name": "stderr",
          "text": [
            "100%|██████████| 469/469 [00:10<00:00, 43.89it/s]\n"
          ]
        },
        {
          "output_type": "stream",
          "name": "stdout",
          "text": [
            "[*] Running Epoch 33 Validation...\n"
          ]
        },
        {
          "output_type": "stream",
          "name": "stderr",
          "text": [
            "100%|██████████| 79/79 [00:02<00:00, 30.07it/s]\n"
          ]
        },
        {
          "output_type": "stream",
          "name": "stdout",
          "text": [
            "\n",
            "=>> Epoch 33 Metrics ===\n",
            "\tTrain Loss: 1.82878 -- Train Accuracy: 0.3063\n",
            "\t Test Loss: 1.81737 --  Test Accuracy: 0.3028\n",
            "\tBest Test Loss: 1.82106 -- Best Test Accuracy: 0.3062 at Epoch 25\n",
            "\n",
            "[*] Starting Training Epoch 34...\n"
          ]
        },
        {
          "output_type": "stream",
          "name": "stderr",
          "text": [
            "100%|██████████| 469/469 [00:08<00:00, 54.82it/s]\n"
          ]
        },
        {
          "output_type": "stream",
          "name": "stdout",
          "text": [
            "[*] Running Epoch 34 Validation...\n"
          ]
        },
        {
          "output_type": "stream",
          "name": "stderr",
          "text": [
            "100%|██████████| 79/79 [00:01<00:00, 55.62it/s]\n"
          ]
        },
        {
          "output_type": "stream",
          "name": "stdout",
          "text": [
            "\n",
            "=>> Epoch 34 Metrics ===\n",
            "\tTrain Loss: 1.82878 -- Train Accuracy: 0.3074\n",
            "\t Test Loss: 1.81634 --  Test Accuracy: 0.3011\n",
            "\tBest Test Loss: 1.82106 -- Best Test Accuracy: 0.3062 at Epoch 25\n",
            "\n",
            "[*] Starting Training Epoch 35...\n"
          ]
        },
        {
          "output_type": "stream",
          "name": "stderr",
          "text": [
            "100%|██████████| 469/469 [00:08<00:00, 52.58it/s]\n"
          ]
        },
        {
          "output_type": "stream",
          "name": "stdout",
          "text": [
            "[*] Running Epoch 35 Validation...\n"
          ]
        },
        {
          "output_type": "stream",
          "name": "stderr",
          "text": [
            "100%|██████████| 79/79 [00:01<00:00, 56.76it/s]\n"
          ]
        },
        {
          "output_type": "stream",
          "name": "stdout",
          "text": [
            "\n",
            "=>> Epoch 35 Metrics ===\n",
            "\tTrain Loss: 1.82625 -- Train Accuracy: 0.3065\n",
            "\t Test Loss: 1.81735 --  Test Accuracy: 0.3012\n",
            "\tBest Test Loss: 1.82106 -- Best Test Accuracy: 0.3062 at Epoch 25\n",
            "\n",
            "[*] Starting Training Epoch 36...\n"
          ]
        },
        {
          "output_type": "stream",
          "name": "stderr",
          "text": [
            "100%|██████████| 469/469 [00:09<00:00, 51.83it/s]\n"
          ]
        },
        {
          "output_type": "stream",
          "name": "stdout",
          "text": [
            "[*] Running Epoch 36 Validation...\n"
          ]
        },
        {
          "output_type": "stream",
          "name": "stderr",
          "text": [
            "100%|██████████| 79/79 [00:02<00:00, 33.40it/s]\n"
          ]
        },
        {
          "output_type": "stream",
          "name": "stdout",
          "text": [
            "\n",
            "=>> Epoch 36 Metrics ===\n",
            "\tTrain Loss: 1.82511 -- Train Accuracy: 0.3073\n",
            "\t Test Loss: 1.81496 --  Test Accuracy: 0.3012\n",
            "\tBest Test Loss: 1.82106 -- Best Test Accuracy: 0.3062 at Epoch 25\n",
            "\n",
            "[*] Starting Training Epoch 37...\n"
          ]
        },
        {
          "output_type": "stream",
          "name": "stderr",
          "text": [
            "100%|██████████| 469/469 [00:13<00:00, 34.53it/s]\n"
          ]
        },
        {
          "output_type": "stream",
          "name": "stdout",
          "text": [
            "[*] Running Epoch 37 Validation...\n"
          ]
        },
        {
          "output_type": "stream",
          "name": "stderr",
          "text": [
            "100%|██████████| 79/79 [00:01<00:00, 53.83it/s]\n"
          ]
        },
        {
          "output_type": "stream",
          "name": "stdout",
          "text": [
            "\n",
            "=>> Epoch 37 Metrics ===\n",
            "\tTrain Loss: 1.82457 -- Train Accuracy: 0.3085\n",
            "\t Test Loss: 1.81721 --  Test Accuracy: 0.3026\n",
            "\tBest Test Loss: 1.82106 -- Best Test Accuracy: 0.3062 at Epoch 25\n",
            "\n",
            "[*] Starting Training Epoch 38...\n"
          ]
        },
        {
          "output_type": "stream",
          "name": "stderr",
          "text": [
            "100%|██████████| 469/469 [00:08<00:00, 53.33it/s]\n"
          ]
        },
        {
          "output_type": "stream",
          "name": "stdout",
          "text": [
            "[*] Running Epoch 38 Validation...\n"
          ]
        },
        {
          "output_type": "stream",
          "name": "stderr",
          "text": [
            "100%|██████████| 79/79 [00:01<00:00, 55.85it/s]\n"
          ]
        },
        {
          "output_type": "stream",
          "name": "stdout",
          "text": [
            "\n",
            "=>> Epoch 38 Metrics ===\n",
            "\tTrain Loss: 1.82361 -- Train Accuracy: 0.3080\n",
            "\t Test Loss: 1.81525 --  Test Accuracy: 0.3002\n",
            "\tBest Test Loss: 1.82106 -- Best Test Accuracy: 0.3062 at Epoch 25\n",
            "\n",
            "[*] Starting Training Epoch 39...\n"
          ]
        },
        {
          "output_type": "stream",
          "name": "stderr",
          "text": [
            "100%|██████████| 469/469 [00:08<00:00, 54.59it/s]\n"
          ]
        },
        {
          "output_type": "stream",
          "name": "stdout",
          "text": [
            "[*] Running Epoch 39 Validation...\n"
          ]
        },
        {
          "output_type": "stream",
          "name": "stderr",
          "text": [
            "100%|██████████| 79/79 [00:01<00:00, 56.39it/s]\n"
          ]
        },
        {
          "output_type": "stream",
          "name": "stdout",
          "text": [
            "\n",
            "=>> Epoch 39 Metrics ===\n",
            "\tTrain Loss: 1.82301 -- Train Accuracy: 0.3091\n",
            "\t Test Loss: 1.81473 --  Test Accuracy: 0.3030\n",
            "\tBest Test Loss: 1.82106 -- Best Test Accuracy: 0.3062 at Epoch 25\n",
            "\n",
            "[*] Starting Training Epoch 40...\n"
          ]
        },
        {
          "output_type": "stream",
          "name": "stderr",
          "text": [
            "100%|██████████| 469/469 [00:08<00:00, 52.76it/s]\n"
          ]
        },
        {
          "output_type": "stream",
          "name": "stdout",
          "text": [
            "[*] Running Epoch 40 Validation...\n"
          ]
        },
        {
          "output_type": "stream",
          "name": "stderr",
          "text": [
            "100%|██████████| 79/79 [00:01<00:00, 56.54it/s]"
          ]
        },
        {
          "output_type": "stream",
          "name": "stdout",
          "text": [
            "\n",
            "=>> Epoch 40 Metrics ===\n",
            "\tTrain Loss: 1.82273 -- Train Accuracy: 0.3090\n",
            "\t Test Loss: 1.81472 --  Test Accuracy: 0.3022\n",
            "\tBest Test Loss: 1.82106 -- Best Test Accuracy: 0.3062 at Epoch 25\n",
            "\n"
          ]
        },
        {
          "output_type": "stream",
          "name": "stderr",
          "text": [
            "\n"
          ]
        }
      ]
    },
    {
      "cell_type": "markdown",
      "source": [
        "## Conv"
      ],
      "metadata": {
        "id": "zxgihzXeDjvt"
      }
    },
    {
      "cell_type": "code",
      "source": [
        "class ModelConv(nn.Module):\n",
        "    layer_cls: nn.Module\n",
        "    layer: dict  # Extra arguments to pass into layer constructor\n",
        "    d_output: int\n",
        "    d_model: int\n",
        "    n_layers: int\n",
        "    prenorm: bool = True\n",
        "    dropout: float = 0.0\n",
        "    embedding: bool = False  # Use nn.Embed instead of nn.Dense encoder\n",
        "    classification: bool = False\n",
        "    training: bool = True\n",
        "    decode: bool = False  # Probably should be moved into layer_args\n",
        "\n",
        "    def setup(self):\n",
        "        self.conv1 = nn.Conv(200, kernel_size=(3,))\n",
        "        self.conv2 = nn.Conv(200, kernel_size=(5,))\n",
        "        self.classifier = nn.Dense(10)\n",
        "    \n",
        "    def __call__(self, x):\n",
        "        print('x', x.shape)\n",
        "        x = nn.relu(self.conv1(x))\n",
        "        print('conv1', x.shape)\n",
        "        x = nn.max_pool(x, (10,))\n",
        "        print('max_pool1', x.shape)\n",
        "\n",
        "        x = nn.relu(self.conv2(x))\n",
        "        print('conv2', x.shape)\n",
        "        x = nn.max_pool(x, (8, ))\n",
        "        print('max_pool2', x.shape)\n",
        "        x = np.mean(x, axis=0)\n",
        "        print('mean', x.shape)\n",
        "        x = self.classifier(x)\n",
        "        print('class', x.shape)\n",
        "        return nn.log_softmax(x, axis=-1)"
      ],
      "metadata": {
        "id": "J6b1h883DlA5"
      },
      "execution_count": null,
      "outputs": []
    },
    {
      "cell_type": "code",
      "source": [
        "BatchModelConv = nn.vmap(\n",
        "    ModelConv,\n",
        "    in_axes=0,\n",
        "    out_axes=0,\n",
        "    variable_axes={\"params\": None, \"dropout\": None, \"cache\": 0, \"prime\": None},\n",
        "    split_rngs={\"params\": False, \"dropout\": True},\n",
        ")"
      ],
      "metadata": {
        "id": "_VKOndQLC8dD"
      },
      "execution_count": null,
      "outputs": []
    },
    {
      "cell_type": "code",
      "source": [
        "run_learning_with_batchmodel(BatchModelConv)"
      ],
      "metadata": {
        "colab": {
          "base_uri": "https://localhost:8080/",
          "height": 1000
        },
        "id": "XFVMhFVfHeMD",
        "outputId": "08b33d5c-7309-4f2e-bce3-b88e526d1aca"
      },
      "execution_count": null,
      "outputs": [
        {
          "output_type": "stream",
          "name": "stderr",
          "text": [
            "\u001b[34m\u001b[1mwandb\u001b[0m: \u001b[33mWARNING\u001b[0m Calling wandb.login() after wandb.init() has no effect.\n"
          ]
        },
        {
          "output_type": "display_data",
          "data": {
            "text/plain": [
              "<IPython.core.display.HTML object>"
            ],
            "text/html": [
              "Finishing last run (ID:1155dzld) before initializing another..."
            ]
          },
          "metadata": {}
        },
        {
          "output_type": "display_data",
          "data": {
            "text/plain": [
              "<IPython.core.display.HTML object>"
            ],
            "text/html": [
              "Waiting for W&B process to finish... <strong style=\"color:green\">(success).</strong>"
            ]
          },
          "metadata": {}
        },
        {
          "output_type": "display_data",
          "data": {
            "text/plain": [
              "<IPython.core.display.HTML object>"
            ],
            "text/html": [
              "<style>\n",
              "    table.wandb td:nth-child(1) { padding: 0 10px; text-align: left ; width: auto;} td:nth-child(2) {text-align: left ; width: 100%}\n",
              "    .wandb-row { display: flex; flex-direction: row; flex-wrap: wrap; justify-content: flex-start; width: 100% }\n",
              "    .wandb-col { display: flex; flex-direction: column; flex-basis: 100%; flex: 1; padding: 10px; }\n",
              "    </style>\n",
              "<div class=\"wandb-row\"><div class=\"wandb-col\"><h3>Run history:</h3><br/><table class=\"wandb\"><tr><td>test/accuracy</td><td>▁▄▅▄▆▅▅▆▆▆▆▆▆▆▆▆▆▇▇▇▇▇▇█▇███████████████</td></tr><tr><td>test/loss</td><td>█▄▃▄▂▂▃▂▃▂▂▂▂▃▂▃▄▁▂▂▂▁▂▁▂▁▁▂▂▂▁▁▁▁▁▁▁▁▁▁</td></tr><tr><td>train/accuracy</td><td>▁▅▅▆▆▆▆▆▆▇▇▇▇▇▇▇▇▇▇▇▇███████████████████</td></tr><tr><td>train/loss</td><td>█▄▃▃▃▃▃▂▂▂▂▂▂▂▂▂▂▂▂▂▂▁▁▁▁▁▁▁▁▁▁▁▁▁▁▁▁▁▁▁</td></tr></table><br/></div><div class=\"wandb-col\"><h3>Run summary:</h3><br/><table class=\"wandb\"><tr><td>Best Epoch</td><td>32</td></tr><tr><td>Best Test Accuracy</td><td>0.9821</td></tr><tr><td>Best Test Loss</td><td>0.10734</td></tr><tr><td>test/accuracy</td><td>0.98151</td></tr><tr><td>test/loss</td><td>0.10775</td></tr><tr><td>train/accuracy</td><td>0.99998</td></tr><tr><td>train/loss</td><td>0.00024</td></tr></table><br/></div></div>"
            ]
          },
          "metadata": {}
        },
        {
          "output_type": "display_data",
          "data": {
            "text/plain": [
              "<IPython.core.display.HTML object>"
            ],
            "text/html": [
              "Synced <strong style=\"color:#cdcd00\">grateful-shadow-10</strong>: <a href=\"https://wandb.ai/messlav/s4/runs/1155dzld\" target=\"_blank\">https://wandb.ai/messlav/s4/runs/1155dzld</a><br/>Synced 5 W&B file(s), 0 media file(s), 0 artifact file(s) and 0 other file(s)"
            ]
          },
          "metadata": {}
        },
        {
          "output_type": "display_data",
          "data": {
            "text/plain": [
              "<IPython.core.display.HTML object>"
            ],
            "text/html": [
              "Find logs at: <code>./wandb/run-20221108_210315-1155dzld/logs</code>"
            ]
          },
          "metadata": {}
        },
        {
          "output_type": "display_data",
          "data": {
            "text/plain": [
              "<IPython.core.display.HTML object>"
            ],
            "text/html": [
              "Successfully finished last run (ID:1155dzld). Initializing new run:<br/>"
            ]
          },
          "metadata": {}
        },
        {
          "output_type": "display_data",
          "data": {
            "text/plain": [
              "<IPython.core.display.HTML object>"
            ],
            "text/html": [
              "Tracking run with wandb version 0.13.5"
            ]
          },
          "metadata": {}
        },
        {
          "output_type": "display_data",
          "data": {
            "text/plain": [
              "<IPython.core.display.HTML object>"
            ],
            "text/html": [
              "Run data is saved locally in <code>/content/annotated-s4/wandb/run-20221108_212620-2jk7zsmc</code>"
            ]
          },
          "metadata": {}
        },
        {
          "output_type": "display_data",
          "data": {
            "text/plain": [
              "<IPython.core.display.HTML object>"
            ],
            "text/html": [
              "Syncing run <strong><a href=\"https://wandb.ai/messlav/s4/runs/2jk7zsmc\" target=\"_blank\">golden-voice-11</a></strong> to <a href=\"https://wandb.ai/messlav/s4\" target=\"_blank\">Weights & Biases</a> (<a href=\"https://wandb.me/run\" target=\"_blank\">docs</a>)<br/>"
            ]
          },
          "metadata": {}
        },
        {
          "output_type": "stream",
          "name": "stdout",
          "text": [
            "[*] Setting Randomness...\n",
            "[*] Generating MNIST Classification Dataset...\n",
            "[*] Starting `s4` Training on `mnist-classification` =>> Initializing...\n",
            "x (784, 1)\n",
            "conv1 (784, 200)\n",
            "max_pool1 (775, 200)\n",
            "conv2 (775, 200)\n",
            "max_pool2 (768, 200)\n",
            "mean (200,)\n",
            "class (10,)\n",
            "[*] Trainable Parameters: 203010\n",
            "[*] Total training steps: 18760\n",
            "[*] Starting Training Epoch 1...\n"
          ]
        },
        {
          "output_type": "stream",
          "name": "stderr",
          "text": [
            "\r  0%|          | 0/469 [00:00<?, ?it/s]"
          ]
        },
        {
          "output_type": "stream",
          "name": "stdout",
          "text": [
            "x (784, 1)\n",
            "conv1 (784, 200)\n",
            "max_pool1 (775, 200)\n",
            "conv2 (775, 200)\n",
            "max_pool2 (768, 200)\n",
            "mean (200,)\n",
            "class (10,)\n"
          ]
        },
        {
          "output_type": "stream",
          "name": "stderr",
          "text": [
            " 99%|█████████▉| 466/469 [00:22<00:00, 23.12it/s]"
          ]
        },
        {
          "output_type": "stream",
          "name": "stdout",
          "text": [
            "x (784, 1)\n",
            "conv1 (784, 200)\n",
            "max_pool1 (775, 200)\n",
            "conv2 (775, 200)\n",
            "max_pool2 (768, 200)\n",
            "mean (200,)\n",
            "class (10,)\n"
          ]
        },
        {
          "output_type": "stream",
          "name": "stderr",
          "text": [
            "100%|██████████| 469/469 [00:24<00:00, 19.07it/s]\n"
          ]
        },
        {
          "output_type": "stream",
          "name": "stdout",
          "text": [
            "[*] Running Epoch 1 Validation...\n"
          ]
        },
        {
          "output_type": "stream",
          "name": "stderr",
          "text": [
            "\r  0%|          | 0/79 [00:00<?, ?it/s]"
          ]
        },
        {
          "output_type": "stream",
          "name": "stdout",
          "text": [
            "x (784, 1)\n",
            "conv1 (784, 200)\n",
            "max_pool1 (775, 200)\n",
            "conv2 (775, 200)\n",
            "max_pool2 (768, 200)\n",
            "mean (200,)\n",
            "class (10,)\n"
          ]
        },
        {
          "output_type": "stream",
          "name": "stderr",
          "text": [
            " 95%|█████████▍| 75/79 [00:01<00:00, 55.58it/s]"
          ]
        },
        {
          "output_type": "stream",
          "name": "stdout",
          "text": [
            "x (784, 1)\n",
            "conv1 (784, 200)\n",
            "max_pool1 (775, 200)\n",
            "conv2 (775, 200)\n",
            "max_pool2 (768, 200)\n",
            "mean (200,)\n",
            "class (10,)\n"
          ]
        },
        {
          "output_type": "stream",
          "name": "stderr",
          "text": [
            "\r100%|██████████| 79/79 [00:02<00:00, 30.48it/s]\n"
          ]
        },
        {
          "output_type": "stream",
          "name": "stdout",
          "text": [
            "\n",
            "=>> Epoch 1 Metrics ===\n",
            "\tTrain Loss: 1.97128 -- Train Accuracy: 0.2962\n",
            "\t Test Loss: 1.68959 --  Test Accuracy: 0.3795\n",
            "\tBest Test Loss: 1.68959 -- Best Test Accuracy: 0.3795 at Epoch 1\n",
            "\n",
            "[*] Starting Training Epoch 2...\n"
          ]
        },
        {
          "output_type": "stream",
          "name": "stderr",
          "text": [
            "100%|██████████| 469/469 [00:19<00:00, 24.41it/s]\n"
          ]
        },
        {
          "output_type": "stream",
          "name": "stdout",
          "text": [
            "[*] Running Epoch 2 Validation...\n"
          ]
        },
        {
          "output_type": "stream",
          "name": "stderr",
          "text": [
            "100%|██████████| 79/79 [00:01<00:00, 57.70it/s]\n"
          ]
        },
        {
          "output_type": "stream",
          "name": "stdout",
          "text": [
            "\n",
            "=>> Epoch 2 Metrics ===\n",
            "\tTrain Loss: 1.55118 -- Train Accuracy: 0.4575\n",
            "\t Test Loss: 1.38640 --  Test Accuracy: 0.5237\n",
            "\tBest Test Loss: 1.38640 -- Best Test Accuracy: 0.5237 at Epoch 2\n",
            "\n",
            "[*] Starting Training Epoch 3...\n"
          ]
        },
        {
          "output_type": "stream",
          "name": "stderr",
          "text": [
            "100%|██████████| 469/469 [00:18<00:00, 24.93it/s]\n"
          ]
        },
        {
          "output_type": "stream",
          "name": "stdout",
          "text": [
            "[*] Running Epoch 3 Validation...\n"
          ]
        },
        {
          "output_type": "stream",
          "name": "stderr",
          "text": [
            "100%|██████████| 79/79 [00:01<00:00, 58.79it/s]\n"
          ]
        },
        {
          "output_type": "stream",
          "name": "stdout",
          "text": [
            "\n",
            "=>> Epoch 3 Metrics ===\n",
            "\tTrain Loss: 1.35353 -- Train Accuracy: 0.5339\n",
            "\t Test Loss: 1.24137 --  Test Accuracy: 0.5782\n",
            "\tBest Test Loss: 1.24137 -- Best Test Accuracy: 0.5782 at Epoch 3\n",
            "\n",
            "[*] Starting Training Epoch 4...\n"
          ]
        },
        {
          "output_type": "stream",
          "name": "stderr",
          "text": [
            "100%|██████████| 469/469 [00:18<00:00, 24.85it/s]\n"
          ]
        },
        {
          "output_type": "stream",
          "name": "stdout",
          "text": [
            "[*] Running Epoch 4 Validation...\n"
          ]
        },
        {
          "output_type": "stream",
          "name": "stderr",
          "text": [
            "100%|██████████| 79/79 [00:01<00:00, 43.92it/s]\n"
          ]
        },
        {
          "output_type": "stream",
          "name": "stdout",
          "text": [
            "\n",
            "=>> Epoch 4 Metrics ===\n",
            "\tTrain Loss: 1.21650 -- Train Accuracy: 0.5877\n",
            "\t Test Loss: 1.33748 --  Test Accuracy: 0.5140\n",
            "\tBest Test Loss: 1.24137 -- Best Test Accuracy: 0.5782 at Epoch 3\n",
            "\n",
            "[*] Starting Training Epoch 5...\n"
          ]
        },
        {
          "output_type": "stream",
          "name": "stderr",
          "text": [
            "100%|██████████| 469/469 [00:19<00:00, 24.64it/s]\n"
          ]
        },
        {
          "output_type": "stream",
          "name": "stdout",
          "text": [
            "[*] Running Epoch 5 Validation...\n"
          ]
        },
        {
          "output_type": "stream",
          "name": "stderr",
          "text": [
            "100%|██████████| 79/79 [00:01<00:00, 55.46it/s]\n"
          ]
        },
        {
          "output_type": "stream",
          "name": "stdout",
          "text": [
            "\n",
            "=>> Epoch 5 Metrics ===\n",
            "\tTrain Loss: 1.09475 -- Train Accuracy: 0.6340\n",
            "\t Test Loss: 0.99396 --  Test Accuracy: 0.6890\n",
            "\tBest Test Loss: 0.99396 -- Best Test Accuracy: 0.6890 at Epoch 5\n",
            "\n",
            "[*] Starting Training Epoch 6...\n"
          ]
        },
        {
          "output_type": "stream",
          "name": "stderr",
          "text": [
            "100%|██████████| 469/469 [00:18<00:00, 24.73it/s]\n"
          ]
        },
        {
          "output_type": "stream",
          "name": "stdout",
          "text": [
            "[*] Running Epoch 6 Validation...\n"
          ]
        },
        {
          "output_type": "stream",
          "name": "stderr",
          "text": [
            "100%|██████████| 79/79 [00:02<00:00, 32.81it/s]\n"
          ]
        },
        {
          "output_type": "stream",
          "name": "stdout",
          "text": [
            "\n",
            "=>> Epoch 6 Metrics ===\n",
            "\tTrain Loss: 0.99335 -- Train Accuracy: 0.6727\n",
            "\t Test Loss: 0.95399 --  Test Accuracy: 0.6889\n",
            "\tBest Test Loss: 0.99396 -- Best Test Accuracy: 0.6890 at Epoch 5\n",
            "\n",
            "[*] Starting Training Epoch 7...\n"
          ]
        },
        {
          "output_type": "stream",
          "name": "stderr",
          "text": [
            "100%|██████████| 469/469 [00:18<00:00, 24.92it/s]\n"
          ]
        },
        {
          "output_type": "stream",
          "name": "stdout",
          "text": [
            "[*] Running Epoch 7 Validation...\n"
          ]
        },
        {
          "output_type": "stream",
          "name": "stderr",
          "text": [
            "100%|██████████| 79/79 [00:01<00:00, 56.97it/s]\n"
          ]
        },
        {
          "output_type": "stream",
          "name": "stdout",
          "text": [
            "\n",
            "=>> Epoch 7 Metrics ===\n",
            "\tTrain Loss: 0.94326 -- Train Accuracy: 0.6926\n",
            "\t Test Loss: 0.84621 --  Test Accuracy: 0.7339\n",
            "\tBest Test Loss: 0.84621 -- Best Test Accuracy: 0.7339 at Epoch 7\n",
            "\n",
            "[*] Starting Training Epoch 8...\n"
          ]
        },
        {
          "output_type": "stream",
          "name": "stderr",
          "text": [
            "100%|██████████| 469/469 [00:18<00:00, 24.98it/s]\n"
          ]
        },
        {
          "output_type": "stream",
          "name": "stdout",
          "text": [
            "[*] Running Epoch 8 Validation...\n"
          ]
        },
        {
          "output_type": "stream",
          "name": "stderr",
          "text": [
            "100%|██████████| 79/79 [00:01<00:00, 58.79it/s]\n"
          ]
        },
        {
          "output_type": "stream",
          "name": "stdout",
          "text": [
            "\n",
            "=>> Epoch 8 Metrics ===\n",
            "\tTrain Loss: 0.90025 -- Train Accuracy: 0.7057\n",
            "\t Test Loss: 0.84245 --  Test Accuracy: 0.7372\n",
            "\tBest Test Loss: 0.84245 -- Best Test Accuracy: 0.7372 at Epoch 8\n",
            "\n",
            "[*] Starting Training Epoch 9...\n"
          ]
        },
        {
          "output_type": "stream",
          "name": "stderr",
          "text": [
            "100%|██████████| 469/469 [00:20<00:00, 23.40it/s]\n"
          ]
        },
        {
          "output_type": "stream",
          "name": "stdout",
          "text": [
            "[*] Running Epoch 9 Validation...\n"
          ]
        },
        {
          "output_type": "stream",
          "name": "stderr",
          "text": [
            "100%|██████████| 79/79 [00:01<00:00, 59.36it/s]\n"
          ]
        },
        {
          "output_type": "stream",
          "name": "stdout",
          "text": [
            "\n",
            "=>> Epoch 9 Metrics ===\n",
            "\tTrain Loss: 0.87581 -- Train Accuracy: 0.7157\n",
            "\t Test Loss: 0.90428 --  Test Accuracy: 0.7125\n",
            "\tBest Test Loss: 0.84245 -- Best Test Accuracy: 0.7372 at Epoch 8\n",
            "\n",
            "[*] Starting Training Epoch 10...\n"
          ]
        },
        {
          "output_type": "stream",
          "name": "stderr",
          "text": [
            "100%|██████████| 469/469 [00:18<00:00, 25.11it/s]\n"
          ]
        },
        {
          "output_type": "stream",
          "name": "stdout",
          "text": [
            "[*] Running Epoch 10 Validation...\n"
          ]
        },
        {
          "output_type": "stream",
          "name": "stderr",
          "text": [
            "100%|██████████| 79/79 [00:01<00:00, 57.22it/s]\n"
          ]
        },
        {
          "output_type": "stream",
          "name": "stdout",
          "text": [
            "\n",
            "=>> Epoch 10 Metrics ===\n",
            "\tTrain Loss: 0.85062 -- Train Accuracy: 0.7247\n",
            "\t Test Loss: 0.81491 --  Test Accuracy: 0.7354\n",
            "\tBest Test Loss: 0.84245 -- Best Test Accuracy: 0.7372 at Epoch 8\n",
            "\n",
            "[*] Starting Training Epoch 11...\n"
          ]
        },
        {
          "output_type": "stream",
          "name": "stderr",
          "text": [
            "100%|██████████| 469/469 [00:18<00:00, 25.04it/s]\n"
          ]
        },
        {
          "output_type": "stream",
          "name": "stdout",
          "text": [
            "[*] Running Epoch 11 Validation...\n"
          ]
        },
        {
          "output_type": "stream",
          "name": "stderr",
          "text": [
            "100%|██████████| 79/79 [00:01<00:00, 56.77it/s]\n"
          ]
        },
        {
          "output_type": "stream",
          "name": "stdout",
          "text": [
            "\n",
            "=>> Epoch 11 Metrics ===\n",
            "\tTrain Loss: 0.83402 -- Train Accuracy: 0.7306\n",
            "\t Test Loss: 0.87100 --  Test Accuracy: 0.7293\n",
            "\tBest Test Loss: 0.84245 -- Best Test Accuracy: 0.7372 at Epoch 8\n",
            "\n",
            "[*] Starting Training Epoch 12...\n"
          ]
        },
        {
          "output_type": "stream",
          "name": "stderr",
          "text": [
            "100%|██████████| 469/469 [00:18<00:00, 25.09it/s]\n"
          ]
        },
        {
          "output_type": "stream",
          "name": "stdout",
          "text": [
            "[*] Running Epoch 12 Validation...\n"
          ]
        },
        {
          "output_type": "stream",
          "name": "stderr",
          "text": [
            "100%|██████████| 79/79 [00:01<00:00, 58.10it/s]\n"
          ]
        },
        {
          "output_type": "stream",
          "name": "stdout",
          "text": [
            "\n",
            "=>> Epoch 12 Metrics ===\n",
            "\tTrain Loss: 0.80506 -- Train Accuracy: 0.7404\n",
            "\t Test Loss: 0.82622 --  Test Accuracy: 0.7311\n",
            "\tBest Test Loss: 0.84245 -- Best Test Accuracy: 0.7372 at Epoch 8\n",
            "\n",
            "[*] Starting Training Epoch 13...\n"
          ]
        },
        {
          "output_type": "stream",
          "name": "stderr",
          "text": [
            "100%|██████████| 469/469 [00:18<00:00, 25.05it/s]\n"
          ]
        },
        {
          "output_type": "stream",
          "name": "stdout",
          "text": [
            "[*] Running Epoch 13 Validation...\n"
          ]
        },
        {
          "output_type": "stream",
          "name": "stderr",
          "text": [
            "100%|██████████| 79/79 [00:02<00:00, 34.36it/s]\n"
          ]
        },
        {
          "output_type": "stream",
          "name": "stdout",
          "text": [
            "\n",
            "=>> Epoch 13 Metrics ===\n",
            "\tTrain Loss: 0.79628 -- Train Accuracy: 0.7434\n",
            "\t Test Loss: 0.75884 --  Test Accuracy: 0.7668\n",
            "\tBest Test Loss: 0.75884 -- Best Test Accuracy: 0.7668 at Epoch 13\n",
            "\n",
            "[*] Starting Training Epoch 14...\n"
          ]
        },
        {
          "output_type": "stream",
          "name": "stderr",
          "text": [
            "100%|██████████| 469/469 [00:18<00:00, 25.23it/s]\n"
          ]
        },
        {
          "output_type": "stream",
          "name": "stdout",
          "text": [
            "[*] Running Epoch 14 Validation...\n"
          ]
        },
        {
          "output_type": "stream",
          "name": "stderr",
          "text": [
            "100%|██████████| 79/79 [00:01<00:00, 56.81it/s]\n"
          ]
        },
        {
          "output_type": "stream",
          "name": "stdout",
          "text": [
            "\n",
            "=>> Epoch 14 Metrics ===\n",
            "\tTrain Loss: 0.76970 -- Train Accuracy: 0.7543\n",
            "\t Test Loss: 0.70986 --  Test Accuracy: 0.7775\n",
            "\tBest Test Loss: 0.70986 -- Best Test Accuracy: 0.7775 at Epoch 14\n",
            "\n",
            "[*] Starting Training Epoch 15...\n"
          ]
        },
        {
          "output_type": "stream",
          "name": "stderr",
          "text": [
            "100%|██████████| 469/469 [00:18<00:00, 25.22it/s]\n"
          ]
        },
        {
          "output_type": "stream",
          "name": "stdout",
          "text": [
            "[*] Running Epoch 15 Validation...\n"
          ]
        },
        {
          "output_type": "stream",
          "name": "stderr",
          "text": [
            "100%|██████████| 79/79 [00:01<00:00, 40.79it/s]\n"
          ]
        },
        {
          "output_type": "stream",
          "name": "stdout",
          "text": [
            "\n",
            "=>> Epoch 15 Metrics ===\n",
            "\tTrain Loss: 0.75140 -- Train Accuracy: 0.7585\n",
            "\t Test Loss: 0.77331 --  Test Accuracy: 0.7410\n",
            "\tBest Test Loss: 0.70986 -- Best Test Accuracy: 0.7775 at Epoch 14\n",
            "\n",
            "[*] Starting Training Epoch 16...\n"
          ]
        },
        {
          "output_type": "stream",
          "name": "stderr",
          "text": [
            "100%|██████████| 469/469 [00:18<00:00, 25.22it/s]\n"
          ]
        },
        {
          "output_type": "stream",
          "name": "stdout",
          "text": [
            "[*] Running Epoch 16 Validation...\n"
          ]
        },
        {
          "output_type": "stream",
          "name": "stderr",
          "text": [
            "100%|██████████| 79/79 [00:01<00:00, 55.19it/s]\n"
          ]
        },
        {
          "output_type": "stream",
          "name": "stdout",
          "text": [
            "\n",
            "=>> Epoch 16 Metrics ===\n",
            "\tTrain Loss: 0.74012 -- Train Accuracy: 0.7626\n",
            "\t Test Loss: 0.70952 --  Test Accuracy: 0.7765\n",
            "\tBest Test Loss: 0.70986 -- Best Test Accuracy: 0.7775 at Epoch 14\n",
            "\n",
            "[*] Starting Training Epoch 17...\n"
          ]
        },
        {
          "output_type": "stream",
          "name": "stderr",
          "text": [
            "100%|██████████| 469/469 [00:18<00:00, 25.11it/s]\n"
          ]
        },
        {
          "output_type": "stream",
          "name": "stdout",
          "text": [
            "[*] Running Epoch 17 Validation...\n"
          ]
        },
        {
          "output_type": "stream",
          "name": "stderr",
          "text": [
            "100%|██████████| 79/79 [00:01<00:00, 55.90it/s]\n"
          ]
        },
        {
          "output_type": "stream",
          "name": "stdout",
          "text": [
            "\n",
            "=>> Epoch 17 Metrics ===\n",
            "\tTrain Loss: 0.72502 -- Train Accuracy: 0.7682\n",
            "\t Test Loss: 0.74503 --  Test Accuracy: 0.7566\n",
            "\tBest Test Loss: 0.70986 -- Best Test Accuracy: 0.7775 at Epoch 14\n",
            "\n",
            "[*] Starting Training Epoch 18...\n"
          ]
        },
        {
          "output_type": "stream",
          "name": "stderr",
          "text": [
            "100%|██████████| 469/469 [00:18<00:00, 25.24it/s]\n"
          ]
        },
        {
          "output_type": "stream",
          "name": "stdout",
          "text": [
            "[*] Running Epoch 18 Validation...\n"
          ]
        },
        {
          "output_type": "stream",
          "name": "stderr",
          "text": [
            "100%|██████████| 79/79 [00:01<00:00, 56.41it/s]\n"
          ]
        },
        {
          "output_type": "stream",
          "name": "stdout",
          "text": [
            "\n",
            "=>> Epoch 18 Metrics ===\n",
            "\tTrain Loss: 0.70724 -- Train Accuracy: 0.7727\n",
            "\t Test Loss: 0.72862 --  Test Accuracy: 0.7677\n",
            "\tBest Test Loss: 0.70986 -- Best Test Accuracy: 0.7775 at Epoch 14\n",
            "\n",
            "[*] Starting Training Epoch 19...\n"
          ]
        },
        {
          "output_type": "stream",
          "name": "stderr",
          "text": [
            "100%|██████████| 469/469 [00:18<00:00, 25.20it/s]\n"
          ]
        },
        {
          "output_type": "stream",
          "name": "stdout",
          "text": [
            "[*] Running Epoch 19 Validation...\n"
          ]
        },
        {
          "output_type": "stream",
          "name": "stderr",
          "text": [
            "100%|██████████| 79/79 [00:01<00:00, 56.01it/s]\n"
          ]
        },
        {
          "output_type": "stream",
          "name": "stdout",
          "text": [
            "\n",
            "=>> Epoch 19 Metrics ===\n",
            "\tTrain Loss: 0.70002 -- Train Accuracy: 0.7762\n",
            "\t Test Loss: 0.71712 --  Test Accuracy: 0.7691\n",
            "\tBest Test Loss: 0.70986 -- Best Test Accuracy: 0.7775 at Epoch 14\n",
            "\n",
            "[*] Starting Training Epoch 20...\n"
          ]
        },
        {
          "output_type": "stream",
          "name": "stderr",
          "text": [
            "100%|██████████| 469/469 [00:18<00:00, 25.23it/s]\n"
          ]
        },
        {
          "output_type": "stream",
          "name": "stdout",
          "text": [
            "[*] Running Epoch 20 Validation...\n"
          ]
        },
        {
          "output_type": "stream",
          "name": "stderr",
          "text": [
            "100%|██████████| 79/79 [00:01<00:00, 53.18it/s]\n"
          ]
        },
        {
          "output_type": "stream",
          "name": "stdout",
          "text": [
            "\n",
            "=>> Epoch 20 Metrics ===\n",
            "\tTrain Loss: 0.68962 -- Train Accuracy: 0.7808\n",
            "\t Test Loss: 0.73429 --  Test Accuracy: 0.7616\n",
            "\tBest Test Loss: 0.70986 -- Best Test Accuracy: 0.7775 at Epoch 14\n",
            "\n",
            "[*] Starting Training Epoch 21...\n"
          ]
        },
        {
          "output_type": "stream",
          "name": "stderr",
          "text": [
            "100%|██████████| 469/469 [00:18<00:00, 25.24it/s]\n"
          ]
        },
        {
          "output_type": "stream",
          "name": "stdout",
          "text": [
            "[*] Running Epoch 21 Validation...\n"
          ]
        },
        {
          "output_type": "stream",
          "name": "stderr",
          "text": [
            "100%|██████████| 79/79 [00:01<00:00, 57.65it/s]\n"
          ]
        },
        {
          "output_type": "stream",
          "name": "stdout",
          "text": [
            "\n",
            "=>> Epoch 21 Metrics ===\n",
            "\tTrain Loss: 0.67303 -- Train Accuracy: 0.7838\n",
            "\t Test Loss: 0.70291 --  Test Accuracy: 0.7751\n",
            "\tBest Test Loss: 0.70986 -- Best Test Accuracy: 0.7775 at Epoch 14\n",
            "\n",
            "[*] Starting Training Epoch 22...\n"
          ]
        },
        {
          "output_type": "stream",
          "name": "stderr",
          "text": [
            "100%|██████████| 469/469 [00:18<00:00, 25.16it/s]\n"
          ]
        },
        {
          "output_type": "stream",
          "name": "stdout",
          "text": [
            "[*] Running Epoch 22 Validation...\n"
          ]
        },
        {
          "output_type": "stream",
          "name": "stderr",
          "text": [
            "100%|██████████| 79/79 [00:01<00:00, 56.85it/s]\n"
          ]
        },
        {
          "output_type": "stream",
          "name": "stdout",
          "text": [
            "\n",
            "=>> Epoch 22 Metrics ===\n",
            "\tTrain Loss: 0.66718 -- Train Accuracy: 0.7866\n",
            "\t Test Loss: 0.65202 --  Test Accuracy: 0.7917\n",
            "\tBest Test Loss: 0.65202 -- Best Test Accuracy: 0.7917 at Epoch 22\n",
            "\n",
            "[*] Starting Training Epoch 23...\n"
          ]
        },
        {
          "output_type": "stream",
          "name": "stderr",
          "text": [
            "100%|██████████| 469/469 [00:18<00:00, 25.24it/s]\n"
          ]
        },
        {
          "output_type": "stream",
          "name": "stdout",
          "text": [
            "[*] Running Epoch 23 Validation...\n"
          ]
        },
        {
          "output_type": "stream",
          "name": "stderr",
          "text": [
            "100%|██████████| 79/79 [00:01<00:00, 56.67it/s]\n"
          ]
        },
        {
          "output_type": "stream",
          "name": "stdout",
          "text": [
            "\n",
            "=>> Epoch 23 Metrics ===\n",
            "\tTrain Loss: 0.65590 -- Train Accuracy: 0.7907\n",
            "\t Test Loss: 0.68647 --  Test Accuracy: 0.7806\n",
            "\tBest Test Loss: 0.65202 -- Best Test Accuracy: 0.7917 at Epoch 22\n",
            "\n",
            "[*] Starting Training Epoch 24...\n"
          ]
        },
        {
          "output_type": "stream",
          "name": "stderr",
          "text": [
            "100%|██████████| 469/469 [00:19<00:00, 24.20it/s]\n"
          ]
        },
        {
          "output_type": "stream",
          "name": "stdout",
          "text": [
            "[*] Running Epoch 24 Validation...\n"
          ]
        },
        {
          "output_type": "stream",
          "name": "stderr",
          "text": [
            "100%|██████████| 79/79 [00:02<00:00, 33.31it/s]\n"
          ]
        },
        {
          "output_type": "stream",
          "name": "stdout",
          "text": [
            "\n",
            "=>> Epoch 24 Metrics ===\n",
            "\tTrain Loss: 0.64601 -- Train Accuracy: 0.7930\n",
            "\t Test Loss: 0.66486 --  Test Accuracy: 0.7821\n",
            "\tBest Test Loss: 0.65202 -- Best Test Accuracy: 0.7917 at Epoch 22\n",
            "\n",
            "[*] Starting Training Epoch 25...\n"
          ]
        },
        {
          "output_type": "stream",
          "name": "stderr",
          "text": [
            "100%|██████████| 469/469 [00:18<00:00, 25.25it/s]\n"
          ]
        },
        {
          "output_type": "stream",
          "name": "stdout",
          "text": [
            "[*] Running Epoch 25 Validation...\n"
          ]
        },
        {
          "output_type": "stream",
          "name": "stderr",
          "text": [
            "100%|██████████| 79/79 [00:01<00:00, 57.33it/s]\n"
          ]
        },
        {
          "output_type": "stream",
          "name": "stdout",
          "text": [
            "\n",
            "=>> Epoch 25 Metrics ===\n",
            "\tTrain Loss: 0.63617 -- Train Accuracy: 0.7971\n",
            "\t Test Loss: 0.61975 --  Test Accuracy: 0.8067\n",
            "\tBest Test Loss: 0.61975 -- Best Test Accuracy: 0.8067 at Epoch 25\n",
            "\n",
            "[*] Starting Training Epoch 26...\n"
          ]
        },
        {
          "output_type": "stream",
          "name": "stderr",
          "text": [
            "100%|██████████| 469/469 [00:18<00:00, 25.19it/s]\n"
          ]
        },
        {
          "output_type": "stream",
          "name": "stdout",
          "text": [
            "[*] Running Epoch 26 Validation...\n"
          ]
        },
        {
          "output_type": "stream",
          "name": "stderr",
          "text": [
            "100%|██████████| 79/79 [00:01<00:00, 55.98it/s]\n"
          ]
        },
        {
          "output_type": "stream",
          "name": "stdout",
          "text": [
            "\n",
            "=>> Epoch 26 Metrics ===\n",
            "\tTrain Loss: 0.62769 -- Train Accuracy: 0.7994\n",
            "\t Test Loss: 0.62805 --  Test Accuracy: 0.8066\n",
            "\tBest Test Loss: 0.61975 -- Best Test Accuracy: 0.8067 at Epoch 25\n",
            "\n",
            "[*] Starting Training Epoch 27...\n"
          ]
        },
        {
          "output_type": "stream",
          "name": "stderr",
          "text": [
            "100%|██████████| 469/469 [00:19<00:00, 24.03it/s]\n"
          ]
        },
        {
          "output_type": "stream",
          "name": "stdout",
          "text": [
            "[*] Running Epoch 27 Validation...\n"
          ]
        },
        {
          "output_type": "stream",
          "name": "stderr",
          "text": [
            "100%|██████████| 79/79 [00:01<00:00, 55.30it/s]\n"
          ]
        },
        {
          "output_type": "stream",
          "name": "stdout",
          "text": [
            "\n",
            "=>> Epoch 27 Metrics ===\n",
            "\tTrain Loss: 0.62051 -- Train Accuracy: 0.8028\n",
            "\t Test Loss: 0.64416 --  Test Accuracy: 0.7986\n",
            "\tBest Test Loss: 0.61975 -- Best Test Accuracy: 0.8067 at Epoch 25\n",
            "\n",
            "[*] Starting Training Epoch 28...\n"
          ]
        },
        {
          "output_type": "stream",
          "name": "stderr",
          "text": [
            "100%|██████████| 469/469 [00:18<00:00, 25.24it/s]\n"
          ]
        },
        {
          "output_type": "stream",
          "name": "stdout",
          "text": [
            "[*] Running Epoch 28 Validation...\n"
          ]
        },
        {
          "output_type": "stream",
          "name": "stderr",
          "text": [
            "100%|██████████| 79/79 [00:01<00:00, 56.00it/s]\n"
          ]
        },
        {
          "output_type": "stream",
          "name": "stdout",
          "text": [
            "\n",
            "=>> Epoch 28 Metrics ===\n",
            "\tTrain Loss: 0.61036 -- Train Accuracy: 0.8057\n",
            "\t Test Loss: 0.60208 --  Test Accuracy: 0.8112\n",
            "\tBest Test Loss: 0.60208 -- Best Test Accuracy: 0.8112 at Epoch 28\n",
            "\n",
            "[*] Starting Training Epoch 29...\n"
          ]
        },
        {
          "output_type": "stream",
          "name": "stderr",
          "text": [
            "100%|██████████| 469/469 [00:18<00:00, 25.21it/s]\n"
          ]
        },
        {
          "output_type": "stream",
          "name": "stdout",
          "text": [
            "[*] Running Epoch 29 Validation...\n"
          ]
        },
        {
          "output_type": "stream",
          "name": "stderr",
          "text": [
            "100%|██████████| 79/79 [00:02<00:00, 30.60it/s]\n"
          ]
        },
        {
          "output_type": "stream",
          "name": "stdout",
          "text": [
            "\n",
            "=>> Epoch 29 Metrics ===\n",
            "\tTrain Loss: 0.60426 -- Train Accuracy: 0.8086\n",
            "\t Test Loss: 0.64960 --  Test Accuracy: 0.7936\n",
            "\tBest Test Loss: 0.60208 -- Best Test Accuracy: 0.8112 at Epoch 28\n",
            "\n",
            "[*] Starting Training Epoch 30...\n"
          ]
        },
        {
          "output_type": "stream",
          "name": "stderr",
          "text": [
            "100%|██████████| 469/469 [00:18<00:00, 25.26it/s]\n"
          ]
        },
        {
          "output_type": "stream",
          "name": "stdout",
          "text": [
            "[*] Running Epoch 30 Validation...\n"
          ]
        },
        {
          "output_type": "stream",
          "name": "stderr",
          "text": [
            "100%|██████████| 79/79 [00:01<00:00, 50.78it/s]\n"
          ]
        },
        {
          "output_type": "stream",
          "name": "stdout",
          "text": [
            "\n",
            "=>> Epoch 30 Metrics ===\n",
            "\tTrain Loss: 0.60185 -- Train Accuracy: 0.8099\n",
            "\t Test Loss: 0.63014 --  Test Accuracy: 0.7994\n",
            "\tBest Test Loss: 0.60208 -- Best Test Accuracy: 0.8112 at Epoch 28\n",
            "\n",
            "[*] Starting Training Epoch 31...\n"
          ]
        },
        {
          "output_type": "stream",
          "name": "stderr",
          "text": [
            "100%|██████████| 469/469 [00:21<00:00, 21.35it/s]\n"
          ]
        },
        {
          "output_type": "stream",
          "name": "stdout",
          "text": [
            "[*] Running Epoch 31 Validation...\n"
          ]
        },
        {
          "output_type": "stream",
          "name": "stderr",
          "text": [
            "100%|██████████| 79/79 [00:01<00:00, 49.40it/s]\n"
          ]
        },
        {
          "output_type": "stream",
          "name": "stdout",
          "text": [
            "\n",
            "=>> Epoch 31 Metrics ===\n",
            "\tTrain Loss: 0.59421 -- Train Accuracy: 0.8113\n",
            "\t Test Loss: 0.60905 --  Test Accuracy: 0.8073\n",
            "\tBest Test Loss: 0.60208 -- Best Test Accuracy: 0.8112 at Epoch 28\n",
            "\n",
            "[*] Starting Training Epoch 32...\n"
          ]
        },
        {
          "output_type": "stream",
          "name": "stderr",
          "text": [
            "100%|██████████| 469/469 [00:20<00:00, 23.39it/s]\n"
          ]
        },
        {
          "output_type": "stream",
          "name": "stdout",
          "text": [
            "[*] Running Epoch 32 Validation...\n"
          ]
        },
        {
          "output_type": "stream",
          "name": "stderr",
          "text": [
            "100%|██████████| 79/79 [00:01<00:00, 53.67it/s]\n"
          ]
        },
        {
          "output_type": "stream",
          "name": "stdout",
          "text": [
            "\n",
            "=>> Epoch 32 Metrics ===\n",
            "\tTrain Loss: 0.58537 -- Train Accuracy: 0.8153\n",
            "\t Test Loss: 0.60149 --  Test Accuracy: 0.8125\n",
            "\tBest Test Loss: 0.60149 -- Best Test Accuracy: 0.8125 at Epoch 32\n",
            "\n",
            "[*] Starting Training Epoch 33...\n"
          ]
        },
        {
          "output_type": "stream",
          "name": "stderr",
          "text": [
            "100%|██████████| 469/469 [00:18<00:00, 25.05it/s]\n"
          ]
        },
        {
          "output_type": "stream",
          "name": "stdout",
          "text": [
            "[*] Running Epoch 33 Validation...\n"
          ]
        },
        {
          "output_type": "stream",
          "name": "stderr",
          "text": [
            "100%|██████████| 79/79 [00:01<00:00, 56.96it/s]\n"
          ]
        },
        {
          "output_type": "stream",
          "name": "stdout",
          "text": [
            "\n",
            "=>> Epoch 33 Metrics ===\n",
            "\tTrain Loss: 0.58113 -- Train Accuracy: 0.8155\n",
            "\t Test Loss: 0.59389 --  Test Accuracy: 0.8123\n",
            "\tBest Test Loss: 0.60149 -- Best Test Accuracy: 0.8125 at Epoch 32\n",
            "\n",
            "[*] Starting Training Epoch 34...\n"
          ]
        },
        {
          "output_type": "stream",
          "name": "stderr",
          "text": [
            "100%|██████████| 469/469 [00:18<00:00, 25.15it/s]\n"
          ]
        },
        {
          "output_type": "stream",
          "name": "stdout",
          "text": [
            "[*] Running Epoch 34 Validation...\n"
          ]
        },
        {
          "output_type": "stream",
          "name": "stderr",
          "text": [
            "100%|██████████| 79/79 [00:01<00:00, 56.51it/s]\n"
          ]
        },
        {
          "output_type": "stream",
          "name": "stdout",
          "text": [
            "\n",
            "=>> Epoch 34 Metrics ===\n",
            "\tTrain Loss: 0.57458 -- Train Accuracy: 0.8185\n",
            "\t Test Loss: 0.58475 --  Test Accuracy: 0.8172\n",
            "\tBest Test Loss: 0.58475 -- Best Test Accuracy: 0.8172 at Epoch 34\n",
            "\n",
            "[*] Starting Training Epoch 35...\n"
          ]
        },
        {
          "output_type": "stream",
          "name": "stderr",
          "text": [
            "100%|██████████| 469/469 [00:19<00:00, 24.10it/s]\n"
          ]
        },
        {
          "output_type": "stream",
          "name": "stdout",
          "text": [
            "[*] Running Epoch 35 Validation...\n"
          ]
        },
        {
          "output_type": "stream",
          "name": "stderr",
          "text": [
            "100%|██████████| 79/79 [00:01<00:00, 58.58it/s]\n"
          ]
        },
        {
          "output_type": "stream",
          "name": "stdout",
          "text": [
            "\n",
            "=>> Epoch 35 Metrics ===\n",
            "\tTrain Loss: 0.57149 -- Train Accuracy: 0.8204\n",
            "\t Test Loss: 0.58254 --  Test Accuracy: 0.8204\n",
            "\tBest Test Loss: 0.58254 -- Best Test Accuracy: 0.8204 at Epoch 35\n",
            "\n",
            "[*] Starting Training Epoch 36...\n"
          ]
        },
        {
          "output_type": "stream",
          "name": "stderr",
          "text": [
            "100%|██████████| 469/469 [00:20<00:00, 22.77it/s]\n"
          ]
        },
        {
          "output_type": "stream",
          "name": "stdout",
          "text": [
            "[*] Running Epoch 36 Validation...\n"
          ]
        },
        {
          "output_type": "stream",
          "name": "stderr",
          "text": [
            "100%|██████████| 79/79 [00:02<00:00, 37.21it/s]\n"
          ]
        },
        {
          "output_type": "stream",
          "name": "stdout",
          "text": [
            "\n",
            "=>> Epoch 36 Metrics ===\n",
            "\tTrain Loss: 0.56672 -- Train Accuracy: 0.8211\n",
            "\t Test Loss: 0.58117 --  Test Accuracy: 0.8187\n",
            "\tBest Test Loss: 0.58254 -- Best Test Accuracy: 0.8204 at Epoch 35\n",
            "\n",
            "[*] Starting Training Epoch 37...\n"
          ]
        },
        {
          "output_type": "stream",
          "name": "stderr",
          "text": [
            "100%|██████████| 469/469 [00:21<00:00, 21.95it/s]\n"
          ]
        },
        {
          "output_type": "stream",
          "name": "stdout",
          "text": [
            "[*] Running Epoch 37 Validation...\n"
          ]
        },
        {
          "output_type": "stream",
          "name": "stderr",
          "text": [
            "100%|██████████| 79/79 [00:01<00:00, 57.74it/s]\n"
          ]
        },
        {
          "output_type": "stream",
          "name": "stdout",
          "text": [
            "\n",
            "=>> Epoch 37 Metrics ===\n",
            "\tTrain Loss: 0.56440 -- Train Accuracy: 0.8225\n",
            "\t Test Loss: 0.57999 --  Test Accuracy: 0.8199\n",
            "\tBest Test Loss: 0.58254 -- Best Test Accuracy: 0.8204 at Epoch 35\n",
            "\n",
            "[*] Starting Training Epoch 38...\n"
          ]
        },
        {
          "output_type": "stream",
          "name": "stderr",
          "text": [
            "100%|██████████| 469/469 [00:18<00:00, 25.01it/s]\n"
          ]
        },
        {
          "output_type": "stream",
          "name": "stdout",
          "text": [
            "[*] Running Epoch 38 Validation...\n"
          ]
        },
        {
          "output_type": "stream",
          "name": "stderr",
          "text": [
            "100%|██████████| 79/79 [00:01<00:00, 57.73it/s]\n"
          ]
        },
        {
          "output_type": "stream",
          "name": "stdout",
          "text": [
            "\n",
            "=>> Epoch 38 Metrics ===\n",
            "\tTrain Loss: 0.56168 -- Train Accuracy: 0.8239\n",
            "\t Test Loss: 0.58018 --  Test Accuracy: 0.8192\n",
            "\tBest Test Loss: 0.58254 -- Best Test Accuracy: 0.8204 at Epoch 35\n",
            "\n",
            "[*] Starting Training Epoch 39...\n"
          ]
        },
        {
          "output_type": "stream",
          "name": "stderr",
          "text": [
            "100%|██████████| 469/469 [00:18<00:00, 24.95it/s]\n"
          ]
        },
        {
          "output_type": "stream",
          "name": "stdout",
          "text": [
            "[*] Running Epoch 39 Validation...\n"
          ]
        },
        {
          "output_type": "stream",
          "name": "stderr",
          "text": [
            "100%|██████████| 79/79 [00:01<00:00, 55.41it/s]\n"
          ]
        },
        {
          "output_type": "stream",
          "name": "stdout",
          "text": [
            "\n",
            "=>> Epoch 39 Metrics ===\n",
            "\tTrain Loss: 0.55976 -- Train Accuracy: 0.8240\n",
            "\t Test Loss: 0.57855 --  Test Accuracy: 0.8201\n",
            "\tBest Test Loss: 0.58254 -- Best Test Accuracy: 0.8204 at Epoch 35\n",
            "\n",
            "[*] Starting Training Epoch 40...\n"
          ]
        },
        {
          "output_type": "stream",
          "name": "stderr",
          "text": [
            "100%|██████████| 469/469 [00:18<00:00, 24.99it/s]\n"
          ]
        },
        {
          "output_type": "stream",
          "name": "stdout",
          "text": [
            "[*] Running Epoch 40 Validation...\n"
          ]
        },
        {
          "output_type": "stream",
          "name": "stderr",
          "text": [
            "100%|██████████| 79/79 [00:02<00:00, 30.09it/s]\n"
          ]
        },
        {
          "output_type": "stream",
          "name": "stdout",
          "text": [
            "\n",
            "=>> Epoch 40 Metrics ===\n",
            "\tTrain Loss: 0.55916 -- Train Accuracy: 0.8245\n",
            "\t Test Loss: 0.57896 --  Test Accuracy: 0.8194\n",
            "\tBest Test Loss: 0.58254 -- Best Test Accuracy: 0.8204 at Epoch 35\n",
            "\n"
          ]
        }
      ]
    },
    {
      "cell_type": "markdown",
      "source": [
        "## S4"
      ],
      "metadata": {
        "id": "vw-j5K3bJiLl"
      }
    },
    {
      "cell_type": "code",
      "source": [
        "class ModelS4(nn.Module):\n",
        "    layer_cls: nn.Module\n",
        "    layer: dict  # Extra arguments to pass into layer constructor\n",
        "    d_output: int\n",
        "    d_model: int\n",
        "    n_layers: int\n",
        "    prenorm: bool = True\n",
        "    dropout: float = 0.0\n",
        "    embedding: bool = False  # Use nn.Embed instead of nn.Dense encoder\n",
        "    classification: bool = False\n",
        "    training: bool = True\n",
        "    decode: bool = False  # Probably should be moved into layer_args\n",
        "\n",
        "    def setup(self):\n",
        "        self.linear = nn.Dense(128)\n",
        "        self.s4_1 = S4Layer(200, l_max)\n",
        "        self.s4_2 = S4Layer(200, l_max)\n",
        "        self.classifier = nn.Dense(10)\n",
        "    \n",
        "    def __call__(self, x):\n",
        "        print('x', x.shape)\n",
        "        x = self.linear(x)\n",
        "        print('lin', x.shape)\n",
        "        x = nn.relu(self.s4_1(x))\n",
        "        print('s4_1', x.shape)\n",
        "        # x = nn.max_pool(x, (10,))\n",
        "        # print('max_pool1', x.shape)\n",
        "\n",
        "        x = nn.relu(self.s4_2(x))\n",
        "        print('s4_2', x.shape)\n",
        "        # x = nn.max_pool(x, (8, ))\n",
        "        # print('max_pool2', x.shape)\n",
        "        x = np.mean(x, axis=0)\n",
        "        print('mean', x.shape)\n",
        "        x = self.classifier(x)\n",
        "        print('class', x.shape)\n",
        "        return nn.log_softmax(x, axis=-1)"
      ],
      "metadata": {
        "id": "hdRhciq_HgkY"
      },
      "execution_count": null,
      "outputs": []
    },
    {
      "cell_type": "code",
      "source": [
        "BatchModelS4 = nn.vmap(\n",
        "    ModelS4,\n",
        "    in_axes=0,\n",
        "    out_axes=0,\n",
        "    variable_axes={\"params\": None, \"dropout\": None, \"cache\": 0, \"prime\": None},\n",
        "    split_rngs={\"params\": False, \"dropout\": True},\n",
        ")"
      ],
      "metadata": {
        "id": "icJpbt6BMcDO"
      },
      "execution_count": null,
      "outputs": []
    },
    {
      "cell_type": "code",
      "source": [
        "run_learning_with_batchmodel(BatchModelS4)"
      ],
      "metadata": {
        "colab": {
          "base_uri": "https://localhost:8080/",
          "height": 1000
        },
        "id": "rzQbawH5MfbJ",
        "outputId": "1e4e7e3b-4005-4950-c67b-46ebbc458fdc"
      },
      "execution_count": null,
      "outputs": [
        {
          "output_type": "stream",
          "name": "stderr",
          "text": [
            "\u001b[34m\u001b[1mwandb\u001b[0m: \u001b[33mWARNING\u001b[0m Calling wandb.login() after wandb.init() has no effect.\n"
          ]
        },
        {
          "output_type": "display_data",
          "data": {
            "text/plain": [
              "<IPython.core.display.HTML object>"
            ],
            "text/html": [
              "Finishing last run (ID:1j8bq37u) before initializing another..."
            ]
          },
          "metadata": {}
        },
        {
          "output_type": "display_data",
          "data": {
            "text/plain": [
              "<IPython.core.display.HTML object>"
            ],
            "text/html": [
              "Waiting for W&B process to finish... <strong style=\"color:green\">(success).</strong>"
            ]
          },
          "metadata": {}
        },
        {
          "output_type": "display_data",
          "data": {
            "text/plain": [
              "<IPython.core.display.HTML object>"
            ],
            "text/html": [
              "Synced <strong style=\"color:#cdcd00\">cool-sun-12</strong>: <a href=\"https://wandb.ai/messlav/s4/runs/1j8bq37u\" target=\"_blank\">https://wandb.ai/messlav/s4/runs/1j8bq37u</a><br/>Synced 5 W&B file(s), 0 media file(s), 0 artifact file(s) and 0 other file(s)"
            ]
          },
          "metadata": {}
        },
        {
          "output_type": "display_data",
          "data": {
            "text/plain": [
              "<IPython.core.display.HTML object>"
            ],
            "text/html": [
              "Find logs at: <code>./wandb/run-20221108_214250-1j8bq37u/logs</code>"
            ]
          },
          "metadata": {}
        },
        {
          "output_type": "display_data",
          "data": {
            "text/plain": [
              "<IPython.core.display.HTML object>"
            ],
            "text/html": [
              "Successfully finished last run (ID:1j8bq37u). Initializing new run:<br/>"
            ]
          },
          "metadata": {}
        },
        {
          "output_type": "display_data",
          "data": {
            "text/plain": [
              "<IPython.core.display.HTML object>"
            ],
            "text/html": [
              "Tracking run with wandb version 0.13.5"
            ]
          },
          "metadata": {}
        },
        {
          "output_type": "display_data",
          "data": {
            "text/plain": [
              "<IPython.core.display.HTML object>"
            ],
            "text/html": [
              "Run data is saved locally in <code>/content/annotated-s4/wandb/run-20221108_214742-1yhoyxk3</code>"
            ]
          },
          "metadata": {}
        },
        {
          "output_type": "display_data",
          "data": {
            "text/plain": [
              "<IPython.core.display.HTML object>"
            ],
            "text/html": [
              "Syncing run <strong><a href=\"https://wandb.ai/messlav/s4/runs/1yhoyxk3\" target=\"_blank\">laced-night-13</a></strong> to <a href=\"https://wandb.ai/messlav/s4\" target=\"_blank\">Weights & Biases</a> (<a href=\"https://wandb.me/run\" target=\"_blank\">docs</a>)<br/>"
            ]
          },
          "metadata": {}
        },
        {
          "output_type": "stream",
          "name": "stdout",
          "text": [
            "[*] Setting Randomness...\n",
            "[*] Generating MNIST Classification Dataset...\n",
            "[*] Starting `s4` Training on `mnist-classification` =>> Initializing...\n",
            "x (784, 1)\n",
            "lin (784, 128)\n",
            "s4_1 (784, 128)\n",
            "s4_2 (784, 128)\n",
            "mean (128,)\n",
            "class (10,)\n",
            "[*] Trainable Parameters: 411658\n",
            "[*] Total training steps: 18760\n",
            "[*] Starting Training Epoch 1...\n"
          ]
        },
        {
          "output_type": "stream",
          "name": "stderr",
          "text": [
            "\r  0%|          | 0/469 [00:00<?, ?it/s]"
          ]
        },
        {
          "output_type": "stream",
          "name": "stdout",
          "text": [
            "x (784, 1)\n",
            "lin (784, 128)\n",
            "s4_1 (784, 128)\n",
            "s4_2 (784, 128)\n",
            "mean (128,)\n",
            "class (10,)\n"
          ]
        },
        {
          "output_type": "stream",
          "name": "stderr",
          "text": [
            "100%|█████████▉| 467/469 [00:34<00:00, 14.85it/s]"
          ]
        },
        {
          "output_type": "stream",
          "name": "stdout",
          "text": [
            "x (784, 1)\n",
            "lin (784, 128)\n",
            "s4_1 (784, 128)\n",
            "s4_2 (784, 128)\n",
            "mean (128,)\n",
            "class (10,)\n"
          ]
        },
        {
          "output_type": "stream",
          "name": "stderr",
          "text": [
            "100%|██████████| 469/469 [00:39<00:00, 11.84it/s]\n"
          ]
        },
        {
          "output_type": "stream",
          "name": "stdout",
          "text": [
            "[*] Running Epoch 1 Validation...\n"
          ]
        },
        {
          "output_type": "stream",
          "name": "stderr",
          "text": [
            "100%|██████████| 79/79 [00:01<00:00, 54.69it/s]\n"
          ]
        },
        {
          "output_type": "stream",
          "name": "stdout",
          "text": [
            "\n",
            "=>> Epoch 1 Metrics ===\n",
            "\tTrain Loss: 2.07248 -- Train Accuracy: 0.2898\n",
            "\t Test Loss: 1.09345 --  Test Accuracy: 0.7396\n",
            "\tBest Test Loss: 1.09345 -- Best Test Accuracy: 0.7396 at Epoch 1\n",
            "\n",
            "[*] Starting Training Epoch 2...\n"
          ]
        },
        {
          "output_type": "stream",
          "name": "stderr",
          "text": [
            "100%|██████████| 469/469 [00:30<00:00, 15.26it/s]\n"
          ]
        },
        {
          "output_type": "stream",
          "name": "stdout",
          "text": [
            "[*] Running Epoch 2 Validation...\n"
          ]
        },
        {
          "output_type": "stream",
          "name": "stderr",
          "text": [
            "100%|██████████| 79/79 [00:02<00:00, 34.03it/s]\n"
          ]
        },
        {
          "output_type": "stream",
          "name": "stdout",
          "text": [
            "\n",
            "=>> Epoch 2 Metrics ===\n",
            "\tTrain Loss: 0.40350 -- Train Accuracy: 0.8883\n",
            "\t Test Loss: 0.23289 --  Test Accuracy: 0.9345\n",
            "\tBest Test Loss: 0.23289 -- Best Test Accuracy: 0.9345 at Epoch 2\n",
            "\n",
            "[*] Starting Training Epoch 3...\n"
          ]
        },
        {
          "output_type": "stream",
          "name": "stderr",
          "text": [
            "100%|██████████| 469/469 [00:30<00:00, 15.15it/s]\n"
          ]
        },
        {
          "output_type": "stream",
          "name": "stdout",
          "text": [
            "[*] Running Epoch 3 Validation...\n"
          ]
        },
        {
          "output_type": "stream",
          "name": "stderr",
          "text": [
            "100%|██████████| 79/79 [00:02<00:00, 28.93it/s]\n"
          ]
        },
        {
          "output_type": "stream",
          "name": "stdout",
          "text": [
            "\n",
            "=>> Epoch 3 Metrics ===\n",
            "\tTrain Loss: 0.24047 -- Train Accuracy: 0.9301\n",
            "\t Test Loss: 0.32469 --  Test Accuracy: 0.9052\n",
            "\tBest Test Loss: 0.23289 -- Best Test Accuracy: 0.9345 at Epoch 2\n",
            "\n",
            "[*] Starting Training Epoch 4...\n"
          ]
        },
        {
          "output_type": "stream",
          "name": "stderr",
          "text": [
            "100%|██████████| 469/469 [00:30<00:00, 15.30it/s]\n"
          ]
        },
        {
          "output_type": "stream",
          "name": "stdout",
          "text": [
            "[*] Running Epoch 4 Validation...\n"
          ]
        },
        {
          "output_type": "stream",
          "name": "stderr",
          "text": [
            "100%|██████████| 79/79 [00:01<00:00, 54.60it/s]\n"
          ]
        },
        {
          "output_type": "stream",
          "name": "stdout",
          "text": [
            "\n",
            "=>> Epoch 4 Metrics ===\n",
            "\tTrain Loss: 0.23152 -- Train Accuracy: 0.9323\n",
            "\t Test Loss: 0.19038 --  Test Accuracy: 0.9430\n",
            "\tBest Test Loss: 0.19038 -- Best Test Accuracy: 0.9430 at Epoch 4\n",
            "\n",
            "[*] Starting Training Epoch 5...\n"
          ]
        },
        {
          "output_type": "stream",
          "name": "stderr",
          "text": [
            "100%|██████████| 469/469 [00:30<00:00, 15.32it/s]\n"
          ]
        },
        {
          "output_type": "stream",
          "name": "stdout",
          "text": [
            "[*] Running Epoch 5 Validation...\n"
          ]
        },
        {
          "output_type": "stream",
          "name": "stderr",
          "text": [
            "100%|██████████| 79/79 [00:01<00:00, 54.70it/s]\n"
          ]
        },
        {
          "output_type": "stream",
          "name": "stdout",
          "text": [
            "\n",
            "=>> Epoch 5 Metrics ===\n",
            "\tTrain Loss: 0.18623 -- Train Accuracy: 0.9459\n",
            "\t Test Loss: 0.23719 --  Test Accuracy: 0.9234\n",
            "\tBest Test Loss: 0.19038 -- Best Test Accuracy: 0.9430 at Epoch 4\n",
            "\n",
            "[*] Starting Training Epoch 6...\n"
          ]
        },
        {
          "output_type": "stream",
          "name": "stderr",
          "text": [
            "100%|██████████| 469/469 [00:31<00:00, 14.93it/s]\n"
          ]
        },
        {
          "output_type": "stream",
          "name": "stdout",
          "text": [
            "[*] Running Epoch 6 Validation...\n"
          ]
        },
        {
          "output_type": "stream",
          "name": "stderr",
          "text": [
            "100%|██████████| 79/79 [00:01<00:00, 55.60it/s]\n"
          ]
        },
        {
          "output_type": "stream",
          "name": "stdout",
          "text": [
            "\n",
            "=>> Epoch 6 Metrics ===\n",
            "\tTrain Loss: 0.36878 -- Train Accuracy: 0.9141\n",
            "\t Test Loss: 0.21272 --  Test Accuracy: 0.9379\n",
            "\tBest Test Loss: 0.19038 -- Best Test Accuracy: 0.9430 at Epoch 4\n",
            "\n",
            "[*] Starting Training Epoch 7...\n"
          ]
        },
        {
          "output_type": "stream",
          "name": "stderr",
          "text": [
            "100%|██████████| 469/469 [00:30<00:00, 15.29it/s]\n"
          ]
        },
        {
          "output_type": "stream",
          "name": "stdout",
          "text": [
            "[*] Running Epoch 7 Validation...\n"
          ]
        },
        {
          "output_type": "stream",
          "name": "stderr",
          "text": [
            "100%|██████████| 79/79 [00:01<00:00, 55.99it/s]\n"
          ]
        },
        {
          "output_type": "stream",
          "name": "stdout",
          "text": [
            "\n",
            "=>> Epoch 7 Metrics ===\n",
            "\tTrain Loss: 0.33090 -- Train Accuracy: 0.9274\n",
            "\t Test Loss: 0.18676 --  Test Accuracy: 0.9407\n",
            "\tBest Test Loss: 0.19038 -- Best Test Accuracy: 0.9430 at Epoch 4\n",
            "\n",
            "[*] Starting Training Epoch 8...\n"
          ]
        },
        {
          "output_type": "stream",
          "name": "stderr",
          "text": [
            "100%|██████████| 469/469 [00:30<00:00, 15.32it/s]\n"
          ]
        },
        {
          "output_type": "stream",
          "name": "stdout",
          "text": [
            "[*] Running Epoch 8 Validation...\n"
          ]
        },
        {
          "output_type": "stream",
          "name": "stderr",
          "text": [
            "100%|██████████| 79/79 [00:01<00:00, 54.97it/s]\n"
          ]
        },
        {
          "output_type": "stream",
          "name": "stdout",
          "text": [
            "\n",
            "=>> Epoch 8 Metrics ===\n",
            "\tTrain Loss: 0.24277 -- Train Accuracy: 0.9335\n",
            "\t Test Loss: 0.19291 --  Test Accuracy: 0.9414\n",
            "\tBest Test Loss: 0.19038 -- Best Test Accuracy: 0.9430 at Epoch 4\n",
            "\n",
            "[*] Starting Training Epoch 9...\n"
          ]
        },
        {
          "output_type": "stream",
          "name": "stderr",
          "text": [
            "100%|██████████| 469/469 [00:30<00:00, 15.34it/s]\n"
          ]
        },
        {
          "output_type": "stream",
          "name": "stdout",
          "text": [
            "[*] Running Epoch 9 Validation...\n"
          ]
        },
        {
          "output_type": "stream",
          "name": "stderr",
          "text": [
            "100%|██████████| 79/79 [00:01<00:00, 56.72it/s]\n"
          ]
        },
        {
          "output_type": "stream",
          "name": "stdout",
          "text": [
            "\n",
            "=>> Epoch 9 Metrics ===\n",
            "\tTrain Loss: 0.20042 -- Train Accuracy: 0.9417\n",
            "\t Test Loss: 0.15474 --  Test Accuracy: 0.9519\n",
            "\tBest Test Loss: 0.15474 -- Best Test Accuracy: 0.9519 at Epoch 9\n",
            "\n",
            "[*] Starting Training Epoch 10...\n"
          ]
        },
        {
          "output_type": "stream",
          "name": "stderr",
          "text": [
            "100%|██████████| 469/469 [00:30<00:00, 15.34it/s]\n"
          ]
        },
        {
          "output_type": "stream",
          "name": "stdout",
          "text": [
            "[*] Running Epoch 10 Validation...\n"
          ]
        },
        {
          "output_type": "stream",
          "name": "stderr",
          "text": [
            "100%|██████████| 79/79 [00:02<00:00, 29.81it/s]\n"
          ]
        },
        {
          "output_type": "stream",
          "name": "stdout",
          "text": [
            "\n",
            "=>> Epoch 10 Metrics ===\n",
            "\tTrain Loss: 0.23279 -- Train Accuracy: 0.9348\n",
            "\t Test Loss: 0.15862 --  Test Accuracy: 0.9523\n",
            "\tBest Test Loss: 0.15862 -- Best Test Accuracy: 0.9523 at Epoch 10\n",
            "\n",
            "[*] Starting Training Epoch 11...\n"
          ]
        },
        {
          "output_type": "stream",
          "name": "stderr",
          "text": [
            "100%|██████████| 469/469 [00:30<00:00, 15.35it/s]\n"
          ]
        },
        {
          "output_type": "stream",
          "name": "stdout",
          "text": [
            "[*] Running Epoch 11 Validation...\n"
          ]
        },
        {
          "output_type": "stream",
          "name": "stderr",
          "text": [
            "100%|██████████| 79/79 [00:01<00:00, 56.28it/s]\n"
          ]
        },
        {
          "output_type": "stream",
          "name": "stdout",
          "text": [
            "\n",
            "=>> Epoch 11 Metrics ===\n",
            "\tTrain Loss: 0.27569 -- Train Accuracy: 0.9304\n",
            "\t Test Loss: 0.20049 --  Test Accuracy: 0.9374\n",
            "\tBest Test Loss: 0.15862 -- Best Test Accuracy: 0.9523 at Epoch 10\n",
            "\n",
            "[*] Starting Training Epoch 12...\n"
          ]
        },
        {
          "output_type": "stream",
          "name": "stderr",
          "text": [
            "100%|██████████| 469/469 [00:30<00:00, 15.33it/s]\n"
          ]
        },
        {
          "output_type": "stream",
          "name": "stdout",
          "text": [
            "[*] Running Epoch 12 Validation...\n"
          ]
        },
        {
          "output_type": "stream",
          "name": "stderr",
          "text": [
            "100%|██████████| 79/79 [00:01<00:00, 54.17it/s]\n"
          ]
        },
        {
          "output_type": "stream",
          "name": "stdout",
          "text": [
            "\n",
            "=>> Epoch 12 Metrics ===\n",
            "\tTrain Loss: 0.21845 -- Train Accuracy: 0.9379\n",
            "\t Test Loss: 0.25352 --  Test Accuracy: 0.9198\n",
            "\tBest Test Loss: 0.15862 -- Best Test Accuracy: 0.9523 at Epoch 10\n",
            "\n",
            "[*] Starting Training Epoch 13...\n"
          ]
        },
        {
          "output_type": "stream",
          "name": "stderr",
          "text": [
            "100%|██████████| 469/469 [00:30<00:00, 15.32it/s]\n"
          ]
        },
        {
          "output_type": "stream",
          "name": "stdout",
          "text": [
            "[*] Running Epoch 13 Validation...\n"
          ]
        },
        {
          "output_type": "stream",
          "name": "stderr",
          "text": [
            "100%|██████████| 79/79 [00:02<00:00, 32.60it/s]\n"
          ]
        },
        {
          "output_type": "stream",
          "name": "stdout",
          "text": [
            "\n",
            "=>> Epoch 13 Metrics ===\n",
            "\tTrain Loss: 0.28390 -- Train Accuracy: 0.9291\n",
            "\t Test Loss: 0.14393 --  Test Accuracy: 0.9560\n",
            "\tBest Test Loss: 0.14393 -- Best Test Accuracy: 0.9560 at Epoch 13\n",
            "\n",
            "[*] Starting Training Epoch 14...\n"
          ]
        },
        {
          "output_type": "stream",
          "name": "stderr",
          "text": [
            "100%|██████████| 469/469 [00:30<00:00, 15.33it/s]\n"
          ]
        },
        {
          "output_type": "stream",
          "name": "stdout",
          "text": [
            "[*] Running Epoch 14 Validation...\n"
          ]
        },
        {
          "output_type": "stream",
          "name": "stderr",
          "text": [
            "100%|██████████| 79/79 [00:01<00:00, 47.16it/s]\n"
          ]
        },
        {
          "output_type": "stream",
          "name": "stdout",
          "text": [
            "\n",
            "=>> Epoch 14 Metrics ===\n",
            "\tTrain Loss: 0.23637 -- Train Accuracy: 0.9399\n",
            "\t Test Loss: 0.25129 --  Test Accuracy: 0.9272\n",
            "\tBest Test Loss: 0.14393 -- Best Test Accuracy: 0.9560 at Epoch 13\n",
            "\n",
            "[*] Starting Training Epoch 15...\n"
          ]
        },
        {
          "output_type": "stream",
          "name": "stderr",
          "text": [
            "100%|██████████| 469/469 [00:30<00:00, 15.35it/s]\n"
          ]
        },
        {
          "output_type": "stream",
          "name": "stdout",
          "text": [
            "[*] Running Epoch 15 Validation...\n"
          ]
        },
        {
          "output_type": "stream",
          "name": "stderr",
          "text": [
            "100%|██████████| 79/79 [00:01<00:00, 55.27it/s]\n"
          ]
        },
        {
          "output_type": "stream",
          "name": "stdout",
          "text": [
            "\n",
            "=>> Epoch 15 Metrics ===\n",
            "\tTrain Loss: 0.17660 -- Train Accuracy: 0.9485\n",
            "\t Test Loss: 0.11662 --  Test Accuracy: 0.9631\n",
            "\tBest Test Loss: 0.11662 -- Best Test Accuracy: 0.9631 at Epoch 15\n",
            "\n",
            "[*] Starting Training Epoch 16...\n"
          ]
        },
        {
          "output_type": "stream",
          "name": "stderr",
          "text": [
            "100%|██████████| 469/469 [00:30<00:00, 15.36it/s]\n"
          ]
        },
        {
          "output_type": "stream",
          "name": "stdout",
          "text": [
            "[*] Running Epoch 16 Validation...\n"
          ]
        },
        {
          "output_type": "stream",
          "name": "stderr",
          "text": [
            "100%|██████████| 79/79 [00:02<00:00, 30.55it/s]\n"
          ]
        },
        {
          "output_type": "stream",
          "name": "stdout",
          "text": [
            "\n",
            "=>> Epoch 16 Metrics ===\n",
            "\tTrain Loss: 0.19287 -- Train Accuracy: 0.9458\n",
            "\t Test Loss: 0.17303 --  Test Accuracy: 0.9492\n",
            "\tBest Test Loss: 0.11662 -- Best Test Accuracy: 0.9631 at Epoch 15\n",
            "\n",
            "[*] Starting Training Epoch 17...\n"
          ]
        },
        {
          "output_type": "stream",
          "name": "stderr",
          "text": [
            "100%|██████████| 469/469 [00:30<00:00, 15.34it/s]\n"
          ]
        },
        {
          "output_type": "stream",
          "name": "stdout",
          "text": [
            "[*] Running Epoch 17 Validation...\n"
          ]
        },
        {
          "output_type": "stream",
          "name": "stderr",
          "text": [
            "100%|██████████| 79/79 [00:01<00:00, 46.60it/s]\n"
          ]
        },
        {
          "output_type": "stream",
          "name": "stdout",
          "text": [
            "\n",
            "=>> Epoch 17 Metrics ===\n",
            "\tTrain Loss: 0.15405 -- Train Accuracy: 0.9543\n",
            "\t Test Loss: 8.27012 --  Test Accuracy: 0.4632\n",
            "\tBest Test Loss: 0.11662 -- Best Test Accuracy: 0.9631 at Epoch 15\n",
            "\n",
            "[*] Starting Training Epoch 18...\n"
          ]
        },
        {
          "output_type": "stream",
          "name": "stderr",
          "text": [
            "100%|██████████| 469/469 [00:30<00:00, 15.36it/s]\n"
          ]
        },
        {
          "output_type": "stream",
          "name": "stdout",
          "text": [
            "[*] Running Epoch 18 Validation...\n"
          ]
        },
        {
          "output_type": "stream",
          "name": "stderr",
          "text": [
            "100%|██████████| 79/79 [00:01<00:00, 44.92it/s]\n"
          ]
        },
        {
          "output_type": "stream",
          "name": "stdout",
          "text": [
            "\n",
            "=>> Epoch 18 Metrics ===\n",
            "\tTrain Loss: 0.23685 -- Train Accuracy: 0.9432\n",
            "\t Test Loss: 0.13062 --  Test Accuracy: 0.9570\n",
            "\tBest Test Loss: 0.11662 -- Best Test Accuracy: 0.9631 at Epoch 15\n",
            "\n",
            "[*] Starting Training Epoch 19...\n"
          ]
        },
        {
          "output_type": "stream",
          "name": "stderr",
          "text": [
            "100%|██████████| 469/469 [00:30<00:00, 15.38it/s]\n"
          ]
        },
        {
          "output_type": "stream",
          "name": "stdout",
          "text": [
            "[*] Running Epoch 19 Validation...\n"
          ]
        },
        {
          "output_type": "stream",
          "name": "stderr",
          "text": [
            "100%|██████████| 79/79 [00:02<00:00, 33.38it/s]\n"
          ]
        },
        {
          "output_type": "stream",
          "name": "stdout",
          "text": [
            "\n",
            "=>> Epoch 19 Metrics ===\n",
            "\tTrain Loss: 0.19177 -- Train Accuracy: 0.9490\n",
            "\t Test Loss: 0.17914 --  Test Accuracy: 0.9423\n",
            "\tBest Test Loss: 0.11662 -- Best Test Accuracy: 0.9631 at Epoch 15\n",
            "\n",
            "[*] Starting Training Epoch 20...\n"
          ]
        },
        {
          "output_type": "stream",
          "name": "stderr",
          "text": [
            "100%|██████████| 469/469 [00:30<00:00, 15.38it/s]\n"
          ]
        },
        {
          "output_type": "stream",
          "name": "stdout",
          "text": [
            "[*] Running Epoch 20 Validation...\n"
          ]
        },
        {
          "output_type": "stream",
          "name": "stderr",
          "text": [
            "100%|██████████| 79/79 [00:02<00:00, 29.04it/s]\n"
          ]
        },
        {
          "output_type": "stream",
          "name": "stdout",
          "text": [
            "\n",
            "=>> Epoch 20 Metrics ===\n",
            "\tTrain Loss: 0.16387 -- Train Accuracy: 0.9521\n",
            "\t Test Loss: 0.14705 --  Test Accuracy: 0.9535\n",
            "\tBest Test Loss: 0.11662 -- Best Test Accuracy: 0.9631 at Epoch 15\n",
            "\n",
            "[*] Starting Training Epoch 21...\n"
          ]
        },
        {
          "output_type": "stream",
          "name": "stderr",
          "text": [
            "100%|██████████| 469/469 [00:30<00:00, 15.35it/s]\n"
          ]
        },
        {
          "output_type": "stream",
          "name": "stdout",
          "text": [
            "[*] Running Epoch 21 Validation...\n"
          ]
        },
        {
          "output_type": "stream",
          "name": "stderr",
          "text": [
            "100%|██████████| 79/79 [00:01<00:00, 55.61it/s]\n"
          ]
        },
        {
          "output_type": "stream",
          "name": "stdout",
          "text": [
            "\n",
            "=>> Epoch 21 Metrics ===\n",
            "\tTrain Loss: 0.13916 -- Train Accuracy: 0.9585\n",
            "\t Test Loss: 0.12251 --  Test Accuracy: 0.9657\n",
            "\tBest Test Loss: 0.12251 -- Best Test Accuracy: 0.9657 at Epoch 21\n",
            "\n",
            "[*] Starting Training Epoch 22...\n"
          ]
        },
        {
          "output_type": "stream",
          "name": "stderr",
          "text": [
            " 70%|██████▉   | 327/469 [00:21<00:09, 15.46it/s]\n"
          ]
        },
        {
          "output_type": "error",
          "ename": "KeyboardInterrupt",
          "evalue": "ignored",
          "traceback": [
            "\u001b[0;31m---------------------------------------------------------------------------\u001b[0m",
            "\u001b[0;31mKeyboardInterrupt\u001b[0m                         Traceback (most recent call last)",
            "\u001b[0;32m<ipython-input-78-d37270d23bde>\u001b[0m in \u001b[0;36m<module>\u001b[0;34m\u001b[0m\n\u001b[1;32m     68\u001b[0m         \u001b[0mmodel_cls\u001b[0m\u001b[0;34m,\u001b[0m\u001b[0;34m\u001b[0m\u001b[0;34m\u001b[0m\u001b[0m\n\u001b[1;32m     69\u001b[0m         \u001b[0mtrainloader\u001b[0m\u001b[0;34m,\u001b[0m\u001b[0;34m\u001b[0m\u001b[0;34m\u001b[0m\u001b[0m\n\u001b[0;32m---> 70\u001b[0;31m         \u001b[0mclassification\u001b[0m\u001b[0;34m=\u001b[0m\u001b[0mclassification\u001b[0m\u001b[0;34m,\u001b[0m\u001b[0;34m\u001b[0m\u001b[0;34m\u001b[0m\u001b[0m\n\u001b[0m\u001b[1;32m     71\u001b[0m     )\n\u001b[1;32m     72\u001b[0m \u001b[0;34m\u001b[0m\u001b[0m\n",
            "\u001b[0;32m<ipython-input-16-0d6b35903b1b>\u001b[0m in \u001b[0;36mtrain_epoch\u001b[0;34m(state, rng, model, trainloader, classification)\u001b[0m\n\u001b[1;32m    122\u001b[0m     \u001b[0mbatch_losses\u001b[0m\u001b[0;34m,\u001b[0m \u001b[0mbatch_accuracies\u001b[0m \u001b[0;34m=\u001b[0m \u001b[0;34m[\u001b[0m\u001b[0;34m]\u001b[0m\u001b[0;34m,\u001b[0m \u001b[0;34m[\u001b[0m\u001b[0;34m]\u001b[0m\u001b[0;34m\u001b[0m\u001b[0;34m\u001b[0m\u001b[0m\n\u001b[1;32m    123\u001b[0m     \u001b[0;32mfor\u001b[0m \u001b[0mbatch_idx\u001b[0m\u001b[0;34m,\u001b[0m \u001b[0;34m(\u001b[0m\u001b[0minputs\u001b[0m\u001b[0;34m,\u001b[0m \u001b[0mlabels\u001b[0m\u001b[0;34m)\u001b[0m \u001b[0;32min\u001b[0m \u001b[0menumerate\u001b[0m\u001b[0;34m(\u001b[0m\u001b[0mtqdm\u001b[0m\u001b[0;34m(\u001b[0m\u001b[0mtrainloader\u001b[0m\u001b[0;34m)\u001b[0m\u001b[0;34m)\u001b[0m\u001b[0;34m:\u001b[0m\u001b[0;34m\u001b[0m\u001b[0;34m\u001b[0m\u001b[0m\n\u001b[0;32m--> 124\u001b[0;31m         \u001b[0minputs\u001b[0m \u001b[0;34m=\u001b[0m \u001b[0mnp\u001b[0m\u001b[0;34m.\u001b[0m\u001b[0marray\u001b[0m\u001b[0;34m(\u001b[0m\u001b[0minputs\u001b[0m\u001b[0;34m.\u001b[0m\u001b[0mnumpy\u001b[0m\u001b[0;34m(\u001b[0m\u001b[0;34m)\u001b[0m\u001b[0;34m)\u001b[0m\u001b[0;34m\u001b[0m\u001b[0;34m\u001b[0m\u001b[0m\n\u001b[0m\u001b[1;32m    125\u001b[0m         \u001b[0mlabels\u001b[0m \u001b[0;34m=\u001b[0m \u001b[0mnp\u001b[0m\u001b[0;34m.\u001b[0m\u001b[0marray\u001b[0m\u001b[0;34m(\u001b[0m\u001b[0mlabels\u001b[0m\u001b[0;34m.\u001b[0m\u001b[0mnumpy\u001b[0m\u001b[0;34m(\u001b[0m\u001b[0;34m)\u001b[0m\u001b[0;34m)\u001b[0m  \u001b[0;31m# Not the most efficient...\u001b[0m\u001b[0;34m\u001b[0m\u001b[0;34m\u001b[0m\u001b[0m\n\u001b[1;32m    126\u001b[0m         \u001b[0;31m# print('inputs', inputs.shape)\u001b[0m\u001b[0;34m\u001b[0m\u001b[0;34m\u001b[0m\u001b[0;34m\u001b[0m\u001b[0m\n",
            "\u001b[0;32m/usr/local/lib/python3.7/dist-packages/jax/_src/numpy/lax_numpy.py\u001b[0m in \u001b[0;36marray\u001b[0;34m(object, dtype, copy, order, ndmin)\u001b[0m\n\u001b[1;32m   2007\u001b[0m     \u001b[0;32mraise\u001b[0m \u001b[0mTypeError\u001b[0m\u001b[0;34m(\u001b[0m\u001b[0;34mf\"Unexpected input type for array: {type(object)}\"\u001b[0m\u001b[0;34m)\u001b[0m\u001b[0;34m\u001b[0m\u001b[0;34m\u001b[0m\u001b[0m\n\u001b[1;32m   2008\u001b[0m \u001b[0;34m\u001b[0m\u001b[0m\n\u001b[0;32m-> 2009\u001b[0;31m   \u001b[0mout_array\u001b[0m\u001b[0;34m:\u001b[0m \u001b[0mArray\u001b[0m \u001b[0;34m=\u001b[0m \u001b[0mlax_internal\u001b[0m\u001b[0;34m.\u001b[0m\u001b[0m_convert_element_type\u001b[0m\u001b[0;34m(\u001b[0m\u001b[0mout\u001b[0m\u001b[0;34m,\u001b[0m \u001b[0mdtype\u001b[0m\u001b[0;34m,\u001b[0m \u001b[0mweak_type\u001b[0m\u001b[0;34m=\u001b[0m\u001b[0mweak_type\u001b[0m\u001b[0;34m)\u001b[0m\u001b[0;34m\u001b[0m\u001b[0;34m\u001b[0m\u001b[0m\n\u001b[0m\u001b[1;32m   2010\u001b[0m   \u001b[0;32mif\u001b[0m \u001b[0mndmin\u001b[0m \u001b[0;34m>\u001b[0m \u001b[0mndim\u001b[0m\u001b[0;34m(\u001b[0m\u001b[0mout_array\u001b[0m\u001b[0;34m)\u001b[0m\u001b[0;34m:\u001b[0m\u001b[0;34m\u001b[0m\u001b[0;34m\u001b[0m\u001b[0m\n\u001b[1;32m   2011\u001b[0m     \u001b[0mout_array\u001b[0m \u001b[0;34m=\u001b[0m \u001b[0mlax\u001b[0m\u001b[0;34m.\u001b[0m\u001b[0mexpand_dims\u001b[0m\u001b[0;34m(\u001b[0m\u001b[0mout_array\u001b[0m\u001b[0;34m,\u001b[0m \u001b[0mrange\u001b[0m\u001b[0;34m(\u001b[0m\u001b[0mndmin\u001b[0m \u001b[0;34m-\u001b[0m \u001b[0mndim\u001b[0m\u001b[0;34m(\u001b[0m\u001b[0mout_array\u001b[0m\u001b[0;34m)\u001b[0m\u001b[0;34m)\u001b[0m\u001b[0;34m)\u001b[0m\u001b[0;34m\u001b[0m\u001b[0;34m\u001b[0m\u001b[0m\n",
            "\u001b[0;32m/usr/local/lib/python3.7/dist-packages/jax/_src/lax/lax.py\u001b[0m in \u001b[0;36m_convert_element_type\u001b[0;34m(operand, new_dtype, weak_type)\u001b[0m\n\u001b[1;32m    592\u001b[0m   \u001b[0;32melse\u001b[0m\u001b[0;34m:\u001b[0m\u001b[0;34m\u001b[0m\u001b[0;34m\u001b[0m\u001b[0m\n\u001b[1;32m    593\u001b[0m     return convert_element_type_p.bind(operand, new_dtype=new_dtype,\n\u001b[0;32m--> 594\u001b[0;31m                                        weak_type=bool(weak_type))\n\u001b[0m\u001b[1;32m    595\u001b[0m \u001b[0;34m\u001b[0m\u001b[0m\n\u001b[1;32m    596\u001b[0m \u001b[0;32mdef\u001b[0m \u001b[0mbitcast_convert_type\u001b[0m\u001b[0;34m(\u001b[0m\u001b[0moperand\u001b[0m\u001b[0;34m:\u001b[0m \u001b[0mArrayLike\u001b[0m\u001b[0;34m,\u001b[0m \u001b[0mnew_dtype\u001b[0m\u001b[0;34m:\u001b[0m \u001b[0mDTypeLike\u001b[0m\u001b[0;34m)\u001b[0m \u001b[0;34m->\u001b[0m \u001b[0mArray\u001b[0m\u001b[0;34m:\u001b[0m\u001b[0;34m\u001b[0m\u001b[0;34m\u001b[0m\u001b[0m\n",
            "\u001b[0;32m/usr/local/lib/python3.7/dist-packages/jax/core.py\u001b[0m in \u001b[0;36mbind\u001b[0;34m(self, *args, **params)\u001b[0m\n\u001b[1;32m    327\u001b[0m     assert (not config.jax_enable_checks or\n\u001b[1;32m    328\u001b[0m             all(isinstance(arg, Tracer) or valid_jaxtype(arg) for arg in args)), args\n\u001b[0;32m--> 329\u001b[0;31m     \u001b[0;32mreturn\u001b[0m \u001b[0mself\u001b[0m\u001b[0;34m.\u001b[0m\u001b[0mbind_with_trace\u001b[0m\u001b[0;34m(\u001b[0m\u001b[0mfind_top_trace\u001b[0m\u001b[0;34m(\u001b[0m\u001b[0margs\u001b[0m\u001b[0;34m)\u001b[0m\u001b[0;34m,\u001b[0m \u001b[0margs\u001b[0m\u001b[0;34m,\u001b[0m \u001b[0mparams\u001b[0m\u001b[0;34m)\u001b[0m\u001b[0;34m\u001b[0m\u001b[0;34m\u001b[0m\u001b[0m\n\u001b[0m\u001b[1;32m    330\u001b[0m \u001b[0;34m\u001b[0m\u001b[0m\n\u001b[1;32m    331\u001b[0m   \u001b[0;32mdef\u001b[0m \u001b[0mbind_with_trace\u001b[0m\u001b[0;34m(\u001b[0m\u001b[0mself\u001b[0m\u001b[0;34m,\u001b[0m \u001b[0mtrace\u001b[0m\u001b[0;34m,\u001b[0m \u001b[0margs\u001b[0m\u001b[0;34m,\u001b[0m \u001b[0mparams\u001b[0m\u001b[0;34m)\u001b[0m\u001b[0;34m:\u001b[0m\u001b[0;34m\u001b[0m\u001b[0;34m\u001b[0m\u001b[0m\n",
            "\u001b[0;32m/usr/local/lib/python3.7/dist-packages/jax/core.py\u001b[0m in \u001b[0;36mbind_with_trace\u001b[0;34m(self, trace, args, params)\u001b[0m\n\u001b[1;32m    330\u001b[0m \u001b[0;34m\u001b[0m\u001b[0m\n\u001b[1;32m    331\u001b[0m   \u001b[0;32mdef\u001b[0m \u001b[0mbind_with_trace\u001b[0m\u001b[0;34m(\u001b[0m\u001b[0mself\u001b[0m\u001b[0;34m,\u001b[0m \u001b[0mtrace\u001b[0m\u001b[0;34m,\u001b[0m \u001b[0margs\u001b[0m\u001b[0;34m,\u001b[0m \u001b[0mparams\u001b[0m\u001b[0;34m)\u001b[0m\u001b[0;34m:\u001b[0m\u001b[0;34m\u001b[0m\u001b[0;34m\u001b[0m\u001b[0m\n\u001b[0;32m--> 332\u001b[0;31m     \u001b[0mout\u001b[0m \u001b[0;34m=\u001b[0m \u001b[0mtrace\u001b[0m\u001b[0;34m.\u001b[0m\u001b[0mprocess_primitive\u001b[0m\u001b[0;34m(\u001b[0m\u001b[0mself\u001b[0m\u001b[0;34m,\u001b[0m \u001b[0mmap\u001b[0m\u001b[0;34m(\u001b[0m\u001b[0mtrace\u001b[0m\u001b[0;34m.\u001b[0m\u001b[0mfull_raise\u001b[0m\u001b[0;34m,\u001b[0m \u001b[0margs\u001b[0m\u001b[0;34m)\u001b[0m\u001b[0;34m,\u001b[0m \u001b[0mparams\u001b[0m\u001b[0;34m)\u001b[0m\u001b[0;34m\u001b[0m\u001b[0;34m\u001b[0m\u001b[0m\n\u001b[0m\u001b[1;32m    333\u001b[0m     \u001b[0;32mreturn\u001b[0m \u001b[0mmap\u001b[0m\u001b[0;34m(\u001b[0m\u001b[0mfull_lower\u001b[0m\u001b[0;34m,\u001b[0m \u001b[0mout\u001b[0m\u001b[0;34m)\u001b[0m \u001b[0;32mif\u001b[0m \u001b[0mself\u001b[0m\u001b[0;34m.\u001b[0m\u001b[0mmultiple_results\u001b[0m \u001b[0;32melse\u001b[0m \u001b[0mfull_lower\u001b[0m\u001b[0;34m(\u001b[0m\u001b[0mout\u001b[0m\u001b[0;34m)\u001b[0m\u001b[0;34m\u001b[0m\u001b[0;34m\u001b[0m\u001b[0m\n\u001b[1;32m    334\u001b[0m \u001b[0;34m\u001b[0m\u001b[0m\n",
            "\u001b[0;32m/usr/local/lib/python3.7/dist-packages/jax/core.py\u001b[0m in \u001b[0;36mprocess_primitive\u001b[0;34m(self, primitive, tracers, params)\u001b[0m\n\u001b[1;32m    697\u001b[0m \u001b[0;34m\u001b[0m\u001b[0m\n\u001b[1;32m    698\u001b[0m   \u001b[0;32mdef\u001b[0m \u001b[0mprocess_primitive\u001b[0m\u001b[0;34m(\u001b[0m\u001b[0mself\u001b[0m\u001b[0;34m,\u001b[0m \u001b[0mprimitive\u001b[0m\u001b[0;34m,\u001b[0m \u001b[0mtracers\u001b[0m\u001b[0;34m,\u001b[0m \u001b[0mparams\u001b[0m\u001b[0;34m)\u001b[0m\u001b[0;34m:\u001b[0m\u001b[0;34m\u001b[0m\u001b[0;34m\u001b[0m\u001b[0m\n\u001b[0;32m--> 699\u001b[0;31m     \u001b[0;32mreturn\u001b[0m \u001b[0mprimitive\u001b[0m\u001b[0;34m.\u001b[0m\u001b[0mimpl\u001b[0m\u001b[0;34m(\u001b[0m\u001b[0;34m*\u001b[0m\u001b[0mtracers\u001b[0m\u001b[0;34m,\u001b[0m \u001b[0;34m**\u001b[0m\u001b[0mparams\u001b[0m\u001b[0;34m)\u001b[0m\u001b[0;34m\u001b[0m\u001b[0;34m\u001b[0m\u001b[0m\n\u001b[0m\u001b[1;32m    700\u001b[0m \u001b[0;34m\u001b[0m\u001b[0m\n\u001b[1;32m    701\u001b[0m   \u001b[0;32mdef\u001b[0m \u001b[0mprocess_call\u001b[0m\u001b[0;34m(\u001b[0m\u001b[0mself\u001b[0m\u001b[0;34m,\u001b[0m \u001b[0mprimitive\u001b[0m\u001b[0;34m,\u001b[0m \u001b[0mf\u001b[0m\u001b[0;34m,\u001b[0m \u001b[0mtracers\u001b[0m\u001b[0;34m,\u001b[0m \u001b[0mparams\u001b[0m\u001b[0;34m)\u001b[0m\u001b[0;34m:\u001b[0m\u001b[0;34m\u001b[0m\u001b[0;34m\u001b[0m\u001b[0m\n",
            "\u001b[0;32m/usr/local/lib/python3.7/dist-packages/jax/_src/dispatch.py\u001b[0m in \u001b[0;36mapply_primitive\u001b[0;34m(prim, *args, **params)\u001b[0m\n\u001b[1;32m    113\u001b[0m   compiled_fun = xla_primitive_callable(prim, *unsafe_map(arg_spec, args),\n\u001b[1;32m    114\u001b[0m                                         **params)\n\u001b[0;32m--> 115\u001b[0;31m   \u001b[0;32mreturn\u001b[0m \u001b[0mcompiled_fun\u001b[0m\u001b[0;34m(\u001b[0m\u001b[0;34m*\u001b[0m\u001b[0margs\u001b[0m\u001b[0;34m)\u001b[0m\u001b[0;34m\u001b[0m\u001b[0;34m\u001b[0m\u001b[0m\n\u001b[0m\u001b[1;32m    116\u001b[0m \u001b[0;34m\u001b[0m\u001b[0m\n\u001b[1;32m    117\u001b[0m \u001b[0;31m# TODO(phawkins,frostig,mattjj): update code referring to\u001b[0m\u001b[0;34m\u001b[0m\u001b[0;34m\u001b[0m\u001b[0;34m\u001b[0m\u001b[0m\n",
            "\u001b[0;32m/usr/local/lib/python3.7/dist-packages/jax/_src/dispatch.py\u001b[0m in \u001b[0;36m<lambda>\u001b[0;34m(*args, **kw)\u001b[0m\n\u001b[1;32m    198\u001b[0m                                     prim.name, donated_invars, False, *arg_specs)\n\u001b[1;32m    199\u001b[0m   \u001b[0;32mif\u001b[0m \u001b[0;32mnot\u001b[0m \u001b[0mprim\u001b[0m\u001b[0;34m.\u001b[0m\u001b[0mmultiple_results\u001b[0m\u001b[0;34m:\u001b[0m\u001b[0;34m\u001b[0m\u001b[0;34m\u001b[0m\u001b[0m\n\u001b[0;32m--> 200\u001b[0;31m     \u001b[0;32mreturn\u001b[0m \u001b[0;32mlambda\u001b[0m \u001b[0;34m*\u001b[0m\u001b[0margs\u001b[0m\u001b[0;34m,\u001b[0m \u001b[0;34m**\u001b[0m\u001b[0mkw\u001b[0m\u001b[0;34m:\u001b[0m \u001b[0mcompiled\u001b[0m\u001b[0;34m(\u001b[0m\u001b[0;34m*\u001b[0m\u001b[0margs\u001b[0m\u001b[0;34m,\u001b[0m \u001b[0;34m**\u001b[0m\u001b[0mkw\u001b[0m\u001b[0;34m)\u001b[0m\u001b[0;34m[\u001b[0m\u001b[0;36m0\u001b[0m\u001b[0;34m]\u001b[0m\u001b[0;34m\u001b[0m\u001b[0;34m\u001b[0m\u001b[0m\n\u001b[0m\u001b[1;32m    201\u001b[0m   \u001b[0;32melse\u001b[0m\u001b[0;34m:\u001b[0m\u001b[0;34m\u001b[0m\u001b[0;34m\u001b[0m\u001b[0m\n\u001b[1;32m    202\u001b[0m     \u001b[0;32mreturn\u001b[0m \u001b[0mcompiled\u001b[0m\u001b[0;34m\u001b[0m\u001b[0;34m\u001b[0m\u001b[0m\n",
            "\u001b[0;32m/usr/local/lib/python3.7/dist-packages/jax/_src/dispatch.py\u001b[0m in \u001b[0;36m_execute_trivial\u001b[0;34m(jaxpr, device, consts, avals, handlers, has_unordered_effects, ordered_effects, kept_var_idx, host_callbacks, *args)\u001b[0m\n\u001b[1;32m    941\u001b[0m           for v in jaxpr.outvars]\n\u001b[1;32m    942\u001b[0m   return [_copy_device_array_to_device(x, device) if device_array.type_is_device_array(x)\n\u001b[0;32m--> 943\u001b[0;31m           else h(None, *device_put(x, device)) for h, x in zip(handlers, outs)]\n\u001b[0m\u001b[1;32m    944\u001b[0m \u001b[0;34m\u001b[0m\u001b[0m\n\u001b[1;32m    945\u001b[0m \u001b[0;34m\u001b[0m\u001b[0m\n",
            "\u001b[0;32m/usr/local/lib/python3.7/dist-packages/jax/_src/dispatch.py\u001b[0m in \u001b[0;36m<listcomp>\u001b[0;34m(.0)\u001b[0m\n\u001b[1;32m    941\u001b[0m           for v in jaxpr.outvars]\n\u001b[1;32m    942\u001b[0m   return [_copy_device_array_to_device(x, device) if device_array.type_is_device_array(x)\n\u001b[0;32m--> 943\u001b[0;31m           else h(None, *device_put(x, device)) for h, x in zip(handlers, outs)]\n\u001b[0m\u001b[1;32m    944\u001b[0m \u001b[0;34m\u001b[0m\u001b[0m\n\u001b[1;32m    945\u001b[0m \u001b[0;34m\u001b[0m\u001b[0m\n",
            "\u001b[0;32m/usr/local/lib/python3.7/dist-packages/jax/_src/dispatch.py\u001b[0m in \u001b[0;36mdevice_put\u001b[0;34m(x, device)\u001b[0m\n\u001b[1;32m   1255\u001b[0m   \u001b[0mx\u001b[0m \u001b[0;34m=\u001b[0m \u001b[0mxla\u001b[0m\u001b[0;34m.\u001b[0m\u001b[0mcanonicalize_dtype\u001b[0m\u001b[0;34m(\u001b[0m\u001b[0mx\u001b[0m\u001b[0;34m)\u001b[0m\u001b[0;34m\u001b[0m\u001b[0;34m\u001b[0m\u001b[0m\n\u001b[1;32m   1256\u001b[0m   \u001b[0;32mtry\u001b[0m\u001b[0;34m:\u001b[0m\u001b[0;34m\u001b[0m\u001b[0;34m\u001b[0m\u001b[0m\n\u001b[0;32m-> 1257\u001b[0;31m     \u001b[0;32mreturn\u001b[0m \u001b[0mdevice_put_handlers\u001b[0m\u001b[0;34m[\u001b[0m\u001b[0mtype\u001b[0m\u001b[0;34m(\u001b[0m\u001b[0mx\u001b[0m\u001b[0;34m)\u001b[0m\u001b[0;34m]\u001b[0m\u001b[0;34m(\u001b[0m\u001b[0mx\u001b[0m\u001b[0;34m,\u001b[0m \u001b[0mdevice\u001b[0m\u001b[0;34m)\u001b[0m\u001b[0;34m\u001b[0m\u001b[0;34m\u001b[0m\u001b[0m\n\u001b[0m\u001b[1;32m   1258\u001b[0m   \u001b[0;32mexcept\u001b[0m \u001b[0mKeyError\u001b[0m \u001b[0;32mas\u001b[0m \u001b[0merr\u001b[0m\u001b[0;34m:\u001b[0m\u001b[0;34m\u001b[0m\u001b[0;34m\u001b[0m\u001b[0m\n\u001b[1;32m   1259\u001b[0m     \u001b[0;32mraise\u001b[0m \u001b[0mTypeError\u001b[0m\u001b[0;34m(\u001b[0m\u001b[0;34mf\"No device_put handler for type: {type(x)}\"\u001b[0m\u001b[0;34m)\u001b[0m \u001b[0;32mfrom\u001b[0m \u001b[0merr\u001b[0m\u001b[0;34m\u001b[0m\u001b[0;34m\u001b[0m\u001b[0m\n",
            "\u001b[0;32m/usr/local/lib/python3.7/dist-packages/jax/_src/dispatch.py\u001b[0m in \u001b[0;36m_device_put_array\u001b[0;34m(x, device)\u001b[0m\n\u001b[1;32m   1266\u001b[0m   \u001b[0;32mif\u001b[0m \u001b[0mx\u001b[0m\u001b[0;34m.\u001b[0m\u001b[0mdtype\u001b[0m \u001b[0;34m==\u001b[0m \u001b[0mdtypes\u001b[0m\u001b[0;34m.\u001b[0m\u001b[0mfloat0\u001b[0m\u001b[0;34m:\u001b[0m\u001b[0;34m\u001b[0m\u001b[0;34m\u001b[0m\u001b[0m\n\u001b[1;32m   1267\u001b[0m     \u001b[0mx\u001b[0m \u001b[0;34m=\u001b[0m \u001b[0mnp\u001b[0m\u001b[0;34m.\u001b[0m\u001b[0mzeros\u001b[0m\u001b[0;34m(\u001b[0m\u001b[0mx\u001b[0m\u001b[0;34m.\u001b[0m\u001b[0mshape\u001b[0m\u001b[0;34m,\u001b[0m \u001b[0mdtype\u001b[0m\u001b[0;34m=\u001b[0m\u001b[0mnp\u001b[0m\u001b[0;34m.\u001b[0m\u001b[0mdtype\u001b[0m\u001b[0;34m(\u001b[0m\u001b[0mbool\u001b[0m\u001b[0;34m)\u001b[0m\u001b[0;34m)\u001b[0m\u001b[0;34m\u001b[0m\u001b[0;34m\u001b[0m\u001b[0m\n\u001b[0;32m-> 1268\u001b[0;31m   \u001b[0;32mreturn\u001b[0m \u001b[0;34m(\u001b[0m\u001b[0mbackend\u001b[0m\u001b[0;34m.\u001b[0m\u001b[0mbuffer_from_pyval\u001b[0m\u001b[0;34m(\u001b[0m\u001b[0mx\u001b[0m\u001b[0;34m,\u001b[0m \u001b[0mdevice\u001b[0m\u001b[0;34m)\u001b[0m\u001b[0;34m,\u001b[0m\u001b[0;34m)\u001b[0m\u001b[0;34m\u001b[0m\u001b[0;34m\u001b[0m\u001b[0m\n\u001b[0m\u001b[1;32m   1269\u001b[0m \u001b[0;34m\u001b[0m\u001b[0m\n\u001b[1;32m   1270\u001b[0m \u001b[0;32mdef\u001b[0m \u001b[0m_device_put_scalar\u001b[0m\u001b[0;34m(\u001b[0m\u001b[0mx\u001b[0m\u001b[0;34m,\u001b[0m \u001b[0mdevice\u001b[0m\u001b[0;34m)\u001b[0m\u001b[0;34m:\u001b[0m\u001b[0;34m\u001b[0m\u001b[0;34m\u001b[0m\u001b[0m\n",
            "\u001b[0;31mKeyboardInterrupt\u001b[0m: "
          ]
        }
      ]
    },
    {
      "cell_type": "markdown",
      "source": [
        "## Second try of Conv"
      ],
      "metadata": {
        "id": "R5Qvn6vYOHor"
      }
    },
    {
      "cell_type": "code",
      "source": [
        "class ModelConvSecond(nn.Module):\n",
        "    layer_cls: nn.Module\n",
        "    layer: dict  # Extra arguments to pass into layer constructor\n",
        "    d_output: int\n",
        "    d_model: int\n",
        "    n_layers: int\n",
        "    prenorm: bool = True\n",
        "    dropout: float = 0.0\n",
        "    embedding: bool = False  # Use nn.Embed instead of nn.Dense encoder\n",
        "    classification: bool = False\n",
        "    training: bool = True\n",
        "    decode: bool = False  # Probably should be moved into layer_args\n",
        "\n",
        "    def setup(self):\n",
        "        self.linear = nn.Dense(128)\n",
        "        self.conv1 = nn.Conv(200, kernel_size=(3,))\n",
        "        self.conv2 = nn.Conv(200, kernel_size=(5,))\n",
        "        self.classifier = nn.Dense(10)\n",
        "    \n",
        "    def __call__(self, x):\n",
        "        print('x', x.shape)\n",
        "        x = self.linear(x)\n",
        "        print('lin', x.shape)\n",
        "        x = nn.relu(self.conv1(x))\n",
        "        print('conv1', x.shape)\n",
        "        x = nn.max_pool(x, (10,))\n",
        "        print('max_pool1', x.shape)\n",
        "\n",
        "        x = nn.relu(self.conv2(x))\n",
        "        print('conv2', x.shape)\n",
        "        x = nn.max_pool(x, (8, ))\n",
        "        print('max_pool2', x.shape)\n",
        "        x = np.mean(x, axis=0)\n",
        "        print('mean', x.shape)\n",
        "        x = self.classifier(x)\n",
        "        print('class', x.shape)\n",
        "        return nn.log_softmax(x, axis=-1)"
      ],
      "metadata": {
        "id": "lgvF3E7tMiOz"
      },
      "execution_count": null,
      "outputs": []
    },
    {
      "cell_type": "code",
      "source": [
        "BatchModelConvSecond = nn.vmap(\n",
        "    ModelConvSecond,\n",
        "    in_axes=0,\n",
        "    out_axes=0,\n",
        "    variable_axes={\"params\": None, \"dropout\": None, \"cache\": 0, \"prime\": None},\n",
        "    split_rngs={\"params\": False, \"dropout\": True},\n",
        ")"
      ],
      "metadata": {
        "id": "sROKbaf_OiTa"
      },
      "execution_count": null,
      "outputs": []
    },
    {
      "cell_type": "code",
      "source": [
        "run_learning_with_batchmodel(BatchModelConvSecond)"
      ],
      "metadata": {
        "colab": {
          "base_uri": "https://localhost:8080/",
          "height": 1000,
          "referenced_widgets": [
            "c9f5b364289648ddb44e36919820f3ef",
            "f28cbf4c338a4189aa955106b1a01149",
            "87304145900b428fb9e58fd880d78525",
            "6e9c81c9c0ac4bdab3c365c3806a07be",
            "a43cadae20294829b7778a4ec4bffa58",
            "3a9fc8f53e2d413d8172a136b49bea46",
            "738cc6faef04495397235fe686d1f9d3",
            "bbc32aba4d9f47f89de96304af2b7ab1"
          ]
        },
        "id": "4-qCC0RCOlav",
        "outputId": "d29ee6df-ebd4-437a-b2db-6ea24c7418fb"
      },
      "execution_count": null,
      "outputs": [
        {
          "metadata": {
            "tags": null
          },
          "name": "stderr",
          "output_type": "stream",
          "text": [
            "\u001b[34m\u001b[1mwandb\u001b[0m: \u001b[33mWARNING\u001b[0m Calling wandb.login() after wandb.init() has no effect.\n"
          ]
        },
        {
          "data": {
            "text/html": [
              "Finishing last run (ID:3sssotdp) before initializing another..."
            ],
            "text/plain": [
              "<IPython.core.display.HTML object>"
            ]
          },
          "metadata": {},
          "output_type": "display_data"
        },
        {
          "data": {
            "text/html": [
              "Waiting for W&B process to finish... <strong style=\"color:green\">(success).</strong>"
            ],
            "text/plain": [
              "<IPython.core.display.HTML object>"
            ]
          },
          "metadata": {},
          "output_type": "display_data"
        },
        {
          "data": {
            "application/vnd.jupyter.widget-view+json": {
              "model_id": "c9f5b364289648ddb44e36919820f3ef",
              "version_major": 2,
              "version_minor": 0
            },
            "text/plain": [
              "VBox(children=(Label(value='0.001 MB of 0.001 MB uploaded (0.000 MB deduped)\\r'), FloatProgress(value=1.0, max…"
            ]
          },
          "metadata": {},
          "output_type": "display_data"
        },
        {
          "data": {
            "text/html": [
              "<style>\n",
              "    table.wandb td:nth-child(1) { padding: 0 10px; text-align: left ; width: auto;} td:nth-child(2) {text-align: left ; width: 100%}\n",
              "    .wandb-row { display: flex; flex-direction: row; flex-wrap: wrap; justify-content: flex-start; width: 100% }\n",
              "    .wandb-col { display: flex; flex-direction: column; flex-basis: 100%; flex: 1; padding: 10px; }\n",
              "    </style>\n",
              "<div class=\"wandb-row\"><div class=\"wandb-col\"><h3>Run history:</h3><br/><table class=\"wandb\"><tr><td>test/accuracy</td><td>▁</td></tr><tr><td>test/loss</td><td>▁</td></tr><tr><td>train/accuracy</td><td>▁</td></tr><tr><td>train/loss</td><td>▁</td></tr></table><br/></div><div class=\"wandb-col\"><h3>Run summary:</h3><br/><table class=\"wandb\"><tr><td>Best Epoch</td><td>0</td></tr><tr><td>Best Test Accuracy</td><td>0.42435</td></tr><tr><td>Best Test Loss</td><td>1.52214</td></tr><tr><td>test/accuracy</td><td>0.42435</td></tr><tr><td>test/loss</td><td>1.52214</td></tr><tr><td>train/accuracy</td><td>0.34489</td></tr><tr><td>train/loss</td><td>1.84478</td></tr></table><br/></div></div>"
            ],
            "text/plain": [
              "<IPython.core.display.HTML object>"
            ]
          },
          "metadata": {},
          "output_type": "display_data"
        },
        {
          "data": {
            "text/html": [
              "Synced <strong style=\"color:#cdcd00\">dandy-pond-14</strong>: <a href=\"https://wandb.ai/messlav/s4/runs/3sssotdp\" target=\"_blank\">https://wandb.ai/messlav/s4/runs/3sssotdp</a><br/>Synced 5 W&B file(s), 0 media file(s), 0 artifact file(s) and 0 other file(s)"
            ],
            "text/plain": [
              "<IPython.core.display.HTML object>"
            ]
          },
          "metadata": {},
          "output_type": "display_data"
        },
        {
          "data": {
            "text/html": [
              "Find logs at: <code>./wandb/run-20221108_220044-3sssotdp/logs</code>"
            ],
            "text/plain": [
              "<IPython.core.display.HTML object>"
            ]
          },
          "metadata": {},
          "output_type": "display_data"
        },
        {
          "data": {
            "text/html": [
              "Successfully finished last run (ID:3sssotdp). Initializing new run:<br/>"
            ],
            "text/plain": [
              "<IPython.core.display.HTML object>"
            ]
          },
          "metadata": {},
          "output_type": "display_data"
        },
        {
          "data": {
            "text/html": [
              "Tracking run with wandb version 0.13.5"
            ],
            "text/plain": [
              "<IPython.core.display.HTML object>"
            ]
          },
          "metadata": {},
          "output_type": "display_data"
        },
        {
          "data": {
            "text/html": [
              "Run data is saved locally in <code>/content/annotated-s4/wandb/run-20221108_220139-71l6s9tv</code>"
            ],
            "text/plain": [
              "<IPython.core.display.HTML object>"
            ]
          },
          "metadata": {},
          "output_type": "display_data"
        },
        {
          "data": {
            "text/html": [
              "Syncing run <strong><a href=\"https://wandb.ai/messlav/s4/runs/71l6s9tv\" target=\"_blank\">sage-frost-15</a></strong> to <a href=\"https://wandb.ai/messlav/s4\" target=\"_blank\">Weights & Biases</a> (<a href=\"https://wandb.me/run\" target=\"_blank\">docs</a>)<br/>"
            ],
            "text/plain": [
              "<IPython.core.display.HTML object>"
            ]
          },
          "metadata": {},
          "output_type": "display_data"
        },
        {
          "metadata": {
            "tags": null
          },
          "name": "stdout",
          "output_type": "stream",
          "text": [
            "[*] Setting Randomness...\n",
            "[*] Generating MNIST Classification Dataset...\n",
            "[*] Starting `s4` Training on `mnist-classification` =>> Initializing...\n",
            "x (784, 1)\n",
            "lin (784, 128)\n",
            "conv1 (784, 200)\n",
            "max_pool1 (775, 200)\n",
            "conv2 (775, 200)\n",
            "max_pool2 (768, 200)\n",
            "mean (200,)\n",
            "class (10,)\n",
            "[*] Trainable Parameters: 279466\n",
            "[*] Total training steps: 18760\n",
            "[*] Starting Training Epoch 1...\n"
          ]
        },
        {
          "metadata": {
            "tags": null
          },
          "name": "stderr",
          "output_type": "stream",
          "text": [
            "\r  0%|          | 0/469 [00:00<?, ?it/s]"
          ]
        },
        {
          "metadata": {
            "tags": null
          },
          "name": "stdout",
          "output_type": "stream",
          "text": [
            "x (784, 1)\n",
            "lin (784, 128)\n",
            "conv1 (784, 200)\n",
            "max_pool1 (775, 200)\n",
            "conv2 (775, 200)\n",
            "max_pool2 (768, 200)\n",
            "mean (200,)\n",
            "class (10,)\n"
          ]
        },
        {
          "metadata": {
            "tags": null
          },
          "name": "stderr",
          "output_type": "stream",
          "text": [
            "100%|█████████▉| 467/469 [00:26<00:00, 17.71it/s]"
          ]
        },
        {
          "metadata": {
            "tags": null
          },
          "name": "stdout",
          "output_type": "stream",
          "text": [
            "x (784, 1)\n",
            "lin (784, 128)\n",
            "conv1 (784, 200)\n",
            "max_pool1 (775, 200)\n",
            "conv2 (775, 200)\n",
            "max_pool2 (768, 200)\n",
            "mean (200,)\n",
            "class (10,)\n"
          ]
        },
        {
          "metadata": {
            "tags": null
          },
          "name": "stderr",
          "output_type": "stream",
          "text": [
            "100%|██████████| 469/469 [00:28<00:00, 16.55it/s]\n"
          ]
        },
        {
          "metadata": {
            "tags": null
          },
          "name": "stdout",
          "output_type": "stream",
          "text": [
            "[*] Running Epoch 1 Validation...\n"
          ]
        },
        {
          "metadata": {
            "tags": null
          },
          "name": "stderr",
          "output_type": "stream",
          "text": [
            "100%|██████████| 79/79 [00:02<00:00, 31.95it/s]\n"
          ]
        },
        {
          "metadata": {
            "tags": null
          },
          "name": "stdout",
          "output_type": "stream",
          "text": [
            "\n",
            "=>> Epoch 1 Metrics ===\n",
            "\tTrain Loss: 1.84864 -- Train Accuracy: 0.3431\n",
            "\t Test Loss: 1.53544 --  Test Accuracy: 0.4286\n",
            "\tBest Test Loss: 1.53544 -- Best Test Accuracy: 0.4286 at Epoch 1\n",
            "\n",
            "[*] Starting Training Epoch 2...\n"
          ]
        },
        {
          "metadata": {
            "tags": null
          },
          "name": "stderr",
          "output_type": "stream",
          "text": [
            "100%|██████████| 469/469 [00:25<00:00, 18.26it/s]\n"
          ]
        },
        {
          "metadata": {
            "tags": null
          },
          "name": "stdout",
          "output_type": "stream",
          "text": [
            "[*] Running Epoch 2 Validation...\n"
          ]
        },
        {
          "metadata": {
            "tags": null
          },
          "name": "stderr",
          "output_type": "stream",
          "text": [
            "100%|██████████| 79/79 [00:01<00:00, 55.95it/s]\n"
          ]
        },
        {
          "metadata": {
            "tags": null
          },
          "name": "stdout",
          "output_type": "stream",
          "text": [
            "\n",
            "=>> Epoch 2 Metrics ===\n",
            "\tTrain Loss: 1.46685 -- Train Accuracy: 0.4927\n",
            "\t Test Loss: 1.26484 --  Test Accuracy: 0.5694\n",
            "\tBest Test Loss: 1.26484 -- Best Test Accuracy: 0.5694 at Epoch 2\n",
            "\n",
            "[*] Starting Training Epoch 3...\n"
          ]
        },
        {
          "metadata": {
            "tags": null
          },
          "name": "stderr",
          "output_type": "stream",
          "text": [
            "100%|██████████| 469/469 [00:25<00:00, 18.75it/s]\n"
          ]
        },
        {
          "metadata": {
            "tags": null
          },
          "name": "stdout",
          "output_type": "stream",
          "text": [
            "[*] Running Epoch 3 Validation...\n"
          ]
        },
        {
          "metadata": {
            "tags": null
          },
          "name": "stderr",
          "output_type": "stream",
          "text": [
            "100%|██████████| 79/79 [00:01<00:00, 55.62it/s]\n"
          ]
        },
        {
          "metadata": {
            "tags": null
          },
          "name": "stdout",
          "output_type": "stream",
          "text": [
            "\n",
            "=>> Epoch 3 Metrics ===\n",
            "\tTrain Loss: 1.24556 -- Train Accuracy: 0.5773\n",
            "\t Test Loss: 1.12832 --  Test Accuracy: 0.6073\n",
            "\tBest Test Loss: 1.12832 -- Best Test Accuracy: 0.6073 at Epoch 3\n",
            "\n",
            "[*] Starting Training Epoch 4...\n"
          ]
        },
        {
          "metadata": {
            "tags": null
          },
          "name": "stderr",
          "output_type": "stream",
          "text": [
            "100%|██████████| 469/469 [00:24<00:00, 18.91it/s]\n"
          ]
        },
        {
          "metadata": {
            "tags": null
          },
          "name": "stdout",
          "output_type": "stream",
          "text": [
            "[*] Running Epoch 4 Validation...\n"
          ]
        },
        {
          "metadata": {
            "tags": null
          },
          "name": "stderr",
          "output_type": "stream",
          "text": [
            "100%|██████████| 79/79 [00:01<00:00, 57.41it/s]\n"
          ]
        },
        {
          "metadata": {
            "tags": null
          },
          "name": "stdout",
          "output_type": "stream",
          "text": [
            "\n",
            "=>> Epoch 4 Metrics ===\n",
            "\tTrain Loss: 1.09525 -- Train Accuracy: 0.6323\n",
            "\t Test Loss: 1.04040 --  Test Accuracy: 0.6337\n",
            "\tBest Test Loss: 1.04040 -- Best Test Accuracy: 0.6337 at Epoch 4\n",
            "\n",
            "[*] Starting Training Epoch 5...\n"
          ]
        },
        {
          "metadata": {
            "tags": null
          },
          "name": "stderr",
          "output_type": "stream",
          "text": [
            "100%|██████████| 469/469 [00:24<00:00, 18.97it/s]\n"
          ]
        },
        {
          "metadata": {
            "tags": null
          },
          "name": "stdout",
          "output_type": "stream",
          "text": [
            "[*] Running Epoch 5 Validation...\n"
          ]
        },
        {
          "metadata": {
            "tags": null
          },
          "name": "stderr",
          "output_type": "stream",
          "text": [
            "100%|██████████| 79/79 [00:01<00:00, 54.34it/s]\n"
          ]
        },
        {
          "metadata": {
            "tags": null
          },
          "name": "stdout",
          "output_type": "stream",
          "text": [
            "\n",
            "=>> Epoch 5 Metrics ===\n",
            "\tTrain Loss: 0.97482 -- Train Accuracy: 0.6765\n",
            "\t Test Loss: 0.89232 --  Test Accuracy: 0.7002\n",
            "\tBest Test Loss: 0.89232 -- Best Test Accuracy: 0.7002 at Epoch 5\n",
            "\n",
            "[*] Starting Training Epoch 6...\n"
          ]
        },
        {
          "metadata": {
            "tags": null
          },
          "name": "stderr",
          "output_type": "stream",
          "text": [
            "100%|██████████| 469/469 [00:24<00:00, 18.98it/s]\n"
          ]
        },
        {
          "metadata": {
            "tags": null
          },
          "name": "stdout",
          "output_type": "stream",
          "text": [
            "[*] Running Epoch 6 Validation...\n"
          ]
        },
        {
          "metadata": {
            "tags": null
          },
          "name": "stderr",
          "output_type": "stream",
          "text": [
            "100%|██████████| 79/79 [00:02<00:00, 26.95it/s]\n"
          ]
        },
        {
          "metadata": {
            "tags": null
          },
          "name": "stdout",
          "output_type": "stream",
          "text": [
            "\n",
            "=>> Epoch 6 Metrics ===\n",
            "\tTrain Loss: 0.89544 -- Train Accuracy: 0.7046\n",
            "\t Test Loss: 0.82520 --  Test Accuracy: 0.7290\n",
            "\tBest Test Loss: 0.82520 -- Best Test Accuracy: 0.7290 at Epoch 6\n",
            "\n",
            "[*] Starting Training Epoch 7...\n"
          ]
        },
        {
          "metadata": {
            "tags": null
          },
          "name": "stderr",
          "output_type": "stream",
          "text": [
            "100%|██████████| 469/469 [00:24<00:00, 19.10it/s]\n"
          ]
        },
        {
          "metadata": {
            "tags": null
          },
          "name": "stdout",
          "output_type": "stream",
          "text": [
            "[*] Running Epoch 7 Validation...\n"
          ]
        },
        {
          "metadata": {
            "tags": null
          },
          "name": "stderr",
          "output_type": "stream",
          "text": [
            "100%|██████████| 79/79 [00:01<00:00, 53.22it/s]\n"
          ]
        },
        {
          "metadata": {
            "tags": null
          },
          "name": "stdout",
          "output_type": "stream",
          "text": [
            "\n",
            "=>> Epoch 7 Metrics ===\n",
            "\tTrain Loss: 0.84052 -- Train Accuracy: 0.7270\n",
            "\t Test Loss: 0.80302 --  Test Accuracy: 0.7366\n",
            "\tBest Test Loss: 0.80302 -- Best Test Accuracy: 0.7366 at Epoch 7\n",
            "\n",
            "[*] Starting Training Epoch 8...\n"
          ]
        },
        {
          "metadata": {
            "tags": null
          },
          "name": "stderr",
          "output_type": "stream",
          "text": [
            "100%|██████████| 469/469 [00:24<00:00, 19.11it/s]\n"
          ]
        },
        {
          "metadata": {
            "tags": null
          },
          "name": "stdout",
          "output_type": "stream",
          "text": [
            "[*] Running Epoch 8 Validation...\n"
          ]
        },
        {
          "metadata": {
            "tags": null
          },
          "name": "stderr",
          "output_type": "stream",
          "text": [
            "100%|██████████| 79/79 [00:01<00:00, 55.05it/s]\n"
          ]
        },
        {
          "metadata": {
            "tags": null
          },
          "name": "stdout",
          "output_type": "stream",
          "text": [
            "\n",
            "=>> Epoch 8 Metrics ===\n",
            "\tTrain Loss: 0.81546 -- Train Accuracy: 0.7332\n",
            "\t Test Loss: 0.77007 --  Test Accuracy: 0.7628\n",
            "\tBest Test Loss: 0.77007 -- Best Test Accuracy: 0.7628 at Epoch 8\n",
            "\n",
            "[*] Starting Training Epoch 9...\n"
          ]
        },
        {
          "metadata": {
            "tags": null
          },
          "name": "stderr",
          "output_type": "stream",
          "text": [
            "100%|██████████| 469/469 [00:24<00:00, 19.12it/s]\n"
          ]
        },
        {
          "metadata": {
            "tags": null
          },
          "name": "stdout",
          "output_type": "stream",
          "text": [
            "[*] Running Epoch 9 Validation...\n"
          ]
        },
        {
          "metadata": {
            "tags": null
          },
          "name": "stderr",
          "output_type": "stream",
          "text": [
            "100%|██████████| 79/79 [00:01<00:00, 53.78it/s]\n"
          ]
        },
        {
          "metadata": {
            "tags": null
          },
          "name": "stdout",
          "output_type": "stream",
          "text": [
            "\n",
            "=>> Epoch 9 Metrics ===\n",
            "\tTrain Loss: 0.78191 -- Train Accuracy: 0.7442\n",
            "\t Test Loss: 0.75109 --  Test Accuracy: 0.7619\n",
            "\tBest Test Loss: 0.77007 -- Best Test Accuracy: 0.7628 at Epoch 8\n",
            "\n",
            "[*] Starting Training Epoch 10...\n"
          ]
        },
        {
          "metadata": {
            "tags": null
          },
          "name": "stderr",
          "output_type": "stream",
          "text": [
            "100%|██████████| 469/469 [00:24<00:00, 19.13it/s]\n"
          ]
        },
        {
          "metadata": {
            "tags": null
          },
          "name": "stdout",
          "output_type": "stream",
          "text": [
            "[*] Running Epoch 10 Validation...\n"
          ]
        },
        {
          "metadata": {
            "tags": null
          },
          "name": "stderr",
          "output_type": "stream",
          "text": [
            "100%|██████████| 79/79 [00:01<00:00, 54.86it/s]\n"
          ]
        },
        {
          "metadata": {
            "tags": null
          },
          "name": "stdout",
          "output_type": "stream",
          "text": [
            "\n",
            "=>> Epoch 10 Metrics ===\n",
            "\tTrain Loss: 0.75070 -- Train Accuracy: 0.7573\n",
            "\t Test Loss: 0.72248 --  Test Accuracy: 0.7786\n",
            "\tBest Test Loss: 0.72248 -- Best Test Accuracy: 0.7786 at Epoch 10\n",
            "\n",
            "[*] Starting Training Epoch 11...\n"
          ]
        },
        {
          "metadata": {
            "tags": null
          },
          "name": "stderr",
          "output_type": "stream",
          "text": [
            "100%|██████████| 469/469 [00:24<00:00, 19.19it/s]\n"
          ]
        },
        {
          "metadata": {
            "tags": null
          },
          "name": "stdout",
          "output_type": "stream",
          "text": [
            "[*] Running Epoch 11 Validation...\n"
          ]
        },
        {
          "metadata": {
            "tags": null
          },
          "name": "stderr",
          "output_type": "stream",
          "text": [
            "100%|██████████| 79/79 [00:02<00:00, 27.08it/s]\n"
          ]
        },
        {
          "metadata": {
            "tags": null
          },
          "name": "stdout",
          "output_type": "stream",
          "text": [
            "\n",
            "=>> Epoch 11 Metrics ===\n",
            "\tTrain Loss: 0.74282 -- Train Accuracy: 0.7603\n",
            "\t Test Loss: 0.78752 --  Test Accuracy: 0.7620\n",
            "\tBest Test Loss: 0.72248 -- Best Test Accuracy: 0.7786 at Epoch 10\n",
            "\n",
            "[*] Starting Training Epoch 12...\n"
          ]
        },
        {
          "metadata": {
            "tags": null
          },
          "name": "stderr",
          "output_type": "stream",
          "text": [
            "100%|██████████| 469/469 [00:24<00:00, 19.25it/s]\n"
          ]
        },
        {
          "metadata": {
            "tags": null
          },
          "name": "stdout",
          "output_type": "stream",
          "text": [
            "[*] Running Epoch 12 Validation...\n"
          ]
        },
        {
          "metadata": {
            "tags": null
          },
          "name": "stderr",
          "output_type": "stream",
          "text": [
            "100%|██████████| 79/79 [00:01<00:00, 54.68it/s]\n"
          ]
        },
        {
          "metadata": {
            "tags": null
          },
          "name": "stdout",
          "output_type": "stream",
          "text": [
            "\n",
            "=>> Epoch 12 Metrics ===\n",
            "\tTrain Loss: 0.71362 -- Train Accuracy: 0.7683\n",
            "\t Test Loss: 0.74366 --  Test Accuracy: 0.7581\n",
            "\tBest Test Loss: 0.72248 -- Best Test Accuracy: 0.7786 at Epoch 10\n",
            "\n",
            "[*] Starting Training Epoch 13...\n"
          ]
        },
        {
          "metadata": {
            "tags": null
          },
          "name": "stderr",
          "output_type": "stream",
          "text": [
            "100%|██████████| 469/469 [00:24<00:00, 19.21it/s]\n"
          ]
        },
        {
          "metadata": {
            "tags": null
          },
          "name": "stdout",
          "output_type": "stream",
          "text": [
            "[*] Running Epoch 13 Validation...\n"
          ]
        },
        {
          "metadata": {
            "tags": null
          },
          "name": "stderr",
          "output_type": "stream",
          "text": [
            "100%|██████████| 79/79 [00:01<00:00, 54.90it/s]\n"
          ]
        },
        {
          "metadata": {
            "tags": null
          },
          "name": "stdout",
          "output_type": "stream",
          "text": [
            "\n",
            "=>> Epoch 13 Metrics ===\n",
            "\tTrain Loss: 0.70881 -- Train Accuracy: 0.7720\n",
            "\t Test Loss: 0.68958 --  Test Accuracy: 0.7928\n",
            "\tBest Test Loss: 0.68958 -- Best Test Accuracy: 0.7928 at Epoch 13\n",
            "\n",
            "[*] Starting Training Epoch 14...\n"
          ]
        },
        {
          "metadata": {
            "tags": null
          },
          "name": "stderr",
          "output_type": "stream",
          "text": [
            "100%|██████████| 469/469 [00:24<00:00, 19.28it/s]\n"
          ]
        },
        {
          "metadata": {
            "tags": null
          },
          "name": "stdout",
          "output_type": "stream",
          "text": [
            "[*] Running Epoch 14 Validation...\n"
          ]
        },
        {
          "metadata": {
            "tags": null
          },
          "name": "stderr",
          "output_type": "stream",
          "text": [
            "100%|██████████| 79/79 [00:01<00:00, 56.40it/s]\n"
          ]
        },
        {
          "metadata": {
            "tags": null
          },
          "name": "stdout",
          "output_type": "stream",
          "text": [
            "\n",
            "=>> Epoch 14 Metrics ===\n",
            "\tTrain Loss: 0.67034 -- Train Accuracy: 0.7840\n",
            "\t Test Loss: 0.65168 --  Test Accuracy: 0.7908\n",
            "\tBest Test Loss: 0.68958 -- Best Test Accuracy: 0.7928 at Epoch 13\n",
            "\n",
            "[*] Starting Training Epoch 15...\n"
          ]
        },
        {
          "metadata": {
            "tags": null
          },
          "name": "stderr",
          "output_type": "stream",
          "text": [
            "100%|██████████| 469/469 [00:24<00:00, 19.33it/s]\n"
          ]
        },
        {
          "metadata": {
            "tags": null
          },
          "name": "stdout",
          "output_type": "stream",
          "text": [
            "[*] Running Epoch 15 Validation...\n"
          ]
        },
        {
          "metadata": {
            "tags": null
          },
          "name": "stderr",
          "output_type": "stream",
          "text": [
            "100%|██████████| 79/79 [00:01<00:00, 55.52it/s]\n"
          ]
        },
        {
          "metadata": {
            "tags": null
          },
          "name": "stdout",
          "output_type": "stream",
          "text": [
            "\n",
            "=>> Epoch 15 Metrics ===\n",
            "\tTrain Loss: 0.66468 -- Train Accuracy: 0.7858\n",
            "\t Test Loss: 0.71027 --  Test Accuracy: 0.7746\n",
            "\tBest Test Loss: 0.68958 -- Best Test Accuracy: 0.7928 at Epoch 13\n",
            "\n",
            "[*] Starting Training Epoch 16...\n"
          ]
        },
        {
          "metadata": {
            "tags": null
          },
          "name": "stderr",
          "output_type": "stream",
          "text": [
            "100%|██████████| 469/469 [00:24<00:00, 19.31it/s]\n"
          ]
        },
        {
          "metadata": {
            "tags": null
          },
          "name": "stdout",
          "output_type": "stream",
          "text": [
            "[*] Running Epoch 16 Validation...\n"
          ]
        },
        {
          "metadata": {
            "tags": null
          },
          "name": "stderr",
          "output_type": "stream",
          "text": [
            "100%|██████████| 79/79 [00:02<00:00, 29.47it/s]\n"
          ]
        },
        {
          "metadata": {
            "tags": null
          },
          "name": "stdout",
          "output_type": "stream",
          "text": [
            "\n",
            "=>> Epoch 16 Metrics ===\n",
            "\tTrain Loss: 0.64636 -- Train Accuracy: 0.7923\n",
            "\t Test Loss: 0.61601 --  Test Accuracy: 0.8054\n",
            "\tBest Test Loss: 0.61601 -- Best Test Accuracy: 0.8054 at Epoch 16\n",
            "\n",
            "[*] Starting Training Epoch 17...\n"
          ]
        },
        {
          "metadata": {
            "tags": null
          },
          "name": "stderr",
          "output_type": "stream",
          "text": [
            "100%|██████████| 469/469 [00:24<00:00, 19.33it/s]\n"
          ]
        },
        {
          "metadata": {
            "tags": null
          },
          "name": "stdout",
          "output_type": "stream",
          "text": [
            "[*] Running Epoch 17 Validation...\n"
          ]
        },
        {
          "metadata": {
            "tags": null
          },
          "name": "stderr",
          "output_type": "stream",
          "text": [
            "100%|██████████| 79/79 [00:01<00:00, 55.10it/s]\n"
          ]
        },
        {
          "metadata": {
            "tags": null
          },
          "name": "stdout",
          "output_type": "stream",
          "text": [
            "\n",
            "=>> Epoch 17 Metrics ===\n",
            "\tTrain Loss: 0.63138 -- Train Accuracy: 0.7970\n",
            "\t Test Loss: 0.70446 --  Test Accuracy: 0.7618\n",
            "\tBest Test Loss: 0.61601 -- Best Test Accuracy: 0.8054 at Epoch 16\n",
            "\n",
            "[*] Starting Training Epoch 18...\n"
          ]
        },
        {
          "metadata": {
            "tags": null
          },
          "name": "stderr",
          "output_type": "stream",
          "text": [
            "100%|██████████| 469/469 [00:24<00:00, 19.33it/s]\n"
          ]
        },
        {
          "metadata": {
            "tags": null
          },
          "name": "stdout",
          "output_type": "stream",
          "text": [
            "[*] Running Epoch 18 Validation...\n"
          ]
        },
        {
          "metadata": {
            "tags": null
          },
          "name": "stderr",
          "output_type": "stream",
          "text": [
            "100%|██████████| 79/79 [00:01<00:00, 55.39it/s]\n"
          ]
        },
        {
          "metadata": {
            "tags": null
          },
          "name": "stdout",
          "output_type": "stream",
          "text": [
            "\n",
            "=>> Epoch 18 Metrics ===\n",
            "\tTrain Loss: 0.62011 -- Train Accuracy: 0.8022\n",
            "\t Test Loss: 0.65618 --  Test Accuracy: 0.7951\n",
            "\tBest Test Loss: 0.61601 -- Best Test Accuracy: 0.8054 at Epoch 16\n",
            "\n",
            "[*] Starting Training Epoch 19...\n"
          ]
        },
        {
          "metadata": {
            "tags": null
          },
          "name": "stderr",
          "output_type": "stream",
          "text": [
            "100%|██████████| 469/469 [00:24<00:00, 19.34it/s]\n"
          ]
        },
        {
          "metadata": {
            "tags": null
          },
          "name": "stdout",
          "output_type": "stream",
          "text": [
            "[*] Running Epoch 19 Validation...\n"
          ]
        },
        {
          "metadata": {
            "tags": null
          },
          "name": "stderr",
          "output_type": "stream",
          "text": [
            "100%|██████████| 79/79 [00:01<00:00, 53.68it/s]\n"
          ]
        },
        {
          "metadata": {
            "tags": null
          },
          "name": "stdout",
          "output_type": "stream",
          "text": [
            "\n",
            "=>> Epoch 19 Metrics ===\n",
            "\tTrain Loss: 0.60686 -- Train Accuracy: 0.8045\n",
            "\t Test Loss: 0.65708 --  Test Accuracy: 0.7897\n",
            "\tBest Test Loss: 0.61601 -- Best Test Accuracy: 0.8054 at Epoch 16\n",
            "\n",
            "[*] Starting Training Epoch 20...\n"
          ]
        },
        {
          "metadata": {
            "tags": null
          },
          "name": "stderr",
          "output_type": "stream",
          "text": [
            "100%|██████████| 469/469 [00:24<00:00, 19.35it/s]\n"
          ]
        },
        {
          "metadata": {
            "tags": null
          },
          "name": "stdout",
          "output_type": "stream",
          "text": [
            "[*] Running Epoch 20 Validation...\n"
          ]
        },
        {
          "metadata": {
            "tags": null
          },
          "name": "stderr",
          "output_type": "stream",
          "text": [
            "100%|██████████| 79/79 [00:01<00:00, 55.23it/s]\n"
          ]
        },
        {
          "metadata": {
            "tags": null
          },
          "name": "stdout",
          "output_type": "stream",
          "text": [
            "\n",
            "=>> Epoch 20 Metrics ===\n",
            "\tTrain Loss: 0.59941 -- Train Accuracy: 0.8075\n",
            "\t Test Loss: 0.65860 --  Test Accuracy: 0.7884\n",
            "\tBest Test Loss: 0.61601 -- Best Test Accuracy: 0.8054 at Epoch 16\n",
            "\n",
            "[*] Starting Training Epoch 21...\n"
          ]
        },
        {
          "metadata": {
            "tags": null
          },
          "name": "stderr",
          "output_type": "stream",
          "text": [
            "100%|██████████| 469/469 [00:24<00:00, 19.37it/s]\n"
          ]
        },
        {
          "metadata": {
            "tags": null
          },
          "name": "stdout",
          "output_type": "stream",
          "text": [
            "[*] Running Epoch 21 Validation...\n"
          ]
        },
        {
          "metadata": {
            "tags": null
          },
          "name": "stderr",
          "output_type": "stream",
          "text": [
            "100%|██████████| 79/79 [00:02<00:00, 28.47it/s]\n"
          ]
        },
        {
          "metadata": {
            "tags": null
          },
          "name": "stdout",
          "output_type": "stream",
          "text": [
            "\n",
            "=>> Epoch 21 Metrics ===\n",
            "\tTrain Loss: 0.58333 -- Train Accuracy: 0.8123\n",
            "\t Test Loss: 0.64306 --  Test Accuracy: 0.7940\n",
            "\tBest Test Loss: 0.61601 -- Best Test Accuracy: 0.8054 at Epoch 16\n",
            "\n",
            "[*] Starting Training Epoch 22...\n"
          ]
        },
        {
          "metadata": {
            "tags": null
          },
          "name": "stderr",
          "output_type": "stream",
          "text": [
            "100%|██████████| 469/469 [00:24<00:00, 19.42it/s]\n"
          ]
        },
        {
          "metadata": {
            "tags": null
          },
          "name": "stdout",
          "output_type": "stream",
          "text": [
            "[*] Running Epoch 22 Validation...\n"
          ]
        },
        {
          "metadata": {
            "tags": null
          },
          "name": "stderr",
          "output_type": "stream",
          "text": [
            "100%|██████████| 79/79 [00:01<00:00, 54.89it/s]\n"
          ]
        },
        {
          "metadata": {
            "tags": null
          },
          "name": "stdout",
          "output_type": "stream",
          "text": [
            "\n",
            "=>> Epoch 22 Metrics ===\n",
            "\tTrain Loss: 0.57951 -- Train Accuracy: 0.8141\n",
            "\t Test Loss: 0.57558 --  Test Accuracy: 0.8164\n",
            "\tBest Test Loss: 0.57558 -- Best Test Accuracy: 0.8164 at Epoch 22\n",
            "\n",
            "[*] Starting Training Epoch 23...\n"
          ]
        },
        {
          "metadata": {
            "tags": null
          },
          "name": "stderr",
          "output_type": "stream",
          "text": [
            "100%|██████████| 469/469 [00:24<00:00, 19.41it/s]\n"
          ]
        },
        {
          "metadata": {
            "tags": null
          },
          "name": "stdout",
          "output_type": "stream",
          "text": [
            "[*] Running Epoch 23 Validation...\n"
          ]
        },
        {
          "metadata": {
            "tags": null
          },
          "name": "stderr",
          "output_type": "stream",
          "text": [
            "100%|██████████| 79/79 [00:01<00:00, 53.35it/s]\n"
          ]
        },
        {
          "metadata": {
            "tags": null
          },
          "name": "stdout",
          "output_type": "stream",
          "text": [
            "\n",
            "=>> Epoch 23 Metrics ===\n",
            "\tTrain Loss: 0.56329 -- Train Accuracy: 0.8197\n",
            "\t Test Loss: 0.61376 --  Test Accuracy: 0.8099\n",
            "\tBest Test Loss: 0.57558 -- Best Test Accuracy: 0.8164 at Epoch 22\n",
            "\n",
            "[*] Starting Training Epoch 24...\n"
          ]
        },
        {
          "metadata": {
            "tags": null
          },
          "name": "stderr",
          "output_type": "stream",
          "text": [
            "100%|██████████| 469/469 [00:24<00:00, 19.33it/s]\n"
          ]
        },
        {
          "metadata": {
            "tags": null
          },
          "name": "stdout",
          "output_type": "stream",
          "text": [
            "[*] Running Epoch 24 Validation...\n"
          ]
        },
        {
          "metadata": {
            "tags": null
          },
          "name": "stderr",
          "output_type": "stream",
          "text": [
            "100%|██████████| 79/79 [00:01<00:00, 55.80it/s]\n"
          ]
        },
        {
          "metadata": {
            "tags": null
          },
          "name": "stdout",
          "output_type": "stream",
          "text": [
            "\n",
            "=>> Epoch 24 Metrics ===\n",
            "\tTrain Loss: 0.55229 -- Train Accuracy: 0.8236\n",
            "\t Test Loss: 0.57197 --  Test Accuracy: 0.8164\n",
            "\tBest Test Loss: 0.57558 -- Best Test Accuracy: 0.8164 at Epoch 22\n",
            "\n",
            "[*] Starting Training Epoch 25...\n"
          ]
        },
        {
          "metadata": {
            "tags": null
          },
          "name": "stderr",
          "output_type": "stream",
          "text": [
            "100%|██████████| 469/469 [00:24<00:00, 19.30it/s]\n"
          ]
        },
        {
          "metadata": {
            "tags": null
          },
          "name": "stdout",
          "output_type": "stream",
          "text": [
            "[*] Running Epoch 25 Validation...\n"
          ]
        },
        {
          "metadata": {
            "tags": null
          },
          "name": "stderr",
          "output_type": "stream",
          "text": [
            "100%|██████████| 79/79 [00:01<00:00, 55.09it/s]\n"
          ]
        },
        {
          "metadata": {
            "tags": null
          },
          "name": "stdout",
          "output_type": "stream",
          "text": [
            "\n",
            "=>> Epoch 25 Metrics ===\n",
            "\tTrain Loss: 0.53795 -- Train Accuracy: 0.8293\n",
            "\t Test Loss: 0.55533 --  Test Accuracy: 0.8302\n",
            "\tBest Test Loss: 0.55533 -- Best Test Accuracy: 0.8302 at Epoch 25\n",
            "\n",
            "[*] Starting Training Epoch 26...\n"
          ]
        },
        {
          "metadata": {
            "tags": null
          },
          "name": "stderr",
          "output_type": "stream",
          "text": [
            "100%|██████████| 469/469 [00:24<00:00, 19.35it/s]\n"
          ]
        },
        {
          "metadata": {
            "tags": null
          },
          "name": "stdout",
          "output_type": "stream",
          "text": [
            "[*] Running Epoch 26 Validation...\n"
          ]
        },
        {
          "metadata": {
            "tags": null
          },
          "name": "stderr",
          "output_type": "stream",
          "text": [
            "100%|██████████| 79/79 [00:02<00:00, 29.69it/s]\n"
          ]
        },
        {
          "metadata": {
            "tags": null
          },
          "name": "stdout",
          "output_type": "stream",
          "text": [
            "\n",
            "=>> Epoch 26 Metrics ===\n",
            "\tTrain Loss: 0.53053 -- Train Accuracy: 0.8299\n",
            "\t Test Loss: 0.57750 --  Test Accuracy: 0.8199\n",
            "\tBest Test Loss: 0.55533 -- Best Test Accuracy: 0.8302 at Epoch 25\n",
            "\n",
            "[*] Starting Training Epoch 27...\n"
          ]
        },
        {
          "metadata": {
            "tags": null
          },
          "name": "stderr",
          "output_type": "stream",
          "text": [
            "100%|██████████| 469/469 [00:24<00:00, 19.39it/s]\n"
          ]
        },
        {
          "metadata": {
            "tags": null
          },
          "name": "stdout",
          "output_type": "stream",
          "text": [
            "[*] Running Epoch 27 Validation...\n"
          ]
        },
        {
          "metadata": {
            "tags": null
          },
          "name": "stderr",
          "output_type": "stream",
          "text": [
            "100%|██████████| 79/79 [00:01<00:00, 57.27it/s]\n"
          ]
        },
        {
          "metadata": {
            "tags": null
          },
          "name": "stdout",
          "output_type": "stream",
          "text": [
            "\n",
            "=>> Epoch 27 Metrics ===\n",
            "\tTrain Loss: 0.52157 -- Train Accuracy: 0.8332\n",
            "\t Test Loss: 0.55265 --  Test Accuracy: 0.8316\n",
            "\tBest Test Loss: 0.55265 -- Best Test Accuracy: 0.8316 at Epoch 27\n",
            "\n",
            "[*] Starting Training Epoch 28...\n"
          ]
        },
        {
          "metadata": {
            "tags": null
          },
          "name": "stderr",
          "output_type": "stream",
          "text": [
            "100%|██████████| 469/469 [00:24<00:00, 19.41it/s]\n"
          ]
        },
        {
          "metadata": {
            "tags": null
          },
          "name": "stdout",
          "output_type": "stream",
          "text": [
            "[*] Running Epoch 28 Validation...\n"
          ]
        },
        {
          "metadata": {
            "tags": null
          },
          "name": "stderr",
          "output_type": "stream",
          "text": [
            "100%|██████████| 79/79 [00:02<00:00, 28.39it/s]\n"
          ]
        },
        {
          "metadata": {
            "tags": null
          },
          "name": "stdout",
          "output_type": "stream",
          "text": [
            "\n",
            "=>> Epoch 28 Metrics ===\n",
            "\tTrain Loss: 0.51258 -- Train Accuracy: 0.8368\n",
            "\t Test Loss: 0.54170 --  Test Accuracy: 0.8295\n",
            "\tBest Test Loss: 0.55265 -- Best Test Accuracy: 0.8316 at Epoch 27\n",
            "\n",
            "[*] Starting Training Epoch 29...\n"
          ]
        },
        {
          "metadata": {
            "tags": null
          },
          "name": "stderr",
          "output_type": "stream",
          "text": [
            "100%|██████████| 469/469 [00:24<00:00, 19.37it/s]\n"
          ]
        },
        {
          "metadata": {
            "tags": null
          },
          "name": "stdout",
          "output_type": "stream",
          "text": [
            "[*] Running Epoch 29 Validation...\n"
          ]
        },
        {
          "metadata": {
            "tags": null
          },
          "name": "stderr",
          "output_type": "stream",
          "text": [
            "100%|██████████| 79/79 [00:01<00:00, 55.15it/s]\n"
          ]
        },
        {
          "metadata": {
            "tags": null
          },
          "name": "stdout",
          "output_type": "stream",
          "text": [
            "\n",
            "=>> Epoch 29 Metrics ===\n",
            "\tTrain Loss: 0.50523 -- Train Accuracy: 0.8402\n",
            "\t Test Loss: 0.55726 --  Test Accuracy: 0.8229\n",
            "\tBest Test Loss: 0.55265 -- Best Test Accuracy: 0.8316 at Epoch 27\n",
            "\n",
            "[*] Starting Training Epoch 30...\n"
          ]
        },
        {
          "metadata": {
            "tags": null
          },
          "name": "stderr",
          "output_type": "stream",
          "text": [
            "100%|██████████| 469/469 [00:24<00:00, 19.28it/s]\n"
          ]
        },
        {
          "metadata": {
            "tags": null
          },
          "name": "stdout",
          "output_type": "stream",
          "text": [
            "[*] Running Epoch 30 Validation...\n"
          ]
        },
        {
          "metadata": {
            "tags": null
          },
          "name": "stderr",
          "output_type": "stream",
          "text": [
            "100%|██████████| 79/79 [00:01<00:00, 56.06it/s]\n"
          ]
        },
        {
          "metadata": {
            "tags": null
          },
          "name": "stdout",
          "output_type": "stream",
          "text": [
            "\n",
            "=>> Epoch 30 Metrics ===\n",
            "\tTrain Loss: 0.49849 -- Train Accuracy: 0.8417\n",
            "\t Test Loss: 0.53583 --  Test Accuracy: 0.8296\n",
            "\tBest Test Loss: 0.55265 -- Best Test Accuracy: 0.8316 at Epoch 27\n",
            "\n",
            "[*] Starting Training Epoch 31...\n"
          ]
        },
        {
          "metadata": {
            "tags": null
          },
          "name": "stderr",
          "output_type": "stream",
          "text": [
            "100%|██████████| 469/469 [00:24<00:00, 19.41it/s]\n"
          ]
        },
        {
          "metadata": {
            "tags": null
          },
          "name": "stdout",
          "output_type": "stream",
          "text": [
            "[*] Running Epoch 31 Validation...\n"
          ]
        },
        {
          "metadata": {
            "tags": null
          },
          "name": "stderr",
          "output_type": "stream",
          "text": [
            "100%|██████████| 79/79 [00:01<00:00, 54.27it/s]\n"
          ]
        },
        {
          "metadata": {
            "tags": null
          },
          "name": "stdout",
          "output_type": "stream",
          "text": [
            "\n",
            "=>> Epoch 31 Metrics ===\n",
            "\tTrain Loss: 0.49024 -- Train Accuracy: 0.8453\n",
            "\t Test Loss: 0.52599 --  Test Accuracy: 0.8352\n",
            "\tBest Test Loss: 0.52599 -- Best Test Accuracy: 0.8352 at Epoch 31\n",
            "\n",
            "[*] Starting Training Epoch 32...\n"
          ]
        },
        {
          "output_type": "stream",
          "name": "stderr",
          "text": [
            "100%|██████████| 469/469 [00:24<00:00, 19.34it/s]\n"
          ]
        },
        {
          "output_type": "stream",
          "name": "stdout",
          "text": [
            "[*] Running Epoch 32 Validation...\n"
          ]
        },
        {
          "output_type": "stream",
          "name": "stderr",
          "text": [
            "100%|██████████| 79/79 [00:01<00:00, 55.41it/s]\n"
          ]
        },
        {
          "output_type": "stream",
          "name": "stdout",
          "text": [
            "\n",
            "=>> Epoch 32 Metrics ===\n",
            "\tTrain Loss: 0.47920 -- Train Accuracy: 0.8484\n",
            "\t Test Loss: 0.52834 --  Test Accuracy: 0.8365\n",
            "\tBest Test Loss: 0.52834 -- Best Test Accuracy: 0.8365 at Epoch 32\n",
            "\n",
            "[*] Starting Training Epoch 33...\n"
          ]
        },
        {
          "output_type": "stream",
          "name": "stderr",
          "text": [
            "100%|██████████| 469/469 [00:24<00:00, 19.26it/s]\n"
          ]
        },
        {
          "output_type": "stream",
          "name": "stdout",
          "text": [
            "[*] Running Epoch 33 Validation...\n"
          ]
        },
        {
          "output_type": "stream",
          "name": "stderr",
          "text": [
            "100%|██████████| 79/79 [00:02<00:00, 28.69it/s]\n"
          ]
        },
        {
          "output_type": "stream",
          "name": "stdout",
          "text": [
            "\n",
            "=>> Epoch 33 Metrics ===\n",
            "\tTrain Loss: 0.47398 -- Train Accuracy: 0.8504\n",
            "\t Test Loss: 0.51350 --  Test Accuracy: 0.8403\n",
            "\tBest Test Loss: 0.51350 -- Best Test Accuracy: 0.8403 at Epoch 33\n",
            "\n",
            "[*] Starting Training Epoch 34...\n"
          ]
        },
        {
          "output_type": "stream",
          "name": "stderr",
          "text": [
            "100%|██████████| 469/469 [00:24<00:00, 19.35it/s]\n"
          ]
        },
        {
          "output_type": "stream",
          "name": "stdout",
          "text": [
            "[*] Running Epoch 34 Validation...\n"
          ]
        },
        {
          "output_type": "stream",
          "name": "stderr",
          "text": [
            "100%|██████████| 79/79 [00:01<00:00, 57.50it/s]\n"
          ]
        },
        {
          "output_type": "stream",
          "name": "stdout",
          "text": [
            "\n",
            "=>> Epoch 34 Metrics ===\n",
            "\tTrain Loss: 0.46562 -- Train Accuracy: 0.8535\n",
            "\t Test Loss: 0.50528 --  Test Accuracy: 0.8438\n",
            "\tBest Test Loss: 0.50528 -- Best Test Accuracy: 0.8438 at Epoch 34\n",
            "\n",
            "[*] Starting Training Epoch 35...\n"
          ]
        },
        {
          "output_type": "stream",
          "name": "stderr",
          "text": [
            "100%|██████████| 469/469 [00:24<00:00, 19.38it/s]\n"
          ]
        },
        {
          "output_type": "stream",
          "name": "stdout",
          "text": [
            "[*] Running Epoch 35 Validation...\n"
          ]
        },
        {
          "output_type": "stream",
          "name": "stderr",
          "text": [
            "100%|██████████| 79/79 [00:01<00:00, 57.06it/s]\n"
          ]
        },
        {
          "output_type": "stream",
          "name": "stdout",
          "text": [
            "\n",
            "=>> Epoch 35 Metrics ===\n",
            "\tTrain Loss: 0.46126 -- Train Accuracy: 0.8551\n",
            "\t Test Loss: 0.50254 --  Test Accuracy: 0.8449\n",
            "\tBest Test Loss: 0.50254 -- Best Test Accuracy: 0.8449 at Epoch 35\n",
            "\n",
            "[*] Starting Training Epoch 36...\n"
          ]
        },
        {
          "output_type": "stream",
          "name": "stderr",
          "text": [
            "  5%|▌         | 25/469 [00:00<00:14, 31.26it/s]\n"
          ]
        },
        {
          "output_type": "error",
          "ename": "KeyboardInterrupt",
          "evalue": "ignored",
          "traceback": [
            "\u001b[0;31m---------------------------------------------------------------------------\u001b[0m",
            "\u001b[0;31mKeyboardInterrupt\u001b[0m                         Traceback (most recent call last)",
            "\u001b[0;32m<ipython-input-83-942e7bfc0afb>\u001b[0m in \u001b[0;36m<module>\u001b[0;34m\u001b[0m\n\u001b[1;32m     68\u001b[0m         \u001b[0mmodel_cls\u001b[0m\u001b[0;34m,\u001b[0m\u001b[0;34m\u001b[0m\u001b[0;34m\u001b[0m\u001b[0m\n\u001b[1;32m     69\u001b[0m         \u001b[0mtrainloader\u001b[0m\u001b[0;34m,\u001b[0m\u001b[0;34m\u001b[0m\u001b[0;34m\u001b[0m\u001b[0m\n\u001b[0;32m---> 70\u001b[0;31m         \u001b[0mclassification\u001b[0m\u001b[0;34m=\u001b[0m\u001b[0mclassification\u001b[0m\u001b[0;34m,\u001b[0m\u001b[0;34m\u001b[0m\u001b[0;34m\u001b[0m\u001b[0m\n\u001b[0m\u001b[1;32m     71\u001b[0m     )\n\u001b[1;32m     72\u001b[0m \u001b[0;34m\u001b[0m\u001b[0m\n",
            "\u001b[0;32m<ipython-input-16-0d6b35903b1b>\u001b[0m in \u001b[0;36mtrain_epoch\u001b[0;34m(state, rng, model, trainloader, classification)\u001b[0m\n\u001b[1;32m    126\u001b[0m         \u001b[0;31m# print('inputs', inputs.shape)\u001b[0m\u001b[0;34m\u001b[0m\u001b[0;34m\u001b[0m\u001b[0;34m\u001b[0m\u001b[0m\n\u001b[1;32m    127\u001b[0m         \u001b[0;31m# print('labels', labels.shape)\u001b[0m\u001b[0;34m\u001b[0m\u001b[0;34m\u001b[0m\u001b[0;34m\u001b[0m\u001b[0m\n\u001b[0;32m--> 128\u001b[0;31m         \u001b[0mrng\u001b[0m\u001b[0;34m,\u001b[0m \u001b[0mdrop_rng\u001b[0m \u001b[0;34m=\u001b[0m \u001b[0mjax\u001b[0m\u001b[0;34m.\u001b[0m\u001b[0mrandom\u001b[0m\u001b[0;34m.\u001b[0m\u001b[0msplit\u001b[0m\u001b[0;34m(\u001b[0m\u001b[0mrng\u001b[0m\u001b[0;34m)\u001b[0m\u001b[0;34m\u001b[0m\u001b[0;34m\u001b[0m\u001b[0m\n\u001b[0m\u001b[1;32m    129\u001b[0m         state, loss, acc = train_step(\n\u001b[1;32m    130\u001b[0m             \u001b[0mstate\u001b[0m\u001b[0;34m,\u001b[0m\u001b[0;34m\u001b[0m\u001b[0;34m\u001b[0m\u001b[0m\n",
            "\u001b[0;32m/usr/local/lib/python3.7/dist-packages/jax/_src/device_array.py\u001b[0m in \u001b[0;36m<genexpr>\u001b[0;34m(.0)\u001b[0m\n\u001b[1;32m    250\u001b[0m       \u001b[0;32mraise\u001b[0m \u001b[0mTypeError\u001b[0m\u001b[0;34m(\u001b[0m\u001b[0;34m\"iteration over a 0-d array\"\u001b[0m\u001b[0;34m)\u001b[0m  \u001b[0;31m# same as numpy error\u001b[0m\u001b[0;34m\u001b[0m\u001b[0;34m\u001b[0m\u001b[0m\n\u001b[1;32m    251\u001b[0m     \u001b[0;32melse\u001b[0m\u001b[0;34m:\u001b[0m\u001b[0;34m\u001b[0m\u001b[0;34m\u001b[0m\u001b[0m\n\u001b[0;32m--> 252\u001b[0;31m       \u001b[0;32mreturn\u001b[0m \u001b[0;34m(\u001b[0m\u001b[0msl\u001b[0m \u001b[0;32mfor\u001b[0m \u001b[0mchunk\u001b[0m \u001b[0;32min\u001b[0m \u001b[0mself\u001b[0m\u001b[0;34m.\u001b[0m\u001b[0m_chunk_iter\u001b[0m\u001b[0;34m(\u001b[0m\u001b[0;36m100\u001b[0m\u001b[0;34m)\u001b[0m \u001b[0;32mfor\u001b[0m \u001b[0msl\u001b[0m \u001b[0;32min\u001b[0m \u001b[0mchunk\u001b[0m\u001b[0;34m.\u001b[0m\u001b[0m_unstack\u001b[0m\u001b[0;34m(\u001b[0m\u001b[0;34m)\u001b[0m\u001b[0;34m)\u001b[0m\u001b[0;34m\u001b[0m\u001b[0;34m\u001b[0m\u001b[0m\n\u001b[0m\u001b[1;32m    253\u001b[0m \u001b[0;34m\u001b[0m\u001b[0m\n\u001b[1;32m    254\u001b[0m   \u001b[0msetattr\u001b[0m\u001b[0;34m(\u001b[0m\u001b[0mdevice_array\u001b[0m\u001b[0;34m,\u001b[0m \u001b[0;34m\"__iter__\"\u001b[0m\u001b[0;34m,\u001b[0m \u001b[0m__iter__\u001b[0m\u001b[0;34m)\u001b[0m\u001b[0;34m\u001b[0m\u001b[0;34m\u001b[0m\u001b[0m\n",
            "\u001b[0;31mKeyboardInterrupt\u001b[0m: "
          ]
        }
      ]
    }
  ]
}
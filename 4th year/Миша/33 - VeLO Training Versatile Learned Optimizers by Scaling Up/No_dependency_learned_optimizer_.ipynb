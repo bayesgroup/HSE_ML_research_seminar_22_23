{
  "cells": [
    {
      "cell_type": "markdown",
      "metadata": {
        "id": "fsuA88fu5HSV"
      },
      "source": [
        "# No dependency introduction to learned optimizers in JAX\n",
        "\n",
        "This notebook contains a self contained implementation of learned optimizers in JAX.\n",
        "It is minimal in the hopes that it is easier to follow and give readers a better understanding of what is involved. First we start with some background describing what learned optimizer are. We begin the implementation by implementing a simple MLP and train it with a hand designed optimizer. We then introduce a simple learned optimizer and discuss multiple ways to meta-train the weights of this learned optimizers including gradients, and evolution strategies.\n",
        "\n",
        "The design ideas and patterns are the same as that used by [`learned_optimization`](https://github.com/google/learned_optimization), but greatly stripped down and simplified."
      ]
    },
    {
      "cell_type": "code",
      "execution_count": null,
      "metadata": {
        "id": "AdcD2g_d5Gw4"
      },
      "outputs": [],
      "source": [
        "import jax\n",
        "import jax.numpy as jnp\n",
        "import tensorflow_datasets as tfds\n",
        "import matplotlib.pylab as plt\n",
        "import numpy as onp\n",
        "import functools\n",
        "import os"
      ]
    },
    {
      "cell_type": "markdown",
      "metadata": {
        "id": "TacG7U72It6c"
      },
      "source": [
        "## What is a learned optimizer?\n",
        "\n",
        "Learned optimizers are machine learning models which themselves optimize other machine learning models.\n",
        "\n",
        "To understand what exactly this means, consider first a simple hand designed optimizer: SGD. We can write the update equation as a single function of both parameter values, $x$, and gradients $\\nabla l$ computed on some loss $l$.\n",
        "\n",
        "$$U_{sgd}(x, \\nabla l; \\alpha) = - \\alpha \\nabla l $$\n",
        "\n",
        "This update can be applied us our next iterate:\n",
        "\n",
        "$$x' = x + U_{sgd}(x, \\nabla l; \\alpha)$$\n",
        "\n",
        "This update rule is simple, effective, and widely used. Can we do better?\n",
        "\n",
        "Framed in this way, this algorithm is simply a function. One idea to improve training is to switch out this hand designed function with a learned function parameterized by some set of weights, $\\theta$:\n",
        "\n",
        "$$U(x, \\nabla l; \\theta) = \\text{NN}(x, \\nabla l; \\theta)$$\n",
        "\n",
        "We call the weights of the optimizer, $\\theta$, the meta-parameters, or outer-parameters. The weights this optimizer is optimizing we refer to as the inner-parameters, or simply parameters.\n",
        "\n",
        "Now given this more flexible form, how do we set a particular value of the learned optimizer weights so that the learned optimizer \"performs well\"? To do this, we must first define what it means to perform well. In standard optimization, this could mean find some low loss solution after applying the optimizer many times. In machine learning, this could be finding a solution which generalizes. This objective / measurement of performance of the learned optimizer often goes by the name of a meta-loss, or outer loss.\n",
        "\n",
        "With this metric in hand, we can **optimize** the weights of the learned optimizer with respect to this meta-loss. If we have a flexible enough set of weights, and can solve this optimization problem, we will be left with a performant optimizer!\n",
        "\n",
        "\n",
        "In this notebook, we first start by defining the type of problem we seek our optimizer to perform well on. Next, we introduce optimizers, followed learned optimizers. Next we define our meta-objective, or our measurement of how well our optimizers perform. Finally, we discuss a variety of techniques, and tricks for meta-training including gradient based, evolutionary strategies based, and by leveraging truncations."
      ]
    },
    {
      "cell_type": "markdown",
      "metadata": {
        "id": "XqSOLXZ-5SJ0"
      },
      "source": [
        "## The inner problem\n",
        "\n",
        "We seek to train a learned optimizer to perform well on some task. In this demo notebook, we will define our task to be a single MLP trained on resized Fashion Mnist.\n",
        "\n",
        "### Data iterators\n",
        "Data iterators are pretty standard, so we will not reinvent the wheel and use tensorflow datasets to create a python iterator which yields batches of data.\n",
        "\n",
        "To keep meta-training fast, we will be working with with images resized to 8x8."
      ]
    },
    {
      "cell_type": "code",
      "execution_count": null,
      "metadata": {
        "colab": {
          "height": 726,
          "base_uri": "https://localhost:8080/",
          "referenced_widgets": [
            "a4ec832f6f664ce88b8fb0a8ad52daae",
            "4ebcd95ee97644979a6652bffd8c06c5",
            "084c8ca20f244246b1ecdf69c254af80",
            "ecff3857919f469db76d4bf0e618ef41",
            "a9297268c8724bb088f02a5caf3c4c93",
            "b9408a14d5c94ede8ffe4ecceaec37b1",
            "80ad3043977e4bb685a725c531a61263",
            "5f984edf98974db9b6ab7124097dc0b1",
            "ec70e25b1b2c4a728456ba969623e741",
            "faca4bccf4b54055bae17098c94a5516",
            "edea1bd646e94c7baf66799f9c87c1cc",
            "31f8246fd3ce4d439412c9ac6caa9c4d",
            "27d394a1c4424d5e9ef8447927659a82",
            "4ad5be100e3d4bb191d1484394c1d537",
            "786288805e8743b1ace4b30a0fb585e1",
            "e72818959dea468eae88d4134ab22603",
            "3944ee92fd304d52a1164292717437b0",
            "207d56b350a7473fb9f1ed4693d2ea87",
            "1eecbb29f2f14a7fb50b44cf4d41c9a3",
            "ffce80b2612e46d191fb3541b4f935cf",
            "c2196529fc91475d8b6ba7447a7ea0e1",
            "ff06ad138f7b4ce88538f4fbdc2edd39",
            "5ff40c27a76c48a7a782220a4317ff66",
            "5737aa21a7244328b83fa75dbed0f115",
            "2b3bff4027fa436c83805dc848a882c3",
            "db3333e376a74d83bb3a611d68efe23d",
            "8abc7f6a5e4e471b8545315dea9772b7",
            "5ffb0570092c45c4829714408ddf3c33",
            "99aaf27238794faa8de92f8cb2f56d27",
            "3a908f32b3064526a4546df41d464cb1",
            "5b776586cc2a46b2829c511c22d8c4d1",
            "2408faeccc374dc0acfadcbccc5c5929",
            "77d208d4e23047a5a2bf719ff51886fc",
            "1775ab81265d426c869d23870031ef50",
            "4ac6d6023afb4109887fff15297f987b",
            "50891dd2d3d6460eb6eac8eb52c7962d",
            "ba9b17af63b24c10a6cec1622d28684a",
            "49b07a422d0643eba02f36c78cf0cc5b",
            "e58da15805fe40afba57b09abcc14f0a",
            "0d7943cfd3124a6ba548fcb56cb9612a",
            "fac26b6d424c44fb8bf1c71a03c55458",
            "8f7eb27d57ff4ddcbc3d506cfd4049a9",
            "e91772943781494b8158d3cbe1f87585",
            "ab75cfe3535941f49c75b01c02087003",
            "477ad16b51e44e619ee15df315180989",
            "4299fba6356545869160234039509633",
            "a392c025a68a4a21ae79ae5f597d6a99",
            "e444f9bfee3a458e81c054fea51322f8",
            "e5929f31baf747dba95a8b59f44bd7e4",
            "2a3ca322f9624c269c2c8b6b9ab9c3cb",
            "5b71fd6321784fd4a7fad41c844d42d6",
            "f0697526ed6d4693b0f39fa368296855",
            "06598bf5461845c0980b1a7b307917ce",
            "0ea411648e374cfcaa87d142f193809d",
            "5b444e8332784ad8a6547c25c652fba5",
            "977e72ba7aa04aa18eecc779a097b8a7",
            "9036a96246d1451d8716c69bfda0a787",
            "9cd492d0be8847dca0f11236c484fa3c",
            "a61191b922ef43e1a5b006458e0e663e",
            "a9b672d8a71d4529a4a7767b6677b9b3",
            "23bc5ccbe34d4a6ab02545c7d528b11d",
            "70356f411dce472c9b87a017c1748cc0",
            "00ad8799464e40d2b9dc559efa8768f6",
            "a22cb2225ac3460fb6905a9fb3304592",
            "3f47cb17b414491b82018bf7c19cb4c7",
            "d1d4fd01a42043ef8ff5ccf88235afa0",
            "f2f0257bfd36465fb4743cea74fbdbd6",
            "620e5020c1534023ad049e9cff8beacd",
            "8b3c6705894947ff9100b612b096e81d",
            "7db2db297b7544feaa2cb2215e6c0b66",
            "82cffd9597a14ae4bc210d9544944dde",
            "62057b682b9946c69cc669e5296b1d39",
            "a043fe00f98649fc841e9a93c7b56412",
            "6dc460962f1745a480ed901291566dfe",
            "5b14474aedbe4bd887376fa5c4e0b286",
            "4d419ee0cf8646799ae6cb544fdb9abb",
            "2f148c5823284e9990c7145f0e3eadea",
            "2e557f0e12894cc9b32409b05a41dc20",
            "bf140d7e6b144d91aa3d5460e358f942",
            "9b2f0f48b192481681dec3ea447d5b70",
            "5550ab1602ad4ef9acf067444c492260",
            "d22802756f3e4ab5ac6408d55934217e",
            "331b715e137f44269f4f990a702258fa",
            "bf1b201db93d4c3bb875788450a90ed4",
            "519d3a33625f4f37a85b004537df2df7",
            "680e7f0367384573add158b56f3631b8",
            "02e28466cd9b40f995b2301b28282c59",
            "581e725891b84671b87ec76bb432f07b"
          ]
        },
        "id": "UM2Yg-HP6LhO",
        "outputId": "5631dcca-168c-44fb-801f-0d22837326f4"
      },
      "outputs": [
        {
          "output_type": "stream",
          "name": "stdout",
          "text": [
            "Downloading and preparing dataset 29.45 MiB (download: 29.45 MiB, generated: 36.42 MiB, total: 65.87 MiB) to /root/tensorflow_datasets/fashion_mnist/3.0.1...\n"
          ]
        },
        {
          "output_type": "display_data",
          "data": {
            "text/plain": [
              "Dl Completed...: 0 url [00:00, ? url/s]"
            ],
            "application/vnd.jupyter.widget-view+json": {
              "version_major": 2,
              "version_minor": 0,
              "model_id": "a4ec832f6f664ce88b8fb0a8ad52daae"
            }
          },
          "metadata": {}
        },
        {
          "output_type": "display_data",
          "data": {
            "text/plain": [
              "Dl Size...: 0 MiB [00:00, ? MiB/s]"
            ],
            "application/vnd.jupyter.widget-view+json": {
              "version_major": 2,
              "version_minor": 0,
              "model_id": "31f8246fd3ce4d439412c9ac6caa9c4d"
            }
          },
          "metadata": {}
        },
        {
          "output_type": "display_data",
          "data": {
            "text/plain": [
              "Extraction completed...: 0 file [00:00, ? file/s]"
            ],
            "application/vnd.jupyter.widget-view+json": {
              "version_major": 2,
              "version_minor": 0,
              "model_id": "5ff40c27a76c48a7a782220a4317ff66"
            }
          },
          "metadata": {}
        },
        {
          "output_type": "display_data",
          "data": {
            "text/plain": [
              "Generating splits...:   0%|          | 0/2 [00:00<?, ? splits/s]"
            ],
            "application/vnd.jupyter.widget-view+json": {
              "version_major": 2,
              "version_minor": 0,
              "model_id": "1775ab81265d426c869d23870031ef50"
            }
          },
          "metadata": {}
        },
        {
          "output_type": "display_data",
          "data": {
            "text/plain": [
              "Generating train examples...:   0%|          | 0/60000 [00:00<?, ? examples/s]"
            ],
            "application/vnd.jupyter.widget-view+json": {
              "version_major": 2,
              "version_minor": 0,
              "model_id": "477ad16b51e44e619ee15df315180989"
            }
          },
          "metadata": {}
        },
        {
          "output_type": "display_data",
          "data": {
            "text/plain": [
              "Shuffling /root/tensorflow_datasets/fashion_mnist/3.0.1.incompleteMV51N8/fashion_mnist-train.tfrecord*...:   0…"
            ],
            "application/vnd.jupyter.widget-view+json": {
              "version_major": 2,
              "version_minor": 0,
              "model_id": "977e72ba7aa04aa18eecc779a097b8a7"
            }
          },
          "metadata": {}
        },
        {
          "output_type": "display_data",
          "data": {
            "text/plain": [
              "Generating test examples...:   0%|          | 0/10000 [00:00<?, ? examples/s]"
            ],
            "application/vnd.jupyter.widget-view+json": {
              "version_major": 2,
              "version_minor": 0,
              "model_id": "f2f0257bfd36465fb4743cea74fbdbd6"
            }
          },
          "metadata": {}
        },
        {
          "output_type": "display_data",
          "data": {
            "text/plain": [
              "Shuffling /root/tensorflow_datasets/fashion_mnist/3.0.1.incompleteMV51N8/fashion_mnist-test.tfrecord*...:   0%…"
            ],
            "application/vnd.jupyter.widget-view+json": {
              "version_major": 2,
              "version_minor": 0,
              "model_id": "2e557f0e12894cc9b32409b05a41dc20"
            }
          },
          "metadata": {}
        },
        {
          "output_type": "stream",
          "name": "stdout",
          "text": [
            "Dataset fashion_mnist downloaded and prepared to /root/tensorflow_datasets/fashion_mnist/3.0.1. Subsequent calls will reuse this data.\n"
          ]
        },
        {
          "output_type": "display_data",
          "data": {
            "text/plain": [
              "<Figure size 720x720 with 16 Axes>"
            ],
            "image/png": "[encoded data removed]"
          },
          "metadata": {
            "needs_background": "light"
          }
        }
      ],
      "source": [
        "import tensorflow as tf\n",
        "\n",
        "ds = tfds.load(\"fashion_mnist\", split=\"train\")\n",
        "\n",
        "\n",
        "def resize_and_scale(batch):\n",
        "  batch[\"image\"] = tf.image.resize(batch[\"image\"], (8, 8)) / 255.\n",
        "  return batch\n",
        "\n",
        "\n",
        "ds = ds.map(resize_and_scale).cache().repeat(-1).shuffle(\n",
        "    64 * 10).batch(128).prefetch(5)\n",
        "data_iterator = ds.as_numpy_iterator()\n",
        "batch = next(data_iterator)\n",
        "fig, axs = plt.subplots(4, 4, figsize=(10, 10))\n",
        "for ai, a in enumerate(axs.ravel()):\n",
        "  a.imshow(batch[\"image\"][ai][:, :, 0], cmap=\"gray\")\n",
        "\n",
        "input_size = onp.prod(batch[\"image\"].shape[1:])"
      ]
    },
    {
      "cell_type": "markdown",
      "metadata": {
        "id": "ruw2lKT1I0Ez"
      },
      "source": [
        "### Inner problem loss function & initialization\n",
        "\n",
        "Next, we must define the inner problem with which we seek to train.\n",
        "One important note here is no parameters are stored in the task itself! See [this](https://jax.readthedocs.io/en/latest/jax-101/07-state.html) jax tutorial for more information on this.\n",
        "\n",
        "Our task will have 2 methods -- an init which constructs the initial values of the weights, and a loss which applies the MLP, and returns the average cross entropy loss."
      ]
    },
    {
      "cell_type": "code",
      "execution_count": null,
      "metadata": {
        "id": "SNUAeWO65TzL",
        "outputId": "5837f4be-0972-43eb-e0ce-58873efabf17",
        "colab": {
          "base_uri": "https://localhost:8080/"
        }
      },
      "outputs": [
        {
          "output_type": "execute_result",
          "data": {
            "text/plain": [
              "Array(2.3029995, dtype=float32)"
            ]
          },
          "metadata": {},
          "execution_count": 3
        }
      ],
      "source": [
        "class MLPTask:\n",
        "\n",
        "  def init(self, key):\n",
        "    key1, key2 = jax.random.split(key)\n",
        "    w0 = jax.random.normal(key1, [input_size, 128]) * 0.02\n",
        "    w1 = jax.random.normal(key2, [128, 10]) * 0.02\n",
        "    b0 = jnp.zeros([128])\n",
        "    b1 = jnp.ones([10])\n",
        "    return (w0, b0, w1, b1)\n",
        "\n",
        "  def loss(self, params, batch):\n",
        "    data = batch[\"image\"]\n",
        "    data = jnp.reshape(data, [data.shape[0], -1])\n",
        "    w0, b0, w1, b1 = params\n",
        "    logits = jax.nn.relu(data @ w0 + b0) @ w1 + b1\n",
        "    labels = jax.nn.one_hot(batch[\"label\"], 10)\n",
        "    vec_loss = -jnp.sum(labels * jax.nn.log_softmax(logits), axis=-1)\n",
        "    return jnp.mean(vec_loss)\n",
        "\n",
        "\n",
        "task = MLPTask()\n",
        "key = jax.random.PRNGKey(0)\n",
        "params = task.init(key)\n",
        "task.loss(params, batch)"
      ]
    },
    {
      "cell_type": "markdown",
      "metadata": {
        "id": "YL8XVt6JI3BI"
      },
      "source": [
        "### Inner training with SGD\n",
        "\n",
        "With our newly defined model, let's train it with SGD."
      ]
    },
    {
      "cell_type": "code",
      "execution_count": null,
      "metadata": {
        "colab": {
          "height": 303,
          "base_uri": "https://localhost:8080/"
        },
        "id": "wTMYdlvO5RVC",
        "outputId": "e2e4875f-5929-49d0-e6bf-0b275bf050b8"
      },
      "outputs": [
        {
          "output_type": "stream",
          "name": "stderr",
          "text": [
            "100%|██████████| 1000/1000 [00:07<00:00, 138.92it/s]\n"
          ]
        },
        {
          "output_type": "execute_result",
          "data": {
            "text/plain": [
              "[<matplotlib.lines.Line2D at 0x7fbf90089130>]"
            ]
          },
          "metadata": {},
          "execution_count": 4
        },
        {
          "output_type": "display_data",
          "data": {
            "text/plain": [
              "<Figure size 432x288 with 1 Axes>"
            ],
            "image/png": "[encoded data removed]"
          },
          "metadata": {
            "needs_background": "light"
          }
        }
      ],
      "source": [
        "from tqdm import tqdm\n",
        "\n",
        "value_grad_fn = jax.jit(jax.value_and_grad(task.loss))\n",
        "lr = 0.1\n",
        "\n",
        "losses = []\n",
        "params = task.init(key)\n",
        "# get from environment variable so this notebook can be automatically tested.\n",
        "num_steps = int(os.environ.get(\"LOPT_TRAIN_LENGTH\", 1000))\n",
        "for i in tqdm(range(num_steps)):\n",
        "  batch = next(data_iterator)\n",
        "  loss, grads = value_grad_fn(params, batch)\n",
        "  params = [p - lr * g for p, g in zip(params, grads)]\n",
        "  losses.append(loss)\n",
        "plt.plot(losses)"
      ]
    },
    {
      "cell_type": "markdown",
      "metadata": {
        "id": "jddnOrHu8WCb"
      },
      "source": [
        "## Optimizers\n",
        "SGD is all fine and good, but it is often useful to abstract away the specific update rule. This abstraction has two methods: An init, which setups up the initial optimizer state, and an update which uses this state and gradients to produce some new state.\n",
        "\n",
        "In the case of SGD, this state is just the parameter values."
      ]
    },
    {
      "cell_type": "code",
      "execution_count": null,
      "metadata": {
        "id": "WX6fbsYu8Xmy"
      },
      "outputs": [],
      "source": [
        "class SGD:\n",
        "\n",
        "  def __init__(self, lr):\n",
        "    self.lr = lr\n",
        "\n",
        "  def init(self, params):\n",
        "    return (params,)\n",
        "\n",
        "  def update(self, opt_state, grads):\n",
        "    return (tuple([p - self.lr * g for p, g in zip(opt_state[0], grads)]),)"
      ]
    },
    {
      "cell_type": "markdown",
      "metadata": {
        "id": "ah5U6H1_qzpv"
      },
      "source": [
        "Instead of inlining SGD, we can now use our optimizer class."
      ]
    },
    {
      "cell_type": "code",
      "execution_count": null,
      "metadata": {
        "colab": {
          "height": 303,
          "base_uri": "https://localhost:8080/"
        },
        "id": "Ul52LhQc8x3w",
        "outputId": "e86a9082-b5b3-471a-ddbd-5b71d16fbe7a"
      },
      "outputs": [
        {
          "output_type": "stream",
          "name": "stderr",
          "text": [
            "100%|██████████| 1000/1000 [00:01<00:00, 543.83it/s]\n"
          ]
        },
        {
          "output_type": "execute_result",
          "data": {
            "text/plain": [
              "[<matplotlib.lines.Line2D at 0x7fbf82fd0fd0>]"
            ]
          },
          "metadata": {},
          "execution_count": 6
        },
        {
          "output_type": "display_data",
          "data": {
            "text/plain": [
              "<Figure size 432x288 with 1 Axes>"
            ],
            "image/png": "[encoded data removed]"
          },
          "metadata": {
            "needs_background": "light"
          }
        }
      ],
      "source": [
        "losses = []\n",
        "opt = SGD(0.1)\n",
        "opt_state = opt.init(task.init(key))\n",
        "\n",
        "num_steps = int(os.environ.get(\"LOPT_TRAIN_LENGTH\", 1000))\n",
        "for i in tqdm(range(num_steps)):\n",
        "  batch = next(data_iterator)\n",
        "  loss, grads = value_grad_fn(opt_state[0], batch)\n",
        "  opt_state = opt.update(opt_state, grads)\n",
        "  losses.append(loss)\n",
        "plt.plot(losses)"
      ]
    },
    {
      "cell_type": "markdown",
      "metadata": {
        "id": "uCOBWVkeq2qD"
      },
      "source": [
        "Now, let's define some other optimizers. Momentum makes use of an additional accumulator variable. We can define it as follows."
      ]
    },
    {
      "cell_type": "code",
      "execution_count": null,
      "metadata": {
        "id": "h70Uo7TB89zk"
      },
      "outputs": [],
      "source": [
        "class Momentum:\n",
        "\n",
        "  def __init__(self, lr, decay=0.9):\n",
        "    self.lr = lr\n",
        "    self.decay = decay\n",
        "\n",
        "  def init(self, params):\n",
        "    return (params, [jnp.zeros_like(p) for p in params])\n",
        "\n",
        "  def update(self, state, grads):\n",
        "    params, momentum = state\n",
        "    momentum = [m * self.decay + self.lr * g for m, g in zip(momentum, grads)]\n",
        "    params = [p - m for p, m in zip(params, momentum)]\n",
        "    return (params, momentum)"
      ]
    },
    {
      "cell_type": "markdown",
      "metadata": {
        "id": "UuLD7NdxrHC_"
      },
      "source": [
        "We can use this in our same training loop again. Here, the parameters are stored in the 0th entry of opt_state."
      ]
    },
    {
      "cell_type": "code",
      "execution_count": null,
      "metadata": {
        "colab": {
          "height": 303,
          "base_uri": "https://localhost:8080/"
        },
        "id": "-suAcnqC9QpH",
        "outputId": "b4f52e94-26b6-4c35-9fe3-8c27c055804a"
      },
      "outputs": [
        {
          "output_type": "stream",
          "name": "stderr",
          "text": [
            "100%|██████████| 1000/1000 [00:03<00:00, 272.53it/s]\n"
          ]
        },
        {
          "output_type": "execute_result",
          "data": {
            "text/plain": [
              "[<matplotlib.lines.Line2D at 0x7fbf7df82250>]"
            ]
          },
          "metadata": {},
          "execution_count": 8
        },
        {
          "output_type": "display_data",
          "data": {
            "text/plain": [
              "<Figure size 432x288 with 1 Axes>"
            ],
            "image/png": "[encoded data removed]"
          },
          "metadata": {
            "needs_background": "light"
          }
        }
      ],
      "source": [
        "opt = Momentum(0.01)\n",
        "params = task.init(key)\n",
        "opt_state = opt.init(params)\n",
        "del params\n",
        "\n",
        "losses = []\n",
        "num_steps = int(os.environ.get(\"LOPT_TRAIN_LENGTH\", 1000))\n",
        "for i in tqdm(range(num_steps)):\n",
        "  batch = next(data_iterator)\n",
        "  loss, grads = value_grad_fn(opt_state[0], batch)\n",
        "  opt_state = opt.update(opt_state, grads)\n",
        "  losses.append(loss)\n",
        "plt.plot(losses)"
      ]
    },
    {
      "cell_type": "markdown",
      "metadata": {
        "id": "RrwIMhObH29t"
      },
      "source": [
        "And finally, we can implement Adam."
      ]
    },
    {
      "cell_type": "code",
      "execution_count": null,
      "metadata": {
        "id": "L7gd-MqEH2da"
      },
      "outputs": [],
      "source": [
        "class Adam:\n",
        "\n",
        "  def __init__(self, lr, beta1=0.9, beta2=0.999, epsilon=1e-8):\n",
        "    self.lr = lr\n",
        "    self.beta1 = beta1\n",
        "    self.beta2 = beta2\n",
        "    self.epsilon = epsilon\n",
        "\n",
        "  def init(self, params):\n",
        "    return (tuple(params), jnp.asarray(0),\n",
        "            tuple([jnp.zeros_like(p) for p in params]),\n",
        "            tuple([jnp.zeros_like(p) for p in params]))\n",
        "\n",
        "  @functools.partial(jax.jit, static_argnums=(0,))\n",
        "  def update(self, state, grads):\n",
        "    params, iteration, momentum, rms = state\n",
        "    iteration += 1\n",
        "    momentum = tuple([\n",
        "        m * self.beta1 + (1 - self.beta1) * g for m, g in zip(momentum, grads)\n",
        "    ])\n",
        "    rms = tuple([\n",
        "        v * self.beta2 + (1 - self.beta2) * (g**2) for v, g in zip(rms, grads)\n",
        "    ])\n",
        "    mhat = [m / (1 - self.beta1**iteration) for m in momentum]\n",
        "    vhat = [v / (1 - self.beta2**iteration) for v in rms]\n",
        "    params = tuple([\n",
        "        p - self.lr * m / (jnp.sqrt(v) + self.epsilon)\n",
        "        for p, m, v in zip(params, mhat, vhat)\n",
        "    ])\n",
        "    return (params, iteration, momentum, rms)"
      ]
    },
    {
      "cell_type": "markdown",
      "metadata": {
        "id": "VfBmLGVdrQKo"
      },
      "source": [
        "## Learned optimizers\n",
        "\n",
        "A learned optimizer is simply an optimizer which is itself some function of meta-parameters. The actual function can be anything ranging from more fixed form, to more exotic with the meta-parameters encoding neural network weights.\n",
        "\n",
        "### Per parameter learned optimizers\n",
        "The family of learned optimizer we will explore in this notebook is \"per parameter\". What this means, is that the update function operates on each parameter independently.\n",
        "\n",
        "In our case, the learned optimizer will operate on the parameter value, the gradient value, and momentum. These values get fed into a neural network. This neural network produces 2 outputs: $a$, $b$. These outputs are combined to produce a change in the inner parameters:\n",
        "\n",
        "$$\\Delta w = 0.001 \\cdot a \\cdot \\text{exp}(0.001 \\cdot b)$$\n",
        "\n",
        "We use this formulation, as opposed to simply outputting a direct value, as empirically it is easier to meta-train.\n",
        "\n",
        "Choosing input parameterizations, and output parameterizations varies across learned optimizer architecture and paper."
      ]
    },
    {
      "cell_type": "code",
      "execution_count": null,
      "metadata": {
        "id": "ymF3QnR0-UdM"
      },
      "outputs": [],
      "source": [
        "class LOpt:\n",
        "\n",
        "  def __init__(self, decay=0.9):\n",
        "    self.decay = decay\n",
        "    self.hidden_size = 64\n",
        "\n",
        "  def init_meta_params(self, key):\n",
        "    \"\"\"Initialize the learned optimizer weights -- in this case the weights of\n",
        "\n",
        "    the per parameter mlp.\n",
        "    \"\"\"\n",
        "    key1, key2 = jax.random.split(key)\n",
        "    input_feats = 3  # parameter value, momentum value, and gradient value\n",
        "\n",
        "    # the optimizer is a 2 hidden layer MLP.\n",
        "    w0 = jax.random.normal(key1, [input_feats, self.hidden_size])\n",
        "    b0 = jnp.zeros([self.hidden_size])\n",
        "\n",
        "    w1 = jax.random.normal(key2, [self.hidden_size, 2])\n",
        "    b1 = jnp.zeros([2])\n",
        "    return (w0, b0, w1, b1)\n",
        "\n",
        "  def initial_inner_opt_state(self, meta_params, params):\n",
        "    # The inner opt state contains the parameter values, and the momentum values.\n",
        "    momentum = [jnp.zeros_like(p) for p in params]\n",
        "    return tuple(params), tuple(momentum)\n",
        "\n",
        "  @functools.partial(jax.jit, static_argnums=(0,))\n",
        "  def update_inner_opt_state(self, meta_params, inner_opt_state, inner_grads):\n",
        "    \"Perform 1 step of learning using the learned optimizer.\" \"\"\n",
        "    params, momentum = inner_opt_state\n",
        "\n",
        "    # compute momentum\n",
        "    momentum = [\n",
        "        m * self.decay + (g * (1 - self.decay))\n",
        "        for m, g in zip(momentum, inner_grads)\n",
        "    ]\n",
        "\n",
        "    def predict_step(features):\n",
        "      \"\"\"Predict the update for a single ndarray.\"\"\"\n",
        "      w0, b0, w1, b1 = meta_params\n",
        "      outs = jax.nn.relu(features @ w0 + b0) @ w1 + b1\n",
        "      # slice out the last 2 elements\n",
        "      scale = outs[..., 0]\n",
        "      mag = outs[..., 1]\n",
        "      # Compute a step as follows.\n",
        "      return scale * 0.01 * jnp.exp(mag * 0.01)\n",
        "\n",
        "    out_params = []\n",
        "    for p, m, g in zip(params, momentum, inner_grads):\n",
        "      features = jnp.asarray([p, m, g])\n",
        "      # transpose to have features dim last. The MLP will operate on this,\n",
        "      # and treat the leading dimensions as a batch dimension.\n",
        "      features = jnp.transpose(features, list(range(1, 1 + len(p.shape))) + [0])\n",
        "\n",
        "      step = predict_step(features)\n",
        "      out_params.append(p - step)\n",
        "\n",
        "    return tuple(out_params), tuple(momentum)"
      ]
    },
    {
      "cell_type": "markdown",
      "metadata": {
        "id": "WH9_EHD6rfrL"
      },
      "source": [
        "We can now randomly init the meta-parameters a few times and apply it to our target task and see what we get.\n",
        "\n",
        "Unsurprisingly, our randomly initialized learned optimizer doesn't do all that well at training our target problem. Many of them even diverge / nan."
      ]
    },
    {
      "cell_type": "code",
      "execution_count": null,
      "metadata": {
        "colab": {
          "height": 396,
          "base_uri": "https://localhost:8080/"
        },
        "id": "iJ_uf9uwDASS",
        "outputId": "1365d1ff-8771-4e34-eef9-b87880c6bd1d"
      },
      "outputs": [
        {
          "output_type": "stream",
          "name": "stderr",
          "text": [
            "100%|██████████| 1000/1000 [00:01<00:00, 630.66it/s]\n",
            "100%|██████████| 1000/1000 [00:01<00:00, 884.79it/s]\n",
            "100%|██████████| 1000/1000 [00:01<00:00, 898.54it/s]\n",
            "100%|██████████| 1000/1000 [00:01<00:00, 886.70it/s]\n",
            "100%|██████████| 1000/1000 [00:01<00:00, 896.49it/s]\n"
          ]
        },
        {
          "output_type": "execute_result",
          "data": {
            "text/plain": [
              "Text(0, 0.5, 'inner loss')"
            ]
          },
          "metadata": {},
          "execution_count": 11
        },
        {
          "output_type": "display_data",
          "data": {
            "text/plain": [
              "<Figure size 432x288 with 1 Axes>"
            ],
            "image/png": "[encoded data removed]"
          },
          "metadata": {
            "needs_background": "light"
          }
        }
      ],
      "source": [
        "lopt = LOpt()\n",
        "for i in range(5):\n",
        "  losses = []\n",
        "  key = jax.random.PRNGKey(i)\n",
        "  meta_params = lopt.init_meta_params(key)\n",
        "\n",
        "  key = jax.random.PRNGKey(0)\n",
        "  params = task.init(key)\n",
        "  opt_state = lopt.initial_inner_opt_state(meta_params, params)\n",
        "\n",
        "  num_steps = int(os.environ.get(\"LOPT_TRAIN_LENGTH\", 1000))\n",
        "  for i in tqdm(range(num_steps)):\n",
        "    batch = next(data_iterator)\n",
        "    loss, grads = value_grad_fn(opt_state[0], batch)\n",
        "    opt_state = lopt.update_inner_opt_state(meta_params, opt_state, grads)\n",
        "    losses.append(loss)\n",
        "  plt.plot(losses)\n",
        "plt.ylim(0, 4)\n",
        "plt.xlabel(\"inner step\")\n",
        "plt.ylabel(\"inner loss\")"
      ]
    },
    {
      "cell_type": "markdown",
      "metadata": {
        "id": "FH1b4PfrDFcH"
      },
      "source": [
        "## Meta-loss: Measuring the performance of the learned optimizer.\n",
        "\n",
        "Now we must define our measurement of performance for our learned optimizers. For this, we will define a meta_loss function. This function takes in as inputs the weights of the meta-parameters, initializes the weights of the inner-problem, and performs some number of steps of inner-training using a learned optimizer and the passed in meta-parameters. Each step we return the training loss, and use this average loss as the meta-loss. Depending on what we use, e.g. different unroll lengths, or different objectives (such as returning just loss at the end of training, or validation loss) we will get different behaving optimizers."
      ]
    },
    {
      "cell_type": "code",
      "execution_count": null,
      "metadata": {
        "id": "D_7V3TQHD5Ju",
        "outputId": "e0f32d81-d56b-40fe-c437-77224e99850e",
        "colab": {
          "base_uri": "https://localhost:8080/"
        }
      },
      "outputs": [
        {
          "output_type": "execute_result",
          "data": {
            "text/plain": [
              "Array(2.2996302, dtype=float32)"
            ]
          },
          "metadata": {},
          "execution_count": 102
        }
      ],
      "source": [
        "lopt = LOpt()\n",
        "\n",
        "key = jax.random.PRNGKey(i)\n",
        "meta_params = lopt.init_meta_params(key)\n",
        "\n",
        "\n",
        "def get_batch_seq(seq_len):\n",
        "  batches = [next(data_iterator) for _ in range(seq_len)]\n",
        "  # stack the data to add a leading dim.\n",
        "  return {\n",
        "      \"image\": jnp.asarray([b[\"image\"] for b in batches]),\n",
        "      \"label\": jnp.asarray([b[\"label\"] for b in batches])\n",
        "  }\n",
        "\n",
        "\n",
        "@jax.jit\n",
        "def meta_loss(meta_params, key, sequence_of_batches):\n",
        "\n",
        "  def step(opt_state, batch):\n",
        "    loss, grads = value_grad_fn(opt_state[0], batch)\n",
        "    opt_state = lopt.update_inner_opt_state(meta_params, opt_state, grads)\n",
        "    return opt_state, loss\n",
        "\n",
        "  params = task.init(key)\n",
        "  opt_state = lopt.initial_inner_opt_state(meta_params, params)\n",
        "  # Iterate N times where N is the number of batches in sequence_of_batches\n",
        "  opt_state, losses = jax.lax.scan(step, opt_state, sequence_of_batches)\n",
        "\n",
        "  return jnp.mean(losses)\n",
        "\n",
        "\n",
        "key = jax.random.PRNGKey(0)\n",
        "meta_loss(meta_params, key, get_batch_seq(10))"
      ]
    },
    {
      "cell_type": "code",
      "execution_count": null,
      "metadata": {
        "id": "NGHImLJ9FcjO"
      },
      "outputs": [],
      "source": []
    },
    {
      "cell_type": "markdown",
      "metadata": {
        "id": "EFeC6wiTtYPu"
      },
      "source": [
        "## Meta-training with Gradients\n",
        "Meta-training means training the weights of the learned optimizer to perform well in some setting. There are a lot of ways to do this optimization problem. We will run through a few different examples here.\n",
        "\n",
        "\n",
        "One of the most conceptually simple way to meta-train is to do so with gradients. In particular, the gradients of the meta-loss with respect to the meta-parameters.\n",
        "\n",
        "Te will use our meta-loss and `jax.value_and_grad` to compute gradients. For this simple example, we will use the average training loss over 10 applications of the learned optimizer as our meta-loss."
      ]
    },
    {
      "cell_type": "code",
      "execution_count": null,
      "metadata": {
        "id": "hQtTvMmnFAFb"
      },
      "outputs": [],
      "source": [
        "key = jax.random.PRNGKey(0)\n",
        "meta_value_grad_fn = jax.jit(jax.value_and_grad(meta_loss))\n",
        "loss, meta_grad = meta_value_grad_fn(meta_params, key, get_batch_seq(10))"
      ]
    },
    {
      "cell_type": "markdown",
      "metadata": {
        "id": "rgY-bMy1I-p_"
      },
      "source": [
        "We can use this meta-gradient, with Adam to update the weights of our learned optimizer."
      ]
    },
    {
      "cell_type": "code",
      "execution_count": null,
      "metadata": {
        "id": "Bh0v3tZcFSeJ",
        "outputId": "b6f69fa7-9c3a-4841-e293-7f69e5b27a74",
        "colab": {
          "base_uri": "https://localhost:8080/"
        }
      },
      "outputs": [
        {
          "output_type": "stream",
          "name": "stderr",
          "text": [
            "\r  0%|          | 0/1000 [00:00<?, ?it/s]"
          ]
        },
        {
          "output_type": "stream",
          "name": "stdout",
          "text": [
            "2.299093\n"
          ]
        },
        {
          "output_type": "stream",
          "name": "stderr",
          "text": [
            "  3%|▎         | 29/1000 [00:03<00:49, 19.80it/s]"
          ]
        },
        {
          "output_type": "stream",
          "name": "stdout",
          "text": [
            "2.2724967\n"
          ]
        },
        {
          "output_type": "stream",
          "name": "stderr",
          "text": [
            "  5%|▌         | 52/1000 [00:03<00:22, 41.83it/s]"
          ]
        },
        {
          "output_type": "stream",
          "name": "stdout",
          "text": [
            "2.2121644\n"
          ]
        },
        {
          "output_type": "stream",
          "name": "stderr",
          "text": [
            "  7%|▋         | 67/1000 [00:03<00:18, 51.09it/s]"
          ]
        },
        {
          "output_type": "stream",
          "name": "stdout",
          "text": [
            "2.128191\n"
          ]
        },
        {
          "output_type": "stream",
          "name": "stderr",
          "text": [
            "  9%|▉         | 91/1000 [00:04<00:14, 64.77it/s]"
          ]
        },
        {
          "output_type": "stream",
          "name": "stdout",
          "text": [
            "2.0316706\n"
          ]
        },
        {
          "output_type": "stream",
          "name": "stderr",
          "text": [
            " 12%|█▏        | 115/1000 [00:04<00:12, 69.40it/s]"
          ]
        },
        {
          "output_type": "stream",
          "name": "stdout",
          "text": [
            "1.9628208\n"
          ]
        },
        {
          "output_type": "stream",
          "name": "stderr",
          "text": [
            " 13%|█▎        | 131/1000 [00:04<00:12, 70.09it/s]"
          ]
        },
        {
          "output_type": "stream",
          "name": "stdout",
          "text": [
            "1.9149338\n"
          ]
        },
        {
          "output_type": "stream",
          "name": "stderr",
          "text": [
            " 16%|█▌        | 155/1000 [00:05<00:11, 70.76it/s]"
          ]
        },
        {
          "output_type": "stream",
          "name": "stdout",
          "text": [
            "1.8878136\n"
          ]
        },
        {
          "output_type": "stream",
          "name": "stderr",
          "text": [
            " 17%|█▋        | 171/1000 [00:05<00:11, 71.12it/s]"
          ]
        },
        {
          "output_type": "stream",
          "name": "stdout",
          "text": [
            "1.8606306\n"
          ]
        },
        {
          "output_type": "stream",
          "name": "stderr",
          "text": [
            " 19%|█▊        | 187/1000 [00:05<00:11, 71.60it/s]"
          ]
        },
        {
          "output_type": "stream",
          "name": "stdout",
          "text": [
            "1.8398087\n"
          ]
        },
        {
          "output_type": "stream",
          "name": "stderr",
          "text": [
            " 21%|██        | 210/1000 [00:05<00:11, 66.68it/s]"
          ]
        },
        {
          "output_type": "stream",
          "name": "stdout",
          "text": [
            "1.8101333\n"
          ]
        },
        {
          "output_type": "stream",
          "name": "stderr",
          "text": [
            " 23%|██▎       | 232/1000 [00:06<00:11, 67.00it/s]"
          ]
        },
        {
          "output_type": "stream",
          "name": "stdout",
          "text": [
            "1.8007933\n"
          ]
        },
        {
          "output_type": "stream",
          "name": "stderr",
          "text": [
            " 25%|██▌       | 253/1000 [00:06<00:11, 67.32it/s]"
          ]
        },
        {
          "output_type": "stream",
          "name": "stdout",
          "text": [
            "1.791983\n"
          ]
        },
        {
          "output_type": "stream",
          "name": "stderr",
          "text": [
            " 27%|██▋       | 269/1000 [00:06<00:10, 69.80it/s]"
          ]
        },
        {
          "output_type": "stream",
          "name": "stdout",
          "text": [
            "1.7796475\n"
          ]
        },
        {
          "output_type": "stream",
          "name": "stderr",
          "text": [
            " 29%|██▉       | 293/1000 [00:07<00:10, 70.09it/s]"
          ]
        },
        {
          "output_type": "stream",
          "name": "stdout",
          "text": [
            "1.7715666\n"
          ]
        },
        {
          "output_type": "stream",
          "name": "stderr",
          "text": [
            " 31%|███       | 309/1000 [00:07<00:09, 71.13it/s]"
          ]
        },
        {
          "output_type": "stream",
          "name": "stdout",
          "text": [
            "1.7750299\n"
          ]
        },
        {
          "output_type": "stream",
          "name": "stderr",
          "text": [
            " 33%|███▎      | 331/1000 [00:07<00:10, 66.58it/s]"
          ]
        },
        {
          "output_type": "stream",
          "name": "stdout",
          "text": [
            "1.7557526\n"
          ]
        },
        {
          "output_type": "stream",
          "name": "stderr",
          "text": [
            " 34%|███▍      | 345/1000 [00:07<00:10, 59.83it/s]"
          ]
        },
        {
          "output_type": "stream",
          "name": "stdout",
          "text": [
            "1.7437779\n"
          ]
        },
        {
          "output_type": "stream",
          "name": "stderr",
          "text": [
            " 37%|███▋      | 369/1000 [00:08<00:14, 43.71it/s]"
          ]
        },
        {
          "output_type": "stream",
          "name": "stdout",
          "text": [
            "1.7347147\n"
          ]
        },
        {
          "output_type": "stream",
          "name": "stderr",
          "text": [
            " 39%|███▊      | 387/1000 [00:08<00:16, 36.82it/s]"
          ]
        },
        {
          "output_type": "stream",
          "name": "stdout",
          "text": [
            "1.7331371\n"
          ]
        },
        {
          "output_type": "stream",
          "name": "stderr",
          "text": [
            " 40%|████      | 404/1000 [00:09<00:16, 35.57it/s]"
          ]
        },
        {
          "output_type": "stream",
          "name": "stdout",
          "text": [
            "1.7282101\n"
          ]
        },
        {
          "output_type": "stream",
          "name": "stderr",
          "text": [
            " 43%|████▎     | 427/1000 [00:10<00:15, 37.52it/s]"
          ]
        },
        {
          "output_type": "stream",
          "name": "stdout",
          "text": [
            "1.7112093\n"
          ]
        },
        {
          "output_type": "stream",
          "name": "stderr",
          "text": [
            " 45%|████▍     | 449/1000 [00:10<00:15, 36.18it/s]"
          ]
        },
        {
          "output_type": "stream",
          "name": "stdout",
          "text": [
            "1.7139533\n"
          ]
        },
        {
          "output_type": "stream",
          "name": "stderr",
          "text": [
            " 47%|████▋     | 466/1000 [00:11<00:15, 34.30it/s]"
          ]
        },
        {
          "output_type": "stream",
          "name": "stdout",
          "text": [
            "1.7171104\n"
          ]
        },
        {
          "output_type": "stream",
          "name": "stderr",
          "text": [
            " 49%|████▊     | 487/1000 [00:11<00:13, 37.81it/s]"
          ]
        },
        {
          "output_type": "stream",
          "name": "stdout",
          "text": [
            "1.6970507\n"
          ]
        },
        {
          "output_type": "stream",
          "name": "stderr",
          "text": [
            " 51%|█████▏    | 513/1000 [00:12<00:08, 58.30it/s]"
          ]
        },
        {
          "output_type": "stream",
          "name": "stdout",
          "text": [
            "1.710029\n"
          ]
        },
        {
          "output_type": "stream",
          "name": "stderr",
          "text": [
            " 53%|█████▎    | 528/1000 [00:12<00:07, 63.37it/s]"
          ]
        },
        {
          "output_type": "stream",
          "name": "stdout",
          "text": [
            "1.6836144\n"
          ]
        },
        {
          "output_type": "stream",
          "name": "stderr",
          "text": [
            " 55%|█████▌    | 551/1000 [00:12<00:06, 69.87it/s]"
          ]
        },
        {
          "output_type": "stream",
          "name": "stdout",
          "text": [
            "1.695987\n"
          ]
        },
        {
          "output_type": "stream",
          "name": "stderr",
          "text": [
            " 57%|█████▋    | 573/1000 [00:12<00:06, 69.87it/s]"
          ]
        },
        {
          "output_type": "stream",
          "name": "stdout",
          "text": [
            "1.6621269\n"
          ]
        },
        {
          "output_type": "stream",
          "name": "stderr",
          "text": [
            " 60%|█████▉    | 595/1000 [00:13<00:05, 68.58it/s]"
          ]
        },
        {
          "output_type": "stream",
          "name": "stdout",
          "text": [
            "1.695771\n"
          ]
        },
        {
          "output_type": "stream",
          "name": "stderr",
          "text": [
            " 61%|██████    | 610/1000 [00:13<00:05, 71.04it/s]"
          ]
        },
        {
          "output_type": "stream",
          "name": "stdout",
          "text": [
            "1.674165\n"
          ]
        },
        {
          "output_type": "stream",
          "name": "stderr",
          "text": [
            " 63%|██████▎   | 634/1000 [00:13<00:05, 71.22it/s]"
          ]
        },
        {
          "output_type": "stream",
          "name": "stdout",
          "text": [
            "1.6877661\n"
          ]
        },
        {
          "output_type": "stream",
          "name": "stderr",
          "text": [
            " 65%|██████▌   | 650/1000 [00:14<00:05, 69.73it/s]"
          ]
        },
        {
          "output_type": "stream",
          "name": "stdout",
          "text": [
            "1.6795002\n"
          ]
        },
        {
          "output_type": "stream",
          "name": "stderr",
          "text": [
            " 67%|██████▋   | 672/1000 [00:14<00:04, 70.39it/s]"
          ]
        },
        {
          "output_type": "stream",
          "name": "stdout",
          "text": [
            "1.6581398\n"
          ]
        },
        {
          "output_type": "stream",
          "name": "stderr",
          "text": [
            " 69%|██████▉   | 688/1000 [00:14<00:04, 71.49it/s]"
          ]
        },
        {
          "output_type": "stream",
          "name": "stdout",
          "text": [
            "1.6638515\n"
          ]
        },
        {
          "output_type": "stream",
          "name": "stderr",
          "text": [
            " 71%|███████   | 710/1000 [00:14<00:04, 68.32it/s]"
          ]
        },
        {
          "output_type": "stream",
          "name": "stdout",
          "text": [
            "1.6534135\n"
          ]
        },
        {
          "output_type": "stream",
          "name": "stderr",
          "text": [
            " 73%|███████▎  | 733/1000 [00:15<00:03, 68.66it/s]"
          ]
        },
        {
          "output_type": "stream",
          "name": "stdout",
          "text": [
            "1.6411779\n"
          ]
        },
        {
          "output_type": "stream",
          "name": "stderr",
          "text": [
            " 76%|███████▌  | 755/1000 [00:15<00:03, 68.64it/s]"
          ]
        },
        {
          "output_type": "stream",
          "name": "stdout",
          "text": [
            "1.6549915\n"
          ]
        },
        {
          "output_type": "stream",
          "name": "stderr",
          "text": [
            " 77%|███████▋  | 770/1000 [00:15<00:03, 69.49it/s]"
          ]
        },
        {
          "output_type": "stream",
          "name": "stdout",
          "text": [
            "1.6322807\n"
          ]
        },
        {
          "output_type": "stream",
          "name": "stderr",
          "text": [
            " 79%|███████▉  | 791/1000 [00:16<00:03, 65.42it/s]"
          ]
        },
        {
          "output_type": "stream",
          "name": "stdout",
          "text": [
            "1.637566\n"
          ]
        },
        {
          "output_type": "stream",
          "name": "stderr",
          "text": [
            " 81%|████████  | 812/1000 [00:16<00:02, 66.50it/s]"
          ]
        },
        {
          "output_type": "stream",
          "name": "stdout",
          "text": [
            "1.6322839\n"
          ]
        },
        {
          "output_type": "stream",
          "name": "stderr",
          "text": [
            " 83%|████████▎ | 833/1000 [00:16<00:02, 67.20it/s]"
          ]
        },
        {
          "output_type": "stream",
          "name": "stdout",
          "text": [
            "1.6191399\n"
          ]
        },
        {
          "output_type": "stream",
          "name": "stderr",
          "text": [
            " 85%|████████▍ | 847/1000 [00:16<00:02, 64.78it/s]"
          ]
        },
        {
          "output_type": "stream",
          "name": "stdout",
          "text": [
            "1.637179\n"
          ]
        },
        {
          "output_type": "stream",
          "name": "stderr",
          "text": [
            " 87%|████████▋ | 869/1000 [00:17<00:01, 66.54it/s]"
          ]
        },
        {
          "output_type": "stream",
          "name": "stdout",
          "text": [
            "1.6278843\n"
          ]
        },
        {
          "output_type": "stream",
          "name": "stderr",
          "text": [
            " 89%|████████▉ | 892/1000 [00:17<00:01, 65.88it/s]"
          ]
        },
        {
          "output_type": "stream",
          "name": "stdout",
          "text": [
            "1.6204841\n"
          ]
        },
        {
          "output_type": "stream",
          "name": "stderr",
          "text": [
            " 91%|█████████▏| 913/1000 [00:17<00:01, 66.67it/s]"
          ]
        },
        {
          "output_type": "stream",
          "name": "stdout",
          "text": [
            "1.634121\n"
          ]
        },
        {
          "output_type": "stream",
          "name": "stderr",
          "text": [
            " 94%|█████████▎| 935/1000 [00:18<00:00, 66.63it/s]"
          ]
        },
        {
          "output_type": "stream",
          "name": "stdout",
          "text": [
            "1.6096674\n"
          ]
        },
        {
          "output_type": "stream",
          "name": "stderr",
          "text": [
            " 95%|█████████▌| 950/1000 [00:18<00:00, 66.00it/s]"
          ]
        },
        {
          "output_type": "stream",
          "name": "stdout",
          "text": [
            "1.6175604\n"
          ]
        },
        {
          "output_type": "stream",
          "name": "stderr",
          "text": [
            " 97%|█████████▋| 972/1000 [00:18<00:00, 68.13it/s]"
          ]
        },
        {
          "output_type": "stream",
          "name": "stdout",
          "text": [
            "1.6130764\n"
          ]
        },
        {
          "output_type": "stream",
          "name": "stderr",
          "text": [
            " 99%|█████████▉| 994/1000 [00:19<00:00, 68.79it/s]"
          ]
        },
        {
          "output_type": "stream",
          "name": "stdout",
          "text": [
            "1.611722\n"
          ]
        },
        {
          "output_type": "stream",
          "name": "stderr",
          "text": [
            "\r100%|██████████| 1000/1000 [00:19<00:00, 51.87it/s]\n"
          ]
        }
      ],
      "source": [
        "meta_opt = Adam(0.001)\n",
        "key = jax.random.PRNGKey(0)\n",
        "meta_params = lopt.init_meta_params(key)\n",
        "meta_opt_state = meta_opt.init(meta_params)\n",
        "meta_losses = []\n",
        "\n",
        "num_steps = int(os.environ.get(\"LOPT_TRAIN_LENGTH\", 1000))\n",
        "for i in tqdm(range(num_steps)):\n",
        "  data = get_batch_seq(15)\n",
        "  key1, key = jax.random.split(key)\n",
        "  loss, meta_grad = meta_value_grad_fn(meta_opt_state[0], key1, data)\n",
        "  meta_losses.append(loss)\n",
        "  if i % 20 == 0:\n",
        "    print(onp.mean(meta_losses[-20:]))\n",
        "  meta_opt_state = meta_opt.update(meta_opt_state, meta_grad)"
      ]
    },
    {
      "cell_type": "code",
      "execution_count": null,
      "metadata": {
        "colab": {
          "height": 298,
          "base_uri": "https://localhost:8080/"
        },
        "id": "r8-fAIqGI6X2",
        "outputId": "ddffcb5a-2ed9-4789-985c-0ecea29ab5de"
      },
      "outputs": [
        {
          "output_type": "execute_result",
          "data": {
            "text/plain": [
              "Text(0, 0.5, 'meta-loss')"
            ]
          },
          "metadata": {},
          "execution_count": 105
        },
        {
          "output_type": "display_data",
          "data": {
            "text/plain": [
              "<Figure size 432x288 with 1 Axes>"
            ],
            "image/png": "[encoded data removed]"
          },
          "metadata": {
            "needs_background": "light"
          }
        }
      ],
      "source": [
        "plt.plot(meta_losses)\n",
        "plt.xlabel(\"meta-iteration\")\n",
        "plt.ylabel(\"meta-loss\")"
      ]
    },
    {
      "cell_type": "markdown",
      "metadata": {
        "id": "D5hgIM4STRQ3"
      },
      "source": [
        "Our meta-loss is decreasing which means our learned optimizer is learning to perform well on the meta-loss which means it is able to optimize our inner problem. Let's see what it learned to do by applying it to some target problem."
      ]
    },
    {
      "cell_type": "code",
      "execution_count": null,
      "metadata": {
        "colab": {
          "height": 486,
          "base_uri": "https://localhost:8080/"
        },
        "id": "hpkbGP89JH45",
        "outputId": "dc05558a-d4f7-4b0d-d3b1-707f649f708a"
      },
      "outputs": [
        {
          "output_type": "stream",
          "name": "stderr",
          "text": [
            "100%|██████████| 20/20 [00:00<00:00, 69.76it/s]\n",
            "100%|██████████| 20/20 [00:00<00:00, 855.22it/s]\n",
            "100%|██████████| 20/20 [00:00<00:00, 919.65it/s]\n",
            "100%|██████████| 20/20 [00:00<00:00, 864.89it/s]\n",
            "100%|██████████| 20/20 [00:00<00:00, 967.66it/s]\n",
            "100%|██████████| 20/20 [00:00<00:00, 1060.12it/s]\n",
            "100%|██████████| 20/20 [00:00<00:00, 942.37it/s]\n",
            "100%|██████████| 20/20 [00:00<00:00, 863.75it/s]\n",
            "100%|██████████| 20/20 [00:00<00:00, 844.95it/s]\n",
            "100%|██████████| 20/20 [00:00<00:00, 916.15it/s]\n"
          ]
        },
        {
          "output_type": "execute_result",
          "data": {
            "text/plain": [
              "Text(0, 0.5, 'loss')"
            ]
          },
          "metadata": {},
          "execution_count": 106
        },
        {
          "output_type": "display_data",
          "data": {
            "text/plain": [
              "<Figure size 432x288 with 1 Axes>"
            ],
            "image/png": "[encoded data removed]"
          },
          "metadata": {
            "needs_background": "light"
          }
        }
      ],
      "source": [
        "meta_params = meta_opt_state[0]\n",
        "\n",
        "for j in range(10):\n",
        "  losses = []\n",
        "  key = jax.random.PRNGKey(j)\n",
        "  params = task.init(key)\n",
        "  opt_state = lopt.initial_inner_opt_state(meta_params, params)\n",
        "\n",
        "  for i in tqdm(range(20)):\n",
        "    batch = next(data_iterator)\n",
        "    loss, grads = value_grad_fn(opt_state[0], batch)\n",
        "    opt_state = lopt.update_inner_opt_state(meta_params, opt_state, grads)\n",
        "    losses.append(loss)\n",
        "  plt.plot(losses)\n",
        "  plt.ylim(0.5, 2.3)\n",
        "plt.xlabel(\"inner-iteration\")\n",
        "plt.ylabel(\"loss\")"
      ]
    },
    {
      "cell_type": "markdown",
      "metadata": {
        "id": "9hMBooBKTxy5"
      },
      "source": [
        "We can see our optimizer works, and is able to optimize for these first 10 steps."
      ]
    },
    {
      "cell_type": "markdown",
      "source": [
        "Теперь давайте добавим в фичи оптимайзера второй градиент и номер шага"
      ],
      "metadata": {
        "id": "V87q-b4cUvKS"
      }
    },
    {
      "cell_type": "code",
      "source": [
        "import numpy as np\n",
        "\n",
        "\n",
        "\n",
        "class MyLOpt:\n",
        "\n",
        "  def __init__(self, decay=0.9):\n",
        "    self.decay = decay\n",
        "    self.hidden_size = 64\n",
        "\n",
        "  def init_meta_params(self, key):\n",
        "    \"\"\"Initialize the learned optimizer weights -- in this case the weights of\n",
        "\n",
        "    the per parameter mlp.\n",
        "    \"\"\"\n",
        "    key1, key2 = jax.random.split(key)\n",
        "    input_feats = 4  # parameter value, momentum value, gradient, second gradient, and step num value\n",
        "\n",
        "    # the optimizer is a 2 hidden layer MLP.\n",
        "    w0 = jax.random.normal(key1, [input_feats, self.hidden_size])\n",
        "    b0 = jnp.zeros([self.hidden_size])\n",
        "\n",
        "    w1 = jax.random.normal(key2, [self.hidden_size, 2])\n",
        "    b1 = jnp.zeros([2])\n",
        "    return (w0, b0, w1, b1)\n",
        "\n",
        "  def initial_inner_opt_state(self, meta_params, params):\n",
        "    # The inner opt state contains the parameter values, and the momentum values.\n",
        "    momentum = [jnp.zeros_like(p) for p in params]\n",
        "    return tuple(params), tuple(momentum)\n",
        "\n",
        "  @functools.partial(jax.jit, static_argnums=(0,))\n",
        "  def update_inner_opt_state(self, meta_params, inner_opt_state, inner_grads, step_num):\n",
        "    \"Perform 1 step of learning using the learned optimizer.\" \"\"\n",
        "    params, momentum = inner_opt_state\n",
        "\n",
        "    # compute momentum\n",
        "    momentum = [\n",
        "        m * self.decay + (g * (1 - self.decay))\n",
        "        for m, g in zip(momentum, inner_grads)\n",
        "    ]\n",
        "\n",
        "    def predict_step(features):\n",
        "      \"\"\"Predict the update for a single ndarray.\"\"\"\n",
        "      w0, b0, w1, b1 = meta_params\n",
        "      outs = jax.nn.relu(features @ w0 + b0) @ w1 + b1\n",
        "      # slice out the last 2 elements\n",
        "      scale = outs[..., 0]\n",
        "      mag = outs[..., 1]\n",
        "      # Compute a step as follows.\n",
        "      return scale * 0.01 * jnp.exp(mag * 0.01)\n",
        "\n",
        "    out_params = []\n",
        "    i = 0\n",
        "    for p, m, g in zip(params, momentum, inner_grads):\n",
        "      features = jnp.asarray([p, m, g, jnp.full_like(g, step_num)])\n",
        "      # transpose to have features dim last. The MLP will operate on this,\n",
        "      # and treat the leading dimensions as a batch dimension.\n",
        "      features = jnp.transpose(features, list(range(1, 1 + len(p.shape))) + [0])\n",
        "\n",
        "      step = predict_step(features)\n",
        "      out_params.append(p - step)\n",
        "      i += 1\n",
        "\n",
        "    return tuple(out_params), tuple(momentum)"
      ],
      "metadata": {
        "id": "xFQFhzYvVH8A"
      },
      "execution_count": null,
      "outputs": []
    },
    {
      "cell_type": "code",
      "source": [
        "value_grad_fn = jax.jit(jax.value_and_grad(task.loss))\n"
      ],
      "metadata": {
        "id": "KYSvMT9Tai4K"
      },
      "execution_count": null,
      "outputs": []
    },
    {
      "cell_type": "code",
      "source": [
        "value_grad2_fn = jax.jit(jax.hessian(task.loss))\n"
      ],
      "metadata": {
        "id": "swke2UXPbCo8"
      },
      "execution_count": null,
      "outputs": []
    },
    {
      "cell_type": "code",
      "source": [
        "lopt = MyLOpt()\n",
        "\n",
        "key = jax.random.PRNGKey(i)\n",
        "meta_params = lopt.init_meta_params(key)\n",
        "\n",
        "def get_batch_seq(seq_len):\n",
        "  batches = [next(data_iterator) for _ in range(seq_len)]\n",
        "  # stack the data to add a leading dim.\n",
        "  return {\n",
        "      \"image\": jnp.asarray([b[\"image\"] for b in batches]),\n",
        "      \"label\": jnp.asarray([b[\"label\"] for b in batches])\n",
        "  }\n",
        "\n",
        "step_num = 0\n",
        "\n",
        "@jax.jit\n",
        "def meta_loss(meta_params, key, sequence_of_batches):\n",
        "  global step_num\n",
        "  step_num = 0\n",
        "\n",
        "  def step(opt_state, batch):\n",
        "    global step_num\n",
        "    step_num += 1\n",
        "    loss, grads = value_grad_fn(opt_state[0], batch)\n",
        "    opt_state = lopt.update_inner_opt_state(meta_params, opt_state, grads, 0)\n",
        "    return opt_state, loss\n",
        "\n",
        "  params = task.init(key)\n",
        "  opt_state = lopt.initial_inner_opt_state(meta_params, params)\n",
        "  # Iterate N times where N is the number of batches in sequence_of_batches\n",
        "  opt_state, losses = jax.lax.scan(step, opt_state, sequence_of_batches)\n",
        "\n",
        "  return jnp.mean(losses)\n",
        "\n",
        "\n",
        "key = jax.random.PRNGKey(0)\n",
        "meta_loss(meta_params, key, get_batch_seq(10))"
      ],
      "metadata": {
        "id": "l87ujz8IV_ta",
        "colab": {
          "base_uri": "https://localhost:8080/"
        },
        "outputId": "f53688a1-0189-479e-d9ed-af90428d10e4"
      },
      "execution_count": null,
      "outputs": [
        {
          "output_type": "execute_result",
          "data": {
            "text/plain": [
              "Array(2.2942626, dtype=float32)"
            ]
          },
          "metadata": {},
          "execution_count": 88
        }
      ]
    },
    {
      "cell_type": "code",
      "source": [
        "key = jax.random.PRNGKey(0)\n",
        "meta_value_grad_fn = jax.jit(jax.value_and_grad(meta_loss))\n",
        "loss, meta_grad = meta_value_grad_fn(meta_params, key, get_batch_seq(10))\n",
        "\n",
        "meta_opt = Adam(0.001)\n",
        "key = jax.random.PRNGKey(0)\n",
        "meta_params = lopt.init_meta_params(key)\n",
        "meta_opt_state = meta_opt.init(meta_params)\n",
        "meta_losses = []\n",
        "\n",
        "num_steps = int(os.environ.get(\"LOPT_TRAIN_LENGTH\", 1000))\n",
        "for i in tqdm(range(num_steps)):\n",
        "  data = get_batch_seq(20)\n",
        "  key1, key = jax.random.split(key)\n",
        "  loss, meta_grad = meta_value_grad_fn(meta_opt_state[0], key1, data)\n",
        "  meta_losses.append(loss)\n",
        "  if i % 20 == 0:\n",
        "    print(onp.mean(meta_losses[-20:]))\n",
        "  meta_opt_state = meta_opt.update(meta_opt_state, meta_grad)\n",
        "\n",
        "plt.plot(meta_losses)\n",
        "plt.xlabel(\"meta-iteration\")\n",
        "plt.ylabel(\"meta-loss\")"
      ],
      "metadata": {
        "colab": {
          "base_uri": "https://localhost:8080/",
          "height": 1000
        },
        "id": "U1trHJW9lYe5",
        "outputId": "0cd96219-c795-406a-9c3d-ddaa693c41ef"
      },
      "execution_count": null,
      "outputs": [
        {
          "output_type": "stream",
          "name": "stdout",
          "text": [
            "2.3000255\n"
          ]
        },
        {
          "output_type": "stream",
          "name": "stderr",
          "text": [
            "  2%|▎         | 25/1000 [00:03<00:56, 17.31it/s]"
          ]
        },
        {
          "output_type": "stream",
          "name": "stdout",
          "text": [
            "2.2688186\n"
          ]
        },
        {
          "output_type": "stream",
          "name": "stderr",
          "text": [
            "  4%|▍         | 45/1000 [00:04<00:34, 28.02it/s]"
          ]
        },
        {
          "output_type": "stream",
          "name": "stdout",
          "text": [
            "2.1732774\n"
          ]
        },
        {
          "output_type": "stream",
          "name": "stderr",
          "text": [
            "  6%|▋         | 65/1000 [00:04<00:29, 31.95it/s]"
          ]
        },
        {
          "output_type": "stream",
          "name": "stdout",
          "text": [
            "2.023335\n"
          ]
        },
        {
          "output_type": "stream",
          "name": "stderr",
          "text": [
            "  9%|▉         | 92/1000 [00:05<00:18, 48.45it/s]"
          ]
        },
        {
          "output_type": "stream",
          "name": "stdout",
          "text": [
            "1.9118707\n"
          ]
        },
        {
          "output_type": "stream",
          "name": "stderr",
          "text": [
            " 11%|█         | 110/1000 [00:05<00:17, 52.26it/s]"
          ]
        },
        {
          "output_type": "stream",
          "name": "stdout",
          "text": [
            "1.862887\n"
          ]
        },
        {
          "output_type": "stream",
          "name": "stderr",
          "text": [
            " 13%|█▎        | 128/1000 [00:05<00:16, 54.00it/s]"
          ]
        },
        {
          "output_type": "stream",
          "name": "stdout",
          "text": [
            "1.8056568\n"
          ]
        },
        {
          "output_type": "stream",
          "name": "stderr",
          "text": [
            " 15%|█▌        | 152/1000 [00:06<00:15, 54.16it/s]"
          ]
        },
        {
          "output_type": "stream",
          "name": "stdout",
          "text": [
            "1.7994617\n"
          ]
        },
        {
          "output_type": "stream",
          "name": "stderr",
          "text": [
            " 17%|█▋        | 170/1000 [00:06<00:15, 53.14it/s]"
          ]
        },
        {
          "output_type": "stream",
          "name": "stdout",
          "text": [
            "1.7743965\n"
          ]
        },
        {
          "output_type": "stream",
          "name": "stderr",
          "text": [
            " 19%|█▉        | 188/1000 [00:07<00:14, 54.31it/s]"
          ]
        },
        {
          "output_type": "stream",
          "name": "stdout",
          "text": [
            "1.7558897\n"
          ]
        },
        {
          "output_type": "stream",
          "name": "stderr",
          "text": [
            " 21%|██        | 212/1000 [00:07<00:14, 54.98it/s]"
          ]
        },
        {
          "output_type": "stream",
          "name": "stdout",
          "text": [
            "1.7227917\n"
          ]
        },
        {
          "output_type": "stream",
          "name": "stderr",
          "text": [
            " 23%|██▎       | 230/1000 [00:07<00:14, 54.41it/s]"
          ]
        },
        {
          "output_type": "stream",
          "name": "stdout",
          "text": [
            "1.7222217\n"
          ]
        },
        {
          "output_type": "stream",
          "name": "stderr",
          "text": [
            " 25%|██▍       | 248/1000 [00:08<00:13, 54.58it/s]"
          ]
        },
        {
          "output_type": "stream",
          "name": "stdout",
          "text": [
            "1.706137\n"
          ]
        },
        {
          "output_type": "stream",
          "name": "stderr",
          "text": [
            " 27%|██▋       | 266/1000 [00:08<00:13, 54.99it/s]"
          ]
        },
        {
          "output_type": "stream",
          "name": "stdout",
          "text": [
            "1.6956766\n"
          ]
        },
        {
          "output_type": "stream",
          "name": "stderr",
          "text": [
            " 35%|███▌      | 350/1000 [00:10<00:12, 53.71it/s]"
          ]
        },
        {
          "output_type": "stream",
          "name": "stdout",
          "text": [
            "1.6535667\n"
          ]
        },
        {
          "output_type": "stream",
          "name": "stderr",
          "text": [
            " 37%|███▋      | 368/1000 [00:10<00:11, 53.69it/s]"
          ]
        },
        {
          "output_type": "stream",
          "name": "stdout",
          "text": [
            "1.6511881\n"
          ]
        },
        {
          "output_type": "stream",
          "name": "stderr",
          "text": [
            " 39%|███▊      | 386/1000 [00:10<00:11, 52.05it/s]"
          ]
        },
        {
          "output_type": "stream",
          "name": "stdout",
          "text": [
            "1.6382462\n"
          ]
        },
        {
          "output_type": "stream",
          "name": "stderr",
          "text": [
            " 41%|████      | 409/1000 [00:11<00:11, 52.34it/s]"
          ]
        },
        {
          "output_type": "stream",
          "name": "stdout",
          "text": [
            "1.6362938\n"
          ]
        },
        {
          "output_type": "stream",
          "name": "stderr",
          "text": [
            " 43%|████▎     | 427/1000 [00:11<00:10, 54.59it/s]"
          ]
        },
        {
          "output_type": "stream",
          "name": "stdout",
          "text": [
            "1.6275021\n"
          ]
        },
        {
          "output_type": "stream",
          "name": "stderr",
          "text": [
            " 45%|████▌     | 451/1000 [00:12<00:10, 53.97it/s]"
          ]
        },
        {
          "output_type": "stream",
          "name": "stdout",
          "text": [
            "1.6203763\n"
          ]
        },
        {
          "output_type": "stream",
          "name": "stderr",
          "text": [
            " 47%|████▋     | 469/1000 [00:12<00:09, 55.14it/s]"
          ]
        },
        {
          "output_type": "stream",
          "name": "stdout",
          "text": [
            "1.6241341\n"
          ]
        },
        {
          "output_type": "stream",
          "name": "stderr",
          "text": [
            " 49%|████▊     | 487/1000 [00:12<00:09, 52.34it/s]"
          ]
        },
        {
          "output_type": "stream",
          "name": "stdout",
          "text": [
            "1.6099732\n"
          ]
        },
        {
          "output_type": "stream",
          "name": "stderr",
          "text": [
            " 51%|█████     | 511/1000 [00:13<00:09, 53.03it/s]"
          ]
        },
        {
          "output_type": "stream",
          "name": "stdout",
          "text": [
            "1.6028652\n"
          ]
        },
        {
          "output_type": "stream",
          "name": "stderr",
          "text": [
            " 53%|█████▎    | 529/1000 [00:13<00:08, 53.17it/s]"
          ]
        },
        {
          "output_type": "stream",
          "name": "stdout",
          "text": [
            "1.589364\n"
          ]
        },
        {
          "output_type": "stream",
          "name": "stderr",
          "text": [
            " 55%|█████▍    | 547/1000 [00:13<00:08, 55.71it/s]"
          ]
        },
        {
          "output_type": "stream",
          "name": "stdout",
          "text": [
            "1.5899231\n"
          ]
        },
        {
          "output_type": "stream",
          "name": "stderr",
          "text": [
            " 57%|█████▋    | 571/1000 [00:14<00:07, 54.14it/s]"
          ]
        },
        {
          "output_type": "stream",
          "name": "stdout",
          "text": [
            "1.5772152\n"
          ]
        },
        {
          "output_type": "stream",
          "name": "stderr",
          "text": [
            " 59%|█████▉    | 589/1000 [00:14<00:07, 53.42it/s]"
          ]
        },
        {
          "output_type": "stream",
          "name": "stdout",
          "text": [
            "1.5840787\n"
          ]
        },
        {
          "output_type": "stream",
          "name": "stderr",
          "text": [
            " 61%|██████    | 607/1000 [00:14<00:07, 50.88it/s]"
          ]
        },
        {
          "output_type": "stream",
          "name": "stdout",
          "text": [
            "1.5849243\n"
          ]
        },
        {
          "output_type": "stream",
          "name": "stderr",
          "text": [
            " 63%|██████▎   | 626/1000 [00:16<00:18, 19.96it/s]"
          ]
        },
        {
          "output_type": "stream",
          "name": "stdout",
          "text": [
            "1.5842026\n"
          ]
        },
        {
          "output_type": "stream",
          "name": "stderr",
          "text": [
            " 64%|██████▍   | 645/1000 [00:17<00:21, 16.56it/s]"
          ]
        },
        {
          "output_type": "stream",
          "name": "stdout",
          "text": [
            "1.5776708\n"
          ]
        },
        {
          "output_type": "stream",
          "name": "stderr",
          "text": [
            " 67%|██████▋   | 669/1000 [00:17<00:08, 39.51it/s]"
          ]
        },
        {
          "output_type": "stream",
          "name": "stdout",
          "text": [
            "1.5649911\n"
          ]
        },
        {
          "output_type": "stream",
          "name": "stderr",
          "text": [
            " 69%|██████▉   | 688/1000 [00:18<00:09, 33.31it/s]"
          ]
        },
        {
          "output_type": "stream",
          "name": "stdout",
          "text": [
            "1.5612738\n"
          ]
        },
        {
          "output_type": "stream",
          "name": "stderr",
          "text": [
            " 71%|███████   | 711/1000 [00:18<00:06, 47.66it/s]"
          ]
        },
        {
          "output_type": "stream",
          "name": "stdout",
          "text": [
            "1.5482761\n"
          ]
        },
        {
          "output_type": "stream",
          "name": "stderr",
          "text": [
            " 73%|███████▎  | 729/1000 [00:19<00:05, 51.92it/s]"
          ]
        },
        {
          "output_type": "stream",
          "name": "stdout",
          "text": [
            "1.5521458\n"
          ]
        },
        {
          "output_type": "stream",
          "name": "stderr",
          "text": [
            " 75%|███████▍  | 747/1000 [00:19<00:04, 52.48it/s]"
          ]
        },
        {
          "output_type": "stream",
          "name": "stdout",
          "text": [
            "1.540279\n"
          ]
        },
        {
          "output_type": "stream",
          "name": "stderr",
          "text": [
            " 77%|███████▋  | 771/1000 [00:20<00:04, 53.46it/s]"
          ]
        },
        {
          "output_type": "stream",
          "name": "stdout",
          "text": [
            "1.5403033\n"
          ]
        },
        {
          "output_type": "stream",
          "name": "stderr",
          "text": [
            " 79%|███████▉  | 789/1000 [00:20<00:03, 55.25it/s]"
          ]
        },
        {
          "output_type": "stream",
          "name": "stdout",
          "text": [
            "1.5392554\n"
          ]
        },
        {
          "output_type": "stream",
          "name": "stderr",
          "text": [
            " 81%|████████  | 807/1000 [00:20<00:03, 55.83it/s]"
          ]
        },
        {
          "output_type": "stream",
          "name": "stdout",
          "text": [
            "1.5375423\n"
          ]
        },
        {
          "output_type": "stream",
          "name": "stderr",
          "text": [
            " 83%|████████▎ | 831/1000 [00:21<00:03, 54.89it/s]"
          ]
        },
        {
          "output_type": "stream",
          "name": "stdout",
          "text": [
            "1.5216349\n"
          ]
        },
        {
          "output_type": "stream",
          "name": "stderr",
          "text": [
            " 85%|████████▍ | 849/1000 [00:21<00:02, 55.50it/s]"
          ]
        },
        {
          "output_type": "stream",
          "name": "stdout",
          "text": [
            "1.5216478\n"
          ]
        },
        {
          "output_type": "stream",
          "name": "stderr",
          "text": [
            " 87%|████████▋ | 867/1000 [00:21<00:02, 55.09it/s]"
          ]
        },
        {
          "output_type": "stream",
          "name": "stdout",
          "text": [
            "1.5285578\n"
          ]
        },
        {
          "output_type": "stream",
          "name": "stderr",
          "text": [
            " 89%|████████▉ | 891/1000 [00:22<00:01, 55.11it/s]"
          ]
        },
        {
          "output_type": "stream",
          "name": "stdout",
          "text": [
            "1.525488\n"
          ]
        },
        {
          "output_type": "stream",
          "name": "stderr",
          "text": [
            " 91%|█████████ | 909/1000 [00:22<00:01, 54.72it/s]"
          ]
        },
        {
          "output_type": "stream",
          "name": "stdout",
          "text": [
            "1.5254774\n"
          ]
        },
        {
          "output_type": "stream",
          "name": "stderr",
          "text": [
            " 93%|█████████▎| 927/1000 [00:22<00:01, 53.10it/s]"
          ]
        },
        {
          "output_type": "stream",
          "name": "stdout",
          "text": [
            "1.5163466\n"
          ]
        },
        {
          "output_type": "stream",
          "name": "stderr",
          "text": [
            " 95%|█████████▌| 951/1000 [00:23<00:00, 53.14it/s]"
          ]
        },
        {
          "output_type": "stream",
          "name": "stdout",
          "text": [
            "1.5194527\n"
          ]
        },
        {
          "output_type": "stream",
          "name": "stderr",
          "text": [
            " 97%|█████████▋| 969/1000 [00:23<00:00, 54.34it/s]"
          ]
        },
        {
          "output_type": "stream",
          "name": "stdout",
          "text": [
            "1.5061747\n"
          ]
        },
        {
          "output_type": "stream",
          "name": "stderr",
          "text": [
            " 99%|█████████▊| 987/1000 [00:24<00:00, 54.36it/s]"
          ]
        },
        {
          "output_type": "stream",
          "name": "stdout",
          "text": [
            "1.5118494\n"
          ]
        },
        {
          "output_type": "stream",
          "name": "stderr",
          "text": [
            "100%|██████████| 1000/1000 [00:24<00:00, 41.16it/s]\n"
          ]
        },
        {
          "output_type": "execute_result",
          "data": {
            "text/plain": [
              "Text(0, 0.5, 'meta-loss')"
            ]
          },
          "metadata": {},
          "execution_count": 89
        },
        {
          "output_type": "display_data",
          "data": {
            "text/plain": [
              "<Figure size 432x288 with 1 Axes>"
            ],
            "image/png": "[encoded data removed]"
          },
          "metadata": {
            "needs_background": "light"
          }
        }
      ]
    },
    {
      "cell_type": "code",
      "source": [
        "meta_params = meta_opt_state[0]\n",
        "\n",
        "for j in range(10):\n",
        "  losses = []\n",
        "  key = jax.random.PRNGKey(j)\n",
        "  params = task.init(key)\n",
        "  opt_state = lopt.initial_inner_opt_state(meta_params, params)\n",
        "\n",
        "  for i in tqdm(range(20)):\n",
        "    batch = next(data_iterator)\n",
        "    loss, grads = value_grad_fn(opt_state[0], batch)\n",
        "    opt_state = lopt.update_inner_opt_state(meta_params, opt_state, grads, 0)\n",
        "    losses.append(loss)\n",
        "  plt.plot(losses)\n",
        "  plt.ylim(0.5, 2.3)\n",
        "plt.xlabel(\"inner-iteration\")\n",
        "plt.ylabel(\"loss\")"
      ],
      "metadata": {
        "colab": {
          "base_uri": "https://localhost:8080/",
          "height": 486
        },
        "id": "5GN2vfFvoRwO",
        "outputId": "94695a82-c36f-4462-b4f2-eb5398e3cdd9"
      },
      "execution_count": null,
      "outputs": [
        {
          "output_type": "stream",
          "name": "stderr",
          "text": [
            "100%|██████████| 20/20 [00:00<00:00, 459.91it/s]\n",
            "100%|██████████| 20/20 [00:00<00:00, 378.26it/s]\n",
            "100%|██████████| 20/20 [00:00<00:00, 407.95it/s]\n",
            "100%|██████████| 20/20 [00:00<00:00, 498.06it/s]\n",
            "100%|██████████| 20/20 [00:00<00:00, 219.65it/s]\n",
            "100%|██████████| 20/20 [00:00<00:00, 228.93it/s]\n",
            "100%|██████████| 20/20 [00:00<00:00, 170.77it/s]\n",
            "100%|██████████| 20/20 [00:00<00:00, 195.13it/s]\n",
            "100%|██████████| 20/20 [00:00<00:00, 147.49it/s]\n",
            "100%|██████████| 20/20 [00:00<00:00, 265.93it/s]\n"
          ]
        },
        {
          "output_type": "execute_result",
          "data": {
            "text/plain": [
              "Text(0, 0.5, 'loss')"
            ]
          },
          "metadata": {},
          "execution_count": 92
        },
        {
          "output_type": "display_data",
          "data": {
            "text/plain": [
              "<Figure size 432x288 with 1 Axes>"
            ],
            "image/png": "[encoded data removed]"
          },
          "metadata": {
            "needs_background": "light"
          }
        }
      ]
    },
    {
      "cell_type": "markdown",
      "metadata": {
        "id": "oOTPnSM5m8pV"
      },
      "source": [
        "## Vectorization: Speeding up Meta-training\n",
        "\n",
        "The above example, we are training a single problem instance for 10 iterations, and using this single training to compute meta-gradients. Oftentimes we seek to compute meta-gradients from more than one problem or to average over multiple random initializations / batches of data. To do this, we will leverage `jax.vmap`.\n",
        "\n",
        "We will define a vectorized meta-loss, which computes the original `meta_loss` function in parallel, then averages the losses. We can then call `jax.value_and_grad` on this function to compute meta-gradients which are the average of these samples.\n",
        "\n",
        "One big advantage to vectorizing in this way is to make better use of hardware accelerators. When training learned optimizers, we often apply them to small problems for speedy meta-training. These small problems can be a poor fit for the underlying hardware which often consists of big matrix multiplication units. What vectorization does compute multiple of these small problems *at the same time*, which, depending on the details, can be considerably faster."
      ]
    },
    {
      "cell_type": "code",
      "execution_count": null,
      "metadata": {
        "id": "8qud5EuWniIF"
      },
      "outputs": [],
      "source": [
        "def get_vec_batch_seq(vec_size, seq_len):\n",
        "  batches = [get_batch_seq(seq_len) for _ in range(vec_size)]\n",
        "  # stack them\n",
        "  return {\n",
        "      \"image\": jnp.asarray([b[\"image\"] for b in batches]),\n",
        "      \"label\": jnp.asarray([b[\"label\"] for b in batches])\n",
        "  }\n",
        "\n",
        "\n",
        "def vectorized_meta_loss(meta_params, key, sequence_of_batches):\n",
        "  vec_loss = jax.vmap(\n",
        "      meta_loss, in_axes=(None, 0, 0))(meta_params, key, sequence_of_batches)\n",
        "  return jnp.mean(vec_loss)\n",
        "\n",
        "\n",
        "vec_meta_loss_grad = jax.jit(jax.value_and_grad(vectorized_meta_loss))\n",
        "vec_sec_batch = get_vec_batch_seq(4, 10)\n",
        "keys = jax.random.split(key, 4)\n",
        "loses, meta_grad = vec_meta_loss_grad(meta_params, keys, vec_sec_batch)"
      ]
    },
    {
      "cell_type": "markdown",
      "metadata": {
        "id": "C2cz28gppua9"
      },
      "source": [
        "And now we can meta-train with this vectorized loss similarly to before."
      ]
    },
    {
      "cell_type": "code",
      "execution_count": null,
      "metadata": {
        "id": "TfZvfCJ_uGTp",
        "outputId": "a8156fa1-4d03-40cc-a961-d570f425ec54"
      },
      "outputs": [
        {
          "name": "stdout",
          "output_type": "stream",
          "text": [
            "2.3015163\n",
            "2.2858846\n",
            "2.262492\n",
            "2.2396119\n",
            "2.2089443\n",
            "2.1768482\n",
            "2.1378422\n",
            "2.0993867\n",
            "2.0581489\n",
            "2.0262241\n"
          ]
        }
      ],
      "source": [
        "meta_opt = Adam(0.001)\n",
        "key = jax.random.PRNGKey(0)\n",
        "meta_params = lopt.init_meta_params(key)\n",
        "meta_opt_state = meta_opt.init(meta_params)\n",
        "meta_losses = []\n",
        "num_steps = int(os.environ.get(\"LOPT_TRAIN_LENGTH\", 200))\n",
        "for i in range(num_steps):\n",
        "  data = get_vec_batch_seq(8, 10)\n",
        "  key1, key = jax.random.split(key)\n",
        "  keys = jax.random.split(key1, 8)\n",
        "  loss, meta_grad = vec_meta_loss_grad(meta_opt_state[0], keys, data)\n",
        "  meta_losses.append(loss)\n",
        "  if i % 20 == 0:\n",
        "    print(onp.mean(meta_losses[-20:]))\n",
        "  meta_opt_state = meta_opt.update(meta_opt_state, meta_grad)"
      ]
    },
    {
      "cell_type": "code",
      "execution_count": null,
      "metadata": {
        "colab": {
          "height": 282
        },
        "id": "vLBEKi6WuTcx",
        "outputId": "215a253b-831a-4f2e-d477-e27e530ba220"
      },
      "outputs": [
        {
          "data": {
            "text/plain": [
              "[<matplotlib.lines.Line2D at 0x7f4060a6afd0>]"
            ]
          },
          "execution_count": 19,
          "metadata": {},
          "output_type": "execute_result"
        },
        {
          "data": {
            "image/png": "[encoded data removed]",
            "text/plain": [
              "<Figure size 600x400 with 1 Axes>"
            ]
          },
          "metadata": {},
          "output_type": "display_data"
        }
      ],
      "source": [
        "plt.plot(meta_losses)"
      ]
    },
    {
      "cell_type": "markdown",
      "metadata": {
        "id": "W9Ao4iSNnl16"
      },
      "source": [
        "## Evolutionary Strategies (ES): Meta-training without meta-gradients\n",
        "Computing gradients through long optimization procedures can sometimes lead to chaotic dynamics, and result in exploding gradients. See [https://arxiv.org/abs/1810.10180](https://arxiv.org/abs/1810.10180) and [https://arxiv.org/abs/2111.05803](https://arxiv.org/abs/2111.05803) for more info.\n",
        "\n",
        "An alternative is to leverage black box optimization techniques. A method we found that works well is evolutionary strategies with antithetic samples. This estimator can be thought of as a randomized finite difference. We sample a random direction in the meta-parameters, compute the meta-loss when shifting in this direction, and in the negative of this direction, and move in the direction which lowers the loss. The estimator can be written as:\n",
        "\n",
        "$$\\nabla_\\theta = \\mathbb{E}_{\\epsilon \\sim \\mathcal{N}(0, I\\sigma)} \\dfrac{\\epsilon}{2 \\sigma ^2} (L(\\theta + \\epsilon) - L(\\theta - \\epsilon))$$\n",
        "\n",
        "where $L$ is the meta-loss.\n",
        "\n",
        "As before, we will construct a vectorized version of these estimators to average over a number of different random directions."
      ]
    },
    {
      "cell_type": "code",
      "execution_count": null,
      "metadata": {
        "id": "KHd6Sf0mu_CZ"
      },
      "outputs": [],
      "source": [
        "def antithetic_es_estimate(meta_params, key, seq_of_batches):\n",
        "  \"\"\"Compute a ES estimated gradient along a single direction.\"\"\"\n",
        "  std = 0.001\n",
        "  keys = jax.random.split(key, len(meta_params))\n",
        "  noise = [\n",
        "      jax.random.normal(keys[i], p.shape) * std\n",
        "      for i, p in enumerate(meta_params)\n",
        "  ]\n",
        "  meta_params_pos = [p + n for p, n in zip(meta_params, noise)]\n",
        "  meta_params_neg = [p - n for p, n in zip(meta_params, noise)]\n",
        "\n",
        "  pos_loss = meta_loss(meta_params_pos, key, seq_of_batches)\n",
        "  neg_loss = meta_loss(meta_params_neg, key, seq_of_batches)\n",
        "\n",
        "  factor = (pos_loss - neg_loss) / (2 * std**2)\n",
        "  es_grads = [factor * n for n in noise]\n",
        "  return (pos_loss + neg_loss) / 2.0, es_grads\n",
        "\n",
        "\n",
        "@jax.jit\n",
        "def vec_antithetic_es_estimate(meta_params, keys, vec_seq_batches):\n",
        "  \"\"\"Compute a ES estimated gradient along multiple directions.\"\"\"\n",
        "  losses, grads = jax.vmap(\n",
        "      antithetic_es_estimate, in_axes=(None, 0, 0))(meta_params, keys,\n",
        "                                                    vec_seq_batches)\n",
        "  return jnp.mean(losses), [jnp.mean(g, axis=0) for g in grads]\n",
        "\n",
        "\n",
        "keys = jax.random.split(key, 8)\n",
        "vec_sec_batch = get_vec_batch_seq(8, 10)\n",
        "loss, es_grads = vec_antithetic_es_estimate(meta_params, keys, vec_sec_batch)"
      ]
    },
    {
      "cell_type": "markdown",
      "metadata": {
        "id": "nXqXfO1QquBY"
      },
      "source": [
        "We can use a similar meta-training procedure as before now with this new gradient estimator."
      ]
    },
    {
      "cell_type": "code",
      "execution_count": null,
      "metadata": {
        "id": "QAte_Dm3wg-9",
        "outputId": "cefff89b-82db-406f-f961-5041d1dfe8d1"
      },
      "outputs": [
        {
          "name": "stdout",
          "output_type": "stream",
          "text": [
            "2.3011694\n",
            "2.2831185\n",
            "2.2696424\n",
            "2.256878\n",
            "2.246539\n",
            "2.2384717\n",
            "2.229327\n",
            "2.2206445\n",
            "2.213926\n",
            "2.2045903\n"
          ]
        }
      ],
      "source": [
        "meta_opt = Adam(0.003)\n",
        "key = jax.random.PRNGKey(0)\n",
        "meta_params = lopt.init_meta_params(key)\n",
        "meta_opt_state = meta_opt.init(meta_params)\n",
        "meta_losses = []\n",
        "n_particles = 32\n",
        "\n",
        "num_steps = int(os.environ.get(\"LOPT_TRAIN_LENGTH\", 200))\n",
        "for i in range(num_steps):\n",
        "  data = get_vec_batch_seq(n_particles, 10)\n",
        "  key1, key = jax.random.split(key)\n",
        "  keys = jax.random.split(key1, n_particles)\n",
        "  loss, meta_grad = vec_antithetic_es_estimate(meta_opt_state[0], keys, data)\n",
        "  meta_losses.append(loss)\n",
        "  if i % 20 == 0:\n",
        "    print(onp.mean(meta_losses[-20:]))\n",
        "\n",
        "  meta_opt_state = meta_opt.update(meta_opt_state, meta_grad)"
      ]
    },
    {
      "cell_type": "code",
      "execution_count": null,
      "metadata": {
        "colab": {
          "height": 282
        },
        "id": "X_fqy1t-xzJ_",
        "outputId": "dcbdd3d6-77d1-44fc-d806-9b15e2eedca1"
      },
      "outputs": [
        {
          "data": {
            "text/plain": [
              "[<matplotlib.lines.Line2D at 0x7f4060829250>]"
            ]
          },
          "execution_count": 22,
          "metadata": {},
          "output_type": "execute_result"
        },
        {
          "data": {
            "image/png": "[encoded data removed]",
            "text/plain": [
              "<Figure size 600x400 with 1 Axes>"
            ]
          },
          "metadata": {},
          "output_type": "display_data"
        }
      ],
      "source": [
        "plt.plot(meta_losses)"
      ]
    },
    {
      "cell_type": "markdown",
      "metadata": {
        "id": "64YicoxfJtZG"
      },
      "source": [
        "## Meta-training with Truncated backprop through time\n",
        "In the previous meta-training examples, in the meta-loss we always initialized the inner-problem and apply the optimizer for some fixed number of steps.\n",
        "\n",
        "This is fine for short inner-problem training times, it becomes costly for longer numbers of inner-iterations.\n",
        "Truncated backprop through time, and more generally truncated meta-training techniques are one solution to this. The core idea is to split up one longer sequence into smaller chunks and compute meta-gradients only within a chunk. This allows one to compute gradients faster -- each chunk we get a gradient estimate, but these methods are generally biased as we ignore how the chunks interact with each other.\n",
        "\n",
        "The code for this is a bit more involved. First, we need to keep track of each inner problem. In our case, this means keeping track of the inner problems optimizer state, as well as the current training iteration. Next, we must check if we are at the end of an inner-training. We fix the length of the inner training to be 100 for this example. We can then define a function (`short_segment_unroll`) which both progresses training by some number of steps,\n",
        "and return the loss from that segment."
      ]
    },
    {
      "cell_type": "code",
      "execution_count": null,
      "metadata": {
        "id": "ri9wWMPizb-G",
        "outputId": "6025ce7a-98e5-459a-e1a7-6e19792056d0"
      },
      "outputs": [
        {
          "data": {
            "text/plain": [
              "DeviceArray(10, dtype=int32, weak_type=True)"
            ]
          },
          "execution_count": 23,
          "metadata": {},
          "output_type": "execute_result"
        }
      ],
      "source": [
        "def short_segment_unroll(meta_params,\n",
        "                         key,\n",
        "                         inner_opt_state,\n",
        "                         on_iteration,\n",
        "                         seq_of_batches,\n",
        "                         inner_problem_length=100):\n",
        "\n",
        "  def step(scan_state, batch):\n",
        "    opt_state, i, key = scan_state\n",
        "\n",
        "    # If we have trained more than 100 steps, reset the inner problem.\n",
        "    key1, key = jax.random.split(key)\n",
        "    opt_state, i = jax.lax.cond(\n",
        "        i >= inner_problem_length, lambda k:\n",
        "        (lopt.initial_inner_opt_state(meta_params, task.init(k)), 0), lambda k:\n",
        "        (opt_state, i + 1), key)\n",
        "\n",
        "    loss, grads = value_grad_fn(opt_state[0], batch)\n",
        "    opt_state = lopt.update_inner_opt_state(meta_params, opt_state, grads)\n",
        "\n",
        "    # clip the loss to prevent diverging inner models\n",
        "    loss = jax.lax.cond(\n",
        "        jnp.isnan(loss), lambda loss: 3.0, lambda loss: jnp.minimum(loss, 3.0),\n",
        "        loss)\n",
        "\n",
        "    return (opt_state, i, key), loss\n",
        "\n",
        "  (inner_opt_state, on_iteration,\n",
        "   _), losses = jax.lax.scan(step, (inner_opt_state, on_iteration, key),\n",
        "                             seq_of_batches)\n",
        "\n",
        "  return losses, inner_opt_state, on_iteration\n",
        "\n",
        "\n",
        "inner_opt_state = lopt.initial_inner_opt_state(meta_params, task.init(key))\n",
        "batch = get_batch_seq(10)\n",
        "\n",
        "loss, inner_opt_state, on_iteration = short_segment_unroll(\n",
        "    meta_params, key, inner_opt_state, 0, batch)\n",
        "on_iteration"
      ]
    },
    {
      "cell_type": "markdown",
      "metadata": {
        "id": "EBYgsPmn0-6E"
      },
      "source": [
        "Now with this function, we are free to estimate gradients over just this one short unroll rather than the full inner-training. We can use whatever gradient estimator we want -- either ES, or with backprop gradients -- but for now I will show an example with backprop gradients.\n",
        "\n",
        "As before, we construct a vectorized version of this unroll function, and compute gradients with `jax.value_and_grad`."
      ]
    },
    {
      "cell_type": "code",
      "execution_count": null,
      "metadata": {
        "id": "xJRkyAX_1Oge"
      },
      "outputs": [],
      "source": [
        "def vec_short_segment_unroll(meta_params,\n",
        "                             keys,\n",
        "                             inner_opt_states,\n",
        "                             on_iterations,\n",
        "                             vec_seq_of_batches,\n",
        "                             inner_problem_length=100):\n",
        "  losses, inner_opt_states, on_iterations = jax.vmap(\n",
        "      short_segment_unroll,\n",
        "      in_axes=(None, 0, 0, 0, 0, None))(meta_params, keys, inner_opt_states,\n",
        "                                        on_iterations, vec_seq_of_batches,\n",
        "                                        inner_problem_length)\n",
        "  return jnp.mean(losses), (inner_opt_states, on_iterations)\n",
        "\n",
        "\n",
        "vec_short_segment_grad = jax.jit(\n",
        "    jax.value_and_grad(vec_short_segment_unroll, has_aux=True))"
      ]
    },
    {
      "cell_type": "markdown",
      "metadata": {
        "id": "QYrO5_ik1vbm"
      },
      "source": [
        "We can then use this function to compute meta-gradients. Before doing that though, we must setup the initial state (parameter values and optimizer state) of the problems being trained."
      ]
    },
    {
      "cell_type": "code",
      "execution_count": null,
      "metadata": {
        "id": "iw2i_2kLsFRf"
      },
      "outputs": [],
      "source": [
        "#num_tasks = 32\n",
        "num_tasks = 16\n",
        "\n",
        "key = jax.random.PRNGKey(1)\n",
        "meta_params = lopt.init_meta_params(key)\n",
        "\n",
        "\n",
        "def init_single_inner_opt_state(key):\n",
        "  return lopt.initial_inner_opt_state(meta_params, task.init(key))\n",
        "\n",
        "\n",
        "keys = jax.random.split(key, num_tasks)\n",
        "inner_opt_states = jax.vmap(init_single_inner_opt_state)(keys)\n",
        "\n",
        "# Randomly set the initial iteration to prevent the tasks from running in lock step.\n",
        "on_iterations = jax.random.randint(key, [num_tasks], 0, 100)"
      ]
    },
    {
      "cell_type": "code",
      "execution_count": null,
      "metadata": {
        "id": "Kgltlb7b1n1M",
        "outputId": "9cf9de7b-5171-4d8b-cea1-a4df07b61075"
      },
      "outputs": [
        {
          "name": "stdout",
          "output_type": "stream",
          "text": [
            "0 2.3025281\n",
            "20 2.302613\n",
            "40 2.302506\n",
            "60 2.2939959\n",
            "80 2.228974\n",
            "100 2.146706\n",
            "120 2.062469\n",
            "140 1.9681495\n",
            "160 1.8850164\n",
            "180 1.8478796\n",
            "200 1.8156666\n",
            "220 1.7869465\n",
            "240 1.7575241\n",
            "260 1.7495174\n",
            "280 1.7104518\n",
            "300 1.7048458\n",
            "320 1.6748368\n",
            "340 1.6512482\n",
            "360 1.6221116\n",
            "380 1.5998225\n"
          ]
        }
      ],
      "source": [
        "meta_opt = Adam(0.0001)\n",
        "meta_opt_state = meta_opt.init(meta_params)\n",
        "\n",
        "meta_losses = []\n",
        "\n",
        "num_steps = int(os.environ.get(\"LOPT_TRAIN_LENGTH\", 400))\n",
        "for i in range(num_steps):\n",
        "  data = get_vec_batch_seq(num_tasks, 10)\n",
        "  key1, key = jax.random.split(key)\n",
        "  keys = jax.random.split(key1, num_tasks)\n",
        "  (loss, (inner_opt_states, on_iterations)), meta_grad = vec_short_segment_grad(\n",
        "      meta_opt_state[0], keys, inner_opt_states, on_iterations, data)\n",
        "  meta_losses.append(loss)\n",
        "  if i % 20 == 0:\n",
        "    print(i, onp.mean(meta_losses[-20:]))\n",
        "  meta_opt_state = meta_opt.update(meta_opt_state, meta_grad)"
      ]
    },
    {
      "cell_type": "code",
      "execution_count": null,
      "metadata": {
        "colab": {
          "height": 296
        },
        "id": "6Br4uOBt66yf",
        "outputId": "c4f6530f-42b9-4910-aa24-b6ca56f830c3"
      },
      "outputs": [
        {
          "data": {
            "text/plain": [
              "Text(0, 0.5, 'meta-loss')"
            ]
          },
          "execution_count": 27,
          "metadata": {},
          "output_type": "execute_result"
        },
        {
          "data": {
            "image/png": "[encoded data removed]",
            "text/plain": [
              "<Figure size 600x400 with 1 Axes>"
            ]
          },
          "metadata": {},
          "output_type": "display_data"
        }
      ],
      "source": [
        "plt.plot(meta_losses)\n",
        "plt.xlabel(\"meta-iterations\")\n",
        "plt.ylabel(\"meta-loss\")"
      ]
    },
    {
      "cell_type": "markdown",
      "metadata": {
        "id": "4b_tUUU-LpIG"
      },
      "source": [
        "Our meta-loss is going down which is great! There is a periodic behavior to the loss as we are averaging over different positions in inner-training.\n",
        "For example, if we are averaging more samples from earlier in training, we will have higher loss.\n",
        "\n",
        "\n",
        "We can now apply our optimizer for 100 steps. We can see that the resulting optimizer optimizes for ~50 steps, and then diverages. This is an indication that meta-training could have been more successful. One can improve this by meta-training for longer, or with different hparams to improve this!"
      ]
    },
    {
      "cell_type": "code",
      "execution_count": null,
      "metadata": {
        "colab": {
          "height": 269
        },
        "id": "np2hiv0m4S1F",
        "outputId": "871d47a3-ec57-4acd-cdcd-f1a5eeacdfeb"
      },
      "outputs": [
        {
          "data": {
            "image/png": "[encoded data removed]",
            "text/plain": [
              "<Figure size 600x400 with 1 Axes>"
            ]
          },
          "metadata": {},
          "output_type": "display_data"
        }
      ],
      "source": [
        "meta_params = meta_opt_state[0]\n",
        "\n",
        "for j in range(10):\n",
        "  losses = []\n",
        "  key = jax.random.PRNGKey(j)\n",
        "  params = task.init(key)\n",
        "  opt_state = lopt.initial_inner_opt_state(meta_params, params)\n",
        "\n",
        "  num_steps = int(os.environ.get(\"LOPT_TRAIN_LENGTH\", 100))\n",
        "  for i in range(num_steps):\n",
        "    batch = next(data_iterator)\n",
        "    loss, grads = value_grad_fn(opt_state[0], batch)\n",
        "    opt_state = lopt.update_inner_opt_state(meta_params, opt_state, grads)\n",
        "    losses.append(loss)\n",
        "  plt.plot(losses)\n",
        "  plt.ylim(0.0, 2.5)"
      ]
    },
    {
      "cell_type": "markdown",
      "metadata": {
        "id": "tCyfmmax2_rp"
      },
      "source": [
        "## Meta-training truncated ES\n",
        "Next, instead of meta-training with truncated gradients, we will meta-train with truncated evolution strategies."
      ]
    },
    {
      "cell_type": "code",
      "execution_count": null,
      "metadata": {
        "id": "rxQbMHDf3Rfn"
      },
      "outputs": [],
      "source": [
        "@jax.jit\n",
        "def vec_short_segment_es(meta_param,\n",
        "                         keys,\n",
        "                         inner_opt_state,\n",
        "                         on_iterations,\n",
        "                         vec_seq_of_batches,\n",
        "                         std=0.01):\n",
        "  # Compute an es estimate on a single inner-problem\n",
        "  def do_one(meta_param, key, inner_opt_state, on_iteration, seq_of_batches):\n",
        "    # Sample random noise of the same shape as meta-parameters\n",
        "    flat_params, struct = jax.tree_util.tree_flatten(meta_param)\n",
        "    keys = [jax.random.fold_in(key, i) for i in range(len(flat_params))]\n",
        "    keys = jax.tree_util.tree_unflatten(struct, keys)\n",
        "    perturbs = jax.tree_util.tree_map(lambda k, v: jax.random.normal(k, v.shape) * std,\n",
        "                            keys, meta_param)\n",
        "\n",
        "    # compute positive and negative antithetic samples\n",
        "    pos_theta = jax.tree_util.tree_map(lambda eps, v: v + eps, perturbs, meta_param)\n",
        "    neg_theta = jax.tree_util.tree_map(lambda eps, v: v - eps, perturbs, meta_param)\n",
        "\n",
        "    # Apply both of the antithetic samples\n",
        "    p_losses, p_opt_state, p_on_iteration = short_segment_unroll(\n",
        "        pos_theta,\n",
        "        key,\n",
        "        inner_opt_state,\n",
        "        on_iteration,\n",
        "        seq_of_batches,\n",
        "        inner_problem_length=30)\n",
        "    n_losses, n_opt_state, n_on_iteration = short_segment_unroll(\n",
        "        neg_theta,\n",
        "        key,\n",
        "        inner_opt_state,\n",
        "        on_iteration,\n",
        "        seq_of_batches,\n",
        "        inner_problem_length=30)\n",
        "    p_loss = jnp.mean(p_losses)\n",
        "    n_loss = jnp.mean(n_losses)\n",
        "\n",
        "    # estimate gradient\n",
        "    es_grad = jax.tree_util.tree_map(lambda p: (p_loss - n_loss) * 1 / (2. * std) * p,\n",
        "                           perturbs)\n",
        "\n",
        "    return ((p_loss + n_loss) / 2.0, (p_opt_state, p_on_iteration)), es_grad\n",
        "\n",
        "  (loss, inner_opt_state), es_grad = jax.vmap(\n",
        "      do_one, in_axes=(None, 0, 0, 0, 0))(meta_param, keys, inner_opt_state,\n",
        "                                          on_iterations, vec_seq_of_batches)\n",
        "\n",
        "  # Gradient has an extra batch dimension here from the vmap -- reduce over this.\n",
        "  return (jnp.mean(loss),\n",
        "          inner_opt_state), jax.tree_util.tree_map(lambda x: jnp.mean(x, axis=0), es_grad)"
      ]
    },
    {
      "cell_type": "code",
      "execution_count": null,
      "metadata": {
        "id": "Hn1LFTrV3Rfo"
      },
      "outputs": [],
      "source": [
        "num_tasks = 32\n",
        "\n",
        "key = jax.random.PRNGKey(1)\n",
        "inner_opt_state = lopt.initial_inner_opt_state(meta_params, task.init(key))\n",
        "batch = get_batch_seq(10)\n",
        "\n",
        "meta_params = lopt.init_meta_params(key)\n",
        "\n",
        "\n",
        "def init_single_inner_opt_state(key):\n",
        "  return lopt.initial_inner_opt_state(meta_params, task.init(key))\n",
        "\n",
        "\n",
        "keys = jax.random.split(key, num_tasks)\n",
        "inner_opt_states = jax.vmap(init_single_inner_opt_state)(keys)\n",
        "\n",
        "# Randomly set the initial iteration to prevent the tasks from running in lock step.\n",
        "on_iterations = jax.random.randint(key, [num_tasks], 0, 30)"
      ]
    },
    {
      "cell_type": "code",
      "execution_count": null,
      "metadata": {
        "id": "YmdqBmi83Rfo",
        "outputId": "a420fdd1-8d5d-4eab-f64e-aa0f99051eb9"
      },
      "outputs": [
        {
          "name": "stdout",
          "output_type": "stream",
          "text": [
            "0 2.3028803\n",
            "20 2.301912\n",
            "40 2.2743235\n",
            "60 2.2011428\n",
            "80 2.0796442\n",
            "100 1.9650596\n",
            "120 1.8779399\n",
            "140 1.8373306\n",
            "160 1.8046211\n",
            "180 1.7904768\n",
            "200 1.7764364\n",
            "220 1.7700386\n",
            "240 1.7758758\n",
            "260 1.773428\n",
            "280 1.7594522\n",
            "300 1.7603681\n",
            "320 1.7564806\n",
            "340 1.7545398\n",
            "360 1.744331\n",
            "380 1.7509981\n"
          ]
        }
      ],
      "source": [
        "meta_opt = Adam(0.001)\n",
        "meta_opt_state = meta_opt.init(meta_params)\n",
        "\n",
        "meta_losses = []\n",
        "\n",
        "num_steps = int(os.environ.get(\"LOPT_TRAIN_LENGTH\", 400))\n",
        "for i in range(num_steps):\n",
        "  data = get_vec_batch_seq(num_tasks, 10)\n",
        "  key1, key = jax.random.split(key)\n",
        "  keys = jax.random.split(key1, num_tasks)\n",
        "  (loss, (inner_opt_states, on_iterations)), meta_grad = vec_short_segment_es(\n",
        "      meta_opt_state[0], keys, inner_opt_states, on_iterations, data)\n",
        "  meta_losses.append(loss)\n",
        "  if i % 20 == 0:\n",
        "    print(i, onp.mean(meta_losses[-20:]))\n",
        "  meta_opt_state = meta_opt.update(meta_opt_state, meta_grad)"
      ]
    },
    {
      "cell_type": "code",
      "execution_count": null,
      "metadata": {
        "colab": {
          "height": 296
        },
        "id": "3ZxRdgKg3Rfo",
        "outputId": "cd1e4eb0-8eed-4c6f-f778-52e517a1e60f"
      },
      "outputs": [
        {
          "data": {
            "text/plain": [
              "Text(0, 0.5, 'meta-loss')"
            ]
          },
          "execution_count": 32,
          "metadata": {},
          "output_type": "execute_result"
        },
        {
          "data": {
            "image/png": "[encoded data removed]",
            "text/plain": [
              "<Figure size 600x400 with 1 Axes>"
            ]
          },
          "metadata": {},
          "output_type": "display_data"
        }
      ],
      "source": [
        "plt.plot(meta_losses)\n",
        "plt.xlabel(\"meta-iterations\")\n",
        "plt.ylabel(\"meta-loss\")"
      ]
    },
    {
      "cell_type": "markdown",
      "metadata": {
        "id": "D-8DhN_o2R7L"
      },
      "source": [
        "## Meta-training with truncations with less bias: Persistent Evolution Strategies (PES)\n",
        "When training with truncated evolutionary strategies, as well as truncated backprop through time and truncated evolutionary strategies one cannot compute the effect of one truncated segment, on other truncated segments. This introduces bias when working with longer sequences.\n",
        "\n",
        "PES is one ES based algorithm to prevent such bias."
      ]
    },
    {
      "cell_type": "code",
      "execution_count": null,
      "metadata": {
        "id": "WEfssK2R9-Gs"
      },
      "outputs": [],
      "source": [
        "@jax.jit\n",
        "def vec_short_segment_pes(meta_param,\n",
        "                          keys,\n",
        "                          pes_state,\n",
        "                          vec_seq_of_batches,\n",
        "                          std=0.01):\n",
        "  # Compute a pes estimate on a single inner-problem\n",
        "  def do_one(meta_param, key, pes_state, seq_of_batches):\n",
        "    accumulator, pos_opt_state, neg_opt_state, on_iteration = pes_state\n",
        "\n",
        "    # Sample random noise of the same shape as meta-parameters\n",
        "    flat_params, struct = jax.tree_util.tree_flatten(meta_param)\n",
        "    keys = [jax.random.fold_in(key, i) for i in range(len(flat_params))]\n",
        "    keys = jax.tree_util.tree_unflatten(struct, keys)\n",
        "    perturbs = jax.tree_util.tree_map(lambda k, v: jax.random.normal(k, v.shape) * std,\n",
        "                            keys, meta_param)\n",
        "\n",
        "    # compute positive and negative antithetic samples\n",
        "    pos_theta = jax.tree_util.tree_map(lambda eps, v: v + eps, perturbs, meta_param)\n",
        "    neg_theta = jax.tree_util.tree_map(lambda eps, v: v - eps, perturbs, meta_param)\n",
        "\n",
        "    # Apply both of the antithetic samples\n",
        "    p_losses, pos_opt_state, _ = short_segment_unroll(\n",
        "        pos_theta,\n",
        "        key,\n",
        "        pos_opt_state,\n",
        "        on_iteration,\n",
        "        seq_of_batches,\n",
        "        inner_problem_length=30)\n",
        "    n_losses, neg_opt_state, next_on_iteration = short_segment_unroll(\n",
        "        neg_theta,\n",
        "        key,\n",
        "        neg_opt_state,\n",
        "        on_iteration,\n",
        "        seq_of_batches,\n",
        "        inner_problem_length=30)\n",
        "\n",
        "    # estimate gradient. PES works by multipliying loss difference by the sum\n",
        "    # of previous perturbations.\n",
        "    new_accum = jax.tree_util.tree_map(lambda a, b: a + b, accumulator, perturbs)\n",
        "    delta_losses = p_losses - n_losses\n",
        "    unroll_length = p_losses.shape[0]\n",
        "\n",
        "    # one unroll could span 2 problems, so we compute 2 different gradients --\n",
        "    # one as if it was the previous trajectory, and one as if it was a previous\n",
        "    # unroll and sum them.\n",
        "    has_finished = (jnp.arange(unroll_length) + on_iteration) > 30\n",
        "\n",
        "    last_unroll_losses = jnp.mean(delta_losses * (1.0 - has_finished), axis=0)\n",
        "    new_unroll = jnp.mean(delta_losses * has_finished)\n",
        "\n",
        "    es_grad_from_accum = jax.tree_util.tree_map(\n",
        "        lambda p: last_unroll_losses * 1 / (2. * std) * p, new_accum)\n",
        "    es_grad_from_new_perturb = jax.tree_util.tree_map(\n",
        "        lambda p: new_unroll * 1 / (2. * std) * p, perturbs)\n",
        "    es_grad = jax.tree_util.tree_map(lambda a, b: a + b, es_grad_from_accum,\n",
        "                           es_grad_from_new_perturb)\n",
        "\n",
        "    # finally, we potentially reset the accumulator to the current perturbation\n",
        "    # if we finished one trajectory.\n",
        "    def _switch_one_accum(a, b):\n",
        "      return jnp.where(has_finished[-1], a, b)\n",
        "\n",
        "    new_accum = jax.tree_util.tree_map(_switch_one_accum, perturbs, new_accum)\n",
        "\n",
        "    next_pes_state = (new_accum, pos_opt_state, neg_opt_state,\n",
        "                      next_on_iteration)\n",
        "\n",
        "    return ((jnp.mean(p_losses) + jnp.mean(n_losses)) / 2.0,\n",
        "            next_pes_state), es_grad\n",
        "\n",
        "  (loss, pes_state), es_grad = jax.vmap(\n",
        "      do_one, in_axes=(None, 0, 0, 0))(meta_param, keys, pes_state,\n",
        "                                       vec_seq_of_batches)\n",
        "\n",
        "  # Gradient has an extra batch dimension here from the vmap -- reduce over this.\n",
        "  return (jnp.mean(loss),\n",
        "          pes_state), jax.tree_util.tree_map(lambda x: jnp.mean(x, axis=0), es_grad)"
      ]
    },
    {
      "cell_type": "code",
      "execution_count": null,
      "metadata": {
        "id": "f-DFEv7vbNjQ"
      },
      "outputs": [],
      "source": [
        "num_tasks = 32\n",
        "\n",
        "key = jax.random.PRNGKey(1)\n",
        "inner_opt_state = lopt.initial_inner_opt_state(meta_params, task.init(key))\n",
        "batch = get_batch_seq(10)\n",
        "\n",
        "meta_params = lopt.init_meta_params(key)\n",
        "\n",
        "# construct the initial PES state which is passed from iteration to iteration\n",
        "def init_single_inner_opt_state(key):\n",
        "  return lopt.initial_inner_opt_state(meta_params, task.init(key))\n",
        "keys = jax.random.split(key, num_tasks)\n",
        "inner_opt_states = jax.vmap(init_single_inner_opt_state)(keys)\n",
        "accumulator = jax.tree_util.tree_map(lambda x: jnp.zeros([num_tasks] + list(x.shape)),\n",
        "                           meta_params)\n",
        "# Randomly set the initial iteration to prevent the tasks from running in lock step.\n",
        "on_iterations = jax.random.randint(key, [num_tasks], 0, 30)\n",
        "pes_state = (accumulator, inner_opt_states, inner_opt_states, on_iterations)"
      ]
    },
    {
      "cell_type": "code",
      "execution_count": null,
      "metadata": {
        "id": "BRdSQI6dbNjQ",
        "outputId": "1dbf6073-f748-4aa7-de21-2fce80c0e188"
      },
      "outputs": [
        {
          "name": "stdout",
          "output_type": "stream",
          "text": [
            "0 2.302895\n",
            "20 2.3025956\n",
            "40 2.3024507\n",
            "60 2.3007588\n",
            "80 2.2814593\n",
            "100 2.2528963\n",
            "120 2.221389\n",
            "140 2.1904716\n",
            "160 2.1542785\n",
            "180 2.1154919\n",
            "200 2.0792098\n",
            "220 2.0493665\n",
            "240 2.0263429\n",
            "260 2.000341\n",
            "280 1.9719956\n",
            "300 1.946686\n",
            "320 1.9295752\n",
            "340 1.9169009\n",
            "360 1.8944466\n",
            "380 1.880933\n"
          ]
        }
      ],
      "source": [
        "meta_opt = Adam(0.0003)\n",
        "meta_opt_state = meta_opt.init(meta_params)\n",
        "\n",
        "meta_losses = []\n",
        "\n",
        "num_steps = int(os.environ.get(\"LOPT_TRAIN_LENGTH\", 400))\n",
        "for i in range(num_steps):\n",
        "  data = get_vec_batch_seq(num_tasks, 10)\n",
        "  key1, key = jax.random.split(key)\n",
        "  keys = jax.random.split(key1, num_tasks)\n",
        "  (loss, pes_state), meta_grad = vec_short_segment_pes(meta_opt_state[0], keys,\n",
        "                                                       pes_state, data)\n",
        "  meta_losses.append(loss)\n",
        "  if i % 20 == 0:\n",
        "    print(i, onp.mean(meta_losses[-20:]))\n",
        "  meta_opt_state = meta_opt.update(meta_opt_state, meta_grad)"
      ]
    },
    {
      "cell_type": "code",
      "execution_count": null,
      "metadata": {
        "colab": {
          "height": 296
        },
        "id": "noPvV56CjOrd",
        "outputId": "526cd7cf-1962-45b3-dcdb-1d956e9ace64"
      },
      "outputs": [
        {
          "data": {
            "text/plain": [
              "Text(0, 0.5, 'meta-loss')"
            ]
          },
          "execution_count": 36,
          "metadata": {},
          "output_type": "execute_result"
        },
        {
          "data": {
            "image/png": "[encoded data removed]",
            "text/plain": [
              "<Figure size 600x400 with 1 Axes>"
            ]
          },
          "metadata": {},
          "output_type": "display_data"
        }
      ],
      "source": [
        "plt.plot(meta_losses)\n",
        "plt.xlabel(\"meta-iterations\")\n",
        "plt.ylabel(\"meta-loss\")"
      ]
    },
    {
      "cell_type": "markdown",
      "metadata": {
        "id": "-kz0dpBfJi5r"
      },
      "source": [
        "## Exercises\n",
        "For those curious in getting their feet wet, fork this notebook and try to implement any of the following!\n",
        "\n",
        "* Modify the meta-loss to meta-train targeting some validation loss rather than train loss.\n",
        "* Add other features to the learned optimizer such as rolling second moment features (such as adam) or momentums at different timescales.\n",
        "* Make the per parameter MLP a per parameter RNN."
      ]
    },
    {
      "cell_type": "markdown",
      "metadata": {
        "id": "H39tBazN8FP1"
      },
      "source": [
        "## Conclusion and relations to the `learned_optimization` package\n",
        "We hope this notebook gives you an introduction to learned optimizers.\n",
        "This is an incredibly minimal implementation, and as a result suboptimal in a number of ways.\n",
        "The `learned_optimization` library was designed based on the patterns used above, but expanded upon to be more general, more scalable, and more fully featured.\n",
        "\n",
        "The core designs of how to implement these things in jax remain very consistent.\n",
        "We outline a few of the main differences.\n",
        "\n",
        "\n",
        "### PyTree all the things\n",
        "In the above examples, we made use of tuples and lists to store parameters, and opt states. This is simple, but gets unwieldy with more complex structures.\n",
        "With `learned_optimization` every piece of data is stored as some kind of jax pytree -- oftentimes a dataclass registered as a pytree. These pytree require the use of the [pytree library](https://jax.readthedocs.io/en/latest/pytrees.html).\n",
        "\n",
        "### Tasks\n",
        "The task interface is quite similar to what we have shown here. There is one other layer of abstraction in `learned_optimization`, namely `TaskFamily`. In this example, we meta-train on multiple tasks in parallel -- the only difference between these tasks is their random initialization. A `TaskFamily` let's one instead vectorize over other aspects of the problem. Common examples include vectorizing over different kinds of initializations, or different kinds of activation functions.\n",
        "\n",
        "### Optimizers\n",
        "The optimizer interface is also basically the same. The main differences being that the learned optimization optimizers can accept additional arguments such as `num_steps` (target number of steps for learning rate schedules and related), jax.PRNGKey for stochastic optimizers, and loss values.\n",
        "\n",
        "### LearnedOptimizers\n",
        "In this colab, the learned optimizers and optimizers here have different signatures.\n",
        "In `learned_optimization` a LearnedOptimizer contains a function of meta-parameters which itself returns an instance of an Optimizer. For example the update can be called as: `lopt.opt_fn(meta_params).update(opt_state, grads)`.\n",
        "\n",
        "The learned optimizer implemented in this notebook is designed to be simple and easy to follow as opposed to performant / easy to meta-train. `learned_optimization` comes packaged with a number of learned optimizer implementations which will give much better performance.\n",
        "\n",
        "### Meta-training\n",
        "This is the biggest divergence. Meta-training algorithms are implemented as subclasses of `GradientEstimator`. These operate internally like the truncated training in that they store state which is passed from iteration to iteration, but are much more general.\n",
        "They implement 2 functions, one to initialize the state of the inner-problems, and the second to perform updates. This mirrors the 2 functions we needed to write for truncated training.\n",
        "When applying the meta-gradient updates we make use of a `GradientLearner` class which can be either run on a single or multiple machines."
      ]
    }
  ],
  "metadata": {
    "colab": {
      "provenance": []
    },
    "jupytext": {
      "formats": "ipynb,md:myst,py",
      "main_language": "python"
    },
    "kernelspec": {
      "display_name": "Python 3",
      "name": "python3"
    },
    "language_info": {
      "name": "python"
    },
    "accelerator": "GPU",
    "gpuClass": "standard",
    "widgets": {
      "application/vnd.jupyter.widget-state+json": {
        "a4ec832f6f664ce88b8fb0a8ad52daae": {
          "model_module": "@jupyter-widgets/controls",
          "model_name": "HBoxModel",
          "model_module_version": "1.5.0",
          "state": {
            "_dom_classes": [],
            "_model_module": "@jupyter-widgets/controls",
            "_model_module_version": "1.5.0",
            "_model_name": "HBoxModel",
            "_view_count": null,
            "_view_module": "@jupyter-widgets/controls",
            "_view_module_version": "1.5.0",
            "_view_name": "HBoxView",
            "box_style": "",
            "children": [
              "IPY_MODEL_4ebcd95ee97644979a6652bffd8c06c5",
              "IPY_MODEL_084c8ca20f244246b1ecdf69c254af80",
              "IPY_MODEL_ecff3857919f469db76d4bf0e618ef41"
            ],
            "layout": "IPY_MODEL_a9297268c8724bb088f02a5caf3c4c93"
          }
        },
        "4ebcd95ee97644979a6652bffd8c06c5": {
          "model_module": "@jupyter-widgets/controls",
          "model_name": "HTMLModel",
          "model_module_version": "1.5.0",
          "state": {
            "_dom_classes": [],
            "_model_module": "@jupyter-widgets/controls",
            "_model_module_version": "1.5.0",
            "_model_name": "HTMLModel",
            "_view_count": null,
            "_view_module": "@jupyter-widgets/controls",
            "_view_module_version": "1.5.0",
            "_view_name": "HTMLView",
            "description": "",
            "description_tooltip": null,
            "layout": "IPY_MODEL_b9408a14d5c94ede8ffe4ecceaec37b1",
            "placeholder": "​",
            "style": "IPY_MODEL_80ad3043977e4bb685a725c531a61263",
            "value": "Dl Completed...: 100%"
          }
        },
        "084c8ca20f244246b1ecdf69c254af80": {
          "model_module": "@jupyter-widgets/controls",
          "model_name": "FloatProgressModel",
          "model_module_version": "1.5.0",
          "state": {
            "_dom_classes": [],
            "_model_module": "@jupyter-widgets/controls",
            "_model_module_version": "1.5.0",
            "_model_name": "FloatProgressModel",
            "_view_count": null,
            "_view_module": "@jupyter-widgets/controls",
            "_view_module_version": "1.5.0",
            "_view_name": "ProgressView",
            "bar_style": "success",
            "description": "",
            "description_tooltip": null,
            "layout": "IPY_MODEL_5f984edf98974db9b6ab7124097dc0b1",
            "max": 1,
            "min": 0,
            "orientation": "horizontal",
            "style": "IPY_MODEL_ec70e25b1b2c4a728456ba969623e741",
            "value": 1
          }
        },
        "ecff3857919f469db76d4bf0e618ef41": {
          "model_module": "@jupyter-widgets/controls",
          "model_name": "HTMLModel",
          "model_module_version": "1.5.0",
          "state": {
            "_dom_classes": [],
            "_model_module": "@jupyter-widgets/controls",
            "_model_module_version": "1.5.0",
            "_model_name": "HTMLModel",
            "_view_count": null,
            "_view_module": "@jupyter-widgets/controls",
            "_view_module_version": "1.5.0",
            "_view_name": "HTMLView",
            "description": "",
            "description_tooltip": null,
            "layout": "IPY_MODEL_faca4bccf4b54055bae17098c94a5516",
            "placeholder": "​",
            "style": "IPY_MODEL_edea1bd646e94c7baf66799f9c87c1cc",
            "value": " 4/4 [00:02&lt;00:00,  1.97 url/s]"
          }
        },
        "a9297268c8724bb088f02a5caf3c4c93": {
          "model_module": "@jupyter-widgets/base",
          "model_name": "LayoutModel",
          "model_module_version": "1.2.0",
          "state": {
            "_model_module": "@jupyter-widgets/base",
            "_model_module_version": "1.2.0",
            "_model_name": "LayoutModel",
            "_view_count": null,
            "_view_module": "@jupyter-widgets/base",
            "_view_module_version": "1.2.0",
            "_view_name": "LayoutView",
            "align_content": null,
            "align_items": null,
            "align_self": null,
            "border": null,
            "bottom": null,
            "display": null,
            "flex": null,
            "flex_flow": null,
            "grid_area": null,
            "grid_auto_columns": null,
            "grid_auto_flow": null,
            "grid_auto_rows": null,
            "grid_column": null,
            "grid_gap": null,
            "grid_row": null,
            "grid_template_areas": null,
            "grid_template_columns": null,
            "grid_template_rows": null,
            "height": null,
            "justify_content": null,
            "justify_items": null,
            "left": null,
            "margin": null,
            "max_height": null,
            "max_width": null,
            "min_height": null,
            "min_width": null,
            "object_fit": null,
            "object_position": null,
            "order": null,
            "overflow": null,
            "overflow_x": null,
            "overflow_y": null,
            "padding": null,
            "right": null,
            "top": null,
            "visibility": null,
            "width": null
          }
        },
        "b9408a14d5c94ede8ffe4ecceaec37b1": {
          "model_module": "@jupyter-widgets/base",
          "model_name": "LayoutModel",
          "model_module_version": "1.2.0",
          "state": {
            "_model_module": "@jupyter-widgets/base",
            "_model_module_version": "1.2.0",
            "_model_name": "LayoutModel",
            "_view_count": null,
            "_view_module": "@jupyter-widgets/base",
            "_view_module_version": "1.2.0",
            "_view_name": "LayoutView",
            "align_content": null,
            "align_items": null,
            "align_self": null,
            "border": null,
            "bottom": null,
            "display": null,
            "flex": null,
            "flex_flow": null,
            "grid_area": null,
            "grid_auto_columns": null,
            "grid_auto_flow": null,
            "grid_auto_rows": null,
            "grid_column": null,
            "grid_gap": null,
            "grid_row": null,
            "grid_template_areas": null,
            "grid_template_columns": null,
            "grid_template_rows": null,
            "height": null,
            "justify_content": null,
            "justify_items": null,
            "left": null,
            "margin": null,
            "max_height": null,
            "max_width": null,
            "min_height": null,
            "min_width": null,
            "object_fit": null,
            "object_position": null,
            "order": null,
            "overflow": null,
            "overflow_x": null,
            "overflow_y": null,
            "padding": null,
            "right": null,
            "top": null,
            "visibility": null,
            "width": null
          }
        },
        "80ad3043977e4bb685a725c531a61263": {
          "model_module": "@jupyter-widgets/controls",
          "model_name": "DescriptionStyleModel",
          "model_module_version": "1.5.0",
          "state": {
            "_model_module": "@jupyter-widgets/controls",
            "_model_module_version": "1.5.0",
            "_model_name": "DescriptionStyleModel",
            "_view_count": null,
            "_view_module": "@jupyter-widgets/base",
            "_view_module_version": "1.2.0",
            "_view_name": "StyleView",
            "description_width": ""
          }
        },
        "5f984edf98974db9b6ab7124097dc0b1": {
          "model_module": "@jupyter-widgets/base",
          "model_name": "LayoutModel",
          "model_module_version": "1.2.0",
          "state": {
            "_model_module": "@jupyter-widgets/base",
            "_model_module_version": "1.2.0",
            "_model_name": "LayoutModel",
            "_view_count": null,
            "_view_module": "@jupyter-widgets/base",
            "_view_module_version": "1.2.0",
            "_view_name": "LayoutView",
            "align_content": null,
            "align_items": null,
            "align_self": null,
            "border": null,
            "bottom": null,
            "display": null,
            "flex": null,
            "flex_flow": null,
            "grid_area": null,
            "grid_auto_columns": null,
            "grid_auto_flow": null,
            "grid_auto_rows": null,
            "grid_column": null,
            "grid_gap": null,
            "grid_row": null,
            "grid_template_areas": null,
            "grid_template_columns": null,
            "grid_template_rows": null,
            "height": null,
            "justify_content": null,
            "justify_items": null,
            "left": null,
            "margin": null,
            "max_height": null,
            "max_width": null,
            "min_height": null,
            "min_width": null,
            "object_fit": null,
            "object_position": null,
            "order": null,
            "overflow": null,
            "overflow_x": null,
            "overflow_y": null,
            "padding": null,
            "right": null,
            "top": null,
            "visibility": null,
            "width": "20px"
          }
        },
        "ec70e25b1b2c4a728456ba969623e741": {
          "model_module": "@jupyter-widgets/controls",
          "model_name": "ProgressStyleModel",
          "model_module_version": "1.5.0",
          "state": {
            "_model_module": "@jupyter-widgets/controls",
            "_model_module_version": "1.5.0",
            "_model_name": "ProgressStyleModel",
            "_view_count": null,
            "_view_module": "@jupyter-widgets/base",
            "_view_module_version": "1.2.0",
            "_view_name": "StyleView",
            "bar_color": null,
            "description_width": ""
          }
        },
        "faca4bccf4b54055bae17098c94a5516": {
          "model_module": "@jupyter-widgets/base",
          "model_name": "LayoutModel",
          "model_module_version": "1.2.0",
          "state": {
            "_model_module": "@jupyter-widgets/base",
            "_model_module_version": "1.2.0",
            "_model_name": "LayoutModel",
            "_view_count": null,
            "_view_module": "@jupyter-widgets/base",
            "_view_module_version": "1.2.0",
            "_view_name": "LayoutView",
            "align_content": null,
            "align_items": null,
            "align_self": null,
            "border": null,
            "bottom": null,
            "display": null,
            "flex": null,
            "flex_flow": null,
            "grid_area": null,
            "grid_auto_columns": null,
            "grid_auto_flow": null,
            "grid_auto_rows": null,
            "grid_column": null,
            "grid_gap": null,
            "grid_row": null,
            "grid_template_areas": null,
            "grid_template_columns": null,
            "grid_template_rows": null,
            "height": null,
            "justify_content": null,
            "justify_items": null,
            "left": null,
            "margin": null,
            "max_height": null,
            "max_width": null,
            "min_height": null,
            "min_width": null,
            "object_fit": null,
            "object_position": null,
            "order": null,
            "overflow": null,
            "overflow_x": null,
            "overflow_y": null,
            "padding": null,
            "right": null,
            "top": null,
            "visibility": null,
            "width": null
          }
        },
        "edea1bd646e94c7baf66799f9c87c1cc": {
          "model_module": "@jupyter-widgets/controls",
          "model_name": "DescriptionStyleModel",
          "model_module_version": "1.5.0",
          "state": {
            "_model_module": "@jupyter-widgets/controls",
            "_model_module_version": "1.5.0",
            "_model_name": "DescriptionStyleModel",
            "_view_count": null,
            "_view_module": "@jupyter-widgets/base",
            "_view_module_version": "1.2.0",
            "_view_name": "StyleView",
            "description_width": ""
          }
        },
        "31f8246fd3ce4d439412c9ac6caa9c4d": {
          "model_module": "@jupyter-widgets/controls",
          "model_name": "HBoxModel",
          "model_module_version": "1.5.0",
          "state": {
            "_dom_classes": [],
            "_model_module": "@jupyter-widgets/controls",
            "_model_module_version": "1.5.0",
            "_model_name": "HBoxModel",
            "_view_count": null,
            "_view_module": "@jupyter-widgets/controls",
            "_view_module_version": "1.5.0",
            "_view_name": "HBoxView",
            "box_style": "",
            "children": [
              "IPY_MODEL_27d394a1c4424d5e9ef8447927659a82",
              "IPY_MODEL_4ad5be100e3d4bb191d1484394c1d537",
              "IPY_MODEL_786288805e8743b1ace4b30a0fb585e1"
            ],
            "layout": "IPY_MODEL_e72818959dea468eae88d4134ab22603"
          }
        },
        "27d394a1c4424d5e9ef8447927659a82": {
          "model_module": "@jupyter-widgets/controls",
          "model_name": "HTMLModel",
          "model_module_version": "1.5.0",
          "state": {
            "_dom_classes": [],
            "_model_module": "@jupyter-widgets/controls",
            "_model_module_version": "1.5.0",
            "_model_name": "HTMLModel",
            "_view_count": null,
            "_view_module": "@jupyter-widgets/controls",
            "_view_module_version": "1.5.0",
            "_view_name": "HTMLView",
            "description": "",
            "description_tooltip": null,
            "layout": "IPY_MODEL_3944ee92fd304d52a1164292717437b0",
            "placeholder": "​",
            "style": "IPY_MODEL_207d56b350a7473fb9f1ed4693d2ea87",
            "value": "Dl Size...: 100%"
          }
        },
        "4ad5be100e3d4bb191d1484394c1d537": {
          "model_module": "@jupyter-widgets/controls",
          "model_name": "FloatProgressModel",
          "model_module_version": "1.5.0",
          "state": {
            "_dom_classes": [],
            "_model_module": "@jupyter-widgets/controls",
            "_model_module_version": "1.5.0",
            "_model_name": "FloatProgressModel",
            "_view_count": null,
            "_view_module": "@jupyter-widgets/controls",
            "_view_module_version": "1.5.0",
            "_view_name": "ProgressView",
            "bar_style": "success",
            "description": "",
            "description_tooltip": null,
            "layout": "IPY_MODEL_1eecbb29f2f14a7fb50b44cf4d41c9a3",
            "max": 1,
            "min": 0,
            "orientation": "horizontal",
            "style": "IPY_MODEL_ffce80b2612e46d191fb3541b4f935cf",
            "value": 1
          }
        },
        "786288805e8743b1ace4b30a0fb585e1": {
          "model_module": "@jupyter-widgets/controls",
          "model_name": "HTMLModel",
          "model_module_version": "1.5.0",
          "state": {
            "_dom_classes": [],
            "_model_module": "@jupyter-widgets/controls",
            "_model_module_version": "1.5.0",
            "_model_name": "HTMLModel",
            "_view_count": null,
            "_view_module": "@jupyter-widgets/controls",
            "_view_module_version": "1.5.0",
            "_view_name": "HTMLView",
            "description": "",
            "description_tooltip": null,
            "layout": "IPY_MODEL_c2196529fc91475d8b6ba7447a7ea0e1",
            "placeholder": "​",
            "style": "IPY_MODEL_ff06ad138f7b4ce88538f4fbdc2edd39",
            "value": " 29/29 [00:02&lt;00:00, 25.01 MiB/s]"
          }
        },
        "e72818959dea468eae88d4134ab22603": {
          "model_module": "@jupyter-widgets/base",
          "model_name": "LayoutModel",
          "model_module_version": "1.2.0",
          "state": {
            "_model_module": "@jupyter-widgets/base",
            "_model_module_version": "1.2.0",
            "_model_name": "LayoutModel",
            "_view_count": null,
            "_view_module": "@jupyter-widgets/base",
            "_view_module_version": "1.2.0",
            "_view_name": "LayoutView",
            "align_content": null,
            "align_items": null,
            "align_self": null,
            "border": null,
            "bottom": null,
            "display": null,
            "flex": null,
            "flex_flow": null,
            "grid_area": null,
            "grid_auto_columns": null,
            "grid_auto_flow": null,
            "grid_auto_rows": null,
            "grid_column": null,
            "grid_gap": null,
            "grid_row": null,
            "grid_template_areas": null,
            "grid_template_columns": null,
            "grid_template_rows": null,
            "height": null,
            "justify_content": null,
            "justify_items": null,
            "left": null,
            "margin": null,
            "max_height": null,
            "max_width": null,
            "min_height": null,
            "min_width": null,
            "object_fit": null,
            "object_position": null,
            "order": null,
            "overflow": null,
            "overflow_x": null,
            "overflow_y": null,
            "padding": null,
            "right": null,
            "top": null,
            "visibility": null,
            "width": null
          }
        },
        "3944ee92fd304d52a1164292717437b0": {
          "model_module": "@jupyter-widgets/base",
          "model_name": "LayoutModel",
          "model_module_version": "1.2.0",
          "state": {
            "_model_module": "@jupyter-widgets/base",
            "_model_module_version": "1.2.0",
            "_model_name": "LayoutModel",
            "_view_count": null,
            "_view_module": "@jupyter-widgets/base",
            "_view_module_version": "1.2.0",
            "_view_name": "LayoutView",
            "align_content": null,
            "align_items": null,
            "align_self": null,
            "border": null,
            "bottom": null,
            "display": null,
            "flex": null,
            "flex_flow": null,
            "grid_area": null,
            "grid_auto_columns": null,
            "grid_auto_flow": null,
            "grid_auto_rows": null,
            "grid_column": null,
            "grid_gap": null,
            "grid_row": null,
            "grid_template_areas": null,
            "grid_template_columns": null,
            "grid_template_rows": null,
            "height": null,
            "justify_content": null,
            "justify_items": null,
            "left": null,
            "margin": null,
            "max_height": null,
            "max_width": null,
            "min_height": null,
            "min_width": null,
            "object_fit": null,
            "object_position": null,
            "order": null,
            "overflow": null,
            "overflow_x": null,
            "overflow_y": null,
            "padding": null,
            "right": null,
            "top": null,
            "visibility": null,
            "width": null
          }
        },
        "207d56b350a7473fb9f1ed4693d2ea87": {
          "model_module": "@jupyter-widgets/controls",
          "model_name": "DescriptionStyleModel",
          "model_module_version": "1.5.0",
          "state": {
            "_model_module": "@jupyter-widgets/controls",
            "_model_module_version": "1.5.0",
            "_model_name": "DescriptionStyleModel",
            "_view_count": null,
            "_view_module": "@jupyter-widgets/base",
            "_view_module_version": "1.2.0",
            "_view_name": "StyleView",
            "description_width": ""
          }
        },
        "1eecbb29f2f14a7fb50b44cf4d41c9a3": {
          "model_module": "@jupyter-widgets/base",
          "model_name": "LayoutModel",
          "model_module_version": "1.2.0",
          "state": {
            "_model_module": "@jupyter-widgets/base",
            "_model_module_version": "1.2.0",
            "_model_name": "LayoutModel",
            "_view_count": null,
            "_view_module": "@jupyter-widgets/base",
            "_view_module_version": "1.2.0",
            "_view_name": "LayoutView",
            "align_content": null,
            "align_items": null,
            "align_self": null,
            "border": null,
            "bottom": null,
            "display": null,
            "flex": null,
            "flex_flow": null,
            "grid_area": null,
            "grid_auto_columns": null,
            "grid_auto_flow": null,
            "grid_auto_rows": null,
            "grid_column": null,
            "grid_gap": null,
            "grid_row": null,
            "grid_template_areas": null,
            "grid_template_columns": null,
            "grid_template_rows": null,
            "height": null,
            "justify_content": null,
            "justify_items": null,
            "left": null,
            "margin": null,
            "max_height": null,
            "max_width": null,
            "min_height": null,
            "min_width": null,
            "object_fit": null,
            "object_position": null,
            "order": null,
            "overflow": null,
            "overflow_x": null,
            "overflow_y": null,
            "padding": null,
            "right": null,
            "top": null,
            "visibility": null,
            "width": "20px"
          }
        },
        "ffce80b2612e46d191fb3541b4f935cf": {
          "model_module": "@jupyter-widgets/controls",
          "model_name": "ProgressStyleModel",
          "model_module_version": "1.5.0",
          "state": {
            "_model_module": "@jupyter-widgets/controls",
            "_model_module_version": "1.5.0",
            "_model_name": "ProgressStyleModel",
            "_view_count": null,
            "_view_module": "@jupyter-widgets/base",
            "_view_module_version": "1.2.0",
            "_view_name": "StyleView",
            "bar_color": null,
            "description_width": ""
          }
        },
        "c2196529fc91475d8b6ba7447a7ea0e1": {
          "model_module": "@jupyter-widgets/base",
          "model_name": "LayoutModel",
          "model_module_version": "1.2.0",
          "state": {
            "_model_module": "@jupyter-widgets/base",
            "_model_module_version": "1.2.0",
            "_model_name": "LayoutModel",
            "_view_count": null,
            "_view_module": "@jupyter-widgets/base",
            "_view_module_version": "1.2.0",
            "_view_name": "LayoutView",
            "align_content": null,
            "align_items": null,
            "align_self": null,
            "border": null,
            "bottom": null,
            "display": null,
            "flex": null,
            "flex_flow": null,
            "grid_area": null,
            "grid_auto_columns": null,
            "grid_auto_flow": null,
            "grid_auto_rows": null,
            "grid_column": null,
            "grid_gap": null,
            "grid_row": null,
            "grid_template_areas": null,
            "grid_template_columns": null,
            "grid_template_rows": null,
            "height": null,
            "justify_content": null,
            "justify_items": null,
            "left": null,
            "margin": null,
            "max_height": null,
            "max_width": null,
            "min_height": null,
            "min_width": null,
            "object_fit": null,
            "object_position": null,
            "order": null,
            "overflow": null,
            "overflow_x": null,
            "overflow_y": null,
            "padding": null,
            "right": null,
            "top": null,
            "visibility": null,
            "width": null
          }
        },
        "ff06ad138f7b4ce88538f4fbdc2edd39": {
          "model_module": "@jupyter-widgets/controls",
          "model_name": "DescriptionStyleModel",
          "model_module_version": "1.5.0",
          "state": {
            "_model_module": "@jupyter-widgets/controls",
            "_model_module_version": "1.5.0",
            "_model_name": "DescriptionStyleModel",
            "_view_count": null,
            "_view_module": "@jupyter-widgets/base",
            "_view_module_version": "1.2.0",
            "_view_name": "StyleView",
            "description_width": ""
          }
        },
        "5ff40c27a76c48a7a782220a4317ff66": {
          "model_module": "@jupyter-widgets/controls",
          "model_name": "HBoxModel",
          "model_module_version": "1.5.0",
          "state": {
            "_dom_classes": [],
            "_model_module": "@jupyter-widgets/controls",
            "_model_module_version": "1.5.0",
            "_model_name": "HBoxModel",
            "_view_count": null,
            "_view_module": "@jupyter-widgets/controls",
            "_view_module_version": "1.5.0",
            "_view_name": "HBoxView",
            "box_style": "",
            "children": [
              "IPY_MODEL_5737aa21a7244328b83fa75dbed0f115",
              "IPY_MODEL_2b3bff4027fa436c83805dc848a882c3",
              "IPY_MODEL_db3333e376a74d83bb3a611d68efe23d"
            ],
            "layout": "IPY_MODEL_8abc7f6a5e4e471b8545315dea9772b7"
          }
        },
        "5737aa21a7244328b83fa75dbed0f115": {
          "model_module": "@jupyter-widgets/controls",
          "model_name": "HTMLModel",
          "model_module_version": "1.5.0",
          "state": {
            "_dom_classes": [],
            "_model_module": "@jupyter-widgets/controls",
            "_model_module_version": "1.5.0",
            "_model_name": "HTMLModel",
            "_view_count": null,
            "_view_module": "@jupyter-widgets/controls",
            "_view_module_version": "1.5.0",
            "_view_name": "HTMLView",
            "description": "",
            "description_tooltip": null,
            "layout": "IPY_MODEL_5ffb0570092c45c4829714408ddf3c33",
            "placeholder": "​",
            "style": "IPY_MODEL_99aaf27238794faa8de92f8cb2f56d27",
            "value": "Extraction completed...: 100%"
          }
        },
        "2b3bff4027fa436c83805dc848a882c3": {
          "model_module": "@jupyter-widgets/controls",
          "model_name": "FloatProgressModel",
          "model_module_version": "1.5.0",
          "state": {
            "_dom_classes": [],
            "_model_module": "@jupyter-widgets/controls",
            "_model_module_version": "1.5.0",
            "_model_name": "FloatProgressModel",
            "_view_count": null,
            "_view_module": "@jupyter-widgets/controls",
            "_view_module_version": "1.5.0",
            "_view_name": "ProgressView",
            "bar_style": "success",
            "description": "",
            "description_tooltip": null,
            "layout": "IPY_MODEL_3a908f32b3064526a4546df41d464cb1",
            "max": 1,
            "min": 0,
            "orientation": "horizontal",
            "style": "IPY_MODEL_5b776586cc2a46b2829c511c22d8c4d1",
            "value": 1
          }
        },
        "db3333e376a74d83bb3a611d68efe23d": {
          "model_module": "@jupyter-widgets/controls",
          "model_name": "HTMLModel",
          "model_module_version": "1.5.0",
          "state": {
            "_dom_classes": [],
            "_model_module": "@jupyter-widgets/controls",
            "_model_module_version": "1.5.0",
            "_model_name": "HTMLModel",
            "_view_count": null,
            "_view_module": "@jupyter-widgets/controls",
            "_view_module_version": "1.5.0",
            "_view_name": "HTMLView",
            "description": "",
            "description_tooltip": null,
            "layout": "IPY_MODEL_2408faeccc374dc0acfadcbccc5c5929",
            "placeholder": "​",
            "style": "IPY_MODEL_77d208d4e23047a5a2bf719ff51886fc",
            "value": " 4/4 [00:02&lt;00:00,  1.22 file/s]"
          }
        },
        "8abc7f6a5e4e471b8545315dea9772b7": {
          "model_module": "@jupyter-widgets/base",
          "model_name": "LayoutModel",
          "model_module_version": "1.2.0",
          "state": {
            "_model_module": "@jupyter-widgets/base",
            "_model_module_version": "1.2.0",
            "_model_name": "LayoutModel",
            "_view_count": null,
            "_view_module": "@jupyter-widgets/base",
            "_view_module_version": "1.2.0",
            "_view_name": "LayoutView",
            "align_content": null,
            "align_items": null,
            "align_self": null,
            "border": null,
            "bottom": null,
            "display": null,
            "flex": null,
            "flex_flow": null,
            "grid_area": null,
            "grid_auto_columns": null,
            "grid_auto_flow": null,
            "grid_auto_rows": null,
            "grid_column": null,
            "grid_gap": null,
            "grid_row": null,
            "grid_template_areas": null,
            "grid_template_columns": null,
            "grid_template_rows": null,
            "height": null,
            "justify_content": null,
            "justify_items": null,
            "left": null,
            "margin": null,
            "max_height": null,
            "max_width": null,
            "min_height": null,
            "min_width": null,
            "object_fit": null,
            "object_position": null,
            "order": null,
            "overflow": null,
            "overflow_x": null,
            "overflow_y": null,
            "padding": null,
            "right": null,
            "top": null,
            "visibility": null,
            "width": null
          }
        },
        "5ffb0570092c45c4829714408ddf3c33": {
          "model_module": "@jupyter-widgets/base",
          "model_name": "LayoutModel",
          "model_module_version": "1.2.0",
          "state": {
            "_model_module": "@jupyter-widgets/base",
            "_model_module_version": "1.2.0",
            "_model_name": "LayoutModel",
            "_view_count": null,
            "_view_module": "@jupyter-widgets/base",
            "_view_module_version": "1.2.0",
            "_view_name": "LayoutView",
            "align_content": null,
            "align_items": null,
            "align_self": null,
            "border": null,
            "bottom": null,
            "display": null,
            "flex": null,
            "flex_flow": null,
            "grid_area": null,
            "grid_auto_columns": null,
            "grid_auto_flow": null,
            "grid_auto_rows": null,
            "grid_column": null,
            "grid_gap": null,
            "grid_row": null,
            "grid_template_areas": null,
            "grid_template_columns": null,
            "grid_template_rows": null,
            "height": null,
            "justify_content": null,
            "justify_items": null,
            "left": null,
            "margin": null,
            "max_height": null,
            "max_width": null,
            "min_height": null,
            "min_width": null,
            "object_fit": null,
            "object_position": null,
            "order": null,
            "overflow": null,
            "overflow_x": null,
            "overflow_y": null,
            "padding": null,
            "right": null,
            "top": null,
            "visibility": null,
            "width": null
          }
        },
        "99aaf27238794faa8de92f8cb2f56d27": {
          "model_module": "@jupyter-widgets/controls",
          "model_name": "DescriptionStyleModel",
          "model_module_version": "1.5.0",
          "state": {
            "_model_module": "@jupyter-widgets/controls",
            "_model_module_version": "1.5.0",
            "_model_name": "DescriptionStyleModel",
            "_view_count": null,
            "_view_module": "@jupyter-widgets/base",
            "_view_module_version": "1.2.0",
            "_view_name": "StyleView",
            "description_width": ""
          }
        },
        "3a908f32b3064526a4546df41d464cb1": {
          "model_module": "@jupyter-widgets/base",
          "model_name": "LayoutModel",
          "model_module_version": "1.2.0",
          "state": {
            "_model_module": "@jupyter-widgets/base",
            "_model_module_version": "1.2.0",
            "_model_name": "LayoutModel",
            "_view_count": null,
            "_view_module": "@jupyter-widgets/base",
            "_view_module_version": "1.2.0",
            "_view_name": "LayoutView",
            "align_content": null,
            "align_items": null,
            "align_self": null,
            "border": null,
            "bottom": null,
            "display": null,
            "flex": null,
            "flex_flow": null,
            "grid_area": null,
            "grid_auto_columns": null,
            "grid_auto_flow": null,
            "grid_auto_rows": null,
            "grid_column": null,
            "grid_gap": null,
            "grid_row": null,
            "grid_template_areas": null,
            "grid_template_columns": null,
            "grid_template_rows": null,
            "height": null,
            "justify_content": null,
            "justify_items": null,
            "left": null,
            "margin": null,
            "max_height": null,
            "max_width": null,
            "min_height": null,
            "min_width": null,
            "object_fit": null,
            "object_position": null,
            "order": null,
            "overflow": null,
            "overflow_x": null,
            "overflow_y": null,
            "padding": null,
            "right": null,
            "top": null,
            "visibility": null,
            "width": "20px"
          }
        },
        "5b776586cc2a46b2829c511c22d8c4d1": {
          "model_module": "@jupyter-widgets/controls",
          "model_name": "ProgressStyleModel",
          "model_module_version": "1.5.0",
          "state": {
            "_model_module": "@jupyter-widgets/controls",
            "_model_module_version": "1.5.0",
            "_model_name": "ProgressStyleModel",
            "_view_count": null,
            "_view_module": "@jupyter-widgets/base",
            "_view_module_version": "1.2.0",
            "_view_name": "StyleView",
            "bar_color": null,
            "description_width": ""
          }
        },
        "2408faeccc374dc0acfadcbccc5c5929": {
          "model_module": "@jupyter-widgets/base",
          "model_name": "LayoutModel",
          "model_module_version": "1.2.0",
          "state": {
            "_model_module": "@jupyter-widgets/base",
            "_model_module_version": "1.2.0",
            "_model_name": "LayoutModel",
            "_view_count": null,
            "_view_module": "@jupyter-widgets/base",
            "_view_module_version": "1.2.0",
            "_view_name": "LayoutView",
            "align_content": null,
            "align_items": null,
            "align_self": null,
            "border": null,
            "bottom": null,
            "display": null,
            "flex": null,
            "flex_flow": null,
            "grid_area": null,
            "grid_auto_columns": null,
            "grid_auto_flow": null,
            "grid_auto_rows": null,
            "grid_column": null,
            "grid_gap": null,
            "grid_row": null,
            "grid_template_areas": null,
            "grid_template_columns": null,
            "grid_template_rows": null,
            "height": null,
            "justify_content": null,
            "justify_items": null,
            "left": null,
            "margin": null,
            "max_height": null,
            "max_width": null,
            "min_height": null,
            "min_width": null,
            "object_fit": null,
            "object_position": null,
            "order": null,
            "overflow": null,
            "overflow_x": null,
            "overflow_y": null,
            "padding": null,
            "right": null,
            "top": null,
            "visibility": null,
            "width": null
          }
        },
        "77d208d4e23047a5a2bf719ff51886fc": {
          "model_module": "@jupyter-widgets/controls",
          "model_name": "DescriptionStyleModel",
          "model_module_version": "1.5.0",
          "state": {
            "_model_module": "@jupyter-widgets/controls",
            "_model_module_version": "1.5.0",
            "_model_name": "DescriptionStyleModel",
            "_view_count": null,
            "_view_module": "@jupyter-widgets/base",
            "_view_module_version": "1.2.0",
            "_view_name": "StyleView",
            "description_width": ""
          }
        },
        "1775ab81265d426c869d23870031ef50": {
          "model_module": "@jupyter-widgets/controls",
          "model_name": "HBoxModel",
          "model_module_version": "1.5.0",
          "state": {
            "_dom_classes": [],
            "_model_module": "@jupyter-widgets/controls",
            "_model_module_version": "1.5.0",
            "_model_name": "HBoxModel",
            "_view_count": null,
            "_view_module": "@jupyter-widgets/controls",
            "_view_module_version": "1.5.0",
            "_view_name": "HBoxView",
            "box_style": "",
            "children": [
              "IPY_MODEL_4ac6d6023afb4109887fff15297f987b",
              "IPY_MODEL_50891dd2d3d6460eb6eac8eb52c7962d",
              "IPY_MODEL_ba9b17af63b24c10a6cec1622d28684a"
            ],
            "layout": "IPY_MODEL_49b07a422d0643eba02f36c78cf0cc5b"
          }
        },
        "4ac6d6023afb4109887fff15297f987b": {
          "model_module": "@jupyter-widgets/controls",
          "model_name": "HTMLModel",
          "model_module_version": "1.5.0",
          "state": {
            "_dom_classes": [],
            "_model_module": "@jupyter-widgets/controls",
            "_model_module_version": "1.5.0",
            "_model_name": "HTMLModel",
            "_view_count": null,
            "_view_module": "@jupyter-widgets/controls",
            "_view_module_version": "1.5.0",
            "_view_name": "HTMLView",
            "description": "",
            "description_tooltip": null,
            "layout": "IPY_MODEL_e58da15805fe40afba57b09abcc14f0a",
            "placeholder": "​",
            "style": "IPY_MODEL_0d7943cfd3124a6ba548fcb56cb9612a",
            "value": "Generating splits...: 100%"
          }
        },
        "50891dd2d3d6460eb6eac8eb52c7962d": {
          "model_module": "@jupyter-widgets/controls",
          "model_name": "FloatProgressModel",
          "model_module_version": "1.5.0",
          "state": {
            "_dom_classes": [],
            "_model_module": "@jupyter-widgets/controls",
            "_model_module_version": "1.5.0",
            "_model_name": "FloatProgressModel",
            "_view_count": null,
            "_view_module": "@jupyter-widgets/controls",
            "_view_module_version": "1.5.0",
            "_view_name": "ProgressView",
            "bar_style": "",
            "description": "",
            "description_tooltip": null,
            "layout": "IPY_MODEL_fac26b6d424c44fb8bf1c71a03c55458",
            "max": 2,
            "min": 0,
            "orientation": "horizontal",
            "style": "IPY_MODEL_8f7eb27d57ff4ddcbc3d506cfd4049a9",
            "value": 2
          }
        },
        "ba9b17af63b24c10a6cec1622d28684a": {
          "model_module": "@jupyter-widgets/controls",
          "model_name": "HTMLModel",
          "model_module_version": "1.5.0",
          "state": {
            "_dom_classes": [],
            "_model_module": "@jupyter-widgets/controls",
            "_model_module_version": "1.5.0",
            "_model_name": "HTMLModel",
            "_view_count": null,
            "_view_module": "@jupyter-widgets/controls",
            "_view_module_version": "1.5.0",
            "_view_name": "HTMLView",
            "description": "",
            "description_tooltip": null,
            "layout": "IPY_MODEL_e91772943781494b8158d3cbe1f87585",
            "placeholder": "​",
            "style": "IPY_MODEL_ab75cfe3535941f49c75b01c02087003",
            "value": " 2/2 [01:03&lt;00:00, 27.52s/ splits]"
          }
        },
        "49b07a422d0643eba02f36c78cf0cc5b": {
          "model_module": "@jupyter-widgets/base",
          "model_name": "LayoutModel",
          "model_module_version": "1.2.0",
          "state": {
            "_model_module": "@jupyter-widgets/base",
            "_model_module_version": "1.2.0",
            "_model_name": "LayoutModel",
            "_view_count": null,
            "_view_module": "@jupyter-widgets/base",
            "_view_module_version": "1.2.0",
            "_view_name": "LayoutView",
            "align_content": null,
            "align_items": null,
            "align_self": null,
            "border": null,
            "bottom": null,
            "display": null,
            "flex": null,
            "flex_flow": null,
            "grid_area": null,
            "grid_auto_columns": null,
            "grid_auto_flow": null,
            "grid_auto_rows": null,
            "grid_column": null,
            "grid_gap": null,
            "grid_row": null,
            "grid_template_areas": null,
            "grid_template_columns": null,
            "grid_template_rows": null,
            "height": null,
            "justify_content": null,
            "justify_items": null,
            "left": null,
            "margin": null,
            "max_height": null,
            "max_width": null,
            "min_height": null,
            "min_width": null,
            "object_fit": null,
            "object_position": null,
            "order": null,
            "overflow": null,
            "overflow_x": null,
            "overflow_y": null,
            "padding": null,
            "right": null,
            "top": null,
            "visibility": "hidden",
            "width": null
          }
        },
        "e58da15805fe40afba57b09abcc14f0a": {
          "model_module": "@jupyter-widgets/base",
          "model_name": "LayoutModel",
          "model_module_version": "1.2.0",
          "state": {
            "_model_module": "@jupyter-widgets/base",
            "_model_module_version": "1.2.0",
            "_model_name": "LayoutModel",
            "_view_count": null,
            "_view_module": "@jupyter-widgets/base",
            "_view_module_version": "1.2.0",
            "_view_name": "LayoutView",
            "align_content": null,
            "align_items": null,
            "align_self": null,
            "border": null,
            "bottom": null,
            "display": null,
            "flex": null,
            "flex_flow": null,
            "grid_area": null,
            "grid_auto_columns": null,
            "grid_auto_flow": null,
            "grid_auto_rows": null,
            "grid_column": null,
            "grid_gap": null,
            "grid_row": null,
            "grid_template_areas": null,
            "grid_template_columns": null,
            "grid_template_rows": null,
            "height": null,
            "justify_content": null,
            "justify_items": null,
            "left": null,
            "margin": null,
            "max_height": null,
            "max_width": null,
            "min_height": null,
            "min_width": null,
            "object_fit": null,
            "object_position": null,
            "order": null,
            "overflow": null,
            "overflow_x": null,
            "overflow_y": null,
            "padding": null,
            "right": null,
            "top": null,
            "visibility": null,
            "width": null
          }
        },
        "0d7943cfd3124a6ba548fcb56cb9612a": {
          "model_module": "@jupyter-widgets/controls",
          "model_name": "DescriptionStyleModel",
          "model_module_version": "1.5.0",
          "state": {
            "_model_module": "@jupyter-widgets/controls",
            "_model_module_version": "1.5.0",
            "_model_name": "DescriptionStyleModel",
            "_view_count": null,
            "_view_module": "@jupyter-widgets/base",
            "_view_module_version": "1.2.0",
            "_view_name": "StyleView",
            "description_width": ""
          }
        },
        "fac26b6d424c44fb8bf1c71a03c55458": {
          "model_module": "@jupyter-widgets/base",
          "model_name": "LayoutModel",
          "model_module_version": "1.2.0",
          "state": {
            "_model_module": "@jupyter-widgets/base",
            "_model_module_version": "1.2.0",
            "_model_name": "LayoutModel",
            "_view_count": null,
            "_view_module": "@jupyter-widgets/base",
            "_view_module_version": "1.2.0",
            "_view_name": "LayoutView",
            "align_content": null,
            "align_items": null,
            "align_self": null,
            "border": null,
            "bottom": null,
            "display": null,
            "flex": null,
            "flex_flow": null,
            "grid_area": null,
            "grid_auto_columns": null,
            "grid_auto_flow": null,
            "grid_auto_rows": null,
            "grid_column": null,
            "grid_gap": null,
            "grid_row": null,
            "grid_template_areas": null,
            "grid_template_columns": null,
            "grid_template_rows": null,
            "height": null,
            "justify_content": null,
            "justify_items": null,
            "left": null,
            "margin": null,
            "max_height": null,
            "max_width": null,
            "min_height": null,
            "min_width": null,
            "object_fit": null,
            "object_position": null,
            "order": null,
            "overflow": null,
            "overflow_x": null,
            "overflow_y": null,
            "padding": null,
            "right": null,
            "top": null,
            "visibility": null,
            "width": null
          }
        },
        "8f7eb27d57ff4ddcbc3d506cfd4049a9": {
          "model_module": "@jupyter-widgets/controls",
          "model_name": "ProgressStyleModel",
          "model_module_version": "1.5.0",
          "state": {
            "_model_module": "@jupyter-widgets/controls",
            "_model_module_version": "1.5.0",
            "_model_name": "ProgressStyleModel",
            "_view_count": null,
            "_view_module": "@jupyter-widgets/base",
            "_view_module_version": "1.2.0",
            "_view_name": "StyleView",
            "bar_color": null,
            "description_width": ""
          }
        },
        "e91772943781494b8158d3cbe1f87585": {
          "model_module": "@jupyter-widgets/base",
          "model_name": "LayoutModel",
          "model_module_version": "1.2.0",
          "state": {
            "_model_module": "@jupyter-widgets/base",
            "_model_module_version": "1.2.0",
            "_model_name": "LayoutModel",
            "_view_count": null,
            "_view_module": "@jupyter-widgets/base",
            "_view_module_version": "1.2.0",
            "_view_name": "LayoutView",
            "align_content": null,
            "align_items": null,
            "align_self": null,
            "border": null,
            "bottom": null,
            "display": null,
            "flex": null,
            "flex_flow": null,
            "grid_area": null,
            "grid_auto_columns": null,
            "grid_auto_flow": null,
            "grid_auto_rows": null,
            "grid_column": null,
            "grid_gap": null,
            "grid_row": null,
            "grid_template_areas": null,
            "grid_template_columns": null,
            "grid_template_rows": null,
            "height": null,
            "justify_content": null,
            "justify_items": null,
            "left": null,
            "margin": null,
            "max_height": null,
            "max_width": null,
            "min_height": null,
            "min_width": null,
            "object_fit": null,
            "object_position": null,
            "order": null,
            "overflow": null,
            "overflow_x": null,
            "overflow_y": null,
            "padding": null,
            "right": null,
            "top": null,
            "visibility": null,
            "width": null
          }
        },
        "ab75cfe3535941f49c75b01c02087003": {
          "model_module": "@jupyter-widgets/controls",
          "model_name": "DescriptionStyleModel",
          "model_module_version": "1.5.0",
          "state": {
            "_model_module": "@jupyter-widgets/controls",
            "_model_module_version": "1.5.0",
            "_model_name": "DescriptionStyleModel",
            "_view_count": null,
            "_view_module": "@jupyter-widgets/base",
            "_view_module_version": "1.2.0",
            "_view_name": "StyleView",
            "description_width": ""
          }
        },
        "477ad16b51e44e619ee15df315180989": {
          "model_module": "@jupyter-widgets/controls",
          "model_name": "HBoxModel",
          "model_module_version": "1.5.0",
          "state": {
            "_dom_classes": [],
            "_model_module": "@jupyter-widgets/controls",
            "_model_module_version": "1.5.0",
            "_model_name": "HBoxModel",
            "_view_count": null,
            "_view_module": "@jupyter-widgets/controls",
            "_view_module_version": "1.5.0",
            "_view_name": "HBoxView",
            "box_style": "",
            "children": [
              "IPY_MODEL_4299fba6356545869160234039509633",
              "IPY_MODEL_a392c025a68a4a21ae79ae5f597d6a99",
              "IPY_MODEL_e444f9bfee3a458e81c054fea51322f8"
            ],
            "layout": "IPY_MODEL_e5929f31baf747dba95a8b59f44bd7e4"
          }
        },
        "4299fba6356545869160234039509633": {
          "model_module": "@jupyter-widgets/controls",
          "model_name": "HTMLModel",
          "model_module_version": "1.5.0",
          "state": {
            "_dom_classes": [],
            "_model_module": "@jupyter-widgets/controls",
            "_model_module_version": "1.5.0",
            "_model_name": "HTMLModel",
            "_view_count": null,
            "_view_module": "@jupyter-widgets/controls",
            "_view_module_version": "1.5.0",
            "_view_name": "HTMLView",
            "description": "",
            "description_tooltip": null,
            "layout": "IPY_MODEL_2a3ca322f9624c269c2c8b6b9ab9c3cb",
            "placeholder": "​",
            "style": "IPY_MODEL_5b71fd6321784fd4a7fad41c844d42d6",
            "value": "Generating train examples...: 100%"
          }
        },
        "a392c025a68a4a21ae79ae5f597d6a99": {
          "model_module": "@jupyter-widgets/controls",
          "model_name": "FloatProgressModel",
          "model_module_version": "1.5.0",
          "state": {
            "_dom_classes": [],
            "_model_module": "@jupyter-widgets/controls",
            "_model_module_version": "1.5.0",
            "_model_name": "FloatProgressModel",
            "_view_count": null,
            "_view_module": "@jupyter-widgets/controls",
            "_view_module_version": "1.5.0",
            "_view_name": "ProgressView",
            "bar_style": "",
            "description": "",
            "description_tooltip": null,
            "layout": "IPY_MODEL_f0697526ed6d4693b0f39fa368296855",
            "max": 60000,
            "min": 0,
            "orientation": "horizontal",
            "style": "IPY_MODEL_06598bf5461845c0980b1a7b307917ce",
            "value": 60000
          }
        },
        "e444f9bfee3a458e81c054fea51322f8": {
          "model_module": "@jupyter-widgets/controls",
          "model_name": "HTMLModel",
          "model_module_version": "1.5.0",
          "state": {
            "_dom_classes": [],
            "_model_module": "@jupyter-widgets/controls",
            "_model_module_version": "1.5.0",
            "_model_name": "HTMLModel",
            "_view_count": null,
            "_view_module": "@jupyter-widgets/controls",
            "_view_module_version": "1.5.0",
            "_view_name": "HTMLView",
            "description": "",
            "description_tooltip": null,
            "layout": "IPY_MODEL_0ea411648e374cfcaa87d142f193809d",
            "placeholder": "​",
            "style": "IPY_MODEL_5b444e8332784ad8a6547c25c652fba5",
            "value": " 59862/60000 [00:55&lt;00:00, 1441.65 examples/s]"
          }
        },
        "e5929f31baf747dba95a8b59f44bd7e4": {
          "model_module": "@jupyter-widgets/base",
          "model_name": "LayoutModel",
          "model_module_version": "1.2.0",
          "state": {
            "_model_module": "@jupyter-widgets/base",
            "_model_module_version": "1.2.0",
            "_model_name": "LayoutModel",
            "_view_count": null,
            "_view_module": "@jupyter-widgets/base",
            "_view_module_version": "1.2.0",
            "_view_name": "LayoutView",
            "align_content": null,
            "align_items": null,
            "align_self": null,
            "border": null,
            "bottom": null,
            "display": null,
            "flex": null,
            "flex_flow": null,
            "grid_area": null,
            "grid_auto_columns": null,
            "grid_auto_flow": null,
            "grid_auto_rows": null,
            "grid_column": null,
            "grid_gap": null,
            "grid_row": null,
            "grid_template_areas": null,
            "grid_template_columns": null,
            "grid_template_rows": null,
            "height": null,
            "justify_content": null,
            "justify_items": null,
            "left": null,
            "margin": null,
            "max_height": null,
            "max_width": null,
            "min_height": null,
            "min_width": null,
            "object_fit": null,
            "object_position": null,
            "order": null,
            "overflow": null,
            "overflow_x": null,
            "overflow_y": null,
            "padding": null,
            "right": null,
            "top": null,
            "visibility": "hidden",
            "width": null
          }
        },
        "2a3ca322f9624c269c2c8b6b9ab9c3cb": {
          "model_module": "@jupyter-widgets/base",
          "model_name": "LayoutModel",
          "model_module_version": "1.2.0",
          "state": {
            "_model_module": "@jupyter-widgets/base",
            "_model_module_version": "1.2.0",
            "_model_name": "LayoutModel",
            "_view_count": null,
            "_view_module": "@jupyter-widgets/base",
            "_view_module_version": "1.2.0",
            "_view_name": "LayoutView",
            "align_content": null,
            "align_items": null,
            "align_self": null,
            "border": null,
            "bottom": null,
            "display": null,
            "flex": null,
            "flex_flow": null,
            "grid_area": null,
            "grid_auto_columns": null,
            "grid_auto_flow": null,
            "grid_auto_rows": null,
            "grid_column": null,
            "grid_gap": null,
            "grid_row": null,
            "grid_template_areas": null,
            "grid_template_columns": null,
            "grid_template_rows": null,
            "height": null,
            "justify_content": null,
            "justify_items": null,
            "left": null,
            "margin": null,
            "max_height": null,
            "max_width": null,
            "min_height": null,
            "min_width": null,
            "object_fit": null,
            "object_position": null,
            "order": null,
            "overflow": null,
            "overflow_x": null,
            "overflow_y": null,
            "padding": null,
            "right": null,
            "top": null,
            "visibility": null,
            "width": null
          }
        },
        "5b71fd6321784fd4a7fad41c844d42d6": {
          "model_module": "@jupyter-widgets/controls",
          "model_name": "DescriptionStyleModel",
          "model_module_version": "1.5.0",
          "state": {
            "_model_module": "@jupyter-widgets/controls",
            "_model_module_version": "1.5.0",
            "_model_name": "DescriptionStyleModel",
            "_view_count": null,
            "_view_module": "@jupyter-widgets/base",
            "_view_module_version": "1.2.0",
            "_view_name": "StyleView",
            "description_width": ""
          }
        },
        "f0697526ed6d4693b0f39fa368296855": {
          "model_module": "@jupyter-widgets/base",
          "model_name": "LayoutModel",
          "model_module_version": "1.2.0",
          "state": {
            "_model_module": "@jupyter-widgets/base",
            "_model_module_version": "1.2.0",
            "_model_name": "LayoutModel",
            "_view_count": null,
            "_view_module": "@jupyter-widgets/base",
            "_view_module_version": "1.2.0",
            "_view_name": "LayoutView",
            "align_content": null,
            "align_items": null,
            "align_self": null,
            "border": null,
            "bottom": null,
            "display": null,
            "flex": null,
            "flex_flow": null,
            "grid_area": null,
            "grid_auto_columns": null,
            "grid_auto_flow": null,
            "grid_auto_rows": null,
            "grid_column": null,
            "grid_gap": null,
            "grid_row": null,
            "grid_template_areas": null,
            "grid_template_columns": null,
            "grid_template_rows": null,
            "height": null,
            "justify_content": null,
            "justify_items": null,
            "left": null,
            "margin": null,
            "max_height": null,
            "max_width": null,
            "min_height": null,
            "min_width": null,
            "object_fit": null,
            "object_position": null,
            "order": null,
            "overflow": null,
            "overflow_x": null,
            "overflow_y": null,
            "padding": null,
            "right": null,
            "top": null,
            "visibility": null,
            "width": null
          }
        },
        "06598bf5461845c0980b1a7b307917ce": {
          "model_module": "@jupyter-widgets/controls",
          "model_name": "ProgressStyleModel",
          "model_module_version": "1.5.0",
          "state": {
            "_model_module": "@jupyter-widgets/controls",
            "_model_module_version": "1.5.0",
            "_model_name": "ProgressStyleModel",
            "_view_count": null,
            "_view_module": "@jupyter-widgets/base",
            "_view_module_version": "1.2.0",
            "_view_name": "StyleView",
            "bar_color": null,
            "description_width": ""
          }
        },
        "0ea411648e374cfcaa87d142f193809d": {
          "model_module": "@jupyter-widgets/base",
          "model_name": "LayoutModel",
          "model_module_version": "1.2.0",
          "state": {
            "_model_module": "@jupyter-widgets/base",
            "_model_module_version": "1.2.0",
            "_model_name": "LayoutModel",
            "_view_count": null,
            "_view_module": "@jupyter-widgets/base",
            "_view_module_version": "1.2.0",
            "_view_name": "LayoutView",
            "align_content": null,
            "align_items": null,
            "align_self": null,
            "border": null,
            "bottom": null,
            "display": null,
            "flex": null,
            "flex_flow": null,
            "grid_area": null,
            "grid_auto_columns": null,
            "grid_auto_flow": null,
            "grid_auto_rows": null,
            "grid_column": null,
            "grid_gap": null,
            "grid_row": null,
            "grid_template_areas": null,
            "grid_template_columns": null,
            "grid_template_rows": null,
            "height": null,
            "justify_content": null,
            "justify_items": null,
            "left": null,
            "margin": null,
            "max_height": null,
            "max_width": null,
            "min_height": null,
            "min_width": null,
            "object_fit": null,
            "object_position": null,
            "order": null,
            "overflow": null,
            "overflow_x": null,
            "overflow_y": null,
            "padding": null,
            "right": null,
            "top": null,
            "visibility": null,
            "width": null
          }
        },
        "5b444e8332784ad8a6547c25c652fba5": {
          "model_module": "@jupyter-widgets/controls",
          "model_name": "DescriptionStyleModel",
          "model_module_version": "1.5.0",
          "state": {
            "_model_module": "@jupyter-widgets/controls",
            "_model_module_version": "1.5.0",
            "_model_name": "DescriptionStyleModel",
            "_view_count": null,
            "_view_module": "@jupyter-widgets/base",
            "_view_module_version": "1.2.0",
            "_view_name": "StyleView",
            "description_width": ""
          }
        },
        "977e72ba7aa04aa18eecc779a097b8a7": {
          "model_module": "@jupyter-widgets/controls",
          "model_name": "HBoxModel",
          "model_module_version": "1.5.0",
          "state": {
            "_dom_classes": [],
            "_model_module": "@jupyter-widgets/controls",
            "_model_module_version": "1.5.0",
            "_model_name": "HBoxModel",
            "_view_count": null,
            "_view_module": "@jupyter-widgets/controls",
            "_view_module_version": "1.5.0",
            "_view_name": "HBoxView",
            "box_style": "",
            "children": [
              "IPY_MODEL_9036a96246d1451d8716c69bfda0a787",
              "IPY_MODEL_9cd492d0be8847dca0f11236c484fa3c",
              "IPY_MODEL_a61191b922ef43e1a5b006458e0e663e"
            ],
            "layout": "IPY_MODEL_a9b672d8a71d4529a4a7767b6677b9b3"
          }
        },
        "9036a96246d1451d8716c69bfda0a787": {
          "model_module": "@jupyter-widgets/controls",
          "model_name": "HTMLModel",
          "model_module_version": "1.5.0",
          "state": {
            "_dom_classes": [],
            "_model_module": "@jupyter-widgets/controls",
            "_model_module_version": "1.5.0",
            "_model_name": "HTMLModel",
            "_view_count": null,
            "_view_module": "@jupyter-widgets/controls",
            "_view_module_version": "1.5.0",
            "_view_name": "HTMLView",
            "description": "",
            "description_tooltip": null,
            "layout": "IPY_MODEL_23bc5ccbe34d4a6ab02545c7d528b11d",
            "placeholder": "​",
            "style": "IPY_MODEL_70356f411dce472c9b87a017c1748cc0",
            "value": "Shuffling /root/tensorflow_datasets/fashion_mnist/3.0.1.incompleteMV51N8/fashion_mnist-train.tfrecord*...:  85%"
          }
        },
        "9cd492d0be8847dca0f11236c484fa3c": {
          "model_module": "@jupyter-widgets/controls",
          "model_name": "FloatProgressModel",
          "model_module_version": "1.5.0",
          "state": {
            "_dom_classes": [],
            "_model_module": "@jupyter-widgets/controls",
            "_model_module_version": "1.5.0",
            "_model_name": "FloatProgressModel",
            "_view_count": null,
            "_view_module": "@jupyter-widgets/controls",
            "_view_module_version": "1.5.0",
            "_view_name": "ProgressView",
            "bar_style": "",
            "description": "",
            "description_tooltip": null,
            "layout": "IPY_MODEL_00ad8799464e40d2b9dc559efa8768f6",
            "max": 60000,
            "min": 0,
            "orientation": "horizontal",
            "style": "IPY_MODEL_a22cb2225ac3460fb6905a9fb3304592",
            "value": 60000
          }
        },
        "a61191b922ef43e1a5b006458e0e663e": {
          "model_module": "@jupyter-widgets/controls",
          "model_name": "HTMLModel",
          "model_module_version": "1.5.0",
          "state": {
            "_dom_classes": [],
            "_model_module": "@jupyter-widgets/controls",
            "_model_module_version": "1.5.0",
            "_model_name": "HTMLModel",
            "_view_count": null,
            "_view_module": "@jupyter-widgets/controls",
            "_view_module_version": "1.5.0",
            "_view_name": "HTMLView",
            "description": "",
            "description_tooltip": null,
            "layout": "IPY_MODEL_3f47cb17b414491b82018bf7c19cb4c7",
            "placeholder": "​",
            "style": "IPY_MODEL_d1d4fd01a42043ef8ff5ccf88235afa0",
            "value": " 51115/60000 [00:00&lt;00:00, 280282.47 examples/s]"
          }
        },
        "a9b672d8a71d4529a4a7767b6677b9b3": {
          "model_module": "@jupyter-widgets/base",
          "model_name": "LayoutModel",
          "model_module_version": "1.2.0",
          "state": {
            "_model_module": "@jupyter-widgets/base",
            "_model_module_version": "1.2.0",
            "_model_name": "LayoutModel",
            "_view_count": null,
            "_view_module": "@jupyter-widgets/base",
            "_view_module_version": "1.2.0",
            "_view_name": "LayoutView",
            "align_content": null,
            "align_items": null,
            "align_self": null,
            "border": null,
            "bottom": null,
            "display": null,
            "flex": null,
            "flex_flow": null,
            "grid_area": null,
            "grid_auto_columns": null,
            "grid_auto_flow": null,
            "grid_auto_rows": null,
            "grid_column": null,
            "grid_gap": null,
            "grid_row": null,
            "grid_template_areas": null,
            "grid_template_columns": null,
            "grid_template_rows": null,
            "height": null,
            "justify_content": null,
            "justify_items": null,
            "left": null,
            "margin": null,
            "max_height": null,
            "max_width": null,
            "min_height": null,
            "min_width": null,
            "object_fit": null,
            "object_position": null,
            "order": null,
            "overflow": null,
            "overflow_x": null,
            "overflow_y": null,
            "padding": null,
            "right": null,
            "top": null,
            "visibility": "hidden",
            "width": null
          }
        },
        "23bc5ccbe34d4a6ab02545c7d528b11d": {
          "model_module": "@jupyter-widgets/base",
          "model_name": "LayoutModel",
          "model_module_version": "1.2.0",
          "state": {
            "_model_module": "@jupyter-widgets/base",
            "_model_module_version": "1.2.0",
            "_model_name": "LayoutModel",
            "_view_count": null,
            "_view_module": "@jupyter-widgets/base",
            "_view_module_version": "1.2.0",
            "_view_name": "LayoutView",
            "align_content": null,
            "align_items": null,
            "align_self": null,
            "border": null,
            "bottom": null,
            "display": null,
            "flex": null,
            "flex_flow": null,
            "grid_area": null,
            "grid_auto_columns": null,
            "grid_auto_flow": null,
            "grid_auto_rows": null,
            "grid_column": null,
            "grid_gap": null,
            "grid_row": null,
            "grid_template_areas": null,
            "grid_template_columns": null,
            "grid_template_rows": null,
            "height": null,
            "justify_content": null,
            "justify_items": null,
            "left": null,
            "margin": null,
            "max_height": null,
            "max_width": null,
            "min_height": null,
            "min_width": null,
            "object_fit": null,
            "object_position": null,
            "order": null,
            "overflow": null,
            "overflow_x": null,
            "overflow_y": null,
            "padding": null,
            "right": null,
            "top": null,
            "visibility": null,
            "width": null
          }
        },
        "70356f411dce472c9b87a017c1748cc0": {
          "model_module": "@jupyter-widgets/controls",
          "model_name": "DescriptionStyleModel",
          "model_module_version": "1.5.0",
          "state": {
            "_model_module": "@jupyter-widgets/controls",
            "_model_module_version": "1.5.0",
            "_model_name": "DescriptionStyleModel",
            "_view_count": null,
            "_view_module": "@jupyter-widgets/base",
            "_view_module_version": "1.2.0",
            "_view_name": "StyleView",
            "description_width": ""
          }
        },
        "00ad8799464e40d2b9dc559efa8768f6": {
          "model_module": "@jupyter-widgets/base",
          "model_name": "LayoutModel",
          "model_module_version": "1.2.0",
          "state": {
            "_model_module": "@jupyter-widgets/base",
            "_model_module_version": "1.2.0",
            "_model_name": "LayoutModel",
            "_view_count": null,
            "_view_module": "@jupyter-widgets/base",
            "_view_module_version": "1.2.0",
            "_view_name": "LayoutView",
            "align_content": null,
            "align_items": null,
            "align_self": null,
            "border": null,
            "bottom": null,
            "display": null,
            "flex": null,
            "flex_flow": null,
            "grid_area": null,
            "grid_auto_columns": null,
            "grid_auto_flow": null,
            "grid_auto_rows": null,
            "grid_column": null,
            "grid_gap": null,
            "grid_row": null,
            "grid_template_areas": null,
            "grid_template_columns": null,
            "grid_template_rows": null,
            "height": null,
            "justify_content": null,
            "justify_items": null,
            "left": null,
            "margin": null,
            "max_height": null,
            "max_width": null,
            "min_height": null,
            "min_width": null,
            "object_fit": null,
            "object_position": null,
            "order": null,
            "overflow": null,
            "overflow_x": null,
            "overflow_y": null,
            "padding": null,
            "right": null,
            "top": null,
            "visibility": null,
            "width": null
          }
        },
        "a22cb2225ac3460fb6905a9fb3304592": {
          "model_module": "@jupyter-widgets/controls",
          "model_name": "ProgressStyleModel",
          "model_module_version": "1.5.0",
          "state": {
            "_model_module": "@jupyter-widgets/controls",
            "_model_module_version": "1.5.0",
            "_model_name": "ProgressStyleModel",
            "_view_count": null,
            "_view_module": "@jupyter-widgets/base",
            "_view_module_version": "1.2.0",
            "_view_name": "StyleView",
            "bar_color": null,
            "description_width": ""
          }
        },
        "3f47cb17b414491b82018bf7c19cb4c7": {
          "model_module": "@jupyter-widgets/base",
          "model_name": "LayoutModel",
          "model_module_version": "1.2.0",
          "state": {
            "_model_module": "@jupyter-widgets/base",
            "_model_module_version": "1.2.0",
            "_model_name": "LayoutModel",
            "_view_count": null,
            "_view_module": "@jupyter-widgets/base",
            "_view_module_version": "1.2.0",
            "_view_name": "LayoutView",
            "align_content": null,
            "align_items": null,
            "align_self": null,
            "border": null,
            "bottom": null,
            "display": null,
            "flex": null,
            "flex_flow": null,
            "grid_area": null,
            "grid_auto_columns": null,
            "grid_auto_flow": null,
            "grid_auto_rows": null,
            "grid_column": null,
            "grid_gap": null,
            "grid_row": null,
            "grid_template_areas": null,
            "grid_template_columns": null,
            "grid_template_rows": null,
            "height": null,
            "justify_content": null,
            "justify_items": null,
            "left": null,
            "margin": null,
            "max_height": null,
            "max_width": null,
            "min_height": null,
            "min_width": null,
            "object_fit": null,
            "object_position": null,
            "order": null,
            "overflow": null,
            "overflow_x": null,
            "overflow_y": null,
            "padding": null,
            "right": null,
            "top": null,
            "visibility": null,
            "width": null
          }
        },
        "d1d4fd01a42043ef8ff5ccf88235afa0": {
          "model_module": "@jupyter-widgets/controls",
          "model_name": "DescriptionStyleModel",
          "model_module_version": "1.5.0",
          "state": {
            "_model_module": "@jupyter-widgets/controls",
            "_model_module_version": "1.5.0",
            "_model_name": "DescriptionStyleModel",
            "_view_count": null,
            "_view_module": "@jupyter-widgets/base",
            "_view_module_version": "1.2.0",
            "_view_name": "StyleView",
            "description_width": ""
          }
        },
        "f2f0257bfd36465fb4743cea74fbdbd6": {
          "model_module": "@jupyter-widgets/controls",
          "model_name": "HBoxModel",
          "model_module_version": "1.5.0",
          "state": {
            "_dom_classes": [],
            "_model_module": "@jupyter-widgets/controls",
            "_model_module_version": "1.5.0",
            "_model_name": "HBoxModel",
            "_view_count": null,
            "_view_module": "@jupyter-widgets/controls",
            "_view_module_version": "1.5.0",
            "_view_name": "HBoxView",
            "box_style": "",
            "children": [
              "IPY_MODEL_620e5020c1534023ad049e9cff8beacd",
              "IPY_MODEL_8b3c6705894947ff9100b612b096e81d",
              "IPY_MODEL_7db2db297b7544feaa2cb2215e6c0b66"
            ],
            "layout": "IPY_MODEL_82cffd9597a14ae4bc210d9544944dde"
          }
        },
        "620e5020c1534023ad049e9cff8beacd": {
          "model_module": "@jupyter-widgets/controls",
          "model_name": "HTMLModel",
          "model_module_version": "1.5.0",
          "state": {
            "_dom_classes": [],
            "_model_module": "@jupyter-widgets/controls",
            "_model_module_version": "1.5.0",
            "_model_name": "HTMLModel",
            "_view_count": null,
            "_view_module": "@jupyter-widgets/controls",
            "_view_module_version": "1.5.0",
            "_view_name": "HTMLView",
            "description": "",
            "description_tooltip": null,
            "layout": "IPY_MODEL_62057b682b9946c69cc669e5296b1d39",
            "placeholder": "​",
            "style": "IPY_MODEL_a043fe00f98649fc841e9a93c7b56412",
            "value": "Generating test examples...:  99%"
          }
        },
        "8b3c6705894947ff9100b612b096e81d": {
          "model_module": "@jupyter-widgets/controls",
          "model_name": "FloatProgressModel",
          "model_module_version": "1.5.0",
          "state": {
            "_dom_classes": [],
            "_model_module": "@jupyter-widgets/controls",
            "_model_module_version": "1.5.0",
            "_model_name": "FloatProgressModel",
            "_view_count": null,
            "_view_module": "@jupyter-widgets/controls",
            "_view_module_version": "1.5.0",
            "_view_name": "ProgressView",
            "bar_style": "",
            "description": "",
            "description_tooltip": null,
            "layout": "IPY_MODEL_6dc460962f1745a480ed901291566dfe",
            "max": 10000,
            "min": 0,
            "orientation": "horizontal",
            "style": "IPY_MODEL_5b14474aedbe4bd887376fa5c4e0b286",
            "value": 10000
          }
        },
        "7db2db297b7544feaa2cb2215e6c0b66": {
          "model_module": "@jupyter-widgets/controls",
          "model_name": "HTMLModel",
          "model_module_version": "1.5.0",
          "state": {
            "_dom_classes": [],
            "_model_module": "@jupyter-widgets/controls",
            "_model_module_version": "1.5.0",
            "_model_name": "HTMLModel",
            "_view_count": null,
            "_view_module": "@jupyter-widgets/controls",
            "_view_module_version": "1.5.0",
            "_view_name": "HTMLView",
            "description": "",
            "description_tooltip": null,
            "layout": "IPY_MODEL_4d419ee0cf8646799ae6cb544fdb9abb",
            "placeholder": "​",
            "style": "IPY_MODEL_2f148c5823284e9990c7145f0e3eadea",
            "value": " 9861/10000 [00:07&lt;00:00, 1390.23 examples/s]"
          }
        },
        "82cffd9597a14ae4bc210d9544944dde": {
          "model_module": "@jupyter-widgets/base",
          "model_name": "LayoutModel",
          "model_module_version": "1.2.0",
          "state": {
            "_model_module": "@jupyter-widgets/base",
            "_model_module_version": "1.2.0",
            "_model_name": "LayoutModel",
            "_view_count": null,
            "_view_module": "@jupyter-widgets/base",
            "_view_module_version": "1.2.0",
            "_view_name": "LayoutView",
            "align_content": null,
            "align_items": null,
            "align_self": null,
            "border": null,
            "bottom": null,
            "display": null,
            "flex": null,
            "flex_flow": null,
            "grid_area": null,
            "grid_auto_columns": null,
            "grid_auto_flow": null,
            "grid_auto_rows": null,
            "grid_column": null,
            "grid_gap": null,
            "grid_row": null,
            "grid_template_areas": null,
            "grid_template_columns": null,
            "grid_template_rows": null,
            "height": null,
            "justify_content": null,
            "justify_items": null,
            "left": null,
            "margin": null,
            "max_height": null,
            "max_width": null,
            "min_height": null,
            "min_width": null,
            "object_fit": null,
            "object_position": null,
            "order": null,
            "overflow": null,
            "overflow_x": null,
            "overflow_y": null,
            "padding": null,
            "right": null,
            "top": null,
            "visibility": "hidden",
            "width": null
          }
        },
        "62057b682b9946c69cc669e5296b1d39": {
          "model_module": "@jupyter-widgets/base",
          "model_name": "LayoutModel",
          "model_module_version": "1.2.0",
          "state": {
            "_model_module": "@jupyter-widgets/base",
            "_model_module_version": "1.2.0",
            "_model_name": "LayoutModel",
            "_view_count": null,
            "_view_module": "@jupyter-widgets/base",
            "_view_module_version": "1.2.0",
            "_view_name": "LayoutView",
            "align_content": null,
            "align_items": null,
            "align_self": null,
            "border": null,
            "bottom": null,
            "display": null,
            "flex": null,
            "flex_flow": null,
            "grid_area": null,
            "grid_auto_columns": null,
            "grid_auto_flow": null,
            "grid_auto_rows": null,
            "grid_column": null,
            "grid_gap": null,
            "grid_row": null,
            "grid_template_areas": null,
            "grid_template_columns": null,
            "grid_template_rows": null,
            "height": null,
            "justify_content": null,
            "justify_items": null,
            "left": null,
            "margin": null,
            "max_height": null,
            "max_width": null,
            "min_height": null,
            "min_width": null,
            "object_fit": null,
            "object_position": null,
            "order": null,
            "overflow": null,
            "overflow_x": null,
            "overflow_y": null,
            "padding": null,
            "right": null,
            "top": null,
            "visibility": null,
            "width": null
          }
        },
        "a043fe00f98649fc841e9a93c7b56412": {
          "model_module": "@jupyter-widgets/controls",
          "model_name": "DescriptionStyleModel",
          "model_module_version": "1.5.0",
          "state": {
            "_model_module": "@jupyter-widgets/controls",
            "_model_module_version": "1.5.0",
            "_model_name": "DescriptionStyleModel",
            "_view_count": null,
            "_view_module": "@jupyter-widgets/base",
            "_view_module_version": "1.2.0",
            "_view_name": "StyleView",
            "description_width": ""
          }
        },
        "6dc460962f1745a480ed901291566dfe": {
          "model_module": "@jupyter-widgets/base",
          "model_name": "LayoutModel",
          "model_module_version": "1.2.0",
          "state": {
            "_model_module": "@jupyter-widgets/base",
            "_model_module_version": "1.2.0",
            "_model_name": "LayoutModel",
            "_view_count": null,
            "_view_module": "@jupyter-widgets/base",
            "_view_module_version": "1.2.0",
            "_view_name": "LayoutView",
            "align_content": null,
            "align_items": null,
            "align_self": null,
            "border": null,
            "bottom": null,
            "display": null,
            "flex": null,
            "flex_flow": null,
            "grid_area": null,
            "grid_auto_columns": null,
            "grid_auto_flow": null,
            "grid_auto_rows": null,
            "grid_column": null,
            "grid_gap": null,
            "grid_row": null,
            "grid_template_areas": null,
            "grid_template_columns": null,
            "grid_template_rows": null,
            "height": null,
            "justify_content": null,
            "justify_items": null,
            "left": null,
            "margin": null,
            "max_height": null,
            "max_width": null,
            "min_height": null,
            "min_width": null,
            "object_fit": null,
            "object_position": null,
            "order": null,
            "overflow": null,
            "overflow_x": null,
            "overflow_y": null,
            "padding": null,
            "right": null,
            "top": null,
            "visibility": null,
            "width": null
          }
        },
        "5b14474aedbe4bd887376fa5c4e0b286": {
          "model_module": "@jupyter-widgets/controls",
          "model_name": "ProgressStyleModel",
          "model_module_version": "1.5.0",
          "state": {
            "_model_module": "@jupyter-widgets/controls",
            "_model_module_version": "1.5.0",
            "_model_name": "ProgressStyleModel",
            "_view_count": null,
            "_view_module": "@jupyter-widgets/base",
            "_view_module_version": "1.2.0",
            "_view_name": "StyleView",
            "bar_color": null,
            "description_width": ""
          }
        },
        "4d419ee0cf8646799ae6cb544fdb9abb": {
          "model_module": "@jupyter-widgets/base",
          "model_name": "LayoutModel",
          "model_module_version": "1.2.0",
          "state": {
            "_model_module": "@jupyter-widgets/base",
            "_model_module_version": "1.2.0",
            "_model_name": "LayoutModel",
            "_view_count": null,
            "_view_module": "@jupyter-widgets/base",
            "_view_module_version": "1.2.0",
            "_view_name": "LayoutView",
            "align_content": null,
            "align_items": null,
            "align_self": null,
            "border": null,
            "bottom": null,
            "display": null,
            "flex": null,
            "flex_flow": null,
            "grid_area": null,
            "grid_auto_columns": null,
            "grid_auto_flow": null,
            "grid_auto_rows": null,
            "grid_column": null,
            "grid_gap": null,
            "grid_row": null,
            "grid_template_areas": null,
            "grid_template_columns": null,
            "grid_template_rows": null,
            "height": null,
            "justify_content": null,
            "justify_items": null,
            "left": null,
            "margin": null,
            "max_height": null,
            "max_width": null,
            "min_height": null,
            "min_width": null,
            "object_fit": null,
            "object_position": null,
            "order": null,
            "overflow": null,
            "overflow_x": null,
            "overflow_y": null,
            "padding": null,
            "right": null,
            "top": null,
            "visibility": null,
            "width": null
          }
        },
        "2f148c5823284e9990c7145f0e3eadea": {
          "model_module": "@jupyter-widgets/controls",
          "model_name": "DescriptionStyleModel",
          "model_module_version": "1.5.0",
          "state": {
            "_model_module": "@jupyter-widgets/controls",
            "_model_module_version": "1.5.0",
            "_model_name": "DescriptionStyleModel",
            "_view_count": null,
            "_view_module": "@jupyter-widgets/base",
            "_view_module_version": "1.2.0",
            "_view_name": "StyleView",
            "description_width": ""
          }
        },
        "2e557f0e12894cc9b32409b05a41dc20": {
          "model_module": "@jupyter-widgets/controls",
          "model_name": "HBoxModel",
          "model_module_version": "1.5.0",
          "state": {
            "_dom_classes": [],
            "_model_module": "@jupyter-widgets/controls",
            "_model_module_version": "1.5.0",
            "_model_name": "HBoxModel",
            "_view_count": null,
            "_view_module": "@jupyter-widgets/controls",
            "_view_module_version": "1.5.0",
            "_view_name": "HBoxView",
            "box_style": "",
            "children": [
              "IPY_MODEL_bf140d7e6b144d91aa3d5460e358f942",
              "IPY_MODEL_9b2f0f48b192481681dec3ea447d5b70",
              "IPY_MODEL_5550ab1602ad4ef9acf067444c492260"
            ],
            "layout": "IPY_MODEL_d22802756f3e4ab5ac6408d55934217e"
          }
        },
        "bf140d7e6b144d91aa3d5460e358f942": {
          "model_module": "@jupyter-widgets/controls",
          "model_name": "HTMLModel",
          "model_module_version": "1.5.0",
          "state": {
            "_dom_classes": [],
            "_model_module": "@jupyter-widgets/controls",
            "_model_module_version": "1.5.0",
            "_model_name": "HTMLModel",
            "_view_count": null,
            "_view_module": "@jupyter-widgets/controls",
            "_view_module_version": "1.5.0",
            "_view_name": "HTMLView",
            "description": "",
            "description_tooltip": null,
            "layout": "IPY_MODEL_331b715e137f44269f4f990a702258fa",
            "placeholder": "​",
            "style": "IPY_MODEL_bf1b201db93d4c3bb875788450a90ed4",
            "value": "Shuffling /root/tensorflow_datasets/fashion_mnist/3.0.1.incompleteMV51N8/fashion_mnist-test.tfrecord*...:   0%"
          }
        },
        "9b2f0f48b192481681dec3ea447d5b70": {
          "model_module": "@jupyter-widgets/controls",
          "model_name": "FloatProgressModel",
          "model_module_version": "1.5.0",
          "state": {
            "_dom_classes": [],
            "_model_module": "@jupyter-widgets/controls",
            "_model_module_version": "1.5.0",
            "_model_name": "FloatProgressModel",
            "_view_count": null,
            "_view_module": "@jupyter-widgets/controls",
            "_view_module_version": "1.5.0",
            "_view_name": "ProgressView",
            "bar_style": "",
            "description": "",
            "description_tooltip": null,
            "layout": "IPY_MODEL_519d3a33625f4f37a85b004537df2df7",
            "max": 10000,
            "min": 0,
            "orientation": "horizontal",
            "style": "IPY_MODEL_680e7f0367384573add158b56f3631b8",
            "value": 10000
          }
        },
        "5550ab1602ad4ef9acf067444c492260": {
          "model_module": "@jupyter-widgets/controls",
          "model_name": "HTMLModel",
          "model_module_version": "1.5.0",
          "state": {
            "_dom_classes": [],
            "_model_module": "@jupyter-widgets/controls",
            "_model_module_version": "1.5.0",
            "_model_name": "HTMLModel",
            "_view_count": null,
            "_view_module": "@jupyter-widgets/controls",
            "_view_module_version": "1.5.0",
            "_view_name": "HTMLView",
            "description": "",
            "description_tooltip": null,
            "layout": "IPY_MODEL_02e28466cd9b40f995b2301b28282c59",
            "placeholder": "​",
            "style": "IPY_MODEL_581e725891b84671b87ec76bb432f07b",
            "value": " 0/10000 [00:00&lt;?, ? examples/s]"
          }
        },
        "d22802756f3e4ab5ac6408d55934217e": {
          "model_module": "@jupyter-widgets/base",
          "model_name": "LayoutModel",
          "model_module_version": "1.2.0",
          "state": {
            "_model_module": "@jupyter-widgets/base",
            "_model_module_version": "1.2.0",
            "_model_name": "LayoutModel",
            "_view_count": null,
            "_view_module": "@jupyter-widgets/base",
            "_view_module_version": "1.2.0",
            "_view_name": "LayoutView",
            "align_content": null,
            "align_items": null,
            "align_self": null,
            "border": null,
            "bottom": null,
            "display": null,
            "flex": null,
            "flex_flow": null,
            "grid_area": null,
            "grid_auto_columns": null,
            "grid_auto_flow": null,
            "grid_auto_rows": null,
            "grid_column": null,
            "grid_gap": null,
            "grid_row": null,
            "grid_template_areas": null,
            "grid_template_columns": null,
            "grid_template_rows": null,
            "height": null,
            "justify_content": null,
            "justify_items": null,
            "left": null,
            "margin": null,
            "max_height": null,
            "max_width": null,
            "min_height": null,
            "min_width": null,
            "object_fit": null,
            "object_position": null,
            "order": null,
            "overflow": null,
            "overflow_x": null,
            "overflow_y": null,
            "padding": null,
            "right": null,
            "top": null,
            "visibility": "hidden",
            "width": null
          }
        },
        "331b715e137f44269f4f990a702258fa": {
          "model_module": "@jupyter-widgets/base",
          "model_name": "LayoutModel",
          "model_module_version": "1.2.0",
          "state": {
            "_model_module": "@jupyter-widgets/base",
            "_model_module_version": "1.2.0",
            "_model_name": "LayoutModel",
            "_view_count": null,
            "_view_module": "@jupyter-widgets/base",
            "_view_module_version": "1.2.0",
            "_view_name": "LayoutView",
            "align_content": null,
            "align_items": null,
            "align_self": null,
            "border": null,
            "bottom": null,
            "display": null,
            "flex": null,
            "flex_flow": null,
            "grid_area": null,
            "grid_auto_columns": null,
            "grid_auto_flow": null,
            "grid_auto_rows": null,
            "grid_column": null,
            "grid_gap": null,
            "grid_row": null,
            "grid_template_areas": null,
            "grid_template_columns": null,
            "grid_template_rows": null,
            "height": null,
            "justify_content": null,
            "justify_items": null,
            "left": null,
            "margin": null,
            "max_height": null,
            "max_width": null,
            "min_height": null,
            "min_width": null,
            "object_fit": null,
            "object_position": null,
            "order": null,
            "overflow": null,
            "overflow_x": null,
            "overflow_y": null,
            "padding": null,
            "right": null,
            "top": null,
            "visibility": null,
            "width": null
          }
        },
        "bf1b201db93d4c3bb875788450a90ed4": {
          "model_module": "@jupyter-widgets/controls",
          "model_name": "DescriptionStyleModel",
          "model_module_version": "1.5.0",
          "state": {
            "_model_module": "@jupyter-widgets/controls",
            "_model_module_version": "1.5.0",
            "_model_name": "DescriptionStyleModel",
            "_view_count": null,
            "_view_module": "@jupyter-widgets/base",
            "_view_module_version": "1.2.0",
            "_view_name": "StyleView",
            "description_width": ""
          }
        },
        "519d3a33625f4f37a85b004537df2df7": {
          "model_module": "@jupyter-widgets/base",
          "model_name": "LayoutModel",
          "model_module_version": "1.2.0",
          "state": {
            "_model_module": "@jupyter-widgets/base",
            "_model_module_version": "1.2.0",
            "_model_name": "LayoutModel",
            "_view_count": null,
            "_view_module": "@jupyter-widgets/base",
            "_view_module_version": "1.2.0",
            "_view_name": "LayoutView",
            "align_content": null,
            "align_items": null,
            "align_self": null,
            "border": null,
            "bottom": null,
            "display": null,
            "flex": null,
            "flex_flow": null,
            "grid_area": null,
            "grid_auto_columns": null,
            "grid_auto_flow": null,
            "grid_auto_rows": null,
            "grid_column": null,
            "grid_gap": null,
            "grid_row": null,
            "grid_template_areas": null,
            "grid_template_columns": null,
            "grid_template_rows": null,
            "height": null,
            "justify_content": null,
            "justify_items": null,
            "left": null,
            "margin": null,
            "max_height": null,
            "max_width": null,
            "min_height": null,
            "min_width": null,
            "object_fit": null,
            "object_position": null,
            "order": null,
            "overflow": null,
            "overflow_x": null,
            "overflow_y": null,
            "padding": null,
            "right": null,
            "top": null,
            "visibility": null,
            "width": null
          }
        },
        "680e7f0367384573add158b56f3631b8": {
          "model_module": "@jupyter-widgets/controls",
          "model_name": "ProgressStyleModel",
          "model_module_version": "1.5.0",
          "state": {
            "_model_module": "@jupyter-widgets/controls",
            "_model_module_version": "1.5.0",
            "_model_name": "ProgressStyleModel",
            "_view_count": null,
            "_view_module": "@jupyter-widgets/base",
            "_view_module_version": "1.2.0",
            "_view_name": "StyleView",
            "bar_color": null,
            "description_width": ""
          }
        },
        "02e28466cd9b40f995b2301b28282c59": {
          "model_module": "@jupyter-widgets/base",
          "model_name": "LayoutModel",
          "model_module_version": "1.2.0",
          "state": {
            "_model_module": "@jupyter-widgets/base",
            "_model_module_version": "1.2.0",
            "_model_name": "LayoutModel",
            "_view_count": null,
            "_view_module": "@jupyter-widgets/base",
            "_view_module_version": "1.2.0",
            "_view_name": "LayoutView",
            "align_content": null,
            "align_items": null,
            "align_self": null,
            "border": null,
            "bottom": null,
            "display": null,
            "flex": null,
            "flex_flow": null,
            "grid_area": null,
            "grid_auto_columns": null,
            "grid_auto_flow": null,
            "grid_auto_rows": null,
            "grid_column": null,
            "grid_gap": null,
            "grid_row": null,
            "grid_template_areas": null,
            "grid_template_columns": null,
            "grid_template_rows": null,
            "height": null,
            "justify_content": null,
            "justify_items": null,
            "left": null,
            "margin": null,
            "max_height": null,
            "max_width": null,
            "min_height": null,
            "min_width": null,
            "object_fit": null,
            "object_position": null,
            "order": null,
            "overflow": null,
            "overflow_x": null,
            "overflow_y": null,
            "padding": null,
            "right": null,
            "top": null,
            "visibility": null,
            "width": null
          }
        },
        "581e725891b84671b87ec76bb432f07b": {
          "model_module": "@jupyter-widgets/controls",
          "model_name": "DescriptionStyleModel",
          "model_module_version": "1.5.0",
          "state": {
            "_model_module": "@jupyter-widgets/controls",
            "_model_module_version": "1.5.0",
            "_model_name": "DescriptionStyleModel",
            "_view_count": null,
            "_view_module": "@jupyter-widgets/base",
            "_view_module_version": "1.2.0",
            "_view_name": "StyleView",
            "description_width": ""
          }
        }
      }
    }
  },
  "nbformat": 4,
  "nbformat_minor": 0
}
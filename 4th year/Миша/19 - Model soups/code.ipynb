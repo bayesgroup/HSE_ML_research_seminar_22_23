{
 "cells": [
  {
   "cell_type": "markdown",
   "id": "37346596",
   "metadata": {},
   "source": [
    "# Model Soups: averaging weights of multiple fine-tuned models"
   ]
  },
  {
   "cell_type": "markdown",
   "id": "9b9be644",
   "metadata": {},
   "source": [
    "Автор: [Владимир Карлов](https://t.me/vladimir_karlov)\n",
    "\n",
    "##### [Ссылка на оригинал статьи](https://arxiv.org/pdf/2203.05482.pdf)   \n",
    "##### [Ссылка на авторский код](https://github.com/mlfoundations/model-soups)  "
   ]
  },
  {
   "cell_type": "markdown",
   "id": "bea6a9ed",
   "metadata": {},
   "source": [
    "# NLP Classification Task"
   ]
  },
  {
   "cell_type": "markdown",
   "id": "bca2d603",
   "metadata": {},
   "source": [
    "### Попытаемся возпроизвести результаты на текстовой классификации полностью самостоятельно! \n",
    "#### Будем предсказывать эмоциональную окраску отзыва с IMDB. Скачаем для этого [довольно известный датасет c Hugging Face](https://huggingface.co/datasets/imdb). "
   ]
  },
  {
   "cell_type": "code",
   "execution_count": 1,
   "id": "491074cf",
   "metadata": {},
   "outputs": [],
   "source": [
    "import torch\n",
    "from torch import nn\n",
    "from torch.nn import functional as F\n",
    "import numpy as np\n",
    "import random\n",
    "import seaborn as sns\n",
    "\n",
    "import pandas as pd\n",
    "from tqdm.notebook import tqdm\n",
    "from IPython.display import display, clear_output\n",
    "from sklearn.metrics import accuracy_score, f1_score\n",
    "from datasets import load_dataset"
   ]
  },
  {
   "cell_type": "code",
   "execution_count": 2,
   "id": "da473537",
   "metadata": {},
   "outputs": [],
   "source": [
    "seed = 42 \n",
    "\n",
    "def set_random_seed(seed):\n",
    "    torch.backends.cudnn.deterministic = True\n",
    "    torch.manual_seed(seed)\n",
    "    torch.cuda.manual_seed(seed)\n",
    "    np.random.seed(seed)\n",
    "    random.seed(seed)\n",
    "    \n",
    "set_random_seed(seed)"
   ]
  },
  {
   "cell_type": "code",
   "execution_count": 3,
   "id": "9c032eaa",
   "metadata": {},
   "outputs": [
    {
     "name": "stderr",
     "output_type": "stream",
     "text": [
      "Found cached dataset imdb (C:/Users/karlo/.cache/huggingface/datasets/imdb/plain_text/1.0.0/2fdd8b9bcadd6e7055e742a706876ba43f19faee861df134affd7a3f60fc38a1)\n"
     ]
    },
    {
     "data": {
      "application/vnd.jupyter.widget-view+json": {
       "model_id": "66c87c4653ac49b7b3159eb3f909013b",
       "version_major": 2,
       "version_minor": 0
      },
      "text/plain": [
       "  0%|          | 0/3 [00:00<?, ?it/s]"
      ]
     },
     "metadata": {},
     "output_type": "display_data"
    }
   ],
   "source": [
    "df = load_dataset('imdb')['train']"
   ]
  },
  {
   "cell_type": "code",
   "execution_count": 4,
   "id": "1dab42ea",
   "metadata": {},
   "outputs": [
    {
     "data": {
      "text/html": [
       "<div>\n",
       "<style scoped>\n",
       "    .dataframe tbody tr th:only-of-type {\n",
       "        vertical-align: middle;\n",
       "    }\n",
       "\n",
       "    .dataframe tbody tr th {\n",
       "        vertical-align: top;\n",
       "    }\n",
       "\n",
       "    .dataframe thead th {\n",
       "        text-align: right;\n",
       "    }\n",
       "</style>\n",
       "<table border=\"1\" class=\"dataframe\">\n",
       "  <thead>\n",
       "    <tr style=\"text-align: right;\">\n",
       "      <th></th>\n",
       "      <th>text</th>\n",
       "      <th>label</th>\n",
       "    </tr>\n",
       "  </thead>\n",
       "  <tbody>\n",
       "    <tr>\n",
       "      <th>0</th>\n",
       "      <td>I rented I AM CURIOUS-YELLOW from my video sto...</td>\n",
       "      <td>0</td>\n",
       "    </tr>\n",
       "    <tr>\n",
       "      <th>1</th>\n",
       "      <td>\"I Am Curious: Yellow\" is a risible and preten...</td>\n",
       "      <td>0</td>\n",
       "    </tr>\n",
       "    <tr>\n",
       "      <th>2</th>\n",
       "      <td>If only to avoid making this type of film in t...</td>\n",
       "      <td>0</td>\n",
       "    </tr>\n",
       "    <tr>\n",
       "      <th>3</th>\n",
       "      <td>This film was probably inspired by Godard's Ma...</td>\n",
       "      <td>0</td>\n",
       "    </tr>\n",
       "    <tr>\n",
       "      <th>4</th>\n",
       "      <td>Oh, brother...after hearing about this ridicul...</td>\n",
       "      <td>0</td>\n",
       "    </tr>\n",
       "    <tr>\n",
       "      <th>...</th>\n",
       "      <td>...</td>\n",
       "      <td>...</td>\n",
       "    </tr>\n",
       "    <tr>\n",
       "      <th>24995</th>\n",
       "      <td>A hit at the time but now better categorised a...</td>\n",
       "      <td>1</td>\n",
       "    </tr>\n",
       "    <tr>\n",
       "      <th>24996</th>\n",
       "      <td>I love this movie like no other. Another time ...</td>\n",
       "      <td>1</td>\n",
       "    </tr>\n",
       "    <tr>\n",
       "      <th>24997</th>\n",
       "      <td>This film and it's sequel Barry Mckenzie holds...</td>\n",
       "      <td>1</td>\n",
       "    </tr>\n",
       "    <tr>\n",
       "      <th>24998</th>\n",
       "      <td>'The Adventures Of Barry McKenzie' started lif...</td>\n",
       "      <td>1</td>\n",
       "    </tr>\n",
       "    <tr>\n",
       "      <th>24999</th>\n",
       "      <td>The story centers around Barry McKenzie who mu...</td>\n",
       "      <td>1</td>\n",
       "    </tr>\n",
       "  </tbody>\n",
       "</table>\n",
       "<p>25000 rows × 2 columns</p>\n",
       "</div>"
      ],
      "text/plain": [
       "                                                    text  label\n",
       "0      I rented I AM CURIOUS-YELLOW from my video sto...      0\n",
       "1      \"I Am Curious: Yellow\" is a risible and preten...      0\n",
       "2      If only to avoid making this type of film in t...      0\n",
       "3      This film was probably inspired by Godard's Ma...      0\n",
       "4      Oh, brother...after hearing about this ridicul...      0\n",
       "...                                                  ...    ...\n",
       "24995  A hit at the time but now better categorised a...      1\n",
       "24996  I love this movie like no other. Another time ...      1\n",
       "24997  This film and it's sequel Barry Mckenzie holds...      1\n",
       "24998  'The Adventures Of Barry McKenzie' started lif...      1\n",
       "24999  The story centers around Barry McKenzie who mu...      1\n",
       "\n",
       "[25000 rows x 2 columns]"
      ]
     },
     "execution_count": 4,
     "metadata": {},
     "output_type": "execute_result"
    }
   ],
   "source": [
    "pd.DataFrame(df)"
   ]
  },
  {
   "cell_type": "code",
   "execution_count": 5,
   "id": "862853b7",
   "metadata": {},
   "outputs": [
    {
     "name": "stderr",
     "output_type": "stream",
     "text": [
      "C:\\Users\\karlo\\anaconda3\\lib\\site-packages\\seaborn\\_decorators.py:36: FutureWarning: Pass the following variable as a keyword arg: x. From version 0.12, the only valid positional argument will be `data`, and passing other arguments without an explicit keyword will result in an error or misinterpretation.\n",
      "  warnings.warn(\n"
     ]
    },
    {
     "data": {
      "text/plain": [
       "<AxesSubplot:>"
      ]
     },
     "execution_count": 5,
     "metadata": {},
     "output_type": "execute_result"
    },
    {
     "data": {
      "image/png": "[encoded data removed]",
      "text/plain": [
       "<Figure size 432x288 with 1 Axes>"
      ]
     },
     "metadata": {
      "needs_background": "light"
     },
     "output_type": "display_data"
    }
   ],
   "source": [
    "lens = [len(t) for t in df['text']]\n",
    "sns.boxplot(lens)"
   ]
  },
  {
   "cell_type": "code",
   "execution_count": 6,
   "id": "ceea1f48",
   "metadata": {},
   "outputs": [],
   "source": [
    "from transformers import DistilBertTokenizer\n",
    "\n",
    "tokenizer = DistilBertTokenizer.from_pretrained('distilbert-base-uncased')"
   ]
  },
  {
   "cell_type": "code",
   "execution_count": 7,
   "id": "855f9c84",
   "metadata": {},
   "outputs": [],
   "source": [
    "encoded_corpus = tokenizer(text=df['text'],\n",
    "                            add_special_tokens=True,\n",
    "                            padding='max_length',\n",
    "                            truncation='longest_first',\n",
    "                            max_length=500,\n",
    "                            return_attention_mask=True)\n",
    "\n",
    "input_ids = encoded_corpus['input_ids']\n",
    "attention_mask = encoded_corpus['attention_mask']"
   ]
  },
  {
   "cell_type": "code",
   "execution_count": 8,
   "id": "a328bdd2",
   "metadata": {},
   "outputs": [],
   "source": [
    "from sklearn.model_selection import train_test_split\n",
    "\n",
    "labels = np.array(df['label'])\n",
    "\n",
    "train_inputs, val_inputs, train_labels, val_labels = train_test_split(input_ids, labels, random_state=seed, test_size=0.01)\n",
    "train_masks, val_masks = train_test_split(attention_mask, random_state=seed, test_size=0.01)"
   ]
  },
  {
   "cell_type": "code",
   "execution_count": 9,
   "id": "476b5c6a",
   "metadata": {},
   "outputs": [],
   "source": [
    "from torch.utils.data import TensorDataset, DataLoader\n",
    "\n",
    "batch_size = 16\n",
    "eval_batch_size = 32\n",
    "\n",
    "\n",
    "def create_dataloaders(inputs, masks, score, batch_size):\n",
    "    input_tensor = torch.tensor(inputs)\n",
    "    mask_tensor = torch.tensor(masks)\n",
    "    score_tensor = torch.tensor(score)\n",
    "    dataset = TensorDataset(input_tensor, mask_tensor, score_tensor)\n",
    "    dataloader = DataLoader(dataset, batch_size=batch_size, shuffle=True)\n",
    "    return dataloader\n",
    "\n",
    "train_dataloader = create_dataloaders(train_inputs, train_masks, train_labels, batch_size)\n",
    "val_dataloader = create_dataloaders(val_inputs, val_masks, val_labels, eval_batch_size)\n",
    "\n",
    "dls = {'train': train_dataloader, 'val': val_dataloader}"
   ]
  },
  {
   "cell_type": "code",
   "execution_count": null,
   "id": "f9de5e89",
   "metadata": {},
   "outputs": [],
   "source": [
    "from transformers import DistilBertForSequenceClassification\n",
    "\n",
    "model = DistilBertForSequenceClassification.from_pretrained('distilbert-base-uncased', num_labels=2)"
   ]
  },
  {
   "cell_type": "code",
   "execution_count": null,
   "id": "5ce4e616",
   "metadata": {},
   "outputs": [],
   "source": [
    "from transformers import get_linear_schedule_with_warmup\n",
    "\n",
    "optimizer = torch.optim.AdamW(model.parameters(), lr=2e-5, weight_decay=5e-4)\n",
    "loss_function = nn.CrossEntropyLoss()\n",
    "\n",
    "epochs = 4\n",
    "total_steps = len(train_dataloader) * epochs\n",
    "scheduler = get_linear_schedule_with_warmup(optimizer,       \n",
    "                 num_warmup_steps=150, num_training_steps=total_steps)"
   ]
  },
  {
   "cell_type": "code",
   "execution_count": null,
   "id": "14484a3f",
   "metadata": {},
   "outputs": [],
   "source": [
    "if torch.cuda.is_available():       \n",
    "    device = torch.device(\"cuda\")\n",
    "    print(\"Using GPU.\")\n",
    "else:\n",
    "    print(\"No GPU available, using the CPU instead.\")\n",
    "    device = torch.device(\"cpu\")\n",
    "    \n",
    "model.to(device)\n",
    "torch.manual_seed(seed)"
   ]
  },
  {
   "cell_type": "code",
   "execution_count": null,
   "id": "db05b03e",
   "metadata": {},
   "outputs": [],
   "source": [
    "metrics_dict = {\n",
    "    \"Epoch\": [],\n",
    "    \"Train Acc\": [],\n",
    "    \"Train F-score\": [],\n",
    "    \"Val Acc\": [],\n",
    "    \"Val F-score\": [],\n",
    "}\n",
    "\n",
    "# Train loop\n",
    "for epoch in range(epochs):\n",
    "    train_prediction = np.array([])\n",
    "    train_true = np.array([])\n",
    "    val_prediction = np.array([])\n",
    "    val_true = np.array([])\n",
    "\n",
    "    metrics_dict[\"Epoch\"].append(epoch)\n",
    "    for stage in ['train', 'val']:\n",
    "\n",
    "        with torch.set_grad_enabled(stage == 'train'): # Whether to start building a graph for a backward pass\n",
    "            if stage == 'train':\n",
    "                model.train() # Enable some \"special\" layers (will speak about later)\n",
    "            else:\n",
    "                model.eval() # Disable some \"special\" layers (will speak about later)\n",
    "\n",
    "            for step, batch in enumerate(tqdm(dls[stage])):                \n",
    "                batch_inputs, batch_mask, batch_labels = tuple(b.to(device) for b in batch)\n",
    "                output = model(batch_inputs, batch_mask, labels=batch_labels.to(torch.long))\n",
    "                logits = output.logits.squeeze()\n",
    "                \n",
    "                loss = output.loss\n",
    "#                 loss = loss_function(logits, batch_labels) # ¡Important! y_pred is always the first arg\n",
    "#                 print(loss)\n",
    "\n",
    "                if stage == \"train\":\n",
    "                    loss.backward() # Calculate the gradients of all the parameters wrt loss\n",
    "                    optimizer.step() # Update the parameters\n",
    "                    scheduler.step()\n",
    "                    optimizer.zero_grad() # Zero the saved gradient\n",
    "                    \n",
    "                with torch.no_grad():\n",
    "                    preds = np.argmax(logits.detach().cpu().numpy(), axis=1)\n",
    "                \n",
    "                    if stage == \"train\":\n",
    "                        train_true = np.append(train_true, batch_labels.detach().cpu().numpy())\n",
    "                        train_prediction = np.append(train_prediction, preds)\n",
    "                    elif stage == \"val\":\n",
    "                        val_true = np.append(val_true, batch_labels.detach().cpu().numpy())\n",
    "                        val_prediction = np.append(val_prediction, preds)\n",
    "                    \n",
    "            if stage == \"train\":\n",
    "                metrics_dict[f\"{stage.title()} Acc\"].append(accuracy_score(train_true, train_prediction))\n",
    "                metrics_dict[f\"{stage.title()} F-score\"].append(f1_score(train_true, train_prediction))\n",
    "            else:             \n",
    "                metrics_dict[f\"{stage.title()} Acc\"].append(accuracy_score(val_true, val_prediction))\n",
    "                metrics_dict[f\"{stage.title()} F-score\"].append(f1_score(val_true, val_prediction))\n",
    "                \n",
    "    path = \"distillBert_4_states/state_dict_model_%i.pt\" % (epoch)     \n",
    "    torch.save(model.state_dict(), path) \n",
    "    \n",
    "    clear_output(wait=True)\n",
    "    \n",
    "    display(pd.DataFrame(metrics_dict))"
   ]
  },
  {
   "cell_type": "markdown",
   "id": "ebcdb8aa",
   "metadata": {},
   "source": [
    "## Сохранил примеры метрик при обучении стейтов"
   ]
  },
  {
   "attachments": {
    "image.png": {
     "image/png": "[encoded data removed]"
    }
   },
   "cell_type": "markdown",
   "id": "0c46f270",
   "metadata": {},
   "source": [
    "#### 2-я модель:\n",
    "![image.png](attachment:image.png)"
   ]
  },
  {
   "attachments": {
    "image.png": {
     "image/png": "[encoded data removed]"
    }
   },
   "cell_type": "markdown",
   "id": "88da75ff",
   "metadata": {},
   "source": [
    "#### 3-я модель: ![image.png](attachment:image.png)"
   ]
  },
  {
   "cell_type": "markdown",
   "id": "167efa06",
   "metadata": {},
   "source": [
    "### Посмотрим на поведение обученных моделей на тестовой выборке"
   ]
  },
  {
   "cell_type": "code",
   "execution_count": 10,
   "id": "9b10c3e4",
   "metadata": {},
   "outputs": [],
   "source": [
    "import torch\n",
    "from torch import nn\n",
    "from torch.nn import functional as F\n",
    "import numpy as np\n",
    "import random\n",
    "\n",
    "import matplotlib.pyplot as plt\n",
    "import seaborn as sns\n",
    "import datasets\n",
    "\n",
    "import pandas as pd\n",
    "from tqdm.notebook import tqdm\n",
    "from IPython.display import display, clear_output\n",
    "from sklearn.metrics import accuracy_score, f1_score\n",
    "from datasets import load_dataset"
   ]
  },
  {
   "cell_type": "code",
   "execution_count": 11,
   "id": "39c8bbc5",
   "metadata": {},
   "outputs": [],
   "source": [
    "seed = 42 \n",
    "\n",
    "def set_random_seed(seed):\n",
    "    torch.backends.cudnn.deterministic = True\n",
    "    torch.manual_seed(seed)\n",
    "    torch.cuda.manual_seed(seed)\n",
    "    np.random.seed(seed)\n",
    "    random.seed(seed)\n",
    "    \n",
    "set_random_seed(seed)"
   ]
  },
  {
   "cell_type": "code",
   "execution_count": 12,
   "id": "b57d5487",
   "metadata": {},
   "outputs": [
    {
     "name": "stdout",
     "output_type": "stream",
     "text": [
      "Using GPU.\n"
     ]
    },
    {
     "data": {
      "text/plain": [
       "<torch._C.Generator at 0x2c361b12050>"
      ]
     },
     "execution_count": 12,
     "metadata": {},
     "output_type": "execute_result"
    }
   ],
   "source": [
    "torch.cuda.empty_cache()\n",
    "\n",
    "if torch.cuda.is_available():       \n",
    "    device = torch.device(\"cuda\")\n",
    "    print(\"Using GPU.\")\n",
    "else:\n",
    "    print(\"No GPU available, using the CPU instead.\")\n",
    "    device = torch.device(\"cpu\")\n",
    "    \n",
    "torch.manual_seed(seed)"
   ]
  },
  {
   "cell_type": "code",
   "execution_count": 14,
   "id": "accedd81",
   "metadata": {},
   "outputs": [
    {
     "name": "stdout",
     "output_type": "stream",
     "text": [
      "Loading distillBert_1_states/state_dict_model_2.pt\n",
      "Loading distillBert_2_states/state_dict_model_2.pt\n",
      "Loading distillBert_3_states/state_dict_model_3.pt\n",
      "Loading distillBert_4_states/state_dict_model_2.pt\n"
     ]
    }
   ],
   "source": [
    "states = ['distillBert_1_states/state_dict_model_2.pt', \n",
    "          'distillBert_2_states/state_dict_model_2.pt',\n",
    "          'distillBert_3_states/state_dict_model_3.pt',\n",
    "          'distillBert_4_states/state_dict_model_2.pt']\n",
    "\n",
    "state_dicts = []\n",
    "names = [f'Model {i+1}' for i in range(len(states))]\n",
    "\n",
    "for f in states:\n",
    "    print(f'Loading {f}')\n",
    "    state_dicts.append(torch.load(f, map_location=device))"
   ]
  },
  {
   "cell_type": "code",
   "execution_count": 15,
   "id": "f580bd18",
   "metadata": {},
   "outputs": [
    {
     "name": "stderr",
     "output_type": "stream",
     "text": [
      "Found cached dataset imdb (C:/Users/karlo/.cache/huggingface/datasets/imdb/plain_text/1.0.0/2fdd8b9bcadd6e7055e742a706876ba43f19faee861df134affd7a3f60fc38a1)\n"
     ]
    },
    {
     "data": {
      "application/vnd.jupyter.widget-view+json": {
       "model_id": "e2c71f21259d43bc96443b729b681f54",
       "version_major": 2,
       "version_minor": 0
      },
      "text/plain": [
       "  0%|          | 0/3 [00:00<?, ?it/s]"
      ]
     },
     "metadata": {},
     "output_type": "display_data"
    }
   ],
   "source": [
    "raw_test = load_dataset('imdb')['test']\n",
    "inds_to_sample = np.random.randint(low=0, high=len(raw_test), size=10000)\n",
    "test_df = raw_test.select(inds_to_sample)"
   ]
  },
  {
   "cell_type": "code",
   "execution_count": 16,
   "id": "ec172c8b",
   "metadata": {},
   "outputs": [
    {
     "data": {
      "text/html": [
       "<div>\n",
       "<style scoped>\n",
       "    .dataframe tbody tr th:only-of-type {\n",
       "        vertical-align: middle;\n",
       "    }\n",
       "\n",
       "    .dataframe tbody tr th {\n",
       "        vertical-align: top;\n",
       "    }\n",
       "\n",
       "    .dataframe thead th {\n",
       "        text-align: right;\n",
       "    }\n",
       "</style>\n",
       "<table border=\"1\" class=\"dataframe\">\n",
       "  <thead>\n",
       "    <tr style=\"text-align: right;\">\n",
       "      <th></th>\n",
       "      <th>text</th>\n",
       "      <th>label</th>\n",
       "    </tr>\n",
       "  </thead>\n",
       "  <tbody>\n",
       "    <tr>\n",
       "      <th>0</th>\n",
       "      <td>The show itself basically reflects the typical...</td>\n",
       "      <td>1</td>\n",
       "    </tr>\n",
       "    <tr>\n",
       "      <th>1</th>\n",
       "      <td>A film is beyond all expectations, an excellen...</td>\n",
       "      <td>1</td>\n",
       "    </tr>\n",
       "    <tr>\n",
       "      <th>2</th>\n",
       "      <td>Without being really the worst science fiction...</td>\n",
       "      <td>0</td>\n",
       "    </tr>\n",
       "    <tr>\n",
       "      <th>3</th>\n",
       "      <td>'Illuminata' has expanded the limits of John T...</td>\n",
       "      <td>0</td>\n",
       "    </tr>\n",
       "    <tr>\n",
       "      <th>4</th>\n",
       "      <td>It's possible to have a good time with this fi...</td>\n",
       "      <td>1</td>\n",
       "    </tr>\n",
       "    <tr>\n",
       "      <th>...</th>\n",
       "      <td>...</td>\n",
       "      <td>...</td>\n",
       "    </tr>\n",
       "    <tr>\n",
       "      <th>9995</th>\n",
       "      <td>Ross Hunter's musical remake of the 1937 fanta...</td>\n",
       "      <td>1</td>\n",
       "    </tr>\n",
       "    <tr>\n",
       "      <th>9996</th>\n",
       "      <td>This is an engrossing woman's drama that men c...</td>\n",
       "      <td>1</td>\n",
       "    </tr>\n",
       "    <tr>\n",
       "      <th>9997</th>\n",
       "      <td>i love this movie. it focuses on both issues: ...</td>\n",
       "      <td>1</td>\n",
       "    </tr>\n",
       "    <tr>\n",
       "      <th>9998</th>\n",
       "      <td>I love this film (dont know why it is called P...</td>\n",
       "      <td>1</td>\n",
       "    </tr>\n",
       "    <tr>\n",
       "      <th>9999</th>\n",
       "      <td>I couldn't' agree more than with the comment l...</td>\n",
       "      <td>1</td>\n",
       "    </tr>\n",
       "  </tbody>\n",
       "</table>\n",
       "<p>10000 rows × 2 columns</p>\n",
       "</div>"
      ],
      "text/plain": [
       "                                                   text  label\n",
       "0     The show itself basically reflects the typical...      1\n",
       "1     A film is beyond all expectations, an excellen...      1\n",
       "2     Without being really the worst science fiction...      0\n",
       "3     'Illuminata' has expanded the limits of John T...      0\n",
       "4     It's possible to have a good time with this fi...      1\n",
       "...                                                 ...    ...\n",
       "9995  Ross Hunter's musical remake of the 1937 fanta...      1\n",
       "9996  This is an engrossing woman's drama that men c...      1\n",
       "9997  i love this movie. it focuses on both issues: ...      1\n",
       "9998  I love this film (dont know why it is called P...      1\n",
       "9999  I couldn't' agree more than with the comment l...      1\n",
       "\n",
       "[10000 rows x 2 columns]"
      ]
     },
     "execution_count": 16,
     "metadata": {},
     "output_type": "execute_result"
    }
   ],
   "source": [
    "pd.DataFrame(test_df)"
   ]
  },
  {
   "cell_type": "code",
   "execution_count": 17,
   "id": "7111ab66",
   "metadata": {},
   "outputs": [],
   "source": [
    "from transformers import DistilBertTokenizer\n",
    "\n",
    "tokenizer = DistilBertTokenizer.from_pretrained('distilbert-base-uncased')\n",
    "\n",
    "encoded_corpus = tokenizer(text=test_df['text'],\n",
    "                            add_special_tokens=True,\n",
    "                            padding='max_length',\n",
    "                            truncation='longest_first',\n",
    "                            max_length=500,\n",
    "                            return_attention_mask=True)\n",
    "\n",
    "test_input_ids = encoded_corpus['input_ids']\n",
    "test_attention_mask = encoded_corpus['attention_mask']"
   ]
  },
  {
   "cell_type": "code",
   "execution_count": 18,
   "id": "aded028a",
   "metadata": {},
   "outputs": [],
   "source": [
    "from torch.utils.data import TensorDataset, DataLoader\n",
    "\n",
    "eval_batch_size = 32\n",
    "\n",
    "def create_test_dataloader(inputs, masks, eval_batch_size):\n",
    "    input_tensor = torch.tensor(inputs)\n",
    "    mask_tensor = torch.tensor(masks)\n",
    "    dataset = TensorDataset(input_tensor, mask_tensor)\n",
    "    dataloader = DataLoader(dataset, batch_size=eval_batch_size, shuffle=False)\n",
    "    return dataloader\n",
    "\n",
    "test_dataloader = create_test_dataloader(test_input_ids, test_attention_mask, eval_batch_size)"
   ]
  },
  {
   "cell_type": "code",
   "execution_count": 19,
   "id": "32eadd9e",
   "metadata": {},
   "outputs": [],
   "source": [
    "def predict(model, test_dataloader, device='cuda:0'): \n",
    "        model.eval()\n",
    "        test_prediction = np.array([])\n",
    "        with torch.no_grad():\n",
    "            for step, batch in enumerate(tqdm(test_dataloader)):\n",
    "                batch_inputs, batch_mask = tuple(b.to(device) for b in batch)\n",
    "                output = model(batch_inputs, batch_mask)\n",
    "                logits = output.logits.squeeze()\n",
    "                preds = np.argmax(logits.detach().cpu().numpy(), axis=1)\n",
    "\n",
    "                test_prediction = np.append(test_prediction, preds)\n",
    "\n",
    "        return test_prediction\n",
    "    \n",
    "def predict_val(model, val_dataloader, device='cuda:0'): \n",
    "        val_true = np.array([])\n",
    "        model.eval()\n",
    "        val_prediction = np.array([])\n",
    "        with torch.no_grad():\n",
    "            for step, batch in enumerate(tqdm(val_dataloader)):\n",
    "                batch_inputs, batch_mask, batch_labels = tuple(b.to(device) for b in batch)\n",
    "                output = model(batch_inputs, batch_mask)\n",
    "                logits = output.logits.squeeze()\n",
    "                preds = np.argmax(logits.detach().cpu().numpy(), axis=1)\n",
    "                val_true = np.append(val_true, batch_labels.cpu().numpy())                \n",
    "\n",
    "                val_prediction = np.append(val_prediction, preds)\n",
    "                \n",
    "        return accuracy_score(val_true, val_prediction)"
   ]
  },
  {
   "cell_type": "code",
   "execution_count": 20,
   "id": "d24f7a30",
   "metadata": {},
   "outputs": [],
   "source": [
    "test_results = []\n",
    "val_results = []"
   ]
  },
  {
   "cell_type": "code",
   "execution_count": 21,
   "id": "0dc24659",
   "metadata": {
    "collapsed": true
   },
   "outputs": [
    {
     "name": "stderr",
     "output_type": "stream",
     "text": [
      "Some weights of the model checkpoint at distilbert-base-uncased were not used when initializing DistilBertForSequenceClassification: ['vocab_layer_norm.weight', 'vocab_transform.bias', 'vocab_projector.weight', 'vocab_layer_norm.bias', 'vocab_transform.weight', 'vocab_projector.bias']\n",
      "- This IS expected if you are initializing DistilBertForSequenceClassification from the checkpoint of a model trained on another task or with another architecture (e.g. initializing a BertForSequenceClassification model from a BertForPreTraining model).\n",
      "- This IS NOT expected if you are initializing DistilBertForSequenceClassification from the checkpoint of a model that you expect to be exactly identical (initializing a BertForSequenceClassification model from a BertForSequenceClassification model).\n",
      "Some weights of DistilBertForSequenceClassification were not initialized from the model checkpoint at distilbert-base-uncased and are newly initialized: ['pre_classifier.bias', 'classifier.weight', 'pre_classifier.weight', 'classifier.bias']\n",
      "You should probably TRAIN this model on a down-stream task to be able to use it for predictions and inference.\n"
     ]
    },
    {
     "data": {
      "application/vnd.jupyter.widget-view+json": {
       "model_id": "6d928cfedbd341cc9736bf51d5d5dfe5",
       "version_major": 2,
       "version_minor": 0
      },
      "text/plain": [
       "  0%|          | 0/313 [00:00<?, ?it/s]"
      ]
     },
     "metadata": {},
     "output_type": "display_data"
    },
    {
     "data": {
      "application/vnd.jupyter.widget-view+json": {
       "model_id": "f1b1bb53e5e24ca7b13d04d1eff9dee9",
       "version_major": 2,
       "version_minor": 0
      },
      "text/plain": [
       "  0%|          | 0/8 [00:00<?, ?it/s]"
      ]
     },
     "metadata": {},
     "output_type": "display_data"
    },
    {
     "name": "stderr",
     "output_type": "stream",
     "text": [
      "Some weights of the model checkpoint at distilbert-base-uncased were not used when initializing DistilBertForSequenceClassification: ['vocab_layer_norm.weight', 'vocab_transform.bias', 'vocab_projector.weight', 'vocab_layer_norm.bias', 'vocab_transform.weight', 'vocab_projector.bias']\n",
      "- This IS expected if you are initializing DistilBertForSequenceClassification from the checkpoint of a model trained on another task or with another architecture (e.g. initializing a BertForSequenceClassification model from a BertForPreTraining model).\n",
      "- This IS NOT expected if you are initializing DistilBertForSequenceClassification from the checkpoint of a model that you expect to be exactly identical (initializing a BertForSequenceClassification model from a BertForSequenceClassification model).\n",
      "Some weights of DistilBertForSequenceClassification were not initialized from the model checkpoint at distilbert-base-uncased and are newly initialized: ['pre_classifier.bias', 'classifier.weight', 'pre_classifier.weight', 'classifier.bias']\n",
      "You should probably TRAIN this model on a down-stream task to be able to use it for predictions and inference.\n"
     ]
    },
    {
     "data": {
      "application/vnd.jupyter.widget-view+json": {
       "model_id": "dc022d4ca4584db89ae414a21fc51662",
       "version_major": 2,
       "version_minor": 0
      },
      "text/plain": [
       "  0%|          | 0/313 [00:00<?, ?it/s]"
      ]
     },
     "metadata": {},
     "output_type": "display_data"
    },
    {
     "data": {
      "application/vnd.jupyter.widget-view+json": {
       "model_id": "7e12e7e2c9264dd0867785a0ccedea23",
       "version_major": 2,
       "version_minor": 0
      },
      "text/plain": [
       "  0%|          | 0/8 [00:00<?, ?it/s]"
      ]
     },
     "metadata": {},
     "output_type": "display_data"
    },
    {
     "name": "stderr",
     "output_type": "stream",
     "text": [
      "Some weights of the model checkpoint at distilbert-base-uncased were not used when initializing DistilBertForSequenceClassification: ['vocab_layer_norm.weight', 'vocab_transform.bias', 'vocab_projector.weight', 'vocab_layer_norm.bias', 'vocab_transform.weight', 'vocab_projector.bias']\n",
      "- This IS expected if you are initializing DistilBertForSequenceClassification from the checkpoint of a model trained on another task or with another architecture (e.g. initializing a BertForSequenceClassification model from a BertForPreTraining model).\n",
      "- This IS NOT expected if you are initializing DistilBertForSequenceClassification from the checkpoint of a model that you expect to be exactly identical (initializing a BertForSequenceClassification model from a BertForSequenceClassification model).\n",
      "Some weights of DistilBertForSequenceClassification were not initialized from the model checkpoint at distilbert-base-uncased and are newly initialized: ['pre_classifier.bias', 'classifier.weight', 'pre_classifier.weight', 'classifier.bias']\n",
      "You should probably TRAIN this model on a down-stream task to be able to use it for predictions and inference.\n"
     ]
    },
    {
     "data": {
      "application/vnd.jupyter.widget-view+json": {
       "model_id": "e04729da9f4b4c2fa741af3dcce2e80c",
       "version_major": 2,
       "version_minor": 0
      },
      "text/plain": [
       "  0%|          | 0/313 [00:00<?, ?it/s]"
      ]
     },
     "metadata": {},
     "output_type": "display_data"
    },
    {
     "data": {
      "application/vnd.jupyter.widget-view+json": {
       "model_id": "85cb4d5eedc4448bac7e30d0b5e4bf27",
       "version_major": 2,
       "version_minor": 0
      },
      "text/plain": [
       "  0%|          | 0/8 [00:00<?, ?it/s]"
      ]
     },
     "metadata": {},
     "output_type": "display_data"
    },
    {
     "name": "stderr",
     "output_type": "stream",
     "text": [
      "Some weights of the model checkpoint at distilbert-base-uncased were not used when initializing DistilBertForSequenceClassification: ['vocab_layer_norm.weight', 'vocab_transform.bias', 'vocab_projector.weight', 'vocab_layer_norm.bias', 'vocab_transform.weight', 'vocab_projector.bias']\n",
      "- This IS expected if you are initializing DistilBertForSequenceClassification from the checkpoint of a model trained on another task or with another architecture (e.g. initializing a BertForSequenceClassification model from a BertForPreTraining model).\n",
      "- This IS NOT expected if you are initializing DistilBertForSequenceClassification from the checkpoint of a model that you expect to be exactly identical (initializing a BertForSequenceClassification model from a BertForSequenceClassification model).\n",
      "Some weights of DistilBertForSequenceClassification were not initialized from the model checkpoint at distilbert-base-uncased and are newly initialized: ['pre_classifier.bias', 'classifier.weight', 'pre_classifier.weight', 'classifier.bias']\n",
      "You should probably TRAIN this model on a down-stream task to be able to use it for predictions and inference.\n"
     ]
    },
    {
     "data": {
      "application/vnd.jupyter.widget-view+json": {
       "model_id": "1c0bf05c77064017bb969e8f4c30e7f0",
       "version_major": 2,
       "version_minor": 0
      },
      "text/plain": [
       "  0%|          | 0/313 [00:00<?, ?it/s]"
      ]
     },
     "metadata": {},
     "output_type": "display_data"
    },
    {
     "data": {
      "application/vnd.jupyter.widget-view+json": {
       "model_id": "7eb05e8229764c0d8a9f1cfff7dab0e5",
       "version_major": 2,
       "version_minor": 0
      },
      "text/plain": [
       "  0%|          | 0/8 [00:00<?, ?it/s]"
      ]
     },
     "metadata": {},
     "output_type": "display_data"
    }
   ],
   "source": [
    "from transformers import DistilBertForSequenceClassification\n",
    "\n",
    "state_path = state_dicts[0]\n",
    "for i in range(len(state_dicts)):\n",
    "    cur_model = DistilBertForSequenceClassification.from_pretrained('distilbert-base-uncased', num_labels=2)\n",
    "    cur_model.load_state_dict(state_dicts[i])\n",
    "    cur_model.to(device)\n",
    "    \n",
    "    # get accuracy on test set for each model\n",
    "    cur_pred = predict(cur_model, test_dataloader, device)\n",
    "    test_results.append(accuracy_score(test_df['label'], cur_pred))\n",
    "    torch.cuda.empty_cache()\n",
    "    \n",
    "    # get accuracy on val set for each model (for greeady soup)\n",
    "    val_acc = predict_val(cur_model, dls['val'], device)\n",
    "    val_results.append(val_acc)\n",
    "    torch.cuda.empty_cache()"
   ]
  },
  {
   "cell_type": "code",
   "execution_count": 84,
   "id": "302ba4e2",
   "metadata": {},
   "outputs": [],
   "source": [
    "def show_results(names, test_results):\n",
    "    plt.bar(names, test_results)\n",
    "    plt.title(\"Test Accuracy By Model\")\n",
    "    plt.ylim([0.9, 0.97])\n",
    "    plt.xticks(rotation=30, ha='right')\n",
    "    plt.show()\n",
    "    \n",
    "    for name, res in zip(names, test_results):\n",
    "        print('%s : %.4f' % (name, res))"
   ]
  },
  {
   "cell_type": "code",
   "execution_count": 23,
   "id": "83f8bcb6",
   "metadata": {},
   "outputs": [
    {
     "data": {
      "image/png": "[encoded data removed]",
      "text/plain": [
       "<Figure size 432x288 with 1 Axes>"
      ]
     },
     "metadata": {
      "needs_background": "light"
     },
     "output_type": "display_data"
    },
    {
     "name": "stdout",
     "output_type": "stream",
     "text": [
      "Model 1 : 0.9190\n",
      "Model 2 : 0.9305\n",
      "Model 3 : 0.9332\n",
      "Model 4 : 0.9358\n"
     ]
    }
   ],
   "source": [
    "show_results(names, test_results)"
   ]
  },
  {
   "cell_type": "markdown",
   "id": "674044b1",
   "metadata": {},
   "source": [
    "## Построим Uniform Soup"
   ]
  },
  {
   "cell_type": "code",
   "execution_count": 24,
   "id": "605edb5f",
   "metadata": {},
   "outputs": [],
   "source": [
    "def get_model(state_dicts, alphal, device='cuda'):\n",
    "    model = DistilBertForSequenceClassification.from_pretrained('distilbert-base-uncased', num_labels=2)\n",
    "    sd = {k : state_dicts[0][k].clone() * alphal[0] for k in state_dicts[0].keys()}\n",
    "    for i in range(1, len(state_dicts)):\n",
    "        for k in state_dicts[i].keys():\n",
    "            sd[k] = sd[k] + state_dicts[i][k].clone() * alphal[i]\n",
    "    model.load_state_dict(sd)\n",
    "    model = model.to(device)\n",
    "    return model"
   ]
  },
  {
   "cell_type": "code",
   "execution_count": 25,
   "id": "01494366",
   "metadata": {
    "collapsed": true
   },
   "outputs": [
    {
     "name": "stderr",
     "output_type": "stream",
     "text": [
      "Some weights of the model checkpoint at distilbert-base-uncased were not used when initializing DistilBertForSequenceClassification: ['vocab_layer_norm.weight', 'vocab_transform.bias', 'vocab_projector.weight', 'vocab_layer_norm.bias', 'vocab_transform.weight', 'vocab_projector.bias']\n",
      "- This IS expected if you are initializing DistilBertForSequenceClassification from the checkpoint of a model trained on another task or with another architecture (e.g. initializing a BertForSequenceClassification model from a BertForPreTraining model).\n",
      "- This IS NOT expected if you are initializing DistilBertForSequenceClassification from the checkpoint of a model that you expect to be exactly identical (initializing a BertForSequenceClassification model from a BertForSequenceClassification model).\n",
      "Some weights of DistilBertForSequenceClassification were not initialized from the model checkpoint at distilbert-base-uncased and are newly initialized: ['pre_classifier.bias', 'classifier.weight', 'pre_classifier.weight', 'classifier.bias']\n",
      "You should probably TRAIN this model on a down-stream task to be able to use it for predictions and inference.\n"
     ]
    }
   ],
   "source": [
    "alphal = [1 / len(state_dicts) for i in range(len(state_dicts))]\n",
    "uniform_soup_model = get_model(state_dicts, alphal)"
   ]
  },
  {
   "cell_type": "code",
   "execution_count": 26,
   "id": "62cd5823",
   "metadata": {},
   "outputs": [
    {
     "data": {
      "application/vnd.jupyter.widget-view+json": {
       "model_id": "03e7e9c12a17426eaabb8ab5afce75eb",
       "version_major": 2,
       "version_minor": 0
      },
      "text/plain": [
       "  0%|          | 0/313 [00:00<?, ?it/s]"
      ]
     },
     "metadata": {},
     "output_type": "display_data"
    }
   ],
   "source": [
    "uniform_soup_pred = predict(uniform_soup_model, test_dataloader, device)\n",
    "test_results.append(accuracy_score(test_df['label'], uniform_soup_pred))\n",
    "names.append('Uniform Soup')\n",
    "torch.cuda.empty_cache()"
   ]
  },
  {
   "cell_type": "code",
   "execution_count": 27,
   "id": "1da6031b",
   "metadata": {
    "scrolled": false
   },
   "outputs": [
    {
     "data": {
      "image/png": "[encoded data removed]",
      "text/plain": [
       "<Figure size 432x288 with 1 Axes>"
      ]
     },
     "metadata": {
      "needs_background": "light"
     },
     "output_type": "display_data"
    },
    {
     "name": "stdout",
     "output_type": "stream",
     "text": [
      "Model 1 : 0.9190\n",
      "Model 2 : 0.9305\n",
      "Model 3 : 0.9332\n",
      "Model 4 : 0.9358\n",
      "Uniform Soup : 0.9365\n"
     ]
    }
   ],
   "source": [
    "show_results(names, test_results)"
   ]
  },
  {
   "cell_type": "markdown",
   "id": "018b288e",
   "metadata": {},
   "source": [
    "## Построим Greedy Soup"
   ]
  },
  {
   "attachments": {
    "image.png": {
     "image/png": "[encoded data removed]"
    }
   },
   "cell_type": "markdown",
   "id": "73c1c2ab",
   "metadata": {},
   "source": [
    "![image.png](attachment:image.png)"
   ]
  },
  {
   "cell_type": "code",
   "execution_count": 28,
   "id": "062011c6",
   "metadata": {
    "collapsed": true
   },
   "outputs": [
    {
     "name": "stderr",
     "output_type": "stream",
     "text": [
      "Some weights of the model checkpoint at distilbert-base-uncased were not used when initializing DistilBertForSequenceClassification: ['vocab_layer_norm.weight', 'vocab_transform.bias', 'vocab_projector.weight', 'vocab_layer_norm.bias', 'vocab_transform.weight', 'vocab_projector.bias']\n",
      "- This IS expected if you are initializing DistilBertForSequenceClassification from the checkpoint of a model trained on another task or with another architecture (e.g. initializing a BertForSequenceClassification model from a BertForPreTraining model).\n",
      "- This IS NOT expected if you are initializing DistilBertForSequenceClassification from the checkpoint of a model that you expect to be exactly identical (initializing a BertForSequenceClassification model from a BertForSequenceClassification model).\n",
      "Some weights of DistilBertForSequenceClassification were not initialized from the model checkpoint at distilbert-base-uncased and are newly initialized: ['pre_classifier.bias', 'classifier.weight', 'pre_classifier.weight', 'classifier.bias']\n",
      "You should probably TRAIN this model on a down-stream task to be able to use it for predictions and inference.\n"
     ]
    },
    {
     "data": {
      "application/vnd.jupyter.widget-view+json": {
       "model_id": "c6b3fde197fe414cb3effbf53f8646a0",
       "version_major": 2,
       "version_minor": 0
      },
      "text/plain": [
       "  0%|          | 0/8 [00:00<?, ?it/s]"
      ]
     },
     "metadata": {},
     "output_type": "display_data"
    },
    {
     "name": "stdout",
     "output_type": "stream",
     "text": [
      "Models [2, 3] got 94.39999999999999% on validation.\n"
     ]
    },
    {
     "name": "stderr",
     "output_type": "stream",
     "text": [
      "Some weights of the model checkpoint at distilbert-base-uncased were not used when initializing DistilBertForSequenceClassification: ['vocab_layer_norm.weight', 'vocab_transform.bias', 'vocab_projector.weight', 'vocab_layer_norm.bias', 'vocab_transform.weight', 'vocab_projector.bias']\n",
      "- This IS expected if you are initializing DistilBertForSequenceClassification from the checkpoint of a model trained on another task or with another architecture (e.g. initializing a BertForSequenceClassification model from a BertForPreTraining model).\n",
      "- This IS NOT expected if you are initializing DistilBertForSequenceClassification from the checkpoint of a model that you expect to be exactly identical (initializing a BertForSequenceClassification model from a BertForSequenceClassification model).\n",
      "Some weights of DistilBertForSequenceClassification were not initialized from the model checkpoint at distilbert-base-uncased and are newly initialized: ['pre_classifier.bias', 'classifier.weight', 'pre_classifier.weight', 'classifier.bias']\n",
      "You should probably TRAIN this model on a down-stream task to be able to use it for predictions and inference.\n"
     ]
    },
    {
     "data": {
      "application/vnd.jupyter.widget-view+json": {
       "model_id": "ff4953aa9d994db797a28a44237db943",
       "version_major": 2,
       "version_minor": 0
      },
      "text/plain": [
       "  0%|          | 0/8 [00:00<?, ?it/s]"
      ]
     },
     "metadata": {},
     "output_type": "display_data"
    },
    {
     "name": "stdout",
     "output_type": "stream",
     "text": [
      "Models [2, 1] got 94.8% on validation.\n"
     ]
    },
    {
     "name": "stderr",
     "output_type": "stream",
     "text": [
      "Some weights of the model checkpoint at distilbert-base-uncased were not used when initializing DistilBertForSequenceClassification: ['vocab_layer_norm.weight', 'vocab_transform.bias', 'vocab_projector.weight', 'vocab_layer_norm.bias', 'vocab_transform.weight', 'vocab_projector.bias']\n",
      "- This IS expected if you are initializing DistilBertForSequenceClassification from the checkpoint of a model trained on another task or with another architecture (e.g. initializing a BertForSequenceClassification model from a BertForPreTraining model).\n",
      "- This IS NOT expected if you are initializing DistilBertForSequenceClassification from the checkpoint of a model that you expect to be exactly identical (initializing a BertForSequenceClassification model from a BertForSequenceClassification model).\n",
      "Some weights of DistilBertForSequenceClassification were not initialized from the model checkpoint at distilbert-base-uncased and are newly initialized: ['pre_classifier.bias', 'classifier.weight', 'pre_classifier.weight', 'classifier.bias']\n",
      "You should probably TRAIN this model on a down-stream task to be able to use it for predictions and inference.\n"
     ]
    },
    {
     "data": {
      "application/vnd.jupyter.widget-view+json": {
       "model_id": "03769e1b1640403aa28dac6763b94e76",
       "version_major": 2,
       "version_minor": 0
      },
      "text/plain": [
       "  0%|          | 0/8 [00:00<?, ?it/s]"
      ]
     },
     "metadata": {},
     "output_type": "display_data"
    },
    {
     "name": "stdout",
     "output_type": "stream",
     "text": [
      "Models [2, 0] got 94.8% on validation.\n"
     ]
    }
   ],
   "source": [
    "ranked_candidates = [i for i in range(len(state_dicts))]\n",
    "ranked_candidates.sort(key=lambda x: -val_results[x])\n",
    "\n",
    "current_best = val_results[ranked_candidates[0]]\n",
    "best_ingredients = ranked_candidates[:1]\n",
    "for i in range(1, len(state_dicts)):\n",
    "    # add current index to the ingredients\n",
    "    ingredient_indices = best_ingredients \\\n",
    "      + [ranked_candidates[i]]\n",
    "    alphal = [0 for i in range(len(state_dicts))]\n",
    "    for j in ingredient_indices:\n",
    "        alphal[j] = 1 / len(ingredient_indices)\n",
    "  \n",
    "    # benchmark and conditionally append\n",
    "    model = get_model(state_dicts, alphal)\n",
    "    current = predict_val(model, val_dataloader)\n",
    "    print(f'Models {ingredient_indices} got {current * 100}% on validation.')\n",
    "    if current > current_best:\n",
    "        current_best = current\n",
    "        best_ingredients = ingredient_indices"
   ]
  },
  {
   "cell_type": "code",
   "execution_count": 29,
   "id": "7b4dde3b",
   "metadata": {},
   "outputs": [
    {
     "name": "stderr",
     "output_type": "stream",
     "text": [
      "Some weights of the model checkpoint at distilbert-base-uncased were not used when initializing DistilBertForSequenceClassification: ['vocab_layer_norm.weight', 'vocab_transform.bias', 'vocab_projector.weight', 'vocab_layer_norm.bias', 'vocab_transform.weight', 'vocab_projector.bias']\n",
      "- This IS expected if you are initializing DistilBertForSequenceClassification from the checkpoint of a model trained on another task or with another architecture (e.g. initializing a BertForSequenceClassification model from a BertForPreTraining model).\n",
      "- This IS NOT expected if you are initializing DistilBertForSequenceClassification from the checkpoint of a model that you expect to be exactly identical (initializing a BertForSequenceClassification model from a BertForSequenceClassification model).\n",
      "Some weights of DistilBertForSequenceClassification were not initialized from the model checkpoint at distilbert-base-uncased and are newly initialized: ['pre_classifier.bias', 'classifier.weight', 'pre_classifier.weight', 'classifier.bias']\n",
      "You should probably TRAIN this model on a down-stream task to be able to use it for predictions and inference.\n"
     ]
    },
    {
     "data": {
      "application/vnd.jupyter.widget-view+json": {
       "model_id": "689fe926a9a345f3803ebc74b6a91d95",
       "version_major": 2,
       "version_minor": 0
      },
      "text/plain": [
       "  0%|          | 0/313 [00:00<?, ?it/s]"
      ]
     },
     "metadata": {},
     "output_type": "display_data"
    }
   ],
   "source": [
    "alphal = [0 for i in range(len(state_dicts))]\n",
    "for j in best_ingredients:\n",
    "    alphal[j] = 1 / len(best_ingredients)\n",
    "    \n",
    "greedy_model = get_model(state_dicts, alphal)\n",
    "\n",
    "greedy_pred = predict(greedy_model, test_dataloader, device)\n",
    "test_results.append(accuracy_score(test_df['label'], greedy_pred))\n",
    "names.append('Greedy Soup')\n",
    "torch.cuda.empty_cache()"
   ]
  },
  {
   "cell_type": "code",
   "execution_count": 32,
   "id": "35cb4ccc",
   "metadata": {},
   "outputs": [
    {
     "data": {
      "image/png": "[encoded data removed]",
      "text/plain": [
       "<Figure size 432x288 with 1 Axes>"
      ]
     },
     "metadata": {
      "needs_background": "light"
     },
     "output_type": "display_data"
    },
    {
     "name": "stdout",
     "output_type": "stream",
     "text": [
      "Model 1 : 0.9190\n",
      "Model 2 : 0.9305\n",
      "Model 3 : 0.9332\n",
      "Model 4 : 0.9358\n",
      "Uniform Soup : 0.9365\n",
      "Greedy Soup : 0.9332\n"
     ]
    }
   ],
   "source": [
    "show_results(names, test_results)"
   ]
  },
  {
   "cell_type": "markdown",
   "id": "6310a957",
   "metadata": {},
   "source": [
    "## Опробую также собственные идеи по выбору ингредиентов "
   ]
  },
  {
   "cell_type": "markdown",
   "id": "eb6d2720",
   "metadata": {},
   "source": [
    "### 1. linear_descending_soup: линейные веса для отсортированных по убыванию val accuracy стейтов\n"
   ]
  },
  {
   "cell_type": "code",
   "execution_count": 122,
   "id": "67ec1204",
   "metadata": {
    "collapsed": true
   },
   "outputs": [
    {
     "name": "stderr",
     "output_type": "stream",
     "text": [
      "Some weights of the model checkpoint at distilbert-base-uncased were not used when initializing DistilBertForSequenceClassification: ['vocab_layer_norm.weight', 'vocab_transform.bias', 'vocab_projector.weight', 'vocab_layer_norm.bias', 'vocab_transform.weight', 'vocab_projector.bias']\n",
      "- This IS expected if you are initializing DistilBertForSequenceClassification from the checkpoint of a model trained on another task or with another architecture (e.g. initializing a BertForSequenceClassification model from a BertForPreTraining model).\n",
      "- This IS NOT expected if you are initializing DistilBertForSequenceClassification from the checkpoint of a model that you expect to be exactly identical (initializing a BertForSequenceClassification model from a BertForSequenceClassification model).\n",
      "Some weights of DistilBertForSequenceClassification were not initialized from the model checkpoint at distilbert-base-uncased and are newly initialized: ['pre_classifier.bias', 'classifier.weight', 'pre_classifier.weight', 'classifier.bias']\n",
      "You should probably TRAIN this model on a down-stream task to be able to use it for predictions and inference.\n"
     ]
    },
    {
     "data": {
      "application/vnd.jupyter.widget-view+json": {
       "model_id": "bac58255920f4b4eabe3022c8f7dff79",
       "version_major": 2,
       "version_minor": 0
      },
      "text/plain": [
       "  0%|          | 0/313 [00:00<?, ?it/s]"
      ]
     },
     "metadata": {},
     "output_type": "display_data"
    }
   ],
   "source": [
    "alphal = np.zeros(len(state_dicts))\n",
    "sorted_inds = np.argsort(val_results)\n",
    "alphal[sorted_inds] = np.arange(len(state_dicts))\n",
    "alphal = alphal / np.sum(alphal)\n",
    "\n",
    "linear_soup_model = get_model(state_dicts, alphal)\n",
    "linear_pred = predict(linear_soup_model, test_dataloader, device)\n",
    "test_results.append(accuracy_score(test_df['label'], linear_pred))\n",
    "names.append('Linear Soup')\n",
    "torch.cuda.empty_cache()"
   ]
  },
  {
   "cell_type": "code",
   "execution_count": 123,
   "id": "eb2aa38f",
   "metadata": {},
   "outputs": [
    {
     "data": {
      "image/png": "[encoded data removed]",
      "text/plain": [
       "<Figure size 432x288 with 1 Axes>"
      ]
     },
     "metadata": {
      "needs_background": "light"
     },
     "output_type": "display_data"
    },
    {
     "name": "stdout",
     "output_type": "stream",
     "text": [
      "Model 1 : 0.9190\n",
      "Model 2 : 0.9305\n",
      "Model 3 : 0.9332\n",
      "Model 4 : 0.9358\n",
      "Uniform Soup : 0.9365\n",
      "Greedy Soup : 0.9332\n",
      "Linear Soup : 0.9362\n"
     ]
    }
   ],
   "source": [
    "show_results(names, test_results)"
   ]
  },
  {
   "cell_type": "markdown",
   "id": "b3812126",
   "metadata": {},
   "source": [
    "### 2. softmax_vall_acc_soup: веса, инициализированные как софтмакс (с температурой и без) от val accuracy\n"
   ]
  },
  {
   "cell_type": "code",
   "execution_count": 124,
   "id": "1b6addbb",
   "metadata": {},
   "outputs": [],
   "source": [
    "def softmax(input, t=1.0):\n",
    "    ex = torch.exp(input / t)\n",
    "    sum = torch.sum(ex, axis=0)\n",
    "    return ex / sum"
   ]
  },
  {
   "cell_type": "code",
   "execution_count": 125,
   "id": "c60b36a9",
   "metadata": {
    "collapsed": true
   },
   "outputs": [
    {
     "name": "stderr",
     "output_type": "stream",
     "text": [
      "Some weights of the model checkpoint at distilbert-base-uncased were not used when initializing DistilBertForSequenceClassification: ['vocab_layer_norm.weight', 'vocab_transform.bias', 'vocab_projector.weight', 'vocab_layer_norm.bias', 'vocab_transform.weight', 'vocab_projector.bias']\n",
      "- This IS expected if you are initializing DistilBertForSequenceClassification from the checkpoint of a model trained on another task or with another architecture (e.g. initializing a BertForSequenceClassification model from a BertForPreTraining model).\n",
      "- This IS NOT expected if you are initializing DistilBertForSequenceClassification from the checkpoint of a model that you expect to be exactly identical (initializing a BertForSequenceClassification model from a BertForSequenceClassification model).\n",
      "Some weights of DistilBertForSequenceClassification were not initialized from the model checkpoint at distilbert-base-uncased and are newly initialized: ['pre_classifier.bias', 'classifier.weight', 'pre_classifier.weight', 'classifier.bias']\n",
      "You should probably TRAIN this model on a down-stream task to be able to use it for predictions and inference.\n"
     ]
    },
    {
     "data": {
      "application/vnd.jupyter.widget-view+json": {
       "model_id": "ac256510bbcc49d1bd8ed207450ffafb",
       "version_major": 2,
       "version_minor": 0
      },
      "text/plain": [
       "  0%|          | 0/313 [00:00<?, ?it/s]"
      ]
     },
     "metadata": {},
     "output_type": "display_data"
    }
   ],
   "source": [
    "alphal = softmax(torch.Tensor(val_results))\n",
    "\n",
    "softmax_soup_model = get_model(state_dicts, alphal)\n",
    "softmax_pred = predict(softmax_soup_model, test_dataloader, device)\n",
    "test_results.append(accuracy_score(test_df['label'], softmax_pred))\n",
    "names.append('Softmax Soup')\n",
    "torch.cuda.empty_cache()"
   ]
  },
  {
   "cell_type": "code",
   "execution_count": 126,
   "id": "32262502",
   "metadata": {},
   "outputs": [
    {
     "data": {
      "image/png": "[encoded data removed]",
      "text/plain": [
       "<Figure size 432x288 with 1 Axes>"
      ]
     },
     "metadata": {
      "needs_background": "light"
     },
     "output_type": "display_data"
    },
    {
     "name": "stdout",
     "output_type": "stream",
     "text": [
      "Model 1 : 0.9190\n",
      "Model 2 : 0.9305\n",
      "Model 3 : 0.9332\n",
      "Model 4 : 0.9358\n",
      "Uniform Soup : 0.9365\n",
      "Greedy Soup : 0.9332\n",
      "Linear Soup : 0.9362\n",
      "Softmax Soup : 0.9365\n"
     ]
    }
   ],
   "source": [
    "show_results(names, test_results)"
   ]
  },
  {
   "cell_type": "markdown",
   "id": "c965cf16",
   "metadata": {},
   "source": [
    "### Дальнейшие направления для экспериментов:"
   ]
  },
  {
   "cell_type": "markdown",
   "id": "fdff8ee9",
   "metadata": {},
   "source": [
    "1. Исследования на более сложных задачах (NER, Summarization, NMT)\n",
    "2. Эксперименты с методами / стратегиями усреднения компонентов"
   ]
  },
  {
   "cell_type": "markdown",
   "id": "54216586",
   "metadata": {},
   "source": [
    "Спасибо, что досмотрели до конца!"
   ]
  }
 ],
 "metadata": {
  "kernelspec": {
   "display_name": "Python 3 (ipykernel)",
   "language": "python",
   "name": "python3"
  },
  "language_info": {
   "codemirror_mode": {
    "name": "ipython",
    "version": 3
   },
   "file_extension": ".py",
   "mimetype": "text/x-python",
   "name": "python",
   "nbconvert_exporter": "python",
   "pygments_lexer": "ipython3",
   "version": "3.7.11"
  }
 },
 "nbformat": 4,
 "nbformat_minor": 5
}

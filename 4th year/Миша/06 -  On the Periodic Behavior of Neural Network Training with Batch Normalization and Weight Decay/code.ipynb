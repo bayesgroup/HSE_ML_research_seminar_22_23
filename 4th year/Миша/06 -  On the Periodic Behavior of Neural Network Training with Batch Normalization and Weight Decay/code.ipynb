{
  "nbformat": 4,
  "nbformat_minor": 0,
  "metadata": {
    "colab": {
      "provenance": []
    },
    "kernelspec": {
      "name": "python3",
      "display_name": "Python 3"
    },
    "language_info": {
      "name": "python"
    }
  },
  "cells": [
    {
      "cell_type": "markdown",
      "source": [
        "основной целью работы является совместное использование batch normalization and weight decay в нейронных сетях для разных датасетов. По словам авторов это приводит к периодическому поведению динамики оптимизации."
      ],
      "metadata": {
        "id": "3MFmW9UVYTDt"
      }
    },
    {
      "cell_type": "markdown",
      "source": [
        "попробуем провести эксперимент на датасете cifar-10, но напишем свою нейронку"
      ],
      "metadata": {
        "id": "XzJCSaVTfySs"
      }
    },
    {
      "cell_type": "code",
      "source": [
        "from tensorflow.keras.datasets import cifar10\n",
        "from tensorflow.keras.models import Sequential\n",
        "from tensorflow.keras.layers import Dense, Flatten, Conv2D, MaxPooling2D\n",
        "from tensorflow.keras.losses import sparse_categorical_crossentropy\n",
        "from tensorflow.keras.optimizers import Adam\n",
        "import matplotlib.pyplot as plt"
      ],
      "metadata": {
        "id": "i5UwDudxfdJS"
      },
      "execution_count": 3,
      "outputs": []
    },
    {
      "cell_type": "code",
      "source": [
        "# конфигурация модели\n",
        "batch_size = 50\n",
        "img_width, img_height, img_num_channels = 32, 32, 3\n",
        "loss_function = sparse_categorical_crossentropy\n",
        "no_classes = 10\n",
        "no_epochs = 10\n",
        "optimizer = Adam()\n",
        "validation_split = 0.2\n",
        "verbosity = 1"
      ],
      "metadata": {
        "id": "HShP_Ychfesi"
      },
      "execution_count": 8,
      "outputs": []
    },
    {
      "cell_type": "code",
      "source": [
        "# загрузим CIFAR-10 \n",
        "(input_train, target_train), (input_test, target_test) = cifar10.load_data()\n",
        "\n",
        "input_shape = (img_width, img_height, img_num_channels)\n",
        "\n",
        "input_train = input_train.astype('float32')\n",
        "input_test = input_test.astype('float32')\n",
        "\n",
        "# нормализация\n",
        "input_train = input_train / 255\n",
        "input_test = input_test / 255"
      ],
      "metadata": {
        "id": "5JmYaKZcfg5W"
      },
      "execution_count": 9,
      "outputs": []
    },
    {
      "cell_type": "code",
      "source": [
        "# создание модели\n",
        "from tensorflow.keras.regularizers import l2\n",
        "weight_decay = 1e-4\n",
        "model = Sequential()\n",
        "model.add(Conv2D(32, kernel_size=(3, 3), activation='relu', input_shape=input_shape))\n",
        "model.add(MaxPooling2D(pool_size=(2, 2)))\n",
        "model.add(Conv2D(64, kernel_size=(3, 3), activation='relu', kernel_regularizer=l2(weight_decay)))\n",
        "model.add(MaxPooling2D(pool_size=(2, 2)))\n",
        "model.add(Conv2D(128, kernel_size=(3, 3), activation='relu',kernel_regularizer=l2(weight_decay)))\n",
        "model.add(MaxPooling2D(pool_size=(2, 2)))\n",
        "model.add(Flatten())\n",
        "model.add(Dense(256, activation='relu'))\n",
        "model.add(Dense(128, activation='relu'))\n",
        "model.add(Dense(no_classes, activation='softmax'))"
      ],
      "metadata": {
        "id": "l5ZiOq2JflPi"
      },
      "execution_count": 14,
      "outputs": []
    },
    {
      "cell_type": "code",
      "execution_count": 15,
      "metadata": {
        "colab": {
          "base_uri": "https://localhost:8080/"
        },
        "id": "6sgkN9PoYF6r",
        "outputId": "9c0734c2-fe59-4d77-92fc-74d08c2bf12f"
      },
      "outputs": [
        {
          "output_type": "stream",
          "name": "stdout",
          "text": [
            "Epoch 1/10\n",
            "800/800 [==============================] - 65s 80ms/step - loss: 1.8940 - accuracy: 0.2723 - val_loss: 1.6339 - val_accuracy: 0.3891\n",
            "Epoch 2/10\n",
            "800/800 [==============================] - 67s 84ms/step - loss: 1.5338 - accuracy: 0.4357 - val_loss: 1.4522 - val_accuracy: 0.4613\n",
            "Epoch 3/10\n",
            "800/800 [==============================] - 62s 78ms/step - loss: 1.3881 - accuracy: 0.4932 - val_loss: 1.3573 - val_accuracy: 0.5054\n",
            "Epoch 4/10\n",
            "800/800 [==============================] - 64s 79ms/step - loss: 1.3058 - accuracy: 0.5282 - val_loss: 1.3083 - val_accuracy: 0.5296\n",
            "Epoch 5/10\n",
            "800/800 [==============================] - 63s 78ms/step - loss: 1.2468 - accuracy: 0.5544 - val_loss: 1.2568 - val_accuracy: 0.5486\n",
            "Epoch 6/10\n",
            "800/800 [==============================] - 62s 78ms/step - loss: 1.2056 - accuracy: 0.5695 - val_loss: 1.2147 - val_accuracy: 0.5650\n",
            "Epoch 7/10\n",
            "800/800 [==============================] - 63s 78ms/step - loss: 1.1614 - accuracy: 0.5850 - val_loss: 1.1864 - val_accuracy: 0.5714\n",
            "Epoch 8/10\n",
            "800/800 [==============================] - 62s 78ms/step - loss: 1.1368 - accuracy: 0.5929 - val_loss: 1.2003 - val_accuracy: 0.5740\n",
            "Epoch 9/10\n",
            "800/800 [==============================] - 63s 78ms/step - loss: 1.1104 - accuracy: 0.6073 - val_loss: 1.1619 - val_accuracy: 0.5865\n",
            "Epoch 10/10\n",
            "800/800 [==============================] - 63s 78ms/step - loss: 1.0870 - accuracy: 0.6131 - val_loss: 1.1533 - val_accuracy: 0.5937\n"
          ]
        }
      ],
      "source": [
        "model.compile(loss=loss_function,\n",
        "              optimizer=optimizer,\n",
        "              metrics=['accuracy'])\n",
        "\n",
        "history = model.fit(input_train, target_train,\n",
        "            batch_size=batch_size,\n",
        "            epochs=no_epochs,\n",
        "            verbose=verbosity,\n",
        "            validation_split=validation_split)\n",
        "\n"
      ]
    },
    {
      "cell_type": "markdown",
      "source": [
        "В качестве метода оптимизации использовался обычный SGD. Learning rate не изменялся на протяжении тренировки. Никакой аугментации к данным не применялось, т.е. и для тренировки и для тестирования брались полные картинки 32 на 32 пикселя. Использовалась L2 регуляризация с weight decay = 0.0001\n",
        "\n",
        "Ошибка и точность на тренировочном датасете считается на протяжении эпохи по каждому батчу и в конце каждой эпохи усредняется и записывается."
      ],
      "metadata": {
        "id": "k9r0k2t-lhr6"
      }
    },
    {
      "cell_type": "code",
      "source": [
        "score = model.evaluate(input_test, target_test, verbose=0)\n",
        "print(f'Test loss: {score[0]} / Test accuracy: {score[1]}')\n",
        "\n",
        "plt.plot(history.history['val_loss'])\n",
        "plt.title('Validation loss history')\n",
        "plt.ylabel('Loss value')\n",
        "plt.xlabel('No. epoch')\n",
        "plt.show()\n",
        "\n",
        "plt.plot(history.history['val_accuracy'])\n",
        "plt.title('Validation accuracy history')\n",
        "plt.ylabel('Accuracy value (%)')\n",
        "plt.xlabel('No. epoch')\n",
        "plt.show()"
      ],
      "metadata": {
        "colab": {
          "base_uri": "https://localhost:8080/",
          "height": 592
        },
        "id": "uOmnoV6vfvXQ",
        "outputId": "78850585-312c-48f5-bb64-d6645d993be4"
      },
      "execution_count": 16,
      "outputs": [
        {
          "output_type": "stream",
          "name": "stdout",
          "text": [
            "Test loss: 1.1453351974487305 / Test accuracy: 0.5960999727249146\n"
          ]
        },
        {
          "output_type": "display_data",
          "data": {
            "text/plain": [
              "<Figure size 432x288 with 1 Axes>"
            ],
            "image/png": "[encoded data removed]"
          },
          "metadata": {
            "needs_background": "light"
          }
        },
        {
          "output_type": "display_data",
          "data": {
            "text/plain": [
              "<Figure size 432x288 with 1 Axes>"
            ],
            "image/png": "[encoded data removed]"
          },
          "metadata": {
            "needs_background": "light"
          }
        }
      ]
    },
    {
      "cell_type": "markdown",
      "source": [
        "Выводы.\n",
        "\n",
        "При неизменных остальных параметрах тренировки, сеть с применением batch normalization сходится быстрее. Причем сходится даже при таком learning rate, при котором сеть без batch normalization не сходится."
      ],
      "metadata": {
        "id": "DELh41MWiqMs"
      }
    }
  ]
}
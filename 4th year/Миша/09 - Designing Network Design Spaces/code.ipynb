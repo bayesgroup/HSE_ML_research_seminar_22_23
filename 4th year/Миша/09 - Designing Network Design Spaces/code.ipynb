{
  "nbformat": 4,
  "nbformat_minor": 0,
  "metadata": {
    "colab": {
      "provenance": [],
      "collapsed_sections": [
        "SYf-yonMphmY",
        "C8qp2ai5pjsw"
      ]
    },
    "kernelspec": {
      "name": "python3",
      "display_name": "Python 3"
    },
    "language_info": {
      "name": "python"
    },
    "accelerator": "GPU",
    "widgets": {
      "application/vnd.jupyter.widget-state+json": {
        "5060f2ded25246898aad8f91694581e8": {
          "model_module": "@jupyter-widgets/controls",
          "model_name": "HBoxModel",
          "model_module_version": "1.5.0",
          "state": {
            "_dom_classes": [],
            "_model_module": "@jupyter-widgets/controls",
            "_model_module_version": "1.5.0",
            "_model_name": "HBoxModel",
            "_view_count": null,
            "_view_module": "@jupyter-widgets/controls",
            "_view_module_version": "1.5.0",
            "_view_name": "HBoxView",
            "box_style": "",
            "children": [
              "IPY_MODEL_2710dbd7b22245d8be5184af47040c62",
              "IPY_MODEL_4d108cbbf4ef4a91b1b3e5a2fd4ad1cb",
              "IPY_MODEL_fea0e56bb3814c548079c4714ee76a15"
            ],
            "layout": "IPY_MODEL_0d74d50276e44166b6e6b9271a61855c"
          }
        },
        "2710dbd7b22245d8be5184af47040c62": {
          "model_module": "@jupyter-widgets/controls",
          "model_name": "HTMLModel",
          "model_module_version": "1.5.0",
          "state": {
            "_dom_classes": [],
            "_model_module": "@jupyter-widgets/controls",
            "_model_module_version": "1.5.0",
            "_model_name": "HTMLModel",
            "_view_count": null,
            "_view_module": "@jupyter-widgets/controls",
            "_view_module_version": "1.5.0",
            "_view_name": "HTMLView",
            "description": "",
            "description_tooltip": null,
            "layout": "IPY_MODEL_62eaaff0da4f4da1b6df427ffb709ef2",
            "placeholder": "​",
            "style": "IPY_MODEL_331ba2aaf5814392bab801254e57c59a",
            "value": "100%"
          }
        },
        "4d108cbbf4ef4a91b1b3e5a2fd4ad1cb": {
          "model_module": "@jupyter-widgets/controls",
          "model_name": "FloatProgressModel",
          "model_module_version": "1.5.0",
          "state": {
            "_dom_classes": [],
            "_model_module": "@jupyter-widgets/controls",
            "_model_module_version": "1.5.0",
            "_model_name": "FloatProgressModel",
            "_view_count": null,
            "_view_module": "@jupyter-widgets/controls",
            "_view_module_version": "1.5.0",
            "_view_name": "ProgressView",
            "bar_style": "success",
            "description": "",
            "description_tooltip": null,
            "layout": "IPY_MODEL_6277166ae9864dbca7a3639f9d2012c4",
            "max": 170498071,
            "min": 0,
            "orientation": "horizontal",
            "style": "IPY_MODEL_d0064f6276634481b9ac1ab0e9cc75ca",
            "value": 170498071
          }
        },
        "fea0e56bb3814c548079c4714ee76a15": {
          "model_module": "@jupyter-widgets/controls",
          "model_name": "HTMLModel",
          "model_module_version": "1.5.0",
          "state": {
            "_dom_classes": [],
            "_model_module": "@jupyter-widgets/controls",
            "_model_module_version": "1.5.0",
            "_model_name": "HTMLModel",
            "_view_count": null,
            "_view_module": "@jupyter-widgets/controls",
            "_view_module_version": "1.5.0",
            "_view_name": "HTMLView",
            "description": "",
            "description_tooltip": null,
            "layout": "IPY_MODEL_1ac9c3ed5b0040d3830cf658636e7445",
            "placeholder": "​",
            "style": "IPY_MODEL_0659f3e67292470bb862e9b4b99e5204",
            "value": " 170498071/170498071 [00:02&lt;00:00, 84982731.50it/s]"
          }
        },
        "0d74d50276e44166b6e6b9271a61855c": {
          "model_module": "@jupyter-widgets/base",
          "model_name": "LayoutModel",
          "model_module_version": "1.2.0",
          "state": {
            "_model_module": "@jupyter-widgets/base",
            "_model_module_version": "1.2.0",
            "_model_name": "LayoutModel",
            "_view_count": null,
            "_view_module": "@jupyter-widgets/base",
            "_view_module_version": "1.2.0",
            "_view_name": "LayoutView",
            "align_content": null,
            "align_items": null,
            "align_self": null,
            "border": null,
            "bottom": null,
            "display": null,
            "flex": null,
            "flex_flow": null,
            "grid_area": null,
            "grid_auto_columns": null,
            "grid_auto_flow": null,
            "grid_auto_rows": null,
            "grid_column": null,
            "grid_gap": null,
            "grid_row": null,
            "grid_template_areas": null,
            "grid_template_columns": null,
            "grid_template_rows": null,
            "height": null,
            "justify_content": null,
            "justify_items": null,
            "left": null,
            "margin": null,
            "max_height": null,
            "max_width": null,
            "min_height": null,
            "min_width": null,
            "object_fit": null,
            "object_position": null,
            "order": null,
            "overflow": null,
            "overflow_x": null,
            "overflow_y": null,
            "padding": null,
            "right": null,
            "top": null,
            "visibility": null,
            "width": null
          }
        },
        "62eaaff0da4f4da1b6df427ffb709ef2": {
          "model_module": "@jupyter-widgets/base",
          "model_name": "LayoutModel",
          "model_module_version": "1.2.0",
          "state": {
            "_model_module": "@jupyter-widgets/base",
            "_model_module_version": "1.2.0",
            "_model_name": "LayoutModel",
            "_view_count": null,
            "_view_module": "@jupyter-widgets/base",
            "_view_module_version": "1.2.0",
            "_view_name": "LayoutView",
            "align_content": null,
            "align_items": null,
            "align_self": null,
            "border": null,
            "bottom": null,
            "display": null,
            "flex": null,
            "flex_flow": null,
            "grid_area": null,
            "grid_auto_columns": null,
            "grid_auto_flow": null,
            "grid_auto_rows": null,
            "grid_column": null,
            "grid_gap": null,
            "grid_row": null,
            "grid_template_areas": null,
            "grid_template_columns": null,
            "grid_template_rows": null,
            "height": null,
            "justify_content": null,
            "justify_items": null,
            "left": null,
            "margin": null,
            "max_height": null,
            "max_width": null,
            "min_height": null,
            "min_width": null,
            "object_fit": null,
            "object_position": null,
            "order": null,
            "overflow": null,
            "overflow_x": null,
            "overflow_y": null,
            "padding": null,
            "right": null,
            "top": null,
            "visibility": null,
            "width": null
          }
        },
        "331ba2aaf5814392bab801254e57c59a": {
          "model_module": "@jupyter-widgets/controls",
          "model_name": "DescriptionStyleModel",
          "model_module_version": "1.5.0",
          "state": {
            "_model_module": "@jupyter-widgets/controls",
            "_model_module_version": "1.5.0",
            "_model_name": "DescriptionStyleModel",
            "_view_count": null,
            "_view_module": "@jupyter-widgets/base",
            "_view_module_version": "1.2.0",
            "_view_name": "StyleView",
            "description_width": ""
          }
        },
        "6277166ae9864dbca7a3639f9d2012c4": {
          "model_module": "@jupyter-widgets/base",
          "model_name": "LayoutModel",
          "model_module_version": "1.2.0",
          "state": {
            "_model_module": "@jupyter-widgets/base",
            "_model_module_version": "1.2.0",
            "_model_name": "LayoutModel",
            "_view_count": null,
            "_view_module": "@jupyter-widgets/base",
            "_view_module_version": "1.2.0",
            "_view_name": "LayoutView",
            "align_content": null,
            "align_items": null,
            "align_self": null,
            "border": null,
            "bottom": null,
            "display": null,
            "flex": null,
            "flex_flow": null,
            "grid_area": null,
            "grid_auto_columns": null,
            "grid_auto_flow": null,
            "grid_auto_rows": null,
            "grid_column": null,
            "grid_gap": null,
            "grid_row": null,
            "grid_template_areas": null,
            "grid_template_columns": null,
            "grid_template_rows": null,
            "height": null,
            "justify_content": null,
            "justify_items": null,
            "left": null,
            "margin": null,
            "max_height": null,
            "max_width": null,
            "min_height": null,
            "min_width": null,
            "object_fit": null,
            "object_position": null,
            "order": null,
            "overflow": null,
            "overflow_x": null,
            "overflow_y": null,
            "padding": null,
            "right": null,
            "top": null,
            "visibility": null,
            "width": null
          }
        },
        "d0064f6276634481b9ac1ab0e9cc75ca": {
          "model_module": "@jupyter-widgets/controls",
          "model_name": "ProgressStyleModel",
          "model_module_version": "1.5.0",
          "state": {
            "_model_module": "@jupyter-widgets/controls",
            "_model_module_version": "1.5.0",
            "_model_name": "ProgressStyleModel",
            "_view_count": null,
            "_view_module": "@jupyter-widgets/base",
            "_view_module_version": "1.2.0",
            "_view_name": "StyleView",
            "bar_color": null,
            "description_width": ""
          }
        },
        "1ac9c3ed5b0040d3830cf658636e7445": {
          "model_module": "@jupyter-widgets/base",
          "model_name": "LayoutModel",
          "model_module_version": "1.2.0",
          "state": {
            "_model_module": "@jupyter-widgets/base",
            "_model_module_version": "1.2.0",
            "_model_name": "LayoutModel",
            "_view_count": null,
            "_view_module": "@jupyter-widgets/base",
            "_view_module_version": "1.2.0",
            "_view_name": "LayoutView",
            "align_content": null,
            "align_items": null,
            "align_self": null,
            "border": null,
            "bottom": null,
            "display": null,
            "flex": null,
            "flex_flow": null,
            "grid_area": null,
            "grid_auto_columns": null,
            "grid_auto_flow": null,
            "grid_auto_rows": null,
            "grid_column": null,
            "grid_gap": null,
            "grid_row": null,
            "grid_template_areas": null,
            "grid_template_columns": null,
            "grid_template_rows": null,
            "height": null,
            "justify_content": null,
            "justify_items": null,
            "left": null,
            "margin": null,
            "max_height": null,
            "max_width": null,
            "min_height": null,
            "min_width": null,
            "object_fit": null,
            "object_position": null,
            "order": null,
            "overflow": null,
            "overflow_x": null,
            "overflow_y": null,
            "padding": null,
            "right": null,
            "top": null,
            "visibility": null,
            "width": null
          }
        },
        "0659f3e67292470bb862e9b4b99e5204": {
          "model_module": "@jupyter-widgets/controls",
          "model_name": "DescriptionStyleModel",
          "model_module_version": "1.5.0",
          "state": {
            "_model_module": "@jupyter-widgets/controls",
            "_model_module_version": "1.5.0",
            "_model_name": "DescriptionStyleModel",
            "_view_count": null,
            "_view_module": "@jupyter-widgets/base",
            "_view_module_version": "1.2.0",
            "_view_name": "StyleView",
            "description_width": ""
          }
        }
      }
    }
  },
  "cells": [
    {
      "cell_type": "markdown",
      "source": [
        "## **pycls** \n",
        "\n",
        "[`git`](https://github.com/facebookresearch/pycls)\n",
        "\n",
        "```\n",
        "Our goal is to design better networks for visual recognition. \n",
        "Rather than designing or searching for a single best model \n",
        "under specific settings, we study the behavior of populations \n",
        "of models.\n",
        "```"
      ],
      "metadata": {
        "id": "Y7-LorEKpYPC"
      }
    },
    {
      "cell_type": "markdown",
      "source": [
        "#### **Library**\n",
        "\n",
        "Можем использовать как библиотеку - установить через `pip` и загрузить pre-trained модели для инференса или для изучения их структуры."
      ],
      "metadata": {
        "id": "dg3cEXltttE_"
      }
    },
    {
      "cell_type": "markdown",
      "source": [
        "##### **Install**"
      ],
      "metadata": {
        "id": "SYf-yonMphmY"
      }
    },
    {
      "cell_type": "code",
      "source": [
        "%%bash\n",
        "\n",
        "pip install pycls\n",
        "git clone https://github.com/facebookresearch/pycls\n"
      ],
      "metadata": {
        "colab": {
          "base_uri": "https://localhost:8080/"
        },
        "id": "3b6ZfcUEtwkK",
        "outputId": "0b2aa838-6a8f-4566-9c86-f423d9f61b9c"
      },
      "execution_count": null,
      "outputs": [
        {
          "output_type": "stream",
          "name": "stdout",
          "text": [
            "Looking in indexes: https://pypi.org/simple, https://us-python.pkg.dev/colab-wheels/public/simple/\n",
            "Collecting pycls\n",
            "  Downloading pycls-0.1.1-py3-none-any.whl (43 kB)\n",
            "\u001b[K     |████████████████████████████████| 43 kB 1.6 MB/s \n",
            "\u001b[?25hRequirement already satisfied: opencv-python in /usr/local/lib/python3.7/dist-packages (from pycls) (4.6.0.66)\n",
            "Collecting yacs\n",
            "  Downloading yacs-0.1.8-py3-none-any.whl (14 kB)\n",
            "Requirement already satisfied: numpy in /usr/local/lib/python3.7/dist-packages (from pycls) (1.21.6)\n",
            "Collecting simplejson\n",
            "  Downloading simplejson-3.17.6-cp37-cp37m-manylinux_2_5_x86_64.manylinux1_x86_64.manylinux_2_12_x86_64.manylinux2010_x86_64.whl (130 kB)\n",
            "\u001b[K     |████████████████████████████████| 130 kB 31.9 MB/s \n",
            "\u001b[?25hRequirement already satisfied: PyYAML in /usr/local/lib/python3.7/dist-packages (from yacs->pycls) (6.0)\n",
            "Installing collected packages: yacs, simplejson, pycls\n",
            "Successfully installed pycls-0.1.1 simplejson-3.17.6 yacs-0.1.8\n"
          ]
        }
      ]
    },
    {
      "cell_type": "markdown",
      "source": [
        "##### **Usage**\n",
        "\n",
        "[Табличка](https://github.com/facebookresearch/pycls/blob/main/MODEL_ZOO.md) с pre-trained моделями. \n",
        "\n",
        "Шаги в дизайне пространства:"
      ],
      "metadata": {
        "id": "C8qp2ai5pjsw"
      }
    },
    {
      "cell_type": "markdown",
      "source": [
        "![Снимок экрана 2022-10-11 в 23.13.jpg](data:image/jpeg;base64,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)"
      ],
      "metadata": {
        "id": "loLPnK8suwSA"
      }
    },
    {
      "cell_type": "markdown",
      "source": [
        "Так мы получаем модель RegNetX."
      ],
      "metadata": {
        "id": "zo0CAwHsuxu6"
      }
    },
    {
      "cell_type": "markdown",
      "source": [
        "Общий архитектура рассматриваемых сетей:"
      ],
      "metadata": {
        "id": "d2_h8HyswS31"
      }
    },
    {
      "cell_type": "markdown",
      "source": [
        "![Снимок экра 2022-10-11 в 23.34.jpg](data:image/jpeg;base64,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)"
      ],
      "metadata": {
        "id": "32a83np9xA2z"
      }
    },
    {
      "cell_type": "markdown",
      "source": [
        "![asd.jpg](data:image/jpeg;base64,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)"
      ],
      "metadata": {
        "id": "JKtNaJ5HxCGq"
      }
    },
    {
      "cell_type": "code",
      "source": [
        "import numpy as np\n",
        "\n",
        "import pycls.models as pymodels \n"
      ],
      "metadata": {
        "id": "JBWPm2LppYGf"
      },
      "execution_count": null,
      "outputs": []
    },
    {
      "cell_type": "code",
      "source": [
        "model = pymodels.regnetx(\"200MF\", pretrained=True)"
      ],
      "metadata": {
        "colab": {
          "base_uri": "https://localhost:8080/"
        },
        "id": "V79SAOeVtZQp",
        "outputId": "78fc8b3f-8662-4c14-f3c3-23f7a7e47905"
      },
      "execution_count": null,
      "outputs": [
        {
          "output_type": "stream",
          "name": "stdout",
          "text": [
            "  [============================================================] 100.0% of 0.0MB file  \n",
            "\n"
          ]
        }
      ]
    },
    {
      "cell_type": "code",
      "source": [
        "model"
      ],
      "metadata": {
        "colab": {
          "base_uri": "https://localhost:8080/"
        },
        "id": "b24zyiN0ubS6",
        "outputId": "fc9a0e81-818c-4166-c9b8-5793d4e19bf9"
      },
      "execution_count": null,
      "outputs": [
        {
          "output_type": "execute_result",
          "data": {
            "text/plain": [
              "RegNet(\n",
              "  (stem): SimpleStemIN(\n",
              "    (conv): Conv2d(3, 32, kernel_size=(3, 3), stride=(2, 2), padding=(1, 1), bias=False)\n",
              "    (bn): BatchNorm2d(32, eps=1e-05, momentum=0.1, affine=True, track_running_stats=True)\n",
              "    (relu): ReLU(inplace=True)\n",
              "  )\n",
              "  (s1): AnyStage(\n",
              "    (b1): ResBottleneckBlock(\n",
              "      (proj): Conv2d(32, 24, kernel_size=(1, 1), stride=(2, 2), bias=False)\n",
              "      (bn): BatchNorm2d(24, eps=1e-05, momentum=0.1, affine=True, track_running_stats=True)\n",
              "      (f): BottleneckTransform(\n",
              "        (a): Conv2d(32, 24, kernel_size=(1, 1), stride=(1, 1), bias=False)\n",
              "        (a_bn): BatchNorm2d(24, eps=1e-05, momentum=0.1, affine=True, track_running_stats=True)\n",
              "        (a_relu): ReLU(inplace=True)\n",
              "        (b): Conv2d(24, 24, kernel_size=(3, 3), stride=(2, 2), padding=(1, 1), groups=3, bias=False)\n",
              "        (b_bn): BatchNorm2d(24, eps=1e-05, momentum=0.1, affine=True, track_running_stats=True)\n",
              "        (b_relu): ReLU(inplace=True)\n",
              "        (c): Conv2d(24, 24, kernel_size=(1, 1), stride=(1, 1), bias=False)\n",
              "        (c_bn): BatchNorm2d(24, eps=1e-05, momentum=0.1, affine=True, track_running_stats=True)\n",
              "      )\n",
              "      (relu): ReLU(inplace=True)\n",
              "    )\n",
              "  )\n",
              "  (s2): AnyStage(\n",
              "    (b1): ResBottleneckBlock(\n",
              "      (proj): Conv2d(24, 56, kernel_size=(1, 1), stride=(2, 2), bias=False)\n",
              "      (bn): BatchNorm2d(56, eps=1e-05, momentum=0.1, affine=True, track_running_stats=True)\n",
              "      (f): BottleneckTransform(\n",
              "        (a): Conv2d(24, 56, kernel_size=(1, 1), stride=(1, 1), bias=False)\n",
              "        (a_bn): BatchNorm2d(56, eps=1e-05, momentum=0.1, affine=True, track_running_stats=True)\n",
              "        (a_relu): ReLU(inplace=True)\n",
              "        (b): Conv2d(56, 56, kernel_size=(3, 3), stride=(2, 2), padding=(1, 1), groups=7, bias=False)\n",
              "        (b_bn): BatchNorm2d(56, eps=1e-05, momentum=0.1, affine=True, track_running_stats=True)\n",
              "        (b_relu): ReLU(inplace=True)\n",
              "        (c): Conv2d(56, 56, kernel_size=(1, 1), stride=(1, 1), bias=False)\n",
              "        (c_bn): BatchNorm2d(56, eps=1e-05, momentum=0.1, affine=True, track_running_stats=True)\n",
              "      )\n",
              "      (relu): ReLU(inplace=True)\n",
              "    )\n",
              "  )\n",
              "  (s3): AnyStage(\n",
              "    (b1): ResBottleneckBlock(\n",
              "      (proj): Conv2d(56, 152, kernel_size=(1, 1), stride=(2, 2), bias=False)\n",
              "      (bn): BatchNorm2d(152, eps=1e-05, momentum=0.1, affine=True, track_running_stats=True)\n",
              "      (f): BottleneckTransform(\n",
              "        (a): Conv2d(56, 152, kernel_size=(1, 1), stride=(1, 1), bias=False)\n",
              "        (a_bn): BatchNorm2d(152, eps=1e-05, momentum=0.1, affine=True, track_running_stats=True)\n",
              "        (a_relu): ReLU(inplace=True)\n",
              "        (b): Conv2d(152, 152, kernel_size=(3, 3), stride=(2, 2), padding=(1, 1), groups=19, bias=False)\n",
              "        (b_bn): BatchNorm2d(152, eps=1e-05, momentum=0.1, affine=True, track_running_stats=True)\n",
              "        (b_relu): ReLU(inplace=True)\n",
              "        (c): Conv2d(152, 152, kernel_size=(1, 1), stride=(1, 1), bias=False)\n",
              "        (c_bn): BatchNorm2d(152, eps=1e-05, momentum=0.1, affine=True, track_running_stats=True)\n",
              "      )\n",
              "      (relu): ReLU(inplace=True)\n",
              "    )\n",
              "    (b2): ResBottleneckBlock(\n",
              "      (f): BottleneckTransform(\n",
              "        (a): Conv2d(152, 152, kernel_size=(1, 1), stride=(1, 1), bias=False)\n",
              "        (a_bn): BatchNorm2d(152, eps=1e-05, momentum=0.1, affine=True, track_running_stats=True)\n",
              "        (a_relu): ReLU(inplace=True)\n",
              "        (b): Conv2d(152, 152, kernel_size=(3, 3), stride=(1, 1), padding=(1, 1), groups=19, bias=False)\n",
              "        (b_bn): BatchNorm2d(152, eps=1e-05, momentum=0.1, affine=True, track_running_stats=True)\n",
              "        (b_relu): ReLU(inplace=True)\n",
              "        (c): Conv2d(152, 152, kernel_size=(1, 1), stride=(1, 1), bias=False)\n",
              "        (c_bn): BatchNorm2d(152, eps=1e-05, momentum=0.1, affine=True, track_running_stats=True)\n",
              "      )\n",
              "      (relu): ReLU(inplace=True)\n",
              "    )\n",
              "    (b3): ResBottleneckBlock(\n",
              "      (f): BottleneckTransform(\n",
              "        (a): Conv2d(152, 152, kernel_size=(1, 1), stride=(1, 1), bias=False)\n",
              "        (a_bn): BatchNorm2d(152, eps=1e-05, momentum=0.1, affine=True, track_running_stats=True)\n",
              "        (a_relu): ReLU(inplace=True)\n",
              "        (b): Conv2d(152, 152, kernel_size=(3, 3), stride=(1, 1), padding=(1, 1), groups=19, bias=False)\n",
              "        (b_bn): BatchNorm2d(152, eps=1e-05, momentum=0.1, affine=True, track_running_stats=True)\n",
              "        (b_relu): ReLU(inplace=True)\n",
              "        (c): Conv2d(152, 152, kernel_size=(1, 1), stride=(1, 1), bias=False)\n",
              "        (c_bn): BatchNorm2d(152, eps=1e-05, momentum=0.1, affine=True, track_running_stats=True)\n",
              "      )\n",
              "      (relu): ReLU(inplace=True)\n",
              "    )\n",
              "    (b4): ResBottleneckBlock(\n",
              "      (f): BottleneckTransform(\n",
              "        (a): Conv2d(152, 152, kernel_size=(1, 1), stride=(1, 1), bias=False)\n",
              "        (a_bn): BatchNorm2d(152, eps=1e-05, momentum=0.1, affine=True, track_running_stats=True)\n",
              "        (a_relu): ReLU(inplace=True)\n",
              "        (b): Conv2d(152, 152, kernel_size=(3, 3), stride=(1, 1), padding=(1, 1), groups=19, bias=False)\n",
              "        (b_bn): BatchNorm2d(152, eps=1e-05, momentum=0.1, affine=True, track_running_stats=True)\n",
              "        (b_relu): ReLU(inplace=True)\n",
              "        (c): Conv2d(152, 152, kernel_size=(1, 1), stride=(1, 1), bias=False)\n",
              "        (c_bn): BatchNorm2d(152, eps=1e-05, momentum=0.1, affine=True, track_running_stats=True)\n",
              "      )\n",
              "      (relu): ReLU(inplace=True)\n",
              "    )\n",
              "  )\n",
              "  (s4): AnyStage(\n",
              "    (b1): ResBottleneckBlock(\n",
              "      (proj): Conv2d(152, 368, kernel_size=(1, 1), stride=(2, 2), bias=False)\n",
              "      (bn): BatchNorm2d(368, eps=1e-05, momentum=0.1, affine=True, track_running_stats=True)\n",
              "      (f): BottleneckTransform(\n",
              "        (a): Conv2d(152, 368, kernel_size=(1, 1), stride=(1, 1), bias=False)\n",
              "        (a_bn): BatchNorm2d(368, eps=1e-05, momentum=0.1, affine=True, track_running_stats=True)\n",
              "        (a_relu): ReLU(inplace=True)\n",
              "        (b): Conv2d(368, 368, kernel_size=(3, 3), stride=(2, 2), padding=(1, 1), groups=46, bias=False)\n",
              "        (b_bn): BatchNorm2d(368, eps=1e-05, momentum=0.1, affine=True, track_running_stats=True)\n",
              "        (b_relu): ReLU(inplace=True)\n",
              "        (c): Conv2d(368, 368, kernel_size=(1, 1), stride=(1, 1), bias=False)\n",
              "        (c_bn): BatchNorm2d(368, eps=1e-05, momentum=0.1, affine=True, track_running_stats=True)\n",
              "      )\n",
              "      (relu): ReLU(inplace=True)\n",
              "    )\n",
              "    (b2): ResBottleneckBlock(\n",
              "      (f): BottleneckTransform(\n",
              "        (a): Conv2d(368, 368, kernel_size=(1, 1), stride=(1, 1), bias=False)\n",
              "        (a_bn): BatchNorm2d(368, eps=1e-05, momentum=0.1, affine=True, track_running_stats=True)\n",
              "        (a_relu): ReLU(inplace=True)\n",
              "        (b): Conv2d(368, 368, kernel_size=(3, 3), stride=(1, 1), padding=(1, 1), groups=46, bias=False)\n",
              "        (b_bn): BatchNorm2d(368, eps=1e-05, momentum=0.1, affine=True, track_running_stats=True)\n",
              "        (b_relu): ReLU(inplace=True)\n",
              "        (c): Conv2d(368, 368, kernel_size=(1, 1), stride=(1, 1), bias=False)\n",
              "        (c_bn): BatchNorm2d(368, eps=1e-05, momentum=0.1, affine=True, track_running_stats=True)\n",
              "      )\n",
              "      (relu): ReLU(inplace=True)\n",
              "    )\n",
              "    (b3): ResBottleneckBlock(\n",
              "      (f): BottleneckTransform(\n",
              "        (a): Conv2d(368, 368, kernel_size=(1, 1), stride=(1, 1), bias=False)\n",
              "        (a_bn): BatchNorm2d(368, eps=1e-05, momentum=0.1, affine=True, track_running_stats=True)\n",
              "        (a_relu): ReLU(inplace=True)\n",
              "        (b): Conv2d(368, 368, kernel_size=(3, 3), stride=(1, 1), padding=(1, 1), groups=46, bias=False)\n",
              "        (b_bn): BatchNorm2d(368, eps=1e-05, momentum=0.1, affine=True, track_running_stats=True)\n",
              "        (b_relu): ReLU(inplace=True)\n",
              "        (c): Conv2d(368, 368, kernel_size=(1, 1), stride=(1, 1), bias=False)\n",
              "        (c_bn): BatchNorm2d(368, eps=1e-05, momentum=0.1, affine=True, track_running_stats=True)\n",
              "      )\n",
              "      (relu): ReLU(inplace=True)\n",
              "    )\n",
              "    (b4): ResBottleneckBlock(\n",
              "      (f): BottleneckTransform(\n",
              "        (a): Conv2d(368, 368, kernel_size=(1, 1), stride=(1, 1), bias=False)\n",
              "        (a_bn): BatchNorm2d(368, eps=1e-05, momentum=0.1, affine=True, track_running_stats=True)\n",
              "        (a_relu): ReLU(inplace=True)\n",
              "        (b): Conv2d(368, 368, kernel_size=(3, 3), stride=(1, 1), padding=(1, 1), groups=46, bias=False)\n",
              "        (b_bn): BatchNorm2d(368, eps=1e-05, momentum=0.1, affine=True, track_running_stats=True)\n",
              "        (b_relu): ReLU(inplace=True)\n",
              "        (c): Conv2d(368, 368, kernel_size=(1, 1), stride=(1, 1), bias=False)\n",
              "        (c_bn): BatchNorm2d(368, eps=1e-05, momentum=0.1, affine=True, track_running_stats=True)\n",
              "      )\n",
              "      (relu): ReLU(inplace=True)\n",
              "    )\n",
              "    (b5): ResBottleneckBlock(\n",
              "      (f): BottleneckTransform(\n",
              "        (a): Conv2d(368, 368, kernel_size=(1, 1), stride=(1, 1), bias=False)\n",
              "        (a_bn): BatchNorm2d(368, eps=1e-05, momentum=0.1, affine=True, track_running_stats=True)\n",
              "        (a_relu): ReLU(inplace=True)\n",
              "        (b): Conv2d(368, 368, kernel_size=(3, 3), stride=(1, 1), padding=(1, 1), groups=46, bias=False)\n",
              "        (b_bn): BatchNorm2d(368, eps=1e-05, momentum=0.1, affine=True, track_running_stats=True)\n",
              "        (b_relu): ReLU(inplace=True)\n",
              "        (c): Conv2d(368, 368, kernel_size=(1, 1), stride=(1, 1), bias=False)\n",
              "        (c_bn): BatchNorm2d(368, eps=1e-05, momentum=0.1, affine=True, track_running_stats=True)\n",
              "      )\n",
              "      (relu): ReLU(inplace=True)\n",
              "    )\n",
              "    (b6): ResBottleneckBlock(\n",
              "      (f): BottleneckTransform(\n",
              "        (a): Conv2d(368, 368, kernel_size=(1, 1), stride=(1, 1), bias=False)\n",
              "        (a_bn): BatchNorm2d(368, eps=1e-05, momentum=0.1, affine=True, track_running_stats=True)\n",
              "        (a_relu): ReLU(inplace=True)\n",
              "        (b): Conv2d(368, 368, kernel_size=(3, 3), stride=(1, 1), padding=(1, 1), groups=46, bias=False)\n",
              "        (b_bn): BatchNorm2d(368, eps=1e-05, momentum=0.1, affine=True, track_running_stats=True)\n",
              "        (b_relu): ReLU(inplace=True)\n",
              "        (c): Conv2d(368, 368, kernel_size=(1, 1), stride=(1, 1), bias=False)\n",
              "        (c_bn): BatchNorm2d(368, eps=1e-05, momentum=0.1, affine=True, track_running_stats=True)\n",
              "      )\n",
              "      (relu): ReLU(inplace=True)\n",
              "    )\n",
              "    (b7): ResBottleneckBlock(\n",
              "      (f): BottleneckTransform(\n",
              "        (a): Conv2d(368, 368, kernel_size=(1, 1), stride=(1, 1), bias=False)\n",
              "        (a_bn): BatchNorm2d(368, eps=1e-05, momentum=0.1, affine=True, track_running_stats=True)\n",
              "        (a_relu): ReLU(inplace=True)\n",
              "        (b): Conv2d(368, 368, kernel_size=(3, 3), stride=(1, 1), padding=(1, 1), groups=46, bias=False)\n",
              "        (b_bn): BatchNorm2d(368, eps=1e-05, momentum=0.1, affine=True, track_running_stats=True)\n",
              "        (b_relu): ReLU(inplace=True)\n",
              "        (c): Conv2d(368, 368, kernel_size=(1, 1), stride=(1, 1), bias=False)\n",
              "        (c_bn): BatchNorm2d(368, eps=1e-05, momentum=0.1, affine=True, track_running_stats=True)\n",
              "      )\n",
              "      (relu): ReLU(inplace=True)\n",
              "    )\n",
              "  )\n",
              "  (head): AnyHead(\n",
              "    (avg_pool): AdaptiveAvgPool2d(output_size=(1, 1))\n",
              "    (fc): Linear(in_features=368, out_features=1000, bias=True)\n",
              "  )\n",
              ")"
            ]
          },
          "metadata": {},
          "execution_count": 5
        }
      ]
    },
    {
      "cell_type": "code",
      "source": [
        "import yaml\n",
        "\n",
        "fname = (\n",
        "    \"/content/\"\n",
        "    \"pycls/configs/dds_baselines/regnetx/RegNetX-200MF_dds_8gpu.yaml\"\n",
        ")\n",
        "stream = open(fname, 'r')\n",
        "data = yaml.load(stream, Loader=yaml.FullLoader)\n",
        "data"
      ],
      "metadata": {
        "id": "e59Osfkv6Shb",
        "outputId": "cba5118d-22b8-4935-bcfa-005fac223b16",
        "colab": {
          "base_uri": "https://localhost:8080/"
        }
      },
      "execution_count": 3,
      "outputs": [
        {
          "output_type": "execute_result",
          "data": {
            "text/plain": [
              "{'MODEL': {'TYPE': 'regnet', 'NUM_CLASSES': 1000},\n",
              " 'REGNET': {'DEPTH': 13, 'W0': 24, 'WA': 36.44, 'WM': 2.49, 'GROUP_W': 8},\n",
              " 'OPTIM': {'LR_POLICY': 'cos',\n",
              "  'BASE_LR': 0.8,\n",
              "  'MAX_EPOCH': 100,\n",
              "  'MOMENTUM': 0.9,\n",
              "  'WEIGHT_DECAY': '5e-5',\n",
              "  'WARMUP_EPOCHS': 5},\n",
              " 'TRAIN': {'DATASET': 'imagenet', 'IM_SIZE': 224, 'BATCH_SIZE': 1024},\n",
              " 'TEST': {'DATASET': 'imagenet', 'IM_SIZE': 256, 'BATCH_SIZE': 800},\n",
              " 'NUM_GPUS': 8,\n",
              " 'OUT_DIR': '.'}"
            ]
          },
          "metadata": {},
          "execution_count": 3
        }
      ]
    },
    {
      "cell_type": "code",
      "source": [
        "quit()"
      ],
      "metadata": {
        "id": "1nv6OMvoz1Fx"
      },
      "execution_count": null,
      "outputs": []
    },
    {
      "cell_type": "markdown",
      "source": [
        "#### **Framework**\n",
        "\n",
        "Можем использовать как фреймфорк, то есть загрузить репозиторий, поставить его и учить семейства моделей самостоятельно через API. "
      ],
      "metadata": {
        "id": "cIL8epUItil5"
      }
    },
    {
      "cell_type": "markdown",
      "source": [
        "##### **Install**"
      ],
      "metadata": {
        "id": "ENTBnxD00I1V"
      }
    },
    {
      "cell_type": "code",
      "execution_count": 2,
      "metadata": {
        "colab": {
          "base_uri": "https://localhost:8080/"
        },
        "id": "LoMxwcM_o-YB",
        "outputId": "efe4acd2-7fa5-407c-edc5-d638fb9a5cf7"
      },
      "outputs": [
        {
          "output_type": "stream",
          "name": "stdout",
          "text": [
            "Looking in indexes: https://pypi.org/simple, https://us-python.pkg.dev/colab-wheels/public/simple/\n",
            "Collecting black==19.3b0\n",
            "  Using cached black-19.3b0-py36-none-any.whl (89 kB)\n",
            "Collecting isort==4.3.21\n",
            "  Using cached isort-4.3.21-py2.py3-none-any.whl (42 kB)\n",
            "Collecting iopath\n",
            "  Using cached iopath-0.1.10.tar.gz (42 kB)\n",
            "Collecting fairscale\n",
            "  Using cached fairscale-0.4.6.tar.gz (248 kB)\n",
            "  Installing build dependencies: started\n",
            "  Installing build dependencies: finished with status 'done'\n",
            "  Getting requirements to build wheel: started\n",
            "  Getting requirements to build wheel: finished with status 'done'\n",
            "  Installing backend dependencies: started\n",
            "  Installing backend dependencies: finished with status 'done'\n",
            "    Preparing wheel metadata: started\n",
            "    Preparing wheel metadata: finished with status 'done'\n",
            "Collecting flake8\n",
            "  Downloading flake8-5.0.4-py2.py3-none-any.whl (61 kB)\n",
            "Requirement already satisfied: pyyaml in /usr/local/lib/python3.7/dist-packages (from -r requirements.txt (line 6)) (6.0)\n",
            "Requirement already satisfied: matplotlib in /usr/local/lib/python3.7/dist-packages (from -r requirements.txt (line 7)) (3.2.2)\n",
            "Requirement already satisfied: numpy in /usr/local/lib/python3.7/dist-packages (from -r requirements.txt (line 8)) (1.21.6)\n",
            "Requirement already satisfied: opencv-python in /usr/local/lib/python3.7/dist-packages (from -r requirements.txt (line 9)) (4.6.0.66)\n",
            "Collecting parameterized\n",
            "  Downloading parameterized-0.8.1-py2.py3-none-any.whl (26 kB)\n",
            "Requirement already satisfied: setuptools in /usr/local/lib/python3.7/dist-packages (from -r requirements.txt (line 11)) (57.4.0)\n",
            "Collecting simplejson\n",
            "  Downloading simplejson-3.17.6-cp37-cp37m-manylinux_2_5_x86_64.manylinux1_x86_64.manylinux_2_12_x86_64.manylinux2010_x86_64.whl (130 kB)\n",
            "Collecting submitit\n",
            "  Downloading submitit-1.4.5-py3-none-any.whl (73 kB)\n",
            "Collecting yacs\n",
            "  Downloading yacs-0.1.8-py3-none-any.whl (14 kB)\n",
            "Collecting yattag\n",
            "  Downloading yattag-1.14.0.tar.gz (26 kB)\n",
            "Requirement already satisfied: attrs>=18.1.0 in /usr/local/lib/python3.7/dist-packages (from black==19.3b0->-r requirements.txt (line 1)) (22.1.0)\n",
            "Requirement already satisfied: appdirs in /usr/local/lib/python3.7/dist-packages (from black==19.3b0->-r requirements.txt (line 1)) (1.4.4)\n",
            "Requirement already satisfied: click>=6.5 in /usr/local/lib/python3.7/dist-packages (from black==19.3b0->-r requirements.txt (line 1)) (7.1.2)\n",
            "Requirement already satisfied: toml>=0.9.4 in /usr/local/lib/python3.7/dist-packages (from black==19.3b0->-r requirements.txt (line 1)) (0.10.2)\n",
            "Requirement already satisfied: tqdm in /usr/local/lib/python3.7/dist-packages (from iopath->-r requirements.txt (line 3)) (4.64.1)\n",
            "Requirement already satisfied: typing_extensions in /usr/local/lib/python3.7/dist-packages (from iopath->-r requirements.txt (line 3)) (4.1.1)\n",
            "Collecting portalocker\n",
            "  Downloading portalocker-2.5.1-py2.py3-none-any.whl (15 kB)\n",
            "Requirement already satisfied: torch>=1.8.0 in /usr/local/lib/python3.7/dist-packages (from fairscale->-r requirements.txt (line 4)) (1.12.1+cu113)\n",
            "Collecting pyflakes<2.6.0,>=2.5.0\n",
            "  Downloading pyflakes-2.5.0-py2.py3-none-any.whl (66 kB)\n",
            "Collecting mccabe<0.8.0,>=0.7.0\n",
            "  Downloading mccabe-0.7.0-py2.py3-none-any.whl (7.3 kB)\n",
            "Collecting pycodestyle<2.10.0,>=2.9.0\n",
            "  Downloading pycodestyle-2.9.1-py2.py3-none-any.whl (41 kB)\n",
            "Collecting importlib-metadata<4.3,>=1.1.0\n",
            "  Downloading importlib_metadata-4.2.0-py3-none-any.whl (16 kB)\n",
            "Requirement already satisfied: zipp>=0.5 in /usr/local/lib/python3.7/dist-packages (from importlib-metadata<4.3,>=1.1.0->flake8->-r requirements.txt (line 5)) (3.8.1)\n",
            "Requirement already satisfied: python-dateutil>=2.1 in /usr/local/lib/python3.7/dist-packages (from matplotlib->-r requirements.txt (line 7)) (2.8.2)\n",
            "Requirement already satisfied: kiwisolver>=1.0.1 in /usr/local/lib/python3.7/dist-packages (from matplotlib->-r requirements.txt (line 7)) (1.4.4)\n",
            "Requirement already satisfied: pyparsing!=2.0.4,!=2.1.2,!=2.1.6,>=2.0.1 in /usr/local/lib/python3.7/dist-packages (from matplotlib->-r requirements.txt (line 7)) (3.0.9)\n",
            "Requirement already satisfied: cycler>=0.10 in /usr/local/lib/python3.7/dist-packages (from matplotlib->-r requirements.txt (line 7)) (0.11.0)\n",
            "Requirement already satisfied: six>=1.5 in /usr/local/lib/python3.7/dist-packages (from python-dateutil>=2.1->matplotlib->-r requirements.txt (line 7)) (1.15.0)\n",
            "Requirement already satisfied: cloudpickle>=1.2.1 in /usr/local/lib/python3.7/dist-packages (from submitit->-r requirements.txt (line 13)) (1.5.0)\n",
            "Building wheels for collected packages: iopath, fairscale, yattag\n",
            "  Building wheel for iopath (setup.py): started\n",
            "  Building wheel for iopath (setup.py): finished with status 'done'\n",
            "  Created wheel for iopath: filename=iopath-0.1.10-py3-none-any.whl size=31549 sha256=b8f91f73c4f1608300d0ca8f2e7d658c503c46969a41f28667d0366fe35ca1f5\n",
            "  Stored in directory: /root/.cache/pip/wheels/aa/cc/ed/ca4e88beef656b01c84b9185196513ef2faf74a5a379b043a7\n",
            "  Building wheel for fairscale (PEP 517): started\n",
            "  Building wheel for fairscale (PEP 517): finished with status 'done'\n",
            "  Created wheel for fairscale: filename=fairscale-0.4.6-py3-none-any.whl size=307252 sha256=d8d1a23a638ed6eb6f4bc6229ce6e557575d487eb1efe4fcbb54d346739bebbc\n",
            "  Stored in directory: /root/.cache/pip/wheels/4e/4f/0b/94c29ea06dfad93260cb0377855f87b7b863312317a7f69fe7\n",
            "  Building wheel for yattag (setup.py): started\n",
            "  Building wheel for yattag (setup.py): finished with status 'done'\n",
            "  Created wheel for yattag: filename=yattag-1.14.0-py3-none-any.whl size=15659 sha256=e4df33af093c8f3a2283eb5aca8994b690f50fd6275a66dece7f4fdb54890695\n",
            "  Stored in directory: /root/.cache/pip/wheels/4d/32/61/f205e276a280e24c3fca996bd956781b2a0fbad498161e53f4\n",
            "Successfully built iopath fairscale yattag\n",
            "Installing collected packages: pyflakes, pycodestyle, portalocker, mccabe, importlib-metadata, yattag, yacs, submitit, simplejson, parameterized, isort, iopath, flake8, fairscale, black\n",
            "  Attempting uninstall: importlib-metadata\n",
            "    Found existing installation: importlib-metadata 5.0.0\n",
            "    Uninstalling importlib-metadata-5.0.0:\n",
            "      Successfully uninstalled importlib-metadata-5.0.0\n",
            "Successfully installed black-19.3b0 fairscale-0.4.6 flake8-5.0.4 importlib-metadata-4.2.0 iopath-0.1.10 isort-4.3.21 mccabe-0.7.0 parameterized-0.8.1 portalocker-2.5.1 pycodestyle-2.9.1 pyflakes-2.5.0 simplejson-3.17.6 submitit-1.4.5 yacs-0.1.8 yattag-1.14.0\n",
            "running develop\n",
            "running egg_info\n",
            "creating pycls.egg-info\n",
            "writing pycls.egg-info/PKG-INFO\n",
            "writing dependency_links to pycls.egg-info/dependency_links.txt\n",
            "writing requirements to pycls.egg-info/requires.txt\n",
            "writing top-level names to pycls.egg-info/top_level.txt\n",
            "writing manifest file 'pycls.egg-info/SOURCES.txt'\n",
            "adding license file 'LICENSE'\n",
            "writing manifest file 'pycls.egg-info/SOURCES.txt'\n",
            "running build_ext\n",
            "Creating /root/.local/lib/python3.7/site-packages/pycls.egg-link (link to .)\n",
            "Adding pycls 0.1.1 to easy-install.pth file\n",
            "\n",
            "Installed /content/pycls\n",
            "Processing dependencies for pycls==0.1.1\n",
            "Searching for yacs==0.1.8\n",
            "Best match: yacs 0.1.8\n",
            "Adding yacs 0.1.8 to easy-install.pth file\n",
            "\n",
            "Using /usr/local/lib/python3.7/dist-packages\n",
            "Searching for simplejson==3.17.6\n",
            "Best match: simplejson 3.17.6\n",
            "Adding simplejson 3.17.6 to easy-install.pth file\n",
            "\n",
            "Using /usr/local/lib/python3.7/dist-packages\n",
            "Searching for opencv-python==4.6.0.66\n",
            "Best match: opencv-python 4.6.0.66\n",
            "Adding opencv-python 4.6.0.66 to easy-install.pth file\n",
            "\n",
            "Using /usr/local/lib/python3.7/dist-packages\n",
            "Searching for numpy==1.21.6\n",
            "Best match: numpy 1.21.6\n",
            "Adding numpy 1.21.6 to easy-install.pth file\n",
            "Installing f2py script to /root/.local/bin\n",
            "Installing f2py3 script to /root/.local/bin\n",
            "Installing f2py3.7 script to /root/.local/bin\n",
            "\n",
            "Using /usr/local/lib/python3.7/dist-packages\n",
            "Searching for PyYAML==6.0\n",
            "Best match: PyYAML 6.0\n",
            "Adding PyYAML 6.0 to easy-install.pth file\n",
            "\n",
            "Using /usr/local/lib/python3.7/dist-packages\n",
            "Finished processing dependencies for pycls==0.1.1\n"
          ]
        },
        {
          "output_type": "stream",
          "name": "stderr",
          "text": [
            "fatal: destination path 'pycls' already exists and is not an empty directory.\n",
            "ERROR: pip's dependency resolver does not currently take into account all the packages that are installed. This behaviour is the source of the following dependency conflicts.\n",
            "markdown 3.4.1 requires importlib-metadata>=4.4; python_version < \"3.10\", but you have importlib-metadata 4.2.0 which is incompatible.\n",
            "gym 0.25.2 requires importlib-metadata>=4.8.0; python_version < \"3.10\", but you have importlib-metadata 4.2.0 which is incompatible.\n"
          ]
        }
      ],
      "source": [
        "%%bash\n",
        "\n",
        "git clone https://github.com/facebookresearch/pycls\n",
        "cd pycls && \\\n",
        "  pip install -r requirements.txt && \\\n",
        "  chmod 744 ./tools/*.py && \\\n",
        "  python setup.py develop --user"
      ]
    },
    {
      "cell_type": "markdown",
      "source": [
        "##### **Data preparation**"
      ],
      "metadata": {
        "id": "MQ391JrE02yC"
      }
    },
    {
      "cell_type": "markdown",
      "source": [
        "cifar-10"
      ],
      "metadata": {
        "id": "dQ6Nbp2GzvWe"
      }
    },
    {
      "cell_type": "code",
      "source": [
        "import torch, torchvision\n",
        "\n",
        "_ = torchvision.datasets.CIFAR10(root='/content/cifar10', train=True, download=True)\n",
        "_ = torchvision.datasets.CIFAR10(root='/content/cifar10', train=False, download=True)"
      ],
      "metadata": {
        "colab": {
          "base_uri": "https://localhost:8080/",
          "height": 101,
          "referenced_widgets": [
            "5060f2ded25246898aad8f91694581e8",
            "2710dbd7b22245d8be5184af47040c62",
            "4d108cbbf4ef4a91b1b3e5a2fd4ad1cb",
            "fea0e56bb3814c548079c4714ee76a15",
            "0d74d50276e44166b6e6b9271a61855c",
            "62eaaff0da4f4da1b6df427ffb709ef2",
            "331ba2aaf5814392bab801254e57c59a",
            "6277166ae9864dbca7a3639f9d2012c4",
            "d0064f6276634481b9ac1ab0e9cc75ca",
            "1ac9c3ed5b0040d3830cf658636e7445",
            "0659f3e67292470bb862e9b4b99e5204"
          ]
        },
        "id": "kDq-iAWP18XB",
        "outputId": "98369e07-f45a-4f11-c3d2-6ac7a1c4009a"
      },
      "execution_count": null,
      "outputs": [
        {
          "output_type": "stream",
          "name": "stdout",
          "text": [
            "Downloading https://www.cs.toronto.edu/~kriz/cifar-10-python.tar.gz to /content/cifar10/cifar-10-python.tar.gz\n"
          ]
        },
        {
          "output_type": "display_data",
          "data": {
            "text/plain": [
              "  0%|          | 0/170498071 [00:00<?, ?it/s]"
            ],
            "application/vnd.jupyter.widget-view+json": {
              "version_major": 2,
              "version_minor": 0,
              "model_id": "5060f2ded25246898aad8f91694581e8"
            }
          },
          "metadata": {}
        },
        {
          "output_type": "stream",
          "name": "stdout",
          "text": [
            "Extracting /content/cifar10/cifar-10-python.tar.gz to /content/cifar10\n",
            "Files already downloaded and verified\n"
          ]
        }
      ]
    },
    {
      "cell_type": "code",
      "source": [
        "%%bash\n",
        "\n",
        "CUR_PATH=$(pwd)\n",
        "mkdir -p $CUR_PATH/pycls/pycls/datasets/data\n",
        "ln -sv /content/cifar10 $CUR_PATH/pycls/pycls/datasets/data/cifar10\n"
      ],
      "metadata": {
        "colab": {
          "base_uri": "https://localhost:8080/"
        },
        "id": "mqXrJd43043Y",
        "outputId": "d1d6a223-076c-4586-8b5f-e992a15b528a"
      },
      "execution_count": null,
      "outputs": [
        {
          "output_type": "stream",
          "name": "stdout",
          "text": [
            "'/content/pycls/pycls/datasets/data/cifar10' -> '/content/cifar10'\n"
          ]
        }
      ]
    },
    {
      "cell_type": "markdown",
      "source": [
        "val part imagenet-1k"
      ],
      "metadata": {
        "id": "kt4F0T9Pzxkt"
      }
    },
    {
      "cell_type": "code",
      "source": [
        "from google.colab import drive\n",
        "\n",
        "drive.mount('/content/drive/')\n"
      ],
      "metadata": {
        "colab": {
          "base_uri": "https://localhost:8080/"
        },
        "id": "e6RaWFqvXGhc",
        "outputId": "8d4e271f-ee83-4cdc-8586-e396dd06aad7"
      },
      "execution_count": null,
      "outputs": [
        {
          "output_type": "stream",
          "name": "stdout",
          "text": [
            "Mounted at /content/drive/\n"
          ]
        }
      ]
    },
    {
      "cell_type": "code",
      "source": [
        "%%bash\n",
        "\n",
        "mkdir -p /content/drive/MyDrive/imagenet/val\n",
        "tar -C /content/drive/MyDrive/imagenet/val -xvf /content/drive/MyDrive/imagenet/var_images.tar\n",
        "\n",
        "mkdir -p /content/pycls/pycls/datasets/data/imagenet\n",
        "ln -sv /content/drive/MyDrive/imagenet /content/pycls/pycls/datasets/data/imagenet\n",
        "\n",
        "mv /content/pycls/pycls/datasets/data/imagenet/imagenet/val /content/pycls/pycls/datasets/data/imagenet/val\n"
      ],
      "metadata": {
        "id": "4POYiKjyylYU"
      },
      "execution_count": null,
      "outputs": []
    },
    {
      "cell_type": "markdown",
      "source": [
        "##### **Usage**\n"
      ],
      "metadata": {
        "id": "NP2n3vtX0Ty6"
      }
    },
    {
      "cell_type": "markdown",
      "source": [
        "**Model Info**\n",
        "\n",
        "возьмем наименее затратную для обучения по времени модель и посмотрим ее архитектуру"
      ],
      "metadata": {
        "id": "ZxzqscgBCi5K"
      }
    },
    {
      "cell_type": "code",
      "source": [
        "%%bash \n",
        "\n",
        "cd /content/pycls/ && \\\n",
        "  tools/run_net.py --mode info \\\n",
        "    --cfg configs/dds_baselines/regnetx/RegNetX-200MF_dds_8gpu.yaml"
      ],
      "metadata": {
        "colab": {
          "base_uri": "https://localhost:8080/"
        },
        "id": "wWsjVaL6z5qT",
        "outputId": "385fa591-6f3c-4fb3-ca99-3e438c071140"
      },
      "execution_count": null,
      "outputs": [
        {
          "output_type": "stream",
          "name": "stdout",
          "text": [
            "RegNet(\n",
            "  (stem): SimpleStem(\n",
            "    (conv): Conv2d(3, 32, kernel_size=(3, 3), stride=(2, 2), padding=(1, 1), bias=False)\n",
            "    (bn): BatchNorm2d(32, eps=1e-05, momentum=0.1, affine=True, track_running_stats=True)\n",
            "    (af): ReLU(inplace=True)\n",
            "  )\n",
            "  (s1): AnyStage(\n",
            "    (b1): ResBottleneckBlock(\n",
            "      (proj): Conv2d(32, 24, kernel_size=(1, 1), stride=(2, 2), bias=False)\n",
            "      (bn): BatchNorm2d(24, eps=1e-05, momentum=0.1, affine=True, track_running_stats=True)\n",
            "      (f): BottleneckTransform(\n",
            "        (a): Conv2d(32, 24, kernel_size=(1, 1), stride=(1, 1), bias=False)\n",
            "        (a_bn): BatchNorm2d(24, eps=1e-05, momentum=0.1, affine=True, track_running_stats=True)\n",
            "        (a_af): ReLU(inplace=True)\n",
            "        (b): Conv2d(24, 24, kernel_size=(3, 3), stride=(2, 2), padding=(1, 1), groups=3, bias=False)\n",
            "        (b_bn): BatchNorm2d(24, eps=1e-05, momentum=0.1, affine=True, track_running_stats=True)\n",
            "        (b_af): ReLU(inplace=True)\n",
            "        (c): Conv2d(24, 24, kernel_size=(1, 1), stride=(1, 1), bias=False)\n",
            "        (c_bn): BatchNorm2d(24, eps=1e-05, momentum=0.1, affine=True, track_running_stats=True)\n",
            "      )\n",
            "      (af): ReLU(inplace=True)\n",
            "    )\n",
            "  )\n",
            "  (s2): AnyStage(\n",
            "    (b1): ResBottleneckBlock(\n",
            "      (proj): Conv2d(24, 56, kernel_size=(1, 1), stride=(2, 2), bias=False)\n",
            "      (bn): BatchNorm2d(56, eps=1e-05, momentum=0.1, affine=True, track_running_stats=True)\n",
            "      (f): BottleneckTransform(\n",
            "        (a): Conv2d(24, 56, kernel_size=(1, 1), stride=(1, 1), bias=False)\n",
            "        (a_bn): BatchNorm2d(56, eps=1e-05, momentum=0.1, affine=True, track_running_stats=True)\n",
            "        (a_af): ReLU(inplace=True)\n",
            "        (b): Conv2d(56, 56, kernel_size=(3, 3), stride=(2, 2), padding=(1, 1), groups=7, bias=False)\n",
            "        (b_bn): BatchNorm2d(56, eps=1e-05, momentum=0.1, affine=True, track_running_stats=True)\n",
            "        (b_af): ReLU(inplace=True)\n",
            "        (c): Conv2d(56, 56, kernel_size=(1, 1), stride=(1, 1), bias=False)\n",
            "        (c_bn): BatchNorm2d(56, eps=1e-05, momentum=0.1, affine=True, track_running_stats=True)\n",
            "      )\n",
            "      (af): ReLU(inplace=True)\n",
            "    )\n",
            "  )\n",
            "  (s3): AnyStage(\n",
            "    (b1): ResBottleneckBlock(\n",
            "      (proj): Conv2d(56, 152, kernel_size=(1, 1), stride=(2, 2), bias=False)\n",
            "      (bn): BatchNorm2d(152, eps=1e-05, momentum=0.1, affine=True, track_running_stats=True)\n",
            "      (f): BottleneckTransform(\n",
            "        (a): Conv2d(56, 152, kernel_size=(1, 1), stride=(1, 1), bias=False)\n",
            "        (a_bn): BatchNorm2d(152, eps=1e-05, momentum=0.1, affine=True, track_running_stats=True)\n",
            "        (a_af): ReLU(inplace=True)\n",
            "        (b): Conv2d(152, 152, kernel_size=(3, 3), stride=(2, 2), padding=(1, 1), groups=19, bias=False)\n",
            "        (b_bn): BatchNorm2d(152, eps=1e-05, momentum=0.1, affine=True, track_running_stats=True)\n",
            "        (b_af): ReLU(inplace=True)\n",
            "        (c): Conv2d(152, 152, kernel_size=(1, 1), stride=(1, 1), bias=False)\n",
            "        (c_bn): BatchNorm2d(152, eps=1e-05, momentum=0.1, affine=True, track_running_stats=True)\n",
            "      )\n",
            "      (af): ReLU(inplace=True)\n",
            "    )\n",
            "    (b2): ResBottleneckBlock(\n",
            "      (f): BottleneckTransform(\n",
            "        (a): Conv2d(152, 152, kernel_size=(1, 1), stride=(1, 1), bias=False)\n",
            "        (a_bn): BatchNorm2d(152, eps=1e-05, momentum=0.1, affine=True, track_running_stats=True)\n",
            "        (a_af): ReLU(inplace=True)\n",
            "        (b): Conv2d(152, 152, kernel_size=(3, 3), stride=(1, 1), padding=(1, 1), groups=19, bias=False)\n",
            "        (b_bn): BatchNorm2d(152, eps=1e-05, momentum=0.1, affine=True, track_running_stats=True)\n",
            "        (b_af): ReLU(inplace=True)\n",
            "        (c): Conv2d(152, 152, kernel_size=(1, 1), stride=(1, 1), bias=False)\n",
            "        (c_bn): BatchNorm2d(152, eps=1e-05, momentum=0.1, affine=True, track_running_stats=True)\n",
            "      )\n",
            "      (af): ReLU(inplace=True)\n",
            "    )\n",
            "    (b3): ResBottleneckBlock(\n",
            "      (f): BottleneckTransform(\n",
            "        (a): Conv2d(152, 152, kernel_size=(1, 1), stride=(1, 1), bias=False)\n",
            "        (a_bn): BatchNorm2d(152, eps=1e-05, momentum=0.1, affine=True, track_running_stats=True)\n",
            "        (a_af): ReLU(inplace=True)\n",
            "        (b): Conv2d(152, 152, kernel_size=(3, 3), stride=(1, 1), padding=(1, 1), groups=19, bias=False)\n",
            "        (b_bn): BatchNorm2d(152, eps=1e-05, momentum=0.1, affine=True, track_running_stats=True)\n",
            "        (b_af): ReLU(inplace=True)\n",
            "        (c): Conv2d(152, 152, kernel_size=(1, 1), stride=(1, 1), bias=False)\n",
            "        (c_bn): BatchNorm2d(152, eps=1e-05, momentum=0.1, affine=True, track_running_stats=True)\n",
            "      )\n",
            "      (af): ReLU(inplace=True)\n",
            "    )\n",
            "    (b4): ResBottleneckBlock(\n",
            "      (f): BottleneckTransform(\n",
            "        (a): Conv2d(152, 152, kernel_size=(1, 1), stride=(1, 1), bias=False)\n",
            "        (a_bn): BatchNorm2d(152, eps=1e-05, momentum=0.1, affine=True, track_running_stats=True)\n",
            "        (a_af): ReLU(inplace=True)\n",
            "        (b): Conv2d(152, 152, kernel_size=(3, 3), stride=(1, 1), padding=(1, 1), groups=19, bias=False)\n",
            "        (b_bn): BatchNorm2d(152, eps=1e-05, momentum=0.1, affine=True, track_running_stats=True)\n",
            "        (b_af): ReLU(inplace=True)\n",
            "        (c): Conv2d(152, 152, kernel_size=(1, 1), stride=(1, 1), bias=False)\n",
            "        (c_bn): BatchNorm2d(152, eps=1e-05, momentum=0.1, affine=True, track_running_stats=True)\n",
            "      )\n",
            "      (af): ReLU(inplace=True)\n",
            "    )\n",
            "  )\n",
            "  (s4): AnyStage(\n",
            "    (b1): ResBottleneckBlock(\n",
            "      (proj): Conv2d(152, 368, kernel_size=(1, 1), stride=(2, 2), bias=False)\n",
            "      (bn): BatchNorm2d(368, eps=1e-05, momentum=0.1, affine=True, track_running_stats=True)\n",
            "      (f): BottleneckTransform(\n",
            "        (a): Conv2d(152, 368, kernel_size=(1, 1), stride=(1, 1), bias=False)\n",
            "        (a_bn): BatchNorm2d(368, eps=1e-05, momentum=0.1, affine=True, track_running_stats=True)\n",
            "        (a_af): ReLU(inplace=True)\n",
            "        (b): Conv2d(368, 368, kernel_size=(3, 3), stride=(2, 2), padding=(1, 1), groups=46, bias=False)\n",
            "        (b_bn): BatchNorm2d(368, eps=1e-05, momentum=0.1, affine=True, track_running_stats=True)\n",
            "        (b_af): ReLU(inplace=True)\n",
            "        (c): Conv2d(368, 368, kernel_size=(1, 1), stride=(1, 1), bias=False)\n",
            "        (c_bn): BatchNorm2d(368, eps=1e-05, momentum=0.1, affine=True, track_running_stats=True)\n",
            "      )\n",
            "      (af): ReLU(inplace=True)\n",
            "    )\n",
            "    (b2): ResBottleneckBlock(\n",
            "      (f): BottleneckTransform(\n",
            "        (a): Conv2d(368, 368, kernel_size=(1, 1), stride=(1, 1), bias=False)\n",
            "        (a_bn): BatchNorm2d(368, eps=1e-05, momentum=0.1, affine=True, track_running_stats=True)\n",
            "        (a_af): ReLU(inplace=True)\n",
            "        (b): Conv2d(368, 368, kernel_size=(3, 3), stride=(1, 1), padding=(1, 1), groups=46, bias=False)\n",
            "        (b_bn): BatchNorm2d(368, eps=1e-05, momentum=0.1, affine=True, track_running_stats=True)\n",
            "        (b_af): ReLU(inplace=True)\n",
            "        (c): Conv2d(368, 368, kernel_size=(1, 1), stride=(1, 1), bias=False)\n",
            "        (c_bn): BatchNorm2d(368, eps=1e-05, momentum=0.1, affine=True, track_running_stats=True)\n",
            "      )\n",
            "      (af): ReLU(inplace=True)\n",
            "    )\n",
            "    (b3): ResBottleneckBlock(\n",
            "      (f): BottleneckTransform(\n",
            "        (a): Conv2d(368, 368, kernel_size=(1, 1), stride=(1, 1), bias=False)\n",
            "        (a_bn): BatchNorm2d(368, eps=1e-05, momentum=0.1, affine=True, track_running_stats=True)\n",
            "        (a_af): ReLU(inplace=True)\n",
            "        (b): Conv2d(368, 368, kernel_size=(3, 3), stride=(1, 1), padding=(1, 1), groups=46, bias=False)\n",
            "        (b_bn): BatchNorm2d(368, eps=1e-05, momentum=0.1, affine=True, track_running_stats=True)\n",
            "        (b_af): ReLU(inplace=True)\n",
            "        (c): Conv2d(368, 368, kernel_size=(1, 1), stride=(1, 1), bias=False)\n",
            "        (c_bn): BatchNorm2d(368, eps=1e-05, momentum=0.1, affine=True, track_running_stats=True)\n",
            "      )\n",
            "      (af): ReLU(inplace=True)\n",
            "    )\n",
            "    (b4): ResBottleneckBlock(\n",
            "      (f): BottleneckTransform(\n",
            "        (a): Conv2d(368, 368, kernel_size=(1, 1), stride=(1, 1), bias=False)\n",
            "        (a_bn): BatchNorm2d(368, eps=1e-05, momentum=0.1, affine=True, track_running_stats=True)\n",
            "        (a_af): ReLU(inplace=True)\n",
            "        (b): Conv2d(368, 368, kernel_size=(3, 3), stride=(1, 1), padding=(1, 1), groups=46, bias=False)\n",
            "        (b_bn): BatchNorm2d(368, eps=1e-05, momentum=0.1, affine=True, track_running_stats=True)\n",
            "        (b_af): ReLU(inplace=True)\n",
            "        (c): Conv2d(368, 368, kernel_size=(1, 1), stride=(1, 1), bias=False)\n",
            "        (c_bn): BatchNorm2d(368, eps=1e-05, momentum=0.1, affine=True, track_running_stats=True)\n",
            "      )\n",
            "      (af): ReLU(inplace=True)\n",
            "    )\n",
            "    (b5): ResBottleneckBlock(\n",
            "      (f): BottleneckTransform(\n",
            "        (a): Conv2d(368, 368, kernel_size=(1, 1), stride=(1, 1), bias=False)\n",
            "        (a_bn): BatchNorm2d(368, eps=1e-05, momentum=0.1, affine=True, track_running_stats=True)\n",
            "        (a_af): ReLU(inplace=True)\n",
            "        (b): Conv2d(368, 368, kernel_size=(3, 3), stride=(1, 1), padding=(1, 1), groups=46, bias=False)\n",
            "        (b_bn): BatchNorm2d(368, eps=1e-05, momentum=0.1, affine=True, track_running_stats=True)\n",
            "        (b_af): ReLU(inplace=True)\n",
            "        (c): Conv2d(368, 368, kernel_size=(1, 1), stride=(1, 1), bias=False)\n",
            "        (c_bn): BatchNorm2d(368, eps=1e-05, momentum=0.1, affine=True, track_running_stats=True)\n",
            "      )\n",
            "      (af): ReLU(inplace=True)\n",
            "    )\n",
            "    (b6): ResBottleneckBlock(\n",
            "      (f): BottleneckTransform(\n",
            "        (a): Conv2d(368, 368, kernel_size=(1, 1), stride=(1, 1), bias=False)\n",
            "        (a_bn): BatchNorm2d(368, eps=1e-05, momentum=0.1, affine=True, track_running_stats=True)\n",
            "        (a_af): ReLU(inplace=True)\n",
            "        (b): Conv2d(368, 368, kernel_size=(3, 3), stride=(1, 1), padding=(1, 1), groups=46, bias=False)\n",
            "        (b_bn): BatchNorm2d(368, eps=1e-05, momentum=0.1, affine=True, track_running_stats=True)\n",
            "        (b_af): ReLU(inplace=True)\n",
            "        (c): Conv2d(368, 368, kernel_size=(1, 1), stride=(1, 1), bias=False)\n",
            "        (c_bn): BatchNorm2d(368, eps=1e-05, momentum=0.1, affine=True, track_running_stats=True)\n",
            "      )\n",
            "      (af): ReLU(inplace=True)\n",
            "    )\n",
            "    (b7): ResBottleneckBlock(\n",
            "      (f): BottleneckTransform(\n",
            "        (a): Conv2d(368, 368, kernel_size=(1, 1), stride=(1, 1), bias=False)\n",
            "        (a_bn): BatchNorm2d(368, eps=1e-05, momentum=0.1, affine=True, track_running_stats=True)\n",
            "        (a_af): ReLU(inplace=True)\n",
            "        (b): Conv2d(368, 368, kernel_size=(3, 3), stride=(1, 1), padding=(1, 1), groups=46, bias=False)\n",
            "        (b_bn): BatchNorm2d(368, eps=1e-05, momentum=0.1, affine=True, track_running_stats=True)\n",
            "        (b_af): ReLU(inplace=True)\n",
            "        (c): Conv2d(368, 368, kernel_size=(1, 1), stride=(1, 1), bias=False)\n",
            "        (c_bn): BatchNorm2d(368, eps=1e-05, momentum=0.1, affine=True, track_running_stats=True)\n",
            "      )\n",
            "      (af): ReLU(inplace=True)\n",
            "    )\n",
            "  )\n",
            "  (head): AnyHead(\n",
            "    (avg_pool): AdaptiveAvgPool2d(output_size=(1, 1))\n",
            "    (fc): Linear(in_features=368, out_features=1000, bias=True)\n",
            "  )\n",
            ")\n",
            "complexity: {'flops': 199040872, 'params': 2684792, 'acts': 2164056}\n"
          ]
        }
      ]
    },
    {
      "cell_type": "markdown",
      "source": [
        "**Model evaluation**"
      ],
      "metadata": {
        "id": "OhFVNB1IC1al"
      }
    },
    {
      "cell_type": "code",
      "source": [
        "%%bash \n",
        "\n",
        "cd /content/pycls/ && \\\n",
        "    cp configs/dds_baselines/regnetx/RegNetX-200MF_dds_8gpu.yaml \\\n",
        "       configs/dds_baselines/regnetx/RegNetX-200MF_dds_1gpu.yaml"
      ],
      "metadata": {
        "id": "UMsYURa-DGOf"
      },
      "execution_count": null,
      "outputs": []
    },
    {
      "cell_type": "code",
      "source": [
        "!cat /content/pycls/configs/dds_baselines/regnetx/RegNetX-200MF_dds_1gpu.yaml"
      ],
      "metadata": {
        "colab": {
          "base_uri": "https://localhost:8080/"
        },
        "id": "K0VtIvpDDR4p",
        "outputId": "e61f6ded-4178-4131-ff80-511579993489"
      },
      "execution_count": null,
      "outputs": [
        {
          "output_type": "stream",
          "name": "stdout",
          "text": [
            "MODEL:\n",
            "  TYPE: regnet\n",
            "  NUM_CLASSES: 1000\n",
            "REGNET:\n",
            "  DEPTH: 13\n",
            "  W0: 24\n",
            "  WA: 36.44\n",
            "  WM: 2.49\n",
            "  GROUP_W: 8\n",
            "OPTIM:\n",
            "  LR_POLICY: cos\n",
            "  BASE_LR: 0.8\n",
            "  MAX_EPOCH: 100\n",
            "  MOMENTUM: 0.9\n",
            "  WEIGHT_DECAY: 5e-5\n",
            "  WARMUP_EPOCHS: 5\n",
            "TRAIN:\n",
            "  DATASET: imagenet\n",
            "  IM_SIZE: 224\n",
            "  BATCH_SIZE: 1024\n",
            "TEST:\n",
            "  DATASET: imagenet\n",
            "  IM_SIZE: 256\n",
            "  BATCH_SIZE: 800\n",
            "NUM_GPUS: 8\n",
            "OUT_DIR: .\n"
          ]
        }
      ]
    },
    {
      "cell_type": "code",
      "source": [
        "import yaml\n",
        "\n",
        "fname = (\n",
        "    \"/content/\"\n",
        "    \"pycls/configs/dds_baselines/regnetx/RegNetX-200MF_dds_1gpu.yaml\"\n",
        ")\n",
        "stream = open(fname, 'r')\n",
        "data = yaml.load(stream, Loader=yaml.FullLoader)\n",
        "\n",
        "data['MODEL']['NUM_CLASSES'] = 10\n",
        "data['TRAIN']['DATASET'] = \"cifar10\"\n",
        "data['TRAIN']['BATCH_SIZE'] = 16\n",
        "data['TEST']['DATASET'] = \"cifar10\"\n",
        "data['TEST']['BATCH_SIZE'] = 16\n",
        "data['TRAIN']['IM_SIZE'] = 32\n",
        "data['NUM_GPUS'] = 1\n",
        "\n",
        "with open(fname, 'w') as yaml_file:\n",
        "    yaml_file.write(yaml.dump(data, default_flow_style=False))\n"
      ],
      "metadata": {
        "id": "yggCQyqvDdSA"
      },
      "execution_count": null,
      "outputs": []
    },
    {
      "cell_type": "code",
      "source": [
        "!cat /content/pycls/configs/dds_baselines/regnetx/RegNetX-200MF_dds_1gpu.yaml"
      ],
      "metadata": {
        "colab": {
          "base_uri": "https://localhost:8080/"
        },
        "id": "ax2gTy4vFcBV",
        "outputId": "4364f30d-0fdf-4c5e-e0b3-55cc32f08835"
      },
      "execution_count": null,
      "outputs": [
        {
          "output_type": "stream",
          "name": "stdout",
          "text": [
            "MODEL:\n",
            "  NUM_CLASSES: 10\n",
            "  TYPE: regnet\n",
            "NUM_GPUS: 1\n",
            "OPTIM:\n",
            "  BASE_LR: 0.8\n",
            "  LR_POLICY: cos\n",
            "  MAX_EPOCH: 100\n",
            "  MOMENTUM: 0.9\n",
            "  WARMUP_EPOCHS: 5\n",
            "  WEIGHT_DECAY: 5e-5\n",
            "OUT_DIR: .\n",
            "REGNET:\n",
            "  DEPTH: 13\n",
            "  GROUP_W: 8\n",
            "  W0: 24\n",
            "  WA: 36.44\n",
            "  WM: 2.49\n",
            "TEST:\n",
            "  BATCH_SIZE: 16\n",
            "  DATASET: cifar10\n",
            "  IM_SIZE: 32\n",
            "TRAIN:\n",
            "  BATCH_SIZE: 16\n",
            "  DATASET: cifar10\n",
            "  IM_SIZE: 32\n"
          ]
        }
      ]
    },
    {
      "cell_type": "code",
      "source": [
        "%%bash \n",
        "\n",
        "/content/pycls/tools/run_net.py --mode train \\\n",
        "    --cfg /content/pycls/configs/dds_baselines/regnetx/RegNetX-200MF_dds_1gpu.yaml \\\n",
        "    TEST.WEIGHTS https://dl.fbaipublicfiles.com/pycls/dds_baselines/160905981/RegNetX-200MF_dds_8gpu.pyth \\\n",
        "    OUT_DIR /tmp\n"
      ],
      "metadata": {
        "colab": {
          "base_uri": "https://localhost:8080/"
        },
        "id": "jZuwqWX83wIr",
        "outputId": "b15c1110-3951-404d-af63-e9e5d45704f1"
      },
      "execution_count": null,
      "outputs": [
        {
          "output_type": "stream",
          "name": "stdout",
          "text": [
            "Process is terminated.\n"
          ]
        }
      ]
    },
    {
      "cell_type": "markdown",
      "source": [
        "Модели можно дообучать или учить с нуля. Результаты будут доступны в [виде](https://dl.fbaipublicfiles.com/pycls/sweeps/cifar/cifar_optim_analysis.html)."
      ],
      "metadata": {
        "id": "MTEdCZbZCVXl"
      }
    },
    {
      "cell_type": "code",
      "source": [],
      "metadata": {
        "id": "no6KX4WhCGdd"
      },
      "execution_count": null,
      "outputs": []
    }
  ]
}